{
 "cells": [
  {
   "cell_type": "code",
   "execution_count": 23,
   "metadata": {},
   "outputs": [],
   "source": [
    "# Created By Rupesh Basnet\n",
    "# Testing out some pre-existing resources for pre-processing the tweets for WITBragDay as a framework for other \n",
    "# past events\n",
    "# coding: utf-8"
   ]
  },
  {
   "cell_type": "code",
   "execution_count": 1,
   "metadata": {},
   "outputs": [],
   "source": [
    "import csv\n",
    "import nltk\n",
    "import pandas as pd"
   ]
  },
  {
   "cell_type": "code",
   "execution_count": 67,
   "metadata": {},
   "outputs": [],
   "source": [
    "data = pd.read_csv(\"WITBragDay.csv\", sep=',', error_bad_lines=False, index_col=False, dtype='unicode')"
   ]
  },
  {
   "cell_type": "code",
   "execution_count": 2,
   "metadata": {},
   "outputs": [
    {
     "ename": "NameError",
     "evalue": "name 'data' is not defined",
     "output_type": "error",
     "traceback": [
      "\u001b[0;31m---------------------------------------------------------------------------\u001b[0m",
      "\u001b[0;31mNameError\u001b[0m                                 Traceback (most recent call last)",
      "\u001b[0;32m<ipython-input-2-af4800c76adb>\u001b[0m in \u001b[0;36m<module>\u001b[0;34m()\u001b[0m\n\u001b[1;32m      1\u001b[0m \u001b[0;31m# Viewing the top 5 data\u001b[0m\u001b[0;34m\u001b[0m\u001b[0;34m\u001b[0m\u001b[0m\n\u001b[0;32m----> 2\u001b[0;31m \u001b[0mdata\u001b[0m\u001b[0;34m.\u001b[0m\u001b[0mhead\u001b[0m\u001b[0;34m(\u001b[0m\u001b[0;36m5\u001b[0m\u001b[0;34m)\u001b[0m\u001b[0;34m\u001b[0m\u001b[0m\n\u001b[0m\u001b[1;32m      3\u001b[0m \u001b[0mdata\u001b[0m\u001b[0;34m.\u001b[0m\u001b[0mcolumns\u001b[0m\u001b[0;34m\u001b[0m\u001b[0m\n",
      "\u001b[0;31mNameError\u001b[0m: name 'data' is not defined"
     ]
    }
   ],
   "source": [
    "# Viewing the top 5 data\n",
    "data.head(5)\n",
    "data.columns"
   ]
  },
  {
   "cell_type": "code",
   "execution_count": 69,
   "metadata": {},
   "outputs": [
    {
     "data": {
      "text/html": [
       "<div>\n",
       "<style scoped>\n",
       "    .dataframe tbody tr th:only-of-type {\n",
       "        vertical-align: middle;\n",
       "    }\n",
       "\n",
       "    .dataframe tbody tr th {\n",
       "        vertical-align: top;\n",
       "    }\n",
       "\n",
       "    .dataframe thead th {\n",
       "        text-align: right;\n",
       "    }\n",
       "</style>\n",
       "<table border=\"1\" class=\"dataframe\">\n",
       "  <thead>\n",
       "    <tr style=\"text-align: right;\">\n",
       "      <th></th>\n",
       "      <th>coordinates</th>\n",
       "      <th>created_at</th>\n",
       "      <th>hashtags</th>\n",
       "      <th>media</th>\n",
       "      <th>urls</th>\n",
       "      <th>favorite_count</th>\n",
       "      <th>id</th>\n",
       "      <th>in_reply_to_screen_name</th>\n",
       "      <th>in_reply_to_status_id</th>\n",
       "      <th>in_reply_to_user_id</th>\n",
       "      <th>...</th>\n",
       "      <th>user_followers_count</th>\n",
       "      <th>user_friends_count</th>\n",
       "      <th>user_listed_count</th>\n",
       "      <th>user_location</th>\n",
       "      <th>user_name</th>\n",
       "      <th>user_screen_name.1</th>\n",
       "      <th>user_statuses_count</th>\n",
       "      <th>user_time_zone</th>\n",
       "      <th>user_urls</th>\n",
       "      <th>user_verified</th>\n",
       "    </tr>\n",
       "  </thead>\n",
       "  <tbody>\n",
       "    <tr>\n",
       "      <th>0</th>\n",
       "      <td>NaN</td>\n",
       "      <td>Thu Aug 17 23:46:00 +0000 2017</td>\n",
       "      <td>WITBragDay</td>\n",
       "      <td>NaN</td>\n",
       "      <td>NaN</td>\n",
       "      <td>0</td>\n",
       "      <td>898330098876661760</td>\n",
       "      <td>NaN</td>\n",
       "      <td>NaN</td>\n",
       "      <td>NaN</td>\n",
       "      <td>...</td>\n",
       "      <td>5277</td>\n",
       "      <td>1006</td>\n",
       "      <td>509</td>\n",
       "      <td>San Francisco</td>\n",
       "      <td>Carina C. Zona</td>\n",
       "      <td>cczona</td>\n",
       "      <td>69411</td>\n",
       "      <td>NaN</td>\n",
       "      <td>http://patreon.com/cczona</td>\n",
       "      <td>false</td>\n",
       "    </tr>\n",
       "    <tr>\n",
       "      <th>1</th>\n",
       "      <td>NaN</td>\n",
       "      <td>Sun Aug 13 08:31:30 +0000 2017</td>\n",
       "      <td>NaN</td>\n",
       "      <td>NaN</td>\n",
       "      <td>NaN</td>\n",
       "      <td>0</td>\n",
       "      <td>896650407942008832</td>\n",
       "      <td>NaN</td>\n",
       "      <td>NaN</td>\n",
       "      <td>NaN</td>\n",
       "      <td>...</td>\n",
       "      <td>168</td>\n",
       "      <td>341</td>\n",
       "      <td>2</td>\n",
       "      <td>NaN</td>\n",
       "      <td>lowkey☠️</td>\n",
       "      <td>pahareya</td>\n",
       "      <td>12512</td>\n",
       "      <td>NaN</td>\n",
       "      <td>NaN</td>\n",
       "      <td>false</td>\n",
       "    </tr>\n",
       "    <tr>\n",
       "      <th>2</th>\n",
       "      <td>NaN</td>\n",
       "      <td>Thu Aug 17 22:12:33 +0000 2017</td>\n",
       "      <td>NaN</td>\n",
       "      <td>NaN</td>\n",
       "      <td>NaN</td>\n",
       "      <td>0</td>\n",
       "      <td>898306582819160064</td>\n",
       "      <td>NaN</td>\n",
       "      <td>NaN</td>\n",
       "      <td>NaN</td>\n",
       "      <td>...</td>\n",
       "      <td>296</td>\n",
       "      <td>740</td>\n",
       "      <td>7</td>\n",
       "      <td>London, England</td>\n",
       "      <td>ash</td>\n",
       "      <td>ashiesdollparts</td>\n",
       "      <td>18869</td>\n",
       "      <td>NaN</td>\n",
       "      <td>https://Instagram.com/ashiesdollparts</td>\n",
       "      <td>false</td>\n",
       "    </tr>\n",
       "    <tr>\n",
       "      <th>3</th>\n",
       "      <td>NaN</td>\n",
       "      <td>Thu Aug 17 23:23:29 +0000 2017</td>\n",
       "      <td>WITBragDay</td>\n",
       "      <td>NaN</td>\n",
       "      <td>NaN</td>\n",
       "      <td>0</td>\n",
       "      <td>898324433001103361</td>\n",
       "      <td>NaN</td>\n",
       "      <td>NaN</td>\n",
       "      <td>NaN</td>\n",
       "      <td>...</td>\n",
       "      <td>1499</td>\n",
       "      <td>607</td>\n",
       "      <td>83</td>\n",
       "      <td>NaN</td>\n",
       "      <td>Peter Barfuss 𒀱</td>\n",
       "      <td>bofh453</td>\n",
       "      <td>55620</td>\n",
       "      <td>NaN</td>\n",
       "      <td>NaN</td>\n",
       "      <td>false</td>\n",
       "    </tr>\n",
       "    <tr>\n",
       "      <th>4</th>\n",
       "      <td>NaN</td>\n",
       "      <td>Thu Aug 17 21:52:20 +0000 2017</td>\n",
       "      <td>NaN</td>\n",
       "      <td>NaN</td>\n",
       "      <td>NaN</td>\n",
       "      <td>0</td>\n",
       "      <td>898301492423081984</td>\n",
       "      <td>NaN</td>\n",
       "      <td>NaN</td>\n",
       "      <td>NaN</td>\n",
       "      <td>...</td>\n",
       "      <td>3331</td>\n",
       "      <td>1729</td>\n",
       "      <td>60</td>\n",
       "      <td>London, England</td>\n",
       "      <td>Kimberly M</td>\n",
       "      <td>kimpmurrell</td>\n",
       "      <td>7582</td>\n",
       "      <td>NaN</td>\n",
       "      <td>NaN</td>\n",
       "      <td>false</td>\n",
       "    </tr>\n",
       "  </tbody>\n",
       "</table>\n",
       "<p>5 rows × 34 columns</p>\n",
       "</div>"
      ],
      "text/plain": [
       "  coordinates                      created_at    hashtags media urls  \\\n",
       "0         NaN  Thu Aug 17 23:46:00 +0000 2017  WITBragDay   NaN  NaN   \n",
       "1         NaN  Sun Aug 13 08:31:30 +0000 2017         NaN   NaN  NaN   \n",
       "2         NaN  Thu Aug 17 22:12:33 +0000 2017         NaN   NaN  NaN   \n",
       "3         NaN  Thu Aug 17 23:23:29 +0000 2017  WITBragDay   NaN  NaN   \n",
       "4         NaN  Thu Aug 17 21:52:20 +0000 2017         NaN   NaN  NaN   \n",
       "\n",
       "  favorite_count                  id in_reply_to_screen_name  \\\n",
       "0              0  898330098876661760                     NaN   \n",
       "1              0  896650407942008832                     NaN   \n",
       "2              0  898306582819160064                     NaN   \n",
       "3              0  898324433001103361                     NaN   \n",
       "4              0  898301492423081984                     NaN   \n",
       "\n",
       "  in_reply_to_status_id in_reply_to_user_id      ...       \\\n",
       "0                   NaN                 NaN      ...        \n",
       "1                   NaN                 NaN      ...        \n",
       "2                   NaN                 NaN      ...        \n",
       "3                   NaN                 NaN      ...        \n",
       "4                   NaN                 NaN      ...        \n",
       "\n",
       "  user_followers_count user_friends_count user_listed_count    user_location  \\\n",
       "0                 5277               1006               509    San Francisco   \n",
       "1                  168                341                 2              NaN   \n",
       "2                  296                740                 7  London, England   \n",
       "3                 1499                607                83              NaN   \n",
       "4                 3331               1729                60  London, England   \n",
       "\n",
       "          user_name user_screen_name.1 user_statuses_count user_time_zone  \\\n",
       "0    Carina C. Zona             cczona               69411            NaN   \n",
       "1          lowkey☠️           pahareya               12512            NaN   \n",
       "2               ash    ashiesdollparts               18869            NaN   \n",
       "3  Peter Barfuss 𒀱            bofh453               55620            NaN   \n",
       "4        Kimberly M        kimpmurrell                7582            NaN   \n",
       "\n",
       "                               user_urls user_verified  \n",
       "0              http://patreon.com/cczona         false  \n",
       "1                                    NaN         false  \n",
       "2  https://Instagram.com/ashiesdollparts         false  \n",
       "3                                    NaN         false  \n",
       "4                                    NaN         false  \n",
       "\n",
       "[5 rows x 34 columns]"
      ]
     },
     "execution_count": 69,
     "metadata": {},
     "output_type": "execute_result"
    }
   ],
   "source": [
    "data.head(5)"
   ]
  },
  {
   "cell_type": "code",
   "execution_count": 70,
   "metadata": {},
   "outputs": [],
   "source": [
    "non_retweet = data[data['retweet_screen_name'].isnull()]"
   ]
  },
  {
   "cell_type": "code",
   "execution_count": 71,
   "metadata": {},
   "outputs": [
    {
     "data": {
      "text/plain": [
       "(4409, 34)"
      ]
     },
     "execution_count": 71,
     "metadata": {},
     "output_type": "execute_result"
    }
   ],
   "source": [
    "non_retweet.shape"
   ]
  },
  {
   "cell_type": "code",
   "execution_count": 72,
   "metadata": {},
   "outputs": [
    {
     "data": {
      "text/plain": [
       "(29512, 34)"
      ]
     },
     "execution_count": 72,
     "metadata": {},
     "output_type": "execute_result"
    }
   ],
   "source": [
    "data.shape\n",
    "# It looks like alot of the tweets were retweets which would distort the data"
   ]
  },
  {
   "cell_type": "code",
   "execution_count": 73,
   "metadata": {},
   "outputs": [],
   "source": [
    "clean_data = non_retweet.filter(items = [\"created_at\",\"hashtags\",\"text\",\"favorite_count\",\"lang\",\"place\",\"geo\",\"user_location\",\"retweet_count\", \"retweet_screen_name\"])"
   ]
  },
  {
   "cell_type": "code",
   "execution_count": 74,
   "metadata": {},
   "outputs": [
    {
     "data": {
      "text/html": [
       "<div>\n",
       "<style scoped>\n",
       "    .dataframe tbody tr th:only-of-type {\n",
       "        vertical-align: middle;\n",
       "    }\n",
       "\n",
       "    .dataframe tbody tr th {\n",
       "        vertical-align: top;\n",
       "    }\n",
       "\n",
       "    .dataframe thead th {\n",
       "        text-align: right;\n",
       "    }\n",
       "</style>\n",
       "<table border=\"1\" class=\"dataframe\">\n",
       "  <thead>\n",
       "    <tr style=\"text-align: right;\">\n",
       "      <th></th>\n",
       "      <th>created_at</th>\n",
       "      <th>hashtags</th>\n",
       "      <th>text</th>\n",
       "      <th>favorite_count</th>\n",
       "      <th>lang</th>\n",
       "      <th>place</th>\n",
       "      <th>user_location</th>\n",
       "      <th>retweet_count</th>\n",
       "      <th>retweet_screen_name</th>\n",
       "    </tr>\n",
       "  </thead>\n",
       "  <tbody>\n",
       "    <tr>\n",
       "      <th>8</th>\n",
       "      <td>Sun Aug 13 08:32:29 +0000 2017</td>\n",
       "      <td>women WITBragDay</td>\n",
       "      <td>3 degrees in building industry and they reject...</td>\n",
       "      <td>9</td>\n",
       "      <td>en</td>\n",
       "      <td>NaN</td>\n",
       "      <td>Wroclaw, Poland</td>\n",
       "      <td>2</td>\n",
       "      <td>NaN</td>\n",
       "    </tr>\n",
       "    <tr>\n",
       "      <th>13</th>\n",
       "      <td>Thu Aug 17 23:34:25 +0000 2017</td>\n",
       "      <td>WITBragDay</td>\n",
       "      <td>@azimman @LaunchDarkly sounds like you should ...</td>\n",
       "      <td>1</td>\n",
       "      <td>en</td>\n",
       "      <td>NaN</td>\n",
       "      <td>/usr/local/sin</td>\n",
       "      <td>0</td>\n",
       "      <td>NaN</td>\n",
       "    </tr>\n",
       "    <tr>\n",
       "      <th>16</th>\n",
       "      <td>Thu Aug 17 22:15:48 +0000 2017</td>\n",
       "      <td>WITBragDay</td>\n",
       "      <td>My coding knowledge makes a difference and imp...</td>\n",
       "      <td>6</td>\n",
       "      <td>en</td>\n",
       "      <td>NaN</td>\n",
       "      <td>Zionsville, IN</td>\n",
       "      <td>2</td>\n",
       "      <td>NaN</td>\n",
       "    </tr>\n",
       "    <tr>\n",
       "      <th>44</th>\n",
       "      <td>Thu Aug 17 23:25:01 +0000 2017</td>\n",
       "      <td>WITBragDay</td>\n",
       "      <td>Built a ECS JSON-generating container definiti...</td>\n",
       "      <td>3</td>\n",
       "      <td>en</td>\n",
       "      <td>NaN</td>\n",
       "      <td>Wellington, New Zealand</td>\n",
       "      <td>2</td>\n",
       "      <td>NaN</td>\n",
       "    </tr>\n",
       "    <tr>\n",
       "      <th>46</th>\n",
       "      <td>Thu Aug 17 23:22:06 +0000 2017</td>\n",
       "      <td>WITBragDay</td>\n",
       "      <td>Recruiters should definitely be scrolling thro...</td>\n",
       "      <td>203</td>\n",
       "      <td>en</td>\n",
       "      <td>NaN</td>\n",
       "      <td>/usr/local/sin</td>\n",
       "      <td>76</td>\n",
       "      <td>NaN</td>\n",
       "    </tr>\n",
       "  </tbody>\n",
       "</table>\n",
       "</div>"
      ],
      "text/plain": [
       "                        created_at          hashtags  \\\n",
       "8   Sun Aug 13 08:32:29 +0000 2017  women WITBragDay   \n",
       "13  Thu Aug 17 23:34:25 +0000 2017        WITBragDay   \n",
       "16  Thu Aug 17 22:15:48 +0000 2017        WITBragDay   \n",
       "44  Thu Aug 17 23:25:01 +0000 2017        WITBragDay   \n",
       "46  Thu Aug 17 23:22:06 +0000 2017        WITBragDay   \n",
       "\n",
       "                                                 text favorite_count lang  \\\n",
       "8   3 degrees in building industry and they reject...              9   en   \n",
       "13  @azimman @LaunchDarkly sounds like you should ...              1   en   \n",
       "16  My coding knowledge makes a difference and imp...              6   en   \n",
       "44  Built a ECS JSON-generating container definiti...              3   en   \n",
       "46  Recruiters should definitely be scrolling thro...            203   en   \n",
       "\n",
       "   place             user_location retweet_count retweet_screen_name  \n",
       "8    NaN           Wroclaw, Poland             2                 NaN  \n",
       "13   NaN            /usr/local/sin             0                 NaN  \n",
       "16   NaN            Zionsville, IN             2                 NaN  \n",
       "44   NaN  Wellington, New Zealand              2                 NaN  \n",
       "46   NaN            /usr/local/sin            76                 NaN  "
      ]
     },
     "execution_count": 74,
     "metadata": {},
     "output_type": "execute_result"
    }
   ],
   "source": [
    "clean_data.head(5)"
   ]
  },
  {
   "cell_type": "code",
   "execution_count": 51,
   "metadata": {},
   "outputs": [],
   "source": [
    "df = clean_data"
   ]
  },
  {
   "cell_type": "code",
   "execution_count": 52,
   "metadata": {},
   "outputs": [
    {
     "data": {
      "text/plain": [
       "Index([u'created_at', u'hashtags', u'text', u'favorite_count', u'lang', u'place', u'user_location', u'retweet_count', u'retweet_screen_name'], dtype='object')"
      ]
     },
     "execution_count": 52,
     "metadata": {},
     "output_type": "execute_result"
    }
   ],
   "source": [
    "df.columns"
   ]
  },
  {
   "cell_type": "code",
   "execution_count": 53,
   "metadata": {},
   "outputs": [
    {
     "data": {
      "text/plain": [
       "created_at             object\n",
       "hashtags               object\n",
       "text                   object\n",
       "favorite_count         object\n",
       "lang                   object\n",
       "place                  object\n",
       "user_location          object\n",
       "retweet_count          object\n",
       "retweet_screen_name    object\n",
       "dtype: object"
      ]
     },
     "execution_count": 53,
     "metadata": {},
     "output_type": "execute_result"
    }
   ],
   "source": [
    "df.dtypes"
   ]
  },
  {
   "cell_type": "code",
   "execution_count": 54,
   "metadata": {},
   "outputs": [],
   "source": [
    "# We will have to convert the object created_at into a datetime for now\n",
    "test = pd.to_datetime('Thu Aug 17 23:46:00 +0000 2017', format='%a %b %d %H:%M:%S +0000 %Y')\n",
    "# Still kept the original created_at date for later modification\n",
    "df['date'] = pd.to_datetime(df['created_at'], format='%a %b %d %H:%M:%S +0000 %Y')"
   ]
  },
  {
   "cell_type": "code",
   "execution_count": 55,
   "metadata": {},
   "outputs": [
    {
     "data": {
      "text/plain": [
       "created_at                     object\n",
       "hashtags                       object\n",
       "text                           object\n",
       "favorite_count                 object\n",
       "lang                           object\n",
       "place                          object\n",
       "user_location                  object\n",
       "retweet_count                  object\n",
       "retweet_screen_name            object\n",
       "date                   datetime64[ns]\n",
       "dtype: object"
      ]
     },
     "execution_count": 55,
     "metadata": {},
     "output_type": "execute_result"
    }
   ],
   "source": [
    "df.dtypes"
   ]
  },
  {
   "cell_type": "code",
   "execution_count": null,
   "metadata": {},
   "outputs": [],
   "source": []
  },
  {
   "cell_type": "code",
   "execution_count": 56,
   "metadata": {},
   "outputs": [],
   "source": [
    "pd.set_option('display.height', 1000)\n",
    "pd.set_option('display.max_rows', 500)\n",
    "pd.set_option('display.max_columns', 500)\n",
    "pd.set_option('display.width', 1000)"
   ]
  },
  {
   "cell_type": "code",
   "execution_count": 57,
   "metadata": {},
   "outputs": [
    {
     "data": {
      "text/html": [
       "<div>\n",
       "<style scoped>\n",
       "    .dataframe tbody tr th:only-of-type {\n",
       "        vertical-align: middle;\n",
       "    }\n",
       "\n",
       "    .dataframe tbody tr th {\n",
       "        vertical-align: top;\n",
       "    }\n",
       "\n",
       "    .dataframe thead th {\n",
       "        text-align: right;\n",
       "    }\n",
       "</style>\n",
       "<table border=\"1\" class=\"dataframe\">\n",
       "  <thead>\n",
       "    <tr style=\"text-align: right;\">\n",
       "      <th></th>\n",
       "      <th>created_at</th>\n",
       "      <th>hashtags</th>\n",
       "      <th>text</th>\n",
       "      <th>favorite_count</th>\n",
       "      <th>lang</th>\n",
       "      <th>place</th>\n",
       "      <th>user_location</th>\n",
       "      <th>retweet_count</th>\n",
       "      <th>retweet_screen_name</th>\n",
       "      <th>date</th>\n",
       "    </tr>\n",
       "  </thead>\n",
       "  <tbody>\n",
       "    <tr>\n",
       "      <th>8</th>\n",
       "      <td>Sun Aug 13 08:32:29 +0000 2017</td>\n",
       "      <td>women WITBragDay</td>\n",
       "      <td>3 degrees in building industry and they reject...</td>\n",
       "      <td>9</td>\n",
       "      <td>en</td>\n",
       "      <td>NaN</td>\n",
       "      <td>Wroclaw, Poland</td>\n",
       "      <td>2</td>\n",
       "      <td>NaN</td>\n",
       "      <td>2017-08-13 08:32:29</td>\n",
       "    </tr>\n",
       "    <tr>\n",
       "      <th>13</th>\n",
       "      <td>Thu Aug 17 23:34:25 +0000 2017</td>\n",
       "      <td>WITBragDay</td>\n",
       "      <td>@azimman @LaunchDarkly sounds like you should ...</td>\n",
       "      <td>1</td>\n",
       "      <td>en</td>\n",
       "      <td>NaN</td>\n",
       "      <td>/usr/local/sin</td>\n",
       "      <td>0</td>\n",
       "      <td>NaN</td>\n",
       "      <td>2017-08-17 23:34:25</td>\n",
       "    </tr>\n",
       "    <tr>\n",
       "      <th>16</th>\n",
       "      <td>Thu Aug 17 22:15:48 +0000 2017</td>\n",
       "      <td>WITBragDay</td>\n",
       "      <td>My coding knowledge makes a difference and imp...</td>\n",
       "      <td>6</td>\n",
       "      <td>en</td>\n",
       "      <td>NaN</td>\n",
       "      <td>Zionsville, IN</td>\n",
       "      <td>2</td>\n",
       "      <td>NaN</td>\n",
       "      <td>2017-08-17 22:15:48</td>\n",
       "    </tr>\n",
       "    <tr>\n",
       "      <th>44</th>\n",
       "      <td>Thu Aug 17 23:25:01 +0000 2017</td>\n",
       "      <td>WITBragDay</td>\n",
       "      <td>Built a ECS JSON-generating container definiti...</td>\n",
       "      <td>3</td>\n",
       "      <td>en</td>\n",
       "      <td>NaN</td>\n",
       "      <td>Wellington, New Zealand</td>\n",
       "      <td>2</td>\n",
       "      <td>NaN</td>\n",
       "      <td>2017-08-17 23:25:01</td>\n",
       "    </tr>\n",
       "    <tr>\n",
       "      <th>46</th>\n",
       "      <td>Thu Aug 17 23:22:06 +0000 2017</td>\n",
       "      <td>WITBragDay</td>\n",
       "      <td>Recruiters should definitely be scrolling thro...</td>\n",
       "      <td>203</td>\n",
       "      <td>en</td>\n",
       "      <td>NaN</td>\n",
       "      <td>/usr/local/sin</td>\n",
       "      <td>76</td>\n",
       "      <td>NaN</td>\n",
       "      <td>2017-08-17 23:22:06</td>\n",
       "    </tr>\n",
       "  </tbody>\n",
       "</table>\n",
       "</div>"
      ],
      "text/plain": [
       "                        created_at          hashtags                                               text favorite_count lang place             user_location retweet_count retweet_screen_name                date\n",
       "8   Sun Aug 13 08:32:29 +0000 2017  women WITBragDay  3 degrees in building industry and they reject...              9   en   NaN           Wroclaw, Poland             2                 NaN 2017-08-13 08:32:29\n",
       "13  Thu Aug 17 23:34:25 +0000 2017        WITBragDay  @azimman @LaunchDarkly sounds like you should ...              1   en   NaN            /usr/local/sin             0                 NaN 2017-08-17 23:34:25\n",
       "16  Thu Aug 17 22:15:48 +0000 2017        WITBragDay  My coding knowledge makes a difference and imp...              6   en   NaN            Zionsville, IN             2                 NaN 2017-08-17 22:15:48\n",
       "44  Thu Aug 17 23:25:01 +0000 2017        WITBragDay  Built a ECS JSON-generating container definiti...              3   en   NaN  Wellington, New Zealand              2                 NaN 2017-08-17 23:25:01\n",
       "46  Thu Aug 17 23:22:06 +0000 2017        WITBragDay  Recruiters should definitely be scrolling thro...            203   en   NaN            /usr/local/sin            76                 NaN 2017-08-17 23:22:06"
      ]
     },
     "execution_count": 57,
     "metadata": {},
     "output_type": "execute_result"
    }
   ],
   "source": [
    "df.head(5)"
   ]
  },
  {
   "cell_type": "code",
   "execution_count": 6,
   "metadata": {},
   "outputs": [],
   "source": [
    "# Changing the settings of pd to view all the tweet's text\n",
    "pd.set_option('display.max_colwidth', -1)"
   ]
  },
  {
   "cell_type": "code",
   "execution_count": 59,
   "metadata": {},
   "outputs": [
    {
     "data": {
      "text/plain": [
       "8     3 degrees in building industry and they rejected me because #women. IT industry welcomed me with open arms. Not a single regret #WITBragDay\n",
       "13    @azimman @LaunchDarkly sounds like you should look at the #WITBragDay tag :P                                                               \n",
       "16    My coding knowledge makes a difference and improves the lives of my coworkers and our customers. And it's the coolest feeling. #WITBragDay \n",
       "44    Built a ECS JSON-generating container definition module entirely in Terraform, because why would you not. #WITBragDay                      \n",
       "46    Recruiters should definitely be scrolling through #WITBragDay for their lists. Tons of awesome talent in there.                            \n",
       "Name: text, dtype: object"
      ]
     },
     "execution_count": 59,
     "metadata": {},
     "output_type": "execute_result"
    }
   ],
   "source": [
    "df.head(5).text"
   ]
  },
  {
   "cell_type": "code",
   "execution_count": 60,
   "metadata": {},
   "outputs": [],
   "source": [
    "df.to_csv('WITBrag_Clean_Noretweets.csv')"
   ]
  },
  {
   "cell_type": "code",
   "execution_count": 3,
   "metadata": {},
   "outputs": [],
   "source": [
    "df = pd.read_csv(\"WITBrag_Clean_Noretweets.csv\")"
   ]
  },
  {
   "cell_type": "code",
   "execution_count": 4,
   "metadata": {},
   "outputs": [
    {
     "data": {
      "text/plain": [
       "['RT',\n",
       " '@',\n",
       " 'alicegoldfuss',\n",
       " ':',\n",
       " 'So',\n",
       " 'happy',\n",
       " 'to',\n",
       " 'hear',\n",
       " 'women',\n",
       " 'getting',\n",
       " 'recruiter',\n",
       " 'pings',\n",
       " 'after',\n",
       " '#',\n",
       " 'WITBragDay',\n",
       " ':',\n",
       " 'D']"
      ]
     },
     "execution_count": 4,
     "metadata": {},
     "output_type": "execute_result"
    }
   ],
   "source": [
    "#testing tokenization\n",
    "from nltk.tokenize import word_tokenize\n",
    "test_tweet = 'RT @alicegoldfuss: So happy to hear women getting recruiter pings after #WITBragDay :D'\n",
    "word_tokenize(test_tweet)\n",
    "# Note is punkt is not installed just use the terminal to download it "
   ]
  },
  {
   "cell_type": "code",
   "execution_count": 5,
   "metadata": {},
   "outputs": [
    {
     "name": "stdout",
     "output_type": "stream",
     "text": [
      "[u'RT', u'@alicegoldfuss', u':', u'So', u'happy', u'to', u'hear', u'women', u'getting', u'recruiter', u'pings', u'after', u'#WITBragDay', u':D']\n"
     ]
    }
   ],
   "source": [
    "# Emojis and mentions and hashtags are being tokenized\n",
    "# Taken from a blog https://marcobonzanini.com/2015/03/09/mining-twitter-data-with-python-part-2/\n",
    "import re\n",
    "\n",
    "emoticons_str = r\"\"\"\n",
    "    (?:\n",
    "        [:=;] # Eyes\n",
    "        [oO\\-]? # Nose (optional)\n",
    "        [D\\)\\]\\(\\]/\\\\OpP] # Mouth\n",
    "    )\"\"\"\n",
    " \n",
    "regex_str = [\n",
    "    emoticons_str,\n",
    "    r'<[^>]+>', # HTML tags\n",
    "    r'(?:@[\\w_]+)', # @-mentions\n",
    "    r\"(?:\\#+[\\w_]+[\\w\\'_\\-]*[\\w_]+)\", # hash-tags\n",
    "    r'http[s]?://(?:[a-z]|[0-9]|[$-_@.&amp;+]|[!*\\(\\),]|(?:%[0-9a-f][0-9a-f]))+', # URLs\n",
    " \n",
    "    r'(?:(?:\\d+,?)+(?:\\.?\\d+)?)', # numbers\n",
    "    r\"(?:[a-z][a-z'\\-_]+[a-z])\", # words with - and '\n",
    "    r'(?:[\\w_]+)', # other words\n",
    "    r'(?:\\S)' # anything else\n",
    "]\n",
    "    \n",
    "tokens_re = re.compile(r'('+'|'.join(regex_str)+')', re.VERBOSE | re.IGNORECASE)\n",
    "emoticon_re = re.compile(r'^'+emoticons_str+'$', re.VERBOSE | re.IGNORECASE)\n",
    "\n",
    "def remove_emoji(data):\n",
    "    if not data:\n",
    "        return data\n",
    "    if not isinstance(data, basestring):\n",
    "        return data\n",
    "    try:\n",
    "    # UCS-4\n",
    "        patt = re.compile(u'([\\U00002600-\\U000027BF])|([\\U0001f300-\\U0001f64F])|([\\U0001f680-\\U0001f6FF])')\n",
    "    except re.error:\n",
    "    # UCS-2\n",
    "        patt = re.compile(u'([\\u2600-\\u27BF])|([\\uD83C][\\uDF00-\\uDFFF])|([\\uD83D][\\uDC00-\\uDE4F])|([\\uD83D][\\uDE80-\\uDEFF])')\n",
    "    return patt.sub('', data)\n",
    " \n",
    "def tokenize(s):\n",
    "    return tokens_re.findall(s)\n",
    " \n",
    "def preprocess(s, lowercase=False):\n",
    "    s = s.decode('unicode-escape').encode('latin1').decode('utf8')\n",
    "    data = remove_emoji(s)\n",
    "    tokens = tokenize(data)\n",
    "    if lowercase:\n",
    "        tokens = [token if emoticon_re.search(token) else token.lower() for token in tokens]\n",
    "    return tokens\n",
    "\n",
    "test_tweet = 'RT @alicegoldfuss: So happy to hear women getting recruiter pings after #WITBragDay :D'\n",
    "print (preprocess(test_tweet))"
   ]
  },
  {
   "cell_type": "code",
   "execution_count": 6,
   "metadata": {},
   "outputs": [],
   "source": [
    "test = df.head(20).text"
   ]
  },
  {
   "cell_type": "code",
   "execution_count": 7,
   "metadata": {},
   "outputs": [
    {
     "data": {
      "text/plain": [
       "'\\xf0\\x9f\\x91\\x8d\\xf0\\x9f\\x8f\\xbb\\nRT @matthewbretten: @ColetteWeston @drjessicabarker Definitely a #WITBragDay'"
      ]
     },
     "execution_count": 7,
     "metadata": {},
     "output_type": "execute_result"
    }
   ],
   "source": [
    "test[7]"
   ]
  },
  {
   "cell_type": "code",
   "execution_count": 8,
   "metadata": {},
   "outputs": [
    {
     "data": {
      "text/plain": [
       "[u'RT',\n",
       " u'@matthewbretten',\n",
       " u':',\n",
       " u'@ColetteWeston',\n",
       " u'@drjessicabarker',\n",
       " u'Definitely',\n",
       " u'a',\n",
       " u'#WITBragDay']"
      ]
     },
     "execution_count": 8,
     "metadata": {},
     "output_type": "execute_result"
    }
   ],
   "source": [
    "preprocess(test[7])"
   ]
  },
  {
   "cell_type": "code",
   "execution_count": 9,
   "metadata": {},
   "outputs": [],
   "source": [
    "# Removing all stop words\n",
    "from nltk.corpus import stopwords\n",
    "import string\n",
    "\n",
    "punctuation = list(string.punctuation)\n",
    "stop = stopwords.words('english') + punctuation + ['rt', 'via']"
   ]
  },
  {
   "cell_type": "code",
   "execution_count": 10,
   "metadata": {},
   "outputs": [],
   "source": [
    "import operator \n",
    "from collections import Counter\n",
    "\n",
    "terms_all = [term for term in preprocess('RT @alicegoldfuss: So happy to hear women getting recruiter pings after #WITBragDay :D')]\n",
    "terms_stop = [term for term in preprocess('RT @alicegoldfuss: So happy to hear women getting recruiter pings after #WITBragDay :D') if term not in stop]"
   ]
  },
  {
   "cell_type": "code",
   "execution_count": 11,
   "metadata": {},
   "outputs": [
    {
     "data": {
      "text/plain": [
       "[u'RT',\n",
       " u'@alicegoldfuss',\n",
       " u':',\n",
       " u'So',\n",
       " u'happy',\n",
       " u'to',\n",
       " u'hear',\n",
       " u'women',\n",
       " u'getting',\n",
       " u'recruiter',\n",
       " u'pings',\n",
       " u'after',\n",
       " u'#WITBragDay',\n",
       " u':D']"
      ]
     },
     "execution_count": 11,
     "metadata": {},
     "output_type": "execute_result"
    }
   ],
   "source": [
    "terms_all"
   ]
  },
  {
   "cell_type": "code",
   "execution_count": 12,
   "metadata": {},
   "outputs": [
    {
     "data": {
      "text/plain": [
       "[u'RT',\n",
       " u'@alicegoldfuss',\n",
       " u'So',\n",
       " u'happy',\n",
       " u'hear',\n",
       " u'women',\n",
       " u'getting',\n",
       " u'recruiter',\n",
       " u'pings',\n",
       " u'#WITBragDay',\n",
       " u':D']"
      ]
     },
     "execution_count": 12,
     "metadata": {},
     "output_type": "execute_result"
    }
   ],
   "source": [
    "terms_stop"
   ]
  },
  {
   "cell_type": "code",
   "execution_count": 13,
   "metadata": {},
   "outputs": [
    {
     "name": "stdout",
     "output_type": "stream",
     "text": [
      "[(u'.', 2977), (u'#WITBragDay', 2530), (u'!', 1537), (u',', 1434), (u'to', 1373)]\n"
     ]
    }
   ],
   "source": [
    "count_all = Counter()\n",
    "for index, row in df.iterrows():     \n",
    "    terms_all = [term for term in preprocess(row['text'])]\n",
    "    # Update the counter\n",
    "    count_all.update(terms_all)\n",
    "print(count_all.most_common(5))"
   ]
  },
  {
   "cell_type": "code",
   "execution_count": null,
   "metadata": {},
   "outputs": [],
   "source": []
  },
  {
   "cell_type": "code",
   "execution_count": 14,
   "metadata": {},
   "outputs": [
    {
     "name": "stdout",
     "output_type": "stream",
     "text": [
      "[(u'#WITBragDay', 2530), (u'I', 1289), (u'women', 358), (u'tech', 346), (u'amp', 330)]\n"
     ]
    }
   ],
   "source": [
    "# Create a Counter Collection\n",
    "count_all = Counter()\n",
    "# Iterate over the Dataframe rows\n",
    "for index, row in df.iterrows():     \n",
    "    # Get the terms of each tweet while preprocessing it and remove the stop words from the tweet\n",
    "    terms_stop = [term for term in preprocess(row['text']) if term not in stop and not term.startswith(r\"\\x\")]\n",
    "    # Update the counter\n",
    "    count_all.update(terms_stop)\n",
    "print(count_all.most_common(5))"
   ]
  },
  {
   "cell_type": "code",
   "execution_count": 15,
   "metadata": {},
   "outputs": [
    {
     "data": {
      "text/plain": [
       "[(u'#WITBragDay', 2530),\n",
       " (u'I', 1289),\n",
       " (u'women', 358),\n",
       " (u'tech', 346),\n",
       " (u'amp', 330),\n",
       " (u'#WiTBragDay', 235),\n",
       " (u\"I'm\", 219),\n",
       " (u'The', 200),\n",
       " (u'code', 179),\n",
       " (u'amazing', 173),\n",
       " (u'This', 170),\n",
       " (u'hashtag', 169),\n",
       " (u'tweets', 163),\n",
       " (u'\\ufe0f', 159),\n",
       " (u'work', 156),\n",
       " (u'one', 151),\n",
       " (u'awesome', 147),\n",
       " (u'first', 143),\n",
       " (u'many', 128),\n",
       " (u'Thank', 124)]"
      ]
     },
     "execution_count": 15,
     "metadata": {},
     "output_type": "execute_result"
    }
   ],
   "source": [
    "count_all.most_common(20)"
   ]
  },
  {
   "cell_type": "code",
   "execution_count": null,
   "metadata": {},
   "outputs": [],
   "source": []
  },
  {
   "cell_type": "code",
   "execution_count": 18,
   "metadata": {},
   "outputs": [
    {
     "ename": "KeyError",
     "evalue": "u'\\ufe0f'",
     "output_type": "error",
     "traceback": [
      "\u001b[0;31m---------------------------------------------------------------------------\u001b[0m",
      "\u001b[0;31mKeyError\u001b[0m                                  Traceback (most recent call last)",
      "\u001b[0;32m<ipython-input-18-d2e916556c97>\u001b[0m in \u001b[0;36m<module>\u001b[0;34m()\u001b[0m\n\u001b[0;32m----> 1\u001b[0;31m \u001b[0mcount_all\u001b[0m\u001b[0;34m.\u001b[0m\u001b[0mpop\u001b[0m\u001b[0;34m(\u001b[0m\u001b[0;34mu'\\ufe0f'\u001b[0m\u001b[0;34m)\u001b[0m\u001b[0;34m\u001b[0m\u001b[0m\n\u001b[0m",
      "\u001b[0;31mKeyError\u001b[0m: u'\\ufe0f'"
     ]
    }
   ],
   "source": [
    "count_all.pop(u'\\ufe0f')"
   ]
  },
  {
   "cell_type": "code",
   "execution_count": 19,
   "metadata": {},
   "outputs": [
    {
     "data": {
      "text/plain": [
       "123"
      ]
     },
     "execution_count": 19,
     "metadata": {},
     "output_type": "execute_result"
    }
   ],
   "source": [
    "count_all.pop(u'So')"
   ]
  },
  {
   "cell_type": "code",
   "execution_count": 20,
   "metadata": {},
   "outputs": [
    {
     "data": {
      "text/plain": [
       "'[{\"text\": \"code\", \"size\": 179}, {\"text\": \"Thank\", \"size\": 124}, {\"text\": \"I\", \"size\": 1289}, {\"text\": \"many\", \"size\": 128}, {\"text\": \"awesome\", \"size\": 147}, {\"text\": \"work\", \"size\": 156}, {\"text\": \"#WiTBragDay\", \"size\": 235}, {\"text\": \"first\", \"size\": 143}, {\"text\": \"amazing\", \"size\": 173}, {\"text\": \"This\", \"size\": 170}, {\"text\": \"#WITBragDay\", \"size\": 2530}, {\"text\": \"tech\", \"size\": 346}, {\"text\": \"hashtag\", \"size\": 169}, {\"text\": \"tweets\", \"size\": 163}, {\"text\": \"amp\", \"size\": 330}, {\"text\": \"I\\'m\", \"size\": 219}, {\"text\": \"one\", \"size\": 151}, {\"text\": \"The\", \"size\": 200}, {\"text\": \"#witbragday\", \"size\": 119}, {\"text\": \"women\", \"size\": 358}]'"
      ]
     },
     "execution_count": 20,
     "metadata": {},
     "output_type": "execute_result"
    }
   ],
   "source": [
    "# Dump the data into a json\n",
    "import json\n",
    "# Assign frequency count into a dictionary\n",
    "dicc = dict(count_all.most_common(20))\n",
    "# Iterate over the dicitonary and convert it into a JSON structure for D3.js\n",
    "values = [{\"text\": k, \"size\": v} for k, v in dicc.iteritems()]\n",
    "json.dumps(values)"
   ]
  },
  {
   "cell_type": "code",
   "execution_count": 21,
   "metadata": {},
   "outputs": [
    {
     "data": {
      "text/plain": [
       "'[{\"code\": 179}, {\"Thank\": 124}, {\"I\": 1289}, {\"many\": 128}, {\"awesome\": 147}, {\"work\": 156}, {\"#WiTBragDay\": 235}, {\"first\": 143}, {\"amazing\": 173}, {\"This\": 170}, {\"#WITBragDay\": 2530}, {\"tech\": 346}, {\"hashtag\": 169}, {\"tweets\": 163}, {\"amp\": 330}, {\"I\\'m\": 219}, {\"one\": 151}, {\"The\": 200}, {\"#witbragday\": 119}, {\"women\": 358}]'"
      ]
     },
     "execution_count": 21,
     "metadata": {},
     "output_type": "execute_result"
    }
   ],
   "source": [
    "# Dump json in another format\n",
    "import json\n",
    "dicc = dict(count_all.most_common(20))\n",
    "values = [{k: v} for k, v in dicc.iteritems()]\n",
    "json.dumps(values)"
   ]
  },
  {
   "cell_type": "code",
   "execution_count": 19,
   "metadata": {},
   "outputs": [
    {
     "data": {
      "text/plain": [
       "'{\"https://t.co/B8rt5Rago9\": 1, \"https://t.co/CuFqmkZgL5\": 1, \"https://t.co/NyJcLNIbHw\": 1, \"https://t.co/QPM02FxRD9\": 1, \"https://t.co/jFGXQVdSb3\": 1, \"four\": 1, \"Does\": 2, \"Olympics\": 1, \"She\\'s\": 7, \"https://t.co/cZxDe8kes3\": 1, \"https://t.co/NxCKa8ursr\": 1, \"escribi\": 1, \"Until\": 1, \"@UWConline\": 1, \"#badssl\": 1, \"Starting\": 1, \"igual\": 1, \"Western\": 2, \"#WomenRock\": 1, \"lord\": 1, \"Merece\": 1, \"@fscons\": 1, \"nobleza\": 1, \"@Juli_Piruli\": 1, \"dynamic\": 1, \"regional\": 4, \"@bzztbaa\": 1, \"forties\": 1, \"#womeninstem\": 3, \"bringing\": 4, \"@blaurela\": 1, \"https://t.co/CUWdNxdMPN\": 1, \"https://t.co/x3nQdYM0uR\": 1, \"Less\": 1, \"#Knife\": 1, \"https://t.co/RS3wOPliB6\": 1, \"oooo\": 2, \"#ITRespect\": 1, \"#MiracleTreatDay\": 11, \"https://t.co/Ad0dtVGDqE\": 1, \"Paul\": 1, \"straight\": 2, \"#azure\": 1, \"Rachel\": 1, \"Praqma\": 1, \"Shiko\": 1, \"tired\": 2, \"https://t.co/XQTboIS99c\": 1, \"1997,\": 2, \"elegant\": 1, \"second\": 3, \"@AthenasinTech\": 1, \"@Empiric_UK\": 2, \"@TeamMediaocean\": 1, \"relieving\": 1, \"\\\\udd29\": 4, \"@Pallavisms\": 1, \"contributed\": 4, \"B2B\": 1, \"https://t.co/X2ELNzWTim\": 1, \"Hamilton\": 2, \"designing\": 4, \"College\": 1, \"contributes\": 2, \"https://t.co/V1exa6pa0S\": 1, \"pioneering\": 2, \"specialist\": 1, \"hero\": 11, \"reliably\": 1, \"Apple\\'s\": 1, \"formats\": 1, \"https://t.co/iNudx1cgGf\": 1, \"herd\": 1, \"https://t.co/pPrAYpxHRe\": 1, \"reported\": 1, \"@PepUPTech\": 1, \"Stephanie\": 1, \"Manger\": 1, \"kids\": 31, \"#AWITKenya2017\": 3, \"uplifting\": 6, \"Miss\": 3, \"k\": 8, \"https://t.co/a9obwmvGBZ\": 1, \"https://t.co/CYT4UY5VeN\": 1, \"reports\": 2, \"controversy\": 1, \"Choosing\": 1, \"NOT\": 3, \"military\": 2, \"i\\'m\": 4, \"NOW\": 1, \"https://t.co/PbtURAuX4p\": 1, \"golden\": 3, \"persevered\": 1, \"divide\": 1, \"@cellstemcell\": 1, \"Three\": 2, \"ROFL\": 1, \"brought\": 6, \"@OCLC\": 3, \"#connectedServices\": 1, \"Basic\": 1, \"https://t.co/ThU0bCm3yC\": 1, \"https://t.co/eWIOeK7RnY\": 1, \"https://t.co/Y6Xq7sl2gB\": 1, \"unit\": 1, \"nikhiljoisr\": 1, \"https://t.co/9foSJQrZSH\": 1, \"@PsyINPAthenaS\": 1, \"spoke\": 7, \"browse\": 1, \"https://t.co/6ZN5ETr23T\": 1, \"\\\\u60dc\": 1, \"@Inspiringfifty\": 1, \"https://t.co/Ogz0Km5Lyg\": 1, \"music\": 13, \"@LizLenjo_Kags\": 1, \"strike\": 1, \"DCUs\": 1, \"funciona\": 1, \"females\": 1, \"successful\": 19, \"brings\": 2, \"https://t.co/VC33hKg4WQ\": 1, \"https://t.co/eZzWpl0out\": 1, \"hurt\": 1, \"99\": 1, \"98\": 1, \"Wuzi\": 1, \"@nayraCalvo\": 1, \"90\": 6, \"https://t.co/bsTp2p6M5Z\": 1, \"hold\": 2, \"95\": 1, \"Scroll\": 1, \"https://t.co/cCM07PLQ7m\": 1, \"96\": 2, \"https://t.co/rZGzrQsJ0U\": 1, \"locked\": 1, \"PHPprojects\": 1, \"pursue\": 4, \"Geeks\": 2, \"accomplishment\": 1, \"mid-life\": 2, \"Idgaf\": 1, \"techbros\": 1, \"quants\": 1, \"https://t.co/pJAETnTtOi\": 1, \"concepts\": 1, \"https://t.co/5VumHQuglM\": 1, \"example\": 7, \"https://t.co/9QAep0KhM5\": 1, \"Le\": 1, \"Quand\": 1, \"Perspectives\": 1, \"neuro-dropout\": 1, \"DPP\": 1, \"Trillion\": 1, \"organized\": 4, \"SINGLE\": 1, \"reviewing\": 1, \"want\": 33, \"organizer\": 2, \"enablement\": 1, \"engr\": 1, \"absolute\": 2, \"hog\": 1, \"@nithyaruff\": 1, \"https://t.co/LUI2yi6l12\": 1, \"LA\": 2, \"complaining\": 2, \"hoo\": 1, \"#DonutsManifesto\": 1, \"feature\": 6, \"@TopHat8855\": 1, \"machine\": 3, \"hot\": 1, \"Wardell\": 1, \"A\": 61, \"gaming\": 1, \"abstraction\": 1, \"\\\\u0645\": 22, \"beauty\": 4, \"#gravityisabitch\": 1, \"#WIST\": 1, \"diagram\": 1, \"wrong\": 16, \"@LisaTw\": 1, \"#ChoiceMaleWebStar\": 8, \"Hoping\": 1, \"effective\": 5, \"https://t.co/9rk2lXbsGR\": 1, \"\\\\udde8\": 5, \"#InspirationalWomen\": 1, \"https://t.co/idMjN9cULc\": 1, \"Fabulous\": 1, \"programing\": 1, \"Another\": 6, \"keeps\": 4, \"Speak\": 1, \"wing\": 1, \"CFP\": 1, \"wine\": 2, \"awesome-women-in-tech\": 1, \"feedback\": 2, \"welcomed\": 2, \"dreamed\": 2, \"https://t.co/GlhYqz8diG\": 1, \"Charlottesville\": 2, \"zabawki\": 1, \"TRUE\": 1, \"bootstrapped\": 1, \"Told\": 4, \"https://t.co/gqmbIhjdmT\": 1, \"fit\": 3, \"https://t.co/c1uL1DyoPg\": 1, \"BOOST\": 3, \"fix\": 4, \"@Amy_Liz\": 1, \"@Tumi_Menyatswe\": 1, \"#women\": 9, \"Harris\": 1, \"#speakers\": 1, \"Palsy\": 1, \"https://t.co/FaaNJIKDet\": 1, \"\\\\ud83c\": 90, \"https://t.co/HP0beYZNSo\": 1, \"https://t.co/QjRzvKkQfT\": 1, \"@iaboyeji\": 1, \"songwriter\": 1, \"https://t.co/7vRZLY4TZX\": 1, \"@Spacekatgal\": 1, \"@RrrEeGina\": 1, \"educating\": 2, \"effects\": 2, \"#Feminine\": 1, \"schools\": 4, \"low-tech\": 1, \"structural\": 1, \"represents\": 1, \"130,000\": 1, \"https://t.co/N2503put3G\": 1, \"@internetofshit\": 1, \"@msandfor\": 3, \"https://t.co/7e4mmXk7Mk\": 1, \"https://t.co/aogZdJ5PIh\": 1, \"https://t.co/mARG7KN0zY\": 1, \"debug\": 4, \"#Inspiration\": 1, \"SADDLY\": 1, \"Mouse\": 1, \"Millions\": 2, \"whim\": 1, \"financial\": 2, \"https://t.co/mtPd7qNjVg\": 1, \"https://t.co/a3pA0Nq0hS\": 1, \"Hopper\": 4, \"https://t.co/bXy1yaVwmz\": 1, \"#wtmnyeri\": 2, \"@LauraCatPJs\": 1, \"https://t.co/6XhXcEPmk8\": 1, \"#AFCvLCFC\": 1, \"trending\": 12, \"Favourite\": 1, \"Haha\": 3, \"rd\": 3, \"encourage\": 11, \"https://t.co/Oe4OXTzxTS\": 1, \"Represented\": 1, \"rn\": 4, \"millions\": 16, \"Super\": 9, \"https://t.co/ESo0km6LW7\": 1, \"foundation\": 1, \"Word\": 1, \"https://t.co/qeLzIuV5bY\": 1, \"University\": 6, \"Work\": 4, \"https://t.co/zh23MTsQPC\": 1, \"@SparkeSparke\": 2, \"Distinction\": 1, \"sensors\": 1, \"https://t.co/rpbEwouOoE\": 1, \"cornerstone\": 1, \"https://t.co/pBn8cmDVtT\": 1, \"enormous\": 1, \"@rafyouthengage\": 1, \"ata\": 1, \"https://t.co/F6Ax5VM7Lk\": 1, \"https://t.co/haGN7J4r3V\": 1, \"https://t.co/pSjJNY1Hi7\": 1, \"Chao\": 1, \"silicon\": 1, \"shipped\": 2, \"choices\": 1, \"atr\": 1, \"today\\'s\": 2, \"Facts\": 1, \"bots\": 1, \"MVPs\": 1, \"Universities\": 1, \"17,\": 1, \"https://t.co/lMTijYlvpb\": 1, \"#Shavuahtov\": 1, \"#womenofjoy\": 1, \"Please\": 13, \"@reigningit\": 1, \"https://t.co/wBOKKipTqa\": 1, \"#lawyer\": 1, \"https://t.co/q8kDGvuV4i\": 1, \"clarity\": 1, \"olds\": 1, \"https://t.co/ASczAubKR5\": 1, \"service\": 9, \"https://t.co/UxzGXMncQK\": 1, \"@wmarybeard\": 1, \"\\\\u062e\": 4, \"https://t.co/0v3nxiyW5x\": 1, \"needed\": 17, \"master\": 4, \"listed\": 1, \"@PedestrianPoet\": 1, \"klama\": 1, \"https://t.co/DiysDhGWy5\": 1, \"listen\": 4, \"https://t.co/WaXVsCFsdV\": 1, \"rewards\": 1, \"YAY\": 1, \"@Jepngetitch\": 1, \"@SeguraEllen\": 1, \"https://t.co/3gnHWJBrn8\": 1, \"implementer\": 1, \"2008,\": 1, \"#hardlife\": 2, \"Oracle\": 3, \"https://t.co/bcC4oysDLF\": 1, \"Beautiful\": 8, \"#organdonation\": 1, \"Code\": 10, \"@simidchieva\": 1, \"https://t.co/eZLyHi0fEn\": 1, \"https://t.co/v5Y2IR7uVd\": 1, \"\\\\u00ed\": 20, \"project\": 23, \"haya\": 1, \"@CedarMoore1\": 1, \"feeling\": 16, \"@ProudlySA\": 1, \"\\\\uddff\": 7, \"este\": 1, \"esta\": 2, \"Chicago\": 2, \"@svthmc\": 1, \"@allonsykraken\": 1, \"spent\": 7, \"Methodology\": 1, \"hug\": 1, \"Holly\": 1, \"dozen\": 1, \"Ass\": 1, \"Then\": 7, \"@Google\": 10, \"#womeninagile\": 2, \"https://t.co/4D6jEWmB8t\": 1, \"https://t.co/wsF7ZJmZDR\": 1, \"Thee\": 1, \"responsible\": 5, \"recommended\": 3, \"They\": 10, \"brains\": 3, \"@WinterHeidi\": 1, \"Alshahrani\": 1, \"@bridgetkromhout\": 1, \"https://t.co/S9NSQIx4vc\": 1, \"https://t.co/sF3VToO2CT.\": 1, \"Wish\": 3, \"@PyladiesNatal\": 1, \"wells\": 1, \"metrics\": 1, \"simplify\": 1, \"@FullSail\": 1, \"letter\": 1, \"@rlconley\": 1, \"dummy\": 1, \"#Golang\": 1, \"@TiffanyRicks\": 1, \"@ictdchick\": 1, \"released\": 4, \"co-op\\'d\": 1, \"professor\": 2, \"camp\": 3, \"@iMeluny\": 1, \"#SisterhoodIaPowerful\": 1, \"https://t.co/ix7LUGHhnX\": 1, \"https://t.co/iAgD1pOnwi\": 1, \"tech\": 346, \"@wonderlandblog\": 1, \"Lisbon\": 1, \"https://t.co/yn4ZzDv1Es\": 1, \"came\": 3, \"saying\": 3, \"signatures\": 1, \"bomb\": 1, \"https://t.co/uhYIHleGpD\": 1, \"Union\": 2, \"https://t.co/gbdvNGPKpD\": 1, \"meetings\": 2, \"advisors\": 1, \"nominated\": 1, \"https://t.co/TjMhMgzcrW\": 1, \"participate\": 2, \"https://t.co/PQUQcaKahw\": 1, \"perduran\": 1, \"lessons\": 3, \"capes\": 1, \"busy\": 1, \"#cinsiyet\": 1, \"headline\": 1, \"cousins\": 1, \"https://t.co/vZy8jlOUFQ\": 1, \"appreciated\": 3, \"theme\": 1, \"cioletti\": 1, \"touched\": 4, \"rich\": 1, \"wonde\": 1, \"https://t.co/xnO2TiJBcM\": 1, \"Issa\": 1, \"petrified\": 1, \"https://t.co/UuQYEK2WtS\": 1, \"https://t.co/CTpFssIA4J\": 1, \"foremost\": 1, \"https://t.co/5a9IxiZWhS\": 1, \"altogether\": 1, \"X\": 5, \"6000\": 1, \"tips\": 2, \"unfortunately\": 1, \"#ARSLEI\": 14, \"increasing\": 2, \"Fascinating\": 2, \"https://t.co/FfpHzL4EIL\": 1, \"nicely\": 1, \"@chaumn16\": 1, \"visto\": 1, \"patch\": 1, \"Netz\": 1, \"code-HTML\": 1, \"release\": 1, \"respond\": 1, \"traverse\": 1, \"@Raspberry_Pi\": 1, \"fair\": 2, \"job\": 67, \"sensitivity\": 1, \"non-believers\": 1, \"https://t.co/G5fXI6tOix\": 1, \"result\": 1, \"https://t.co/BJX6THSd7v\": 1, \"PS2\": 1, \"https://t.co/qEymfdfukw\": 1, \"Android\": 17, \"John\": 1, \"@Aloubier\": 1, \"best\": 74, \"@ajohnsocyber\": 1, \"ambitions\": 1, \"lots\": 7, \"@SamGichuru\": 1, \"score\": 2, \"@RonicaRoth\": 1, \"https://t.co/YweAH5B1sR\": 1, \"nuestro\": 1, \"@othergill\": 1, \"@chrisgrayson\": 1, \"https://t.co/FuG9HWcvfY\": 1, \"preserve\": 1, \"never\": 33, \"nationwide\": 1, \"https://t.co/WWen0i460W\": 1, \"#Quebec\": 1, \"@spruikable\": 3, \"debt\": 3, \"https://t.co/6JKVImrxWo\": 1, \"planner\": 1, \"https://t.co/Ged0NSlGqb\": 1, \"@mknighs\": 1, \"country\": 9, \"PSA\": 1, \"heating\": 1, \"\\\\u0940\": 1, \"#feelingbashful\": 1, \"planned\": 1, \"logic\": 2, \"workarounds\": 1, \"asked\": 3, \"https://t.co/bS1D5mqKAG\": 1, \"Highlighting\": 1, \"25,\": 1, \"esit\": 2, \"https://t.co/Uo1JJNvAw8\": 1, \"SalFreudenberg\": 1, \"https://t.co/mzciaE0apf\": 1, \"@_valvs_\": 1, \"month-long\": 1, \"https://t.co/0qWsm2n1vL\": 1, \"Sorry\": 4, \"Affero\": 1, \"fro\": 1, \"https://t.co/UJLgnCysqV\": 1, \"frm\": 1, \"https://t.co/cSvA9zstii\": 1, \"much\": 62, \"https://t.co/7JJ2Uya2Dx\": 1, \"privilege\": 2, \"https://t.co/ZgkLdEiFP2\": 1, \"conversational\": 1, \"life\": 40, \"SRE\": 3, \"https://t.co/G9ip5L7MbM\": 1, \"202\": 1, \"worker\": 1, \"punctually\": 1, \"meilleure\": 1, \"@vickimurley\": 1, \"child\": 4, \"https://t.co/wXHsFL2kjx\": 1, \"worked\": 43, \"@KuraFire\": 3, \"Assumingcapricorn\": 1, \"professionally\": 1, \"TDD\": 1, \"employ\": 1, \"biotech\": 2, \"@lady_hawk1\": 1, \"played\": 2, \"https://t.co/AJez8jU2uZ\": 1, \"https://t.co/MTMZcVnSk3\": 1, \"https://t.co/rVrL2qurCe\": 1, \"LOT\": 1, \"@themollette\": 1, \"@ACE_Providence\": 1, \"https://t.co/BJAKx3PnwT\": 1, \"Valley\": 2, \"Oi\": 2, \"https://t.co/XxPoZS0KgN\": 1, \"Python\": 10, \"things\": 45, \"#LifeGoals\": 1, \"@leedsbeckett\": 4, \"Did\": 14, \"harmony\": 1, \"babies\": 3, \"\\\\u0441\": 3, \"mujeres\": 6, \"Maybe\": 4, \"workforce\": 1, \"@S_Clarke22\": 2, \"Stunning\": 1, \"under-represented\": 1, \"ownership\": 1, \"https://t.co/PU9ewzGzo1\": 1, \"\\\\u96e2\": 1, \"ProductHun\": 2, \"https://t.co/Rv366WiUrc\": 1, \"Ferl\": 1, \"@michaellnorth\": 1, \"https://t.co/uZlnOdi3iu\": 1, \"mentors\": 2, \"@owlbelief\": 1, \"@DellTech\": 1, \"https://t.co/tiUsGb2muY\": 1, \"veteran\": 6, \"plaque\": 1, \"opinions\": 1, \"https://t.co/fozQ2aQjYl\": 1, \"Thank\": 124, \"THAT\": 1, \"#proudWiT\": 1, \"https://t.co/H7KyM3lUGA\": 1, \"Laureate\": 1, \"VBA\": 2, \"#futureisfemale\": 2, \"https://t.co/WR4yJ9vqM3\": 1, \"@CardinalNow\": 1, \"@Oracle\": 3, \"Maverick\": 1, \"previous\": 4, \"Blame\": 1, \"@GDGHudsonValley\": 1, \"han\": 1, \"@WinObs\": 1, \"https://t.co/IFNuS7dVXx\": 1, \"https://t.co/xyssTznmkn\": 1, \"Framework\": 1, \"easy\": 6, \"har\": 1, \"hat\": 1, \"Karaoke\": 1, \"@jennski\": 1, \"#ArabWorld\": 1, \"casually\": 1, \"https://t.co/1fPG8jN1mD\": 1, \"elders\": 1, \"Setup\": 1, \"possible\": 8, \"Cathleen\": 1, \"https://t.co/piKEpdxmqL\": 1, \"#DijitalEkonomi\": 1, \"unique\": 2, \"cognitive\": 1, \"@hybanawazkhan90\": 1, \"https://t.co/VmMayKhUfL\": 1, \"https://t.co/aQtwuEzSCL\": 1, \"#keepitcomingladies\": 1, \"https://t.co/ZK8V5WPSRO\": 1, \"#Loveatfirstsight\": 1, \"remind\": 3, \"https://t.co/fDpjyDTru2\": 1, \"steps\": 3, \"Pentagon\": 1, \"@WomenSciAUST\": 1, \"old\": 22, \"https://t.co/QI9nJTtdZF\": 1, \"people\": 90, \"Literally\": 1, \"lock-in\": 1, \"#didntcomplaintoHR\": 1, \"Application\": 1, \"Between\": 1, \"WebKit\": 2, \"Off\": 1, \"Norton\": 1, \"@ihadyoujohnny\": 1, \"@charlie_mcdon\": 1, \"@Concur\": 1, \"@GuviGeek\": 1, \"#mbpoli\": 3, \"attendees\": 2, \"Nixdorf\": 1, \"Diplom\": 1, \"bottom\": 3, \"lockdown\": 1, \"https://t.co/Z7V8THprqZ\": 1, \"creative\": 4, \"contributing\": 3, \"https://t.co/CILEWNmxgi\": 1, \"Facebook\": 4, \"https://t.co/dAmuxJ3P9Q\": 1, \"GOD\": 21, \"https://t.co/0ZOKuvjM9V\": 1, \"@ACSWAofficial\": 1, \"@Dauntless_STEM\": 1, \"https://t.co/K05rea9Nor\": 1, \"#ACGNJ\": 1, \"https://t.co/c5PXnjQ9WY\": 1, \"https://t.co/NrBswGJb38\": 1, \"shifting\": 1, \"starring\": 1, \"https://t.co/pdOgX7rbet\": 1, \"https://t.co/fNjZkAZo0J\": 1, \"@Ellen_Friedman\": 1, \"First\": 13, \"#LinkedIn\": 1, \"OS\": 3, \"dollars\": 3, \"despair\": 1, \"stoked\": 1, \"co-organize\": 1, \"#latest\": 1, \"lacked\": 1, \"https://t.co/RKoH3Oov7n\": 1, \"consulting\": 3, \"ingenier\": 2, \"Feb\": 1, \"Missed\": 1, \"https://t.co/39285oKpoW\": 1, \"https://t.co/PEbiUfdU7c\": 1, \"dashboards\": 1, \"soo\": 1, \"son\": 3, \"Few\": 2, \"google\": 6, \"sou\": 1, \"raises\": 1, \"https://t.co/48lBTzhx5U\": 1, \"Java\": 4, \"https://t.co/vXjDtYVm8C\": 1, \"soon\": 10, \"often\": 12, \"leaks\": 2, \"https://t.co/F8vBDIm8zy\": 1, \"support\": 28, \"constantly\": 1, \"raped\": 1, \"width\": 1, \"16000\": 1, \"https://t.co/Amy03CwsXM\": 1, \"@desselebrada\": 1, \"greatness\": 1, \"tweeps\": 1, \"probes\": 1, \"launching\": 1, \"happy\": 28, \"https://t.co/y5euTFS9wk\": 1, \"offer\": 2, \"Gbps\": 1, \"Mgmnt\": 1, \"https://t.co/ndN0uavG18\": 1, \"#SiliconRhode\": 1, \"talents\": 5, \"seguir\": 2, \"https://t.co/9v4GrJkpOf\": 1, \"Loads\": 1, \"@AnneMargotAaron\": 1, \"https://t.co/h3m0m7j895\": 1, \"Seeing\": 3, \"congratulations\": 2, \"humbled\": 5, \"esktop\": 1, \"https://t.co/jyEIbcHO1P\": 1, \"@kcasella\": 1, \"devices\": 5, \"Scrolled\": 1, \"Engineering\": 5, \"@emmavdez\": 2, \"panels\": 2, \"@vivymiriam\": 1, \"150\": 4, \"https://t.co/7zMB4FmrI6\": 1, \"proved\": 2, \"Sit\": 1, \"Personal\": 1, \"textbook\": 1, \"restorative\": 1, \"#witbragday\": 119, \"proves\": 1, \"exist\": 1, \"#MotivationMonday\": 1, \"accounting\": 1, \"https://t.co/78Qt0DnU6v\": 1, \"Sin\": 1, \"@ThatDocsLady\": 1, \"Wooow\": 1, \"#BMovieManiacs\": 1, \"flood\": 1, \"@_infiresmen_\": 1, \"role\": 18, \"developers\": 17, \"roll\": 1, \"\\\\u0641\": 5, \"manifestbro\": 1, \"exagerate\": 1, \"E\": 1, \"models\": 4, \"messing\": 1, \"outage\": 1, \"#IAMCP\": 1, \"https://t.co/gjIcTZaTVA\": 1, \"Melbourne\": 1, \"invested\": 1, \"rolling\": 1, \"danske\": 1, \"https://t.co/dPrvaZEMxy\": 1, \"https://t.co/23ZfOkdyaW\": 1, \"YGG\": 1, \"https://t.co/vte4WNKl25\": 1, \"spades\": 1, \"glass\": 2, \"packets\": 1, \"https://t.co/dBrppyWyqM\": 1, \"time\": 80, \"https://t.co/OM2NLETtpU\": 1, \"updates\": 1, \"https://t.co/GuAe9GTWS9\": 1, \"https://t.co/4la6Qvs15G\": 1, \"@ninth_sense\": 1, \":)\": 71, \"AppFactory\": 1, \"https://t.co/ZLA7Gu3My6\": 1, \"Trending\": 3, \"parent\": 1, \"https://t.co/UscaaumOio\": 1, \"non-tech\": 3, \"https://t.co/HFUvozPNzM\": 1, \"https://t.co/8Tg0lF3F2J\": 1, \"ver\": 2, \"freelance\": 2, \"Javascript\": 1, \"https://t.co/2KmEt3fZY5\": 1, \"Gonna\": 1, \"@deanabeana\": 1, \"#ai\": 2, \"inTechnology\": 1, \"Peer\": 1, \"connecting\": 3, \"@Hemanth0924\": 1, \"jerk\": 1, \"Everytime\": 4, \"EMEA\": 1, \"https://t.co/UO4eXdTSW8\": 1, \"Sekt\": 3, \"choice\": 1, \"https://t.co/4ijWoRqzvR\": 1, \"Everytimw\": 1, \"#zdrewna\": 1, \"stays\": 1, \"@SarahMitchellOz\": 1, \"Research\": 1, \"minute\": 4, \"@sapna0214\": 1, \"https://t.co/r5Taix7k4g\": 1, \"@Unilever\": 1, \"solves\": 1, \":D\": 12, \"@azimman\": 1, \"https://t.co/XhLo0j8Hur\": 1, \"leave\": 3, \"https://t.co/F00bsthLSg\": 1, \"Tag\": 1, \"team\": 118, \"loads\": 1, \":P\": 2, \"https://t.co/IGVSCqE996\": 1, \"prevent\": 1, \"https://t.co/QLRx7oVeol\": 1, \"#ITPro\": 1, \"@edisonresearch\": 1, \"Europes\": 1, \"insignificant\": 1, \"minion\": 1, \"https://t.co/sUCMf9ZesW\": 1, \"#KAUST\": 1, \"sign\": 3, \"M4\": 1, \"@m34kato\": 1, \"hace\": 1, \"mentored\": 6, \"https://t.co/oQfQiy0wbG\": 1, \"Joined\": 1, \"https://t.co/N16jFV88a5\": 1, \"Look\": 5, \"@MsGenGeorge\": 1, \"https://t.co/pxGPiB85k7\": 1, \"cleanliness\": 1, \"celebrated\": 1, \"realizing\": 2, \"maravilhem\": 1, \"current\": 4, \"remembered\": 1, \"#LabVIEW\": 1, \"True\": 1, \"unintentionally\": 1, \"Me\": 8, \"@linuxchixar\": 1, \"#impostersyndrome\": 1, \"techwomen\": 1, \"Ma\": 2, \"foliage\": 1, \"Mb\": 1, \"honour\": 1, \"EDU\": 1, \"understanding\": 1, \"Woman\": 3, \"brillante\": 1, \"https://t.co/1ePs4kPCJI\": 1, \"alone\": 5, \"along\": 9, \"My\": 93, \"\\\\u05de\": 1, \"Computational\": 1, \"MA\": 1, \"brilliant\": 13, \"ML\": 5, \"repeats\": 1, \"studied\": 9, \"Born\": 1, \"accomplished\": 3, \"MS\": 10, \"Borg\": 2, \"https://t.co/bIv26jVigP\": 1, \"MY\": 1, \"windowing\": 1, \"REAL\": 1, \"Fyi\": 1, \"love\": 102, \"prefer\": 1, \"@NicolaO_B\": 1, \"bloody\": 2, \"marvelous\": 1, \"ACURA\": 1, \"Hedy\": 1, \"https://t.co/5NnWmWyDXj\": 1, \"https://t.co/L7rGlutY02\": 1, \"REAR\": 1, \"https://t.co/y5KIpkFtKq\": 1, \"https://t.co/k3i96fXIAW\": 1, \"working\": 44, \"positive\": 15, \"La\": 1, \"filme\": 1, \"curioso\": 1, \"wondering\": 3, \"https://t.co/MIVKGEYB4f\": 1, \"#kudos\": 1, \"Those\": 10, \"loving\": 28, \"scratched\": 1, \"thrill\": 1, \"Broadcasted\": 1, \"bragworthy\": 1, \"bhabhi\": 1, \"visual\": 1, \"everywhere\": 2, \"@nes49\": 1, \"scratches\": 1, \"behalf\": 6, \"honey\": 1, \"https://t.co/IHkMnALKxO\": 1, \"deserved\": 6, \"HiiL\": 3, \"@panthonysamy\": 1, \"#Volkswagen\": 1, \"@NoshairwanAdil\": 1, \"\\\\u00f1\": 1, \"#Birmingham\": 1, \"printing\": 3, \"values\": 1, \"SiMODiSA\": 1, \"@Nintendo\": 1, \"believed\": 2, \"Our\": 14, \"https://t.co/4ij7wdWJW2\": 1, \"https://t.co/UVbhXjAeyh\": 1, \"23,\": 1, \"https://t.co/LScNGXi5Dd\": 1, \"@juliavixen\": 1, \"https://t.co/BVzWAQigk6\": 1, \"Federal\": 1, \"awesome\": 147, \"https://t.co/1WOqkwgIN8\": 1, \"https://t.co/CpZosHX0JI\": 1, \"@DrJenGunter\": 1, \"#GirlBoss\": 1, \"@Andela_Kenya\": 2, \"https://t.co/eIrEJU8dSz\": 1, \"allowed\": 3, \"week-end\": 1, \"https://t.co/NcgyQ29blP\": 1, \"https://t.co/MAp0pbNaDH\": 1, \"@PearsonVUE\": 4, \"Who\": 10, \"@google\": 1, \"Why\": 8, \"LOVING\": 1, \"STE\": 1, \"@realslimjaney\": 1, \"Acura\": 1, \"laundry\": 1, \"https://t.co/vnhzQNGs36\": 1, \"@DiptyChander\": 1, \"@NewAmerica\": 1, \"spot\": 2, \"applications\": 1, \"WHOOP-WHOOP\": 1, \"Peripherals\": 3, \"suck\": 1, \"acceptances\": 1, \"data\": 35, \"MPESA\": 1, \"Hadiyah-Nicole\": 1, \"https://t.co/rHwWpgfLK3\": 1, \"stress\": 1, \"natural\": 1, \"#coolmom\": 1, \"ss\": 1, \"nomadic\": 1, \"sw\": 1, \"su\": 1, \"st\": 37, \"si\": 1, \"sh\": 3, \"sc\": 1, \"travel\": 1, \"se\": 4, \"https://t.co/vfF756Z6iW\": 1, \"@Computerworld\": 1, \"https://t.co/9jJlqaaXkF\": 1, \"https://t.co/bBTasPSryB\": 1, \"years\": 114, \"professors\": 1, \"course\": 19, \"https://t.co/7nmLlx6HGs\": 1, \"Perth\": 1, \"@omodolapo_s\": 1, \"https://t.co/WAXwtE0cYF\": 1, \"bnfts\": 1, \"\\\\u201c\": 19, \"#orphanblack\": 4, \"Lecturer\": 1, \"https://t.co/YWw5B2r889\": 1, \"https://t.co/dFIeirOgR2\": 1, \"@AmericanExpress\": 1, \"internationally\": 1, \"https://t.co/sqCRu2xPSY\": 1, \"@sarahcuda\": 2, \"intl\": 1, \"decades\": 1, \"https://t.co/jQd4cVvjSP\": 1, \"instantly\": 1, \"https://t.co/DrmYnnmhbc\": 1, \"retributive\": 1, \"https://t.co/7UhxUcOCeS\": 1, \"\\\\u00c7\": 1, \"smarter\": 3, \"https://t.co/7mDVC4jOG4\": 1, \"records\": 1, \"Wooooooooo\": 1, \"servers\": 1, \"@baratangmiya\": 4, \"Amazed\": 2, \"https://t.co/Pnuf0hqEGz\": 1, \"Coordinator\": 1, \"Roslyn\": 1, \"revisen\": 1, \"midlife\": 1, \"https://t.co/Wz3IPkRZBE\": 1, \"https://t.co/y1M6cUzids\": 1, \"crushing\": 2, \"https://t.co/HdFHyseTPa\": 1, \"sponsor\": 1, \"https://t.co/QInUhXe5Ft\": 1, \"#diy\": 1, \"Learned\": 7, \"container\": 1, \"undergoing\": 1, \"brags\": 10, \"interned\": 1, \"Joy\": 2, \"ENG\": 1, \"seriously\": 9, \"intermix\": 1, \"Joe\": 1, \"internet\": 16, \"https://t.co/Vg04XmtA05\": 1, \"https://t.co/G9UczcLdPO\": 1, \"https://t.co/TfB6npYUMQ\": 1, \"sarki\": 3, \"THANK\": 1, \"https://t.co/OZwSymO3aC\": 1, \"tienen\": 1, \"million\": 13, \"@sundarpichai\": 1, \"quite\": 3, \"disrespect\": 1, \"#thelateshow\": 1, \"crazies\": 1, \"besides\": 3, \"Westfield\": 1, \"crowdfunded\": 1, \"training\": 10, \"https://t.co/o0VN2mz4Pk\": 1, \"@AnneBoden\": 2, \"programming\": 36, \"demographic\": 1, \"massive\": 5, \"#edtech\": 3, \"@SuzieDunn5\": 1, \"timbray\": 1, \"Brazil\": 1, \"Respeto\": 1, \"saving\": 3, \"spoken\": 9, \"@careerdevs\": 1, \"ATM\": 1, \"https://t.co/tiLGDVZRCr\": 1, \"#woman\": 2, \"one\": 151, \"@safaricom_WIT\": 2, \"https://t.co/uNWrZV0h0s\": 1, \"https://t.co/KCMthaqL7z\": 1, \"https://t.co/UOsR3UQQj5\": 1, \"https://t.co/WCjOgSiWI6\": 1, \"open\": 15, \"@AniciaP\": 3, \"affords\": 1, \"https://t.co/rPrbgj3yZQ\": 1, \"city\": 3, \"@gerbille\": 1, \"#CommunIT\": 1, \"\\\\ubd24\": 1, \"Monday\": 4, \"https://t.co/Xzyo4sDtS0\": 1, \"2\": 109, \"typing\": 1, \"Badass\": 4, \"@bottomley_g\": 1, \"bits\": 1, \"https://t.co/NRB7pbqEfQ\": 1, \"@love_emotional2\": 1, \"#FLAward\": 1, \"@BillB\": 1, \"https://t.co/yPCj8G6nFW\": 1, \"floppy\": 1, \"proving\": 4, \"programas\": 1, \"#Damore\": 1, \"https://t.co/zaFHFGXgny\": 1, \"#armpizza\": 2, \"ridiculous\": 1, \"https://t.co/gY7JeQpI8z\": 1, \"representing\": 1, \"inventor\": 1, \"Anecdotally\": 1, \"iceberg\": 4, \"badasses\": 2, \"#topnews\": 1, \"Analytics\": 1, \"future\": 13, \"wins\": 1, \"asleep\": 1, \"#PITvsNYG\": 2, \"@ynap\": 1, \"https://t.co/2uuDqm7fW2\": 1, \"illness\": 2, \"turned\": 6, \"argument\": 1, \"jewels\": 2, \"sad\": 8, \"prestigious\": 2, \"say\": 18, \"\\\\u0917\": 1, \"Hilarious\": 1, \"https://t.co/Sf2Za5gpkb\": 1, \"saw\": 6, \"Tons\": 3, \"invite\": 1, \"notu\": 1, \"valorizar\": 1, \"@SophieNewtonBL\": 1, \"@IsabelPalomar\": 1, \"aside\": 3, \"https://t.co/ddK7BC8y47\": 1, \"note\": 3, \"https://t.co/CMTbUyLlC5\": 1, \"take\": 27, \"#wonderful\": 1, \"https://t.co/ld1TVAH0Ls\": 1, \"fashionably\": 1, \"tally\": 1, \"Quinn\": 1, \"Getting\": 3, \"buffer\": 1, \"knew\": 10, \"https://t.co/W275MBEzap\": 1, \"mate\": 1, \"CrossRail\": 1, \"pager\": 1, \"pages\": 3, \"Trainer\": 1, \"textarea\": 1, \"@accidentlwriter\": 1, \"Heartfelt\": 1, \"drive\": 4, \"#Diversity\": 4, \"@chicasentec\": 1, \"managing\": 1, \"@nuzzel\": 1, \"Fitbit\": 1, \"https://t.co/9zuC14h9WN\": 1, \"archs\": 1, \"laws\": 1, \"Sky\": 1, \"@TLA_Scaleup\": 2, \"https://t.co/9oQi2CDO6C\": 1, \"@bulogics\": 1, \"bright\": 3, \"Systems\": 4, \"#justnotsorry\": 1, \"https://t.co/yqDoE2F1Br\": 1, \"@Tmdoubleu\": 1, \"farting\": 1, \"https://t.co/zqFrMiWOav\": 1, \"https://t.co/eKPzpjJ0S6\": 1, \"https://t.co/VKpr15qemU\": 1, \"\\\\u092e\": 1, \"telecom\": 1, \"tears\": 1, \"going\": 39, \"https://t.co/goklfrvwkK\": 1, \"Applied\": 1, \"https://t.co/hWKXGVyvqA\": 1, \"recruiters\": 1, \"Magazine\": 2, \"outlet\": 1, \"@LaunchDarkly\": 1, \"#lifegoals\": 1, \"resource\": 2, \"bestselling\": 1, \"artist\": 3, \"primo\": 1, \"STRATEGIC\": 1, \"worries\": 1, \"uncover\": 1, \"YES\": 4, \"https://t.co/ILY710c3kW\": 1, \"YET\": 1, \"vision\": 3, \"Intl\": 1, \"https://t.co/dTzrOhSx9O\": 1, \"#CyberF2F\": 1, \"Antheil\": 1, \"notice\": 1, \"gangster\": 1, \"@SaraJChipps\": 2, \"@DaniSoDrakeful\": 1, \"ie\": 1, \"#WomenInSTEM\": 4, \"\\\\u041b\": 1, \"Enjoying\": 7, \"@DCHackAndTell\": 2, \"@kmm44\": 1, \"clips\": 1, \"That\": 12, \"Aww\": 2, \"jumped\": 1, \"https://t.co/PVunHIb02w\": 1, \"#CFLGameDay\": 9, \"sites\": 2, \"#cs\": 1, \"sponsorship\": 1, \"Symbian\": 2, \"older\": 1, \"un\": 5, \"https://t.co/pbJvzzM9pV\": 1, \"@CecileLeDem\": 1, \"moons\": 1, \"testimonials\": 1, \"https://t.co/ktIiZpiddZ\": 1, \"https://t.co/WzHXHqRWwt\": 1, \"https://t.co/CbmY1j7ZtC\": 1, \"https://t.co/XakCBwcyUl\": 1, \"@The_MediaGate\": 1, \"jobs\": 13, \"humble\": 1, \"https://t.co/k9oltIxee3\": 1, \"https://t.co/BN4mv15VTp\": 1, \"screen\": 3, \"employer\\'s\": 1, \"@ManitobaHydro\": 1, \"spare\": 5, \"https://t.co/MXabn04PDa\": 1, \"https://t.co/uAVM77wOr4\": 1, \"https://t.co/Cs8i0t57WT\": 1, \"busting\": 1, \"https://t.co/ZDFDJ539ZE\": 1, \"many\": 128, \"Spider\": 1, \"@PrettyAgile\": 1, \"Schroeder\": 1, \"loudly\": 2, \"Watford\": 1, \"workplace\": 1, \"mang\": 2, \"can\\'t\": 23, \"#softwareTesting\": 2, \"@ktbarr22\": 1, \"#gameofthrones\": 1, \"3000\": 1, \"Auspuff\": 1, \"#Fekir\": 1, \"qlikview\": 1, \"Panopto\": 1, \"https://t.co/9gcbfSxEcM\": 1, \"@women_in_ai\": 2, \"incubation\": 1, \"\\\\u0632\": 11, \"one-upmanship\": 1, \"prototype\": 6, \"Identity\": 2, \"#bestengineer\": 1, \"wants\": 5, \"enable\": 2, \"ceux\": 1, \"hashtag\": 169, \"former\": 3, \"@ScottProfessor\": 2, \"#Nagold\": 1, \"https://t.co/K59RMYy4D7\": 1, \"https://t.co/saYlvJOZ31\": 1, \"consultant\": 4, \"@aphoenix\": 1, \"single\": 14, \"@GirlsWhoTest\": 1, \"easier\": 4, \"COMMUNICATIONS\": 1, \"@CatherineQ\": 1, \"squeezed\": 1, \"curricula\": 1, \"\\\\ub77c\": 1, \"https://t.co/9JGBlpBR5C\": 1, \"internets\": 2, \"#google\": 2, \"Cooking\": 1, \"engaged\": 1, \"bros\": 2, \"Looking\": 10, \"#gender\": 1, \"cobol\": 1, \"DIY\": 2, \"https://t.co/SfcyOOucPm\": 1, \"technology\": 34, \"fame\": 1, \"Pres\": 1, \"https://t.co/o8oTwtPIMY\": 1, \"binary\": 1, \"verified\": 1, \"parliament\": 1, \"Nashville\": 1, \"wiring\": 1, \"https://t.co/yXB3pQwIhj\": 1, \"https://t.co/rDOKwEX19P\": 1, \"https://t.co/BerQ5BRmiX\": 1, \"unemployed\": 1, \"Mindset\": 1, \"wires\": 1, \"oceanographic\": 1, \"https://t.co/hctAt83Jdy\": 1, \"I\": 1289, \"https://t.co/Tq8RdiebVy\": 1, \"wired\": 1, \"https://t.co/AhCKnIaHOm\": 1, \"Physics\": 1, \"#SaturdayMotivation\": 1, \"booster\": 1, \"awesomeness\": 6, \"https://t.co/fjH3QLPtDe\": 1, \"Porn\": 1, \"https://t.co/7fOfyFlOPy\": 1, \"https://t.co/VSwPwAdx4U\": 1, \"humanities\": 1, \"https://t.co/hpVcVR81nD\": 1, \"https://t.co/oQ9ZnnPGKU\": 1, \"trains\": 1, \"https://t.co/0lm7fyguWs\": 1, \"scholarship\": 6, \"summer\": 1, \"morons\": 1, \"@ecjulieheath\": 1, \"@Schoolzilla\": 1, \"rest\": 1, \"https://t.co/DJbc78T8B8\": 1, \"verdad\": 1, \"weekly\": 2, \"https://t.co/5mmcgtrygs\": 1, \"#VisibleWomen\": 3, \"@Cyberchallenge\": 1, \"Completed\": 1, \"https://t.co/oTtEiAg04T\": 1, \"NAm\": 1, \"bricks\": 1, \"https://t.co/Hb5upgSywL\": 1, \"hacemos\": 1, \"joyful\": 1, \"#NH\": 1, \"@Gabyeke\": 1, \"#shelovestech\": 3, \"@Kolor_Koded_101\": 1, \"around\": 15, \"por\": 7, \"\\\\uff0c\": 1, \"dark\": 3, \"Micro\": 1, \"#Ibom\": 1, \"traffic\": 3, \"Contreras-Sweet\": 1, \"world\": 64, \"dare\": 2, \"meat\": 1, \"clan\": 1, \"Adefila\": 1, \"@sarahguha\": 1, \"Share\": 6, \"#gumptiontrigger\": 1, \"https://t.co/LVeSAQcNto\": 1, \"@AishaXBello\": 1, \"certifications\": 1, \"RESPECT\": 1, \"Agreed\": 3, \"explaining\": 1, \"brecha\": 1, \"@wearethetin\": 1, \"#YomassiveRecords\": 1, \"Seriously\": 3, \"#opensource\": 1, \"@facebook\": 2, \"demeaning\": 1, \"THOUSANDS\": 2, \"thinks\": 1, \"https://t.co/eO4w5tlk33\": 1, \"authenticate\": 1, \"https://t.co/VNzHWVMHVM\": 1, \"memories\": 1, \"Motivational\": 1, \"poc\": 1, \"https://t.co/CyevNngokI\": 1, \"API\": 8, \"exit\": 1, \"https://t.co/9q9vpyh56i\": 1, \"Ruby\": 2, \"Projects\": 2, \"biased\": 1, \"https://t.co/oXCYC8Omu0\": 1, \"scientific\": 2, \"power\": 8, \"internship\": 8, \"ofrecen\": 1, \"https://t.co/Uv0JCnZDrL\": 1, \"You\\'ll\": 2, \"leadership\": 2, \"https://t.co/q7dhuR1Znc\": 1, \"throwback\": 1, \";)\": 7, \"@LindiweEM\": 2, \"https://t.co/4MCfM6KimR\": 1, \"https://t.co/fLBi7voMLm\": 1, \"Lifted\": 1, \"Inspire\": 1, \"ace\": 2, \"package\": 2, \"Imposter\": 1, \"industry\": 48, \"favorite\": 15, \"https://t.co/qWwyVBc8WU\": 1, \"side\": 5, \"Scientist\": 2, \"#London2017\": 1, \"origino\": 1, \"https://t.co/vG97jhXogM\": 1, \"https://t.co/RwHwiu39wq\": 1, \"#WomenInAgile\": 2, \"utterly\": 1, \"No\": 10, \"Na\": 1, \"antidote\": 2, \"https://t.co/NOEhu9pD2a\": 1, \"Paint\": 1, \"consultancy\": 2, \"apologize\": 1, \"@valor_economico\": 1, \"#SMSXXI\": 1, \"NL\": 1, \"NM\": 1, \"NC\": 1, \"hex\": 1, \"hey\": 3, \"https://t.co/b4XBCcJtle\": 1, \"NY\": 2, \"https://t.co/oigCixM5ex\": 1, \"ROMET\": 1, \"Sansa\\'s\": 1, \"\\\\u60c5\": 1, \"@krlinton\": 1, \"@_bethanthomas_\": 1, \"Bird\": 1, \"@96Nique\": 1, \"NW\": 1, \"@zxyra_\": 1, \"@Fedora\": 1, \"continents\": 2, \"https://t.co/1sKZKkvEEV\": 1, \"wits\": 1, \"#GoogleDoodle\": 15, \"Olha\": 1, \"https://t.co/nGKcThwyut\": 1, \"@CommanderBethy\": 1, \"beginners\": 1, \"@CassieC007\": 1, \"survived\": 4, \"Small\": 1, \"technologies\": 1, \"thelma\": 1, \"conceptualized\": 1, \"buying\": 2, \"amplify\": 2, \"abused\": 1, \"pull\": 2, \"@jodongo\": 1, \"@aahunsberger\": 1, \"monopoly\": 1, \"Blown\": 1, \"\\\\u06f1\": 2, \"Won\": 2, \"\\\\uddf7\": 5, \"@piplimoon\": 1, \"self-perceived\": 1, \"agree\": 15, \"we\\'d\": 1, \"gone\": 4, \"social-media\": 1, \"ab\": 1, \"https://t.co/R3bX1BpR1O\": 1, \"migrate\": 1, \"ah\": 1, \"al\": 2, \"mundo\": 1, \"How\": 13, \"Hot\": 1, \"Becca\": 1, \"au\": 1, \"watched\": 5, \"bedste\": 1, \"https://t.co/q9ySFHQssn\": 1, \"https://t.co/vwhWJK4v4X\": 1, \"Real\": 1, \"#WhyIleftIn4words\": 1, \"https://t.co/98uO1m6oDT\": 1, \"https://t.co/ilj9hJlHTm\": 1, \"HoC\": 1, \"2003\": 5, \"Read\": 30, \"https://t.co/61PKYu9eZl\": 1, \"HoL\": 2, \"@DarrenIvanov\": 1, \"graduate\": 5, \"2001\": 3, \"https://t.co/fKX9TJCvLr\": 1, \"@Devoxx4Kids\": 1, \"2006\": 1, \"@__apf__\": 1, \"Lady\": 1, \"#babysteps\": 1, \"2007\": 1, \"@pgbovine\": 1, \"@LauraPowers\": 1, \"waving\": 1, \"#sarcasm\": 2, \"https://t.co/NdAIJ7lMax\": 1, \"#LadiesOfSTEM\": 1, \"techtalks\": 1, \"@pachamaltese\": 1, \"https://t.co/Tzct1sTmTS\": 1, \"Hardware\": 1, \"Zeitung\": 1, \"original\": 5, \"Canada\": 2, \"sci\": 3, \"firespinning\": 1, \"ceramic\": 1, \"code\": 179, \"welfare\": 1, \"reasoning\": 1, \"#UAE\": 1, \"ty\": 1, \"tw\": 1, \"tu\": 1, \"teching\": 2, \"Thankyou\": 2, \"tail\": 1, \"th\": 6, \"smile\": 7, \"te\": 1, \"https://t.co/g898QC07Kz\": 1, \"#coding\": 7, \"paying\": 1, \"https://t.co/e8rHzqsEqt\": 1, \"@MrozekKamila\": 1, \"checkin\": 1, \"@InTEACT\": 1, \"#AlsMTL\": 3, \"\\\\udd5e\": 1, \"@ShaimaaLazem\": 1, \"#ARIA\": 1, \"sans\": 1, \"cable\": 1, \"accompanying\": 1, \"marvellous\": 1, \"https://t.co/72GGfKtZN0\": 1, \"joined\": 8, \"large\": 6, \"dinosaur\": 1, \"#MyoElectricArms\": 1, \"small\": 18, \"@jamesahyoung\": 1, \"https://t.co/rBTbRUJN7j\": 1, \"https://t.co/5bixFaIBqN\": 1, \"manifiesto\": 1, \"https://t.co/NBn3X2eR2n\": 1, \"https://t.co/oPrKO6EDC8\": 1, \"Should\": 3, \"past\": 10, \"pass\": 2, \"turning\": 1, \"https://t.co/ew1EEvJulp\": 1, \"investment\": 1, \"#BLOGGER\": 1, \"accreditation\": 1, \"Goosebumps\": 1, \"https://t.co/7iJUi3SWrL\": 1, \"Abuse\": 1, \"Safari\": 1, \"scientists\": 2, \"Cape\": 2, \"#f1\": 1, \"full\": 17, \"hash\": 11, \"#PalesaPhili\": 1, \"https://t.co/D1A8lfDQEn\": 1, \"empower\": 3, \"liderada\": 1, \"hours\": 13, \"smartest\": 2, \"Designer\": 1, \"legend\": 2, \"https://t.co/gcPJpQT4dx\": 1, \"Constructing\": 1, \"compliance\": 1, \"https://t.co/IWIUKL09n2\": 1, \"experience\": 27, \"https://t.co/xfwmw0e0WY\": 1, \"prior\": 1, \"periodic\": 1, \"pick\": 1, \"action\": 2, \"would\\'ve\": 2, \"computerise\": 1, \"https://t.co/GYq71TOfOD\": 1, \"followed\": 3, \"Aug\": 1, \"\\\\u7c89\": 1, \"https://t.co/qWvCwiyf8i\": 1, \"https://t.co/1yrVIrp8qN\": 1, \"https://t.co/Obv9NgjMUp\": 1, \"https://t.co/zRUN0x2aJh\": 1, \"viz\": 1, \"#GenesInSpace\": 1, \"\\\\u00a1\": 2, \"#loveyourbookshopday\": 1, \"nuevas\": 1, \"https://t.co/LewJhfh7q4\": 1, \"https://t.co/QlwpjeUAfq\": 1, \"https://t.co/lkIRZ7Clgk\": 1, \"https://t.co/IdOAewKKK2\": 1, \"automate\": 1, \"6\": 25, \"Russian\": 1, \"https://t.co/hMWPTEj7f2\": 1, \"https://t.co/Sp8ArTYtep\": 1, \"https://t.co/h18ROGlMO1\": 1, \"teen\": 2, \"door\": 1, \"tester\": 4, \"https://t.co/uqnmdCt6vX\": 1, \"company\": 40, \"biz\\'s\": 1, \"tested\": 1, \"https://t.co/1htGRlYIuw\": 1, \"https://t.co/3yRhmk3DUS\": 1, \"#cybersecurity\": 1, \"https://t.co/piXhUTXL0e\": 1, \"Found\": 1, \"#UXAustralia\": 1, \"negativity\": 2, \"keeping\": 5, \"https://t.co/ICkX1TqBeJ\": 1, \"Co-founded\": 1, \"science\": 26, \"FYeah\": 1, \"farted\": 1, \"Yasssssssssssss\": 1, \"\\\\uddf3\": 8, \"resources\": 2, \"evolved\": 1, \"learn\": 28, \"knocked\": 1, \"https://t.co/61uUxl6QIk\": 1, \"\\\\u667a\": 2, \"Your\": 9, \"Decade\": 1, \"Conference\": 1, \"mnth\": 1, \"lous\": 1, \"https://t.co/4I0JRsKhMe\": 1, \"@sarahmei\": 1, \"https://t.co/8ctpvAqLDx\": 1, \"accept\": 1, \"STEM\": 14, \"https://t.co/7Gd731zoh3\": 1, \"fiercely\": 1, \"#ABIDotLocal\": 1, \"sense\": 3, \"@mhwilleke\": 1, \"information\": 2, \"@stevevallas\": 1, \"@TheASF\": 2, \"#DSP\": 1, \"lejos\": 1, \"thumbs\": 1, \"reprimanded\": 1, \"https://t.co/N9wVHJX8Tt\": 1, \"inje\": 1, \"Human\": 1, \"INFOTECH\": 1, \"treatments\": 1, \"entrepreneurship\": 1, \"https://t.co/dNdDJGUQ0d\": 1, \"bioinformatics\": 1, \"ethics\": 1, \"https://t.co/uENoGkphYq\": 1, \"acquisitions\": 1, \"#CoDeSTHLM\": 1, \"@LaisTomazz\": 1, \"#northernvoices\": 1, \"django\": 2, \"Silberbauer\": 1, \"ise\": 1, \"@TheChiefCheese\": 1, \"@Meg_Laz\": 1, \"https://t.co/XBvutdk1z8\": 1, \"#DigitalGov\": 1, \"https://t.co/noHxa2Silo\": 1, \"sayilma\": 1, \"\\\\u248f\": 2, \"https://t.co/2rcqlPScma\": 1, \"paper\": 4, \"https://t.co/YP6wFxTmwN\": 1, \"replies\": 2, \"GPIO\": 1, \"smiling\": 1, \"https://t.co/rRDC0e79a3\": 1, \"alle\": 1, \"#Google\": 4, \"https://t.co/aYSmEM1VSl\": 1, \"https://t.co/3pTgpp79Te\": 1, \"symptoms\": 1, \"https://t.co/i2yY02jDtw\": 1, \"hvor\": 2, \"https://t.co/ON5UpbVVEf\": 1, \"ally\": 6, \"colleague\": 3, \"reeeeeally\": 1, \"#Mspartner\": 1, \"propose\": 1, \"pathologically\": 1, \"https://t.co/gyezG2cz4O\": 1, \"@afkatja\": 1, \"miedo\": 1, \"idols\": 1, \"Creative\": 2, \"Partnerships\": 1, \"https://t.co/cx6fmKyLSi\": 1, \"https://t.co/4XEKk7V3Yq\": 1, \"\\\\u65e5\": 2, \"everytime\": 1, \"https://t.co/27nszVPNQJ\": 1, \"always\": 18, \"Silver\": 2, \"subid\": 1, \"courses\": 5, \"@nataliewarnert\": 1, \"Thanks\": 72, \"found\": 7, \"Sounds\": 1, \"status\": 2, \"reduce\": 1, \"https://t.co/pMRVIYLckh\": 1, \"@HaikuGeek\": 1, \"@HRBlockCanada\": 1, \"measurement\": 1, \"really\": 32, \"WHATTT\": 1, \"psychology\": 1, \"#visiblewomen\": 1, \"#indigenous\": 1, \"research\": 17, \"IQ\": 1, \"offline\": 1, \"Signal\": 1, \"salute\": 2, \"heroine\\'s\": 1, \"driver\": 1, \"drives\": 1, \"@StarlingBank\": 4, \"proxy\": 1, \"imagine\": 2, \"https://t.co/gN5baFM95E\": 1, \"https://t.co/M2XL9ecSQt\": 1, \"director\": 1, \"https://t.co/eWEbSYBsZ9\": 1, \"https://t.co/zqrSRcj6NQ\": 1, \"larguei\": 1, \"diaspora\": 1, \"https://t.co/ixXXL5SM9p\": 1, \"w\": 42, \"anecdote\": 1, \"Biologist\": 1, \"major\": 11, \"https://t.co/m16STTTY0t\": 1, \"Fri\": 2, \"#ssd\": 1, \"number\": 9, \"HTML-tweaking\": 1, \"@n2women\": 1, \"https://t.co/fvHFmiuJwz\": 1, \"guess\": 3, \"https://t.co/vpi6srfRRc\": 1, \"heads\": 2, \"Salamanca\": 1, \"historias\": 2, \"Started\": 21, \"@xxnatc\": 1, \"https://t.co/BH24q10KX6\": 1, \"#socialmedia\": 2, \"ECS\": 1, \"\\\\u043a\": 1, \"hiyo\": 1, \"https://t.co/ewuxNp6y5d\": 1, \"https://t.co/wl8Rcyiemj\": 1, \"immediate\": 1, \"appreciation\": 3, \"consult\": 1, \"focusing\": 1, \"graca\": 1, \"licensed\": 1, \"https://t.co/VHGx6c5wNC\": 1, \"grace\": 1, \"AS400\": 1, \"Often\": 2, \"Cancer\": 3, \"@AsieriFlora\": 1, \"@danafergan\": 1, \"determined\": 1, \"marriage\": 1, \"Nowadays\": 1, \"Click\": 2, \"@ColumbiaVC\": 1, \"Mngr\": 1, \"#computervision\": 1, \"fights\": 1, \"\\\\u200d\": 87, \"Tweeter\": 1, \"#Colombia\": 4, \"https://t.co/NGjofMRl4q\": 1, \"https://t.co/13Vt8bQJUo\": 1, \"https://t.co/MHvprhRkdf\": 1, \"sell\": 2, \"YESSSS\": 1, \"Coached\": 1, \"Club\": 1, \"https://t.co/JQCLYq6pAS\": 1, \"self\": 8, \"also\": 36, \"recognizing\": 3, \"without\": 14, \"pasar\": 1, \"@johannarothman\": 1, \"play\": 3, \"@Praqma\": 1, \"https://t.co/xl5e9SsP6A\": 1, \"@Tech_InPink\": 2, \"M\": 7, \"PDF\": 1, \"https://t.co/78J0napDUe\": 1, \"\\\\u4f53\": 1, \"plan\": 3, \"Wi-Fi\": 1, \"https://t.co/VCvkPFbnO9\": 1, \"Jessica\": 1, \"#goosebumps\": 1, \"OTJ\": 1, \"Google\": 45, \"incase\": 1, \"https://t.co/fhK34sGd8A\": 1, \"sometimes\": 5, \"cover\": 1, \"actionable\": 2, \"giving\": 17, \"#gistribe\": 1, \"bodies\": 1, \"exp\": 2, \"Indirect\": 1, \"technical\": 14, \"https://t.co/qX42Ujnxcb\": 1, \"wording\": 1, \"#GovTech\": 1, \"golf\": 1, \"@GirlhypeSA\": 2, \"gold\": 1, \"schoolers\": 2, \"https://t.co/rO7VwZZzeR\": 1, \"Had\": 4, \"https://t.co/QONg41U0Ef\": 1, \"@ruthmalan\": 1, \"Hay\": 1, \"session\": 3, \"@mozilla\": 2, \"Hat\": 1, \"overwhelmed\": 1, \"Hav\": 1, \"impact\": 11, \"access\": 4, \"https://t.co/VpnCS69Ou0\": 1, \"Internship\": 1, \"simulation\": 1, \"writes\": 1, \"writer\": 6, \"Labs\": 1, \"failed\": 1, \"Base\": 2, \"https://t.co/LskE7QstkG\": 1, \"equity\": 2, \"#InspireTechGirls\": 6, \"Celebrate\": 1, \"\\\\u093e\": 5, \"giants\": 1, \"Masters\": 3, \"https://t.co/W0cDnBGnjr\": 1, \"Wifi\": 1, \"sunny\": 1, \"#hackinout\": 1, \"https://t.co/gjOOg11Snn\": 1, \"#FreeSpeech\": 1, \"https://t.co/E84tz8tFLp\": 1, \"preparing\": 1, \"distraction\": 1, \"@Sairee\": 1, \"@Leaderese\": 1, \"@thomsonreuters\": 3, \"showed\": 3, \"proclaim\": 1, \"banking\": 3, \"Hell\": 1, \"river\": 1, \"fairytale\": 1, \"Gmail\": 17, \"https://t.co/ImTGjGNgL4\": 1, \"set\": 8, \"ser\": 1, \"For\": 22, \"creator\": 1, \"iteration\": 1, \"startup\": 13, \"see\": 69, \"sec\": 3, \"sea\": 2, \"Umm\": 1, \"led\": 17, \"@UnsentDisturbed\": 1, \"https://t.co/fyHFTGZ4zY\": 1, \"shower\": 1, \"@theroxyd\": 2, \"handed\": 1, \"@INVIEWlabs\": 1, \"currently\": 7, \"verbs\": 1, \"@susandra\": 2, \"https://t.co/uB47ZsNpE4\": 1, \"@mugziesnaturals\": 1, \"Tive\": 1, \"sundress\": 1, \"leveraging\": 1, \"#yogaleggings\": 1, \"knowing\": 6, \"blow\": 1, \"https://t.co/xOptthQGE1\": 1, \"#agile2017\": 5, \"tech-blogger\": 1, \"crean\": 1, \"javascript\": 1, \"#iamintel\": 1, \"#Coding\": 1, \"Scholarship\": 1, \"empowering\": 6, \"prospects\": 1, \"https://t.co/VsbLknDeHi\": 1, \"last\": 30, \"influential\": 2, \"barely\": 2, \"m\\'dan\": 1, \"https://t.co/814knFnOcr\": 1, \"Nigerian\": 2, \"improves\": 1, \"acquisition\": 1, \"SAHM\": 2, \"let\": 13, \"whole\": 12, \"#Alexa\": 1, \"#NoConfederate\": 1, \"markdown\": 1, \"mini\": 1, \"smashing\": 2, \"community\": 30, \"@CamilleEsq\": 1, \"https://t.co/i2Q18rYEed\": 1, \"desktop\": 1, \"https://t.co/tBIngwT5bE\": 2, \"https://t.co/3nhS3oHBHa\": 1, \"belt\": 1, \"GitHub\": 4, \"publishing\": 1, \"@netflix\": 3, \"https://t.co/4UWH49SRUw\": 1, \"hitting\": 1, \"https://t.co/9oh4EJD7os\": 1, \"https://t.co/hF1DnsraRI\": 1, \"Heroes\": 1, \"firm\": 3, \"#stunningcolleague\": 1, \"https://t.co/AE5n1aPVWr\": 1, \"https://t.co/dKoB1CV8nV\": 1, \"@FencesMovie\": 1, \"fire\": 8, \"Universe\": 2, \"what\\'s\": 4, \"surfacing\": 2, \"38\": 2, \"@WITBragDay\": 2, \"@ibivarley\": 1, \"VVF\": 1, \"spearheaded\": 2, \"towns\": 1, \"https://t.co/arXO4iInSx\": 1, \"handling\": 1, \"https://t.co/xBi4uUzLmS\": 1, \"#IndependenceDayIndia\": 1, \"caged\": 1, \"reliable\": 1, \"Organizer\": 2, \"https://t.co/Khv6pQCBQ5\": 1, \"\\\\u53ef\": 1, \"admire\": 2, \"#LeanInBangalore\": 1, \"optimization\": 1, \"@ShwetaTurakhia\": 1, \"#HellenObiri\": 1, \"error\": 2, \"https://t.co/2nOI0tg7Wn\": 1, \"@miaoware\": 1, \"GOAT\": 1, \"Valley\\'s\": 1, \"hoping\": 3, \"Mummy\": 1, \"#STEMWIT\": 2, \"calculator\": 1, \"https://t.co/UUDN23vB8K\": 1, \"https://t.co/Nx0DsUylmn\": 1, \"#Opines\": 1, \"https://t.co/BbyKynkq6P\": 1, \"Booooommm\": 1, \"https://t.co/jbq8PbE2Dw\": 1, \"funny\": 1, \"https://t.co/hL4kNLjCWi\": 1, \"https://t.co/WANPcjiglc\": 1, \"https://t.co/LLs41Q0XCw\": 1, \"https://t.co/spMbPWylFj\": 1, \"rules\": 3, \"https://t.co/RsAgNAYKN0\": 1, \"Fully\": 1, \"ugliness\": 1, \"survey\": 1, \"#chocolatelegoscrum\": 2, \"#WorldElephantDay\": 4, \"\\\\ub3c4\": 1, \"#ldknds\": 1, \"Jocelyn\": 1, \"https://t.co/BkdxNoeXHr\": 1, \"https://t.co/hFvjhxjedS\": 1, \"levels\": 2, \"necessity\": 10, \"#MSc\": 1, \"stack\": 6, \"recent\": 3, \"https://t.co/BR7aJNFjDz\": 1, \"@YouTube\": 2, \"https://t.co/gR9kNja4qw\": 1, \"Blogger\": 1, \"https://t.co/0lu2UgzVDh\": 1, \"@AfricanWIT\": 1, \"Didn\\'t\": 3, \"concrete\": 1, \"Staff\": 1, \"Quality\": 2, \"@JulieOwono\": 1, \"#PrettyStrongSmart\": 1, \"lads\": 1, \"Yaaaas\": 1, \"https://t.co/vZMXNzAYw0\": 1, \"@ticketmasteruk\": 1, \"https://t.co/jgHxqq0ruM\": 1, \"Papers\": 1, \"@electricspectra\": 1, \"wearable\": 2, \"#House\": 1, \"https://t.co/qIzJmmWUaT\": 1, \"@nashjain\": 1, \"signals\": 1, \"eager\": 1, \"snappy\": 1, \"@mercy_orangi\": 2, \"testimonies\": 1, \"crying\": 2, \"https://t.co/L8lX0sfziB\": 1, \"input\": 1, \"STCs\": 1, \"submissions\": 2, \"surprised\": 1, \"https://t.co/dfIGzhUfQZ\": 1, \"On\": 8, \"https://t.co/T6lQVmHoeY\": 1, \"@gwenix\": 2, \"MOOCs\": 1, \"doors\": 1, \"emergency\": 1, \"Oh\": 13, \"Of\": 1, \"couple\": 7, \"instructors\": 2, \"shitty\": 3, \"Oy\": 1, \"#innovation\": 8, \"Noticed\": 1, \"Or\": 4, \"projects\": 15, \"formal\": 1, \"ON\": 1, \"https://t.co/ErjXPzfHkC\": 1, \"OK\": 2, \"OG\": 2, \"OF\": 1, \"Switched\": 5, \"https://t.co/zLWJwBKjAv\": 1, \"communications\": 1, \"continue\": 12, \"https://t.co/QW6nVvbowa\": 1, \"https://t.co/7dr5cUmKUC\": 1, \"#IWBrag\": 1, \"@Cranfillec\": 1, \"names\": 1, \"https://t.co/4IcawokXX6\": 1, \"partying\": 1, \"Lynn\": 1, \"prale\": 1, \"pings\": 1, \"greeting\": 1, \"b4\": 2, \"https://t.co/w1Pp7NpKXY\": 2, \"Damn\": 4, \"curious\": 2, \"Philbin\": 1, \"mummy\": 1, \"masculinity\": 2, \"https://t.co/p0EUEYkqld\": 1, \"@aunder\": 1, \"Hells\": 1, \"bg\": 1, \"\\\\u30c4\": 1, \"bc\": 9, \"@techwillsaveus\": 2, \"https://t.co/zSlf0RsDPL\": 1, \"https://t.co/mBOamB25QR\": 1, \"bt\": 1, \"https://t.co/HVOcPT49YF\": 1, \"@lizthegrey\": 2, \"@GKarinaLT\": 1, \"Hello\": 3, \"Y\\'all\": 4, \"#ASU\": 1, \"\\\\u05e2\": 1, \"@MJuhas\": 2, \"anything\": 19, \"netflix\": 1, \"#gendergap\": 1, \"Mulher\": 1, \"@SlackAPI\": 1, \"#G127\": 1, \"https://t.co/pVkpZDADwV\": 1, \"Katie\": 1, \"@KaayAbdulrazaq\": 1, \"https://t.co/l5uC2Or9jL\": 1, \"computational\": 1, \"https://t.co/DIU0C9KItA\": 1, \"garbage\": 2, \"BCom\": 1, \"Young\": 1, \"ACM\": 1, \"Igual\": 1, \"https://t.co/aj9GGI5cEX\": 1, \"troubleshooting\": 2, \"https://t.co/OhvjLJWI9t\": 1, \"contributor\": 1, \"NEW\": 2, \"NET\": 1, \"Used\": 2, \"span\": 1, \"https://t.co/DjdtHumI26\": 1, \"spam\": 2, \"spending\": 1, \"@Ruthkaveke\": 1, \"BigData\": 1, \"https://t.co/gQzketJq4T\": 1, \"custom\": 3, \"#JIT\": 1, \"Uses\": 1, \"User\": 3, \"\\\\u0636\": 1, \"certification\": 1, \"opens\": 1, \"atrav\": 1, \"#TasteoftheDanforth\": 7, \"https://t.co/x8j7bQ6eYC\": 1, \"graciously\": 1, \"poster\": 2, \"https://t.co/JeQJVCZPWx\": 1, \"buttery\": 1, \"https://t.co/89Ytm6q8Ko\": 1, \"queeeeeeeeen\": 1, \"#Science\": 1, \"link\": 1, \"line\": 9, \"posted\": 1, \"Ignite\": 1, \"Office\": 2, \"Jeff\": 1, \"Appeared\": 1, \"#businessnews\": 1, \"Awesome\": 48, \"MEN\": 1, \"Africa\": 22, \"us\": 39, \"ur\": 1, \"cis\": 1, \"Pascal\": 1, \"GDC\": 1, \"mature\": 1, \"GDG\": 1, \"continuously\": 2, \"https://t.co/1cmtt62BqR\": 1, \"#MyHero\": 1, \"supervisor\": 1, \"https://t.co/nwP3XdaL2z\": 1, \"Apex\": 1, \"start-up\": 1, \"influence\": 3, \"comming\": 1, \"globally\": 3, \"https://t.co/PV23aTcIk3\": 1, \"diverse\": 6, \"https://t.co/R5eG261UMk\": 1, \"Memory\": 1, \"https://t.co/jVRPyII7ZM\": 1, \"coder\": 18, \"codes\": 1, \"#Codelikeagirl\": 1, \"#WITDay\": 1, \"competitors\": 1, \"@cheapbeta\": 1, \"points\": 3, \"coded\": 11, \"https://t.co/Q6eBubSKKz\": 1, \"https://t.co/Jz0ZGskWXJ\": 1, \"https://t.co/203kzjv2c0\": 1, \"https://t.co/QEZ4GIYVHG\": 1, \"Netflix\": 2, \"https://t.co/TOID1Kqd6r\": 1, \"https://t.co/LDwPzaLRMS\": 1, \"scrum\": 3, \"robots\": 1, \"https://t.co/hZwizQ3Qwa\": 1, \"occurred\": 1, \"#AFLCatsTigers\": 1, \"#AbbyAirshow\": 11, \"meals\": 1, \"ago\": 48, \"fighter\": 1, \"#legacycode\": 1, \"algorithm\": 7, \"agh\": 1, \"paolamosso\": 1, \"age\": 31, \"@GDGNairobi\": 2, \"walked\": 1, \"https://t.co/ZJtesq4UMy\": 1, \"Whoop\": 1, \"@speechability\": 1, \"hella\": 3, \"fresh\": 3, \"hello\": 2, \"Mercury\": 1, \"Pamietasz\": 1, \"#code\": 1, \"@becksjones88\": 1, \"scratch\": 4, \"soften\": 1, \"https://t.co/2UnZVIiLY0\": 1, \"https://t.co/JBUWygMwP3\": 1, \"@microMAF\": 1, \"Goldblum\": 1, \"moon\": 3, \"centers\": 1, \"Supporting\": 1, \"@HorizonCDT\": 1, \"@dstgovza\": 1, \"https://t.co/Lcv4eL9SZN\": 1, \"https://t.co/dA3kUjJ0YT\": 1, \"young\": 15, \"send\": 3, \"https://t.co/bD6CzvmZAQ\": 1, \"Designed\": 6, \"\\\\u0936\": 1, \"\\\\ucc38\": 1, \"dislike\": 1, \"@PaulaLKennedy\": 1, \"sent\": 2, \"@euangoddard\": 1, \"https://t.co/NE0TUSDDgB\": 1, \"tread\": 1, \"torture\": 1, \"Fixes\": 1, \"https://t.co/23LztoeDFS\": 1, \"sexist\": 15, \"Fixed\": 1, \"continued\": 2, \"https://t.co/wgyKp4LOEG\": 1, \"https://t.co/LnFdv1H3Vd\": 1, \"timely\": 1, \"Ambassador\": 2, \"https://t.co/fQyDqXcUR1\": 1, \"magic\": 3, \"@joybeatty\": 1, \"tritt\": 1, \"marry\": 1, \"https://t.co/Za4ndF1XXo.\": 1, \"they\\'ve\": 3, \"try\": 5, \"https://t.co/NiXbh93tvV\": 1, \"race\": 1, \"rack\": 1, \"@SlackHQ\": 2, \"@d4humanity\": 1, \"Spending\": 1, \"vider\": 1, \"Currently\": 4, \"https://t.co/eowVLPDfpE\": 1, \"faculty\": 1, \"video\": 8, \"https://t.co/stZEZa6s1S\": 1, \"#AnitaBorg\": 1, \"odd\": 1, \"graduating\": 2, \"Motor\": 1, \"Janes\": 1, \"Janet\": 1, \"#braggingfeelsweird\": 1, \"@AbisoyeAjayi\": 1, \"consistently\": 2, \"HTML\": 12, \"twins\": 1, \"UNICODE\": 1, \"NVIDIA\": 1, \"1400\": 1, \"https://t.co/jWCuZEV8PY\": 1, \"scepticism\": 1, \"#MITBragDay\": 2, \"panelists\": 1, \"punch\": 3, \"les\": 1, \"poverty\": 2, \"web\": 35, \"TAed\": 1, \"invented\": 5, \"https://t.co/NrlWj8cqVv\": 1, \"Commonwealth\": 1, \"great\": 114, \"https://t.co/jYOfZJ3gPK\": 1, \"receive\": 1, \"involved\": 6, \"@sogoodlord\": 1, \"https://t.co/IdbwcRCoGA\": 1, \"https://t.co/wkSFHHKVua\": 1, \"https://t.co/niG0I4jC0o\": 1, \"https://t.co/VaxeHkHgpN\": 1, \"resulting\": 1, \"insulin\": 1, \"edtech\": 2, \"Organizing\": 1, \"@videon999\": 1, \"thats\": 1, \"@suefussell\": 1, \"hectic\": 1, \"@tassoula\": 1, \"Leading\": 4, \"terrified\": 1, \"Distributed\": 1, \"https://t.co/ZzaIUWLr0u\": 1, \"Jwillie\": 1, \"https://t.co/WMY2Ct4bDQ\": 1, \"https://t.co/cj5mnW5brx\": 1, \"Motorola-proprietary\": 1, \"tools\": 7, \"https://t.co/WRV77o4qy0(\": 1, \"standing\": 1, \"confidence\": 1, \"cheered\": 1, \"https://t.co/PFCp6f3fkB\": 1, \"https://t.co/YpMkyff4nV\": 2, \"devops\": 1, \"next\": 30, \"\\\\u30b1\": 1, \"@waldojaquith\": 1, \"doubt\": 2, \"https://t.co/bcC4oyb2U7\": 1, \"\\\\u043e\": 4, \"Multi\": 1, \"https://t.co/GhupMHdxZ4\": 1, \"https://t.co/ucts6uFac5\": 1, \"Hosting\": 1, \"#twimpact\": 1, \"@AboCoders\": 1, \"integrate\": 2, \"\\\\u05d3\": 1, \"baby\": 7, \"gladly\": 1, \"#ProductDesign\": 1, \"https://t.co/vveLKSGsXt\": 1, \"customer\": 1, \"integrating\": 1, \"challenge\": 7, \"clients\": 3, \"pour\": 1, \"https://t.co/htbfWHWwNE\": 1, \"reproduce\": 1, \"publications\": 1, \"@lindseybieda\": 2, \"https://t.co/aUnHTSZx5S\": 1, \"https://t.co/PRf73okxMM\": 1, \"streamed\": 1, \"Police\": 1, \"https://t.co/vFwgwHaJsY\": 1, \"NodeJs\": 1, \"process\": 5, \"loci\": 1, \"@lpoolgirlgeeks\": 5, \"USAF\": 1, \"high\": 18, \"https://t.co/LGlLWOOZYk\": 1, \"#GIRLpower\": 1, \"sociedad\": 1, \"https://t.co/q2mm3wb2wO\": 1, \"#Letsnurture\": 1, \"trumpet\": 1, \"educational\": 3, \"#digitalmarketing\": 1, \"\\\\u521d\": 1, \"@cloudfoundry\": 1, \"#TechBae\": 1, \"pair\": 1, \"Friends\": 4, \"Payment\": 1, \"stand\": 3, \"npm\": 4, \"awesomest\": 1, \"@learningcode\": 4, \"https://t.co/22zxbWOSCt\": 1, \"@kubernetesio\": 1, \"aspiring\": 1, \"await\": 1, \"malware\": 2, \"Days\": 1, \"notebook\": 3, \"@Wajulzoe\": 1, \"https://t.co/APcMa1yFoK\": 1, \"autograph\": 1, \"efficiently\": 2, \"Uber\": 1, \"realized\": 2, \"Beauty\": 1, \"Apple\": 6, \"\\\\u00e6\": 5, \"@HSCI\": 1, \"robot\": 3, \"redundant\": 1, \"One\": 24, \"@FogelDavid\": 1, \"allow\": 1, \"Apply\": 1, \"volunteers\": 2, \"counted\": 2, \"understate\": 1, \"@Techese\": 1, \"#techforgood\": 1, \"Retweeted\": 4, \"researching\": 2, \"produced\": 3, \"#Tech\": 13, \"@BookDash\": 1, \"perfect\": 5, \"https://t.co/EerewlawDF\": 1, \"#TechHire\": 1, \"chosen\": 2, \"Congrats\": 16, \"Cabinet\": 1, \"thieves\": 2, \"degrees\": 8, \"2015\": 11, \"2014\": 1, \"2017\": 20, \"2016\": 8, \"2011\": 12, \"2013\": 1, \"2012\": 4, \"designs\": 3, \"python\": 4, \"@techstars\": 1, \"Register\": 1, \"@thoughtworksbr\": 1, \"@kabandisaikia\": 1, \"@adafruit\": 1, \"legendary\": 1, \"Social\": 2, \"https://t.co/DZj8RYO0OA\": 1, \"realize\": 2, \"tantas\": 1, \"@KateMegaw\": 1, \"undertaking\": 1, \"https://t.co/oPZxj1odOK\": 1, \"@candasea2006\": 1, \"https://t.co/n5xRsmg3uI\": 1, \"Sad\": 1, \"merge\": 1, \"delightful\": 2, \"Saw\": 1, \"Kate\": 1, \"Sat\": 1, \"https://t.co/wkY4Q9AKE3\": 1, \"devops_research\": 1, \"Network\": 1, \"https://t.co/l6h2PLSup1\": 1, \"https://t.co/PXVduOrilG\": 1, \"@Yvonne_Adele\": 2, \"Washington\": 1, \"@lynetkosgey\": 2, \"Anniversary\": 1, \"@ashmchang\": 1, \"society\": 3, \"books\": 10, \"ShellGeostar\": 1, \"https://t.co/41IGr0XsI1\": 1, \"Very\": 16, \"Intimidated\": 1, \"dismissal\": 1, \"halped\": 1, \"Vera\": 1, \"https://t.co/8hjem6k4Va\": 1, \"Breast\": 1, \"https://t.co/jaOIzj0JpC\": 1, \"@zephoria\": 4, \"@sketchingsm\": 1, \"https://t.co/guOFG0fysY\": 1, \"bac\": 1, \"https://t.co/4Q6RnOZiqA,\": 1, \"https://t.co/e52J9PZvYX\": 1, \"interactions\": 1, \"Teknoloji\": 11, \"#howitsmade\": 2, \"tempo\": 1, \"Spent\": 1, \"#justsaying\": 1, \"https://t.co/zUhhcMbkJR\": 1, \"surely\": 1, \"@RBassudeo\": 1, \"@glemmaPaul\": 1, \"embarrass\": 1, \"@picklessprakel\": 1, \"steering\": 1, \"Meer\": 1, \"scary\": 2, \"@Kolar_Koded_101\": 1, \"https://t.co/8xErys4BSF\": 1, \"transferable\": 1, \"could\": 17, \"\\\\u05ea\": 4, \"Celebrities\": 1, \"Jump\": 1, \"@Ancestry\": 1, \"https://t.co/aGhV7lyrv8\": 1, \"@tlyns32\": 1, \"Hotel\": 1, \"blown\": 1, \"451\": 1, \"Review\": 1, \"owned\": 2, \"@learnitgirl\": 1, \"https://t.co/1rExa23xxt\": 1, \"spaghetti\": 1, \"Program\": 2, \"Connecting\": 1, \"@evidation\": 1, \"owner\": 1, \"@DrShikoh\": 6, \"Acutally\": 1, \"Slave\": 1, \"bles\": 1, \"los\": 3, \"\\\\u06a9\": 6, \"system\": 4, \"@AgnesWold\": 1, \"https://t.co/g9GV60jUX7\": 1, \"https://t.co/qYfjnKfIHK\": 1, \"\\\\u4f38\": 1, \"travelled\": 1, \"@alexcdaud\": 1, \"@chelseycolbert\": 2, \"#STEAM\": 2, \"HERO\": 1, \"lot\": 34, \"adaptor\": 1, \"@albyselkie\": 1, \"HERE\": 2, \"@kzmitrowicz\": 1, \"depressing\": 4, \"https://t.co/IUguPNJAgt\": 1, \"UNN\": 1, \"Sector\": 1, \"zones\": 1, \"colleagues\": 11, \"https://t.co/3GVZQ89dUr\": 1, \"https://t.co/vLWuKFIB1w\": 1, \"bother\": 1, \"https://t.co/0DWnlUASHZ\": 1, \"\\\\ub370\": 1, \"decided\": 2, \"@kat_lau\": 1, \"https://t.co/uGIWVyOmzK\": 1, \"AAD\": 2, \"https://t.co/Exae6JX8JR\": 1, \"AAA\": 1, \"\\\\udd84\": 4, \"hashtags\": 6, \"https://t.co/Sn4NcqFP8A\": 1, \"reassuring\": 1, \"sysadmin\": 2, \"Workshop\": 2, \"Community\": 1, \"element\": 1, \"clearly\": 3, \"https://t.co/H2FpB8IHnN\": 1, \"@HackerHouseUK\": 1, \"#netflixandchill\": 1, \"https://t.co/tgbluYhX2i\": 1, \"studying\": 10, \"@AnnaFuoti\": 1, \"@katssbtp\": 1, \"https://t.co/iHAb9JdOMo\": 1, \"https://t.co/dXHc2pUr3Z\": 1, \"competence\": 1, \";-)\": 5, \"toughest\": 1, \"worldwide\": 4, \"tonight\": 1, \"https://t.co/XKjqCVxF2z\": 1, \"@carologic\": 1, \"Yoooooooo\": 1, \"https://t.co/bjeEkBYA0z\": 1, \"Biology\": 1, \"unobtrusively\": 1, \"@ColetteWeston\": 2, \"courtesy\": 1, \"visa\": 1, \"device\": 1, \"visi\": 1, \"medal\": 2, \"SLA\": 1, \"avance\": 2, \"#softwaretesting\": 1, \"https://t.co/B0q1rgiUl4\": 1, \"\\\\u6167\": 1, \"#ScienceWeek\": 1, \"stronger\": 3, \"https://t.co/0QfTBqOMmn\": 1, \"face\": 4, \"https://t.co/WI3d9QKKPV\": 1, \"Scrutinize\": 1, \"#HUS\": 1, \"@claudenir_cf\": 1, \"https://t.co/GPkTs7iZlc\": 1, \"08\": 1, \"fact\": 3, \"MCP\": 1, \"atmosphere\": 2, \"https://t.co/dJ77j4mPg7\": 1, \"@emerhi\": 1, \"https://t.co/3391a68YFs\": 1, \"Godmorgen\": 1, \"dba\": 1, \"#sociologist\": 1, \"assholes\": 1, \"bring\": 7, \"bikes\": 1, \"braggers\": 1, \"rough\": 2, \"Waste\": 1, \"https://t.co/rhW1iT2pYf\": 1, \"decade\": 1, \"principal\": 1, \"LeonieWatsonAnd\": 1, \"podcast\": 3, \"https://t.co/zXGMXZDB88\": 1, \"jaw\": 1, \"#Meetup\": 2, \"#LetsDoIt\": 1, \"https://t.co/ZFrHT0xalw\": 1, \"terminal\": 1, \"https://t.co/iEirUNy4uF\": 1, \"\\\\uc838\": 1, \"handwarmers\": 1, \"hope\": 20, \"move\": 3, \"handle\": 2, \"sweetie\": 2, \"listened\": 1, \"means\": 9, \"familiar\": 2, \"lucky\": 7, \"https://t.co/IZ5BMKNgkQ\": 1, \"Keep\": 34, \"https://t.co/s5p3a3jdzl\": 1, \"fraud\": 1, \"2016,\": 1, \"#DS\": 1, \"https://t.co/2uefLPN0e7\": 1, \"Once\": 1, \"https://t.co/QPyRrbCoNy\": 1, \"Because\": 6, \"h\": 3, \"undergrad\": 6, \"https://t.co/UTtJ9TWo43\": 1, \"disminuir\": 1, \"stuff\": 34, \"barest\": 1, \"#SaturdaySchool\": 1, \"superstars\": 1, \"https://t.co/eZGBFHsahn\": 1, \"btw\": 2, \"#InAwe\": 1, \"@alisonbcoleman\": 1, \"heartburn\": 1, \"edition\": 3, \"Pi\": 1, \"packed\": 1, \"PR\": 3, \"PS\": 1, \"superhero\": 3, \"\\\\u0627\": 45, \"@pavolrusnak\": 1, \"self-taught\": 6, \"PC\": 4, \"WARNING\": 1, \"injustice\": 1, \"PH\": 1, \"@SimiOlusola\": 1, \"email\": 9, \"PM\": 9, \"Estrelas\": 1, \"keynote\": 7, \"Forum\": 1, \"Developing\": 1, \"@SalFreudenberg\": 3, \"#WomenInTesting\": 2, \"#WiTbragday\": 9, \"staring\": 1, \"e-posta\": 1, \"#sales\": 1, \"invited\": 4, \"@sagishrieber\": 1, \"galore\": 1, \"etc\": 7, \"https://t.co/8gFQKMemfs\": 1, \"@ej_carter\": 1, \"\\\\uc77d\": 1, \"invites\": 1, \"@SV_Vikings\": 1, \"Inspiring\": 21, \"co\": 2, \"Christ\": 1, \"Her\": 3, \"Delivered\": 1, \"cc\": 15, \"@rachelbaker\": 1, \"Girls\": 11, \"Hey\": 19, \"ce\": 1, \"https://t.co/YCOjIfYc3V\": 1, \"https://t.co/leuophDNnl\": 1, \"@womenintech\": 1, \"https://t.co/nuDiNlBajK\": 1, \"Hen\": 1, \"https://t.co/oKyjRN4Oxd\": 1, \"undergraduate\": 1, \"admin\": 7, \"\\\\u539f\": 1, \"8.4\": 10, \"Initiated\": 1, \"Get\": 8, \"https://t.co/meWYP3JBe0\": 1, \"#development\": 1, \"Phone\": 1, \"Unsung\": 1, \"DAMN\": 2, \"waste\": 1, \"kaha\": 1, \"trinity\": 10, \"https://t.co/wWHkch7vBT\": 1, \"@Eva_Atambo\": 1, \"https://t.co/xlnJjxOZSB\": 1, \"https://t.co/Rc5cp56p0C\": 1, \"hobby\": 1, \"pedantry\": 1, \"Slightly\": 2, \"https://t.co/BMK0AwwZQ7,\": 1, \"https://t.co/MGK7WhNryg\": 2, \"\\\\uddeb\": 1, \"grinning\": 2, \"frameworks\": 1, \"#DiversityMatters\": 1, \"https://t.co/4D7pJQNp9E\": 1, \"#womenwhocode\": 1, \"@rubyghetto\": 1, \"ly\": 1, \"Katas\": 1, \"iterating\": 1, \"va\": 1, \"https://t.co/1YsfhHc6EZ\": 1, \"ripe\": 1, \"insanely\": 1, \"site\": 13, \"hardware\": 6, \"politics\": 1, \"https://t.co/G8pluOUgO6\": 1, \"@fissionstrategy\": 1, \"sits\": 1, \"https://t.co/VTh94aHtuM\": 1, \"manifestbros\": 1, \"https://t.co/q00d9ocV4I\": 1, \"https://t.co/bIzDrLhGdx\": 1, \"@Keah_Maria\": 1, \"Masako\": 2, \"#inspirechallengeexcel\": 2, \"#cancer\": 1, \"https://t.co/LAaLWMtYfi\": 1, \"Yaaaaassss\": 1, \"android\": 2, \"architectured\": 1, \"Grew\": 1, \"infinity\": 1, \"4.4\": 1, \"Nanodegree\": 1, \"drink\": 2, \"upon\": 2, \"nationally\": 1, \"proficiency\": 1, \"v1\": 1, \"distinction\": 2, \"dust\": 1, \"https://t.co/WhkkLhjTTg\": 1, \"php\": 2, \"@hemikim\": 1, \"@comcast\": 1, \"expand\": 1, \"diabetes\": 2, \"ofc\": 1, \"https://t.co/jUlFqX4sNu\": 1, \"acknowledgement\": 1, \"adapted\": 1, \"Julie\": 31, \"#BalancetheEquation\": 1, \"@pawsoutteam\": 1, \"#NN17\": 2, \"command\": 1, \"350\": 1, \"Need\": 9, \"\\\\u05d5\": 4, \"@tayler2412\": 1, \"#Fintech\": 1, \"newest\": 1, \"@Telegraph\": 1, \"less\": 9, \"Mother\": 2, \"Access\": 1, \"https://t.co/lANFdfvYJG\": 1, \"predicts\": 1, \"Helping\": 3, \"Jonesin\": 1, \"Company\": 1, \"@medialab\": 1, \"https://t.co/WDKWPlh1I7\": 1, \"Algunos\": 1, \"preschool\": 1, \"https://t.co/Jts3IUD0da\": 1, \"@mbrosson\": 1, \"Kampala\": 2, \"government\": 1, \"checking\": 8, \"https://t.co/PSNCBMbsiV\": 2, \"increases\": 1, \"five\": 3, \"desk\": 2, \"password\": 1, \"\\\\u30df\": 1, \"debatable\": 1, \"#MiTBragDay\": 1, \"https://t.co/QSbOO3T46Y\": 1, \"Techie\": 1, \"https://t.co/iXTQXj5J7Z\": 1, \"wrkd\": 1, \"cosas\": 3, \"MATTERS\": 1, \"Lasers\": 1, \"become\": 9, \"estudando\": 1, \"Quit\": 3, \"https://t.co/gzDbJfgEGy\": 1, \"https://t.co/4kKxy3myn7\": 1, \"https://t.co/m9g76RsWvs\": 1, \"peer\": 1, \"#WITBRAGDAY\": 4, \"There\\'s\": 2, \"#megamillions\": 1, \"choosing\": 1, \"flush\": 1, \"humming\": 1, \"transport\": 2, \"https://t.co/dHDm9QyiFS\": 1, \"literally\": 4, \"Ied\": 1, \"@digiges\": 1, \"passion\": 9, \"https://t.co/9C7QCek2PB\": 1, \"capability\": 1, \"MITBragDay\": 1, \"vangloriarem-se\": 1, \"biology\": 2, \"schedule\": 2, \"https://t.co/PPtGLSuRy5\": 1, \"https://t.co/y6EmQBId7E\": 1, \"pressure\": 1, \"#GoogleTechIE\": 2, \"https://t.co/tj1asW7SMr\": 1, \"https://t.co/ykufKB5I93\": 1, \"skill-sharing\": 1, \"#Nairobi\": 1, \"@Thoughtworks\": 1, \"stage\": 3, \"gained\": 1, \"sister\": 4, \"lifestyle\": 2, \"https://t.co/8CMitjpkSs\": 1, \"Cos\": 1, \"hier\": 1, \"#GCTools\": 1, \"software\": 75, \"Platinum\": 1, \"alliance\": 1, \"Opened\": 1, \"@SkyCorporate\": 1, \"https://t.co/WNEm5q7jBe\": 1, \"descobri\": 1, \"assess\": 1, \"donde\": 1, \"@devbootcamp\": 1, \"https://t.co/9xh3ssRM5S\": 1, \"https://t.co/9T3QF1TyvI\": 1, \"charities\": 1, \"Alexa\": 1, \"BUSINESS\": 1, \"TechAccessTV\": 1, \"\\\\u2328\": 1, \"https://t.co/6xwbpKbD2S\": 1, \"spots\": 1, \"#WATLIV\": 1, \"https://t.co/ZW0KCMm5vz\": 1, \"#DoGreatWorkforGoodPeople\": 1, \"https://t.co/NNvaJXzR4H\": 1, \"yrs\": 40, \"Exact\": 1, \"@lectrifyit\": 2, \"#History\": 1, \"https://t.co/GDhnrHcpVe\": 1, \"HALOWorldwide\": 1, \"Well\": 15, \"delivery\": 1, \"https://t.co/b7bd6W4qKs\": 1, \"construction\": 2, \"delivers\": 1, \"https://t.co/femGlJ7dCz\": 1, \"count\": 4, \"#webmanagers\": 1, \"\\\\u0964\": 1, \"https://t.co/Ix8FhD2OyR\": 1, \"https://t.co/EDc5r2Xwwi\": 1, \"smooth\": 1, \"https://t.co/ZfkZwPEWTp\": 1, \"#Ireland\": 1, \"placed\": 2, \"frequency\": 1, \"amaaazing\": 1, \"problem\": 9, \"\\\\ud83e\": 63, \"https://t.co/nS6Cstl4xB\": 1, \"https://t.co/ENbbpMRtw2\": 1, \"Superheroes\": 1, \"https://t.co/NIIEHTjd8U\": 1, \"16,\": 2, \"@GotoGrow_London\": 2, \"ASAP\": 1, \"recognize\": 1, \"contribute\": 3, \"Georgia\": 1, \"shepherded\": 1, \"ing\": 1, \"https://t.co/oaOlqEVxWy\": 1, \"Kick\": 1, \"inc\": 1, \"compared\": 2, \"variety\": 2, \"trials\": 1, \"Yesterday\": 3, \"lately\": 4, \"oncologists\": 1, \"@LynBeazley\": 1, \"details\": 1, \"https://t.co/xmySdZYxfz\": 1, \"@okisker\": 1, \"DAY\": 5, \"#appsmashing\": 1, \"veis\": 1, \"https://t.co/phPrWVlIEd\": 1, \"dismantle\": 1, \"@ravikarkara\": 1, \"chance\": 8, \"U\": 5, \"badass\": 16, \"South\": 9, \"exposure\": 2, \"https://t.co/Rv4C8OCYeB\": 1, \"UXPA\": 1, \"lasted\": 1, \"rule\": 2, \"https://t.co/RYfz3vV5uJ\": 1, \"lift\": 1, \"compete\": 1, \"Critique\": 1, \"rural\": 2, \"defend\": 1, \"https://t.co/oiDxIcvJPQ\": 1, \"\\\\uc785\": 1, \"@odaminowin\": 1, \"Agile\": 5, \"#GirlsWhoCode\": 2, \"rapid\": 1, \"https://t.co/x7xpytECJW\": 1, \"oldest\": 1, \"saved\": 5, \"#VisibleWoman\": 1, \"@SaidahNCarter\": 2, \"https://t.co/FaQZ7pSsD6\": 1, \"@ultrasaurus\": 1, \"Watch\": 1, \"CV\": 1, \"https://t.co/hAELChY6SU\": 1, \"bike\": 1, \"voted\": 2, \"Changing\": 2, \"@kunovskily\": 1, \"worth\": 11, \"geology\": 1, \"https://t.co/9axVoiwiUv\": 1, \"@techweez\": 5, \"team\\'s\": 2, \"https://t.co/h6CCuctsn3\": 1, \"Military\": 2, \"1650\": 1, \"tickets\": 1, \"we\\'ll\": 1, \"@Swan5280\": 2, \"\\\\udde9\": 7, \"Yettie\": 1, \"mencionar\": 1, \"HIVE\": 1, \"https://t.co/U1BERlCljT\": 1, \"Cybersecurity\": 2, \"systemic\": 1, \"https://t.co/nG7w4F6hln\": 1, \"https://t.co/moFI21YuSR\": 1, \"@wirecutter\": 1, \"yesterday\\'s\": 1, \"Panda\": 1, \"hora\": 1, \"cher\": 1, \"@kungfukrispy\": 1, \"@JoeAntaine\": 1, \"Wakamiya\": 1, \"@ystvns\": 1, \"https://t.co/3oPmFn00r1\": 1, \"chef\": 1, \"https://t.co/CtWNWM6HeD\": 1, \"#JourneyToWorldClass\": 1, \"https://t.co/eoPuS4oaMs\": 1, \"chem\": 1, \"machines\": 1, \"Partly\": 1, \"https://t.co/YQ6adnDXmy\": 1, \"deliberate\": 1, \"#hero\": 1, \"https://t.co/KpZLZmi7oS\": 1, \"\\\\u062f\": 13, \"https://t.co/hs2rnULndv\": 1, \"Amazon\": 6, \"Ones\": 1, \"#UTS\": 2, \"@MingJohanson\": 1, \"ceilings\": 1, \"told\": 14, \"https://t.co/6x6UBcOBSq\": 1, \"https://t.co/5G6fSMUyrQ\": 1, \"#FF\": 1, \"\\\\u094d\": 3, \"#FE\": 1, \"wrapping\": 1, \"localisation\": 1, \"https://t.co/pevqFpnKS6\": 1, \"https://t.co/KHeEJ3JRii\": 1, \"https://t.co/ryKGSRQyx1\": 1, \"https://t.co/kKWr1uKn0H\": 1, \"underrepresented\": 2, \"https://t.co/JjFzkaKg5K\": 1, \"celebration\": 3, \"kudos\": 1, \"daughter\": 18, \"study\": 5, \"Queen\": 7, \"envoy\": 1, \"https://t.co/lzje50Ftcu\": 1, \"browsing\": 1, \"Home\": 1, \"aka\": 3, \"https://t.co/ccObPDZ6tf\": 1, \"secure\": 5, \"https://t.co/0PqswZhOZW\": 1, \"https://t.co/gAQjBRvZlR\": 1, \"Binge\": 1, \"@debmrazek\": 1, \"#RHoK\": 1, \"highly\": 4, \"bro\": 1, \"parents\": 1, \"CTF\": 1, \"https://t.co/PLiP9ZUbGD\": 1, \"Meet\": 12, \"@janetcoyle2\": 1, \"Saluting\": 1, \"total\": 4, \"\\\\u725b\": 1, \"bra\": 1, \"One\\'s\": 1, \"Star\": 1, \"https://t.co/Oah5udjGns\": 1, \"nine\": 1, \"#MadeInWebflow\": 1, \"https://t.co/n94QfPTblX\": 1, \"negative\": 5, \"Stay\": 3, \"https://t.co/xyp4MGyOwy\": 1, \"@womentechafrica\": 2, \"quo\": 1, \"Tapping\": 2, \"zeroes\": 1, \"frend\": 1, \"award\": 4, \"aware\": 3, \"https://t.co/hK54V9x8qT\": 1, \"#MITBragday\": 1, \"Docker\": 1, \"Introduced\": 1, \"Normally\": 1, \"blocking\": 1, \"1990\": 1, \"word\": 4, \"1994\": 2, \"1997\": 1, \"1996\": 1, \"1999\": 3, \"1998\": 4, \"work\": 156, \"#GetGoodOrGetOff\": 1, \"worn\": 1, \"era\": 2, \"deprived\": 1, \"Joyner-Kersee\": 1, \"kodu\": 1, \"EVER\": 2, \"scripting\": 1, \"JavaScript\": 8, \"https://t.co/hVBpvoLr1C\": 1, \"Virtual\": 2, \"\\\\udd13\": 21, \"https://t.co/5odLRmaxdh\": 1, \"Digital\": 6, \"https://t.co/qXAYbL1pDV\": 1, \"Passat\": 2, \"https://t.co/BnHe5HTBVh\": 1, \"https://t.co/3e9KoKsgrY\": 1, \"endometrial\": 1, \"https://t.co/rta2SfTBLM\": 1, \"@MicrosoftAfrica\": 1, \"provide\": 1, \"#InternationalElephantDay\": 1, \"Journal\": 1, \"nuts\": 1, \"co-wrote\": 1, \"https://t.co/GRfh01Q29R\": 1, \"interview\": 3, \"ordinary\": 2, \"gamble\": 2, \"Zealand\": 1, \"lan\": 2, \"heatmap\": 1, \"transforming\": 1, \"coined\": 1, \"earlier\": 1, \"Mainframe\": 1, \"lab\": 3, \"Will\": 3, \"@LucyMbabazi\": 1, \"https://t.co/chov0pQSg5\": 1, \"law\": 2, \"@Rosemarije\": 1, \"Kibera\": 2, \"las\": 7, \"US\": 7, \"https://t.co/EokecsVpKh\": 1, \"https://t.co/StrmEgD1na\": 1, \"appreciate\": 6, \"diferencias\": 1, \"https://t.co/8IiV9NZ7xD\": 1, \"green\": 1, \"https://t.co/f5y3yFKaGN\": 1, \"https://t.co/EK1csXEwnF\": 1, \"Chime\": 1, \"https://t.co/DYpAX8k1PY\": 1, \"order\": 2, \"Hacker\": 1, \"https://t.co/q73DCFB9Rn\": 1, \"https://t.co/qq9089S6Kz\": 1, \"https://t.co/uVa60xy5JX\": 1, \"office\": 5, \"devote\": 1, \"Master\\'s\": 4, \"https://t.co/xcWPu5KHdt\": 1, \"#postgis\": 1, \"https://t.co/OhFheWIpR6\": 1, \"https://t.co/ZAM9IjgWoi\": 1, \"pre-working\": 1, \"innovative\": 2, \"@leah_r_lewis\": 1, \"https://t.co/iC9wXCsJZK\": 1, \"https://t.co/Rh9nplwXxL,\": 1, \"#UIS\": 1, \"#product\": 1, \"#Respect\": 4, \"https://t.co/trhw2j0gdx\": 1, \"https://t.co/BrbmGNrdSN\": 1, \"https://t.co/1lQ8AhnNCR\": 1, \"somewhere\": 2, \"highlights\": 2, \"What\\'s\": 6, \"waTch\": 1, \"https://t.co/wV073OlF3v\": 1, \"awfulness\": 1, \"production\": 7, \"\\\\u6b8b\": 1, \"split\": 1, \"eventually\": 2, \"coffee\": 3, \"#leedsbeckett\": 1, \"Ditto\": 1, \"https://t.co/lUI67Chtw4\": 1, \"safe\": 5, \"https://t.co/UMXfDuVtBN\": 1, \"@pinczuk\": 1, \"break\": 5, \"Merci\": 1, \"@WITWA\": 1, \"https://t.co/Vo06bQBTbW\": 1, \"mgmt\": 5, \"#pavingtheway\": 1, \"lifelong\": 1, \"bank\": 2, \"bread\": 1, \"https://t.co/LqVKdS2CPy\": 1, \"https://t.co/xbj2w8uBEu\": 1, \"rocks\": 3, \"https://t.co/73ElsFKqMo\": 1, \"370\": 1, \"feeds\": 2, \"@AnnODeaSR\": 1, \"https://t.co/E5JNUTp5Gy\": 1, \"Siri\\'s\": 1, \"Heroku\": 1, \"scalabiliy\": 1, \"hosted\": 1, \"logo\": 1, \"slew\": 1, \"#blessed\": 1, \"@katrina_tester\": 3, \"@Pain_N_The_Cass\": 1, \"network\": 11, \"Myth\": 1, \"SparkR\": 1, \"#techleaders\": 1, \"Wars\": 1, \"trainers\": 1, \"Mailchimp\": 1, \"braglog\": 1, \"https://t.co/fIhTqGmgIa\": 1, \"medicine\": 2, \"https://t.co/naxCFdSv2J\": 1, \"https://t.co/XyL3JSi4Vq\": 1, \"barrier\": 1, \"Salzburg\": 1, \"https://t.co/x0RP6je9J6\": 1, \"confirms\": 1, \"POSSIBLE\": 1, \"standard\": 1, \"@CodeRangersAU\": 1, \"bake\": 1, \"Superdrug\": 1, \"people\\'s\": 2, \"@AgileTD\": 1, \"certified\": 3, \"VP\": 4, \"dammit\": 1, \"https://t.co/y9HDl0D70R\": 1, \"recovering\": 1, \"created\": 12, \"September\": 1, \"https://t.co/Q7UoUIbtb8\": 1, \"refugee\": 3, \"https://t.co/FQFRcYN6ih\": 1, \"Terraform\": 1, \"organize\": 2, \"Cooper\": 1, \"@MissOwino\": 2, \"partout\": 1, \"another\": 12, \"drones\": 2, \"#IAppreciateYou\": 1, \"electronic\": 4, \"@aprilwright\": 1, \"https://t.co/mhU2XhFJ93\": 1, \"@miahorri\": 1, \"#reactjs\": 1, \"approximately\": 1, \"#ROMET\": 1, \"rates\": 1, \"https://t.co/N0VmvCRyH0\": 1, \"#blackandSTEM\": 1, \"https://t.co/yrukAzW7vA\": 1, \"int\\'l\": 1, \"imo\": 1, \"B\": 2, \"#AgileCoachCamp\": 1, \"https://t.co/EDL3Pjavp6\": 1, \"rejected\": 1, \"@teamfuture17\": 1, \"sucontractor\": 1, \"wasted\": 1, \"Advisory\": 1, \"Iraq\": 1, \"Sep\": 2, \"https://t.co/VtZGdtI4rK\": 1, \"@smithcollege\": 1, \"glorifies\": 1, \"See\": 2, \"\\\\uacf5\": 2, \"Sen\": 1, \"@Mohamd_shahrani\": 1, \"solely\": 2, \"minus\": 1, \"#WynonnaEarp\": 3, \"rewrite\": 1, \"respecting\": 1, \"Self-taught\": 10, \"@testacious\": 1, \"@iamdyanneo\": 1, \"refreshingly\": 1, \"Instead\": 2, \"forced\": 1, \"https://t.co/UGTbydZJZ2\": 1, \"strength\": 2, \"https://t.co/uDA1gE0rS5\": 1, \"FYI\": 1, \"#yougogirl\": 1, \"subjects\": 2, \"#OneTimeForWomenInTech\": 1, \"ocuklar\": 1, \"explanation\": 1, \"circles\": 1, \"@movableink\": 1, \"Qs\": 1, \"#careerwomen\": 1, \"@wimlds\": 1, \"sue\": 1, \"#ns954\": 2, \"https://t.co/mRcO4xjaMU\": 1, \"Latin\": 1, \"@Chizman_\": 1, \"\\\\u0932\": 1, \"scripts\": 3, \"phase\": 1, \"Went\": 6, \"https://t.co/TUfBOgKTT9\": 1, \"https://t.co/id3Dy0sqqn\": 1, \"https://t.co/L7hBSGfBnB\": 1, \"alumna\": 1, \"@Launch_Code\": 1, \"https://t.co/ZOzWziDmMo\": 1, \"alumni\": 1, \"https://t.co/97SZ2bBZ2W\": 1, \"QA\": 5, \"picture-cropping\": 1, \"deeply\": 1, \"voting\": 1, \"responded\": 1, \"fitted\": 1, \"https://t.co/NNvaJXRsth\": 1, \"@0xabad1dea\": 1, \"facto\": 1, \"Anne\": 1, \"firehose\": 1, \"enjoyed\": 3, \"Anna\": 2, \"European\": 1, \"@CodeNewbies\": 1, \"Foto\": 1, \"summarised\": 1, \"implementation\": 2, \"guidance\": 2, \"https://t.co/I0dZXTneXn\": 1, \"hrs\": 2, \"@786ask\": 1, \"screening\": 1, \"pursuing\": 3, \"DCU\": 1, \"https://t.co/ebKCWxvlCb\": 1, \"https://t.co/f2WMfcR4UZ\": 1, \"personality\": 1, \"di\": 1, \"de\": 22, \"glamorous\": 1, \"da\": 3, \"https://t.co/mhBLaWwq64\": 1, \"Cordinator\": 1, \"downtime\": 2, \"OMG\": 1, \"\\\\u4fdd\": 1, \"Morawetz\": 1, \"runs\": 6, \"covering\": 1, \"https://t.co/GUd2ZVZQFQ\": 1, \"children\\'s\": 1, \"@WillingCarol\": 1, \"analytical\": 1, \"#instructors\": 1, \"https://t.co/EBnB5Y2gwj\": 1, \"https://t.co/ptkErSxk7l\": 1, \"secretary\": 1, \"@mOmheadofficial\": 1, \"@LehighU\": 1, \"Networking\": 2, \"inspirant\": 1, \"cancelar\": 1, \"@heisenfeature\": 1, \"analytics\": 2, \"Reply\": 1, \"Malawi\": 1, \"@republica\": 1, \"_my_\": 1, \"@JulietteMajor\": 1, \"away\": 6, \"tags\": 1, \"gentleman\": 1, \"https://t.co/TtN0VHJ49b\": 1, \"unable\": 1, \"@lana_VK\": 2, \"props\": 1, \"drawn\": 1, \"Happy\": 4, \"https://t.co/ev82bJ5hfD\": 1, \"Proud\": 42, \"terms\": 1, \"wa\": 1, \"alum\": 1, \"wo\": 1, \"https://t.co/k9y9YKI9Rc\": 1, \"@jamuraa\": 2, \"wk\": 2, \"@ReadingRepublic\": 1, \"https://t.co/SiBmze3Iky\": 1, \"packages\": 1, \"linkage\": 1, \"received\": 2, \"cos\": 3, \"cow\": 2, \"sparkling\": 1, \"ahora\": 1, \"Focus\": 1, \"Waking\": 1, \"Bring\": 1, \"brag\": 96, \"https://t.co/QVMmh9WkTM\": 1, \"Navy\": 2, \"inlove\": 1, \"com\": 2, \"#FCRBVB\": 1, \"WiT\": 5, \"con\": 3, \"tough\": 6, \"royal\": 1, \"condescending\": 1, \"@droidconDE\": 1, \"Shout\": 13, \"Board\": 2, \"Ireland\": 3, \"d\\'homme\": 1, \"false\": 1, \"speak\": 17, \"gratitude\": 3, \"#githubber\": 1, \"engines\": 2, \"I\\'ve\": 99, \"@KwameKino\": 1, \"claiming\": 1, \"https://t.co/dAq6mkTqbv\": 1, \"#MONSTAXinBerlin\": 1, \"You\\'ve\": 3, \"https://t.co/gpUMoKPLun\": 1, \"flexible\": 1, \"prefs\": 1, \"thrice\": 1, \"@tharindi_h\": 2, \"https://t.co/9onmg4W8Aq\": 1, \"\\\\u0642\": 3, \"families\": 2, \"tecnolog\": 2, \"Impostor\": 2, \"https://t.co/B1QW6GvUUm\": 1, \"fest\": 1, \"https://t.co/6A8TtDg5DK\": 1, \"https://t.co/rRqCXAH0R8\": 1, \"https://t.co/vmz5wu1UOb\": 1, \"applied\": 5, \"\\\\u6211\": 2, \"@Doyle_Angie\": 1, \"publicly\": 1, \"Trend\": 3, \"launches\": 1, \"#integration\": 1, \"hava\": 1, \"air\": 1, \"#femalesinSTEM\": 1, \"aid\": 1, \"voice\": 3, \"launched\": 18, \"@lin_nah\": 1, \"#indiefilm\": 1, \"preeminent\": 1, \"@uofthacks\": 1, \"#thrive\": 1, \"CVP\": 1, \"@kdnuggets\": 1, \"conf\": 9, \"https://t.co/JgpRn855J1\": 1, \"opp\": 1, \"ucret\": 1, \"#AfricaWITBragDay\": 2, \"https://t.co/acbzKpeUNH\": 1, \"#JavaOneConf\": 1, \"evitar\": 1, \"patent\": 5, \"@AshColeman30\": 1, \"mind-blowingly\": 1, \"https://t.co/ocyjzCTO5N\": 1, \"@Microsoft\": 5, \"https://t.co/uvgICkSMKu\": 1, \"Oshayyy\": 1, \"Waow\": 1, \"naive\": 1, \"https://t.co/xRpCTbknrp\": 1, \"https://t.co/7YvivDxl9f\": 1, \"clicking\": 1, \"independent\": 1, \"https://t.co/WGIhOIwMSd\": 1, \"Institute\": 1, \"hang\": 1, \"evil\": 1, \"hand\": 3, \"#WITBragday\": 72, \"Y\": 4, \"BADASS\": 1, \"Query\": 1, \"blamed\": 1, \"#DYPB17\": 1, \"@dekreebill\": 1, \"https://t.co/IFO5vFGxZC\": 1, \"DOPEness\": 1, \"kept\": 1, \"@taylor_atx\": 1, \"hopping\": 1, \"thx\": 3, \"Distillery\": 1, \"1972\": 1, \"1970\": 1, \"tho\": 5, \"thm\": 1, \"client\": 3, \"https://t.co/evI5pVnNy9\": 1, \"thi\": 1, \"Emmons\": 1, \"TRUST\": 2, \"musical\": 1, \"https://t.co/CeWjuIZZT7\": 1, \"she\\'ll\": 1, \"gods\": 1, \"WomenInMachineLearning\": 1, \"godt\": 1, \"quotes\": 2, \"@nanalarbi22\": 1, \"thanks\": 16, \"victim\": 1, \"opm\": 1, \"adding\": 2, \"https://t.co/C3kO0QUbVF\": 1, \"@ditcomputing\": 1, \"#traffic\": 3, \"#istemaustralia\": 1, \"Gas\": 1, \"Hundreds\": 1, \"#WitBragDay\": 32, \"spread\": 2, \"transformed\": 2, \"board\": 2, \"@ComplianceRisks\": 1, \"zillion\": 1, \"#TechInclusion\": 1, \"https://t.co/SPw5nI6a0n\": 1, \"Top\": 10, \"https://t.co/LMTCSITTpR\": 1, \"https://t.co/0i5Gn3JmqM\": 1, \"https://t.co/EqHzKjqwTF\": 1, \"#goals\": 2, \"Filipina\": 1, \"iOS\": 2, \"Alice\": 4, \"texto\": 1, \"Try\": 1, \"celebrates\": 1, \"bastards\": 1, \"@merezano\": 1, \"https://t.co/KZEp7LdcMy\": 1, \"Cisco\": 1, \"https://t.co/wnnQeeKGjO\": 1, \"designers\": 3, \"https://t.co/vtmuapLQ2s\": 1, \"#ABIdotCHI\": 1, \"https://t.co/B3HMIK2BuM\": 1, \"Nexus\": 1, \"#infosec\": 4, \"persistence\": 1, \"night\": 9, \"invaluable\": 2, \"security\": 13, \"accuracy\": 1, \"JUnit\": 1, \"Ayee\": 1, \"@DouglasCrets\": 1, \"honored\": 1, \"@_leisures\": 1, \"@jessicagarson\": 1, \"cybersecurity\": 2, \"\\\\uc5ed\": 1, \"trainees\": 1, \"jewree\": 4, \"born\": 2, \"dedicating\": 1, \"Italia\": 1, \"@Sarah_peace_8\": 2, \"programadores\": 1, \"https://t.co/kpUP6GMCE1\": 1, \"Led\": 5, \"Lee\": 1, \"https://t.co/uC7wqaIn2i\": 1, \"phenomenal\": 3, \"\\\\u062b\": 4, \"comments\": 2, \"asking\": 5, \"honoured\": 2, \"denied\": 1, \"#startups\": 1, \"https://t.co/qcIEMyNFiV\": 1, \"Inspiration\": 8, \"peek\": 1, \"pls\": 4, \"marketing\": 7, \"https://t.co/RaCbfPCaeX\": 1, \"view\": 3, \"constructive\": 1, \"Neat\": 1, \"architectural\": 1, \"graduated\": 8, \"post\": 25, \"Chirrut\": 1, \"Grad\": 1, \"@ummeli\": 1, \"takes\": 1, \"#read2lead\": 1, \"Webby\": 1, \"https://t.co/SZ29PLSYYR\": 1, \"@bonniejohn\": 1, \"https://t.co/YzzRGIxeYt\": 1, \"https://t.co/eCDnOPmIGQ\": 1, \"months\": 24, \"@WTM_Frankfurt\": 1, \"Essex\": 1, \"@lsst\": 1, \"https://t.co/08q5E0gots\": 1, \"https://t.co/fPGKSskveu\": 1, \"@echochamber\": 1, \"@work\": 1, \"#LGBT\": 1, \"treble\": 1, \"pays\": 1, \"Make\": 2, \"#dyslexia\": 1, \"https://t.co/egIXoGJ9jB\": 1, \"gearing\": 1, \"#GirlPower\": 1, \"right\": 41, \"Shouldn\\'t\": 1, \"@ACM_President\": 3, \"balanced\": 1, \"stumble\": 1, \"@_apriljefferson\": 1, \"@stevekinney\": 1, \"fight\": 3, \"clinical\": 4, \"way\": 53, \"https://t.co/NYWAySCzJl\": 1, \"#HatsOff\": 1, \"war\": 1, \"promoing\": 1, \"\\\\u0442\": 4, \"@meghana27\": 1, \"#BlackWITBragDay\": 2, \"soooGood\": 1, \"becoming\": 3, \"freelancer\": 2, \"Nebil\\'in\": 2, \"\\\\u05d7\": 2, \"pasarme\": 1, \"https://t.co/KfNFSB0oKF\": 1, \"true\": 10, \"Left\": 2, \"#Kenyan\": 8, \"https://t.co/c6knKqvwcW\": 1, \"undefeated\": 1, \"multi-shot\": 1, \"@kwe712\": 1, \"https://t.co/hBu3N3mzKH\": 1, \"winery\": 1, \"#Argos\": 4, \"https://t.co/XknvyXhWcG\": 1, \"Cream\": 1, \"https://t.co/WAhIiLpuFk\": 1, \"#humanity\": 1, \"computing\": 8, \"Zeerust\": 1, \"abstract\": 1, \"https://t.co/fjKNse6NdW\": 1, \"#machinetranslation\": 1, \"https://t.co/6hl80iQDD3\": 1, \"expertise\": 6, \"#StrongerTogether\": 1, \"harassment\": 1, \"https://t.co/XckBYSQxzd\": 1, \"Intel\": 1, \"Npm\": 2, \"@just_sophina\": 1, \"#VoiceRecognition\": 1, \"reality\": 2, \"interested\": 4, \"test\": 12, \"@Claraliss3\": 1, \"Luchamos\": 1, \"Diva\\'s\": 1, \"scored\": 1, \"Windows\": 4, \"https://t.co/OuDEwJIAno\": 1, \"welcome\": 10, \"outreach\": 1, \"@_j3lena_\": 1, \"@LinkedIn\": 3, \"let\\'s\": 2, \"#IzzyBrown\": 1, \"#BirthofHipHop\": 2, \"Massive\": 3, \"NSF\": 1, \"https://t.co/tulTEREp1C\": 1, \"omega\": 1, \"https://t.co/FUex4RV3Oc\": 1, \"#leader\": 1, \"https://t.co/tFBrZmWX91\": 1, \"Arusha\": 1, \"Banking\": 1, \"modules\": 2, \"Mission\": 1, \"together\": 8, \"@nickyringland\": 2, \"loyal\": 1, \"https://t.co/NBaIhXfpnf\": 1, \"https://t.co/6LkAgEJ7EC\": 1, \"@Andela\": 3, \"https://t.co/AoueRTYkGh\": 1, \"https://t.co/BQxF6LAY1c\": 1, \"https://t.co/SSJsAmHsZ8\": 1, \"https://t.co/2SduUVvaTe\": 1, \"\\\\uddfc\": 1, \"songs\": 1, \"https://t.co/bD8KV0TzWc\": 1, \"concept\": 5, \"Hackathons\": 1, \"broke\": 4, \"switched\": 6, \"dance\": 4, \"global\": 11, \"switcher\": 1, \"https://t.co/nmNOD2AiBa\": 1, \"grateful\": 3, \"Elephant\": 1, \"https://t.co/6ZX7RI1b02\": 1, \"https://t.co/WZXsRx707b\": 1, \"#Arte\": 2, \"https://t.co/Kk6Za1usTd\": 1, \"certainly\": 4, \"grape\": 1, \"graph\": 1, \"https://t.co/6v1oifxP2S\": 1, \"@lovejoycoach\": 1, \"https://t.co/omL6iLqCdA\": 1, \"W\": 1, \"Bolt\": 1, \"uma\": 1, \"https://t.co/rZVt3Vee3N\": 1, \"presenters\": 2, \"brown\": 1, \"https://t.co/QndAF39N6N\": 1, \"alumnae\": 1, \"Kigali\": 1, \"@EmmaAshley\": 1, \"LEAST\": 1, \"Tech\": 75, \"anonymous\": 1, \"#Innovation\": 2, \"trouble\": 2, \"debates\": 2, \"https://t.co/oLaF6famDQ\": 1, \"https://t.co/v2zg9EVeLB\": 1, \"Just\": 32, \"presented\": 16, \"#justforfun\": 1, \"Global\": 3, \"https://t.co/6GKqUBDRRF\": 1, \"p\": 1, \"soooo\": 1, \"gut\": 1, \"guy\": 3, \"George\": 1, \"\\\\u0901\": 1, \"brave\": 1, \"regret\": 1, \"cosa\": 1, \"@esy_mo\": 1, \"repetitive\": 1, \"discover\": 3, \"GCIH\": 1, \"https://t.co/KVFf24V8ZJ\": 1, \"Finding\": 3, \"CMU\": 1, \"Indonesia\\'s\": 1, \"CMS\": 1, \"https://t.co/VQbKTJdtHQ\": 1, \"https://t.co/rhQbHXzi4i\": 1, \"curse\": 1, \"tweeple\": 1, \"https://t.co/X4Y5Gk5Sjd\": 1, \"assistance\": 1, \"shares\": 1, \"https://t.co/iNU2wIWkgu\": 1, \"https://t.co/UYz9IZSCUb\": 1, \"\\\\u0433\": 1, \"https://t.co/6FYkAUw1dM\": 1, \"Imagine\": 1, \"shared\": 7, \"Along\": 1, \"appeal\": 1, \"statistician\": 1, \"supporting\": 10, \"unsure\": 1, \"@FulbrightPrgrm\": 1, \"Brilliant\": 4, \"https://t.co/bUaO67VOQd\": 1, \"shout-out\": 1, \"SpriteKit\": 1, \"https://t.co/Kk7yUnTM69\": 1, \"CUNY\": 1, \"English\": 6, \"goldfish\": 1, \"https://t.co/3oXSPqC8kI\": 1, \"teaches\": 2, \"teacher\": 8, \"change\": 19, \"#TeamSPS\": 1, \"@wef\": 1, \"https://t.co/e7cEsTaIlL\": 1, \"@tylerholien\": 1, \"https://t.co/F8ahRZDq5S\": 1, \"Cynthia\": 1, \"https://t.co/8cRsCajqFg\": 1, \"https://t.co/iMB8hgZkZW\": 1, \"trial\": 1, \"usually\": 1, \"https://t.co/PG7F8czqSF\": 1, \"Persons\": 1, \"retired\": 1, \"https://t.co/n2wSkZui0R\": 1, \"extra\": 1, \"https://t.co/Kcx94SV6UR\": 1, \"#usa\": 1, \"translational\": 1, \"AKA\": 1, \"https://t.co/vwbIUdCOs6\": 1, \"market\": 6, \"BSc\": 1, \"prove\": 15, \"Moi\": 1, \"https://t.co/d8J84DHkTc\": 1, \"live\": 12, \"https://t.co/BllOLXYcPz\": 1, \"https://t.co/RedWKrECzD\": 1, \"Smooches\": 1, \"@FirefoxDevTools\": 2, \"Cities\": 1, \"CISA\": 1, \"https://t.co/dJ8QoSF98H\": 1, \"York\": 1, \"https://t.co/U50T9N3NQt\": 1, \"https://t.co/7nkrHbKLvW\": 1, \"@AgendaCAF\": 1, \"https://t.co/kmcjCwlBar\": 1, \"https://t.co/7dxOhk8rD2\": 1, \"F\": 4, \"club\": 4, \"delveoper\": 1, \"Inspired\": 12, \"\\\\u064a\": 6, \"#InternationalYouthDay\": 1, \"https://t.co/n2UpJr2CSd\": 1, \"boycott\": 1, \"\\\\uc2dd\": 1, \"organizations\": 2, \"graphic\": 1, \"1,300\": 1, \"car\": 3, \"cat\": 1, \"compliment\": 1, \"#womenInTech\": 1, \"https://t.co/EDUdalo0XJ\": 1, \"incidents\": 1, \"cam\": 1, \"Multi-Tenant\": 1, \"https://t.co/KjycayMb3k\": 1, \"Showcased\": 1, \"heart\": 7, \"dedicated\": 4, \"https://t.co/enV6wlhfmG\": 1, \"https://t.co/zv4JTCEBz1\": 1, \"expanding\": 1, \"chip\": 1, \"https://t.co/vEKIbcAajR\": 1, \"topic\": 2, \"heard\": 4, \"https://t.co/XC9lQsgwKa\": 1, \"capsules\": 1, \"https://t.co/TjNqKQeJvR\": 1, \"@rachelpayne\": 1, \"productive\": 1, \"Propellerheads\": 1, \"discussion\": 2, \"RTing\": 3, \"Perforce\": 1, \"tvoj\": 1, \"write\": 19, \"#ADA\": 1, \"Rebel\": 1, \"https://t.co/xr4Qv3HbCI\": 1, \"#Charlottesville\": 21, \"checklists\": 1, \"https://t.co/ENIbJyxdfJ\": 1, \"Tanzania\": 1, \"criminal\": 1, \"product\": 16, \"License\": 1, \"Always\": 3, \"dive\": 1, \"Shake\": 1, \"diva\": 1, \"#badasswomen\": 2, \"produce\": 1, \"JSON-generating\": 1, \"@KatherineOGrady\": 1, \"L\\'informatique\": 1, \"Model\": 2, \"flourish\": 1, \"WomeninTechChat\": 1, \"https://t.co/cMoD6x2HF4\": 1, \"@HarrietMinter\": 1, \"https://t.co/IDgszdLj0i\": 1, \"remember\": 4, \"https://t.co/l8vcfWnn5G\": 1, \"whenever\": 3, \"futures\": 2, \"Bonus\": 1, \"Verkaufe\": 1, \"Radio\": 2, \"\\\\uddf8\": 8, \"Ship\": 1, \"pixelpaperyarn\": 4, \"VoiceOver\": 1, \"tagged\": 1, \"serving\": 4, \"who\\'se\": 1, \"Use\": 2, \"brain\": 3, \"Jam\": 1, \"https://t.co/7SwdiDxVHa\": 1, \"@themockwalrus\": 1, \"still\": 51, \"RT\": 60, \"\\\\u5831\": 1, \"@megbutton\": 1, \"https://t.co/owwMXPLEX4\": 1, \"acknowledge\": 1, \"@emmarosephd\": 1, \"Tech\\'s\": 1, \"https://t.co/D1BKGM7e6x\": 1, \"Cannot\": 1, \"norway\": 1, \"Grace\": 4, \"feats\": 3, \"@AmandaRTubbs\": 1, \"non\": 1, \"nok\": 1, \"100,000\": 1, \"@LockOn_RFTF\": 1, \"@Kaina_Paris\": 1, \"Eureka\": 2, \"huella\": 1, \"@cczona\": 1, \"https://t.co/0jlRVJ1wPz\": 1, \"half\": 5, \"recap\": 1, \"nos\": 1, \"@lindsaybro\": 1, \"multisite\": 1, \"#womanintech\": 1, \"thankful\": 6, \"escribimos\": 1, \"https://t.co/3HSDVy4Z0R\": 1, \"https://t.co/Xr1Nq379k0\": 1, \"drop\": 2, \"https://t.co/aCdb0V78qH\": 1, \"https://t.co/9alPSpiNlb\": 1, \"@satuelisa\": 1, \"entirely\": 1, \"@HybridConf\": 1, \"em\": 4, \"el\": 11, \"domain\": 4, \"en\": 10, \"https://t.co/ml90XJh4bj\": 1, \"challenged\": 2, \"ed\": 3, \"Pero\": 1, \"yeah\": 6, \"Perl\": 2, \"challenges\": 1, \"fires\": 2, \"DONE\": 1, \"#23andWe\": 1, \"Peru\": 1, \"year\": 81, \"et\": 1, \"happen\": 12, \"@MiddleEast\": 1, \"es\": 8, \"er\": 3, \"Champion\": 1, \"shown\": 2, \"accomplish\": 1, \"opened\": 1, \"@sallyannw\": 1, \"space\": 16, \"all-time-FAVORITE\": 1, \"https://t.co/UpURKlWIwY\": 1, \"looking\": 13, \"@shodoshan\": 1, \"\\\\u0633\": 12, \"https://t.co/iExOJUijDc\": 1, \"https://t.co/ImoyJmhkKD\": 1, \"receiving\": 2, \"https://t.co/gcgBMHKVok\": 1, \"https://t.co/KzygyzYGNU\": 1, \"shows\": 2, \"https://t.co/Of7rqNlrKI\": 1, \"https://t.co/6Hp0A7Anfe\": 1, \"DS\": 1, \"cars\": 1, \"Shell\\'s\": 1, \"Azkaban\": 1, \"https://t.co/17s6hYsCJL\": 1, \"dependencies\": 1, \"rly\": 1, \"Stand\": 19, \"meetups\": 2, \"biophysics\": 1, \"inevitable\": 3, \"card\": 3, \"care\": 4, \"https://t.co/95qs8D3CBB\": 1, \"https://t.co/3IriJwqqj9\": 1, \"@girlsschools\": 1, \"https://t.co/FovVKZWMYJ\": 1, \"Kroger\": 1, \"transition\": 3, \"tries\": 1, \"person\": 11, \"Amberley\": 1, \"vocabulary--thanks\": 1, \"@ADuckIsMyFiend\": 1, \"nonprofit\": 1, \"https://t.co/W3F7hwtovR\": 1, \"https://t.co/N7yxnejwmu\": 1, \"@aubreybowser\": 1, \"blind\": 2, \"@LesaqueJennifer\": 1, \"https://t.co/AEW8KVpV1W\": 1, \"variables\": 1, \"There\": 10, \"https://t.co/ewImww8mVh\": 1, \"@ohiomary\": 1, \"Asia\": 1, \"xx\": 1, \"directly\": 2, \"15000\": 1, \"Medicine\": 1, \"impossible\": 1, \"message\": 2, \"@ctrlaltjustine\": 1, \"tomorrow\": 4, \"size\": 1, \"checked\": 1, \"silent\": 2, \"https://t.co/OVSEszAfIM\": 1, \"https://t.co/xPV2bmmICp\": 1, \"remotely\": 2, \"ikke\": 1, \"https://t.co/8f5GjctyEr\": 1, \"#stunningcolleagues\": 1, \"https://t.co/mEKrBIsL5x\": 1, \"https://t.co/GZxqqGglRg\": 1, \"friend\": 8, \"https://t.co/o06xpfWp0j)\": 1, \"slides\": 1, \"nutrition\": 1, \"Scholar\": 3, \"mostly\": 4, \"https://t.co/W7e9O2ymb4\": 1, \"Tweeting\": 1, \"@Fox0x01\": 1, \"Everyone\": 5, \"#LupinThe3rd\": 1, \"https://t.co/bvcMEMzoaZ\": 1, \"Nous\": 1, \"Nairobi\": 3, \"semantics\": 1, \"professionals\": 2, \"television\": 1, \"deluge\": 1, \"Source\": 1, \"\\\\u2013\": 1, \"optimism\": 1, \"https://t.co/f4nCkgkCYH\": 1, \"@carolrighi\": 1, \"ICT\": 1, \"browser\": 2, \"unbuilt\": 1, \"https://t.co/2SmdJ9IYWl\": 1, \"premier\": 1, \"https://t.co/wsQgtVS0i0\": 1, \"untold\": 1, \"PhD\": 20, \"https://t.co/wFuWxqaqql\": 1, \"https://t.co/pvCUC72Svv\": 1, \"BASIC\": 3, \"anger\": 1, \"breakfast\": 1, \"recover\": 1, \"offering\": 1, \"@somelaniesaid\": 1, \"https://t.co/RmXadQRERp\": 1, \"Hurrah\": 1, \"@Brainlabs\": 1, \"https://t.co/4xMd5YjJxA\": 1, \"Phd\": 1, \"terrific\": 6, \"equipment\": 1, \"https://t.co/4OJX8wWY7T\": 1, \"online\": 24, \"@DrGrantEmpowers\": 1, \"Awe-inspiring\": 1, \"Ahem\": 2, \"Cheapest\": 1, \"@the_fletcheress\": 1, \"@webinista\": 1, \"@hlthy1\": 1, \"@RuthHarrisonUK\": 1, \"https://t.co/y9NNGrW2uF\": 1, \"https://t.co/cCp4SU2V9x\": 1, \"Dagens\": 1, \"https://t.co/5RcBnkptO2\": 1, \"@TestingCup\": 1, \"CMDB\": 1, \"forever\": 2, \"PT\": 1, \"@The_SAWISE\": 1, \"https://t.co/E9TRbV0K1s\": 1, \"https://t.co/cgODrbJLOU\": 1, \"Fifty\": 1, \"@lara_hogan\": 5, \"professional\": 7, \"Web\": 7, \"https://t.co/M1H8YRXjnC\": 1, \"Incredible\": 2, \"refactors\": 1, \"#stem\": 3, \"maint\": 1, \"@clue\": 1, \"discovered\": 4, \"Summer\": 1, \"https://t.co/qh9PimNUTG\": 1, \"teamed\": 1, \"Incredibly\": 1, \"geography\": 1, \"Sharing\": 2, \"ratio\": 2, \"title\": 1, \"@MMU_IT\": 1, \"@Ingenjorerna\": 1, \"https://t.co/KCmUbSDpYJ\": 1, \"@RianRietveld\": 1, \"Interesting\": 1, \"https://t.co/QShi4D6x3W\": 1, \"https://t.co/teMRKnBmcq\": 1, \"https://t.co/gnRlGKdXpW\": 1, \"confiar\": 1, \"https://t.co/O2wJZtU1cw\": 1, \"#WomenHelpingWomen\": 1, \"#ACTWBOS\": 1, \"Conix\": 1, \"@dethbakin\": 1, \"#winning\": 1, \"truly\": 7, \"Reviews\": 1, \"#WITBragDAy\": 1, \"cannot\": 2, \"honours\": 1, \"https://t.co/kKB2JJMP0M\": 1, \"full-stack\": 1, \"celebrate\": 14, \"https://t.co/DmFueFIS7F\": 1, \"Champs\": 1, \"https://t.co/SgK2i7ddr5\": 1, \"https://t.co/J0V5abAbFM\": 1, \"bigly\": 1, \"SYN\": 1, \"reorganized\": 1, \"\\\\u60f3\": 1, \"https://t.co/wMCLuZKHgD\": 1, \"Allen\": 1, \"https://t.co/9VsUzFJ1Z5\": 1, \"inside\": 1, \"husband\": 2, \"#TechInHeels\": 1, \"imposter\": 4, \"https://t.co/o4j1qJo0VI\": 1, \"Apps\": 3, \"ends\": 1, \"intersectional\": 1, \"actively\": 3, \"https://t.co/7RszwvtiKP\": 1, \"staunch\": 1, \"@PartnerProsper\": 1, \"rescued\": 1, \"hackathons\": 3, \"#australia\": 2, \"tackling\": 2, \"unapologetically\": 1, \"Memo\": 1, \"LDN\": 1, \"chugging\": 1, \"3\": 78, \"https://t.co/VLuvF0CG4Q\": 1, \"import\": 2, \"Study\": 1, \"@likeOMGitsFEDAY\": 1, \"websphere\": 1, \"Team\": 4, \"analyzed\": 1, \"article\": 2, \"perceptions\": 1, \"talented\": 12, \"@OluwaYettie\": 10, \"Give\": 4, \"https://t.co/PAA4ry1JRr\": 1, \"UNIX\": 1, \"https://t.co/tUsBSaxuVT\": 1, \"https://t.co/3xCesXudAC\": 1, \"enabling\": 2, \"@ontay_tyro\": 1, \"@FCCColumbus\": 1, \"comes\": 2, \"punchcard\": 1, \"keynoting\": 1, \"highlight\": 1, \"PER\": 4, \"@dgcooley\": 1, \"https://t.co/Oof1Xopgtp\": 1, \"Interested\": 1, \"learning\": 36, \"liberal\": 1, \"COO\": 2, \"@attacus_au\": 2, \"https://t.co/MsEs6Uy6xZ\": 1, \"@Jennifer_Arcuri\": 1, \"classic\": 1, \"informed\": 1, \"https://t.co/unjdhh5pX5\": 1, \"Melanie\": 1, \"Dreaming\": 1, \"@w3c\": 2, \"Putting\": 1, \"rebuilt\": 2, \"Beth\": 1, \"sisterhood\": 1, \"exhaustion\": 1, \"Slipped\": 1, \"heros\": 2, \"Women-In-Technology\": 1, \"lizcastro\": 1, \"Involved\": 1, \"alicegoldfuss\": 2, \"https://t.co/moDldjcoKt\": 1, \"Browsing\": 2, \"https://t.co/sFlJGEDJnr\": 1, \"@GirlCodeNL\": 1, \"https://t.co/Xx0JtYxnqj\": 1, \"ruby\": 1, \"https://t.co/H8xYeNwPXx\": 1, \"countless\": 1, \"developing\": 5, \"\\\\u05e6\": 1, \"trick\": 1, \"#capricornclothing\": 1, \"coolest\": 3, \"joint-presented\": 1, \"AIX\": 4, \"GNU\": 1, \"https://t.co/Sjhv8PcHh6\": 1, \"@agilebrain1\": 1, \"bias\": 1, \"WITbragday\": 1, \"drug\": 1, \"Reposting\": 1, \"https://t.co/Y5Vh9PFfwv\": 1, \"sound-responsive\": 1, \"https://t.co/wQXQlkBAmc\": 1, \"worry\": 1, \"Odun\": 1, \"develop\": 4, \"@ACWICT\": 1, \"media\": 7, \"https://t.co/0LTUX48OCJ\": 1, \"15,\": 1, \"gentlemen\": 2, \"food\": 5, \"followers\": 3, \"coworkers\": 3, \"document\": 2, \"https://t.co/LWRN2DwDGW\": 1, \"They\\'re\": 3, \"finish\": 1, \"https://t.co/ZY6g03lP9W\": 1, \"tarde\": 1, \"@jakepaul\": 1, \"https://t.co/ioziRdFho1\": 1, \"@tiffani\": 3, \"@dhuelsermann\": 1, \"https://t.co/q8HtkNatuO\": 1, \"Launched\": 3, \"complained\": 1, \"8086\": 1, \"#Women\": 12, \"charges\": 1, \"8088\": 1, \"#AskWright\": 1, \"ccm\": 1, \"#Startup\": 2, \"breeze\": 1, \"gain\": 1, \"https://t.co/a07uWzyVl2\": 1, \"#ShavuaTov\": 1, \"#victory\": 1, \"@_slates\": 1, \"You\\'re\": 30, \"#Nazis\": 3, \"Service\": 5, \"generally\": 1, \"valuable\": 2, \"reals--tracking\": 1, \"incre\": 1, \"#house\": 1, \"maternity\": 1, \"https://t.co/Qp1rCzWYZI\": 1, \"intergov\": 1, \"touch\": 1, \"https://t.co/eKMIHIj3Rz\": 1, \"https://t.co/iXlrPlSSz4\": 1, \"#erryday\": 1, \"@ChouroukHJ\": 1, \"death\": 1, \"Would\": 4, \"Interactions\": 1, \"thinking\": 6, \"improvement\": 2, \"https://t.co/59cUlTD66h\": 1, \"https://t.co/em6O6YIg2F\": 1, \"gloating\": 1, \"@hektormenta\": 1, \"Analyst\": 4, \"#TariTakavarasha\": 1, \"real\": 16, \"GSEC\": 1, \"Twiiter\": 1, \"read\": 75, \"POC\": 1, \"@JohanvdBrink\": 1, \"gonna\": 4, \"revamp\": 1, \"early\": 9, \"#grit\": 1, \"https://t.co/5nUhzw1rJH\": 2, \"makes\": 12, \"listening\": 1, \"amp\": 330, \"https://t.co/t7jn1teQxs\": 1, \"lady\": 12, \"acomplishments\": 1, \"\\\\u00df\": 1, \"https://t.co/dv1yHguXzX\": 1, \"hypertalented\": 1, \"@cloudyn_buzz\": 2, \"fortune\": 1, \"https://t.co/RxJgyI9q0y\": 1, \"Show\": 2, \"https://t.co/81H7mZGfHV\": 1, \"https://t.co/2HViSqZNac\": 1, \"Hacks\": 1, \"benefit\": 1, \"https://t.co/BRwNgtdT0l\": 1, \"output\": 2, \"computer-science\": 1, \"jaw-droppingly\": 1, \"Came\": 1, \"#EquityGrandThief\": 10, \"#PromiBB\": 1, \"Before\": 3, \"https://t.co/MuGszLR4mq\": 1, \"exposed\": 2, \"https://t.co/OOGT6IWYSP\": 1, \"IoT\": 1, \"https://t.co/HfwxfYyIjb\": 1, \"https://t.co/7FXzhdkVyA\": 1, \"https://t.co/8BdAv5m2y7\": 1, \"@Sareh88\": 1, \"viram\": 1, \"viral\": 4, \"passions\": 2, \"@aliciablazq\": 1, \"https://t.co/XjFafhjO4T\": 1, \"https://t.co/sdm6ydCGnp\": 1, \"cv\": 1, \"https://t.co/OkQCUKspwJ\": 1, \"https://t.co/e8SdNBb4gv\": 1, \"https://t.co/RUzPdimxxM\": 1, \"forks\": 1, \"hustle\": 1, \"teared\": 1, \"https://t.co/UB8CMjSnKy\": 1, \"assembly\": 4, \"business\": 15, \"Trackers\": 1, \"https://t.co/i20kZfkTxD\": 1, \"credits\": 1, \"@MileIQ\": 1, \"https://t.co/DAdJVTjfI8\": 1, \"https://t.co/9FmjWrXjOE\": 1, \"exciting\": 3, \"#GivingBack\": 1, \"comparison\": 1, \"@anusmalley\": 1, \"https://t.co/YXS2wL6C6b\": 1, \"https://t.co/1RS0fUmIC5\": 1, \"powered\": 1, \"hiatus\": 1, \"https://t.co/GOMzUxy7wJ\": 1, \"@Janetamarhavwie\": 1, \"journey\": 8, \"Solutions\": 2, \"intent\": 1, \"https://t.co/ssBfiBEyFk\": 1, \"https://t.co/axXXWAVKVg\": 1, \"@doc_ux\": 3, \"@TechWomen\": 1, \"outlook\": 2, \"inclusion\": 2, \"Swarm\": 1, \"https://t.co/eyIaoDMyHQ\": 1, \"neuroscience\": 2, \"operator\": 1, \"https://t.co/o69T6H1JuJ\": 1, \"https://t.co/Dn6rBi5KBh\": 1, \"SILs\": 1, \"Combination\": 1, \"area\": 2, \"assumed\": 1, \"#DiversityIsStrength\": 1, \"@jolenejangles\": 1, \"lol\": 3, \"start\": 15, \"stealth\": 1, \"cats\": 1, \"\\\\u00b5\": 1, \"low\": 4, \"2003,\": 1, \"@kamilah\": 1, \"https://t.co/TgImf4YyAZ\": 1, \"\\\\u0646\": 28, \"J\": 2, \"Nigerians\": 1, \"@sailorhg\": 1, \"#celebratebeingawoman\": 1, \"multitasking\": 1, \"pitched\": 1, \"trying\": 4, \"hire\": 8, \"https://t.co/n0DA21NTow\": 1, \"embedded\": 2, \"@RLadiesGlobal\": 1, \"Expand\": 1, \"\\\\u5e76\": 1, \"https://t.co/yTdhLguCCJ\": 1, \"keyboarding\": 1, \"Citiz\": 1, \"naysayers\": 2, \"600\": 3, \"https://t.co/jWJPzWeRWf\": 1, \"describe\": 2, \"moved\": 5, \"sales\": 1, \"@jenit\": 1, \"scratching\": 1, \"Ese\": 1, \"reliability\": 2, \"nero\": 1, \"Gorgeous\": 1, \"60,\": 1, \"https://t.co/JB3tXCyJsV\": 1, \"nerd\": 1, \"Monica\": 1, \"yok\": 1, \"yoh\": 1, \"storage\": 1, \"https://t.co/6HZe1blCxj\": 1, \"https://t.co/hi2x0wFzmA\": 1, \"React\": 2, \"#WITbragday\": 45, \"valid\": 2, \"sensational\": 1, \"fools\": 1, \"Law\": 1, \"https://t.co/Jnw9K7B8Yd\": 1, \"C64\": 1, \"#Morocco\": 1, \"poor\": 1, \"Great\": 37, \"THERE\": 1, \"whistling\": 2, \"https://t.co/BUIJUynuSl\": 1, \"coverage\": 2, \"https://t.co/XnbROz53NA\": 1, \"torches\": 1, \"pool\": 1, \"building\": 23, \"https://t.co/HIjj0LX9iZ\": 1, \"#awesomewoman\": 1, \"Mexican\": 1, \"#bragyear\": 1, \"scenes\": 1, \"@QNSMADE\": 1, \"fangirling\": 1, \"@handee\": 1, \"Bro\": 1, \"https://t.co/WyeqwsfJKD\": 1, \"@bahuparbalinahi\": 1, \"restored\": 1, \"embracing\": 1, \"#ASUHIDA\": 1, \"@ItsGithush\": 1, \"Bra\": 1, \"@matthewbretten\": 1, \"@DrCatherineBall\": 1, \"since\": 33, \"semantic\": 1, \"pointing\": 2, \"https://t.co/nh6zM1kU3B\": 1, \"Tess\\'s\": 1, \"splitting\": 1, \"month\": 12, \"@lexinatrix\": 1, \"https://t.co/7UOYV1BBvj\": 1, \"Take\": 12, \"newbie\": 3, \"simulators\": 1, \"\\\\udd1e\": 1, \"https://t.co/huZJ8m8Vnx\": 1, \"#literarischesquartett\": 1, \"https://t.co/ReliFXgLa5\": 1, \"Ella\": 1, \"https://t.co/EJL5g5RxIs\": 1, \"safety\": 1, \"@sigchi\": 1, \"UXer\": 2, \"Whooosh\": 1, \"selfies\": 1, \"I\\'d\": 21, \"decide\": 1, \"I\\'m\": 219, \"@zimbuwa\": 1, \"#MakingItWork\": 1, \"induced\": 1, \"@nomadnico\": 1, \"@Cognex_Corp\": 1, \"Ahahahahahah\": 1, \"I\\'M\": 1, \"ass\": 14, \"IT-related\": 1, \"https://t.co/VgoXnYnqtD\": 1, \"@PortiaMasimula\": 1, \"https://t.co/37m7mqJBPq\": 1, \"laborales\": 1, \"https://t.co/zLzrrhZusx\": 1, \"General\": 1, \"chair\": 2, \"dissertation\": 2, \"#Technology\": 1, \"Korea\": 2, \"consumers\": 1, \"labels\": 1, \"learner\": 1, \"microbiology\": 2, \"emotions\": 1, \"https://t.co/JiKwWGYnPA!\": 1, \"https://t.co/YF1cFNhLP1\": 1, \"Govt\": 1, \"learned\": 23, \"Totally\": 5, \"https://t.co/7QkZfwp8ik\": 3, \"edited\": 2, \"recruits\": 1, \"loose\": 1, \"#CompSci\": 1, \"#rxify\": 1, \"hubs\": 1, \"https://t.co/8N5SSeJ9ie\": 1, \"#digital\": 1, \"https://t.co/gh5tCrOoTj\": 1, \"strong\": 15, \"venomous\": 1, \"https://t.co/IpgqGie6b7\": 1, \"@sophie_meaney\": 1, \"labs\": 1, \"16795\": 2, \"creeps\": 1, \"ahead\": 4, \"inspired\": 48, \"Stauffer\": 1, \"@afromusing\": 1, \"amount\": 2, \"@RaniParuchuri\": 1, \"heartbroken\": 1, \"https://t.co/Q7fhDajG82\": 1, \"inspires\": 1, \"gica\": 1, \"https://t.co/479GgPxyX1\": 1, \"swoon\": 1, \"family\": 10, \"requiring\": 1, \"gico\": 1, \"maths\": 4, \"https://t.co/jE3gwY6fIT\": 1, \"trained\": 6, \"https://t.co/f1eXI0Ko2e\": 1, \"https://t.co/HWHcoPDbFc\": 1, \"conventional\": 2, \"flaws\": 1, \"Creating\": 2, \"https://t.co/3s8YBjjOmZ\": 1, \"pasado\": 1, \"contains\": 1, \"ved\": 1, \"https://t.co/xeaCfQ8iSe\": 1, \"https://t.co/JRrF2dgXJL\": 1, \"taken\": 3, \"https://t.co/C7EvY7BaJO\": 1, \"injury\": 1, \"@SmokeyBear588\": 1, \"https://t.co/GolSAd9cmh\": 1, \"#developer\": 1, \"https://t.co/MCHcY5T2Ry\": 1, \"abridged\": 1, \"Sr\": 1, \"#WITBragDa\": 1, \"@editingemily\": 1, \"St\": 2, \"Bless\": 3, \"excuse\": 3, \"https://t.co/OrQCjay826\": 1, \"WoodyZuill\": 10, \"@1200EastTM3\": 1, \"https://t.co/dScuEzqCQU\": 1, \"Followed\": 1, \"https://t.co/OLTsSvD8Bc\": 1, \"@MaryHThorn\": 1, \"https://t.co/3vZ11QCZ93\": 1, \"boss\\'s\": 1, \"SW\": 4, \"SV\": 2, \"https://t.co/slw6hXVsH6\": 1, \"#singlemom\": 1, \"SO\": 5, \"budgets\": 1, \"SA\": 5, \"SG\": 1, \"SF\": 1, \"SE\": 1, \"history\": 4, \"#rockon\": 1, \"IBM\": 2, \"pushes\": 1, \"#WATCH\": 1, \"Orchestra\": 1, \"\\\\u248e\": 2, \"PM\\'d\": 1, \"pushed\": 2, \"CAN\": 7, \"CAM\": 1, \"cnicas\": 1, \"suivant\": 1, \"species\": 10, \"https://t.co/y8BYNs95EV\": 1, \"#CS50\": 1, \"@woody2237\": 1, \"spreadsheet\": 1, \"stayed\": 1, \"surpassed\": 1, \"https://t.co/vyAcFRUVCD\": 1, \"Flown\": 1, \"Fall\": 1, \"Polaris\": 1, \"@EmberConf\": 1, \"https://t.co/AwzNnSg7wj\": 1, \"ft\": 1, \"tried\": 1, \"powerbuilder\": 1, \"\\\\u0923\": 1, \"#GoogleIO\": 1, \"unsung\": 4, \"zines\": 1, \"https://t.co/zUuD3LmkKv\": 3, \"remediation\": 1, \"co-authored\": 2, \"#cleancode\": 1, \"#SchleFaZ\": 1, \"@Zethereum\": 1, \"Comms\": 2, \"Sweet\": 1, \"@agilenvironment\": 1, \"documentation\": 5, \"bugs\": 2, \"Deep\": 1, \"techy\": 1, \"mktg\": 1, \"\\\\u00f6\": 15, \"banks\": 1, \"dream\": 12, \"https://t.co/QDCZf7JISI\": 1, \"photoshop\": 1, \"Fintech\": 1, \"help\": 60, \"Imagin\": 1, \"https://t.co/ZMBSzV9rdM\": 2, \"sooo\": 1, \"\\\\u200c\": 10, \"held\": 2, \"hell\": 4, \"MIS\": 1, \"cheated\": 1, \"GHI\": 1, \"#believeinyourself\": 1, \"\\\\u0424\": 1, \"https://t.co/DW115U9QOg\": 1, \"https://t.co/UsLd41i64a\": 1, \"solving\": 3, \"flirted\": 1, \"actually\": 8, \"@TeenTurn\": 1, \"hairball\": 1, \"EVERY\": 3, \"systems\": 18, \"@invtym\": 2, \"@Shipra_speaks\": 1, \"founders\": 1, \"then-boss\": 1, \"CHECK\": 1, \"evening\": 1, \"motivated\": 2, \"yo\": 10, \"ya\": 2, \"https://t.co/xKntgPX4hc\": 1, \"https://t.co/rioNpuFPJI\": 1, \"@duchessfr\": 2, \"https://t.co/v2vYxYttQH\": 1, \"motivates\": 2, \"aphasia\": 1, \"hackathon\": 1, \"@vocab_voyagers\": 1, \"Senior\": 3, \"yr\": 10, \"lightens\": 1, \"Semantic\": 1, \"programmation\": 1, \"fully\": 3, \"decimal\": 1, \"Ejemplo\": 2, \"bless\": 3, \"stopped\": 3, \"Council\": 1, \"Errr\": 1, \"https://t.co/vjhxpNPrFm\": 1, \"heavy\": 1, \"Eng\": 5, \"https://t.co/iJxpzXfoyK\": 1, \"@MaikeGoldkuhle\": 1, \"\\\\u010d\": 1, \"balm\": 1, \"dia\": 1, \"toda\": 1, \"https://t.co/HYwQIEyqfo\": 1, \"quantum\": 1, \"beyond\": 1, \"event\": 2, \"@Fueled\": 1, \"juniors\": 1, \"solved\": 13, \"@RichlandTwo\": 1, \"surrounded\": 5, \"publish\": 1, \"dominated\": 2, \"7\": 21, \"https://t.co/ERfl8Dan5z\": 1, \"@unlimitask\": 1, \"issue\": 2, \"Town\": 2, \"None\": 1, \"basu\": 1, \"bass\": 1, \"timeline\": 6, \"According\": 1, \"#india\": 1, \"#takemykids\": 1, \"dit\": 1, \"reason\": 6, \"https://t.co/zYeFJAdn9L\": 1, \"scenaries\": 1, \"put\": 12, \"earliest\": 1, \"Endometriosis\": 1, \"libros\": 2, \"Yippie\": 1, \"revolutionary\": 1, \"Fantastic\": 7, \"@indrani_mthies\": 1, \"launch\": 3, \"terrible\": 2, \"voor\": 2, \"liaison\": 1, \"exponentially\": 1, \"https://t.co/RL2tEC7rhl\": 1, \"Respect\": 4, \"interact\": 1, \"Secretly\": 1, \"@tabithagold\": 1, \"https://t.co/egcFvuS75o\": 1, \"Reminded\": 1, \"Maps\": 2, \"dominating\": 1, \"https://t.co/UbtcbMhWJn\": 1, \"solvers\": 1, \"#entrepreneurship\": 1, \"Reminder\": 1, \"https://t.co/0W7em5IFA3\": 1, \"miss\": 5, \"ecommerce\": 1, \"#geometry\": 1, \"sintio\": 1, \"supremacists\": 1, \"findings\": 1, \"@AGSAgirls\": 1, \"foutre\": 1, \"Feels\": 1, \"wonderful\": 26, \"https://t.co/ymUTGlmK4K\": 1, \"@sloandr\": 1, \"merciless\": 8, \"IDEs\": 1, \"shifted\": 1, \"demystify\": 1, \"https://t.co/zwWZajHApw\": 1, \"selling\": 2, \"storm\": 1, \"https://t.co/6T75lXIYBo\": 1, \"https://t.co/K5FEzmFk8s\": 1, \"https://t.co/uETznLsJGg\": 1, \"https://t.co/syDyBCe8E2\": 1, \"audiences\": 1, \"#SerenataDeAmor\": 1, \"varei\": 1, \"boredom\": 1, \"authors\": 1, \"inventing\": 2, \"https://t.co/Pzm2dtGzoV\": 1, \"https://t.co/Bdey0lg06u\": 1, \"berraschungen\": 1, \"#keynotespeaker\": 1, \"ste\": 1, \"grew\": 6, \"bedrest\": 1, \"https://t.co/CoIhLBZNve\": 1, \"https://t.co/y1IoAbSUP6(tweet)\": 1, \"@drewwilson\": 1, \"@evinobr\": 1, \"https://t.co/hfV166ZBj1\": 1, \"Spaces\": 1, \"https://t.co/ENq6o2yK7M\": 1, \"mobiles\": 1, \"https://t.co/VTLgpAN7NA\": 1, \"https://t.co/5adQh1Zzi4\": 1, \"deciding\": 1, \"non-technical\": 1, \"https://t.co/fypKiLt9rT\": 1, \"@ParamountPics\": 1, \"God\": 12, \"alongside\": 4, \"@TechTOSAGina\": 1, \"Amidst\": 1, \"Late\": 4, \"juice\": 1, \"kvinder\": 1, \"Mgmt\": 1, \"Got\": 17, \"Gov\": 1, \"gov\\'t\": 1, \"@Pennycicilla\": 1, \"ratings\": 1, \"https://t.co/Gdx1EcZm28\": 1, \"Users\": 1, \"lib\": 1, \"lil\": 1, \"@TGAsuperheroes\": 5, \"empowered\": 1, \"officers\": 1, \"targets\": 1, \"lit\": 1, \"https://t.co/ksdzqEtoyr\": 1, \"useless\": 1, \"Graduated\": 6, \"#Communication\": 1, \"With\": 8, \"Myself\": 1, \"towards\": 3, \"@fltoledo\": 1, \"Thx\": 10, \"Tho\": 1, \"kar\": 2, \"Chief\": 1, \"hired\": 8, \"experiences\": 3, \"@caitp88\": 1, \"@InmaGasco\": 1, \"The\": 200, \"hands-on\": 1, \"https://t.co/ArS3dxAP1U\": 1, \"Tha\": 1, \"salary\": 3, \"artefacts\": 1, \"mobile\": 9, \"clear\": 1, \"@Dr_Black\": 12, \"#proudofmyheats\": 1, \"Aaaand\": 1, \"\\\\uddf4\": 1, \"clean\": 1, \"https://t.co/XlwjkGpSXB\": 1, \"latest\": 54, \"physics\": 2, \"shoutout\": 2, \"@unicodeveloper\": 6, \"#DCTech\": 1, \"https://t.co/5o6rZgCiZm\": 1, \"#LinkedIntraining\": 1, \"#LikeaGirl\": 1, \"certs\": 1, \"https://t.co/lnleWXG2Dq\": 1, \"\\\\u0420\": 1, \"series\": 3, \"https://t.co/edz5PbcyQU\": 1, \"French\": 1, \"#rolemodels\": 3, \"pretty\": 20, \"https://t.co/xp8OcYKTe1\": 1, \"Guys\": 1, \"https://t.co/3hDLVlagLY\": 1, \"Inspirate\": 1, \"Shaimaa\": 1, \"reap\": 1, \"https://t.co/pN5F80i1TU\": 1, \"https://t.co/S5hqcn7xHK\": 1, \"Notes\": 1, \"@malchata\": 1, \"trees\": 1, \"@__Ruksana__\": 1, \"feels\": 7, \"basement\": 1, \"ITIL\": 1, \"https://t.co/VWBUV9xt9i\": 1, \"\\\\u00e3\": 4, \"@CampaignMonitor\": 1, \"https://t.co/oTqG6VxxKW\": 1, \"boost\": 1, \"Powerful\": 1, \"@sevandyk\": 1, \"https://t.co/1scFpBO391\": 1, \"attained\": 1, \"x\": 8, \"Guides\": 1, \"applau\": 1, \"scanning\": 1, \"https://t.co/0cw2RPkCMJ\": 1, \"throwing\": 1, \"France\": 1, \"culture\": 4, \"Equality\": 2, \"#hackathon\": 1, \"deploying\": 1, \"https://t.co/XKbrguALuh\": 1, \"#NotYourNativeStereotype\": 1, \"Pls\": 1, \"Para\": 2, \"https://t.co/PHhb7WbwZO\": 1, \"pictures\": 1, \"wow\": 9, \"Park\": 1, \"https://t.co/gwxNOaHu1w\": 1, \"Part\": 3, \"\\\\u0637\": 1, \"probably\": 5, \"https://t.co/iGTvcKCGdv\": 1, \"#riseofrest\": 1, \"https://t.co/lpXn4BnUIN\": 1, \"proclament\": 1, \"#proudAmazonian\": 1, \"missing\": 7, \"@NicolaSturgeon\": 1, \"\\\\u06cc\": 38, \"scalability\": 1, \"moslo\": 1, \"unstoppable\": 1, \"https://t.co/rjI6mQ1Wih\": 1, \"mentoring\": 3, \"invisible\": 1, \"TessFerrandez\": 1, \"enaltecer\": 1, \"curated\": 1, \"https://t.co/ceJi8VcZok\": 1, \"anos\": 1, \"forgotten\": 1, \"#race\": 1, \"gian-luca\": 1, \"protector\": 1, \"prna\": 1, \"liked\": 6, \"hackers\": 3, \"headed\": 1, \"battery\": 1, \"https://t.co/FN5ixLGQH8\": 1, \"@LynnRob\": 1, \"medior\": 1, \"Way\": 5, \"Online\": 1, \"Waw\": 1, \"Love\": 58, \"Was\": 10, \"CPK\": 1, \"mind-blowing\": 1, \"\\\\u0928\": 3, \"outstanding\": 1, \"add\": 8, \"https://t.co/SFipdlZmEo\": 1, \"Most\": 7, \"damn\": 6, \"https://t.co/TamO342MLB\": 1, \"collected\": 1, \"instructing\": 1, \"delights\": 1, \"Women\": 91, \"Disturb\": 1, \"lived\": 1, \"Especially\": 2, \"self-organized\": 1, \"\\\\u25cb\": 1, \"https://t.co/cjQZyD4ogp\": 1, \"modelling\": 1, \"else\": 18, \"lives\": 11, \"Donna\": 1, \"https://t.co/Im8YBhiZx1\": 1, \"Mtg\": 1, \"Software\": 16, \"Current\": 1, \"look\": 19, \"descubierto\": 1, \"spelunker\": 1, \"https://t.co/P7usCmvWh3\": 1, \"https://t.co/gNHvqVxuCJ\": 1, \"rope\": 1, \"pace\": 1, \"mainframe\": 3, \"Done\": 1, \"https://t.co/GPiw2CXCPv\": 1, \"impacted\": 1, \"dachau\": 1, \"guide\": 2, \"MichelleBush\": 4, \"@SCS_Clementines\": 2, \"@AgileFaye\": 1, \"https://t.co/p5pTDcybot\": 1, \"https://t.co/OyZlQImrco\": 1, \"@RivettUlrike\": 1, \"#littletinybrag\": 1, \"co-author\": 1, \"reads\": 1, \"Tweeps\": 1, \"Slash\": 1, \"ready\": 2, \"@kellydharlan\": 1, \"#defcon\": 1, \"#startsmall\": 1, \"anymore\": 3, \"grant\": 2, \"https://t.co/IG83mdeBSS\": 1, \"belong\": 2, \"Alert\": 2, \"\\\\u5c31\": 2, \"https://t.co/9Bt4E3Ywee\": 1, \"shag\": 1, \"@WordPress\": 1, \"Hadn\\'t\": 1, \"Shit\": 1, \"\\\\u4e3d\": 1, \"used\": 30, \"@positivepeng\": 1, \"yetty\": 1, \"@UXAustralia\": 1, \"#CoDeCPH\": 1, \"https://t.co/P06n8G8WdX\": 1, \"https://t.co/dDV8AX8Ixr\": 1, \"@deemonah\": 1, \"000\": 2, \"uses\": 4, \"cleaning\": 2, \"Inspirational\": 1, \"https://t.co/JFrDFZJqOf\": 1, \"https://t.co/nwnZCjZA73\": 1, \"Simson\": 2, \"database\": 4, \"https://t.co/bgTo55FHVi\": 1, \"#ux\": 2, \"\\\\uddf0\": 2, \"@edyong209\": 1, \"https://t.co/q8QwtjftLe\": 1, \"savvy\": 1, \"https://t.co/xmQDe5lmgJ\": 1, \"Girl\": 8, \"https://t.co/3PXMtkMibs\": 1, \"#ui\": 1, \"https://t.co/tcSghpeViK\": 1, \"ambassador\": 1, \"\\\\ub2e4\": 1, \"CUCSC\": 1, \"powering\": 1, \"https://t.co/3drxeaFiZm\": 1, \"https://t.co/kXsXB8fZtB\": 1, \"https://t.co/URXWaiXbFI\": 1, \"#startupaus\": 1, \"Molnar\": 1, \"art-y\": 1, \"https://t.co/2UANgF2rYl\": 1, \"Alafu\": 1, \"Internet\": 1, \"https://t.co/VMD3Kwqs5r\": 1, \"startups\": 3, \"Intelligence\": 2, \"#a11y\": 1, \"colleages\": 1, \"https://t.co/elQ9lpAmej\": 1, \"ussi\": 1, \"Asmiov\": 1, \"meritocracy\": 1, \"Commodore\": 1, \"Berkeley\": 1, \"#SisterhoodIsPowerful\": 1, \"YESSSSSSSSS\": 1, \"https://t.co/pq2RBvhVf9\": 1, \"transformation\": 1, \"https://t.co/e9JxbuZ0gd\": 1, \"motivating\": 3, \"deberia\": 1, \"@pwaniteknowgalz\": 1, \"showing\": 7, \"\\\\u0639\": 6, \"game\": 16, \"https://t.co/L0yiWfxoMG\": 1, \"ecosystems\": 1, \"#LifeModelDesign\": 1, \"co-chaired\": 1, \"@paciellogroup\": 1, \"https://t.co/b8FkNoZ2e3\": 1, \"https://t.co/xYlFzcat61\": 1, \"submission\": 2, \"Computing\": 4, \"https://t.co/ajiHvOPzkG\": 1, \"https://t.co/wXFWeQYSZn\": 1, \"signal\": 2, \"Tzvia\": 1, \"flexibility\": 1, \"https://t.co/yTjGfl8cMh\": 1, \"Learning\": 8, \"popular\": 5, \"@1871Chicago\": 1, \"https://t.co/E8ITdLV6oz\": 1, \"Find\": 1, \"Little\": 4, \"parade\": 1, \"creation\": 1, \"#cancerlongsleeve\": 1, \"@elenischool\": 1, \"trends\": 5, \"Linkin\": 1, \"\\\\u0915\": 1, \"slice\": 1, \"@SZimmermann\": 1, \"electric\": 1, \"delivered\": 2, \"https://t.co/K3xtBogO4V\": 1, \"https://t.co/jMmTRhbttQ\": 1, \"hombres\": 3, \"competitions\": 1, \"https://t.co/gMSKGVvpT9\": 1, \"https://t.co/3L845tSYbi\": 1, \"\\\\u0437\": 1, \"Apollo\": 1, \"Here\\'s\": 11, \"Empowerment\": 3, \"trabalhei\": 1, \"run\": 18, \"#GoogleSites\": 1, \"https://t.co/vmxmhwlWDZ\": 1, \"#try_harder\": 1, \"processing\": 1, \"stem\": 5, \"step\": 2, \"@oceanpark\": 6, \"Strategies\": 1, \"T24\": 1, \"August\": 1, \"shine\": 2, \"human-rated\": 1, \"works\": 3, \"Scam\": 1, \"#TechIsForEverone\": 1, \"Creer\": 1, \"ids\": 1, \"https://t.co/VUL6g4g3rm\": 1, \"https://t.co/0SPGOAdAw5\": 1, \"impacting\": 1, \"Looks\": 1, \"Committee\": 1, \"https://t.co/AU9ecDiPiG\": 1, \"@xeeliz\": 1, \"#network\": 1, \"https://t.co/l6f2FByhkO\": 1, \"Graduating\": 1, \"seeing\": 16, \"#womeninstemm\": 1, \"https://t.co/Emf5EkZ59b\": 1, \"dude\": 2, \"within\": 7, \"@SANSDefense\": 1, \"Their\": 1, \"leyendo\": 1, \"WitBragDay\": 1, \"Discovering\": 1, \"Ruth\": 1, \"https://t.co/fUuMDU8NX1\": 1, \"schmilzt\": 1, \"computer\": 29, \"Redux\": 1, \"@Niki7a\": 3, \"https://t.co/4LhsjtvcZ5\": 1, \"@HealthTap\": 1, \"https://t.co/6GUvKyTyVP\": 1, \"#TvLicense\": 1, \"https://t.co/ulwNAffOFb\": 1, \"aqu\": 1, \"@diananoias\": 1, \"@ch3ryl\": 1, \"ProVision\": 1, \"specialty\": 1, \"properly\": 2, \":-D\": 3, \"@franklinminty\": 1, \"https://t.co/d4dc1Jfu6r\": 1, \"info\": 4, \"https://t.co/CzMURIdcQE\": 1, \"persisting\": 2, \"Newbie\": 1, \"#IDidItAnyway\": 2, \"Sorunu\": 3, \"minha\": 1, \"Mosaic\": 1, \"https://t.co/9WLKNU3tVz\": 1, \"https://t.co/KAinUOyPNy\": 1, \"similar\": 4, \"https://t.co/EE0hiJsYzC\": 1, \"Innovator\": 1, \"ordered\": 2, \"adults\": 2, \"stuffs\": 1, \"accessibility\": 2, \"To\": 14, \"professo\": 2, \"https://t.co/adLHKe7ZNm\": 1, \"https://t.co/bHP7ZJypib\": 1, \"https://t.co/o2SUM18fhE\": 1, \"@ItsWamzy\": 1, \"TY\": 3, \"TV\": 6, \"Wanted\": 1, \"nah\": 1, \"#OBengineer\": 1, \"#PWA\": 1, \"@laparisa\": 1, \"application\": 3, \"TL\": 3, \"@jessratcliffe\": 1, \"electrical\": 2, \"Speaking\": 1, \"https://t.co/q1DGYCQ1XJ\": 1, \"martech\": 1, \"department\": 5, \"TA\": 1, \"@flipkart_tech\": 1, \"maruz\": 1, \"@ptexpat\": 1, \"https://t.co/o6XuFym8hZ\": 1, \"AD\": 1, \"AF\": 1, \"AI\": 7, \"Gender\": 6, \"#WITBrag\": 10, \"Thought\": 3, \"AP\": 1, \"AT\": 2, \"https://t.co/Q6mBstvLUK\": 1, \"LaserSpork\": 1, \"heroine\": 1, \"GNOME\": 1, \"@DWPDigital\": 1, \"e\": 8, \"blend\": 2, \"required\": 2, \"Am\": 5, \"An\": 8, \"https://t.co/NiKhlnO9z9\": 1, \"As\": 13, \"At\": 9, \"geophysics\": 1, \"@aliceronke\": 1, \"Newsletter\": 1, \"requires\": 2, \"gt\": 36, \"gr\": 1, \"https://t.co/8fNY2htcT2\": 1, \"Self\": 4, \"https://t.co/eAoj3NLlWi\": 1, \"Rails\": 2, \"cheerful\": 2, \"#DevOps\": 3, \"go\": 50, \"https://t.co/2K5AUmgrYH\": 1, \"tweeted\": 3, \"@TessFerrandez\": 1, \"https://t.co/Ybc7FpFZDN\": 1, \"https://t.co/9HDZ7K205U\": 1, \"Parent\": 3, \"@AWSNewbie\": 1, \"Ghostwrote\": 1, \"https://t.co/m6lE1wSW4E\": 1, \"https://t.co/QTj3JmUlrf\": 1, \"Award\": 4, \"https://t.co/1rnnbJfqMU\": 1, \"attackers\": 1, \"nuestros\": 1, \"@designourtmrw\": 1, \"@LockheedMartin\": 1, \"Not\": 18, \"Spearheaded\": 1, \"Now\": 48, \"friendly\": 1, \"https://t.co/ibC7SdcAm7\": 1, \"https://t.co/eMv3bHRUPF\": 1, \"portfolios\": 1, \"romanised\": 1, \"@tech_paula\": 1, \"@WTMNairobi\": 1, \"telling\": 1, \"Feeling\": 6, \"matrices\": 1, \"@Disney\": 1, \"scrapers\": 1, \"@NextTechGirls\": 10, \"gender\": 40, \"button\": 2, \"Retrained\": 1, \"https://t.co/Pmbtu7HjbR\": 1, \"WiTBragDay\": 1, \"deleting\": 1, \"@ParticleWA\": 1, \"@thoughtworks\": 1, \"#DevFestDC\": 1, \"waking\": 1, \"jump\": 3, \"picked\": 3, \"download\": 3, \"Teaching\": 2, \"@mynatt\": 1, \"click\": 1, \"https://t.co/A1INQX6YbU\": 1, \"plays\": 1, \"https://t.co/nTd4IKbnR6\": 1, \"https://t.co/kLgQVKUDSC\": 1, \"espresso\": 1, \"cell\": 1, \"rotten\": 1, \"@ChickTechOrg\": 2, \"America\": 3, \"Swift\": 2, \"marketer\": 1, \"Weebly\": 1, \"Created\": 4, \"#proud\": 2, \"https://t.co/hLXG2oeLHL\": 1, \"@googleafrica\": 1, \"following\": 16, \"focused\": 1, \"#mayhem_bot\": 1, \"https://t.co/Z0ViUmjeFX\": 1, \"https://t.co/s6VtI7CXs6\": 1, \"https://t.co/WIvE65pw71\": 1, \"https://t.co/S4TlVXb6JT\": 1, \"@DoBoutAnything\": 1, \"Back\": 2, \"justice\": 2, \"products\": 11, \"@PaulPolman\": 1, \"OHHHH\": 1, \"gene\": 1, \"patents\": 5, \"Wonder\": 1, \"OooOOOoooo\": 1, \"DevOps\\'ish\": 1, \"@cindygallop\": 1, \"pitch\": 1, \"Hindu\": 19, \"manage\": 6, \"https://t.co/XH51mQ3kKh\": 1, \"classrooms\": 3, \"@PlymouthGinUk\": 1, \"wit\": 1, \"@rnelson0\": 1, \"outcomes\": 1, \"singing\": 2, \"cloud\": 4, \"announced\": 1, \"https://t.co/RW2HLviu3X\": 1, \"crap\": 4, \"https://t.co/uXTe0mC6CP\": 1, \"https://t.co/yiO4JZZYwD\": 1, \"https://t.co/i1q5EpwQSp\": 1, \"https://t.co/hajmcgkGLx\": 1, \"#techladies\": 1, \"vehicle\": 3, \"https://t.co/8PHymYxmRp\": 1, \"@heidihelfand\": 1, \"https://t.co/J2bdTWJ3Wv\": 1, \"popped\": 1, \"https://t.co/cM0P8qslrj\": 1, \"https://t.co/eowMoNjeyT\": 1, \"Reflection\": 1, \"started\": 50, \"becomes\": 2, \"Wednesday\": 1, \"visibility\": 1, \"confused\": 1, \"https://t.co/EdETEdwbVd\": 1, \"VideO\": 1, \"unsuited\": 1, \"Sci\": 3, \"https://t.co/EXMNjp15XC\": 1, \"telematics\": 1, \"crosses\": 1, \"@lalmeida88\": 1, \"#strategy\": 1, \"ride\": 2, \"@UCCCS\": 1, \"#IBM\": 1, \"crossed\": 1, \"@jonathanfmills\": 1, \"Vote\": 2, \"meet\": 12, \"@uoftCompSci\": 1, \"@xeegeex\": 1, \"control\": 2, \"Israeli\": 1, \"@jennleaver\": 1, \"links\": 2, \"PayPal\": 2, \"https://t.co/hmHVtYajAr\": 1, \"https://t.co/OxTSPQRkmu\": 1, \"pulling\": 2, \"https://t.co/jmwxyjAmGF\": 1, \"hit\": 2, \"Lovely\": 2, \"Woooooow\": 1, \"embodiment\": 1, \"@lenana_\": 1, \"https://t.co/TJR8yLpuSz\": 1, \"poetry\": 1, \"blessings\": 1, \"HID\": 1, \"compiled\": 1, \"Wooooooo\": 1, \"#CORKvWAT\": 1, \"https://t.co/vlZN9JI0GG\": 1, \"Europe\\'s\": 1, \"Uplifting\": 1, \"steamroll\": 1, \"https://t.co/LP9Wt0fcju\": 1, \"British\": 1, \"#AZOpera\": 1, \"fart\": 1, \"Roman\": 1, \"fatigue\": 1, \"BEng\": 1, \"https://t.co/lY83fqAAlC\": 1, \"#WomenCantCode\": 1, \"#GDE\": 3, \"https://t.co/eIZyhncI2G\": 1, \"@JoMorfee\": 1, \"longest\": 1, \"#FounderMoms\": 1, \"https://t.co/ydj6IlPINO\": 1, \"ambition\": 1, \"Smith\": 1, \"https://t.co/SymvBQlzug\": 1, \"including\": 17, \"mentioned\": 2, \"converting\": 1, \"https://t.co/W98igr4xux\": 1, \"Recently\": 2, \"@JA_Harrison\": 1, \"\\\\u0628\": 14, \"guerrilla\": 1, \"housewife\": 1, \"FGM\": 1, \"@simone_au\": 1, \"https://t.co/hvdxml8reC\": 1, \"https://t.co/GId6If9P0l\": 1, \"nerding\": 1, \"https://t.co/RFIGyhBh97\": 1, \"#Open\": 1, \"@funsize\": 1, \"auto\": 1, \"bullet-stopping\": 1, \"functional\": 1, \"iPhone\": 3, \"@freeCodeCamp\": 1, \"front\": 6, \"documented\": 3, \"Microbiology\": 1, \"Innovating\": 3, \"Coolest\": 1, \"literacy\": 3, \"#Developer\": 2, \"masters\": 7, \"\\\\u00e7\": 7, \"university\": 3, \"#WomenInStem\": 1, \"slide\": 2, \"@WomEngKenya\": 1, \"mode\": 1, \"frickin\": 1, \"#nigeria\": 1, \"raised\": 2, \"jayein\": 1, \"seniors\": 2, \"@UTWEP\": 1, \"https://t.co/U5QZpWCrCm\": 1, \"globe\": 3, \"144\": 1, \"Liberty\": 1, \"Floss\": 1, \"\\\\u2192\": 3, \"measure\": 1, \"OCR\": 1, \"special\": 3, \"#ConsiderCoding\": 1, \"CEO\": 11, \"https://t.co/9NiqEMC43G\": 1, \"https://t.co/QXU4PNoQ8n\": 1, \"https://t.co/SkZoqYTSDg\": 1, \"@aparatbar\": 1, \"thriving\": 1, \"memes\": 1, \"cause\": 2, \"https://t.co/VLblJBjXD0\": 1, \"\\\\u043f\": 2, \"one\\'s\": 1, \"achievements\": 33, \"https://t.co/WYJJ8wtjUO\": 1, \"@rubyconf\": 1, \"high-performance\": 1, \"https://t.co/3J6rwIdz81\": 1, \"eco\": 1, \"upskilling\": 1, \"interplanetary\": 1, \"attending\": 3, \"completely\": 2, \"1985\": 1, \"pluripotent\": 1, \"alpaca\": 1, \"Anita\": 2, \"Someone\": 1, \"yself\": 1, \"womenled\": 1, \"route\": 3, \"ask\": 1, \"https://t.co/Yn5MSlk6c1\": 1, \"keep\": 43, \"https://t.co/L5Op8ZWKO9\": 1, \"#DigitalIdeas\": 1, \"mad\": 2, \"ndio\": 1, \"automating\": 1, \"Lame\": 1, \"blogger\": 4, \"powerful\": 2, \"bootcamp\": 2, \"improving\": 1, \"uptill\": 1, \"awardee\": 1, \"quality\": 4, \"https://t.co/uhyLCUXvu1\": 1, \"Pioneering\": 1, \"https://t.co/6lsNnF1NVs\": 1, \"management\": 5, \"WORD\": 1, \"journals\": 1, \"@carolafthompson\": 1, \"Interviewed\": 1, \"adopted\": 1, \"https://t.co/PDWHYhZSgX\": 1, \"https://t.co/PxXhuaVdDo\": 1, \"@est8her\": 1, \"https://t.co/Wj2JAk8grR\": 1, \"prouder\": 1, \"https://t.co/mkvRauMf2U\": 1, \"final\": 1, \"@MsPulane\": 1, \"supersonic\": 1, \"https://t.co/MB6rNYZATJ\": 1, \"https://t.co/T3Cf0zIpHg\": 1, \"exactly\": 3, \"lists\": 2, \"#WONDERWOMEN\": 1, \"R\": 8, \"#spacecraft\": 1, \"fuzzy\": 1, \"overwhelming\": 1, \"\\\\ud0dd\": 1, \"@TXGCP\": 1, \"beh\": 1, \"#roboticsroadshow\": 1, \"https://t.co/PT5DqJv82j\": 1, \"#NRLDragonsTitans\": 2, \"#inspired\": 3, \"submitted\": 2, \"Zine\": 1, \"Connect\": 1, \"@GEDigitalEU\": 1, \"#wiredwomen\": 1, \"https://t.co/WfHzYO5xix\": 1, \"providing\": 3, \"#testing\": 4, \"exhibit\": 1, \"Information\": 3, \"tabs\": 1, \"Other\": 1, \"close\": 1, \"need\": 49, \"Talent\": 1, \"https://t.co/EzhPNxKE4k\": 1, \"Development\": 4, \"https://t.co/lZct4bL0nL\": 1, \"microphone\": 1, \"Batman\": 1, \"able\": 9, \"Photos\": 1, \"https://t.co/MCUHsw4sOE\": 1, \"https://t.co/Se6CsrZ4ss\": 1, \"medals\": 1, \"@CaitlynTetmeyer\": 1, \"lecturer\": 1, \"https://t.co/TiES2r3hnM\": 1, \"deploy\": 2, \"https://t.co/rJaIvgOWtJ\": 1, \"\\\\u05d4\": 4, \"https://t.co/SWi0tGdOXv\": 1, \"awe\": 9, \"cellphone\": 1, \"conversations\": 1, \"@livsharples\": 1, \"#STEMambassador\": 1, \"Fellow\": 1, \"Growth\": 1, \"https://t.co/c1jveHFrlm\": 1, \"databases\": 1, \"@caro_sauve\": 1, \"Encouraged\": 1, \"https://t.co/gG7YWM291M\": 1, \"https://t.co/xjqqGyyygZ\": 1, \"FYP\": 1, \"affair\": 1, \"emerging\": 1, \"Overcame\": 2, \"@TinkeringLabs\": 2, \"https://t.co/BYBHBZUWgZ\": 1, \"indoor\": 1, \"https://t.co/Mnvswvs0Wq\": 1, \"https://t.co/jJtsQJf7Go\": 1, \"\\\\uc591\": 1, \"objc\": 1, \"reclaiming\": 1, \"\\\\udd16\": 3, \"Haraway\\'s\": 1, \"Public\": 1, \"Math\": 2, \"shoes\": 1, \"partners\": 2, \"Dec\": 1, \"based\": 5, \"unfinished\": 1, \"earned\": 6, \"brighten\": 3, \"yorum\": 1, \"employer\": 4, \"brighter\": 1, \"@SighSam\": 1, \"#ummeli\": 1, \"fuel\": 2, \"pointed\": 1, \"achieve\": 5, \"https://t.co/UHyRfhN9Uv\": 1, \"#wocintech\": 1, \"https://t.co/37fNRRVFWb\": 1, \"commendation\": 1, \"#STEM\": 26, \"12,\": 3, \"Jackie\": 1, \"BOSS\": 1, \"#Womenintech\": 3, \"Federighi\": 1, \"https://t.co/6lGWpMst8v\": 1, \"https://t.co/1uTuTr1iI9\": 1, \"@detectivedot\": 1, \"scrolling\": 3, \"endless\": 1, \"https://t.co/hSnJC3BwHb\": 1, \"processes\": 1, \"https://t.co/DWRX4X4BqD\": 1, \"glory\": 1, \"hiring\": 3, \"shy\": 4, \"https://t.co/RqRMuvUCew\": 2, \"tuned\": 1, \"https://t.co/pcCxkvU00i\": 1, \"Wall\": 1, \"ecosystem\": 1, \"tunes\": 1, \"grad\": 9, \"embryonic\": 1, \"Seni\": 2, \"Driving\": 1, \"shake\": 1, \"Question\": 1, \"immigrant\": 1, \"legacy\": 2, \"https://t.co/Z2ZNlMyh1O\": 1, \"operated\": 1, \"Sent\": 1, \"REALLY\": 3, \"Good\": 12, \"stats\": 2, \"https://t.co/6BacJ1eQz6\": 1, \"Ok\": 2, \"https://t.co/zHdvuJ5hmg\": 1, \"state\": 2, \"Harvard\": 1, \"horrible\": 1, \"https://t.co/x6sEW9YqNu\": 1, \"neither\": 2, \"https://t.co/goGOnlWi6U\": 1, \"@fynanazel\": 1, \"importance\": 2, \"https://t.co/BpceuaN8Pk\": 1, \"@connect_js\": 1, \"Hooray\": 1, \"kicking\": 5, \"key\": 5, \"#developers\": 2, \"precious\": 1, \"monitor\": 2, \"hits\": 1, \"women-only\": 1, \"https://t.co/ICXWxrgk1C\": 1, \"Noida\": 1, \"career\": 45, \"iPod\": 1, \"minds\": 3, \"https://t.co/RwnaAwejYd\": 1, \"admit\": 2, \"https://t.co/Df0nMe7qis\": 1, \"@cosmosredshift\": 1, \"@github\": 1, \"@sehurlburt\": 1, \"https://t.co/RxcyyYsQfX\": 1, \"Artificial\": 1, \"aclairefication\": 1, \"Schoolteachers\": 1, \"#SDGs\": 1, \"https://t.co/cYoVnejFBv\": 1, \"quit\": 4, \"@megberetta\": 1, \"yaz\": 3, \"addition\": 2, \"WordCamp\": 1, \"thanked\": 1, \"lyrical\": 1, \"shame\": 1, \"immense\": 2, \"treat\": 1, \"https://t.co/6aCGvNYfFT\": 1, \"https://t.co/P0on5uGIWj\": 1, \"https://t.co/r1oMG2HSPZ\": 1, \"@adefilaedward1\": 1, \"capacidad\": 1, \"shoulders\": 1, \"diversity\": 16, \"schoolgirls\": 1, \"mastered\": 1, \"policy\": 1, \"#Excellence\": 1, \"mail\": 1, \"That\\'s\": 25, \"And\": 69, \"Bearing\": 1, \"@mikleane\": 3, \"https://t.co/weNulyFTDP\": 1, \"harder\": 2, \"chalk\": 1, \"Anu\": 1, \"@izs\": 1, \"https://t.co/QzAqE8cUj6\": 1, \"#KWAwesome\": 1, \"@beccaliz\": 1, \"Any\": 4, \"YAAAS\": 1, \"Hard\": 1, \"@_LadySith\": 1, \"https://t.co/Q3tg8x50uo\": 1, \"surface\": 1, \"Pretty\": 6, \"claps\": 1, \"Brockwell\": 1, \"You\": 110, \"minorities\": 1, \"Printing\": 1, \"semiconductors\": 1, \"@LenomaLegal\": 2, \"began\": 2, \"\\\\u5e2d\": 1, \"@AVWoman\": 1, \"#womenintechnology\": 1, \"https://t.co/j5IbEW4qbS\": 1, \"report\": 1, \"parts\": 2, \"speaker\": 15, \"#rolemodel\": 1, \"#CodeNewbie\": 1, \"Oxford\": 1, \"party\": 3, \"fubar\": 1, \"http\": 1, \"@bonniea\": 1, \"@mikesphar\": 1, \"co-organizing\": 1, \"\\\\u05d0\": 5, \"#CyberSec\": 1, \"@kmhoski\": 1, \"https://t.co/h8NcuG37Wz\": 1, \"https://t.co/fbhnEwYQn8\": 1, \"spree\": 2, \"stay-at-home\": 2, \"transaction\": 1, \"48\": 2, \"multidisiplinary\": 1, \"nonetheless\": 1, \"well\": 29, \"Idea\": 1, \"@NationalDefence\": 1, \"Windy\": 1, \"drone\": 2, \"@AssurityNZ\": 1, \"Entering\": 2, \"https://t.co/9XKPkN2R58\": 1, \"Skill\": 1, \"BE\": 1, \"BA\": 2, \"sourced\": 2, \"https://t.co/wgKJUsetHI\": 1, \"@teenturn\": 1, \"https://t.co/LhY5VgH4nc\": 1, \"@GirlCode_za\": 1, \"BH\": 1, \"dose\": 3, \"TIL\": 1, \"aspirations\": 1, \"Sunday\": 3, \"mistakes\": 1, \"\\\\u2014\": 3, \"BS\": 7, \"skill\": 4, \"\\\\u591a\": 1, \"femme\": 1, \"Be\": 4, \"#stemqut\": 1, \"#GranitXhaka\": 1, \"Ba\": 1, \"DAU\": 1, \"vida\": 2, \"logged\": 1, \"4,\": 1, \"tech-fi\": 1, \"#WITmentors\": 1, \"https://t.co/ghlghXkzP4\": 1, \"Despite\": 2, \"By\": 8, \"kick\": 9, \"https://t.co/padMMPospR\": 1, \"https://t.co/bC8meFlbIS\": 1, \"https://t.co/NpdAIsjccH\": 1, \"https://t.co/R0sqVUC3LR\": 1, \"all-female\": 1, \"Ecosystem\": 1, \"1994,\": 1, \"https://t.co/tN481AvPt4\": 1, \"https://t.co/0B6M5vRxRi\": 1, \"Consortium\": 1, \"#devops\": 4, \"unseen\": 4, \"Y2K\": 1, \"necessary\": 1, \"marketers\": 1, \"lost\": 3, \"controllers\": 1, \"#WordPress\": 1, \"@Panopto\": 1, \"barkimedes\": 1, \"SQL\": 3, \"async\": 2, \"refugees\": 2, \"page\": 1, \"https://t.co/1x3s4bAnZL\": 1, \"\\\\u4e0b\": 2, \"https://t.co/qh8XIxFdla\": 1, \"library\": 4, \"@Sophie_Deen\": 1, \"motiva\": 1, \"@hackeryou\": 2, \"@FifiPeters\": 1, \"Tweets\": 3, \"home\": 15, \"liking\": 2, \"https://t.co/I5feV7Ic8Z\": 1, \"vraiment\": 1, \"competitor\": 1, \"WISP\": 1, \"demonstrates\": 1, \"Continually\": 1, \"However\": 1, \"HOORAY\": 1, \"cradle\": 1, \"moderated\": 2, \"inflammation\": 1, \"ROR\": 2, \"https://t.co/siAQbzditk\": 1, \"@tejuafonja\": 1, \"coders\": 2, \"duh\": 1, \"puedo\": 1, \"https://t.co/qUUEhsZzWF\": 1, \"#thread\": 1, \"@alienelf\": 1, \"journal\": 2, \"Developer\\'s\": 1, \"\\\\u0941\": 1, \"@jewree\": 35, \"Ur\": 1, \"@BWA_SC\": 1, \"Microsoft\": 6, \"@_odddie_\": 1, \"UX\": 15, \"freedom\": 1, \"@NextEinsteinFor\": 1, \"recognized\": 2, \"https://t.co/aD7X8c8PDQ\": 1, \"compatible\": 2, \"https://t.co/J8pVtySLzX\": 1, \"@MashStartsUp\": 1, \"UN\": 5, \"UI\": 4, \"UK\": 12, \"#InspiringWomen\": 1, \"stakes\": 1, \"chulo\": 1, \"equally\": 2, \"https://t.co/wbRuPZBeoo\": 1, \"https://t.co/fMFXQkZtOC\": 1, \"PMs\": 1, \"previously\": 3, \"end-spurt\": 1, \"#engineer\": 1, \"#FridayFeeling\": 2, \"Internal\": 1, \"artists\": 2, \"networking\": 2, \"Lawrence\": 1, \"Assistant\": 1, \"recruiter\": 2, \"THRIVED\": 1, \"noticed\": 1, \"TEDx\": 1, \"https://t.co/F7bzN7outi\": 1, \"@realilies\": 1, \"California\": 1, \"inspiration\": 43, \"https://t.co/hT0lyBM3dt\": 2, \"Bradford\": 1, \"maintenance\": 1, \"#BSidesLV\": 1, \"hv\": 2, \"Keep\\'em\": 1, \"hj\": 1, \"Chamber\": 1, \"neutral\": 3, \"hi\": 4, \"Oops\": 2, \"https://t.co/sp4OUohLz1\": 1, \"highest\": 3, \"eat\": 1, \"https://t.co/lpkYlNAngG\": 1, \"storied\": 1, \"\\\\u05e7\": 1, \"Russia-InfoCentre\": 1, \"cells\": 2, \"Kaylyn\": 1, \"whoa\": 1, \"https://t.co/B8vHWTzH7A\": 1, \"stories\": 113, \"https://t.co/xfgsLSodP0\": 1, \"piece\": 3, \"@RoadToNaukri\": 2, \"display\": 1, \"Nescaf\": 1, \"sexually\": 1, \"@TiVo\": 1, \"beats\": 1, \"https://t.co/05WcVpEjYD\": 1, \"@pennerj\": 1, \"mejor\": 1, \"NEWS\": 1, \"education\": 7, \"chromosome\": 1, \"https://t.co/f0cLXVU7tW\": 1, \"functions\": 1, \"contest\": 1, \"Never\": 7, \"https://t.co/ovbzzXJAPk\": 1, \"Delivery\": 2, \"https://t.co/S3Un9o6dSe\": 1, \"Mansoori\": 1, \"Besides\": 1, \"suspiciously\": 1, \"self-learning\": 1, \"MSc\": 8, \"https://t.co/wHicJ6mKwu\": 1, \"Promote\": 1, \"fodder\": 1, \"gifted\": 1, \"star\": 3, \"Like\": 3, \"Damien\": 1, \"fois\": 1, \"https://t.co/pcP67OzfKW\": 1, \"#AnythingIsPossible\": 2, \"@wickang\": 1, \"@Bench_StIves\": 1, \"long-winded-letter-writers\": 1, \"N\": 1, \"friends\": 9, \"#Colciencias\": 1, \"https://t.co/fIKHvFdENC\": 1, \"using\": 42, \"https://t.co/dE9lSnvrsB\": 1, \"https://t.co/xOwbfnZm8V\": 1, \"mumming\": 1, \"\\\\uddec\": 5, \"portion\": 1, \"tightest\": 1, \"https://t.co/TC6N08jwLo\": 1, \"Cville\": 1, \"determination\": 1, \"validation\": 1, \"https://t.co/0ROyfxBMXO\": 1, \"\\\\u0906\": 1, \"@Hackbright\": 2, \"Pues\": 1, \"InfoSec\": 2, \"watermarker\": 1, \"Sadly\": 1, \"homeschooling\": 1, \"B2C\": 1, \"@Playm8z\": 1, \"whose\": 1, \"swag\": 1, \"Liverpool\": 2, \"#AWITKENYA2017\": 1, \"calculate\": 2, \"auf\": 1, \"https://t.co/T4o2wTVyMd\": 1, \"@nolimazokwana\": 1, \"Job\": 2, \"Shapovalov\": 1, \"toca\": 1, \"#NextGenWIT\": 1, \"@alisoncoote\": 1, \"teaching\": 26, \"sorry\": 2, \"Insisted\": 1, \"https://t.co/n3Pv2AeNkR\": 1, \"updated\": 1, \"collaborate\": 4, \"mini-talks\": 1, \"#gde\": 1, \"@eunicesari\": 1, \"Django\": 2, \"algunos\": 1, \"@typeform\": 1, \"vezes\": 1, \"https://t.co/IHYD9DXhgb\": 1, \"affect\": 1, \"Tjek\": 1, \"low-key\": 1, \"@Samuraiko\": 1, \"Dont\": 1, \"skillz\": 1, \"Thomas\": 1, \"@crebma\": 2, \"https://t.co/ZhrJS8mLKD\": 1, \"https://t.co/4bamgfTnbY\": 1, \"skills\": 22, \"companies\": 10, \"solution\": 3, \"https://t.co/pNLvRuFXWR\": 1, \"https://t.co/Yu4drbRyIy\": 1, \"ups\": 2, \"https://t.co/pqCdeKpZPu\": 1, \"12,98\": 1, \"https://t.co/pBdY3MPSvj\": 1, \"force\": 1, \"ejemplo\": 1, \"#girlsintech\": 4, \"https://t.co/c7CUjHLuZE\": 1, \"likely\": 2, \"https://t.co/GDQ0H3Q7a1\": 1, \"https://t.co/hXwcRKFz79\": 1, \"Geekgirls\": 1, \"@carinanovarese\": 1, \"implemented\": 3, \"#IAMCPWIT\": 3, \"https://t.co/WOro5nXTL2\": 1, \"even\": 36, \"tipo\": 1, \"https://t.co/qA6OU5PvE0\": 1, \"BELONG\": 1, \"@cognition_x\": 1, \"\\\\u662f\": 2, \"https://t.co/qEaBhWU7F5\": 1, \"https://t.co/WyOQs0SvY1\": 1, \"Put\": 3, \"new\": 39, \"net\": 4, \"https://t.co/n6JLRoCfmK\": 1, \"ever\": 61, \"https://t.co/OGriPN5Opa\": 1, \"https://t.co/tnrwuVHtvB\": 1, \"\\\\u0443\": 2, \"https://t.co/F1gDjqfynX\": 1, \"@elacheche\": 1, \"10,\": 2, \"relates\": 1, \"pancakes\": 1, \"men\": 35, \"Finanzierung\": 1, \"anthropology\": 1, \"met\": 9, \"bircok\": 1, \"active\": 4, \"@LeonieWatson\": 1, \"100\": 20, \"SUNROOF\": 1, \"https://t.co/GFHp5BKXrR\": 1, \"eh\": 1, \"credit\": 13, \"https://t.co/WYRswovXel\": 1, \"@baxterkb\": 1, \"https://t.co/8JYM2ypZei\": 1, \"fantastic\": 19, \"hunch\": 1, \"campaign\": 1, \"Also\": 22, \"https://t.co/CiB0SJFyI8\": 1, \"counts\": 4, \"Epic\": 2, \"@SheSharp_NZ\": 1, \"landscape\": 1, \"Accordez\": 1, \"WHO\": 1, \"#Netflix\": 4, \"Options\": 1, \"\\\\u0930\": 3, \"call\": 14, \"recommend\": 4, \"https://t.co/NnmSD2Ltw9\": 1, \"Tfw\": 1, \"calc\": 1, \"type\": 3, \"tell\": 8, \"posting\": 3, \"https://t.co/ZZuM8YLeV0\": 1, \"@itsmwaura\": 1, \"@JobsatIntel\": 2, \"\\\\uddd3\": 1, \"warm\": 1, \"adult\": 2, \"V\": 4, \"https://t.co/lF7pmHU0fp\": 1, \"https://t.co/eFFWW6kEnD\": 1, \"#MeetMaye\": 1, \"room\": 3, \"rights\": 3, \"setup\": 1, \"weather\": 1, \"roof\": 1, \"@DeborahKurata\": 1, \"https://t.co/SywXtxisND\": 1, \"#wordpress\": 1, \"https://t.co/UrWqQdiFB0\": 1, \"https://t.co/vomjuxIRub\": 1, \"https://t.co/xTZaMENZN9\": 1, \"Infrastructure\": 1, \"https://t.co/LTPUGDUoPA\": 1, \"\\\\u2b07\": 2, \"give\": 13, \"Chrome\": 6, \"implementations\": 1, \"involve\": 2, \"10,000\": 1, \"#ANCWL\": 1, \"rig\": 1, \"#HStansAreBeautiful\": 7, \"@DrLucyRogers\": 1, \"risk\": 1, \"veloppeuse\": 1, \"#wie\": 1, \"spreading\": 1, \"passaporte\": 1, \"Kan\": 1, \"@RaksGeek\": 1, \"amazing\": 173, \"answer\": 2, \"@Ihab_Amir\": 2, \"blanks\": 1, \"Sigam\": 1, \"minority\": 1, \"@ExMrsSallah\": 1, \"https://t.co/rDhqwmu2E2\": 1, \"@felixoginni\": 1, \"#NationalAntiStressBringYourDoctorAndAttorneyToWorkDay\": 1, \"WeChat\": 1, \"https://t.co/Sjr6dZkqcQ\": 1, \"schoolchildren\": 1, \"\\\\u05d8\": 2, \"https://t.co/BHS9HcyFcm\": 1, \"d\\'avoir\": 1, \"All\": 21, \"attempt\": 1, \"Paypal\": 1, \"#citizen\": 1, \"https://t.co/AiCHIfvqv7\": 1, \"Ended\": 1, \"maintain\": 2, \"https://t.co/zagecm8UaX\": 1, \"https://t.co/Sh7pe3Q4wQ\": 1, \"https://t.co/skylJ6T1LY\": 1, \"#visualcomposer\": 1, \"@krithiskkv\": 1, \"emotion\": 1, \"https://t.co/wGC9Xs53fb\": 1, \"deck\": 1, \"amplifying\": 1, \"https://t.co/KD5AYzHDy7\": 1, \"GO\": 1, \"PRs\": 1, \"keyboard\": 1, \"https://t.co/19psBc8G02\": 1, \"https://t.co/RW4x6xIwfZ\": 1, \"pharma\": 1, \"Extraordinary\": 1, \"personal\": 4, \"gente\": 1, \"Arduino\": 2, \"better\": 27, \"@LadyFOHF\": 1, \"JOB\": 1, \"differently\": 1, \"@zx_priestess\": 1, \"personas\": 1, \"weeks\": 7, \"confidently\": 1, \"https://t.co/gl2uCSOAEV\": 1, \"donors\": 1, \"AwardTop\": 1, \"@AntoniaUOL\": 2, \"Challenge\": 4, \"#SREBook\": 1, \"#innovator\": 1, \"https://t.co/CyqTUoTT3B\": 1, \"#FemaleFounders\": 1, \"https://t.co/5ZTQ7q88Yo\": 1, \"https://t.co/PvUK8xqWc2\": 1, \"https://t.co/FfPKDdNd9j\": 1, \"https://t.co/bW1EMpvx6P,\": 1, \"@c___petersen\": 1, \"Approx\": 1, \"https://t.co/Aq3Oyluky2\": 1, \"brightness\": 1, \"Indeed\": 3, \"Hats\": 5, \"India\": 9, \"https://t.co/IL85Qi5JPL\": 1, \"https://t.co/u5kFInbgCj\": 1, \"MAY\": 1, \"victories\": 1, \"@PRNews\": 1, \"went\": 21, \"Check\": 51, \"luck\": 4, \"impactful\": 1, \"@leebrandt\": 1, \"@edsu\": 1, \"https://t.co/L7ORRgl8hF\": 1, \"Wow\": 43, \"#empower\": 1, \"principles\": 2, \"Woo\": 1, \"taught\": 47, \"@tirmizi26\": 1, \"forgot\": 4, \"navy\": 1, \"lawyers\": 1, \"https://t.co/gB2QB3K9ke\": 1, \"LMS\": 1, \"fatty\": 1, \"NLP\": 1, \"#payforward\": 1, \"@__winn\": 1, \"https://t.co/ySgq2ORwog\": 1, \"content\": 6, \"ey\": 1, \"https://t.co/HUVAYrjAVb\": 1, \"debit\": 1, \"surprise\": 1, \"WoC\": 1, \"Must\": 12, \"1996,\": 1, \"https://t.co/n044n8pyi0\": 1, \"\\\\u0643\": 5, \"Awesomeness\": 2, \"Join\": 5, \"https://t.co/DbPwKZD90F\": 1, \"resume\": 2, \"@monavernon\": 1, \"24,\": 2, \"fave\": 1, \"bldg\": 1, \"@ManelWatchIre\": 2, \"@IBMWatson\": 1, \"247\": 3, \"struggle\": 1, \"https://t.co/w9eoEbsX8p\": 1, \"@africateengeeks\": 2, \"https://t.co/w27tHYLfy2\": 1, \"#privacy\": 2, \"https://t.co/Vch10AlJLB\": 1, \"@NVMcKenzie\": 1, \"\\\\uddea\": 7, \"messages\": 2, \"deadlift\": 1, \"https://t.co/uIORgRwK7Z\": 1, \"SSO\": 1, \"ish\": 6, \"SSI\": 1, \"@CircuitCubes\": 2, \"@sebagomez\": 1, \"https://t.co/6BDuXcVwDO\": 1, \"https://t.co/JOm6ud1ZPG\": 1, \"user\": 9, \"Swahili\": 1, \"@siminyu_kat\": 2, \"features\": 2, \"#vincentvangogh\": 1, \"grade\": 6, \"womentechmakers\": 1, \"@CarolineDNS1990\": 2, \"https://t.co/LvHzAgNyiA\": 1, \"\\\\udd14\": 3, \"@shield_pay\": 1, \"einen\": 1, \"ditch\": 1, \"Cok\": 1, \"https://t.co/BOjFuD4ipU\": 1, \"https://t.co/WqA18KAEOy\": 1, \"https://t.co/3YxZPzwm8f\": 1, \"ECE\": 2, \"https://t.co/yx8QlzOsQG\": 3, \"girly\": 1, \"https://t.co/hhlnUoWfRu\": 1, \"girls\": 56, \"@CollabSensei\": 1, \"#WomenInScience\": 1, \"RMF\": 1, \"@njirap\": 1, \"chez\": 1, \"@nagare_ip\": 1, \"BBC\": 1, \"direct\": 1, \"@Bodychef\": 1, \"digo\": 2, \"digi\": 1, \"somewhat\": 1, \"horn\": 1, \"ggtechmy\": 2, \"Post\": 1, \"#KE\": 1, \"FALSE\": 1, \"https://t.co/3IKLnxwp7e\": 1, \"soonest\": 1, \"Craig\": 1, \"https://t.co/v4qq2z4ECy\": 1, \"https://t.co/YIO6D8HUzZ\": 1, \"enabled\": 4, \"matter\": 6, \"fabulous\": 6, \"https://t.co/v5oh4XFv0H\": 1, \"@ellengott\": 1, \"BigIdeas\": 1, \"Twitterland\": 1, \"@Stemettes\": 1, \"modern\": 7, \"mind\": 9, \"mine\": 7, \"childcare\": 1, \"@randfish\": 1, \"Designing\": 1, \"seen\": 18, \"seem\": 1, \"mins\": 2, \"tells\": 1, \"#PositiveVibes\": 1, \"\\\\u5927\": 1, \"#kesslerist\": 1, \"@MichelleGlauser\": 1, \"fitting\": 1, \"nicole_anand\": 1, \"STEMspiration\": 1, \"@sconvers\": 1, \"PivotViewer\": 1, \"@Vodafone_WIT\": 1, \"\\\\u0947\": 2, \"@ddunstan\": 1, \"#artificialintelligence\": 1, \"@JessicaCGlenn\": 1, \"translator\": 1, \"#designissue\": 1, \"regular\": 1, \"https://t.co/xIVVqa2ftf\": 1, \"https://t.co/900VsNi1ii\": 1, \"#HGRonREAL\": 1, \"#ColombiaAvanza\": 1, \"Devs\": 2, \"@kyrah\": 1, \"IMPRESSIVE\": 1, \"Scratch\": 2, \"medical\": 4, \"impostor\": 2, \"dog\": 1, \"Bungie\": 1, \"Single\": 1, \"definitely\": 5, \"SMEs\": 3, \"annoyed\": 1, \"https://t.co/fti6TYboV4\": 1, \"https://t.co/pTDvw1Tnos\": 1, \"https://t.co/Hgqxae8X3N\": 1, \"https://t.co/ZzbSxGTfcb\": 1, \"visitor\": 1, \"https://t.co/g3Gphy4DMH\": 1, \"brilliance\": 1, \"#GetInvolved\": 1, \"ending\": 1, \"https://t.co/XBEzY34xlT\": 1, \"attempts\": 1, \"objetivos\": 1, \"@UXPA_Int\": 1, \"@apondihazel\": 1, \"https://t.co/bJ3EVQzl5v\": 1, \"https://t.co/7RuSRynXmG\": 1, \"https://t.co/CPZhLEFqrc\": 1, \"explain\": 2, \"https://t.co/5wIaz2lG5n\": 1, \"AWS\": 6, \"\\\\u062c\": 4, \"Free\": 1, \"Fred\": 1, \"@TimbuktuMag\": 1, \"folks\": 9, \"quieres\": 1, \"History\": 4, \"https://t.co/QSnq8LHK6E\": 1, \"@sopalamarchuk\": 1, \"wearing\": 1, \"https://t.co/eJJctt9rUY\": 1, \"tiles\": 1, \"@riggaroo\": 1, \"stop\": 8, \"@lovegwendoline\": 1, \"@birdsncherries\": 1, \"skal\": 1, \"Leave\": 1, \"Sedan\": 1, \"Web\\'s\": 1, \"https://t.co/fOnQENjuiA\": 1, \"https://t.co/e9RyeuWTJs\": 1, \"earn\": 2, \"bar\": 4, \"Leaders\": 3, \"fields\": 5, \"Over\": 3, \"16\": 5, \"cofounded\": 2, \"https://t.co/KoMY6xVfvB\": 1, \"https://t.co/6bq5PrAn1a\": 2, \"bad\": 10, \"bae\": 2, \"Dropped\": 2, \"https://t.co/dx8PGz6LHh\": 1, \"simplista\": 1, \"Kiesler\": 1, \"compilers\": 1, \"HAVE\": 1, \"fascinating\": 2, \"rockstar\": 3, \"https://t.co/YPT3tptFAj\": 1, \"testing\": 9, \"Bella\": 1, \"@maaretp\": 1, \"Epoch\": 1, \"kicked\": 3, \"https://t.co/5WQoKEAw2p\": 1, \"https://t.co/FGoO8g0QFa\": 1, \"suited\": 1, \"Boost\": 1, \"subject\": 1, \"00\": 2, \"said\": 9, \"Tecnolog\": 1, \"05\": 1, \"scrap\": 1, \"Took\": 1, \"https://t.co/AXdkxo0oFp\": 1, \"there\\'s\": 9, \"@sarahebourne\": 1, \"sorts\": 1, \"https://t.co/6Xpw6dYPkA\": 1, \"0,\": 1, \"warrior\": 1, \"C\": 13, \"@corey_latislaw\": 1, \"omg\": 3, \"75524\": 1, \"https://t.co/e62ILr9s9z\": 1, \"Ahora\": 1, \"thehindubiz\": 1, \"https://t.co/oJFUNpzODA\": 1, \"modeling\": 1, \"https://t.co/2hqUccRko1\": 1, \"suggested\": 1, \"\\\\udde6\": 10, \"una\": 1, \"https://t.co/pjeZMHTMwL\": 1, \"und\": 2, \"une\": 1, \"fangirl\": 1, \"uni\": 11, \"contribution\": 7, \"@merycurtis\": 1, \"uno\": 1, \"Germany\\'s\": 1, \"presumably\": 1, \"@Tybawai\": 1, \"@TechGirlzorg\": 2, \"1300\": 1, \"@myamy_vicy\": 1, \"Aquari\": 1, \"https://t.co/70HbhBFmq5\": 1, \"initiative\": 5, \"shortcut\": 1, \"lowly\": 1, \"yaad\": 1, \"Gives\": 2, \"basis\": 1, \"co\\'s\": 1, \"ben\": 1, \"three\": 5, \"tiny\": 4, \"milieu\": 1, \"Early\": 1, \"recognised\": 2, \"interest\": 3, \"basic\": 1, \"@Growthese\": 1, \"lovely\": 8, \"co-organizer\": 1, \"@VivrantThing\": 6, \"website\": 19, \"#news\": 2, \"deeper\": 1, \"CC\": 1, \"SWE\": 1, \"sunshine\": 2, \"CD\": 2, \"https://t.co/5MZYDkKSnJ\": 1, \"personally\": 5, \"CS\": 35, \"https://t.co/R7ymNyEu7j\": 1, \"CP\": 1, \"CW\": 1, \"\\\\ucf5c\": 1, \"Can\\'t\": 9, \"https://t.co/WvOrEJmERN\": 1, \"exception\": 1, \"Co\": 2, \"https://t.co/G2zqW3CcUQ\": 1, \"Cc\": 7, \"co-designed\": 3, \"Dollar\": 1, \"https://t.co/5m3X55cX9w\": 1, \"https://t.co/kkEuaoCt0r\": 1, \"near\": 2, \"suppose\": 2, \"Rocked\": 1, \"https://t.co/HTZOMgN1RX\": 1, \"balance\": 2, \"Tuesday\": 1, \"techpreneurship\": 1, \"https://t.co/5dNA850xVR\": 1, \"https://t.co/zW2TPHLlR9\": 1, \"@ABFalecbaldwin\": 1, \"lurking\": 1, \"karen_greaves\": 2, \"https://t.co/67pH7je20M\": 1, \"ik\": 1, \"#excited\": 1, \"im\": 3, \"femmes\": 1, \"io\": 1, \"vendor\": 2, \"mouse\": 2, \"id\": 1, \"grown\": 2, \"specialization\": 1, \"winops\": 1, \"make\": 54, \"Regional\": 1, \"#DesignInTech\": 1, \"\\\\u00ae\": 1, \"meetup\": 3, \"unfortunate\": 1, \"V8\": 1, \"President\": 1, \"https://t.co/ENDWgDC7pi\": 1, \"Huge\": 1, \"grows\": 1, \";d\": 2, \"VB\": 1, \"https://t.co/BSiR2Af6YX\": 1, \"ello\": 1, \"https://t.co/Nc1BfpCN1J\": 1, \"pressups\": 1, \"elle\": 1, \"delight\": 2, \"VR\": 4, \"jealous\": 1, \"opportunity\": 9, \"https://t.co/r74vFAq8E2\": 1, \"https://t.co/wHFSSpmacc\": 1, \"smokey\": 1, \"programs\": 8, \"Rubik\\'s\": 1, \"Psych\": 1, \"@LAWGRRLTX\": 1, \"claims\": 1, \"800\": 1, \"https://t.co/Pj5aQSv75L\": 1, \"left\": 3, \"yeh\": 1, \"protocol\": 2, \"Spoke\": 1, \"#statistics\": 1, \"unfollow\": 1, \"fighters\": 1, \"year-old\": 1, \"identify\": 2, \"@anweshasrkr\": 1, \"human\": 18, \"#alwaysLearning\": 1, \"samlaing\": 1, \"yes\": 9, \"#WomeninTechChat\": 1, \"yet\": 33, \"@heatherM_M\": 1, \"agile\": 2, \"#NewBrunswick\": 2, \"character\": 2, \"#WINNING\": 1, \"wings\": 1, \"https://t.co/7XTAlAFthk\": 1, \"@kwiefling\": 1, \"Wear\": 1, \"News\": 7, \"julie\": 1, \"lassoing\": 1, \"Building\": 2, \"#game\": 1, \"ops\": 5, \"@kitabiworm\": 1, \"@drjessicabarker\": 2, \"Roberts\": 1, \"#TechLadies\": 1, \"#heroes\": 1, \"rotate\": 1, \"#googlemanifesto\": 1, \"background\": 7, \"dreamt\": 1, \"Overseas\": 1, \"dreams\": 7, \"generated\": 1, \"Art\": 2, \"OGGG\": 1, \"@andreagoulet\": 1, \"manual\": 1, \"https://t.co/ya1fcyB9ZU\": 1, \"Are\": 9, \"musique\": 1, \"testers\": 4, \"retuiteado\": 1, \"Prince\": 1, \"Witness\": 1, \"Jeg\": 1, \"#WRtalk\": 1, \"deal\": 5, \"\\\\u4f86\": 1, \"https://t.co/m0Z3Vcmbty\": 1, \"https://t.co/IhukaXrpBh\": 1, \"somehow\": 2, \"Been\": 8, \"Accessibility\": 1, \"intern\": 3, \"\\\\udd92\": 2, \"dear\": 2, \"pain\": 1, \"translates\": 1, \"@WomenInRobotics\": 1, \"CTO\": 3, \"achievers\": 1, \"\\\\ubaa8\": 1, \"#WCE\": 1, \"#DFBPokal\": 1, \"DevOps\": 8, \"Quite\": 3, \"https://t.co/w0eMsWYAAr\": 1, \"orbited\": 1, \"@t24comtr\": 1, \"payed\": 1, \"https://t.co/33uyvKypGV\": 1, \"ndrome\": 1, \"https://t.co/Efjmlyqf8w\": 1, \"https://t.co/2uidwzuKRM\": 1, \"\\\\ucb49\": 1, \"Dunno\": 1, \"re-sharing\": 1, \"burn\": 1, \"@MmakiJ\": 1, \"Daily\": 22, \"Participating\": 1, \"translated\": 1, \"https://t.co/5CWjD3GUxa\": 1, \"@OpptyatWork\": 1, \"https://t.co/9xPUcpyAYm\": 1, \"https://t.co/zKrEYMnEon\": 1, \"super\": 18, \"https://t.co/f1Pj6obbGO\": 1, \"empowerment\": 1, \"essential\": 1, \"magazine\": 2, \"@ethelcofie\": 1, \"Including\": 3, \"@amberleyjohanna\": 1, \"commit\": 1, \"https://t.co/rzwWoSXCra\": 1, \"https://t.co/qvSfH56wEj\": 1, \"tecnologia\": 1, \"https://t.co/YxgsEaProY\": 1, \"Infact\": 1, \"https://t.co/XFLMNKYGNv\": 6, \"selfie\": 1, \"https://t.co/uMJ4Or42o8\": 1, \"world\\'s\": 5, \"WWDC\": 1, \"diabetics\": 1, \"https://t.co/gTaNmaQkHI\": 1, \"doctrine\": 10, \"lieu\": 1, \"hashstag\": 2, \"@UoYLibrary\": 1, \"Unless\": 1, \"chargers\": 1, \"amazingly\": 1, \"c\\'est\": 2, \"TED\": 1, \"@Dinah_Davis\": 5, \"https://t.co/KgmlMdzFEE\": 1, \"web-app\": 1, \"editor\": 8, \"fraction\": 1, \"Ubuntu\": 1, \"#youtuber\": 1, \"asset\": 1, \"https://t.co/33Qp4bW9yv\": 1, \"form\": 2, \"January\": 3, \"@cisco\": 1, \"analyse\": 1, \"landing\": 1, \"@TechButthead\": 1, \"feminine\": 1, \"blindness\": 1, \"approval\": 1, \"https://t.co/2khcJLLCdK\": 1, \"analyst\": 8, \"https://t.co/NnQe61392P\": 1, \"bugfix\": 1, \"https://t.co/WEFqAsGgOU\": 1, \"https://t.co/MaiaTYgYDV\": 1, \"@dcskytalks\": 1, \"https://t.co/ikNGt5uajj\": 1, \"@loriaustex\": 1, \"Grateful\": 1, \"daddy\": 1, \"average\": 2, \"https://t.co/UodxnsFpQh\": 1, \"Nuclear\": 1, \"all-woman\": 1, \"https://t.co/blyXlcdIzW\": 1, \"golang\": 1, \"#business\": 9, \"https://t.co/pJPDaUyFOe\": 1, \"ship\": 3, \"https://t.co/1fgWh0QrHJ\": 1, \"shit\": 9, \"INSTANTLY\": 1, \"holla\": 1, \"marking\": 1, \"@dorothyooko\": 1, \"\\\\udd27\": 2, \"modernize\": 1, \"Needle\": 1, \"https://t.co/uBPET9hhLr\": 1, \"https://t.co/bMRk7RIKrF\": 1, \"ALSO\": 1, \"Seaway\": 1, \"digital\": 16, \"warehouse\": 1, \"Andrea\": 1, \"@sallybogg\": 2, \"EAT\": 2, \"2500\": 1, \"diez\": 1, \"\\\\u24c2\": 1, \"felt\": 6, \"gradually\": 1, \"fell\": 2, \"oncall\": 2, \"weekend\": 9, \"died\": 1, \"billion\": 1, \"#ML\": 3, \"happening\": 4, \"Win\": 1, \"@waltmossberg\": 1, \"daily\": 13, \"Second\": 1, \"teeth\": 2, \"https://t.co/bceE1PrfOj\": 1, \"@JavaGirlPL\": 1, \"Immensely\": 1, \"https://t.co/a9hSy6rCg3\": 1, \"profits\": 1, \"varsity\": 1, \"precise\": 1, \"managed\": 5, \"yazm\": 1, \"https://t.co/oi7lMRslHN\": 1, \"@Njokie_\": 1, \"Winning\": 2, \"themes\": 2, \"manager\": 8, \"manages\": 1, \"@_nitika_gupta\": 1, \"skin\": 1, \"https://t.co/LRKbGRnFFW\": 1, \"https://t.co/6NJRH7GAJ6\": 1, \"https://t.co/5Lb9Odhrvx\": 1, \"milk\": 1, \"https://t.co/Nt7q8XSuh1\": 1, \"#WITA\": 1, \"praises\": 1, \"Than\": 1, \"Exactly\": 1, \"father\": 2, \"disgusting\": 1, \"0\": 6, \"finally\": 6, \"https://t.co/4tmpqn6lBa\": 1, \"\\\\u0634\": 13, \"marks\": 1, \"https://t.co/Gkicnxi644\": 1, \"departament\": 1, \"string\": 2, \"@AQRCapital\": 1, \"https://t.co/N7EIC9PiLL\": 1, \"https://t.co/Etg1ejaA3e\": 1, \"Plus\": 4, \"#MomsCanCode\": 6, \"1995\": 1, \"Where\": 2, \"https://t.co/kngvbXaQqJ\": 1, \"moderator\": 1, \"Protocol\": 1, \"trended\": 1, \"#womenandtechnology\": 1, \"https://t.co/esruqBZDlG\": 1, \"die\": 4, \"dig\": 1, \"\\\\u3093\": 1, \"\\\\uddf9\": 2, \"@iloveammacity\": 1, \"https://t.co/p0dSs51Urg\": 1, \"round\": 1, \"dis\": 1, \"talked\": 2, \"Wondering\": 1, \"https://t.co/GgPCbnc3V9\": 1, \"consultin\": 1, \"@vanessa_murdock\": 2, \"@DanielaValero_\": 1, \"https://t.co/S4l1lLU9WG\": 1, \"https://t.co/p90NBcWhvS\": 1, \"https://t.co/LumpT68oVp\": 1, \"Head\": 8, \"adds\": 1, \"#DavidSilva\": 2, \"@janemackarell\": 1, \"favour\": 1, \"Hear\": 2, \"\\\\uc6b4\": 1, \"template\": 1, \"international\": 12, \"filled\": 1, \"Forever\": 1, \"#teachers\": 1, \"@shankar_hope\": 1, \"guardian\": 1, \"Changed\": 3, \"https://t.co/GKGWB5acrJ\": 1, \"https://t.co/TQBbRkqeAW\": 1, \"@karinaquezadad\": 2, \"@ElisadelGaldo\": 1, \"infra\": 1, \"https://t.co/SrTYScA7LS\": 2, \"https://t.co/fcwJfu8Jeu\": 1, \"wait\": 13, \"box\": 1, \"boy\": 1, \"#efmf2017\": 3, \"@YesItsKathleen\": 1, \"Founder\": 4, \"battling\": 1, \"Lotus\": 1, \"shift\": 1, \"bot\": 1, \"https://t.co/oqTUF0uxVP\": 1, \"bow\": 5, \"Founded\": 1, \"https://t.co/z9J8RF4kt2\": 1, \"high-tech\": 1, \"Technology\": 11, \"genuinely\": 1, \"https://t.co/x6sKwRugm7\": 1, \"teenage\": 3, \"adjustable\": 1, \"useful\": 2, \"https://t.co/ZDRSgOHGzI\": 1, \"https://t.co/hzNpNS4TBZ\": 1, \"statewide\": 1, \"@WiredWomenSA\": 1, \"When\": 18, \"https://t.co/xI8c2dNu6x\": 1, \"https://t.co/XoqLv7wzqw\": 1, \"informatics\": 1, \"#lovetech\": 1, \"licensing\": 1, \"https://t.co/P5oDyAP29b\": 1, \"Donate\": 1, \"Australia\": 7, \"https://t.co/50ZRpeSAdY\": 1, \"perf\": 2, \"aye\": 1, \"\\\\u7528\": 1, \"visit\": 2, \"#futureofwork\": 1, \"\\\\u0130\": 2, \"Awards\": 2, \"Geekout\": 1, \"Studio\": 1, \"thru\": 6, \"checkout\": 3, \"sharing\": 20, \"PNN\": 1, \"AUG\": 1, \"https://t.co/fzJGhgHB2L\": 1, \"condescension\": 1, \"curriculum\": 2, \"@MsSammieRose\": 1, \"Taylor\": 1, \"Brag\": 21, \"archaeologists\": 1, \"@SVC2UK\": 2, \"effort\": 1, \"Kit\\'s\": 1, \"fly\": 1, \"#SmartWomen\": 1, \"avoiding\": 1, \"out-of-date\": 1, \"soul\": 4, \"reviews\": 1, \"Celebrating\": 16, \"fronting\": 1, \"@IENM\": 1, \"#Pakistani\": 1, \"ull\": 2, \"growing\": 7, \"making\": 29, \"arrive\": 1, \"mentee\": 1, \"claim\": 3, \"crazy\": 5, \"Heather\": 1, \"predict\": 1, \"fuck\": 4, \"#Gmail\": 2, \"https://t.co/4rWxc667F7\": 1, \"unemp\": 1, \"@pradeepktr84\": 1, \"Issue\": 1, \"YOUR\": 5, \"craze\": 1, \"pink\": 1, \"\\\\udd23\": 3, \"https://t.co/4BRCzw4OSz\": 1, \"Topshop\": 1, \"ping\": 1, \"till\": 2, \"#InfoSec\": 1, \"https://t.co/a3tIA6A3kl\": 1, \"ceo\": 1, \"pure\": 2, \"swore\": 1, \"idk\": 1, \"staying\": 2, \"designer\": 14, \"\\\\u4e45\": 1, \"140\": 4, \"may\": 6, \"max\": 1, \"doffed\": 1, \"@jprusakova\": 2, \"#CognitiveScience\": 1, \"snr\": 1, \"designed\": 10, \"14,\": 2, \"Passionate\": 2, \"guys\": 5, \"grow\": 9, \"man\": 3, \"cursing\": 1, \"aimless\": 1, \"outline\": 1, \"maybe\": 2, \"VIBES\": 1, \"Randomly\": 1, \"switch\": 1, \"talk\": 27, \"Feared\": 1, \"@appstech\": 1, \"shield\": 1, \"Twyla\": 1, \"chatbot\": 1, \"enjoyyng\": 1, \"https://t.co/guumEwXFkS\": 1, \"cuts\": 1, \"https://t.co/tL41UGDE5H\": 1, \"group\": 8, \"thank\": 38, \"@Cisco\": 2, \"interesting\": 4, \"Rail\": 1, \"@featherart\": 1, \"coaching\": 1, \"\\\\u0434\": 1, \"thanx\": 1, \"Blender\": 1, \"tweets\": 163, \"World\": 3, \"pashtun\": 1, \"main\": 2, \"WTM\": 2, \"Oostenrijk\": 1, \"@cgutierh\": 1, \"@chriscoyier\": 1, \"finance\": 1, \"@AndreaSlobodien\": 1, \"views\": 1, \"@emilybache\": 1, \"killer\": 1, \"https://t.co/0zh3Z1vR49\": 1, \"stupit\": 1, \"She\": 25, \"megabrags\": 1, \"https://t.co/y3Z5GH6ENV\": 1, \"https://t.co/eARGNqZRct\": 1, \"bullshit\": 3, \"https://t.co/XVG297TP5m\": 1, \"https://t.co/eINGPaJ0Fi\": 1, \"attorneys\": 1, \"https://t.co/7kSvf87GQr\": 1, \"Nigeria\\'s\": 1, \"https://t.co/N2WXfkzIcz\": 1, \"https://t.co/UrfCR7TnI9\": 1, \"https://t.co/jv0u5MPcMx\": 1, \"engadget\": 1, \"Simply\": 1, \"offshore\": 1, \"rock\": 28, \"showcasing\": 1, \"https://t.co/XEF53Al1TO\": 1, \"Event\": 1, \"@ireaderinokun\": 5, \"Renee\": 1, \"bridging\": 1, \"\\\\u6709\": 1, \"@evoljennifer\": 1, \"savent\": 1, \"https://t.co/OQcdYj61r0\": 1, \"@UXtina\": 1, \"manifesto\": 2, \"RTs\": 5, \"girl\": 24, \"morning\": 10, \"https://t.co/nBu2vHqytt\": 2, \"https://t.co/zV6lGi9fw9\": 1, \"living\": 3, \"re-cap\": 3, \"balcony\": 1, \"gamers\": 1, \"sonras\": 1, \"https://t.co/e1VV3FfUgp\": 1, \"poco\": 1, \"https://t.co/xdLxtNBdmC\": 1, \"emerged\": 2, \"tidbits\": 1, \"@report_taka\": 5, \"assurance\": 1, \"Responding\": 1, \"G\": 5, \"Fills\": 1, \"Sometimes\": 1, \"@KerryPinny\": 2, \"startupsn\": 1, \"keypunch\": 1, \"Teachin\": 1, \"@NdanuMaryanne\": 1, \"https://t.co/RAVsUz8LQz\": 1, \"org\": 4, \"amigos\": 1, \"\\\\u00dc\": 1, \"@swan_sheldon\": 1, \"advance\": 1, \"#News\": 2, \"language\": 3, \"Being\": 6, \"#bookdash\": 1, \"App\": 3, \"https://t.co/j0tivkTZeu\": 1, \"thing\": 38, \"#WomeninTech\": 9, \"uncredited\": 1, \"rewriter\": 1, \"think\": 31, \"first\": 143, \"https://t.co/074s1SiW1q\": 1, \"https://t.co/i3ocACT4Q0\": 1, \"Yay\": 6, \"https://t.co/PgIAHGo9e1\": 2, \"ISR\": 1, \"#AngelVideo\": 1, \"https://t.co/7kRqAVCr0y\": 1, \"Yas\": 1, \"@djangocon\": 1, \"Black\": 3, \"long\": 18, \"https://t.co/uHvMCtHxqp\": 1, \"crit\": 1, \"Probably\": 1, \"sounds\": 4, \"accountability\": 1, \"Vejam\": 1, \"Secure\": 1, \"little\": 22, \"meaningful\": 1, \"slept\": 1, \"\\\\u092c\": 2, \"anyone\": 14, \"Crushes\": 1, \"sudo\": 1, \"participated\": 3, \"speaking\": 16, \"prettier\": 1, \"meme\": 2, \"eyes\": 1, \"Fortune\": 2, \"bute\": 1, \"memo\": 8, \"continuous\": 2, \"accurately\": 1, \"https://t.co/UIeNzexIZ0\": 1, \"LOOKING\": 2, \"https://t.co/9N5HRLWeY9\": 1, \"butt\": 1, \"lembra\": 1, \"https://t.co/25OgINmRZV\": 1, \"#turkinternetcom\": 1, \"serves\": 1, \"here\\'s\": 6, \"#BragWorthy\": 1, \"11\": 6, \"10\": 48, \"13\": 7, \"12\": 17, \"15\": 13, \"14\": 6, \"17\": 9, \"self-employed\": 2, \"19\": 6, \"18\": 10, \"gotta\": 2, \"#whoruntheworldGIRLS\": 1, \"Techweez\": 1, \"Damnnn\": 1, \"#wwdug\": 1, \"https://t.co/iVm7k5wxQf\": 1, \"venture\": 1, \"orgs\": 1, \"@KTothSmith\": 1, \"DO\": 1, \"DM\": 5, \"@_WomenSpeakers_\": 2, \"DG\": 2, \"topics\": 4, \"Grand\": 1, \"DB\": 1, \"DC\": 4, \"voices\": 1, \"@djangogirls\": 1, \"https://t.co/JdtNkogeb4\": 1, \"#Growth\": 1, \"co-organized\": 2, \"surgery\": 1, \"Do\": 8, \"speakers\": 6, \"@Docker\": 1, \"@OfficialAdYoYo\": 1, \"@fcnewtech\": 1, \"foreigner\": 1, \"shocked\": 2, \"\\\\uc5b4\": 1, \"Dx\": 1, \"https://t.co/cIxFotoFnk\": 1, \"Dr\": 7, \"channel\": 4, \"200\": 3, \"DHL\": 1, \"#WITBragMonth\": 1, \"theatre\": 1, \"track\": 14, \"feu\": 1, \"SAm\": 1, \"paid\": 7, \"aloud\": 1, \"beta\": 2, \"https://t.co/b7eZIwbBLd\": 1, \"complaints\": 2, \"#Nordkorea\": 2, \"queens\": 1, \"especially\": 6, \"surprising\": 1, \"#chasinggenius\": 1, \"@apanizza\": 1, \"vocoders\": 1, \"@OReillySecurity\": 1, \"@eurucamp\": 1, \"https://t.co/UNv8SE5CnO\": 1, \"Moped\": 1, \"https://t.co/Su3FAjkZBL\": 1, \"#googledevelopers\": 1, \"shop\": 2, \"rating\": 1, \"shot\": 1, \"WA\": 1, \"show\": 15, \"Santander\": 1, \"#SEO\": 1, \"#NALCS\": 3, \"#HateHasNoHomeHere\": 1, \"https://t.co/9GsOsELn5m\": 2, \"QAE\": 1, \"https://t.co/YUnXpVhePz\": 2, \"https://t.co/VpgcDbw7Lh\": 1, \"@Afrohacker\": 1, \"https://t.co/TqiRAQEnXf\": 1, \"WP\": 2, \"corner\": 1, \"biometrics\": 1, \"@elinorverge\": 1, \"Tess\": 1, \"enthusiast\": 1, \"Recruiters\": 1, \"We\": 73, \"Kicked\": 1, \"#YOYO\": 1, \"https://t.co/XEU3qN7tya\": 1, \"behind\": 15, \"RIP\": 1, \"https://t.co/r9WrqVfiwN,\": 1, \"\\\\u0430\": 6, \"Wu\": 1, \"WooHoo\": 1, \"black\": 2, \"raising\": 7, \"Translation\": 2, \"Biloxi\": 1, \"https://t.co/d6rRRoDFu4\": 1, \"awareness\": 1, \"#mom\": 1, \"get\": 83, \"Amid\": 1, \"Awh\": 1, \"Navy\\'s\": 1, \"Irish\": 1, \"employers\": 1, \"repo\": 1, \"#bmoviemaniacs\": 4, \"MSFT\": 1, \"nearly\": 2, \"@estherderby\": 1, \"gen\": 5, \"gem\": 1, \"Right\": 2, \"https://t.co/oYW6rm4zqz\": 1, \"superheroines\": 1, \"https://t.co/Ejzr6gdOC5\": 1, \"summary\": 1, \"fulfilling\": 1, \"\\\\u00f3\": 12, \"miles\": 2, \"finishing\": 2, \"Twitter\": 43, \"https://t.co/N24pYC2i8T\": 1, \"2011,\": 2, \"@Ryen_Mac\": 1, \"https://t.co/spvhNf5bqu\": 1, \"@MacManX\": 1, \"seat\": 2, \"https://t.co/lEzhzMRhO4\": 1, \"@ScaniaWstAfrica\": 1, \"sean\": 1, \"@laynemcnish\": 2, \"Heinlein\": 1, \"wonder\": 5, \"FOR\": 5, \"https://t.co/ufq97l0Mym\": 1, \"Maravilloso\": 1, \"#talkshow\": 1, \"Tech-influenced\": 1, \"https://t.co/9rg3jN3zty\": 1, \"boundaries\": 3, \"enough\": 16, \"#Moonhack\": 1, \"reading\": 68, \"across\": 12, \"infrastructure\": 3, \"cartwheel\": 1, \"\\\\u0647\": 18, \"parental\": 1, \"https://t.co/0NNFKD9VMG\": 1, \"jr\": 1, \"killing\": 4, \"jo\": 1, \"@Kiwoba8\": 1, \"@clarajeffers\": 1, \"#AustrianGP\": 10, \"js\": 2, \"coupons\": 1, \"https://t.co/NKIqwwW0oD\": 1, \"@Rashad_Dahzar\": 1, \"#imnotsorry\": 1, \"Taught\": 9, \"@ObamaFoundation\": 1, \"PDFs\": 1, \"traded\": 1, \"among\": 7, \"forecasting\": 1, \"cancer\": 4, \"Laer\": 1, \"maintained\": 2, \"#LSeBiz\": 1, \"https://t.co/TLHVVz3j0h\": 1, \"profe\": 1, \"https://t.co/2W0QFpCzNl\": 1, \"@HPE\": 1, \"Dislike\": 2, \"comprehend\": 1, \"considering\": 1, \"arts\": 2, \"LinkedIn\": 1, \"capable\": 1, \"https://t.co/CWNirAz2es\": 1, \"mark\": 1, \"Luckily\": 1, \"workshop\": 8, \"judging\": 1, \"250\": 1, \"industria\": 2, \"educated\": 1, \"shopping\": 2, \"transdisciplinary\": 1, \"income\": 1, \"400\": 1, \"Ts\": 1, \"sort\": 5, \"https://t.co/WHzT0VP0QM\": 1, \"#wita\": 1, \"wake\": 3, \"\\\\u5439\": 1, \"Learn\": 2, \"hardcore\": 1, \"sound\": 4, \"https://t.co/wN5F5DCMWZ\": 1, \"@julie78787\": 1, \"Somehow\": 2, \"profiles\": 2, \"https://t.co/W2lzljZ3hT\": 1, \"compile\": 1, \"\\\\u6570\": 1, \"@lisyarmas\": 1, \"https://t.co/aXSsZd9RXh\": 1, \"https://t.co/w2yj4UFIs7\": 1, \"https://t.co/FDpKEl1QV2\": 1, \"#grateful\": 1, \"pushin\": 1, \"https://t.co/Yb3amrSoBz\": 1, \"conferences\": 21, \"Mercy\": 1, \"sincere\": 1, \"https://t.co/UgZcE8Rfwg\": 1, \"Karisani\": 1, \"mill\": 1, \"@LibyaLiberty\": 1, \"middle\": 5, \"#EsteDiaPintaPara\": 3, \"@RealSexyCyborg\": 1, \"everyday\": 16, \"@andmiddleton\": 1, \"woken\": 1, \"different\": 4, \"pas\": 1, \"pau\": 1, \"doctor\": 2, \"pay\": 5, \"commercialize\": 1, \"https://t.co/b3gTZq31Np\": 1, \"@matsimodise\": 1, \"prevented\": 1, \"authentication\": 1, \"speech\": 2, \"17.5\": 1, \"stepped\": 2, \"pan\": 1, \"https://t.co/xrTFuYqeiq\": 1, \"extended\": 2, \"assist\": 1, \"https://t.co/uq3E2Ge6CX\": 1, \"running\": 9, \"Unreal\": 1, \"#SciComm\": 1, \"@samlaing\": 1, \"totally\": 11, \"#tcdisrupt\": 10, \"https://t.co/nUFoevrOiy\": 1, \"amazes\": 1, \"PWD\\'s\": 1, \"DanaPylayeva\": 1, \"Motors\": 1, \"roommate\": 1, \"https://t.co/gmargBxMne\": 1, \"https://t.co/MIcaOfW8M0\": 1, \"last-job\": 1, \"solve\": 4, \"btwn\": 1, \"amazed\": 3, \"@AnushreeSp\": 4, \"\\\\u4e00\": 2, \"https://t.co/CKpnK6VoTc\": 1, \"https://t.co/cThwInYtem\": 1, \"money\": 2, \"Yaaas\": 1, \"https://t.co/lFSGlUBTny\": 1, \"aspect\": 1, \"https://t.co/71p1KmiSKS\": 1, \"#culture\": 1, \"https://t.co/a9X03GXoty\": 1, \"Git\": 1, \"doctoral\": 1, \"TO\": 6, \"https://t.co/ot2D5ZFH37\": 1, \"politicians\": 1, \"Margaret\": 2, \"https://t.co/efrjP0Xk5D\": 1, \"https://t.co/1UYct48zxT\": 1, \"4\": 48, \"https://t.co/rviix7qBXA\": 1, \"Diversity\": 1, \"https://t.co/S1nZLO7drc\": 1, \"Xtreme\": 1, \"Scrolling\": 1, \"careers\": 17, \"MARAVISHOSO\": 1, \"https://t.co/AyMEBVq52Q\": 1, \"grit\": 1, \"mos\": 3, \"Macworld\": 1, \"https://t.co/RTRT1ApvJy\": 1, \"#nodeist\": 1, \"@_tabbz\": 2, \"https://t.co/4wkPwW4cM7\": 1, \"@lizziedyson\": 1, \"grid\": 1, \"mom\": 19, \"@jenndox\": 1, \"aiming\": 1, \"Operations\": 1, \"@VeronicaVPlace\": 1, \"#MondayMotivation\": 4, \"server\": 3, \"audience\": 2, \"grants\": 1, \"London\": 2, \"either\": 3, \"Thesis\": 1, \"Hack\": 1, \"served\": 1, \"passionate\": 1, \"https://t.co/T6QtWsK8hi\": 1, \"#IoT\": 1, \"Digest\": 1, \"https://t.co/l0Fx62QFxG\": 1, \"Customer\": 1, \"@jbeda\": 1, \"NGfL\": 1, \"#GRITFORGIRLS\": 2, \"https://t.co/MmlZrR0Ox9\": 1, \"pronounce\": 1, \"Amazing\": 17, \"https://t.co/OL6zZ8SD9X\": 1, \"images\": 1, \"New\": 9, \"Net\": 2, \"perpetuating\": 1, \"https://t.co/AONdTJWPKV\": 1, \"watchful\": 1, \"genetics\": 1, \"https://t.co/XqhqH3JQf0\": 1, \"\\\\u5427\": 1, \"https://t.co/1jOMkb7pvm\": 1, \"poorly\": 1, \"Men\": 3, \"overly\": 1, \"@ghc\": 5, \"pioneer\": 1, \"critical\": 2, \"expressing\": 1, \"chingonas\": 1, \"https://t.co/MjGlBs4j3m\": 1, \"#fame\": 1, \"#MUFC\": 10, \"https://t.co/8AwyiZ4ltq\": 1, \"deadline\": 1, \"\\\\u0447\": 2, \"seconds\": 1, \"tree\": 1, \"broken\": 2, \"@GirlsinTech\": 1, \"Institutional\": 1, \"#neverlovedahashtagsomuch\": 1, \"USDS\": 2, \"refers\": 1, \"kernel\": 1, \"enterprise-ready\": 1, \"crafting\": 1, \"stations\": 1, \"violence\": 1, \"https://t.co/xDbe1cGrHG\": 1, \"meaning\": 1, \"Trade\": 2, \"#DDDMelb\": 1, \"Paper\": 2, \"WIRED\": 1, \"airline\": 1, \"https://t.co/tBSqm2094L\": 1, \"road\": 2, \"Tradu\": 1, \"organizers\": 3, \"Dissertation\": 1, \"quietly\": 4, \"referenced\": 2, \"@ringoo_2130v\": 1, \"@lisawwww\": 1, \"Fascinated\": 1, \"@VisualArtistDB\": 1, \"blessed\": 1, \"inbox\": 2, \"posters\": 2, \"https://t.co/CkXiEkhOHM\": 1, \"amassed\": 1, \"https://t.co/Ei3qJm96Nk\": 1, \"https://t.co/W73W9NgcoR\": 1, \"https://t.co/oi7urcku4L\": 1, \"#codelikeagirl\": 1, \"https://t.co/K3rHl9VbGV\": 1, \"https://t.co/N0hVCPkbES\": 1, \"distracted\": 1, \"https://t.co/nxR0gC9IjY\": 1, \"https://t.co/gX108DII49\": 1, \"#credit\": 1, \"#ladysplain\": 1, \"@nikazagar\": 1, \"@railsgirls_poz\": 1, \"#NetaCin\": 1, \"@karen_greaves\": 2, \"@watc_wearetech\": 1, \"@lordbigsack\": 1, \"https://t.co/W1ggYPSReB\": 1, \"https://t.co/akFFeBF2ZD\": 1, \"https://t.co/bcSkMIy60W\": 1, \"@gmail\": 1, \"Even\": 4, \"#WomensMonth\": 3, \"pulsars\": 1, \"@coopermarianne\": 1, \"#tech\": 29, \"Freer\": 1, \"#lawyerswhocode\": 1, \"Alison\": 1, \"@awscloud\": 3, \"@JuneOkal\": 2, \"USB\": 1, \"USA\": 2, \"https://t.co/xDzAKOELhC\": 1, \"retrained\": 1, \"deep\": 2, \"fellow\": 5, \"Blog\": 3, \"Lets\": 3, \"@LibrulElite\": 1, \"opuestas\": 1, \"webbed\": 1, \"https://t.co/IPacBHoBw0\": 1, \"lifetime\": 1, \"deed\": 1, \"#manifestbro\": 1, \"https://t.co/1g8ot59zMj\": 1, \"film\": 3, \"fill\": 1, \"tedious\": 1, \"#x27\": 1, \"https://t.co/OHKJA1x2TK\": 1, \"https://t.co/VSowQjoEhR\": 1, \"goddam\": 1, \"Oriane\": 1, \"https://t.co/TzUcOLlK3c\": 1, \"drivers\": 2, \"@pyconpune\": 1, \"depth\": 1, \"@littleBits\": 2, \"field\": 8, \"@DianaOfPortland\": 1, \"https://t.co/B6XUbUdVne\": 1, \"https://t.co/eaqI1Y6H53\": 1, \"https://t.co/B4rGBXbfgb\": 1, \"profes\": 4, \"https://t.co/MXSzHldWXV\": 1, \"https://t.co/onPMAo9Rgt\": 1, \"students\": 26, \"@TaitaTavetaUni\": 1, \"https://t.co/mjxK4P3sDE\": 1, \"@calamur\": 1, \"Cheer\": 1, \"important\": 20, \"ex-Google\": 1, \"Half\": 1, \"brands\": 1, \"https://t.co/MlUALv7fv7\": 1, \"\\\\u05dc\": 1, \"https://t.co/4r5QdW8rL9\": 1, \"laptops\": 1, \"\\\\u00fa\": 1, \"remote\": 2, \"Holy\": 1, \"Apparently\": 1, \"Yeah\": 4, \"https://t.co/54pti9klPF\": 1, \"\\\\u00ab\": 1, \"u\": 7, \"hugely\": 3, \"Year\": 1, \"starting\": 13, \"#boss\": 1, \"represent\": 2, \"@mlmouelle\": 5, \"forget\": 6, \"founder\": 3, \"dollar\": 3, \"@techgirl1908\": 2, \"\\\\u20ac\": 1, \"founded\": 5, \"Station\": 2, \"THANKS\": 2, \"talks\": 11, \"embarque\": 1, \"children\": 7, \"https://t.co/hAVwGySmmN\": 1, \"Championship\": 2, \"\\\\uc7a5\": 1, \"https://t.co/PMs0gM4Tgm\": 1, \"https://t.co/otVn7cbgDe\": 1, \"https://t.co/sfLKeAjZnf\": 1, \"PHDs\": 2, \"\\\\u0438\": 5, \"https://t.co/SWkJjy0iLZ\": 1, \"enjoying\": 19, \"Normalising\": 1, \"Training\": 1, \"sitting\": 1, \"translations\": 1, \"https://t.co/9zPDiLcokj\": 1, \"https://t.co/6SiFSYClDQ\": 1, \"Insights\": 1, \"bestie\": 1, \"fall\": 3, \"difference\": 5, \"https://t.co/cyhkcYWB3n\": 1, \"https://t.co/0lNI9sv6RO\": 1, \"https://t.co/pBDEvCWUJt\": 1, \"https://t.co/Z9WUzQhXil\": 1, \"yetler\": 1, \"gov\": 1, \"Don\\'t\": 19, \"role--drawing\": 2, \"Course\": 1, \"https://t.co/kTL5hoN4hr\": 1, \"GIAC\": 1, \"biological\": 2, \"https://t.co/i7nSeIlXf0\": 1, \"https://t.co/zPNNVGmGA9\": 2, \"https://t.co/kAvun8fAPn\": 1, \"https://t.co/PRcNsI7Yao.\": 1, \"@aditichaudhry92\": 1, \"zero\": 4, \"titles\": 2, \"perspective\": 2, \"estherderby\": 1, \"appreciating\": 1, \"edx\": 1, \"https://t.co/JXtkzDp0Fm\": 1, \"\\\\u4e0e\": 1, \"#WitConf17\": 1, \"verdadero\": 1, \"abt\": 5, \"#PyCodeCarrots\": 1, \"Shallah\": 1, \"https://t.co/sKhYErY8P2\": 1, \"public\": 9, \"movement\": 3, \"#adyoyo\": 1, \"#godsend\": 1, \"K\": 5, \"https://t.co/OUH9Pv4m3i\": 1, \"dabbled\": 1, \"newspaper\": 1, \"@mwadden\": 1, \"AFB\": 1, \"HCI\": 1, \"\\\\u00e0\": 3, \"search\": 3, \"Gladbach\": 1, \"Combat\": 1, \"https://t.co/9yV93aoJwH\": 1, \"Loves\": 1, \"noites\": 1, \"#AI\": 4, \"@RobynHicock\": 1, \"published\": 13, \"@sangeetan\": 1, \"https://t.co/YJHnCsQuQI\": 1, \"https://t.co/aIWhuKXHwQ\": 1, \"Watson\\'s\": 1, \"https://t.co/mEJ5tXJVO5\": 1, \"Bragging\": 5, \"https://t.co/ECLgJhTn3n\": 1, \"aptitude\": 1, \"https://t.co/h6cYAdGXD0\": 1, \"otros\": 2, \"Europe\": 3, \"Core\": 1, \"https://t.co/7tK4L5ta8j\": 1, \"https://t.co/wPRNiGuF5R,\": 1, \"texting\": 1, \"two\": 25, \"Corp\": 1, \"soundcloud\": 1, \"achieving\": 1, \"@KateCarrington8\": 1, \"OUT\": 1, \"@LisaMc_Edin\": 2, \"#learntocode\": 1, \"Brasil\": 1, \"GIRLS\": 1, \"#WonderWoman\": 2, \"@honeybakedtam\": 1, \"#aussie\": 1, \"Americas\": 1, \"https://t.co/kIzEdgKUfy\": 1, \"American\": 2, \"Via\": 1, \"ain\\'t\": 2, \"suite\": 1, \"#femalefounders\": 1, \"karaoke\": 1, \"@jonahray\": 1, \"town\": 1, \"https://t.co/DWLrHZr20Z\": 1, \"hour\": 3, \"strain\": 1, \"dep\": 1, \"recall\": 1, \"det\": 2, \"dev\": 42, \"https://t.co/anZ1DjyEsS\": 1, \"del\": 3, \"dem\": 1, \"Joannah\": 1, \"National\": 1, \"def\": 1, \"https://t.co/GX3YzLLdVE\": 1, \"@NiNanjira\": 1, \"https://t.co/1HpXTIUgIU\": 1, \"onslaught\": 1, \"share\": 24, \"@sjunaidn\": 1, \"#n2women\": 1, \"@NivaniG\": 1, \"mainstream\": 1, \"needs\": 10, \"femtalent\": 1, \"Canadian\": 1, \"justifies\": 1, \"heck\": 1, \"Spare\": 1, \"GURLLLL\": 1, \"movements\": 1, \"@Ca_BreastKE\": 1, \"css\": 1, \"https://t.co/woEWn0NKoX\": 1, \"https://t.co/Z1JNld2zTb\": 1, \"#AlwaysFollowBack\": 1, \"Lisp\": 1, \"Doc\": 1, \"advice\": 5, \"carreira\": 1, \"@ShillaSaebi\": 2, \"connectivity\": 1, \"coming\": 27, \"#ThankYou\": 1, \"response\": 2, \"@UhtredtheViking\": 1, \"https://t.co/WQGZXYjxJB\": 1, \"tweeting\": 2, \"https://t.co/uR45erkN2T\": 1, \"@smrtgrls\": 1, \"official\": 1, \"https://t.co/Mi4NqbOmg9\": 1, \"pleasure\": 2, \"playing\": 8, \"that\\'s\": 24, \"What\": 53, \"rounded\": 2, \"https://t.co/zyY0RQD4AV\": 1, \"industrial\": 1, \"Forces\": 1, \"existence\": 1, \"#MomHero\": 1, \"https://t.co/2mEUpLYPig\": 1, \"Trinity\": 1, \"24\": 8, \"25\": 8, \"26\": 4, \"#dctech\": 1, \"20\": 16, \"21\": 7, \"22\": 6, \"23\": 5, \"@moniquedelacruz\": 1, \"28\": 3, \"29\": 2, \"#info\": 1, \"late\": 47, \"https://t.co/tPWlkM4TWP\": 1, \"messes\": 1, \"2,\": 1, \"@CGI_UKNEWS\": 1, \"someone\": 9, \"Yessss\": 1, \"preconceptions\": 1, \"seeking\": 1, \"https://t.co/rz5qUWRZmR\": 1, \"@apterasoftware\": 1, \"@JaneMavoa\": 1, \"primary\": 1, \"Youth\": 1, \"https://t.co/IJKYhwHvbA\": 1, \"Bad\": 2, \"Fight\": 2, \"struggling\": 2, \"Taipei\": 2, \"Ethical\": 1, \"#crazy\": 1, \"pregnant\": 3, \"#ladiesoffunsize\": 1, \"@LoudPotato\": 1, \"@brwngrldev\": 1, \"#Acura\": 1, \"#workshop4me\": 1, \"\\\\uddf5\": 1, \"heroines\": 1, \"ports\": 1, \"Hmmm\": 1, \"subsystem\": 1, \"Doomben\": 1, \"everyone\": 15, \"Built\": 16, \"reference\": 1, \"house\": 1, \"energy\": 2, \"https://t.co/c3RVdIPiNH\": 2, \"idea\": 14, \"@Katherine_Coach\": 1, \"Waiting\": 1, \"oil\": 2, \"countrymen\": 1, \"Build\": 3, \"@DDDMelb\": 2, \"tiffani\": 4, \"insurance\": 1, \"heights\": 1, \"initiatives\": 2, \"flower\": 1, \"Omg\": 1, \"Yaha\": 1, \"TADA\": 1, \"sickness\": 1, \"Omo\": 1, \"https://t.co/Op8JKtRwxB\": 1, \"#RandomHacks\": 1, \"https://t.co/FdntgDALgS\": 1, \"print\": 3, \"learners\": 2, \"Sheroes\": 1, \"@ebolamericana\": 1, \"Techies\": 9, \"Cool\": 4, \"Ukraine\": 1, \"https://t.co/rsKx6jJm8r\": 1, \"bully\": 1, \"EA\": 1, \"Estelle\": 1, \"\\\\u044f\": 3, \"Una\": 1, \"WITHOUT\": 1, \"STRUGGLE\": 2, \"members\": 4, \"Uni\": 3, \"Orgs\": 1, \"beginning\": 2, \"ES\": 1, \"En\": 2, \"Mohammd\": 1, \"Ed\": 1, \"computers\": 6, \"Indra\": 1, \"Helped\": 6, \"conducted\": 1, \"NASA\": 1, \"https://t.co/q6qmKibTo1\": 1, \"#LadyInTech\": 1, \"https://t.co/mFWmM9VhFl\": 1, \"pilots\": 1, \"O\\'Reilly\": 2, \"dont\": 1, \"Shakti\": 1, \"@warty9\": 1, \"https://t.co/XRPPaC9AlJ\": 1, \"cada\": 2, \"https://t.co/0WRcb7Eqz7\": 2, \"done\": 37, \"https://t.co/wIIlJrsHCz\": 1, \"fiction\": 1, \"bullied\": 1, \"@geochatz\": 1, \"Okay\": 1, \"TzviyaSiegman\": 1, \"https://t.co/s1XGg7i1VR\": 1, \"18,\": 2, \"Cheers\": 1, \"paint\": 1, \"180\": 1, \"respun\": 1, \"mama\": 1, \"PC\\'s\": 1, \"\\\\u092b\": 1, \"Hackthon\": 1, \"akam\": 1, \"@MomsCanCodePgh\": 1, \"para\": 7, \"Arriba\": 1, \"https://t.co/ws5p1zAfjz\": 1, \"mentality\": 1, \"@GeorginaWilcox\": 1, \"XD\": 1, \"https://t.co/b2DK3ZtkBN\": 1, \"\\\\u2b50\": 4, \"part\": 28, \"keyvalues\": 1, \"samesies\": 1, \"doctors\": 2, \"https://t.co/VKzzmB8Ut6\": 1, \"believe\": 7, \"@yamuna_divek\": 1, \"peaked\": 1, \"b\": 5, \"horizons\": 1, \"Slay\": 2, \"youth\": 3, \"https://t.co/n5JDKTeuMs\": 1, \"Intro\": 1, \"Kasia\": 1, \"tod\": 1, \"https://t.co/GCoIuOCqZV\": 1, \"interactive\": 3, \"debugging\": 2, \"Altamente\": 1, \"https://t.co/msEgVhyhP5\": 1, \"ages\": 4, \"#womeninTech\": 1, \"@fgbjr\": 1, \"zu\": 1, \"aged\": 2, \"vanguard\": 1, \"@EdinburghUni\": 3, \"mountain\": 1, \"https://t.co/OsFyTgjUAQ\": 1, \"built\": 43, \"Power\": 3, \"depending\": 1, \"https://t.co/k0xACYdzWn\": 1, \"honors\": 1, \"majority\": 4, \"Webserver\": 1, \"build\": 28, \"#Teknoloji\": 1, \"obviously\": 1, \"Kia\": 1, \"https://t.co/BpDbFnmhup\": 1, \"https://t.co/wfvTeeRaVT\": 1, \"kB\": 1, \"programmers\": 5, \"serve\": 1, \"chars\": 3, \"https://t.co/X5fzdenx5s\": 1, \"essa\": 1, \"Communications\": 1, \"#JAVA\": 1, \"significant\": 1, \"services\": 2, \"extremely\": 1, \"https://t.co/EThqIZdRcj\": 1, \"INSPIRING\": 1, \"@LisaBAcapers\": 1, \"https://t.co/iJ6xNE7ILg\": 1, \"\\\\u05e4\": 1, \"https://t.co/zlfWrYPL9R\": 1, \"goodwill\": 1, \"Egypt\": 2, \"https://t.co/WNkLyhou73\": 1, \"OGAR\": 1, \"Encouraging\": 2, \"km\": 1, \"#artist\": 1, \"@sabramse\": 1, \"@WAAW_Foundation\": 1, \"ku\": 1, \"they\\'re\": 5, \"sector\": 3, \"particularly\": 3, \"Expert\": 2, \"#GirlsJS\": 1, \"https://t.co/mqJlB70c4W\": 1, \"#Charlottesviille\": 1, \"https://t.co/9Az48JsJ9w\": 1, \"businesses\": 4, \"coded-up\": 1, \"carefully\": 1, \"genexus\": 1, \"fine\": 1, \"find\": 24, \"Poor\": 1, \"https://t.co/56g71GaRGf\": 1, \"@IFLScience\": 1, \"Clicklist\": 1, \"distributed\": 2, \"https://t.co/8NdGlZgpUg\": 1, \"idiots\": 1, \"experiment\": 1, \"generators\": 3, \"8\": 28, \"therefore\": 1, \"C24\": 1, \"permission\": 1, \"@mosimi20\": 1, \"express\": 3, \"https://t.co/WneJXj6iFZ\": 1, \"courage\": 1, \"gendered\": 1, \"https://t.co/krQIuojUuN\": 1, \"KABOOM\": 1, \"blogging\": 1, \"https://t.co/tNnV4fi0ss\": 1, \"https://t.co/czKU6gfCeh\": 1, \"@Everything5\": 1, \"https://t.co/03XCdhm1b8\": 1, \"doubled\": 1, \"#wordpresspages\": 1, \"\\\\uddf1\": 2, \"common\": 1, \"Female\": 11, \"https://t.co/gFpnIjyhmc\": 1, \"fledged\": 1, \"#GPN\": 2, \"@she_secures\": 1, \"https://t.co/x8qiv1rhuE\": 1, \"@kohactive\": 1, \"https://t.co/y2WQjQRZ8x\": 1, \"https://t.co/8SXg39v5MS\": 1, \"Aussie\": 1, \"@asbruckman\": 1, \"individual\": 1, \"genomic\": 1, \"retweet\": 1, \"chose\": 3, \"enveloped\": 1, \"https://t.co/BLNbVyNI3O\": 1, \"expert\": 3, \"GET\": 10, \"positivity\": 7, \"please\": 12, \"https://t.co/aRTMCRA1i7\": 1, \"https://t.co/8qhonJ7jY6\": 1, \"Light\": 1, \"@YolinaSotirova\": 2, \"@Ridatolo\": 1, \"JUST\": 1, \"King\": 21, \"responses\": 2, \"interfaces\": 2, \"Programming\": 1, \"#Mozambique\": 1, \"lunch\": 1, \"@Loubnaxk\": 1, \"@adhiambo_ondeng\": 3, \"Dang\": 1, \"@linkedin\": 1, \"Makes\": 1, \"Seenot\": 1, \"Thats\": 1, \"full-time\": 4, \"annual\": 1, \"foreign\": 1, \"Totes\": 1, \"@hearmecode\": 1, \"geochemical\": 1, \"Yep\": 2, \"Yes\": 26, \"mean\": 4, \"Yet\": 2, \"upgraded\": 1, \"@iheni\": 1, \"@GuiltFemPod\": 1, \"#France\": 1, \"purse\": 1, \"https://t.co/VT0DAt7KFG\": 1, \"https://t.co/uHMDTHNJeV\": 1, \"dances\": 1, \"dancer\": 1, \"simply\": 1, \"https://t.co/Rub9UVTMVv\": 1, \"kullan\": 1, \"throughout\": 1, \"@ZiemsEbeogu\": 1, \"@agilelynn\": 1, \"transformations\": 1, \"\\\\u0630\": 1, \"KDE\": 1, \"create\": 29, \"Processing\": 1, \"creativity\": 2, \"Antivirus\": 1, \"https://t.co/v1tVuWAaK0\": 1, \"secret\": 3, \"ensured\": 1, \"navigate\": 1, \"https://t.co/crvZ28DsPR\": 1, \"Inanta\": 1, \"https://t.co/TjG5RH61Ku\": 1, \"Daughter\": 1, \"#RHoKDelhi\": 1, \"It\\'ll\": 1, \"cyborg\": 1, \"gas\": 1, \"@UofC_CPSC\": 2, \"gap\": 2, \"https://t.co/Yh1iFixrcK\": 1, \"Masters\\'s\": 1, \"gal\": 1, \"understand\": 7, \"Stockholm\": 1, \"@bodil\": 1, \"https://t.co/NR60hImY4U\": 1, \"pharmas\": 1, \"@amandapalmer\": 2, \"unify\": 2, \"Classic\": 1, \"solid\": 2, \"Chromecast\": 1, \"bill\": 1, \"convo\": 2, \"#CS\": 2, \"heya\": 1, \"Turbocharged\": 1, \"https://t.co/5CBiWrLmht\": 1, \"replaced\": 1, \"fun\": 10, \"ful\": 1, \"@chebetbii\": 2, \"employees\": 1, \"@paizurizilla\": 1, \"https://t.co/Al6EeqdeOX\": 1, \"finalists\": 1, \"\\\\u9019\": 2, \"@TXJennieK\": 1, \"\\\\uddee\": 3, \"@BewickCarol\": 1, \"@melchoyce\": 1, \"https://t.co/RJekFlq4e4\": 1, \"https://t.co/nCGeStS32i\": 1, \"Dietitians\": 1, \"https://t.co/D0RlMzXLAO\": 1, \"#OutsideLands\": 1, \"https://t.co/EmZiekzsGJ\": 1, \"basta\": 1, \"https://t.co/NQnvTpwiGP\": 1, \"https://t.co/U7N0W949aj\": 1, \"@LukewSavage\": 1, \"development\": 14, \"digitisation\": 1, \"assignment\": 1, \"@Shopify\": 1, \"yesterday\": 7, \"sys\": 3, \"moment\": 5, \"purpose\": 2, \"1.1\": 1, \"Promoted\": 1, \"mot\": 1, \"Arabic\": 1, \"https://t.co/fMuhZ9eyUJ\": 1, \"\\\\u05e0\": 3, \"task\": 2, \"https://t.co/7Uyng68xe8\": 1, \"besichtigen\": 1, \"@jessfraz\": 1, \"withdraw\": 1, \"@MihoJnvr\": 1, \"organization\": 6, \"chemistry\": 1, \"spend\": 4, \"prevention\": 1, \"singlehandedly\": 1, \"Considering\": 3, \"https://t.co/z79g3so1p3\": 1, \"examining\": 1, \"https://t.co/JqK0wwQFSW\": 1, \"https://t.co/oGpxEsXY58\": 1, \"matured\": 1, \"shape\": 2, \"https://t.co/V4TURHM2IS\": 1, \"Kenyan\": 14, \"https://t.co/CJeaVkaczO\": 1, \"@AmySchlesener\": 1, \"cut\": 2, \"https://t.co/hjVJktZus7\": 1, \"https://t.co/HqOJ3Lgi8p\": 1, \"https://t.co/jZ4RkvMz1H\": 1, \"cuz\": 5, \"source\": 11, \"Goals\": 1, \"win\": 5, \"excited\": 8, \"bio\": 2, \"#cancerlegging\": 1, \"https://t.co/zPl9bSr8GH\": 1, \"https://t.co/StrjG1bM0l\": 1, \"#music\": 1, \"MOMS\": 1, \"big\": 15, \"bid\": 1, \"Japan\\'s\": 1, \"https://t.co/e0hwn0hmtT\": 1, \"bacana\": 1, \"truely\": 1, \"biz\": 7, \"@GoogleDevExpert\": 1, \"@allison_pollard\": 1, \"bit\": 9, \"bir\": 2, \"Voice\": 1, \"https://t.co/qPs5kj0gJd\": 1, \"spheros\": 1, \"@AlbertoBernalLe\": 1, \"https://t.co/CjBHkfiFEI\": 1, \"follows\": 3, \"vrouwen\": 1, \"Thankful\": 1, \"https://t.co/mbzCMFkt84\": 1, \"https://t.co/EsV82FHGUT\": 1, \"rheumatoid\": 1, \"@ebuie\": 1, \"https://t.co/YJFjkECMvk\": 1, \"https://t.co/8WazZwyPut\": 1, \"#ILookLikeAnEngineer\": 2, \"Management\": 1, \"https://t.co/u0d0V8xydS\": 1, \"\\\\u9084\": 1, \"absolutely\": 14, \"#FlashbackFriday\": 10, \"back\": 29, \"#MondayMotivaton\": 1, \"strongest\": 1, \"Whoo\": 1, \"examples\": 4, \"apply\": 1, \"@Netroots_Nation\": 1, \"Whoa\": 3, \"Woke\": 1, \"@_3adma_\": 1, \"scale\": 7, \"https://t.co/5J36HRtL4O\": 1, \"LMAO\": 1, \"contacts\": 1, \"decision\": 2, \"pep\": 1, \"per\": 3, \"algunas\": 1, \"https://t.co/spaPCVgX1U\": 1, \"@cancwic\": 1, \"Rita\": 1, \"Nothing\": 1, \"miraculous\": 1, \"epic\": 7, \"Boy\": 1, \"Computers\": 1, \"patient\": 1, \"https://t.co/LTmqrZoL0n\": 1, \"300\": 4, \"https://t.co/pMcjXB9ix0\": 1, \"@this_Ivy\": 1, \"continuing\": 1, \"O\": 7, \"Bow\": 1, \"SysAdmin\": 1, \"https://t.co/idigDRO9KT\": 2, \"https://t.co/9S1fwqTaOH\": 1, \"Bon\": 1, \"metaphor\": 1, \"optimize\": 2, \"#Germany\": 1, \"podcaster\": 1, \"https://t.co/J4gQjEpuQR\": 1, \"justo\": 1, \"#CreationOfNature1\": 1, \"HTLM\": 1, \"emocionarse\": 1, \"@oogaboogachooga\": 1, \"techie\": 6, \"abusive\": 1, \"\\\\u248d\": 2, \"https://t.co/oh965Rsmmw\": 1, \"exercises\": 1, \"Woooooooooo\": 1, \"@infantcentre\": 1, \"Zodiac\": 1, \"@yonitdm\": 1, \"Comp\": 3, \"https://t.co/71Arm9cvMH\": 1, \"Ooh\": 1, \"https://t.co/trmnCrhkqm\": 1, \"Where\\'s\": 2, \"camera\": 1, \"Comm\": 1, \"https://t.co/2NDjyObF0L\": 1, \"Excellent\": 3, \"forward\": 16, \"dissertations\": 1, \"bored\": 2, \"Come\": 2, \"promotions\": 1, \"#OSSummit\": 1, \"Declared\": 1, \"boys\": 3, \"cybersec\": 1, \"@dominicad\": 1, \"hopes\": 2, \"@rebeccawb\": 1, \"migrating\": 1, \"https://t.co/7sTmSwEySZ\": 1, \"I\\'ll\": 27, \"https://t.co/E8eEFVGsvs\": 1, \"rejection\": 1, \"#Philly\": 1, \"@MTNBusinessZA\": 1, \"requesting\": 1, \"#WTBragDay\": 1, \"planet\": 1, \"#obe\": 1, \"strategize\": 1, \"#yogasweatshirts\": 1, \"planes\": 2, \"https://t.co/lg9Hsns7m8\": 1, \"https://t.co/9LXnDC53Qe\": 1, \"recognition\": 1, \"#whorunstheworld\": 1, \"confs\": 4, \"@sanegaytan\": 1, \"metal\": 1, \"https://t.co/PSNPSWLDtZ\": 1, \"https://t.co/vJ10JS8M72\": 1, \"https://t.co/KwdJtNv9aE\": 1, \"#software\": 1, \"engineering\": 22, \"cure\": 1, \"geophysical\": 1, \"https://t.co/Wh9uwM5CV0\": 1, \"formally\": 1, \"#DEFCON\": 1, \"https://t.co/JThc9HS7UI\": 1, \"Tester\": 1, \"Participated\": 1, \"adoring\": 1, \"EVERYTHING\": 1, \"Mac\": 2, \"functionality\": 1, \"https://t.co/wtBbs1vaIc\": 1, \"Student\": 3, \"statutes\": 1, \"Man\": 2, \"@pipms\": 1, \"https://t.co/PxUOQ1NulD\": 1, \"Skool\": 1, \"favourite\": 9, \"@FMEnvng\": 1, \"#WITfangirl\": 1, \"#Careers\": 1, \"https://t.co/iO33ghMtzb\": 1, \"https://t.co/qUHwRGJJiA\": 1, \"Cindy\": 1, \"PWAs\": 1, \"@laura_grande\": 1, \"https://t.co/kZVyfNhFjW\": 1, \"@africatechie\": 2, \"confirm\": 1, \"@kminottibecker\": 1, \"admiring\": 1, \"eentje\": 1, \"2000\": 5, \"https://t.co/m0kAYmeuhw\": 1, \"Scott\": 1, \"presenting\": 2, \"https://t.co/KX4HiZVkEK\": 1, \"@IrisdeVillars\": 1, \"2008\": 2, \"2009\": 2, \"enrichment\": 1, \"Gratitude\": 2, \"https://t.co/Uhe7IHCixi\": 1, \"#respect\": 3, \"https://t.co/MdqKTlDYfg\": 1, \"Visited\": 1, \"https://t.co/LiW8xp8wbj\": 1, \"https://t.co/GY4n5zXHPR\": 1, \"Misunderstood\": 1, \"Geek\": 2, \"@miah_\": 1, \"@MeganCaywood\": 2, \"@tarah\": 1, \"Business\": 6, \"https://t.co/pM1fp5FAYn\": 1, \"Lucky\": 1, \"Siemens\": 1, \"helps\": 12, \"bipasha\": 1, \"@operation_code\": 1, \"random\": 2, \"CEO\\'s\": 1, \"https://t.co/e2Q9r2mfh3\": 1, \"putting\": 2, \"entire\": 6, \"@Mosschop\": 1, \"https://t.co/ABAz1GczxX\": 1, \"prototypes\": 1, \"#USSD\": 1, \"prototyped\": 1, \"havent\": 1, \"https://t.co/ZPEDIu2aWf\": 1, \"bugbounty\": 1, \"@geekygirlsarah\": 3, \"bleeding\": 2, \"Vehicle\": 1, \"@luiciolfi\": 1, \"https://t.co/50QUv2vD0m\": 1, \"@wifelette\": 1, \"Interaction\": 1, \"https://t.co/tLLHzsWINQ\": 1, \"@rixajoy\": 1, \"#HowICode\": 1, \"WHAT\": 1, \"https://t.co/iqV0TRKi9D\": 1, \"@ActivSpaces\": 1, \"https://t.co/0YUCoPtI72\": 1, \"@chiuki\": 2, \"https://t.co/7exDKNSFwc\": 1, \"#UNLEASHLab2017\": 1, \"wimmin\": 1, \"https://t.co/A2iDzYrvTB\": 1, \"@melodyyale\": 1, \"Semi-Finalist\": 1, \"body\": 10, \"FTW\": 3, \"#flipthestereotypes\": 1, \"Professor\": 1, \"440\": 1, \"amounts\": 1, \"bachelor\": 1, \"others\": 24, \"sing\": 3, \"#WIT\": 37, \"Steph\\'s\": 1, \"https://t.co/EbIuU7ochZ\": 1, \"https://t.co/HVWNknUQzd\": 1, \"https://t.co/osOb0KUNze\": 1, \"talent\": 8, \"Chinese\": 1, \"https://t.co/8IYSksSrtB\": 1, \"33\": 3, \"32\": 5, \"31\": 1, \"30\": 10, \"#Letsbrag\": 1, \"36\": 2, \"35\": 5, \"34\": 2, \"https://t.co/EHYO3ngjBB\": 2, \"cert\": 2, \"#PDWikendi\": 2, \"@xfilesier\": 1, \"birthed\": 1, \"Download\": 1, \"implement\": 1, \"honor\": 2, \"FP\": 1, \"named\": 6, \"FT\": 1, \"Multimedia\": 1, \"SMS\": 2, \"private\": 1, \"FB\": 4, \"FE\": 2, \"resolutions\": 1, \"#Entrepreneurs\": 1, \"gateway\": 1, \"Salute\": 2, \"Nice\": 16, \"dissonance\": 1, \"@sandycarielli\": 1, \"\\\\u2026\": 70, \"Gaddem\": 1, \"#CustomerService\": 1, \"https://t.co/mwwdjyI2BO\": 1, \"#womenintech\": 104, \"https://t.co/BEQfBVZiPz\": 1, \"https://t.co/dw4OLFiGEK\": 1, \"https://t.co/I2Vsxn53HF\": 1, \"https://t.co/wxKu4OmQQi\": 1, \"#education\": 1, \"#Kenya\": 3, \"https://t.co/GD9B3VnF7A\": 1, \"upcoming\": 1, \"kiosk\": 1, \"#thinkingoutsidethebox\": 1, \"trail\": 1, \"train\": 5, \"Today\\'s\": 4, \"https://t.co/14v7JByMaV\": 1, \"@leahmolatseli\": 2, \"account\": 3, \"https://t.co/DiuW7iPgeU\": 1, \"f\": 4, \"hicks\": 1, \"https://t.co/cGkOoycJXr\": 1, \"@betterallies\": 3, \"Excelente\": 1, \"praise\": 2, \"https://t.co/ZJ9ChMOJ5M\": 1, \"closing\": 2, \"didnt\": 2, \"Details\": 1, \"https://t.co/1tBHTiKpdy\": 1, \"#WomanInTech\": 1, \"https://t.co/0kTyIj6vjl\": 1, \"effectively\": 1, \"fulfillment\": 1, \"native\": 1, \"https://t.co/2AWm7XAx6Q\": 1, \"Yo\": 1, \"lame\": 1, \"https://t.co/DOLYzzYEXe\": 1, \"#aquariuscup\": 1, \"winners\": 4, \"KFC\": 1, \"https://t.co/z0UXYwODnU\": 1, \"https://t.co/qrVLdKB4Bb\": 1, \"profile\": 5, \"\\\\u79c0\": 1, \"Dopeness\": 1, \"ABD\": 1, \"falta\": 1, \"Technical\": 2, \"https://t.co/FMX7oQq6VI\": 1, \"incompetence\": 1, \"collection\": 5, \"twarc\": 1, \"#wikimania\": 1, \"Honored\": 1, \"https://t.co/GoaAH3jO2M\": 1, \"https://t.co/pdo3TL3k95\": 1, \"NZs\": 1, \"25,000\": 1, \"lines\": 2, \"@impactmass\": 1, \"https://t.co/LFQqY41pMW\": 1, \"https://t.co/PC53mHS1Cn\": 1, \"@googlechrome\": 1, \"https://t.co/jnEf43HZF7\": 1, \"resurgent\": 1, \"#London\": 1, \"JPL\\'s\": 1, \"wedding\": 1, \"@annie_parker\": 1, \"https://t.co/YKp3X3G3Zy\": 1, \"https://t.co/P9mMnB3ypU\": 1, \"webdesign\": 1, \"2017,\": 1, \"bunch\": 6, \"bridges\": 1, \"le\": 6, \"#CodeLikeAGirl\": 2, \"la\": 13, \"@Tweet_Cassandra\": 1, \"lo\": 5, \"Interfaces\": 1, \"@wsj\": 1, \"winning\": 5, \"Director\": 2, \"https://t.co/GUfYvpKjAG\": 1, \"lt\": 24, \"willing\": 1, \"@SQLanodyne\": 1, \"@spinnakerio\": 1, \"image\": 1, \"https://t.co/0h7st3074R\": 1, \"dad\": 3, \"Loved\": 7, \"dag\": 1, \"later\": 19, \"chills\": 1, \"spell\": 1, \"mention\": 7, \"Architect\": 2, \"#Space\": 1, \"https://t.co/XXrjJAcezP\": 1, \"das\": 2, \"#LOVE___YOURSELF\": 1, \"day\": 108, \"https://t.co/QzC4ZeaKQE\": 1, \"applicants\": 1, \"48,06\": 1, \"Adobe\": 2, \"@treatout\": 1, \"https://t.co/WA6Uy21FIQ\": 1, \"https://t.co/JLCHWVjwok\": 1, \"https://t.co/sldQpaLxTU\": 1, \"blazing\": 2, \"batch\": 1, \"experienced\": 1, \"@BSidesLV\": 2, \"From\": 30, \"Lamarr\": 1, \"co-organised\": 1, \"#TomorrowsTechnologyToday\": 1, \"programmed\": 2, \"administrator\": 1, \"yr-old\": 1, \"@waynesutton\": 3, \"https://t.co/5ww1vufFWT\": 1, \"programmer\": 13, \"programmes\": 1, \"sexual\": 1, \"Trying\": 1, \"https://t.co/3VxNRXY3x3\": 1, \"@lissijean\": 2, \"rep\": 1, \"rev\": 1, \"ret\": 1, \"https://t.co/JN3dL6nPp6\": 1, \"#WiTbragDay\": 1, \"@LRWagner1\": 1, \"China\": 1, \"https://t.co/IOm2HnnIeN\": 1, \"@nerdatmath\": 1, \"https://t.co/pNUaM5MWbK\": 1, \"electronics\": 1, \"@weeny\": 1, \"math\": 8, \"approached\": 1, \"frand\": 1, \"workflow\": 1, \"https://t.co/oBhNo0asxI\": 1, \"@lindakluu\": 1, \"@AlexAtkins17\": 1, \"que\": 24, \"https://t.co/SaMXcFSdGr\": 1, \"qui\": 1, \"https://t.co/kwUMOGLnTH\": 1, \"https://t.co/9sqEKfCzk1\": 1, \"CSS\": 9, \"receipts\": 1, \"Outlook\": 1, \"interaction\": 1, \"allies\": 1, \"Lagos\": 2, \"Developed\": 2, \"Though\": 1, \"https://t.co/yCGTOAmFVd\": 1, \"#africa\": 12, \"https://t.co/CZwz677u7V\": 1, \"@NUIGCompsoc\": 1, \"Folk\": 1, \"Developer\": 8, \"finest\": 1, \"Allow\": 1, \"https://t.co/W21IqvWvzM\": 1, \"guzel\": 1, \"@GSAUK\": 1, \"#techgirls\": 3, \"Zaun\": 1, \"strategic\": 1, \"https://t.co/ikBg47cGnD\": 1, \"@alicegoldfuss\": 65, \"reached\": 4, \"@NPradeepa\": 2, \"https://t.co/NPrYHIAWEL\": 1, \"#stories\": 1, \"owning\": 1, \"@BTP\": 1, \"MANAGEMENT\": 1, \"sadly\": 1, \"monkey\": 1, \"redirection\": 1, \"\\\\uc6a9\": 1, \"habit\": 1, \"racist\": 1, \"#Strategy\": 1, \"@mauracorbett\": 2, \"Medicaid\": 1, \"#cybercrime\": 1, \"@hilali_network\": 1, \"#blacksintechnology\": 1, \"https://t.co/hRWTBdr3dr\": 1, \"completed\": 5, \"nobody\": 1, \"Earth\\'s\": 1, \"Chambott\": 1, \"#witbrag\": 1, \"environmental\": 1, \"reaffirm\": 1, \"roadmap\": 1, \"https://t.co/RiBDVOp7uM\": 1, \"loved\": 8, \"Ladies\": 5, \"slack\": 1, \"Agreeeeeeeeeed\": 1, \"flashed\": 1, \"loves\": 1, \"embody\": 1, \"visited\": 1, \"doctorate\": 1, \"downer\": 1, \"Engineer\": 7, \"comfortable\": 1, \"Machine\": 2, \"@chrisrohlf\": 1, \"https://t.co/rAsDEFkuSs\": 1, \"https://t.co/lvcqDispyc\": 1, \"dagen\": 1, \"apparently\": 1, \"https://t.co/uUmZ9dozgh\": 1, \"Xena\": 1, \"complete\": 7, \"Oil\": 1, \"mio\": 1, \"congrats\": 4, \"\\\\u0629\": 1, \"Pushing\": 1, \"mid\": 1, \"https://t.co/7q66OzLHf4\": 1, \"mix\": 4, \"Continent\": 1, \"https://t.co/JkP5iCUG0C\": 1, \"Santa\": 1, \"@SheNomads\": 2, \"rediscovered\": 1, \"Glad\": 7, \"firefly\": 1, \"T-wrote\": 1, \"unless\": 1, \"@CellProfiler\": 1, \"healthcare\": 1, \"@CPontoppidan\": 1, \"https://t.co/wPiQPecb9V\": 1, \"where\\'s\": 1, \"Without\": 2, \"https://t.co/hXGnhvl1AZ\": 1, \"sophisticated\": 1, \"https://t.co/kiqyZv6Zn3\": 1, \"payment\": 1, \"gurus\": 1, \"@unharmonic\": 1, \"heartening\": 2, \"gather\": 1, \"Some\": 16, \"disease\": 1, \"Influencers\": 1, \"@harvardchansph\": 1, \"widespreaded\": 1, \"#awesome\": 2, \"occasion\": 1, \"normally\": 2, \"Saturday\": 3, \"https://t.co/WosIEtNCgw\": 1, \"https://t.co/f11NEC5Hjp\": 1, \"text\": 2, \"supported\": 2, \"kaylee\": 1, \"LITTTTT\": 1, \"https://t.co/WsoYkUK4YX\": 1, \"Silikon\": 3, \"portfolio\": 3, \"#GirlsInSTEM\": 1, \"Worth\": 1, \"BEST\": 2, \"staff\": 2, \"#HCI_education\": 1, \"ni\": 1, \"inspiring\": 112, \"@g_sypb\": 1, \"knowledge\": 7, \"https://t.co/lZ2GGJRRGK\": 1, \"https://t.co/Gpo2ODDxjh\": 1, \"https://t.co/xtEVcfGzWD\": 1, \"prolong\": 1, \"\\\\u30b3\": 1, \"belated\": 2, \"Mom\": 4, \"@helena_mentis\": 1, \"#WeAreMarkLogic\": 1, \"regularly\": 3, \"https://t.co/bWIUceNjl2\": 1, \"#AskaSista\": 3, \"Finnish\": 1, \"exceptional\": 3, \"beat\": 1, \"photography\": 1, \"rush\": 1, \"https://t.co/XbJ4RxDhEa\": 1, \"\\\\u05d1\": 3, \"Stories\": 1, \"#WomenWhoCode\": 1, \"timing\": 1, \"all-male\": 1, \"areas\": 2, \"Yasssssss\": 1, \"@remy_stack\": 1, \"@bsktcase\": 1, \"@DesireeSy\": 1, \"https://t.co/ko1dykZeQj\": 1, \"teams\": 16, \"https://t.co/vYFQVUNhp6\": 1, \"@mairin\": 1, \"@NicaiseI\": 1, \"@selkharbili\": 1, \"@CodeClubAus\": 1, \"136\": 1, \"national\": 7, \"https://t.co/IOoMxvsiUi\": 1, \"Wikipedia\": 1, \"#girlsincode\": 1, \"this\\'s\": 1, \"WAHM\": 1, \"https://t.co/b85QXAPpwJ\": 1, \"#HATEDIT\": 1, \"master\\'s\": 1, \"https://t.co/xpJMogrSD6\": 1, \"literate\": 1, \"@kdxxl\": 1, \"routing\": 2, \"progress\": 1, \"July\": 1, \"Computing-They\": 1, \"Kudos\": 12, \"https://t.co/ViEVtlACty\": 1, \"@rebeccajmahoney\": 1, \"packaged\": 1, \"@nataliaenvy\": 1, \"deliver\": 3, \"Silicon\": 3, \"implementing\": 1, \"S\": 12, \"legit\": 2, \"https://t.co/WVMAtKLfEI\": 1, \"empathy\": 2, \"@just_kathure\": 1, \"#yogahoodies\": 1, \"@WiMLworkshop\": 1, \"taking\": 10, \"equal\": 2, \"Limbic\": 1, \"Design\": 4, \"sexes\": 1, \"https://t.co/VqM8p2bXSM\": 1, \"passing\": 1, \"@SkySports\": 1, \"glorious\": 1, \"otherwise\": 1, \"comment\": 1, \"#technology\": 9, \"relevant\": 5, \"https://t.co/H04omBpnj0\": 1, \"Luxembourg\": 1, \"\\\\u2491\": 2, \"@ankitwww\": 1, \"#googlememo\": 3, \"#pghtech\": 1, \"\\\\u2122\": 1, \"computadora\": 1, \"#ThisIsAndela\": 1, \"https://t.co/CXvbSIxfU7\": 1, \"earning\": 1, \"Smart\": 1, \"#mentor\": 1, \"#writing\": 1, \"videos\": 1, \"#rstats\": 2, \"\\\\u0686\": 2, \"copies\": 2, \"attends\": 1, \"certain\": 1, \"Communities\": 1, \"\\\\u0938\": 2, \"Trouble\": 1, \"magical\": 2, \"WHOA\": 1, \"define\": 1, \"https://t.co/skMJNY8BVP\": 1, \"Center\": 1, \"https://t.co/TAYamCGLji\": 1, \"climate\": 1, \"Nations\": 1, \"bulk\": 1, \"finished\": 4, \"#slides\": 1, \"juggled\": 1, \"https://t.co/T7cKQE8xqq\": 1, \"https://t.co/eT1BbAIBUG\": 1, \"volunteer\": 3, \"multi\": 1, \"virtual\": 1, \"plain\": 1, \"@CHSSdean\": 1, \"value\": 1, \"promotes\": 1, \"https://t.co/B6oB8uZAxR\": 1, \"instigated\": 1, \"https://t.co/ScligNfooS\": 1, \"promoted\": 5, \"transitioned\": 2, \"https://t.co/ppazrWxIOK\": 1, \"biologically\": 1, \"Confidence\": 1, \"file\": 1, \"V6\": 1, \"almost\": 7, \"https://t.co/3EoLqvMOgJ\": 1, \"@elisakm\": 1, \"@brpxco\": 1, \"helped\": 50, \"arrangements\": 1, \"Szukaj\": 1, \"partner\": 4, \"deber\": 1, \"https://t.co/CI1h2bzPA7\": 1, \"Product\": 1, \"https://t.co/A1orTqqa00\": 1, \"Poster\": 1, \"Dope\": 2, \"MBA\": 2, \"OpenStack\": 1, \"brightened\": 1, \"https://t.co/lBcP5BxUTV\": 1, \"injured\": 1, \"@AppsTech\": 3, \"https://t.co/NHv8ihEjX6\": 1, \"https://t.co/tz7HDj3oHQ\": 1, \"https://t.co/G7bJROsrUS\": 1, \"tambien\": 1, \"https://t.co/jYdqxrGUCI\": 1, \"sisters\": 4, \"@OpenStack\": 1, \"writer\\'s\": 1, \"https://t.co/Ryh8iOxExd\": 1, \"#P2P\": 1, \"bi-weekly\": 1, \"nevertheless\": 1, \"builder\": 2, \"https://t.co/ODZPQsvfbr\": 1, \"overshadowed\": 1, \"Honors\": 1, \"thought\": 23, \"\\\\u5229\": 1, \"https://t.co/42c9QUWqmO\": 1, \"Sydrome\": 1, \"sets\": 1, \"position\": 3, \"publicize\": 1, \"ily\": 1, \"floored\": 1, \"@WomenTechmakers\": 3, \"stores\": 1, \"executive\": 1, \"domestic\": 2, \"https://t.co/Q3xvLei9g1\": 1, \"https://t.co/Q6NULcRtxO\": 1, \"protecting\": 1, \"@PetraFisher\": 1, \"https://t.co/97xvsWPRRu\": 1, \"Slides\": 1, \"ads\": 1, \"bragging\": 33, \"@segalink\": 1, \"@mydearyorkshire\": 1, \"Friday\": 3, \"YouTube\": 2, \"#retirement\": 2, \"@languagesdude\": 1, \"@arrielay\": 2, \"astronaut\": 2, \"FIRST\": 2, \"\\\\u043c\": 1, \"smart\": 6, \"https://t.co/hUHxlbPygD\": 1, \"tests\": 1, \"@iodine\": 1, \"Thread\": 7, \"worlds\": 2, \"https://t.co/1OeXYn4QNJ\": 1, \"Collect\": 1, \"royalty\": 1, \"https://t.co/RY15P4LNCC\": 1, \"https://t.co/Qn08BUdeDH\": 1, \"@ItsCodieee\": 1, \"@nehakumar\": 3, \"#msft\": 1, \"https://t.co/3CUTrNThwl\": 1, \"like\": 96, \"success\": 8, \"https://t.co/SokO6Y4jH1\": 1, \"\\\\udded\": 3, \"tons\": 1, \"admitted\": 1, \"https://t.co/iKJCNAhYSy\": 1, \"Flaunt\": 1, \"journalist\": 2, \"@Fired4Truth\": 3, \"#UniteTheRight\": 9, \"#careergoals\": 1, \"accessible\": 1, \"Scala\": 1, \"#GRITFOR\": 1, \"Excel\": 1, \"alive\": 2, \"Dinners\": 1, \"hair\": 2, \"#Africa\": 1, \"recommendation\": 2, \"@Brandergy\": 1, \"supportive\": 2, \"https://t.co/XFLMNKH5oV\": 1, \"happens\": 4, \"OSX\": 1, \"est\": 2, \"breathtaking\": 1, \"esp\": 2, \"gurll\": 1, \"@RisingLinda\": 1, \"OSI\": 1, \"@amadurska\": 1, \"@WendySLea\": 1, \"magnitude\": 1, \"https://t.co/hMq4kPHIpM\": 1, \"fiddle\": 1, \"https://t.co/V0EmCfUDwi\": 1, \"https://t.co/S6SiBBbSnj\": 1, \"https://t.co/EfpAB4ZyOv\": 1, \"https://t.co/d72b9HjPSv\": 1, \"man-babies\": 1, \"Robot\": 1, \"stellar\": 1, \"host\": 1, \"although\": 2, \"worthy\": 4, \"@closeitsummit\": 1, \"#BUILTBYGIRLS\": 1, \"panel\": 6, \"https://t.co/R9WE8GwveV\": 1, \":-)\": 17, \"actual\": 2, \"#SLvIND\": 1, \"Generation\": 1, \"December\": 1, \"https://t.co/Yf6SUuxDhJ\": 1, \"https://t.co/vc2tUcLSZI\": 1, \"https://t.co/C7pgpfCV5u\": 1, \"@spwyche\": 1, \"https://t.co/9TdU8FpFGU\": 1, \"OCJP\": 1, \"introduced\": 2, \"@ShaunaWu\": 1, \"front-end\": 1, \"@jainsneha23\": 1, \"https://t.co/8AX59OvM65\": 1, \"seasoned\": 1, \"https://t.co/IiTDMyeW4k\": 1, \"#Lazyweb\": 1, \"Tweet\": 1, \"Two\": 2, \"billions\": 4, \"#prodmgmt\": 2, \"weekends\": 1, \"#prlife\": 1, \"https://t.co/JbhUessi3y\": 1, \"female\": 44, \"Scientists\": 1, \"https://t.co/jCZzjuzUse\": 1, \"1986\": 1, \"https://t.co/pGQfZG9MLt\": 1, \"https://t.co/Rf938FYPPU\": 1, \"legends\": 2, \"#SuperstarsofSTEM\": 4, \"#WomenInTechMentors\": 3, \"@LisaAbeyta\": 2, \"daughter-This\": 1, \"FAST\": 1, \"https://t.co/VkVsZ3DaCa\": 1, \"PyCon\": 1, \"https://t.co/YIEAtMJWSe\": 1, \"biggest\": 5, \"November\": 1, \"hand-coded\": 1, \"#Ticats\": 3, \"Associate\\'s\": 1, \"https://t.co/v93r0TQH2w\": 1, \"buy\": 5, \"https://t.co/qvoXQymE98\": 1, \"brand\": 2, \"receptors\": 1, \"Det\": 2, \"Dev\": 10, \"https://t.co/cozwV9gRvq\": 1, \"reminds\": 3, \"Re\": 1, \"https://t.co/i7USpVVLzf\": 1, \"\\\\u5b58\": 1, \"editing\": 2, \"bug\": 25, \"Def\": 1, \"partially\": 1, \"Ive\": 1, \"dozens\": 1, \"wise\": 1, \"@coridrew\": 2, \"unrecognised\": 1, \"wish\": 6, \"https://t.co/8VAyBUzf36\": 1, \"https://t.co/rq5CTDncQf\": 1, \"https://t.co/kioa1PDYNl\": 1, \"Crosby\": 1, \"https://t.co/WVWSDXL4Wp\": 1, \"minutes\": 3, \"Insurance\": 1, \"https://t.co/ubjrxgBweR\": 1, \"vencido\": 1, \"Which\": 9, \"pin\": 1, \"YAAS\": 1, \"pic\": 3, \"\\\\udd17\": 8, \"https://t.co/60T0FgNcKK\": 1, \"@shirleyalmosni\": 1, \"campus\": 1, \"@LadiesthatUX\": 1, \"https://t.co/v4JG1ul2lH\": 1, \"Mujeres\": 2, \"46\": 12, \"42\": 6, \"detail\": 1, \"40\": 8, \"41\": 1, \"https://t.co/Vdut3NKIvE\": 1, \"boosters\": 1, \"https://t.co/UoR88kgTJ5\": 1, \"BRAG\": 1, \"https://t.co/WzhN72i3YD\": 1, \"dresser\": 1, \"oportunidades\": 1, \"https://t.co/un0QPmm1wl\": 1, \"@sglassmeyer\": 1, \"https://t.co/JID5dUEB0W\": 1, \"astronomy\": 1, \"https://t.co/oiLD9ZuFMN\": 1, \"@RitaJKing\": 1, \"https://t.co/7fZ8wBfqTJ\": 1, \"https://t.co/bqPWzVGyTW\": 1, \"Duas\": 1, \"@gatesfoundation\": 1, \"porra\": 1, \"Thick\": 1, \"@dcucomputing\": 1, \"limited\": 1, \"https://t.co/t69EV6UKqO\": 1, \"Learnt\": 3, \"#gsuite\": 1, \"Lead\": 6, \"hats\": 2, \"daughter\\'s\": 1, \"Fortran\": 3, \"Testing\": 1, \"sleep\": 3, \"curate\": 1, \"hate\": 4, \"assembled\": 1, \"https://t.co/LQlUt5E65F\": 1, \"#worldelephantday\": 1, \"feeding\": 1, \"vile\": 1, \"https://t.co/6fGwhDx7Wp\": 1, \"https://t.co/dIYGcOR1cW\": 1, \"tweet\": 49, \"Ambassador-incl\": 1, \"#Criminology\": 1, \"\\\\u06af\": 4, \"patched\": 1, \"MUCH\": 1, \"whatsoever\": 1, \"pride\": 2, \"Suivez\": 1, \"https://t.co/6INHXm2liB\": 1, \"https://t.co/caZ8hfr25n,\": 1, \"@arifaBatool\": 1, \"\\\\u0644\": 16, \"Deluge\": 1, \"physician\": 1, \"Industry\": 1, \"rise\": 3, \"@MiddlesexUni\": 1, \"siedet\": 1, \"GE\": 1, \"every\": 54, \"sailing\": 1, \"\\\\u05d9\": 6, \"https://t.co/3oTW2x0uQp\": 1, \"GL\": 2, \"AUTOMATIC\": 1, \"Mentor\": 1, \"school\": 45, \"open-source\": 2, \"Reference\": 1, \"https://t.co/Y1uLlw7dra\": 1, \"@kcunning\": 1, \"\\\\uc26c\": 1, \"@wesbos\": 1, \"tuits\": 1, \"\\\\uc870\": 1, \"commute\": 1, \"COBOL\": 1, \"#confluence\": 1, \"Go\": 34, \"https://t.co/r7lTv3XHZV\": 1, \"Inspirador\": 1, \"enjoy\": 5, \"https://t.co/UBhnAXiQAc\": 1, \"jamuraa\": 1, \"leaders\": 3, \"disciplines\": 2, \"Fortunately\": 1, \"request\": 1, \"nail\": 1, \"surrounding\": 1, \"louder\": 3, \"https://t.co/AkVzLFozCD\": 1, \"https://t.co/4QPJB6nyms\": 1, \"shining\": 5, \"blue\": 1, \"WebTech\": 1, \"#programming\": 2, \"hide\": 1, \"selected\": 1, \"#pyconau\": 1, \"@Lien_Diaz\": 1, \"causes\": 1, \"#UTWEP\": 1, \"conduct\": 1, \"https://t.co/G4Oxdt9aLS.\": 1, \"https://t.co/vGKmEeGNPh\": 1, \"teachers\": 7, \"Made\": 4, \"https://t.co/KTB1UmbLSU\": 1, \"#14\": 1, \"#2004\": 1, \"feisty\": 1, \"stared\": 1, \"hundreds\": 9, \"https://t.co/9Qp1TdYpWr\": 1, \"studio\": 1, \"represented\": 1, \"path\": 5, \"studie\": 1, \"forum\": 2, \"https://t.co/SVymYHxZ9w\": 1, \"https://t.co/NOC6ro2sVV\": 1, \"leaves\": 1, \"changed\": 3, \"nextgen\": 1, \"Delighted\": 1, \"Owned\": 1, \"https://t.co/LQ9XA7Q9mO\": 1, \"fulltime\": 1, \"mentor\": 19, \"Verge\": 1, \"changes\": 1, \"https://t.co/YTtK72Lf8C\": 1, \"Group\": 2, \"Giving\": 1, \"Support\": 3, \"advisor\": 1, \"@sig_chi\": 1, \"af\": 1, \"Boom\": 3, \"https://t.co/59LefqEDui\": 1, \"https://t.co/xXicXJ4oW8\": 1, \"forums\": 1, \"@Libressan\": 1, \"Ubiquitous\": 1, \"would\": 35, \"#BragItIfYouveGotIt\": 1, \"June\": 2, \"wordprocessing\": 1, \"https://t.co/dHOtsvz2bV\": 1, \"TAG\": 1, \"seguirlo\": 1, \"mystical\": 1, \"trabajemos\": 1, \"single-handedly\": 1, \"Humbled\": 1, \"#seawheeze\": 7, \"@onlinehubng\": 1, \"#GIMPA\": 1, \"https://t.co/JAO6zTrHNZ\": 1, \"infosec\": 5, \"chunk\": 1, \"phone\": 4, \"https://t.co/NBN9Ksrubh\": 1, \"arms\": 1, \"excellent\": 5, \"https://t.co/NwFb3CNes8\": 1, \"must\": 9, \"shoot\": 1, \"Crazy\": 1, \"join\": 16, \"mm\": 1, \"https://t.co/OiM94pGzEC\": 1, \"mi\": 3, \"Eat\": 1, \"@RoyalAirForce\": 1, \"deficiencies\": 1, \"@cameronMstewart\": 1, \"ms\": 2, \"https://t.co/oBQUP1CP43\": 1, \"#AWITKenya\": 3, \"https://t.co/6SWjtDVbWj\": 1, \"#TUSSGE\": 1, \"propuestas\": 1, \"software-defined\": 1, \"#initiative\": 1, \"https://t.co/J8tfa69BBr\": 1, \"https://t.co/f8yvJllWvs\": 1, \"Sarp\": 4, \"times\": 7, \"#GNObySY\": 1, \"#WAHM\": 1, \"end\": 17, \"eng\": 3, \"finalist\": 1, \"LEGEND\": 1, \"toxic\": 1, \"@ChloeCondon\": 2, \"poker\": 1, \"description\": 1, \"mess\": 1, \"https://t.co/TAlwkrSCKH\": 1, \"arthritis\": 1, \"signup\": 1, \"https://t.co/vhS27LdjkK\": 1, \"https://t.co/ZNtKBFRnwX\": 1, \"@Sugoi_Sauce\": 1, \"https://t.co/HYjugl1kTQ\": 1, \"splendid\": 1, \"@clairecomins\": 1, \"https://t.co/Z5LsvdTkHh\": 1, \"HMIS\": 1, \"zararah\": 1, \"enter\": 2, \"plumbing\": 1, \"https://t.co/xVp5kfS7ee\": 1, \"@Eviljohna\": 1, \"https://t.co/wKXHqppvMQ\": 1, \"frontend\": 2, \"@jossita\": 1, \"https://t.co/IxyArU5IQV\": 1, \"\\\\u2b06\": 1, \"Selected\": 2, \"Odunski\": 1, \"biomedical\": 1, \"tayler\": 3, \"thesis\": 2, \"https://t.co/Ll7aGtNkR0\": 1, \"@codelikeagirl\": 1, \"crumby\": 1, \"inspirador\": 2, \"dame\": 1, \"https://t.co/jyqRRYPKkt\": 1, \"40,\": 3, \"@innov8tivmag\": 1, \"Here\": 7, \"writing\": 9, \"Anthropology\": 1, \"edits\": 1, \"except\": 1, \"https://t.co/7vjoNdZvld\": 1, \"SAS\": 1, \"https://t.co/hT7yJDEU88\": 1, \"Spain\": 1, \"Kids\": 1, \"#Nortel\": 1, \"diseases\": 1, \"@sknthla\": 1, \"Mobile\": 1, \"Gotta\": 3, \"nderirken\": 1, \"https://t.co/DWRX4XmcPd\": 1, \"Nebil\": 2, \"stinking\": 1, \"Mobility\": 1, \"DBA\": 2, \"https://t.co/lqYpu5W1we\": 1, \"https://t.co/YkvrYNWR0i\": 1, \"#netneutrality\": 1, \"filling\": 1, \"https://t.co/3HdMeYaE0h\": 1, \"victory\": 1, \"fitness\": 1, \"@intersection_co\": 1, \"Transport\": 1, \"#YR\": 1, \"#YP\": 1, \"https://t.co/PS9RsJdjFM\": 1, \"interop\": 1, \"Anyone\": 3, \"celebrating\": 2, \"hanged\": 1, \"combining\": 1, \"mothers\": 1, \"https://t.co/AYGUggX3pL\": 1, \"https://t.co/Il9hHgbiio\": 1, \"https://t.co/Z6rFZuNJNb\": 1, \"driving\": 1, \"god\": 9, \"@LisaLamagna\": 1, \"@StratISiot\": 1, \"https://t.co/zBY1ukDxrM\": 1, \"oftere\": 1, \"got\": 70, \"https://t.co/susHYLmelx\": 1, \"https://t.co/tfrTjRF5vL\": 1, \"96,\": 1, \"#WITBragD\": 1, \"trajectories\": 1, \"associate\": 1, \"#SaturdayFlex\": 1, \"Studied\": 3, \"https://t.co/qnZOWm0eTr\": 1, \"#housemusic\": 4, \"free\": 10, \"https://t.co/9catFKJaR5\": 1, \"#CyberSecurity\": 1, \"https://t.co/pgRWQ1sgnV\": 1, \"wanted\": 7, \"Studies\": 1, \"CIPT\": 1, \"Vic\": 1, \"BTW\": 1, \"https://t.co/1DdOAx3Pj8\": 1, \"\\\\ub4e4\": 2, \"@lakshyas90\": 1, \"https://t.co/VYp2m5aNpL\": 1, \"#gamechanger\": 1, \"ritual\": 1, \"days\": 24, \"Humare\": 1, \"@UoYITServices\": 2, \"https://t.co/gZTQUNeyk4\": 1, \"GOALSSSSSSSS\": 1, \"#LSmgt\": 1, \"https://t.co/ffMzUoFyPT\": 1, \"Carry\": 1, \"Chair\": 1, \"onto\": 2, \"#uddpol\": 1, \"https://t.co/S7ja2Eri7U\": 1, \"https://t.co/GWxDKIjDG3\": 1, \"already\": 12, \"Working\": 5, \"researcher\": 2, \"@denisejacobs\": 1, \"coding\": 63, \"encouraging\": 3, \"hearing\": 4, \"@adruin\": 3, \"relations\": 1, \"\\\\u2197\": 2, \"@girlgerms\": 1, \"https://t.co/ZOmYJtBXtC\": 1, \"sharpest\": 1, \"Excited\": 1, \"#IlluminateTourToronto\": 5, \"Academy\": 1, \"top\": 21, \"Volkswagen\": 2, \"toh\": 2, \"ton\": 1, \"wildly\": 1, \"rockin\": 1, \"@waiganjo_njeri\": 1, \"percentage\": 1, \"Afghan\": 1, \"Rebecca\": 1, \"@zaynelt\": 1, \"insightful\": 1, \"ceiling\": 1, \"@STLRuby\": 1, \"tool\": 8, \"brushes\": 1, \"simult\": 1, \"took\": 29, \"https://t.co/npuGo8Ayyk\": 1, \"https://t.co/OhICn4e2Uj\": 1, \"Twice\": 2, \"toot\": 1, \"chemotherapy\": 1, \"@PrometheusIO\": 1, \"perfectly\": 1, \"@romanocog\": 1, \"roles\": 5, \"immigrants\": 2, \"Only\": 4, \"https://t.co/nW4sv8bRdt\": 1, \"https://t.co/HLYvhCIqwS\": 1, \"classes\": 4, \"budget\": 1, \"denterd\": 1, \"company\\'s\": 2, \"bridge\": 1, \"rad\": 4, \"fashion\": 2, \"https://t.co/7OAwbEyeVm\": 1, \"ran\": 5, \"https://t.co/xHQckkC3xZ\": 1, \"talking\": 9, \"@VasiliyZukanov\": 1, \"doff\": 1, \"ray\": 1, \"https://t.co/vNYfMDElUo\": 1, \"https://t.co/eUzve3pDZS\": 1, \"https://t.co/UagwdNn4E6\": 1, \"firmware\": 1, \"Trends\": 1, \"Let\\'s\": 7, \"#WITBragDay\": 2530, \"Emma-Ashley\": 1, \"laughed\": 1, \"Gave\": 1, \"https://t.co/NBNRvpySJC\": 1, \"#WITBragWeek\": 2, \"@lyft\": 1, \"@CroydonTechCity\": 1, \"capitalization\": 1, \"though\": 13, \"https://t.co/erkdAcD6Nf\": 1, \"Collective\": 1, \"https://t.co/AOkPo3uEBF\": 1, \"@voxdotcom\": 3, \"\\\\u094c\": 1, \"excelling\": 2, \"https://t.co/4cvbuO10cP\": 1, \"https://t.co/NvkhVfkJ18\": 1, \"@getsatisfaction\": 1, \"coin\": 1, \"@rockchick322004\": 1, \"Relentless\": 1, \"opted\": 1, \"nonprofits\": 1, \"Ks\": 1, \"peers\": 3, \"https://t.co/eU0ftPQvWC\": 1, \"https://t.co/6pmCxdyXYv\": 1, \"https://t.co/brrVPv2RR7\": 1, \"flow\": 2, \"sekt\": 9, \"#Twitter\": 1, \"cambio\": 1, \"#Digital\": 1, \"Want\": 7, \"enterprise\": 1, \"newsfeed\": 1, \"Its\": 4, \"inspire\": 12, \"https://t.co/LDyqnl2hkC\": 1, \"Flask\": 1, \"@andreamconnell_\": 1, \"queen\": 2, \"@FlexableCare\": 1, \"radio\": 4, \"solutions\": 9, \"queer\": 1, \"earth\": 1, \"faith\": 1, \"https://t.co/nAextAfnS8\": 1, \"Bio\": 1, \"adoration\": 1, \"Big\": 7, \"Bid\": 1, \"Airlines\": 1, \"Obama\\'s\": 1, \"https://t.co/Nhy0xsVIHf\": 1, \"photo\": 1, \"https://t.co/ThcCRiiKRs\": 1, \"Furniture\": 1, \"\\\\u0440\": 2, \"https://t.co/BKDnqcpQLb\": 1, \"https://t.co/4C2SEyNofs\": 1, \"watch\": 10, \"SIGN\": 1, \"geek\": 3, \"TextEditor\": 1, \"https://t.co/HZ5TqdTFdi\": 1, \"despite\": 8, \"https://t.co/ydndMnwDuU\": 1, \"https://t.co/0gfRCCEamv\": 1, \"https://t.co/7jLRjJJ0U8\": 1, \"@KingaTest\": 1, \"paddies\": 1, \"countries\": 6, \"Neutrality\": 1, \"https://t.co/3skwHZ5HWu\": 1, \"https://t.co/bPTnWJJ2hd\": 1, \"twice\": 2, \"#outsourced\": 1, \"@mlkbx\": 1, \"#finance-oriented\": 1, \"inflames\": 1, \"https://t.co/lR4wiMAzL3\": 1, \"Lego\": 2, \"nut\": 1, \"https://t.co/YwxoDSf5I4\": 1, \"@yasegumi\": 2, \"Per\": 1, \"eBay\": 1, \"Respektindgydende\": 1, \"bed\": 1, \"@Sweyram\": 1, \"https://t.co/nGF06H0n7v\": 1, \"capacity\": 1, \"#postpartumdepression\": 1, \"https://t.co/Q9srJ42pGg\": 21, \"@sw\": 6, \"grandmother\": 1, \"incredimazing\": 1, \"https://t.co/umzxzrpRuZ\": 1, \"hopefully\": 3, \"mum\": 7, \"WITBragday\": 1, \"365\": 1, \"https://t.co/RWzkCWHSOu\": 1, \"360\": 1, \"discovery\": 1, \"Info\": 1, \"LOVE\": 5, \"@VizualizeMe\": 1, \"newb\": 1, \"volenteer-led\": 1, \"specialists\": 1, \"boss\": 9, \"outages\": 1, \"wear\": 1, \"news\": 14, \"techies\": 4, \"improve\": 1, \"protect\": 2, \"embarked\": 1, \"Garagenfund\": 1, \"https://t.co/m6RspzG1sI\": 1, \"fault\": 1, \"https://t.co/0KdF9KWdWI\": 1, \"Contribute\": 1, \"participating\": 4, \"players\": 3, \"Karen\": 1, \"Computer\": 12, \"games\": 7, \"We\\'d\": 2, \"faces\": 2, \"operating\": 1, \"expense\": 1, \"@becca_kennedy\": 1, \"https://t.co/JaGFriEkL8\": 1, \"https://t.co/A2rhtoNxG9\": 1, \"Deeply\": 1, \"https://t.co/F1qmfO3rdN\": 1, \"@annwmwangi\": 1, \"genes\": 1, \"yday\": 1, \"#GOT\": 1, \"conference\": 21, \"#WaterlooRegion\": 1, \"https://t.co/cdIpfEWozH\": 1, \"https://t.co/orrQFtbeBB\": 1, \"https://t.co/cqod956SF8\": 1, \"https://t.co/ylwhz3X4Yq\": 1, \"shout\": 9, \"quickly\": 1, \"confident\": 1, \"belongs\": 1, \"https://t.co/g1rzR9iW02\": 1, \"@nhrighttolife\": 1, \"@HorbachBonnie\": 1, \"@TeresaWuMD\": 1, \"https://t.co/WGapG6bPAf\": 1, \"Adams\": 1, \"pub\\'d\": 2, \"Wasn\\'t\": 1, \"Cry\": 1, \"uncommon\": 1, \"tackled\": 1, \"#BraggingAboutThem\": 1, \"UIs\": 1, \"@dajanavasic\": 1, \"catch\": 3, \"#inspiration\": 3, \"multi-million\": 1, \"https://t.co/WyJnkON6ZM\": 1, \"cracker\": 1, \"@railsgirls_bln\": 1, \"n\": 39, \"Wash\": 1, \"chuffed\": 1, \"https://t.co/QAXX7ex0cP\": 1, \"@SecRecon\": 1, \"stopping\": 1, \"Follow\": 17, \"cracked\": 1, \"Wearable\": 1, \"https://t.co/cSf0JbCseq\": 1, \"Braxton\": 1, \"https://t.co/JKhQZSYcpB\": 1, \"usable\": 1, \"welded\": 1, \"Write\": 2, \"https://t.co/dZIYgxuoGR\": 1, \"mortals\": 1, \"experts\": 2, \"https://t.co/xZjJIpWOGX\": 1, \"\\\\u2019\": 53, \"@johnmaeda\": 1, \"Tell\": 3, \"incontrovertibly\": 1, \"https://t.co/DnTzkKBXJo\": 1, \"suggest\": 2, \"Stahl\": 1, \"\\\\u062d\": 4, \"complex\": 4, \"Superwomen\": 1, \"several\": 6, \"breaks\": 1, \"https://t.co/GSFpuVqV7C\": 1, \"https://t.co/azwpjx8h4q\": 1, \"satellite\": 2, \"Salesforce\": 2, \"https://t.co/PD5MSBacwN\": 1, \"social\": 10, \"https://t.co/CPdsoyJ1IV\": 1, \"#DatingMyself\": 1, \"characters\": 2, \"https://t.co/1YOlv9psx9\": 1, \"darned\": 1, \"#STHLMTech\": 1, \"aisa\": 1, \"aise\": 1, \"Apartments\": 1, \"MTech\": 1, \"https://t.co/WYXettjvGv\": 1, \"groundswell\": 1, \"dada\": 1, \"https://t.co/qt1Xi1lkuZ\": 1, \"https://t.co/Zap5yhS9rh\": 1, \"Manager\": 8, \"#acornaccelerator2017\": 1, \"greatest\": 2, \"mother\": 10, \"hearts\": 2, \"Saved\": 2, \"Utility\": 1, \"Sarah\": 1, \"After\": 11, \"Dutch\": 1, \"unemployment\": 1, \"Lots\": 6, \"https://t.co/QH6fYf5f5r\": 1, \"laptop\": 2, \"@MaryBethMoore6\": 11, \"https://t.co/zIX5W4d1Zc\": 1, \"grades\": 1, \"transporting\": 1, \"Prouder\": 1, \"https://t.co/fRLpMbZqKj\": 1, \"@infoq\": 1, \"functionally\": 1, \"debugger\": 1, \"#lifeskills\": 1, \"@ILPFoundry\": 1, \"\\\\u00af\": 2, \"@brittanystoroz\": 1, \"https://t.co/dptyUtIVzJ\": 1, \"https://t.co/US7EdaplJC\": 1, \"technological\": 2, \"Recap\": 3, \"jazzed\": 1, \"https://t.co/THqHVczWvI\": 1, \"humanity\": 2, \"gave\": 9, \"D\": 8, \"James\": 17, \"Taking\": 1, \"https://t.co/tJGcq3wUFd\": 1, \"https://t.co/jtTq6lQfmR\": 1, \"@verotraynor\": 1, \"Afro-Latinas\": 1, \"https://t.co/OJHq0nwppr\": 1, \"https://t.co/EaSQgjF6TH\": 1, \"Technologists\": 1, \"apart\": 3, \"ninjas\": 1, \"appearing\": 1, \"58\": 1, \"gift\": 2, \"#onstorm\": 1, \"55\": 1, \"54\": 1, \"@TedhiLakeer\": 1, \"Robotics\": 5, \"51\": 1, \"50\": 16, \"panelist\": 1, \"Echo\": 1, \"Topic\": 3, \"cooler\": 1, \"@NigmaDublin\": 1, \"huffpo\": 1, \"officer\": 1, \"amos\": 1, \"#aquariusclothing\": 1, \"RSVP\": 1, \"Again\": 1, \"56\": 2, \"envision\": 2, \"stereotype\": 1, \"HR\": 1, \"HS\": 7, \"HP\": 3, \"successfully\": 6, \"proudly\": 1, \"https://t.co/ycKOxnOM4n\": 1, \"#EdgeHTML\": 1, \"zoom\": 1, \"clubs\": 3, \"Much\": 3, \"election\": 1, \"@OlisaMC\": 1, \"@CoachAgileTeams\": 1, \"@jerw\": 1, \"tutorial\": 3, \"@mojtaba_JS\": 1, \"Life\": 3, \"ich\": 1, \"@Twitter\": 4, \"Patients\": 1, \"ear\": 1, \"https://t.co/VzW5BhAChq\": 1, \"https://t.co/YoIog4diqb\": 1, \"https://t.co/PNRZBPu4Y5\": 1, \"everything\": 13, \"Awww\": 2, \"Hi\": 7, \"https://t.co/xmVvQnS60A\": 1, \"https://t.co/Jv4zcwJC4T\": 1, \"https://t.co/OEWoY8PuSi\": 1, \"offices\": 1, \"https://t.co/J3NJWgVPC7\": 1, \"booking\": 1, \"#mobilemoney\": 1, \"core\": 3, \"https://t.co/FOgl341mEi\": 1, \"\\\\u304f\": 1, \"Solution\": 1, \"non-techies\": 1, \"https://t.co/uApAEY6wsL\": 1, \"corp\": 2, \"https://t.co/UbYjWrgtv1\": 1, \"Project\": 3, \"Transitioned\": 1, \"chapter\": 3, \"@WWCAtl\": 1, \"Madison\": 1, \"Fair\": 1, \"WISPs\": 1, \"https://t.co/YZqSqEiMw8\": 1, \"#IIoT\": 1, \"Hembrock\": 1, \"plus\": 1, \"steadily\": 1, \"efforts\": 3, \"Still\": 9, \"QUALITY\": 1, \"Best\": 9, \"#RWETSG\": 1, \"presence\": 3, \"civil\": 2, \"ppl\": 5, \"entrepreneur\": 4, \"accomplishments\": 40, \"https://t.co/tfxFTuZYin\": 1, \"Haven\\'t\": 1, \"existed\": 2, \"rely\": 2, \"#41\": 1, \"Amen\": 2, \"Break\": 1, \"fought\": 1, \"https://t.co/Qo18OaLTcH\": 1, \"Hashtag\": 4, \"Tune\": 1, \"https://t.co/y8btTac1XP\": 1, \"head\": 9, \"medium\": 1, \"amateur\": 1, \"ladeez\": 1, \"gorgeous\": 1, \"Rocks\": 1, \"https://t.co/XRrvTWAG4z\": 1, \"illuminating\": 1, \"hear\": 23, \"solar\": 1, \"boosts\": 1, \"https://t.co/QeLEGCdNKU\": 1, \"admiration\": 3, \"consequences\": 1, \"\\\\udde7\": 2, \"#aquariusmug\": 1, \"muster\": 1, \"https://t.co/Rwzdpndx0x\": 1, \"Voi\": 1, \"HI\": 1, \"submitting\": 1, \"nerdy\": 2, \"https://t.co/vOL3jhBYG1\": 1, \"nerds\": 1, \"https://t.co/Qx5YZPGeGC\": 1, \"Championing\": 1, \"Introduction\": 1, \"novel\": 1, \"https://t.co/YHngrjUh6C\": 1, \"https://t.co/GHhi2CFula;\": 1, \"simulations\": 1, \"#Finalists\": 1, \"webdev\": 2, \"https://t.co/tsPGo8HTL8\": 1, \"https://t.co/QVwowajmbS\": 1, \"check\": 55, \"LTV\": 1, \"looked\": 3, \"comprehension\": 1, \"Monster\": 1, \"techs\": 1, \"na\": 4, \"commercials\": 1, \"#entrepreneur\": 6, \"tip\": 5, \"ne\": 2, \"til\": 3, \"setting\": 2, \"papers\": 2, \"#LeanIn\": 1, \"techn\": 1, \"nt\": 1, \"nu\": 1, \"#Pirates\": 7, \"picture\": 2, \"https://t.co/1FS9GIsKV5\": 1, \"@WomensInstitute\": 1, \"@gwendiagram\": 1, \"ESA\": 1, \"younger\": 1, \"faster\": 3, \"@saltyfem\": 1, \"SFDC\": 1, \"landed\": 1, \"Intern\": 1, \"Vadisinin\": 1, \"remarked\": 1, \"serious\": 1, \"backward\": 1, \"coach\": 2, \"https://t.co/W4tupf9SDM\": 1, \"fortalezas\": 1, \"focus\": 2, \"@kellytagalan\": 1, \"https://t.co/6nabh7vPFp\": 1, \"valgfag\": 1, \"https://t.co/gWAeOpIkCw\": 1, \"Tanzmusik\": 1, \"Today\": 10, \"row\": 1, \"Dad\": 1, \"https://t.co/nAV3eEvPBQ\": 1, \"https://t.co/4XKoHhIjS6\": 1, \"@HenryRoseLee\": 1, \"comunidad\": 1, \"@dr_black\": 1, \"beste\": 1, \"Truly\": 4, \"environment\": 2, \"charge\": 3, \"https://t.co/Jk502xycGq\": 1, \"geo-political\": 1, \"Let\": 3, \"https://t.co/APDwBy1BPV\": 1, \"Day\": 9, \"FULL\": 1, \"https://t.co/8BxD5B8Cts\": 1, \"embodies\": 1, \"Anything\": 1, \"SOMEWHERE\": 1, \"\\\\u0448\": 2, \"none\": 2, \"Twenty\": 1, \"#WitBragday\": 1, \"https://t.co/LCeikMx7fk\": 1, \"cook\": 2, \"cool\": 49, \"https://t.co/jygd0COOd0\": 1, \"impressive\": 7, \"#DigitalMarketing\": 1, \"level\": 8, \"@Nethermind\": 1, \"https://t.co/3hL1tjVivJ\": 1, \"posts\": 28, \"brother\": 1, \"standards\": 1, \"badassery\": 1, \"https://t.co/B21DQc2NqV\": 1, \"He\": 1, \"https://t.co/bTNKplNVRv\": 1, \"https://t.co/fjNDBA1Gat\": 1, \"hotelier\": 1, \"2004,\": 1, \"Enthusiast\": 1, \"says\": 2, \"two-week\": 1, \"trend\": 5, \"sucks\": 2, \"cyber\": 7, \"utter\": 1, \"https://t.co/DfDntHgnoM\": 1, \"ZDF\": 1, \"Reg\": 2, \"drinks\": 1, \"stands\": 3, \"Theatre\": 1, \"https://t.co/VNKTTJaVXR\": 1, \"\\\\u0131\": 23, \"Que\": 1, \"@elenadepomar\": 1, \"goes\": 4, \"https://t.co/BALRtPahiF\": 1, \"https://t.co/ZjCmxqMvzV\": 1, \"den\": 1, \"https://t.co/E1rG6OvSV7\": 1, \"Age\": 2, \"#WiTBragDay\": 235, \"filmed\": 1, \"#diversity\": 1, \"groups\": 4, \"speccing\": 1, \"the_hindu\": 1, \"male\": 16, \"@katecaldwell\": 1, \"https://t.co/IFhoRFcFcz\": 1, \"healthy\": 1, \"6502\": 1, \"rethink\": 1, \"6500\": 2, \"https://t.co/jkl8jjRnZG\": 1, \"#noobnerd\": 1, \"https://t.co/X3sVaptqxB\": 1, \"#bffw2016\": 1, \"weird\": 2, \"GB\": 1, \"beautiful\": 15, \"healthier\": 1, \"Justice\": 3, \"It\\'s\": 55, \"chaired\": 1, \"3800\": 1, \"Member\": 1, \"maravillosas\": 1, \"https://t.co/SPfpdxwI8F\": 1, \"rash\": 1, \"conducting\": 1, \"downloads\": 1, \"bulbs\": 1, \"@eyesonvis\": 1, \"handled\": 1, \"earner\": 1, \"anthro\": 2, \"https://t.co/LpIw8vSbnC\": 1, \"#girlswhocode\": 4, \"ProductHunt\": 3, \"memory\": 3, \"Designers\": 1, \"today\": 76, \"@eurekamuseum\": 2, \"@IBM\": 2, \"https://t.co/j1dANvmlO3\": 1, \"https://t.co/AH3dNcGuM6\": 1, \"These\": 8, \"flying\": 1, \"limitation\": 1, \"Calling\": 2, \"employee\": 2, \"https://t.co/nnTPlgcRdu\": 1, \"Cinsiyet\": 3, \"Time\": 4, \"https://t.co/15Ic4LXLz7\": 1, \"cases\": 2, \"insights\": 2, \"India\\'s\": 1, \"https://t.co/idsfR3nTC0\": 1, \"https://t.co/ublmK2yJ3X\": 1, \"Family\": 1, \"thousands\": 10, \"#andela\": 1, \"marginalized\": 1, \"#loveyoumum\": 1, \"\\\\uc774\": 1, \"all-girls\": 1, \"#momsintech\": 4, \"geeky\": 1, \"https://t.co/4U6cXdXTr6\": 1, \"nursing\": 1, \"stream\": 3, \"downfall\": 1, \"Media\": 1, \"geeks\": 1, \"Medic\": 1, \"https://t.co/U6MVz91Oow\": 1, \"stroke\": 1, \"dropped\": 1, \"Props\": 1, \"counting\": 4, \"intelligible\": 1, \"\\\\uc720\": 1, \"@___rvs\": 1, \"requirements\": 5, \"@WinStemBrainiac\": 1, \"Marketing\": 1, \"\\\\u5546\": 1, \"@stodomay\": 1, \"1\": 98, \"Game\": 3, \"vital\": 1, \"\\\\u0635\": 1, \"Nanjekye\": 1, \"@mbrettger\": 1, \"ensure\": 1, \"speaks\": 1, \"dope\": 2, \"Natalie\": 1, \"huge\": 9, \"insecurities\": 1, \"REST\": 2, \"https://t.co/TAdnFXK8n4\": 1, \"@redcrew\": 3, \"j\\'ai\": 1, \"#AFLSwansFreo\": 1, \"https://t.co/G8zu0x4xdZ\": 1, \"classroom\": 2, \"@avantgame\": 1, \"usag\": 1, \"succeeded\": 1, \"@UN\": 1, \"https://t.co/pzDZuvQlW2\": 1, \"devs\": 28, \"https://t.co/1e73RGyyr4\": 1, \"https://t.co/I3owgLg2zB\": 1, \"fortran\": 1, \"124\": 1, \"https://t.co/vVqaJq4nZc\": 1, \"https://t.co/0d3suOTmwk\": 1, \"@karaswisher\": 1, \"comfort\": 1, \"@philipp_baldauf\": 1, \"Hunting\": 1, \"@aleishaamohia\": 1, \"midnight\": 1, \"accolades\": 1, \"White\": 1, \"#leadership\": 2, \"https://t.co/cFy7sUXk1J\": 1, \"blocked\": 1, \"Ghana\": 1, \"\\\\u76ae\": 1, \"nimo\": 1, \"organisation\": 2, \"Laptops\": 1, \"platform\": 5, \"https://t.co/X3wNOrBPe8\": 2, \"#Adwords\": 1, \"coordinated\": 1, \"@CallMeAlien\": 1, \"https://t.co/su7dQr3NMi\": 1, \"happened\": 2, \"moms\": 2, \"\\\\u0648\": 28, \"@agilemission\": 1, \"https://t.co/oiflNqZtLf\": 1, \"https://t.co/O9bV3RCirF\": 1, \"qualified\": 1, \"@courtneynash\": 1, \"https://t.co/CwdchQtT4O\": 1, \"execute\": 1, \"equality\": 3, \"name\": 6, \"https://t.co/xG1NqkC9HL\": 1, \"opera\": 1, \"academy\": 1, \"https://t.co/EjrUiEqwA0\": 1, \"@ProductHunt\": 1, \"realise\": 1, \"@NRF_SAASTA\": 1, \"Kenya\": 7, \"https://t.co/UHsrMb2FB6\": 1, \"Goldfuss\": 1, \"https://t.co/DS7VWeUDcr\": 1, \"sign-up\": 1, \"Nunca\": 1, \"Governance\": 1, \"\\\\u7f8e\": 1, \"@Cyn_K\": 1, \"There\\'re\": 1, \"catching\": 5, \"@obukhovaanna\": 1, \"begun\": 1, \"https://t.co/VMLRXEUbbm\": 1, \"escriban\": 1, \"hacker\": 1, \"ultimately\": 1, \"suggestions\": 1, \"@BuzzFeed\": 1, \"factory\": 1, \"https://t.co/skxkHalrvw\": 1, \"hacked\": 1, \"Bellydance\": 1, \"#NLP\": 1, \"Yayyy\": 1, \"attendee\": 2, \"attended\": 4, \"https://t.co/B9jpoqg0aS\": 1, \"Samsung\": 1, \"devops\\'r\": 1, \"https://t.co/YJGxPvIhVM\": 1, \"\\\\uba4b\": 1, \"https://t.co/Xp52LUCCS1\": 1, \"Security\": 8, \"#t24\": 1, \"https://t.co/JNWnF8EKtG\": 1, \"https://t.co/ePDyS2sHwc\": 1, \"ebook\": 1, \"Tumblr\": 1, \"turn\": 4, \"@Tiffani_Bova\": 1, \"place\": 15, \"kad\": 1, \"\\\\uddfa\": 7, \"https://t.co/PtoH0emNO3\": 1, \"childhood\": 2, \"teammates\": 2, \"1000\": 4, \"https://t.co/460sDkhTXM\": 1, \"Giant\": 1, \"@forLoopWomen\": 1, \"surviving\": 2, \"https://t.co/qnTpYPNLdT\": 1, \"@cathiereid\": 1, \"YASSS\": 1, \"https://t.co/GzYsehIa3O\": 1, \"https://t.co/I7a4LJ8mBe\": 1, \"oversaw\": 1, \"https://t.co/ezfV1EnodV\": 1, \"#womeninSTEM\": 13, \"Stars\": 1, \"engineer\": 26, \"given\": 7, \"SASS\": 1, \"@SelenaDelesie\": 1, \"@SANSPenTest\": 1, \"renderings\": 1, \"SEC\": 2, \"https://t.co/LzA811EBLl\": 1, \"SEO\": 3, \"Such\": 12, \"white\": 7, \"Data\": 6, \"giver\": 1, \"gives\": 5, \"https://t.co/pKq6U7EDKk\": 1, \"Fraud\": 1, \"hub\": 1, \"cope\": 2, \"https://t.co/sIIP0CFzx6\": 1, \"alam\": 1, \"IMO\": 1, \"https://t.co/xqHpT6W9DQ\": 1, \"@joyceventures\": 1, \"Cortex\": 1, \"Enterprise\": 1, \"#VoteYes\": 1, \"#ComputerScience\": 1, \"#billionaires\": 2, \"https://t.co/56N4ygG40J\": 1, \"wide\": 2, \"https://t.co/NhCCw7mZ2Q\": 1, \"#FinalTable\": 1, \"@SmartCompany\": 3, \"https://t.co/Ck0E9rspiG\": 1, \"diplomatic\": 1, \"r\": 16, \"#reproducibleresearch\": 1, \"cards\": 4, \"@TechHire\": 1, \"https://t.co/3b75j9pQHf\": 1, \"register\": 1, \"https://t.co/tKoZCpweOw\": 1, \"pro\": 2, \"Congratulations\": 19, \"https://t.co/AZJ8eM9tgh\": 1, \"mates\": 1, \"rent\": 1, \"https://t.co/FShKsDXpAQ\": 1, \"@Hacksterio\": 1, \"\\\\u201d\": 19, \"#YouCanDoIt\": 1, \"batting\": 1, \"#GenderEquality\": 1, \"https://t.co/fVgHx7ZuE1\": 1, \"@catehstn\": 1, \"conversion\": 1, \"https://t.co/GBpVEdLfDN\": 1, \"ideas\": 2, \"#yogatshirts\": 1, \"\\\\u0435\": 1, \"@Xero\": 1, \"strengths\": 1, \"Yasss\": 1, \"#Werkself\": 1, \"#BlackGirlsCode\": 1, \"https://t.co/O0Hrgdsrzb\": 1, \"sure\": 19, \"multiple\": 5, \"https://t.co/uncRcskKQo\": 1, \"fullstack\": 1, \"falls\": 2, \"#positive\": 1, \"RECOMMEND\": 1, \"multiply\": 1, \"librarian\": 1, \"https://t.co/QiM0DPIwqW\": 1, \"#NASA\": 1, \"https://t.co/YQT6sb7N1H\": 1, \"wireless\": 1, \"#passwordBragDay\": 1, \"https://t.co/oRmO64WCBB\": 1, \"https://t.co/REhLU13OlR\": 1, \"https://t.co/2bMae8Cjey\": 1, \"considered\": 2, \"proud\": 79, \"https://t.co/gSLHkqe90m\": 1, \"Sreedivya\": 1, \"Defcon\": 1, \"Infographic\": 1, \"https://t.co/5sw9WYXb8F\": 1, \"https://t.co/LRSnTqRUEK\": 1, \"senior\": 4, \"highfives\": 1, \"replied\": 1, \"@Ana_M_Medina\": 1, \"sporker\": 1, \"workshops\": 12, \"#TheWall\": 2, \"https://t.co/LukA1LQy4b\": 1, \"#MomInspiration\": 1, \"https://t.co/3jpUVfDRF1\": 1, \"Fellowship\": 1, \"spaces\": 2, \"hack\": 1, \"@captainsafia\": 1, \"https://t.co/lPvfGKcDcp\": 1, \"@womenwhodesign\": 1, \"https://t.co/gyQp59LChn\": 1, \"Continuing\": 1, \"written\": 7, \"crime\": 1, \"simpelthen\": 1, \"believing\": 1, \"https://t.co/3eDGXixMCC\": 1, \"https://t.co/blbfyZfI7D\": 1, \"https://t.co/eAem7Omr6J\": 1, \"@DgtlCrafts\": 1, \"H\": 10, \"#Givesmehope\": 1, \"https://t.co/QdcADO4F32\": 1, \"multimillion\": 1, \"Hedwig\": 1, \"Ncube\": 1, \"trade\": 1, \"torpedo\": 1, \"freaking\": 1, \"https://t.co/Ulac0icSQX\": 1, \"https://t.co/DzdIQ144Y0\": 1, \"Dedicated\": 1, \"@KaitMunchkin\": 1, \"https://t.co/GHrblDlGr3\": 1, \"https://t.co/GO7XHPwsvN\": 1, \"Uruguay\": 1, \"Coding\": 5, \"Chapters\": 1, \"Geoff\": 1, \"2412\": 3, \"@BoldKiln\": 1, \"discussing\": 2, \"y\\'all\": 7, \"https://t.co/F3t6MAtDA9\": 1, \"https://t.co/jieyOcCeD1\": 1, \"encourages\": 1, \"connections\": 1, \"Spread\": 1, \"college\": 22, \"\\\\ub294\": 1, \"https://t.co/NIOtgQMHlT\": 1, \"underpaid\": 1, \"Todos\": 1, \"encouraged\": 2, \"#GES2015\": 1, \"datacentrebof\": 1, \"ways\": 6, \"review\": 8, \"https://t.co/Vcot6AYJ8a\": 1, \"hist\": 2, \"https://t.co/1EE28mdKSj\": 1, \"outside\": 1, \"@BabyBoxCompany\": 1, \"@PyLadiesBrazil\": 1, \"https://t.co/Nrcgge3ESy\": 1, \"@oracle\": 1, \"Bangalore\": 1, \"#nominateher\": 1, \"Creemos\": 1, \"https://t.co/qucPGzLVrl\": 1, \"corridors\": 1, \"ked\": 1, \"Advocated\": 1, \"https://t.co/hy3kuymMLN\": 1, \"@yaamnjie\": 1, \"@Olaniyi_Ayeni\": 1, \"comp\": 2, \"https://t.co/6EysJ9VHid\": 1, \"cheap\": 1, \"27\": 3, \"como\": 2, \"#GenderPayGap\": 1, \"https://t.co/llF2FPvO3w\": 1, \"cities\": 3, \"come\": 12, \"#saturdaymorning\": 1, \"@_CatherineAllen\": 1, \"https://t.co/lm1OCbOsFA\": 1, \"https://t.co/9Cx4QSio3o\": 1, \"efficiency\": 2, \"successes\": 2, \"region\": 2, \"quiet\": 1, \"contract\": 2, \"Voy\": 1, \"Lit\": 1, \"https://t.co/rjHRN6pGNo\": 1, \"Smiling\": 1, \"https://t.co/DtFBUhw2t4\": 1, \"https://t.co/3PD3V4K244\": 1, \"Everyday\": 2, \"https://t.co/0W6KTRYiJI\": 1, \"https://t.co/kLoBjP6hKc\": 1, \"pakistan\": 1, \"#inglorious12th\": 4, \"@seaotta\": 1, \"color\": 1, \"We\\'ve\": 1, \"robotics\": 4, \"@pauljacobson\": 1, \"period\": 2, \"60\": 6, \"63\": 1, \"64\": 1, \"iterations\": 1, \"@kavekeruth\": 1, \"debounces\": 1, \"@anisokoria\": 1, \"https://t.co/6cA59kU2za\": 1, \"50,\": 1, \"Buy\": 3, \"Electric\": 2, \"Degree\": 3, \"@murilopaiva_\": 1, \"inclusive\": 1, \"But\": 17, \"https://t.co/ZFHRSH5WLT\": 1, \"peruvian\": 1, \"#MomscanCode\": 1, \"Gmail\\'de\": 1, \"ICYMI\": 4, \"peaceful\": 1, \"helicopter\": 1, \"504\": 1, \"500\": 3, \"#casulahhighschool\": 1, \"WANTS\": 1, \"direction\": 1, \"@seaportboston\": 1, \"Together\": 2, \"Burnell\": 1, \"Barbara\": 1, \"spirit\": 2, \"Laws\": 1, \"case\": 8, \"https://t.co/4xV3oGARDl\": 1, \"\\\\u4f6c\": 1, \"https://t.co/527RJuDdhq\": 1, \"https://t.co/DaR1Ed0b1w\": 1, \"cast\": 1, \"@coffeecraftcode\": 1, \"Open\": 2, \"slippers\": 1, \"@julianheres\": 1, \"#GIRLS\": 1, \"Slow\": 1, \"miss_jwo\": 1, \"@twilio\": 1, \"https://t.co/fznlEtS21n\": 1, \"#NCSSChallenge\": 3, \"Content\": 2, \"#nomoregovernmentwork\": 1, \"good\": 77, \"punched\": 1, \"presentations\": 1, \"@mobileck\": 1, \"decisively\": 1, \"@CoderDojoBe\": 1, \"https://t.co/mS0o1ork9S\": 1, \"Kadinlarin\": 1, \"https://t.co/xy0LBezKrT\": 2, \"author\": 1, \"granted\": 3, \"reminded\": 2, \"@0xmchow\": 1, \"https://t.co/cXur9Z0BoX\": 1, \"#Dobbs\": 1, \"html\": 4, \"https://t.co/QaT06sCDkY\": 1, \"reminder\": 4, \"physical\": 1, \"retweeting\": 4, \"events\": 14, \"week\": 30, \"awesomenes\": 1, \"screenshot\": 1, \"ES6\": 1, \"applaud\": 20, \"IP\": 3, \"IS\": 4, \"IR\": 1, \"@CoderSpace\": 1, \"IT\": 62, \"mutha\": 1, \"driven\": 3, \"https://t.co/MaFcA3dMkm\": 1, \"#reddit\": 1, \"IN\": 1, \"changing\": 9, \"https://t.co/nyc7x1kEOD\": 1, \"Dream\": 2, \"vowed\": 1, \"uc\": 1, \"Honouring\": 1, \"Is\": 6, \"It\": 37, \"@alisonjo2786\": 1, \"Netiquette\": 1, \"Woah\": 1, \"https://t.co/WiWBdtguhZ\": 1, \"https://t.co/7Naeo5rJS0\": 1, \"Im\": 5, \"relief\": 1, \"components\": 2, \"In\": 39, \"model\": 4, \"researchers\": 3, \"If\": 65, \"Yassssss\": 2, \"Rays\": 1, \"https://t.co/Jdk6SAAdIb\": 1, \"nd\": 10, \"@BancoMundialLAC\": 1, \"https://t.co/YVipO6kkUS\": 1, \"helpdesk\": 1, \"#Ghana\": 1, \"S50\": 2, \"@annisalli\": 1, \"GIRL\": 1, \"https://t.co/3W0SK7dbli\": 1, \"captured\": 1, \"insight\": 3, \"Anwesha\": 1, \"@marilynsalzman\": 1, \"co-found\": 1, \"feminist\": 1, \"we\\'ve\": 3, \"@clynnexx\": 1, \"everyone\\'s\": 1, \"seems\": 1, \"Iljon\": 1, \"blog\": 11, \"Applications\": 1, \"lets\": 3, \"fodas\": 1, \"@beki70\": 1, \"https://t.co/nddS8bZ1Pr\": 1, \"Change\": 1, \"#techwithpurpose\": 1, \"Geographer\": 1, \"EngnRoom\": 1, \"Many\": 7, \"Terrible\": 1, \"Kthnxbai\": 1, \"#TwitterMoments\": 1, \"https://t.co/T7GS3VKoy9\": 1, \"Lol\": 1, \"tanto\": 1, \"@TechChallengeSV\": 1, \"accepted\": 3, \"\\\\u05dd\": 3, \"Talk\": 4, \"https://t.co/pzw5DDoSF6\": 1, \"championing\": 1, \"https://t.co/lycdtBvmw1\": 1, \"Brave\": 1, \"https://t.co/vgf9WUNFL5\": 1, \"Pin\": 1, \"Brava\": 1, \"Bravo\": 6, \"#MVYachtParty\": 1, \"shelf\": 1, \"https://t.co/rGBHp0lwbn\": 1, \"Savannah\": 1, \"https://t.co/eD5vFtgjym\": 1, \"Beht\": 1, \"Something\": 2, \"nosotras\": 1, \"@spidler\": 1, \"function\": 1, \"Chem\": 1, \"templating\": 1, \"Army\": 1, \"https://t.co/YMb6x7wwe3\": 1, \"West\": 1, \"Since\": 2, \"https://t.co/erJrJu8L2J\": 1, \"competition\": 5, \"Jolly\": 1, \"https://t.co/FnzwnCu7MX\": 1, \"@hdpmaloof\": 1, \"Master\": 3, \"respect\": 8, \"International\": 4, \"Listen\": 1, \"ladysplain\": 1, \"prolific\": 1, \"McKinsey\\'s\": 1, \"legal\": 4, \"Invito\": 1, \"Maths\": 2, \"wknd\": 1, \"#SXSW\": 1, \"Hansard\": 1, \"https://t.co/e0KyWWPb69\": 1, \"https://t.co/3pGQ9wHQdo\": 1, \"communicate\": 2, \"https://t.co/Rrlg8VAb3M\": 1, \"Femgineers\": 1, \"Rock\": 6, \"accompany\": 1, \"TRS\": 2, \"Blush\": 1, \"stereotypes\": 1, \"@coderdojo\": 1, \"@PhilBrideaux\": 1, \"ok\": 1, \"Esta\": 1, \"oh\": 8, \"https://t.co/HVee0mmWPm\": 1, \"discussed\": 1, \"\\\\u06f0\": 2, \"\\\\u00f4\": 1, \"ITSec\": 1, \"os\": 1, \"#capricorncup\": 1, \"ladies\": 52, \"https://t.co/8X9ibOnoD6\": 1, \"communication\": 3, \"Poco\": 1, \"rising\": 1, \"hoooo\": 1, \"shortlisted\": 3, \"mental\": 1, \"\\\\u7530\": 2, \"https://t.co/k9qNddCtV6\": 2, \"racism\": 1, \"#Android\": 1, \"https://t.co/QGzZJ97VfM\": 1, \"TECH\": 2, \"valley\": 1, \"https://t.co/3FMTGztm16\": 1, \"yah\": 2, \"https://t.co/T6vKPBRFQM\": 1, \"@lindamcook1\": 1, \"hard\": 29, \"Remember\": 3, \"fundamentals\": 1, \"shamelessly\": 1, \"#railsgirls\": 3, \"RDX\": 2, \"@barrypenge\": 2, \"https://t.co/zxz6GmkLEb\": 1, \"https://t.co/JrHYeiK9Wp\": 1, \"longer\": 2, \"applying\": 1, \"LEGO\": 1, \"@cavinojijo\": 1, \"Startup\": 1, \"TinkerTech\": 1, \"Whilst\": 1, \"https://t.co/2Nqe6xBbic\": 1, \"Twig\": 1, \"Special\": 2, \"strongly\": 1, \"toilet\": 1, \"Space\": 4, \"taste\": 1, \"https://t.co/zKlHUF1R8f\": 1, \"Freisto\": 1, \"https://t.co/56lESi0IVf\": 1, \"Principles\": 1, \"https://t.co/UqG1ttiKpu\": 1, \"intro\": 4, \"Mathematics\": 1, \"@KateEhrlich\": 2, \"https://t.co/iRP30EyBXL\": 1, \"tshirt\": 1, \"4.5\": 2, \"@elonmusk\": 1, \"stumbled\": 1, \"https://t.co/NpnOnc686i\": 1, \"deserve\": 8, \"@mishacienfuegos\": 1, \"ACSS\": 1, \"Dart\": 1, \"\\\\u0631\": 28, \"@priyassg\": 1, \"5\": 42, \"https://t.co/BqMtbE5Fv6\": 1, \"\\\\udd37\": 1, \"trash\": 1, \"https://t.co/IFKtwmE8dU\": 1, \"briefly\": 1, \"championship\": 1, \"classmate\": 1, \"collaborative\": 1, \"#leaz\": 1, \"includes\": 2, \"Medium\": 1, \"bullets\": 1, \"CNC\": 1, \"included\": 2, \"spreadsheets\": 1, \"https://t.co/ZFPbZw9urj\": 1, \"\\\\u015f\": 4, \"missed\": 15, \"#aws\": 1, \"lineup\": 1, \"ftw\": 1, \"wife\": 8, \"invest\": 2, \"odds\": 2, \"wifi\": 1, \"websites\": 5, \"#CashAppFriday\": 3, \"directors\": 1, \"ensuring\": 1, \"cinsiyet\": 9, \"#PassTheMic\": 1, \"@WeAreBeem\": 1, \"sorunu\": 9, \"https://t.co/MuPk22KB86\": 1, \"https://t.co/CmRjoVS5Ko\": 1, \"follow\": 42, \"Optometry\": 1, \"https://t.co/cGEasxA58h\": 1, \"WOMAN\": 3, \"#WatLiv\": 1, \"ignorant\": 1, \"THINGS\": 1, \"vacancies\": 1, \"opportunities\": 2, \"@atos\": 1, \"program\": 18, \"ChromeOS\": 2, \"https://t.co/sOZKEuY50z\": 1, \"https://t.co/58P5Aj4uuM\": 1, \"@ddajani\": 1, \"https://t.co/VOxFX9iAoE\": 1, \"@fusunnebil\": 1, \"woman\": 60, \"GIS\": 2, \"#infra\": 1, \"https://t.co/eMeaTxIauL\": 1, \"song\": 1, \"far\": 15, \"fav\": 3, \"Alaska\": 1, \"https://t.co/MqBxK8q6I0\": 1, \"Cook\": 1, \"sons\": 2, \"fan\": 2, \"#LoveHE\": 1, \"fab\": 2, \"https://t.co/PMd4UWHopH\": 1, \"ticket\": 2, \"@geriwinters\": 1, \"darling\": 1, \"AHB\": 1, \"NPO\": 1, \"Todav\": 1, \"@esatts\": 1, \"list\": 17, \"Class\": 1, \"@WeilingChiu\": 1, \"@PyLadiesTW\": 1, \"https://t.co/oKr8ziXWML\": 1, \"@WomeninTechChat\": 1, \"@jordyn2493\": 1, \"rats\": 2, \"ten\": 4, \"https://t.co/GZnDwkoEmM\": 1, \"tec\": 1, \"#sysadmin\": 1, \"GOOD\": 1, \"#Inspirational\": 1, \"invention\": 1, \"design\": 34, \"Interest\": 1, \"@Quadriyanney\": 1, \"https://t.co/nnzMcQC3xo\": 1, \"https://t.co/zMLYNekxNe\": 1, \"\\\\u00a0\": 17, \"https://t.co/nAkzMLJg90\": 1, \"#Garagenfund\": 1, \"sun\": 4, \"Stereotyped\": 1, \"anniversary\": 1, \"crush\": 1, \"version\": 4, \"sus\": 1, \"sur\": 1, \"https://t.co/ISGJjSfKRz\": 1, \"@avantika_ec\": 1, \"Worked\": 5, \"#sdgs\": 1, \"#GenoSmith\": 1, \"LOAD\": 1, \"https://t.co/5cJZ1w8jik\": 1, \"Susan\": 4, \"https://t.co/Q23h1Uvi4Z\": 1, \"United\": 1, \"supposedly\": 1, \"codebase\": 2, \"https://t.co/BuaU1EL8aT\": 1, \"https://t.co/gB5Vc72FIM\": 1, \"directions\": 1, \"https://t.co/2hrHlsI3xl\": 1, \"https://t.co/wDPgqaPw4G\": 1, \"Taiwan\": 1, \"https://t.co/91bl2TXtHE\": 2, \"extraordinary\": 3, \"Absolutely\": 7, \"Communication\": 1, \"https://t.co/CTKu9jVLf8\": 1, \"allows\": 1, \"@grappleshark\": 2, \"https://t.co/QNcP8HXkvm\": 1, \"@rads\": 1, \"handful\": 1, \"https://t.co/1523w3rdDC\": 1, \"Sidebar\": 1, \"SHE\": 1, \"https://t.co/mBJVgB0yjx\": 1, \"Yoga\": 1, \"Damores\": 1, \"Thoroughly\": 1, \"https://t.co/C2byNaMLhU\": 1, \"https://t.co/V9Rrg783iR\": 1, \"G1b\": 1, \"Salamat\": 1, \"screens\": 1, \"semester\": 1, \"Too\": 3, \"Reader\": 1, \"@CDGail\": 1, \"Nigeria\": 3, \"passage\": 1, \"https://t.co/4zjr5aKMf7\": 1, \"https://t.co/lKBWL3sYD7\": 1, \"@16\": 1, \"donuts\": 1, \"https://t.co/JgouTFbRO8\": 1, \"@alice\": 1, \"#Iqaluit\": 3, \"#Treffer\": 1, \"@ibmdevops\": 1, \"https://t.co/oiscp05YoF\": 1, \"pausing\": 1, \"knows\": 4, \"definition\": 2, \"https://t.co/xMKKj6HsgX\": 1, \"@NH_Candy\": 1, \"flag\": 1, \"bragged\": 1, \"basically\": 3, \"Testers\": 1, \"known\": 4, \"#SundayFunday\": 10, \"word-wrangling\": 1, \"glad\": 8, \"\\\\u00e1\": 7, \"@ruqoyyasadiq\": 1, \"Sauti\": 3, \"https://t.co/RyyOo62vMs\": 1, \"https://t.co/ohISwACUso\": 1, \"https://t.co/hW83ZgxaXv\": 1, \"kickass\": 3, \"debated\": 1, \"https://t.co/RTvrS213Xz\": 1, \"v\": 4, \"enviable\": 1, \"@type__error\": 2, \"needing\": 1, \"embarrassing\": 1, \"duniya\": 1, \"https://t.co/hzt0nwXy3k\": 1, \"snuck\": 1, \"@k3r3n3\": 1, \"Coded\": 1, \"#champion\": 1, \"airplane\": 2, \"https://t.co/IPhdCF5Vf8\": 1, \"@GPN_Sydney\": 2, \"chores\": 1, \"https://t.co/4yMxCzOhJU\": 1, \"5.2\": 1, \"SmartCompany\": 2, \"goal\": 2, \"rather\": 4, \"#Shapovalov\": 7, \"@shripathee\": 1, \"https://t.co/3okSN0VSuD\": 1, \"https://t.co/MsKFj3O6uc\": 1, \"occasionally\": 1, \"co-chair\": 1, \"explains\": 2, \"https://t.co/6FC7DRzHd6\": 1, \"1278\": 1, \"algebra\": 1, \"https://t.co/2ZNESsQ8ZQ\": 1, \"smartcity\": 1, \"https://t.co/yy59TSAmMR\": 1, \"reflect\": 1, \"https://t.co/GCkcQxNHtg\": 1, \"#WITbragDay\": 1, \"lighting\": 1, \"#AGPL\": 1, \"https://t.co/OXF3SCLCcj\": 1, \"Pokalspiel\": 1, \"#winningmentality\": 1, \"#algebra-focused\": 1, \"#android\": 1, \"@Miister_H\": 1, \"short\": 4, \"https://t.co/DKtiEzwGNL\": 1, \"Kuch\": 1, \"shade\": 2, \"Linux\": 4, \"#inspiring\": 5, \"ebolamericana\": 4, \"#banlaoch\": 1, \"@WayneGreen6\": 1, \"developed\": 8, \"Kelley\": 1, \"#app\": 1, \"mission\": 1, \"Same\": 3, \"https://t.co/H32Llj871E\": 1, \"disabled\": 2, \"Clockwork\": 1, \"https://t.co/6pOl7WzbXD\": 1, \"scientist\": 5, \"@eegrove\": 1, \"Oct\": 1, \"developer\": 41, \"member\": 1, \"style\": 3, \"Full\": 3, \"Mujer\": 1, \"@judithmills\": 1, \"pray\": 1, \"https://t.co/BFwgN8mcAe\": 1, \"prodigy\": 1, \"XML\": 1, \"#Witbragday\": 2, \"@Seesaw\": 1, \"Hamburg\": 1, \"https://t.co/v7gcv15CU7\": 2, \"might\": 10, \"alter\": 1, \"https://t.co/Hi1mwRJmQW\": 1, \"https://t.co/ReI9w4HEGH\": 1, \"https://t.co/sgEouMoDea\": 1, \"@rachellaycock\": 1, \"L\": 3, \"woulda\": 1, \"speechless\": 1, \"reconfirma\": 1, \"concretes\": 1, \"introduce\": 1, \"communities\": 2, \"Erm\": 1, \"#wato\": 1, \"https://t.co/f68Gldc4Q2\": 1, \"#tabsVspaces\": 1, \"non-coders\": 1, \"Ran\": 2, \"#wit\": 3, \"#WesterosWeekly\": 1, \"https://t.co/Q9XFJjHTT4\": 1, \"https://t.co/B4TIpS5hXa\": 1, \"https://t.co/bM0NYSLPwW\": 1, \"https://t.co/biWIOBolBc\": 1, \"@domierosina\": 1, \"https://t.co/DGAFq6Ensy\": 1, \"Ready\": 2, \"Knew\": 1, \"Sport\": 1, \"tech-conf\": 1, \"@melthetester\": 1, \"@thestorygoddess\": 1, \"weight\": 2, \"generation\": 8, \"peeps\": 3, \"@USIUAfrica\": 1, \"Muy\": 1, \"Sports\": 1, \"Platform\": 1, \"Mum\": 3, \"organised\": 1, \"Reading\": 26, \"More\": 18, \"https://t.co/glHUx3IqWU\": 1, \"#SECONDHALF\": 1, \"Door\": 1, \"realising\": 1, \"@CollWilliams\": 2, \"#RaspberryPi\": 1, \"Practice\": 1, \"https://t.co/b6HxdNpnJ8\": 1, \"health\": 2, \"\\\\u25ba\": 1, \"fila\": 1, \"Business-Accelerated\": 1, \"https://t.co/aEyCftf9CF\": 1, \"@jenshoop\": 1, \"@SylviaMukasa\": 1, \"Spoken\": 1, \"https://t.co/aAL3JwWG6U\": 1, \"friday\": 1, \"Kenya\\'s\": 1, \"https://t.co/NfYhGMdhZK\": 1, \"#WePowerTech\": 1, \"people-work\": 1, \"6,\": 1, \"https://t.co/D8COISVqco\": 1, \"teach\": 30, \"https://t.co/ThYjtEIDc7\": 1, \"thrown\": 2, \"https://t.co/XybBw7GqHl\": 1, \"@lisacrispin\": 1, \"Congratulation\": 1, \"thread\": 73, \"People\": 2, \"https://t.co/yxmm80XNBx\": 1, \"@rosiesherry\": 1, \"year\\'s\": 1, \"deje\": 1, \"prejudice\": 1, \"@Juanita_Khumalo\": 1, \"fallen\": 1, \"throws\": 1, \"feed\": 19, \"https://t.co/cWLTSn8hCz\": 1, \"https://t.co/IAOqOWiFqW\": 1, \"feel\": 27, \"#Gyan_Ganga\": 28, \"Hugo\": 1, \"relata\": 1, \"https://t.co/STFb3ZYCsC\": 1, \"#anitaborg\": 1, \"Indian\": 4, \"#community\": 1, \"least\": 5, \"Hugs\": 1, \"https://t.co/TebyhUFk5G\": 1, \"https://t.co/WEvHyfNcWL\": 1, \"Curin\": 1, \"https://t.co/WO5KtDCAWe\": 1, \"https://t.co/qPwFsZGUIv\": 1, \"story\": 23, \"esas\": 1, \"leading\": 12, \"interviews\": 2, \"@LearnTrials\": 1, \"passed\": 1, \"roadshow\": 1, \"Invented\": 1, \"store\": 2, \"jeg\": 1, \"pipelines\": 1, \"option\": 1, \"Emailing\": 1, \"@bubobuubo\": 1, \"@plotlygraphs\": 1, \"https://t.co/g2pECJB1jT\": 1, \"#1stplace\": 1, \"@fookidrauhl\": 1, \"inceliyor\": 1, \"convinced\": 1, \"microbrags\": 1, \"Wrote\": 9, \"@chris_polster\": 1, \"#UnterWasser\": 1, \"Innova\": 1, \"kind\": 6, \"nagging\": 1, \"@jatosha\": 1, \"https://t.co/aE26kxpVvz\": 1, \"instruction\": 1, \"Nur\": 1, \"https://t.co/sa27aW9CLd\": 1, \"meeeeeeeeee\": 1, \"https://t.co/0KHQ1qFfDp\": 1, \"architect\": 4, \"\\\\uc778\": 1, \"rksom\": 1, \"motivation\": 6, \"modeled\": 1, \"https://t.co/wpPiH5yYwd\": 1, \"https://t.co/UigD2JRXWj\": 1, \"https://t.co/1TnQiPhApL\": 1, \"@MegWhitman\": 1, \"Creativity\": 1, \"Orange\": 1, \"@CBarlerin\": 1, \"alike\": 1, \"@StefanHayden\": 1, \"#making\": 1, \"https://t.co/quPtlFfRFx\": 1, \"perusing\": 1, \"#codereview\": 1, \"Yakar\": 2, \"#noncoder\": 1, \"Finished\": 1, \"https://t.co/N8qFr4Fz5N\": 1, \"Germany\": 1, \"https://t.co/cvLIRrglDm\": 1, \"#changetheratio-in-action\": 1, \"finding\": 12, \"@VirgiliaKaur\": 1, \"775\": 1, \"https://t.co/vovSlOfFlq\": 1, \"added\": 3, \"https://t.co/hHvbUYAOla\": 1, \"Have\": 14, \"bands\": 1, \"customize\": 1, \"https://t.co/OXmuuqRB4s\": 1, \"reach\": 3, \"https://t.co/oiMKzyl0xC\": 1, \"#startup\": 3, \"74\": 1, \"Heats\": 1, \"70\": 4, \"nothing\": 10, \"mulheres\": 2, \"Kendimden\": 1, \"cofound\": 1, \"achievement\": 4, \"78\": 1, \"#Nevertoooldtocode\": 1, \"https://t.co/yuGUkvYezZ\": 1, \"@Suzability\": 1, \"windows\": 1, \"https://t.co/YCvbk9kv9U\": 1, \"https://t.co/AL7tXAeKgQ\": 1, \"#gddeurope\": 1, \"rakhein\": 1, \"@evangelinechao\": 11, \"DM\\'ed\": 1, \"liberate\": 1, \"institutions\": 1, \"lying\": 1, \"gr-tech\": 1, \"Perfect\": 2, \"@droidconIN\": 1, \"journeys\": 1, \"Cerebral\": 1, \"#latetothegame\": 1, \"fond\": 1, \"https://t.co/8IERDvZ92e\": 1, \"JS\": 12, \"\\\\u8131\": 1, \"@thenewstack\": 1, \"cried\": 1, \"securing\": 1, \"endlessly\": 1, \"https://t.co/NfX5LMdrNm\": 1, \"Js\": 1, \"increasingly\": 1, \"feminists\": 1, \"OpenGL\": 1, \"https://t.co/F8Ug7nbWd3\": 1, \"mom\\'s\": 2, \"#Agile2017\": 17, \"https://t.co/K5uWdFAWwq)\": 1, \"founding\": 5, \"https://t.co/Zp8eLphLa1\": 1, \"https://t.co/NFyFfSLm6x\": 1, \"@tracymiranda\": 1, \"https://t.co/IVe2KwwBbs\": 1, \"fastest\": 2, \"https://t.co/wLyraK42GF\": 1, \"agredida\": 1, \"@kishau\": 1, \"emails\": 2, \"BT\": 1, \"escriben\": 2, \"respondees\": 1, \"https://t.co/d5advujJic\": 1, \"THIS\": 4, \"medicines\": 1, \"timeless\": 1, \"https://t.co/mGojdAw2kU\": 1, \"#ACSW\": 1, \"sustainable\": 2, \"Jorum\": 1, \"underachiever\": 2, \"PHP\": 3, \"wrote\": 53, \"@Sharonbabz44\": 1, \"apparatuses\": 1, \"bars\": 1, \"optur\": 1, \"art\": 5, \"achieved\": 3, \"https://t.co/r590Pa4dcv\": 1, \"https://t.co/ggUmlrvk3n\": 1, \"@ElizAyer\": 1, \"gaps\": 1, \"vocal\": 1, \"2.3\": 1, \"https://t.co/ZFKx1GnRr1\": 1, \"2.7\": 1, \"crunching\": 1, \"recording\": 1, \"learnt\": 15, \"https://t.co/acidpuMH5i\": 1, \"libraries\": 1, \"#SSA\": 1, \"various\": 2, \"Shipra_speaks\": 1, \"https://t.co/GxPTI0ooMG\": 1, \"numerous\": 1, \"slaying\": 1, \"https://t.co/HidudMZvJV\": 1, \"@MeganGuiney\": 2, \"recently\": 8, \"creating\": 9, \"@calvinebarongo\": 1, \"https://t.co/50iM5lNqvv\": 1, \"sole\": 1, \"pullups\": 1, \"acquired\": 4, \"succeed\": 2, \"African\": 8, \"competent\": 1, \"#designers\": 1, \"https://t.co/Z53s6h4efE\": 1, \"nav\": 1, \"relying\": 2, \"AND\": 4, \"c\": 4, \"mths\": 1, \"vibes\": 1, \"hesitant\": 1, \"#hospital\": 1, \"Amando\": 1, \"abysmally\": 1, \"leaking\": 1, \"became\": 9, \"@Afrafrafra_j\": 1, \"context\": 1, \"\\\\u00f8\": 1, \"https://t.co/9Ma7jBURq5\": 1, \"https://t.co/0aH1r5jYuN\": 1, \"@JoSaundersAU\": 2, \"reasons\": 2, \"editions\": 1, \"#Wow\": 1, \"sweep\": 1, \"Soooooooo\": 1, \"#WomenInTech\": 30, \"@TLAWomeninTech\": 2, \"@tiffanyakuchta\": 1, \"pr\": 2, \"ps\": 1, \"#broadcast\": 1, \"\\\\u0622\": 1, \"java\": 8, \"@madu_victor\": 1, \"https://t.co/SEmGJho6Dd\": 1, \"due\": 2, \"@iROBOKIDindia\": 1, \"strategy\": 5, \"@Annette98467739\": 1, \"pc\": 1, \"whoo\": 1, \"@moyheen\": 2, \"woke\": 1, \"https://t.co/3bImQADhH3\": 1, \"flight\": 1, \"Identifiable\": 1, \"https://t.co/Tnev5ieDtT\": 1, \"@amber9904\": 1, \"https://t.co/cjIdoSrt9x\": 1, \"#motivationmonday\": 1, \"Tactical\": 1, \"rocking\": 6, \"instructor\": 2, \"plants\": 1, \"advocating\": 2, \"https://t.co/UIYapa6OlN\": 1, \"i\\'mna\": 1, \"Sales\": 2, \"evaluated\": 1, \"Bloody\": 1, \"bachelors\": 1, \"behavior\": 1, \"https://t.co/APvK4vCwSQ\": 1, \"https://t.co/lcRSvFsS8I\": 1, \"engineers\": 12, \"City\": 4, \"https://t.co/hmOC2KwsMO\": 1, \"https://t.co/oMokTVvrI1\": 1, \"https://t.co/csyq2hKJhe\": 1, \"@Vixie84\": 1, \"demos\": 1, \"Emerged\": 1, \"https://t.co/IaFBeNXEnF\": 1, \"https://t.co/obgGQanG0Z\": 1, \"ethnicity\": 1, \"ria\": 1, \"https://t.co/heJFY0LW6G\": 1, \"https://t.co/P0Dqr87qdS\": 1, \"female-identified\": 1, \"East\": 1, \"@clancynewyork\": 1, \"9\": 12, \"https://t.co/NkvGijdFxx\": 1, \"utan\": 1, \"daughters\": 3, \"higher\": 1, \"IMPACT\": 1, \"About\": 2, \"literature\": 1, \"https://t.co/MAipMZ2pAb\": 1, \"Coz\": 1, \"https://t.co/TI9cQmByGv\": 1, \"negotiate\": 1, \"flows\": 2, \"https://t.co/Nwk8NXnCrU\": 1, \"Dear\": 1, \"https://t.co/fzOX7ywzau\": 1, \"flown\": 1, \"moving\": 2, \"Cog\": 1, \"robust\": 1, \"YOU\": 11, \"lower\": 2, \"https://t.co/VvTHLok5mq\": 1, \"@Apple\": 1, \"Almost\": 1, \"anybody\": 1, \"analysis\": 8, \"chiuki\": 2, \"cheer\": 1, \"edge\": 1, \"inspirational\": 25, \"https://t.co/4faIJ6qehO\": 1, \"breastfeeding\": 1, \"https://t.co/t4GuZWqge9\": 1, \"https://t.co/KdU42GMcoP\": 1, \"Seems\": 2, \"Wonderful\": 3, \"We\\'re\": 10, \"questions\": 4, \"LOGO\": 1, \"regardless\": 1, \"https://t.co/62frrbgLVE\": 1, \"profitable\": 1, \"loading\": 1, \"hiking\": 1, \"https://t.co/VV4HtdN0nP\": 1, \"\\\\u092a\": 2, \"internal\": 1, \"exhibition\": 1, \"#it\": 1, \"@yoginisd\": 1, \"findes\": 1, \"Seca\": 1, \"Water\": 1, \"customers\": 5, \"@RailsGirlsSoC\": 1, \"Last\": 25, \"advocate\": 3, \"sounding\": 1, \"\\\\u044c\": 1, \"Definitely\": 5, \"superwomen\": 2, \"summit\": 1, \"@DeidreDiamond\": 1, \"@yillag\": 2, \"shaped\": 3, \"https://t.co/P2dreFWEUZ\": 1, \"Africa\\'s\": 1, \"GW-Basic\": 1, \"https://t.co/R9shFXAGfK\": 1, \"unstable\": 1, \"@mbithenzomo\": 1, \"#IdolsSA\": 1, \"@CranfieldCFC\": 1, \"@FizzahMumtaz\": 1, \"ecology\": 1, \"fucking\": 3, \"https://t.co/R8UgcA68Uy\": 1, \"https://t.co/p5R7iTCFvw\": 1, \"streaming\": 1, \"3.5\": 1, \"newsletter\": 1, \"https://t.co/fussQrr1h8\": 1, \"Email\": 1, \"Keynote\": 1, \"https://t.co/HMLI52lW1U\": 1, \"https://t.co/y4ZCMGoZ3j\": 1, \"@anttiviljami\": 1, \"innovation\": 3, \"prog\": 2, \"prof\": 1, \"@MichelleBush42\": 1, \"prod\": 2, \"https://t.co/CyBNir8huK\": 1, \"payments\": 1, \"@thisgirlangie\": 1, \"senior-level\": 1, \"#womenintechafrica\": 1, \"bartender\": 1, \"interning\": 1, \"lose\": 1, \"Times\": 2, \"https://t.co/a3Pyq9uJP3\": 1, \"https://t.co/YwGAtrpxoL\": 1, \"@KiranManral\": 1, \"pipeline\": 1, \"asserting\": 1, \"volunteering\": 1, \"entrepreneurs\": 2, \"BOIII\": 1, \"range\": 2, \"\\\\uddf2\": 1, \"Won\\'t\": 1, \"@probst_kathrin\": 1, \"wanna\": 6, \"preg\": 1, \"male-dominated\": 2, \"https://t.co/g2jqUIO6fs\": 1, \"https://t.co/HZEADJ6ATS\": 1, \"mommy\": 1, \"@Sydney_Uni\": 1, \"Ogs\": 1, \"https://t.co/pOvmX2gzdh\": 1, \"Msc\": 3, \"resilience\": 1, \"https://t.co/k5CT8Mg0Ll\": 1, \"numerate\": 1, \"impressed\": 7, \"#techmum\": 1, \"Pssst\": 1, \"@ItzKundu\": 1, \"question\": 2, \"CISO\": 1, \"fast\": 3, \"https://t.co/1i74O6WH6a\": 1, \"fash\": 1, \"Every\": 18, \"we\\'re\": 10, \"https://t.co/YZGpjRagA7\": 1, \"brug\": 1, \"twitter\": 17, \"@droidconbos\": 1, \"swapped\": 1, \"files\": 2, \"https://t.co/t46qrCUgA6\": 1, \"audacious\": 1, \"@Kymoraa\": 1, \"https://t.co/9aw5x3zk7P\": 1, \"\\\\u00e2\": 2, \"enhancing\": 1, \"Cofounder\": 1, \"@exitazo\": 1, \"junior\": 6, \"deployed\": 3, \"\\\\u00e5\": 1, \"ke\": 1, \"Bell\": 1, \"@Code2040\": 1, \"#MediocreTechBroDay\": 1, \"seize\": 1, \"iMac\": 2, \"growth\": 3, \"https://t.co/3euxTygeP3\": 1, \"meine\": 1, \"https://t.co/u38wUo22fN\": 1, \"called\": 3, \"https://t.co/7ncN7PGQsp\": 1, \"humanitarian\": 1, \"https://t.co/ar7m3cRNQN\": 1, \"Evi\": 2, \"shortcuts\": 1, \"@SueHayward5\": 1, \"coordinator\": 1, \"\\\\uc815\": 1, \"@eleanorcoultish\": 2, \"competencia\": 1, \"Nazis\": 2, \"rainbow\": 1, \"cuente\": 1, \"peace\": 1, \"PesaLink\": 1, \"backs\": 1, \"towers\": 1, \"@RMIT_SWITCH\": 1, \"Personally\": 1, \"quadcopter\": 1, \"https://t.co/3IDYOER8Qv\": 1, \"nice\": 12, \"@juka_ma\": 1, \"https://t.co/uBM576gNLl\": 1, \"develope\": 1, \"users\": 11, \"https://t.co/WQOIkrz3BJ\": 1, \"Skills\": 1, \"Hackbright\": 1, \"problems\": 8, \"https://t.co/pnbZKpUOk0\": 1, \"helping\": 11, \"bonding\": 2, \"allowing\": 1, \"Making\": 2, \"@katherinert15\": 1, \"relaunch\": 1, \"happier\": 2, \"#influencer\": 1, \"@cameronesposito\": 1, \"https://t.co/PHlbXiCgKk\": 1, \"Cloud\": 5, \"joining\": 2, \"scroll\": 2, \"lean\": 1, \"Finalist\": 2, \"@mlh3636\": 1, \"https://t.co/fTw8QMZgA1\": 1, \"https://t.co/rwPv3UmjDS\": 1, \"Pour\": 1, \"https://t.co/p02DYJlK05\": 1, \"contributions\": 24, \"issues\": 2, \"Bulk\": 1, \"@andrea_r\": 1, \"Han\": 1, \"https://t.co/DLXCp4UH3e\": 1, \"reckoned\": 1, \"languages\": 8, \"stable\": 1, \"@Josephine_Farr\": 1, \"\\\\u00bb\": 1, \"include\": 2, \"\\\\ub9c1\": 1, \"fwiw\": 1, \"#TechChaser\": 1, \"https://t.co/MVlIMN45wC\": 1, \"https://t.co/SwiLTqXcFV\": 1, \"\\\\u060c\": 1, \"P\": 3, \"#SongsWithLowSelfEsteem\": 4, \"https://t.co/EbvsB6oxTV\": 1, \"Yesterday\\'s\": 1, \"@salesforcesaint\": 1, \"https://t.co/L8qMQSeBBd\": 1, \"Enjoy\": 1, \"@matucla\": 1, \"\\\\u05e9\": 6, \"notes\": 1, \"refactored\": 1, \"@firlejmartha\": 1, \"@roinochieng\": 2, \"https://t.co/bd9rjLA9iI\": 1, \"week\\'s\": 1, \"Composer\": 1, \"Simi\": 2, \"tinha\": 1, \"someday\": 1, \"smaller\": 1, \"https://t.co/HXj2YXiFAS\": 1, \"Discrimination\": 1, \"Brief\": 3, \"@AnnAbramson\": 1, \"@OopslandBillie\": 1, \"State\": 1, \"traveling\": 3, \"DTS\": 1, \"acid\": 1, \"folk\": 1, \"https://t.co/wfBQqAqZI6\": 1, \"@marusich\": 1, \"hourly\": 1, \"https://t.co/Mda1yDJbVq\": 1, \"Responses\": 1, \"showcase\": 1, \"https://t.co/OwCgd048hI\": 1, \"@lawrenceoluyede\": 1, \"https://t.co/PoyjKo4ARi\": 1, \"outlasted\": 1, \"UnifyID\": 1, \"waiting\": 4, \"https://t.co/j3kQmWQ3E2\": 1, \"Link\": 1, \"relocate\": 1, \"https://t.co/C8EOFMNwLf\": 1, \"@karachikbhai\": 1, \"WWCAtl\": 1, \"https://t.co/tCVG1Z6rNI\": 1, \"Impressive\": 2, \"degree\": 23, \"#LeanInOrg\": 1, \"Yup\": 5, \"https://t.co/GtT0vWeoCp\": 1, \"pushing\": 5, \"youngest\": 4, \"explore\": 3, \"@V_and_A\": 1, \"https://t.co/UXA5Cpifzu\": 1, \"gloat\": 1, \"https://t.co/ev2M6UxQyV\": 1, \"https://t.co/yGgSLZ5Es6\": 1, \"@AAUW\": 1, \"leaving\": 2, \"https://t.co/IosXzVrAqr\": 1, \"Palm\": 1, \"@shelleyshuffles\": 1, \"merges\": 1, \"membr\": 1, \"petabytes\": 1, \"https://t.co/FwHbppSKjw\": 1, \"https://t.co/9WS0SS6LI5\": 1, \"app\": 32, \"https://t.co/R12rKJltZp\": 1, \"Own\": 1, \"https://t.co/fwh88CbwoJ\": 1, \"Safety\": 1, \"wonderwomen\": 1, \"2,5\": 1, \"\\\\udd18\": 11, \"Blade\": 1, \"boasts\": 1, \"https://t.co/WrjVHPlSoY\": 1, \"use\": 51, \"Females\": 1, \"figure\": 2, \"Attend\": 1, \"\\\\u062a\": 17, \"Huh\": 1, \"frog\": 3, \"LUCKY\": 1, \"extraordinarias\": 1, \"\\\\u2588\": 1, \"@EstherNgumbi\": 1, \"https://t.co/TV1h3LNPCj\": 1, \"consecutive\": 1, \"https://t.co/30TvhQW8ke\": 1, \"MVP\": 2, \"https://t.co/4I0YTgJw54\": 1, \"clever\": 2, \"journalists\": 1, \"https://t.co/1EBj2hM9OG\": 1, \"Career\": 2, \"inclined\": 1, \"factor\": 1, \"SITE\": 1, \"https://t.co/HNmzKNK6L5\": 1, \"Guy\": 1, \"Charlatan\": 1, \"women\": 358, \"ALL\": 4, \"strategically\": 1, \"@Fineblkwoman\": 1, \"https://t.co/hPMlU3JhVe\": 2, \"anywhere\": 2, \"#gmail\": 1, \"https://t.co/knN45GqbWg\": 1, \"https://t.co/zageclRjjp\": 1, \"#aquariustanktop\": 1, \"\\\\u27ff\": 1, \"proof\": 5, \"brightening\": 1, \"@Czerwinski\": 1, \"proprietary\": 1, \"calculation\": 1, \"https://t.co/P1wHcQVUvk\": 1, \"Began\": 1, \"tax\": 4, \"@kn9ts\": 1, \"UP\": 1, \"tag\": 42, \"WITBragDay\": 18, \"something\": 32, \"#SadiePlant\": 1, \"Australian\": 2, \"@aliaalmanssori\": 1, \"sis\": 2, \"HUGE\": 1, \"https://t.co/HTkyv6Ddnw\": 1, \"syndrome\": 7, \"@LadyMitso\": 1, \"sit\": 2, \"mo\": 1, \"six\": 4, \"GCSE\": 1, \"fortunate\": 2, \"specialisation\": 1, \"https://t.co/jV0a9IO4mZ\": 1, \"@nicolefv\": 1, \"@danachis\": 3, \"instead\": 3, \"struggled\": 1, \"toddler\": 1, \"sin\": 1, \"TechLife\": 1, \"typewriter\": 1, \"#AryaStark\\'s\": 1, \"hurdles\": 1, \"https://t.co/u6sUztJVcV\": 1, \"Couldn\\'t\": 1, \"attend\": 1, \"https://t.co/yTz92AUoob\": 1, \"#badass\": 2, \"Dublin\": 1, \"#IT\": 1, \"@lashleigh\": 1, \"#FencesMovie\": 1, \"stars\": 2, \"@strawberryMae\": 1, \"https://t.co/reoKsOq4eM\": 1, \"https://t.co/Saen5X6Inf\": 1, \"Hence\": 1, \"#FOLLOWERS\": 12, \"#2017solareclipse\": 4, \"NeXT\": 1, \"https://t.co/wjQ2NaF77c\": 1, \"https://t.co/DuZ3qTWz49\": 1, \"@holubcovka\": 2, \"light\": 7, \"https://t.co/DftK06uyDc\": 1, \"Solns\": 1, \"WordPress\": 4, \"#MasculinitySoFragile\": 1, \"tenure\": 11, \"mentorship\": 5, \"neat\": 1, \"culturally-positive\": 1, \"#makers\": 1, \"13,\": 2, \"whilst\": 2, \"https://t.co/H3ZMhaccIY\": 1, \"@_Yeshna\": 2, \"looks\": 5, \"@therealerlichb\": 1, \"badges\": 2, \"#events\": 1, \"https://t.co/o44nhSni39\": 1, \"https://t.co/BN2vis2JUe\": 1, \"ships\": 1, \"Women\\'s\": 1, \"choose\": 1, \"https://t.co/9bAoT8MeB0\": 2, \"covered\": 1, \"Onya\": 1, \"@ihrd\": 1, \"practice\": 1, \"flew\": 1, \"https://t.co/rtxMljnlWN\": 1, \"Can\": 6, \"#squadgoals\": 1, \"#Entrepreneurship\": 1, \"https://t.co/hsr0gQZoZT\": 1, \"T\\'was\": 1, \"@bookdash\": 1, \"Help\": 2, \"articles\": 3, \"https://t.co/7ixefW5upI\": 1, \"Pro\": 3, \"https://t.co/vfby6IBzep\": 1, \"@CallbackWomen\": 3, \"rockets\": 2, \"https://t.co/oSxqYo9vRa\": 1, \"promise\": 1, \"soc\": 1, \"bills\": 1, \"Weekly\": 1, \"Arts\": 2, \"https://t.co/LOyu4VZW0Y\": 1, \"8,\": 1, \"@melanie_cortes_\": 1, \"adventure\": 1, \"https://t.co/CTnvWGN9d7\": 1, \"related\": 3, \"Next\": 4, \"89\": 1, \"#ApplaudHer\": 1, \"Wendy\": 2, \"82\": 4, \"83\": 1, \"80\": 9, \"86\": 1, \"https://t.co/ovyynLffln\": 1, \"category\": 2, \"https://t.co/1bjZj97Cri\": 1, \"https://t.co/5mYqctT5ej\": 1, \"chaos\": 1, \"https://t.co/szgO7z7M3k\": 1, \"@mlmouell\": 1, \"feriados\": 1, \"#math\": 1, \"https://t.co/9W4WjVz2zs\": 1, \"Baby\": 1, \"brilliantly\": 1, \"supports\": 5, \"Buying\": 1, \"@krysyyc\": 1, \"rewrote\": 1, \"https://t.co/M2qtKxAmG4\": 1, \"https://t.co/EyXUGpYTJ8\": 1, \"@RhythmOfRiora\": 1, \"This\": 170, \"#phd\": 1, \"WOW\": 4, \"#sistersinagile\": 1, \"https://t.co/pncLsgVefZ\": 1, \"https://t.co/n7pvZOUQuW\": 1, \"https://t.co/FoKNhApMSR\": 1, \"dumpster\": 1, \"usual\": 1, \"conflicts\": 1, \"#womenontheirway\": 1, \"disgusted\": 1, \"WOC\": 1, \"@KCWomeninTech\": 1, \"https://t.co/PWpzRyEqAA\": 1, \"https://t.co/fPDsBTLyGp.\": 1, \"organic\": 1, \"Amo\": 1, \"g\": 5, \"fascism\": 1, \"ThiS\": 1, \"Successfully\": 1, \"#Power\": 1, \"conversation\": 2, \"https://t.co/dWgwlSa1Lc\": 1, \"transfer\": 1, \"hence\": 1, \"eBusiness\": 1, \"https://t.co/WJtr3uaVN6\": 1, \"\\\\u00fc\": 30, \"Belfast\": 1, \"co-founded\": 1, \"@lisawinterx\": 1, \"#taylorswift\": 1, \"https://t.co/oCSwFhcbIp\": 1, \"https://t.co/N9eySJhYLF\": 1, \"a1000\": 1, \"probation\": 1, \"@GBoddington\": 1, \"https://t.co/Ote6JvxvxZ\": 1, \"heroes\": 1, \"co-founder\": 3, \"https://t.co/fwYfqZThW2\": 1, \"Hasn\\'t\": 1, \"North\": 1, \"unknown\": 1, \"myspace\": 1, \"https://t.co/ayszHS1x8I\": 1, \"https://t.co/ZU0999H7AO\": 1, \"#KenyaMovingForward\": 1, \"https://t.co/w96Drplrvn\": 1, \"Create\": 1, \"Ka\": 1, \"Database\": 2, \"in-progress\": 1, \"https://t.co/utF15M75Ns\": 1, \"reversed\": 1, \"@SHEROESIndia\": 2, \"@autopoietic\": 1, \"https://t.co/8xC8tYUUUn\": 1, \"simulate\": 1, \"@bruceheavin\": 1, \"https://t.co/AB6BhKGeuq\": 1, \"https://t.co/dJFXiuL0I2\": 1, \"institution\": 1, \"#morevoices\": 1, \"#VirtualReality\": 1, \"https://t.co/8pKd29TRdr\": 1, \"PMO\": 1, \"Sourced\": 1, \"boring\": 2, \"https://t.co/hHaEcggwEx\": 1, \"patients\": 2, \"@jezhumble\": 1, \"\\\\ud574\": 1, \"anytime\": 1, \"Eeehvolution\": 1, \"https://t.co/c8ZwZTbzQP\": 1, \"\\\\u067e\": 2, \"1.5\": 3, \"https://t.co/RM7IDnVS8y\": 1, \"Crushing\": 2, \"1.0\": 1, \"NETWORK\": 1, \"https://t.co/8Ntcj0w8je\": 1, \"1.8\": 1, \"teenagers\": 1, \"MusicHackspace\": 1, \"Founders\": 1, \"https://t.co/x7BvWVzQjc\": 1, \"#BossLady\": 1, \"https://t.co/nTuFB17LNZ\": 1, \"afraid\": 2, \"@NameFieldmt\": 2, \"agency\": 6, \"#girlontop\": 1, \"Tiffani_Bova\": 5, \"branched\": 1, \"https://t.co/1K4U881aEb\": 1, \"amazingness\": 2, \"https://t.co/PONs2FXeUV\": 1, \"@Itshella_dom\": 1, \"#inshallah\": 1, \"Games\": 2, \"cracking\": 1, \"representation\": 1, \"highschool\": 1, \"https://t.co/r59UVrs5I6\": 1, \"class\": 25, \"refreshing\": 2, \"@Ableton\": 1, \"High\": 2, \"https://t.co/fdyBmNadOI\": 1, \"https://t.co/Q6koUopOCY\": 1, \"https://t.co/YXMVteUuQo\": 1, \"movie\": 1, \"Beni\": 2, \"goals\": 3, \"Whose\": 1, \"Advocate\": 3, \"Impressed\": 1, \"agreed\": 2, \"automated\": 1, \"tecnol\": 2, \"https://t.co/9XMQgMpkYF\": 1, \"planning\": 2, \"@judyneher\": 1, \"TCP\": 1, \"Innovation\": 2, \"28,\": 1, \"fear\": 2, \"feat\": 2, \"pleased\": 1, \"https://t.co/oZwSujEWzT\": 1, \"https://t.co/Sn8XkEtSoi\": 1, \"https://t.co/ThD0VJ1xqi\": 1, \"craziness\": 1, \"@TokeSignals\": 1, \"https://t.co/qWUHfYpo3X\": 1, \"https://t.co/Kgx80yVjow\": 1, \"roadblocks\": 1, \"https://t.co/dwRtxB4u5f\": 1, \"echar\": 1, \"local\": 3, \"Baddest\": 1, \"@BritishArmy\": 1, \"#workshops\": 1, \"cube\": 1, \"https://t.co/632JM1pMLa\": 1, \"watching\": 5, \"goosebumps\": 1, \"999\": 1, \"https://t.co/TxMqcYJLSo\": 1, \"THO\": 1, \"ones\": 3, \"#GoogleManifesto\": 3, \"@GirlsWhoCode\": 2, \"words\": 4, \"THE\": 2, \"#BalloTour\": 1, \"Gold\": 1, \"ended\": 2, \"AWESOME\": 2, \"married\": 1, \"qa\": 1, \"Spinning\": 1, \"Experts\": 1, \"juror\": 1, \"https://t.co/QAUBO0LIgl\": 1, \"generations\": 3, \"@UN_Women\": 2, \"conversions\": 1, \"https://t.co/KD4DEjvaqk\": 1, \"Thinking\": 2, \"module\": 2, \"https://t.co/dPVOuUBqVV\": 1, \"\\\\u2490\": 2, \"Unity\": 2, \"merits\": 1, \"036\": 6, \"#bsides\": 1, \"gmail\": 9, \"closer\": 1, \"Twist\": 1, \"https://t.co/GW8Wg4JRrb\": 1, \"Vadisi\": 2, \"https://t.co/RIuZuADp6X\": 1, \"#SoftwareEngineer\": 1, \"favor\": 1, \"https://t.co/oiyIJmW4FJ\": 1, \"https://t.co/I9561Vr6Jt\": 1, \"limit\": 1, \"https://t.co/41Nr5RU1R5\": 1, \"\\\\u044b\": 1, \"bought\": 2, \"ethic\": 1, \"exam\": 5, \"#industry\": 1, \"joy\": 9, \"#windowsinsiders\": 1, \"https://t.co/ZVsXM5CmUF\": 1, \"#girlpower\": 2, \"Keesler\": 1, \"Maggie\": 1, \"https://t.co/QfUWlFMZKW\": 1, \"Firefox\": 2, \"Baujahr\": 1, \"atleast\": 1, \"committe\": 1, \"https://t.co/KZPYZflJ7s\": 1, \"https://t.co/XoKOOMjoui\": 1, \"Finally\": 2, \"https://t.co/tT660OImHU\": 3, \"11,000\": 2, \"table\": 4, \"withdrawn\": 1, \"forms\": 1, \"https://t.co/oabH6Lu4Vm\": 1, \"fintech\": 1, \"RE\": 1, \"https://t.co/W0ww498ZoN\": 1, \"@EmmaHill42\": 1, \"Awit\": 1, \"\\\\ub530\": 1, \"literal\": 1, \"https://t.co/HOxQ2cA6IS\": 1, \"@Accenture\": 2, \"killed\": 1, \"@pixelpaperyarn\": 1, \"historian\": 1, \"j2ee\": 1, \"FREE\": 7, \"https://t.co/h3u0m6I1oD\": 1, \"https://t.co/e4avZIsNDv\": 2, \"Using\": 1, \"improved\": 2, \"https://t.co/Ea4qGGjDwa\": 1, \"present\": 5, \"self-esteem\": 1, \"Force\": 2, \"\\\\u00e9\": 14, \"@code4ct\": 1, \"@dortetoft\": 1, \"https://t.co/fX9pNfohgR\": 1, \"@daraoke\": 2, \"#morepowertoyou\": 1, \"https://t.co/gI2KvvmhVq\": 1, \"wild\": 1, \"https://t.co/LwoKaTNpKD\": 1, \"https://t.co/RNUayZtvWP\": 1, \"MORE\": 5, \"layer\": 2, \"#proudwife\": 1, \"vendedores\": 1, \"thus\": 1, \"encouragement\": 2, \"@cheekytester\": 1, \"draining\": 1, \"malls\": 1, \"https://t.co/iJT1za4PPi\": 1, \"ave\": 1, \"Friendly\": 1, \"Hope\": 6, \"Loving\": 39, \"https://t.co/PSyIRw9NLK\": 1, \"incr\": 1, \"perhaps\": 2, \"radiation\": 1, \"@cfhirschorn\": 1, \"#getkidscoding\": 1, \"#UX\": 2, \"@SANSInstitute\": 1, \"merciful\": 8, \"largest\": 6, \"units\": 1, \"Wikileaks\": 1, \"gets\": 3, \"incl\": 1, \"privileged\": 1, \"difficult\": 2, \"https://t.co/mnE1TiTEIo\": 1, \"coached\": 1, \"conceived\": 1, \"diploma\": 1, \"automation\": 3, \"#motivation\": 1, \"coaches\": 1, \"PhDs\": 1, \"Avatar\": 1, \"student\": 5, \"Pivot\": 1, \"https://t.co/34DNlz0e1X\": 1, \"https://t.co/liELkoXLBy\": 1, \"@JananeeGang\": 1, \"warming\": 1, \"interdental\": 1, \"https://t.co/HM6pL1v99m\": 1, \"arse\": 2, \"@catphishin\": 1, \"emboldening\": 1, \"https://t.co/nz7G6Mho7z\": 1, \"@MrLutzie\": 1, \"books--good\": 1, \"overwork\": 2, \"fighting\": 5, \"scissor\": 1, \"ARD\": 1, \"gutted\": 1, \"undertaken\": 1, \"ARM\": 1, \"@lanooba\": 1, \"Million\": 1, \"rocket\": 2, \"https://t.co/ZRd2elzFti\": 1, \"https://t.co/vSerhgEiZk\": 1, \"batteries\": 1, \"https://t.co/7UUldO0SE7\": 1, \"rocked\": 1, \"#MitBragDay\": 1, \"https://t.co/0edq3yjrpO\": 1, \"happiness\": 2, \"Google\\'s\": 2, \"cluster\": 1, \"https://t.co/P0FtR5tdhp\": 1, \"point\": 11, \"Fav\": 1, \"capabilities\": 2, \"Diagnostic\": 1, \"https://t.co/Uf5kDJ6w0j\": 1, \"adoption\": 1, \"usage\": 1, \"sparking\": 1, \"@lourmoore\": 1, \"identical\": 1, \"@SME100Nigeria\": 1, \"preso\": 1, \"myth\": 1, \"women\\'s\": 2, \"who\\'s\": 3, \"term\": 1, \"RT\\'ed\": 1, \"know\": 107, \"press\": 2, \"redesign\": 2, \"https://t.co/EEXdj2DWMF\": 1, \"#BBS\": 1, \"https://t.co/u1PbUajQ6v\": 1, \"Marie\": 1, \"ahem\": 1, \"https://t.co/tG40ax1bF7\": 1, \"Within\": 1, \"mother-in-law\": 1, \"talkin\": 1, \"Discovered\": 1, \"hosts\": 1, \"https://t.co/3JItWCBiwm\": 1, \"Sue\": 3, \"standing-desk\": 1, \"smoothly\": 1, \"Sun\": 1, \"scared\": 1, \"115\": 1, \"#capricornlongsleeve\": 1, \"@SVAgalleries\": 1, \"Damore\": 13, \"AOL\": 1, \"Green\": 1, \"https://t.co/EpuvAQsCOy\": 1, \"lead\": 29, \"@jduss4\": 1, \"https://t.co/HYr5oZAkTM\": 1, \"leap\": 2, \"https://t.co/FSne6XD6cU\": 1, \"#ChangeTheRatio\": 2, \"bosses\": 3, \"@tune\": 1, \"leader\": 6, \"300000\": 1, \"Zoroastrian\": 1, \"https://t.co/RTKBYxDtCz\": 1, \"y\\'know\": 1, \"https://t.co/RXQq3j3arg\": 1, \"#noshame\": 1, \"CRUD\": 1, \"@lisagualtieri\": 1, \"epidemiology\": 1, \"@stephaniecodes\": 1, \"\\\\u05d2\": 3, \"https://t.co/CUFq3vPphg\": 1, \"muchas\": 1, \"stay\": 3, \"swept\": 1, \"raise\": 1, \"rare\": 2, \"carried\": 2, \"getting\": 22, \"column\": 1, \"#designer\": 1, \"https://t.co/zS4YeqJecb\": 1, \"@ncss\": 1, \"@udacity\": 1, \"https://t.co/tnJ7VdvxNV\": 1, \"monthly\": 2, \"carrier\": 1, \"Americans\": 1, \"minesweeper\": 1, \"MUD\": 1, \"update\": 1, \"https://t.co/U0NfgQd1kz\": 1, \"Really\": 14, \"@jasuja\": 1, \"https://t.co/FvlCzVRn1M\": 1, \"#wonderwoman\": 1, \"WFH\": 1, \"Writing\": 2, \"ma\\'am\": 2, \"USD\": 1, \"brush\": 1, \"https://t.co/2ViFE5RzZF\": 1, \"consecutively\": 1, \"fired\": 2, \"Covenant\": 1, \"handsdown\": 1, \"@CymruTech\": 1, \"Sweetie\": 1, \"frauded\": 1, \"https://t.co/SOWrTMdiuv\": 1, \"empowers\": 1, \"apps\": 12, \"\\\\u7a2e\": 1, \"Amy\": 1, \"intention\": 1, \"https://t.co/1HbfoKGoxf\": 1, \"https://t.co/Mnd00lXE19\": 1, \"Champions\": 1, \"https://t.co/gvOSSixrPb\": 1, \"#golang\": 1, \"https://t.co/ysMN7p0OS2\": 1, \"#Codeinvogue\": 1, \"triggered\": 1, \"i\\'ve\": 2, \"Science\": 13, \"@deborahh\": 1, \"Visual\": 1, \"Detroit\": 1, \"Except\": 2, \"@mailbird\": 1, \"tasked\": 1, \"https://t.co/A211jjpWYO\": 1, \"larger\": 1, \"counterparts\": 1, \"@HFA\": 1, \"coool\": 1, \"https://t.co/w1HhYws2Nh\": 1, \"made\": 50, \"tactics\": 1, \"Ten\": 8, \"whether\": 2, \"WIN\": 1, \"#heroine\": 1, \"https://t.co/s8kJjdfFWb\": 1, \"distract\": 1, \"https://t.co/7G44lvd2uu\": 1, \"record\": 4, \"Britain\": 1, \"WIT\": 22, \"https://t.co/ehLu69wO6Y\": 1, \"https://t.co/N9TjQkW5NX\": 1, \"farewell\": 1, \"@JessTheGray\": 1, \"Doesn\\'t\": 2, \"https://t.co/jL3a4L7LPV\": 1, \"Passed\": 1, \"intimidating\": 1, \"humbling\": 2, \"inadequate\": 1, \"Writer\": 1, \"Fortunate\": 1, \"https://t.co/3ybOvuhTVj\": 1, \"@USDS\": 1, \"maniquea\": 1, \"https://t.co/k9YHc64ide\": 1, \"@Andela_Nigeria\": 1, \"@supraja_r\": 1, \"diplomat\": 1, \"rias\": 2, \"incredible\": 24, \"https://t.co/iHLzySxBhD\": 1, \"boot\": 2, \"Mabrook\": 1, \"Launching\": 1, \"Landed\": 1, \"book\": 20, \"amusement\": 1, \"sick\": 3, \"Desk\": 1, \"incredibly\": 2, \"\\\\u043d\": 2, \"Maria\": 1, \"https://t.co/Mm7BwkQ53g\": 1, \"kinds\": 2, \"@QueenofCandor\": 1, \"Alia\": 1, \"kindy\": 1, \"Future\": 2, \"@SalamHanan\": 1, \"https://t.co/tCNpJ0brVM\": 1, \"https://t.co/xRgRvRUHwR\": 1, \"Coach\": 2, \"https://t.co/JIVHw55UbW\": 1, \"https://t.co/NfS4DWOZvC\": 1, \"Contributor\": 1, \"vainas\": 1, \"#trndnl\": 9, \"#EveryDayIsWITBragDay\": 1}'"
      ]
     },
     "execution_count": 19,
     "metadata": {},
     "output_type": "execute_result"
    }
   ],
   "source": [
    "# Another format JSon dump\n",
    "import json\n",
    "dicc = dict(count_all.most_common())\n",
    "json.dumps(dicc)"
   ]
  },
  {
   "cell_type": "code",
   "execution_count": 21,
   "metadata": {},
   "outputs": [
    {
     "data": {
      "text/plain": [
       "dict"
      ]
     },
     "execution_count": 21,
     "metadata": {},
     "output_type": "execute_result"
    }
   ],
   "source": [
    "type(dicc)"
   ]
  },
  {
   "cell_type": "code",
   "execution_count": 22,
   "metadata": {},
   "outputs": [
    {
     "data": {
      "text/plain": [
       "'[{\"group\": 1, \"id\": \"code\"}, {\"group\": 1, \"id\": \"love\"}, {\"group\": 1, \"id\": \"Thank\"}, {\"group\": 1, \"id\": \"people\"}, {\"group\": 1, \"id\": \"awesome\"}, {\"group\": 1, \"id\": \"\\\\u200d\"}, {\"group\": 1, \"id\": \"years\"}, {\"group\": 1, \"id\": \"#witbragday\"}, {\"group\": 1, \"id\": \"You\"}, {\"group\": 1, \"id\": \"The\"}, {\"group\": 1, \"id\": \"inspiring\"}, {\"group\": 1, \"id\": \"I\\'ve\"}, {\"group\": 1, \"id\": \"#womenintech\"}, {\"group\": 1, \"id\": \"#WITBragDay\"}, {\"group\": 1, \"id\": \"1\"}, {\"group\": 1, \"id\": \"This\"}, {\"group\": 1, \"id\": \"amazing\"}, {\"group\": 1, \"id\": \"2\"}, {\"group\": 1, \"id\": \"tweets\"}, {\"group\": 1, \"id\": \"stories\"}, {\"group\": 1, \"id\": \"\\\\ud83c\"}, {\"group\": 1, \"id\": \"Women\"}, {\"group\": 1, \"id\": \"brag\"}, {\"group\": 1, \"id\": \"I\"}, {\"group\": 1, \"id\": \"#WiTBragDay\"}, {\"group\": 1, \"id\": \"know\"}, {\"group\": 1, \"id\": \"hashtag\"}, {\"group\": 1, \"id\": \"amp\"}, {\"group\": 1, \"id\": \"I\\'m\"}, {\"group\": 1, \"id\": \"one\"}, {\"group\": 1, \"id\": \"My\"}, {\"group\": 1, \"id\": \"day\"}, {\"group\": 1, \"id\": \"women\"}, {\"group\": 1, \"id\": \"great\"}, {\"group\": 1, \"id\": \"like\"}, {\"group\": 1, \"id\": \"many\"}, {\"group\": 1, \"id\": \"work\"}, {\"group\": 1, \"id\": \"tech\"}, {\"group\": 1, \"id\": \"team\"}, {\"group\": 1, \"id\": \"first\"}]'"
      ]
     },
     "execution_count": 22,
     "metadata": {},
     "output_type": "execute_result"
    }
   ],
   "source": [
    "# Dump json in another format\n",
    "import json\n",
    "dicc = dict(count_all.most_common(40))\n",
    "values = [{\"id\": k, \"group\": 1} for k, v in dicc.iteritems()]\n",
    "json.dumps(values)"
   ]
  },
  {
   "cell_type": "code",
   "execution_count": 27,
   "metadata": {},
   "outputs": [
    {
     "name": "stdout",
     "output_type": "stream",
     "text": [
      "[(u'#WITBragDay', 2523), (u'.', 1817), (u'to', 1133), (u'!', 1120), (u'the', 1083)]\n"
     ]
    }
   ],
   "source": [
    "count_all_terms_only_once = Counter()\n",
    "for index, row in df.iterrows():     \n",
    "    terms_all = [term for term in preprocess(row['text'])]\n",
    "    terms_single = set(terms_all)\n",
    "    # Update the counter\n",
    "    count_all_terms_only_once.update(terms_single)\n",
    "print(count_all_terms_only_once.most_common(5))"
   ]
  },
  {
   "cell_type": "code",
   "execution_count": 28,
   "metadata": {},
   "outputs": [
    {
     "name": "stdout",
     "output_type": "stream",
     "text": [
      "[(u'#WITBragDay', 2530), (u'#WiTBragDay', 235), (u'#witbragday', 119), (u'#womenintech', 104), (u'#WITBragday', 72)]\n"
     ]
    }
   ],
   "source": [
    "# Only look at the hashtags\n",
    "count_all_hash = Counter()\n",
    "for index, row in df.iterrows():     \n",
    "    terms_hash = [term for term in preprocess(row['text']) \n",
    "              if term.startswith('#')]\n",
    "    # Update the counter\n",
    "    count_all_hash.update(terms_hash)\n",
    "print(count_all_hash.most_common(5))"
   ]
  },
  {
   "cell_type": "code",
   "execution_count": 29,
   "metadata": {},
   "outputs": [
    {
     "name": "stdout",
     "output_type": "stream",
     "text": [
      "[(u'I', 1289), (u'women', 358), (u'tech', 346), (u'amp', 330), (u\"I'm\", 219)]\n"
     ]
    }
   ],
   "source": [
    "count_all_term_only = Counter()\n",
    "for index, row in df.iterrows():     \n",
    "    terms_only = [term for term in preprocess(row['text']) \n",
    "              if term not in stop and\n",
    "              not term.startswith(('#', '@'))] \n",
    "    # Update the counter\n",
    "    count_all_term_only.update(terms_only)\n",
    "print(count_all_term_only.most_common(5))"
   ]
  },
  {
   "cell_type": "code",
   "execution_count": 30,
   "metadata": {},
   "outputs": [],
   "source": [
    "from nltk import bigrams \n",
    " \n",
    "terms_bigram = bigrams(terms_stop)"
   ]
  },
  {
   "cell_type": "code",
   "execution_count": 31,
   "metadata": {},
   "outputs": [
    {
     "name": "stdout",
     "output_type": "stream",
     "text": [
      "[((u'women', u'tech'), 82), ((u'#WITBragDay', u'I'), 82), ((u'#WITBragDay', u'tweets'), 77), ((u'I', u'love'), 51), ((u'The', u'latest'), 50)]\n"
     ]
    }
   ],
   "source": [
    "count_all_bigram = Counter()\n",
    "for index, row in df.iterrows():     \n",
    "    terms_stop = [term for term in preprocess(row['text']) if term not in stop]\n",
    "    # Update the counter\n",
    "    terms_bigram = bigrams(terms_stop)\n",
    "    count_all_bigram.update(terms_bigram)\n",
    "print(count_all_bigram.most_common(5))"
   ]
  },
  {
   "cell_type": "code",
   "execution_count": 32,
   "metadata": {},
   "outputs": [
    {
     "data": {
      "text/plain": [
       "'[{\"source\": \"hashtag\", \"strength\": 0.37, \"target\": \"#WITBragDay\"}, {\"source\": \"#WITBragDay\", \"strength\": 0.23, \"target\": \"check\"}, {\"source\": \"#WITBragDay\", \"strength\": 0.21, \"target\": \"Loving\"}, {\"source\": \"tweets\", \"strength\": 0.77, \"target\": \"#WITBragDay\"}, {\"source\": \"\\\\u200d\", \"strength\": 0.38, \"target\": \"\\\\u200d\"}, {\"source\": \"From\", \"strength\": 0.21, \"target\": \"King\"}, {\"source\": \"tech\", \"strength\": 0.82, \"target\": \"women\"}, {\"source\": \"You\", \"strength\": 0.2, \"target\": \"Thank\"}, {\"source\": \"women\", \"strength\": 0.33, \"target\": \"amazing\"}, {\"source\": \"#WITBragDay\", \"strength\": 0.21, \"target\": \"Proud\"}, {\"source\": \"n\", \"strength\": 0.24, \"target\": \"\\\\u00fc\"}, {\"source\": \"industry\", \"strength\": 0.22, \"target\": \"software\"}, {\"source\": \"got\", \"strength\": 0.2, \"target\": \"I\"}, {\"source\": \"#WITBragDay\", \"strength\": 0.27, \"target\": \"Check\"}, {\"source\": \"#WITBragDay\", \"strength\": 0.26, \"target\": \"reading\"}, {\"source\": \"#WITBragDay\", \"strength\": 0.23, \"target\": \"stories\"}, {\"source\": \"gender\", \"strength\": 0.24, \"target\": \"The\"}, {\"source\": \"bug\", \"strength\": 0.24, \"target\": \"gender\"}, {\"source\": \"applaud\", \"strength\": 0.2, \"target\": \"I\"}, {\"source\": \"st\", \"strength\": 0.37, \"target\": \"1\"}, {\"source\": \"\\\\ufe0f\", \"strength\": 0.29, \"target\": \"\\\\ufe0f\"}, {\"source\": \"King\", \"strength\": 0.21, \"target\": \"Last\"}, {\"source\": \"love\", \"strength\": 0.51, \"target\": \"I\"}, {\"source\": \"software\", \"strength\": 0.23, \"target\": \"bug\"}, {\"source\": \"\\\\udd13\", \"strength\": 0.21, \"target\": \"\\\\ud83e\"}, {\"source\": \"ago\", \"strength\": 0.22, \"target\": \"years\"}, {\"source\": \"know\", \"strength\": 0.35, \"target\": \"I\"}, {\"source\": \"latest\", \"strength\": 0.5, \"target\": \"The\"}, {\"source\": \"Last\", \"strength\": 0.21, \"target\": \"https://t.co/Q9srJ42pGg\"}, {\"source\": \"many\", \"strength\": 0.43, \"target\": \"So\"}, {\"source\": \"#WITBragDay\", \"strength\": 0.28, \"target\": \"tech\"}, {\"source\": \"Tech\", \"strength\": 0.38, \"target\": \"Women\"}, {\"source\": \"#WITBragDay\", \"strength\": 0.31, \"target\": \"hashtag\"}, {\"source\": \"GOD\", \"strength\": 0.21, \"target\": \"From\"}, {\"source\": \"#WITBragDay\", \"strength\": 0.21, \"target\": \"tweets\"}, {\"source\": \"work\", \"strength\": 0.36, \"target\": \"I\"}, {\"source\": \"The\", \"strength\": 0.25, \"target\": \"#WITBragDay\"}, {\"source\": \"wrote\", \"strength\": 0.32, \"target\": \"I\"}, {\"source\": \"started\", \"strength\": 0.24, \"target\": \"I\"}, {\"source\": \"I\", \"strength\": 0.82, \"target\": \"#WITBragDay\"}]'"
      ]
     },
     "execution_count": 32,
     "metadata": {},
     "output_type": "execute_result"
    }
   ],
   "source": [
    "import json\n",
    "dicc = dict(count_all_bigram.most_common(40))\n",
    "values = [{\"target\": k[0], \"source\": k[1], \"strength\": v/100.0} for k, v in dicc.iteritems()]\n",
    "json.dumps(values)"
   ]
  },
  {
   "cell_type": "code",
   "execution_count": 33,
   "metadata": {},
   "outputs": [
    {
     "data": {
      "text/plain": [
       "list"
      ]
     },
     "execution_count": 33,
     "metadata": {},
     "output_type": "execute_result"
    }
   ],
   "source": [
    "type(values)"
   ]
  },
  {
   "cell_type": "code",
   "execution_count": 34,
   "metadata": {},
   "outputs": [
    {
     "data": {
      "text/plain": [
       "'[{\"source\": \"hashtag\", \"strength\": 0.37, \"target\": \"#WITBragDay\"}, {\"source\": \"#WITBragDay\", \"strength\": 0.23, \"target\": \"check\"}, {\"source\": \"#WITBragDay\", \"strength\": 0.21, \"target\": \"Loving\"}, {\"source\": \"tweets\", \"strength\": 0.77, \"target\": \"#WITBragDay\"}, {\"source\": \"\\\\u200d\", \"strength\": 0.38, \"target\": \"\\\\u200d\"}, {\"source\": \"From\", \"strength\": 0.21, \"target\": \"King\"}, {\"source\": \"tech\", \"strength\": 0.82, \"target\": \"women\"}, {\"source\": \"You\", \"strength\": 0.2, \"target\": \"Thank\"}, {\"source\": \"women\", \"strength\": 0.33, \"target\": \"amazing\"}, {\"source\": \"#WITBragDay\", \"strength\": 0.21, \"target\": \"Proud\"}, {\"source\": \"n\", \"strength\": 0.24, \"target\": \"\\\\u00fc\"}, {\"source\": \"industry\", \"strength\": 0.22, \"target\": \"software\"}, {\"source\": \"got\", \"strength\": 0.2, \"target\": \"I\"}, {\"source\": \"#WITBragDay\", \"strength\": 0.27, \"target\": \"Check\"}, {\"source\": \"#WITBragDay\", \"strength\": 0.26, \"target\": \"reading\"}, {\"source\": \"#WITBragDay\", \"strength\": 0.23, \"target\": \"stories\"}, {\"source\": \"gender\", \"strength\": 0.24, \"target\": \"The\"}, {\"source\": \"bug\", \"strength\": 0.24, \"target\": \"gender\"}, {\"source\": \"applaud\", \"strength\": 0.2, \"target\": \"I\"}, {\"source\": \"st\", \"strength\": 0.37, \"target\": \"1\"}, {\"source\": \"\\\\ufe0f\", \"strength\": 0.29, \"target\": \"\\\\ufe0f\"}, {\"source\": \"King\", \"strength\": 0.21, \"target\": \"Last\"}, {\"source\": \"love\", \"strength\": 0.51, \"target\": \"I\"}, {\"source\": \"software\", \"strength\": 0.23, \"target\": \"bug\"}, {\"source\": \"\\\\udd13\", \"strength\": 0.21, \"target\": \"\\\\ud83e\"}, {\"source\": \"ago\", \"strength\": 0.22, \"target\": \"years\"}, {\"source\": \"know\", \"strength\": 0.35, \"target\": \"I\"}, {\"source\": \"latest\", \"strength\": 0.5, \"target\": \"The\"}, {\"source\": \"Last\", \"strength\": 0.21, \"target\": \"https://t.co/Q9srJ42pGg\"}, {\"source\": \"many\", \"strength\": 0.43, \"target\": \"So\"}, {\"source\": \"#WITBragDay\", \"strength\": 0.28, \"target\": \"tech\"}, {\"source\": \"Tech\", \"strength\": 0.38, \"target\": \"Women\"}, {\"source\": \"#WITBragDay\", \"strength\": 0.31, \"target\": \"hashtag\"}, {\"source\": \"GOD\", \"strength\": 0.21, \"target\": \"From\"}, {\"source\": \"#WITBragDay\", \"strength\": 0.21, \"target\": \"tweets\"}, {\"source\": \"work\", \"strength\": 0.36, \"target\": \"I\"}, {\"source\": \"The\", \"strength\": 0.25, \"target\": \"#WITBragDay\"}, {\"source\": \"wrote\", \"strength\": 0.32, \"target\": \"I\"}, {\"source\": \"started\", \"strength\": 0.24, \"target\": \"I\"}, {\"source\": \"I\", \"strength\": 0.82, \"target\": \"#WITBragDay\"}]'"
      ]
     },
     "execution_count": 34,
     "metadata": {},
     "output_type": "execute_result"
    }
   ],
   "source": [
    "new_dict = []\n",
    "values = [{\"target\": k[0], \"source\": k[1], \"strength\": v/100.0} for k, v in dicc.iteritems()]\n",
    "json.dumps(values)"
   ]
  },
  {
   "cell_type": "code",
   "execution_count": 35,
   "metadata": {},
   "outputs": [],
   "source": [
    "for a in values:\n",
    "    if not any(d['id'] == a['target'] for d in new_dict):\n",
    "    # does not exist\n",
    "        new_dict.append({\"id\": a['target'], \"group\": 1})\n",
    "    if not any(d['id'] == a['source'] for d in new_dict):\n",
    "    # does not exist\n",
    "        new_dict.append({\"id\": a['source'], \"group\": 2})"
   ]
  },
  {
   "cell_type": "code",
   "execution_count": 36,
   "metadata": {},
   "outputs": [
    {
     "data": {
      "text/plain": [
       "'[{\"group\": 1, \"id\": \"#WITBragDay\"}, {\"group\": 2, \"id\": \"hashtag\"}, {\"group\": 1, \"id\": \"check\"}, {\"group\": 1, \"id\": \"Loving\"}, {\"group\": 2, \"id\": \"tweets\"}, {\"group\": 1, \"id\": \"\\\\u200d\"}, {\"group\": 1, \"id\": \"King\"}, {\"group\": 2, \"id\": \"From\"}, {\"group\": 1, \"id\": \"women\"}, {\"group\": 2, \"id\": \"tech\"}, {\"group\": 1, \"id\": \"Thank\"}, {\"group\": 2, \"id\": \"You\"}, {\"group\": 1, \"id\": \"amazing\"}, {\"group\": 1, \"id\": \"Proud\"}, {\"group\": 1, \"id\": \"\\\\u00fc\"}, {\"group\": 2, \"id\": \"n\"}, {\"group\": 1, \"id\": \"software\"}, {\"group\": 2, \"id\": \"industry\"}, {\"group\": 1, \"id\": \"I\"}, {\"group\": 2, \"id\": \"got\"}, {\"group\": 1, \"id\": \"Check\"}, {\"group\": 1, \"id\": \"reading\"}, {\"group\": 1, \"id\": \"stories\"}, {\"group\": 1, \"id\": \"The\"}, {\"group\": 2, \"id\": \"gender\"}, {\"group\": 2, \"id\": \"bug\"}, {\"group\": 2, \"id\": \"applaud\"}, {\"group\": 1, \"id\": \"1\"}, {\"group\": 2, \"id\": \"st\"}, {\"group\": 1, \"id\": \"\\\\ufe0f\"}, {\"group\": 1, \"id\": \"Last\"}, {\"group\": 2, \"id\": \"love\"}, {\"group\": 1, \"id\": \"\\\\ud83e\"}, {\"group\": 2, \"id\": \"\\\\udd13\"}, {\"group\": 1, \"id\": \"years\"}, {\"group\": 2, \"id\": \"ago\"}, {\"group\": 2, \"id\": \"know\"}, {\"group\": 2, \"id\": \"latest\"}, {\"group\": 1, \"id\": \"https://t.co/Q9srJ42pGg\"}, {\"group\": 1, \"id\": \"So\"}, {\"group\": 2, \"id\": \"many\"}, {\"group\": 1, \"id\": \"Women\"}, {\"group\": 2, \"id\": \"Tech\"}, {\"group\": 2, \"id\": \"GOD\"}, {\"group\": 2, \"id\": \"work\"}, {\"group\": 2, \"id\": \"wrote\"}, {\"group\": 2, \"id\": \"started\"}]'"
      ]
     },
     "execution_count": 36,
     "metadata": {},
     "output_type": "execute_result"
    }
   ],
   "source": [
    "json.dumps(new_dict)"
   ]
  },
  {
   "cell_type": "code",
   "execution_count": 37,
   "metadata": {},
   "outputs": [
    {
     "data": {
      "text/plain": [
       "[((u'women', u'tech'), 82),\n",
       " ((u'#WITBragDay', u'I'), 82),\n",
       " ((u'#WITBragDay', u'tweets'), 77),\n",
       " ((u'I', u'love'), 51),\n",
       " ((u'The', u'latest'), 50),\n",
       " ((u'So', u'many'), 43),\n",
       " ((u'Women', u'Tech'), 38),\n",
       " ((u'\\u200d', u'\\u200d'), 38),\n",
       " ((u'1', u'st'), 37),\n",
       " ((u'#WITBragDay', u'hashtag'), 37),\n",
       " ((u'I', u'work'), 36),\n",
       " ((u'I', u'know'), 35),\n",
       " ((u'amazing', u'women'), 33),\n",
       " ((u'I', u'wrote'), 32),\n",
       " ((u'hashtag', u'#WITBragDay'), 31),\n",
       " ((u'\\ufe0f', u'\\ufe0f'), 29),\n",
       " ((u'tech', u'#WITBragDay'), 28),\n",
       " ((u'Check', u'#WITBragDay'), 27),\n",
       " ((u'reading', u'#WITBragDay'), 26),\n",
       " ((u'#WITBragDay', u'The'), 25)]"
      ]
     },
     "execution_count": 37,
     "metadata": {},
     "output_type": "execute_result"
    }
   ],
   "source": [
    "count_all_bigram.most_common(20)"
   ]
  },
  {
   "cell_type": "code",
   "execution_count": 38,
   "metadata": {},
   "outputs": [],
   "source": [
    "# Geo tagging and user locations"
   ]
  },
  {
   "cell_type": "code",
   "execution_count": 39,
   "metadata": {},
   "outputs": [
    {
     "data": {
      "text/plain": [
       "(4409, 11)"
      ]
     },
     "execution_count": 39,
     "metadata": {},
     "output_type": "execute_result"
    }
   ],
   "source": [
    "df.shape"
   ]
  },
  {
   "cell_type": "code",
   "execution_count": 40,
   "metadata": {},
   "outputs": [
    {
     "data": {
      "text/html": [
       "<div>\n",
       "<style scoped>\n",
       "    .dataframe tbody tr th:only-of-type {\n",
       "        vertical-align: middle;\n",
       "    }\n",
       "\n",
       "    .dataframe tbody tr th {\n",
       "        vertical-align: top;\n",
       "    }\n",
       "\n",
       "    .dataframe thead th {\n",
       "        text-align: right;\n",
       "    }\n",
       "</style>\n",
       "<table border=\"1\" class=\"dataframe\">\n",
       "  <thead>\n",
       "    <tr style=\"text-align: right;\">\n",
       "      <th></th>\n",
       "      <th>Unnamed: 0</th>\n",
       "      <th>created_at</th>\n",
       "      <th>hashtags</th>\n",
       "      <th>text</th>\n",
       "      <th>favorite_count</th>\n",
       "      <th>lang</th>\n",
       "      <th>place</th>\n",
       "      <th>user_location</th>\n",
       "      <th>retweet_count</th>\n",
       "      <th>retweet_screen_name</th>\n",
       "      <th>date</th>\n",
       "    </tr>\n",
       "  </thead>\n",
       "  <tbody>\n",
       "    <tr>\n",
       "      <th>0</th>\n",
       "      <td>8</td>\n",
       "      <td>Sun Aug 13 08:32:29 +0000 2017</td>\n",
       "      <td>women WITBragDay</td>\n",
       "      <td>3 degrees in building industry and they reject...</td>\n",
       "      <td>9</td>\n",
       "      <td>en</td>\n",
       "      <td>NaN</td>\n",
       "      <td>Wroclaw, Poland</td>\n",
       "      <td>2</td>\n",
       "      <td>NaN</td>\n",
       "      <td>2017-08-13 08:32:29</td>\n",
       "    </tr>\n",
       "    <tr>\n",
       "      <th>1</th>\n",
       "      <td>13</td>\n",
       "      <td>Thu Aug 17 23:34:25 +0000 2017</td>\n",
       "      <td>WITBragDay</td>\n",
       "      <td>@azimman @LaunchDarkly sounds like you should ...</td>\n",
       "      <td>1</td>\n",
       "      <td>en</td>\n",
       "      <td>NaN</td>\n",
       "      <td>/usr/local/sin</td>\n",
       "      <td>0</td>\n",
       "      <td>NaN</td>\n",
       "      <td>2017-08-17 23:34:25</td>\n",
       "    </tr>\n",
       "    <tr>\n",
       "      <th>2</th>\n",
       "      <td>16</td>\n",
       "      <td>Thu Aug 17 22:15:48 +0000 2017</td>\n",
       "      <td>WITBragDay</td>\n",
       "      <td>My coding knowledge makes a difference and imp...</td>\n",
       "      <td>6</td>\n",
       "      <td>en</td>\n",
       "      <td>NaN</td>\n",
       "      <td>Zionsville, IN</td>\n",
       "      <td>2</td>\n",
       "      <td>NaN</td>\n",
       "      <td>2017-08-17 22:15:48</td>\n",
       "    </tr>\n",
       "    <tr>\n",
       "      <th>3</th>\n",
       "      <td>44</td>\n",
       "      <td>Thu Aug 17 23:25:01 +0000 2017</td>\n",
       "      <td>WITBragDay</td>\n",
       "      <td>Built a ECS JSON-generating container definiti...</td>\n",
       "      <td>3</td>\n",
       "      <td>en</td>\n",
       "      <td>NaN</td>\n",
       "      <td>Wellington, New Zealand</td>\n",
       "      <td>2</td>\n",
       "      <td>NaN</td>\n",
       "      <td>2017-08-17 23:25:01</td>\n",
       "    </tr>\n",
       "    <tr>\n",
       "      <th>4</th>\n",
       "      <td>46</td>\n",
       "      <td>Thu Aug 17 23:22:06 +0000 2017</td>\n",
       "      <td>WITBragDay</td>\n",
       "      <td>Recruiters should definitely be scrolling thro...</td>\n",
       "      <td>203</td>\n",
       "      <td>en</td>\n",
       "      <td>NaN</td>\n",
       "      <td>/usr/local/sin</td>\n",
       "      <td>76</td>\n",
       "      <td>NaN</td>\n",
       "      <td>2017-08-17 23:22:06</td>\n",
       "    </tr>\n",
       "  </tbody>\n",
       "</table>\n",
       "</div>"
      ],
      "text/plain": [
       "   Unnamed: 0                      created_at          hashtags  \\\n",
       "0           8  Sun Aug 13 08:32:29 +0000 2017  women WITBragDay   \n",
       "1          13  Thu Aug 17 23:34:25 +0000 2017        WITBragDay   \n",
       "2          16  Thu Aug 17 22:15:48 +0000 2017        WITBragDay   \n",
       "3          44  Thu Aug 17 23:25:01 +0000 2017        WITBragDay   \n",
       "4          46  Thu Aug 17 23:22:06 +0000 2017        WITBragDay   \n",
       "\n",
       "                                                text  favorite_count lang  \\\n",
       "0  3 degrees in building industry and they reject...               9   en   \n",
       "1  @azimman @LaunchDarkly sounds like you should ...               1   en   \n",
       "2  My coding knowledge makes a difference and imp...               6   en   \n",
       "3  Built a ECS JSON-generating container definiti...               3   en   \n",
       "4  Recruiters should definitely be scrolling thro...             203   en   \n",
       "\n",
       "  place             user_location  retweet_count  retweet_screen_name  \\\n",
       "0   NaN           Wroclaw, Poland              2                  NaN   \n",
       "1   NaN            /usr/local/sin              0                  NaN   \n",
       "2   NaN            Zionsville, IN              2                  NaN   \n",
       "3   NaN  Wellington, New Zealand               2                  NaN   \n",
       "4   NaN            /usr/local/sin             76                  NaN   \n",
       "\n",
       "                  date  \n",
       "0  2017-08-13 08:32:29  \n",
       "1  2017-08-17 23:34:25  \n",
       "2  2017-08-17 22:15:48  \n",
       "3  2017-08-17 23:25:01  \n",
       "4  2017-08-17 23:22:06  "
      ]
     },
     "execution_count": 40,
     "metadata": {},
     "output_type": "execute_result"
    }
   ],
   "source": [
    "df.head(5)"
   ]
  },
  {
   "cell_type": "code",
   "execution_count": 41,
   "metadata": {},
   "outputs": [
    {
     "name": "stdout",
     "output_type": "stream",
     "text": [
      "[((u'San', u'Francisco'), 105), ((u'Nairobi', u'Kenya'), 98), ((u'Minneapolis', u'MN'), 86), ((u'MN', u'USA'), 80), ((u'London', u'England'), 77)]\n"
     ]
    }
   ],
   "source": [
    "count_all_locat = Counter()\n",
    "for index, row in df.iterrows():     \n",
    "    terms_only = [term for term in preprocess(str(row['user_location'])) if term not in stop]\n",
    "    # Update the counter\n",
    "    terms_bigram = bigrams(terms_only)\n",
    "    count_all_locat.update(terms_bigram)\n",
    "print(count_all_locat.most_common(5))"
   ]
  },
  {
   "cell_type": "code",
   "execution_count": 42,
   "metadata": {},
   "outputs": [
    {
     "name": "stdout",
     "output_type": "stream",
     "text": [
      "[((u'San', u'Francisco'), 105), ((u'Nairobi', u'Kenya'), 98), ((u'Minneapolis', u'MN'), 86), ((u'MN', u'USA'), 80), ((u'London', u'England'), 77), ((u'Lagos', u'Nigeria'), 72), ((u'South', u'Africa'), 70), ((u'Francisco', u'CA'), 64), ((u'New', u'York'), 62), ((u'Seattle', u'WA'), 51), ((u'Washington', u'DC'), 49), ((u'Cape', u'Town'), 41), ((u'United', u'Kingdom'), 40), ((u'United', u'States'), 38), ((u'Bay', u'Area'), 32), ((u'Town', u'South'), 30), ((u'Houston', u'TX'), 28), ((u'Boston', u'MA'), 27), ((u'New', u'Zealand'), 27), ((u'Kingdom', u'Saudi'), 23)]\n"
     ]
    }
   ],
   "source": [
    "print(count_all_locat.most_common(20))"
   ]
  },
  {
   "cell_type": "code",
   "execution_count": 43,
   "metadata": {},
   "outputs": [],
   "source": [
    "# Sentiment analysis with textblob"
   ]
  },
  {
   "cell_type": "code",
   "execution_count": 44,
   "metadata": {},
   "outputs": [
    {
     "data": {
      "text/plain": [
       "[u'3',\n",
       " u'degrees',\n",
       " u'building',\n",
       " u'industry',\n",
       " u'rejected',\n",
       " u'#women',\n",
       " u'IT',\n",
       " u'industry',\n",
       " u'welcomed',\n",
       " u'open',\n",
       " u'arms',\n",
       " u'Not',\n",
       " u'single',\n",
       " u'regret',\n",
       " u'#WITBragDay']"
      ]
     },
     "execution_count": 44,
     "metadata": {},
     "output_type": "execute_result"
    }
   ],
   "source": [
    "# loop through the df and run a textblob on it\n",
    "test = df.head(1).text\n",
    "term_sentiment_test = [term for term in preprocess(test[0]) if term not in stop]\n",
    "term_sentiment_test"
   ]
  },
  {
   "cell_type": "code",
   "execution_count": 45,
   "metadata": {},
   "outputs": [
    {
     "data": {
      "text/plain": [
       "list"
      ]
     },
     "execution_count": 45,
     "metadata": {},
     "output_type": "execute_result"
    }
   ],
   "source": [
    "type(term_sentiment_test)"
   ]
  },
  {
   "cell_type": "code",
   "execution_count": 46,
   "metadata": {},
   "outputs": [],
   "source": [
    "str1 = ' '.join(term_sentiment_test)"
   ]
  },
  {
   "cell_type": "code",
   "execution_count": 47,
   "metadata": {},
   "outputs": [
    {
     "data": {
      "text/plain": [
       "u'3 degrees building industry rejected #women IT industry welcomed open arms Not single regret #WITBragDay'"
      ]
     },
     "execution_count": 47,
     "metadata": {},
     "output_type": "execute_result"
    }
   ],
   "source": [
    "str1"
   ]
  },
  {
   "cell_type": "code",
   "execution_count": 48,
   "metadata": {},
   "outputs": [],
   "source": [
    "from textblob import TextBlob"
   ]
  },
  {
   "cell_type": "code",
   "execution_count": 49,
   "metadata": {},
   "outputs": [],
   "source": [
    "def sentiment_calc(text):\n",
    "    try:\n",
    "        term_sentiment = [term for term in preprocess(text) if term not in stop]\n",
    "        str_contact = ' '.join(term_sentiment)\n",
    "        return TextBlob(str_contact).sentiment\n",
    "    except:\n",
    "        return None"
   ]
  },
  {
   "cell_type": "code",
   "execution_count": 50,
   "metadata": {},
   "outputs": [],
   "source": [
    "df['sentiment'] = df['text'].apply(sentiment_calc)\n",
    "# Returns the Sentiment(polarity, subjectivity)"
   ]
  },
  {
   "cell_type": "code",
   "execution_count": 51,
   "metadata": {},
   "outputs": [
    {
     "data": {
      "text/plain": [
       "Unnamed: 0               int64\n",
       "created_at              object\n",
       "hashtags                object\n",
       "text                    object\n",
       "favorite_count           int64\n",
       "lang                    object\n",
       "place                   object\n",
       "user_location           object\n",
       "retweet_count            int64\n",
       "retweet_screen_name    float64\n",
       "date                    object\n",
       "sentiment               object\n",
       "dtype: object"
      ]
     },
     "execution_count": 51,
     "metadata": {},
     "output_type": "execute_result"
    }
   ],
   "source": [
    "df.dtypes"
   ]
  },
  {
   "cell_type": "code",
   "execution_count": 52,
   "metadata": {},
   "outputs": [],
   "source": [
    "def polarity(sentiment):\n",
    "    if sentiment.polarity > 0: \n",
    "        return 'positive'\n",
    "    elif sentiment.polarity == 0: \n",
    "        return 'neutral'\n",
    "    else: \n",
    "        return 'negative'"
   ]
  },
  {
   "cell_type": "code",
   "execution_count": 53,
   "metadata": {},
   "outputs": [],
   "source": [
    "df['polarity'] = df['sentiment'].apply(polarity)"
   ]
  },
  {
   "cell_type": "code",
   "execution_count": 54,
   "metadata": {},
   "outputs": [
    {
     "data": {
      "text/html": [
       "<div>\n",
       "<style scoped>\n",
       "    .dataframe tbody tr th:only-of-type {\n",
       "        vertical-align: middle;\n",
       "    }\n",
       "\n",
       "    .dataframe tbody tr th {\n",
       "        vertical-align: top;\n",
       "    }\n",
       "\n",
       "    .dataframe thead th {\n",
       "        text-align: right;\n",
       "    }\n",
       "</style>\n",
       "<table border=\"1\" class=\"dataframe\">\n",
       "  <thead>\n",
       "    <tr style=\"text-align: right;\">\n",
       "      <th></th>\n",
       "      <th>Unnamed: 0</th>\n",
       "      <th>created_at</th>\n",
       "      <th>hashtags</th>\n",
       "      <th>text</th>\n",
       "      <th>favorite_count</th>\n",
       "      <th>lang</th>\n",
       "      <th>place</th>\n",
       "      <th>user_location</th>\n",
       "      <th>retweet_count</th>\n",
       "      <th>retweet_screen_name</th>\n",
       "      <th>date</th>\n",
       "      <th>sentiment</th>\n",
       "      <th>polarity</th>\n",
       "    </tr>\n",
       "  </thead>\n",
       "  <tbody>\n",
       "    <tr>\n",
       "      <th>0</th>\n",
       "      <td>8</td>\n",
       "      <td>Sun Aug 13 08:32:29 +0000 2017</td>\n",
       "      <td>women WITBragDay</td>\n",
       "      <td>3 degrees in building industry and they reject...</td>\n",
       "      <td>9</td>\n",
       "      <td>en</td>\n",
       "      <td>NaN</td>\n",
       "      <td>Wroclaw, Poland</td>\n",
       "      <td>2</td>\n",
       "      <td>NaN</td>\n",
       "      <td>2017-08-13 08:32:29</td>\n",
       "      <td>(0.0178571428571, 0.357142857143)</td>\n",
       "      <td>positive</td>\n",
       "    </tr>\n",
       "    <tr>\n",
       "      <th>1</th>\n",
       "      <td>13</td>\n",
       "      <td>Thu Aug 17 23:34:25 +0000 2017</td>\n",
       "      <td>WITBragDay</td>\n",
       "      <td>@azimman @LaunchDarkly sounds like you should ...</td>\n",
       "      <td>1</td>\n",
       "      <td>en</td>\n",
       "      <td>NaN</td>\n",
       "      <td>/usr/local/sin</td>\n",
       "      <td>0</td>\n",
       "      <td>NaN</td>\n",
       "      <td>2017-08-17 23:34:25</td>\n",
       "      <td>(0.75, 1.0)</td>\n",
       "      <td>positive</td>\n",
       "    </tr>\n",
       "  </tbody>\n",
       "</table>\n",
       "</div>"
      ],
      "text/plain": [
       "   Unnamed: 0                      created_at          hashtags  \\\n",
       "0           8  Sun Aug 13 08:32:29 +0000 2017  women WITBragDay   \n",
       "1          13  Thu Aug 17 23:34:25 +0000 2017        WITBragDay   \n",
       "\n",
       "                                                text  favorite_count lang  \\\n",
       "0  3 degrees in building industry and they reject...               9   en   \n",
       "1  @azimman @LaunchDarkly sounds like you should ...               1   en   \n",
       "\n",
       "  place    user_location  retweet_count  retweet_screen_name  \\\n",
       "0   NaN  Wroclaw, Poland              2                  NaN   \n",
       "1   NaN   /usr/local/sin              0                  NaN   \n",
       "\n",
       "                  date                          sentiment  polarity  \n",
       "0  2017-08-13 08:32:29  (0.0178571428571, 0.357142857143)  positive  \n",
       "1  2017-08-17 23:34:25                        (0.75, 1.0)  positive  "
      ]
     },
     "execution_count": 54,
     "metadata": {},
     "output_type": "execute_result"
    }
   ],
   "source": [
    "df.head(2)"
   ]
  },
  {
   "cell_type": "code",
   "execution_count": 88,
   "metadata": {},
   "outputs": [],
   "source": [
    "df.to_csv('WITBrag_Clean_Noretweets_Sentiments.csv')"
   ]
  },
  {
   "cell_type": "code",
   "execution_count": 55,
   "metadata": {},
   "outputs": [],
   "source": [
    "df = pd.read_csv(\"WITBrag_Clean_Noretweets_Sentiments.csv\")"
   ]
  },
  {
   "cell_type": "code",
   "execution_count": 56,
   "metadata": {},
   "outputs": [
    {
     "data": {
      "text/plain": [
       "Unnamed: 0               int64\n",
       "Unnamed: 0.1             int64\n",
       "created_at              object\n",
       "hashtags                object\n",
       "text                    object\n",
       "favorite_count           int64\n",
       "lang                    object\n",
       "place                   object\n",
       "user_location           object\n",
       "retweet_count            int64\n",
       "retweet_screen_name    float64\n",
       "date                    object\n",
       "sentiment               object\n",
       "polarity                object\n",
       "dtype: object"
      ]
     },
     "execution_count": 56,
     "metadata": {},
     "output_type": "execute_result"
    }
   ],
   "source": [
    "df.dtypes"
   ]
  },
  {
   "cell_type": "code",
   "execution_count": 57,
   "metadata": {},
   "outputs": [],
   "source": [
    "from geotext import GeoText"
   ]
  },
  {
   "cell_type": "code",
   "execution_count": 58,
   "metadata": {},
   "outputs": [
    {
     "data": {
      "text/plain": [
       "'Wroclaw, Poland'"
      ]
     },
     "execution_count": 58,
     "metadata": {},
     "output_type": "execute_result"
    }
   ],
   "source": [
    "df.head(1).user_location[0]"
   ]
  },
  {
   "cell_type": "code",
   "execution_count": 59,
   "metadata": {},
   "outputs": [
    {
     "name": "stdout",
     "output_type": "stream",
     "text": [
      "found\n"
     ]
    }
   ],
   "source": [
    "# Testing\n",
    "places = GeoText(\"New York\")\n",
    "count = places.country_mentions\n",
    "# \"London\"\n",
    "if 'US' in count:\n",
    "    print \"found\"\n",
    "else:\n",
    "    print \"not\""
   ]
  },
  {
   "cell_type": "code",
   "execution_count": 60,
   "metadata": {},
   "outputs": [],
   "source": [
    "# Get the City to State Dictionary\n",
    "from cityToState import city_to_state_dict"
   ]
  },
  {
   "cell_type": "code",
   "execution_count": 61,
   "metadata": {},
   "outputs": [],
   "source": [
    "   states = {\n",
    "\n",
    "         'Alabama','Alaska','Arizona','Arkansas','California','Colorado',\n",
    "         'Connecticut','Delaware','Florida','Georgia','Hawaii','Idaho', \n",
    "         'Illinois','Indiana','Iowa','Kansas','Kentucky','Louisiana',\n",
    "         'Maine' 'Maryland','Massachusetts','Michigan','Minnesota',\n",
    "         'Mississippi', 'Missouri','Montana','Nebraska','Nevada',\n",
    "         'New Hampshire','New Jersey','New Mexico','New York',\n",
    "         'North Carolina','North Dakota','Ohio',    \n",
    "         'Oklahoma','Oregon','Pennsylvania','Rhode Island',\n",
    "         'South  Carolina','South Dakota','Tennessee','Texas','Utah',\n",
    "         'Vermont','Virginia','Washington','West Virginia',\n",
    "         'Wisconsin','Wyoming'\n",
    "    }\n"
   ]
  },
  {
   "cell_type": "code",
   "execution_count": 62,
   "metadata": {},
   "outputs": [],
   "source": [
    "def filterUSLocations(address):\n",
    "    str_address = str(address) # Convert the address to string\n",
    "    userCountry = GeoText(str_address).country_mentions # Use Geotext to get the country mentioned in the addr.\n",
    "    if 'US' in userCountry:   # This is a US address\n",
    "        city = GeoText(str_address).cities\n",
    "        # first check if the city name is somehow . a state name as well\n",
    "        if city:\n",
    "            if city[0] in states:\n",
    "                return city[0]\n",
    "            if city[0] in city_to_state_dict:\n",
    "                return city_to_state_dict[city[0]]\n",
    "        else:\n",
    "            return\n",
    "    else:\n",
    "        return\n",
    "    "
   ]
  },
  {
   "cell_type": "code",
   "execution_count": 63,
   "metadata": {},
   "outputs": [
    {
     "name": "stdout",
     "output_type": "stream",
     "text": [
      "None\n"
     ]
    }
   ],
   "source": [
    "print(filterUSLocations(\"asdfasdf\"))"
   ]
  },
  {
   "cell_type": "code",
   "execution_count": 64,
   "metadata": {},
   "outputs": [],
   "source": [
    "df['US_State'] = df['user_location'].apply(filterUSLocations)"
   ]
  },
  {
   "cell_type": "code",
   "execution_count": 65,
   "metadata": {},
   "outputs": [],
   "source": [
    "# create a new df with only US states\n",
    "df.dropna(subset=['US_State'], inplace=True)"
   ]
  },
  {
   "cell_type": "code",
   "execution_count": 66,
   "metadata": {},
   "outputs": [
    {
     "data": {
      "text/html": [
       "<div>\n",
       "<style scoped>\n",
       "    .dataframe tbody tr th:only-of-type {\n",
       "        vertical-align: middle;\n",
       "    }\n",
       "\n",
       "    .dataframe tbody tr th {\n",
       "        vertical-align: top;\n",
       "    }\n",
       "\n",
       "    .dataframe thead th {\n",
       "        text-align: right;\n",
       "    }\n",
       "</style>\n",
       "<table border=\"1\" class=\"dataframe\">\n",
       "  <thead>\n",
       "    <tr style=\"text-align: right;\">\n",
       "      <th></th>\n",
       "      <th>Unnamed: 0</th>\n",
       "      <th>Unnamed: 0.1</th>\n",
       "      <th>created_at</th>\n",
       "      <th>hashtags</th>\n",
       "      <th>text</th>\n",
       "      <th>favorite_count</th>\n",
       "      <th>lang</th>\n",
       "      <th>place</th>\n",
       "      <th>user_location</th>\n",
       "      <th>retweet_count</th>\n",
       "      <th>retweet_screen_name</th>\n",
       "      <th>date</th>\n",
       "      <th>sentiment</th>\n",
       "      <th>polarity</th>\n",
       "      <th>US_State</th>\n",
       "    </tr>\n",
       "  </thead>\n",
       "  <tbody>\n",
       "    <tr>\n",
       "      <th>3</th>\n",
       "      <td>3</td>\n",
       "      <td>44</td>\n",
       "      <td>Thu Aug 17 23:25:01 +0000 2017</td>\n",
       "      <td>WITBragDay</td>\n",
       "      <td>Built a ECS JSON-generating container definiti...</td>\n",
       "      <td>3</td>\n",
       "      <td>en</td>\n",
       "      <td>NaN</td>\n",
       "      <td>Wellington, New Zealand</td>\n",
       "      <td>2</td>\n",
       "      <td>NaN</td>\n",
       "      <td>2017-08-17 23:25:01</td>\n",
       "      <td>Sentiment(polarity=0.0, subjectivity=0.625)</td>\n",
       "      <td>neutral</td>\n",
       "      <td>Florida</td>\n",
       "    </tr>\n",
       "    <tr>\n",
       "      <th>5</th>\n",
       "      <td>5</td>\n",
       "      <td>51</td>\n",
       "      <td>Thu Aug 17 23:26:32 +0000 2017</td>\n",
       "      <td>WITBragDay</td>\n",
       "      <td>Started a company doing DevOps consulting. Sti...</td>\n",
       "      <td>22</td>\n",
       "      <td>en</td>\n",
       "      <td>NaN</td>\n",
       "      <td>Wellington, New Zealand</td>\n",
       "      <td>2</td>\n",
       "      <td>NaN</td>\n",
       "      <td>2017-08-17 23:26:32</td>\n",
       "      <td>Sentiment(polarity=0.8, subjectivity=1.0)</td>\n",
       "      <td>positive</td>\n",
       "      <td>Florida</td>\n",
       "    </tr>\n",
       "    <tr>\n",
       "      <th>29</th>\n",
       "      <td>29</td>\n",
       "      <td>220</td>\n",
       "      <td>Sun Aug 13 08:43:21 +0000 2017</td>\n",
       "      <td>WITBragDay</td>\n",
       "      <td>Check out this hashtag #WITBragDay</td>\n",
       "      <td>3</td>\n",
       "      <td>en</td>\n",
       "      <td>San Jose, CA</td>\n",
       "      <td>San Jose, CA</td>\n",
       "      <td>0</td>\n",
       "      <td>NaN</td>\n",
       "      <td>2017-08-13 08:43:21</td>\n",
       "      <td>Sentiment(polarity=0.0, subjectivity=0.0)</td>\n",
       "      <td>neutral</td>\n",
       "      <td>California</td>\n",
       "    </tr>\n",
       "    <tr>\n",
       "      <th>39</th>\n",
       "      <td>39</td>\n",
       "      <td>262</td>\n",
       "      <td>Sun Aug 13 08:09:01 +0000 2017</td>\n",
       "      <td>WITBragDay UX UXAustralia</td>\n",
       "      <td>Wow! I'm loving the stories from #WITBragDay t...</td>\n",
       "      <td>4</td>\n",
       "      <td>en</td>\n",
       "      <td>Melbourne, Victoria</td>\n",
       "      <td>Melbourne, Australia</td>\n",
       "      <td>1</td>\n",
       "      <td>NaN</td>\n",
       "      <td>2017-08-13 08:09:01</td>\n",
       "      <td>Sentiment(polarity=0.39999999999999997, subjec...</td>\n",
       "      <td>positive</td>\n",
       "      <td>Florida</td>\n",
       "    </tr>\n",
       "    <tr>\n",
       "      <th>65</th>\n",
       "      <td>65</td>\n",
       "      <td>444</td>\n",
       "      <td>Sun Aug 13 08:19:01 +0000 2017</td>\n",
       "      <td>WITBragDay</td>\n",
       "      <td>If you're looking for something positive to lo...</td>\n",
       "      <td>7</td>\n",
       "      <td>en</td>\n",
       "      <td>NaN</td>\n",
       "      <td>Washington, DC</td>\n",
       "      <td>4</td>\n",
       "      <td>NaN</td>\n",
       "      <td>2017-08-13 08:19:01</td>\n",
       "      <td>Sentiment(polarity=0.22727272727272727, subjec...</td>\n",
       "      <td>positive</td>\n",
       "      <td>Washington</td>\n",
       "    </tr>\n",
       "    <tr>\n",
       "      <th>68</th>\n",
       "      <td>68</td>\n",
       "      <td>498</td>\n",
       "      <td>Sun Aug 13 07:31:57 +0000 2017</td>\n",
       "      <td>WITBragDay</td>\n",
       "      <td>This is bad ass! 😎 #WITBragDay https://t.co/8...</td>\n",
       "      <td>14</td>\n",
       "      <td>en</td>\n",
       "      <td>NaN</td>\n",
       "      <td>Dublin, Ireland</td>\n",
       "      <td>4</td>\n",
       "      <td>NaN</td>\n",
       "      <td>2017-08-13 07:31:57</td>\n",
       "      <td>Sentiment(polarity=-0.6999999999999998, subjec...</td>\n",
       "      <td>negative</td>\n",
       "      <td>California</td>\n",
       "    </tr>\n",
       "    <tr>\n",
       "      <th>82</th>\n",
       "      <td>82</td>\n",
       "      <td>692</td>\n",
       "      <td>Sun Aug 13 07:50:19 +0000 2017</td>\n",
       "      <td>WITBragDay Ireland</td>\n",
       "      <td>Spread the word about #WITBragDay. I want to h...</td>\n",
       "      <td>9</td>\n",
       "      <td>en</td>\n",
       "      <td>NaN</td>\n",
       "      <td>Dublin, Ireland</td>\n",
       "      <td>4</td>\n",
       "      <td>NaN</td>\n",
       "      <td>2017-08-13 07:50:19</td>\n",
       "      <td>Sentiment(polarity=0.0, subjectivity=0.0)</td>\n",
       "      <td>neutral</td>\n",
       "      <td>California</td>\n",
       "    </tr>\n",
       "    <tr>\n",
       "      <th>101</th>\n",
       "      <td>101</td>\n",
       "      <td>821</td>\n",
       "      <td>Sun Aug 13 07:21:12 +0000 2017</td>\n",
       "      <td>WITBragDay</td>\n",
       "      <td>Very inspiring to read others stories #WITBrag...</td>\n",
       "      <td>3</td>\n",
       "      <td>en</td>\n",
       "      <td>NaN</td>\n",
       "      <td>Cambridge</td>\n",
       "      <td>0</td>\n",
       "      <td>NaN</td>\n",
       "      <td>2017-08-13 07:21:12</td>\n",
       "      <td>Sentiment(polarity=0.65, subjectivity=1.0)</td>\n",
       "      <td>positive</td>\n",
       "      <td>Massachusetts</td>\n",
       "    </tr>\n",
       "    <tr>\n",
       "      <th>103</th>\n",
       "      <td>103</td>\n",
       "      <td>824</td>\n",
       "      <td>Sun Aug 13 07:20:44 +0000 2017</td>\n",
       "      <td>NaN</td>\n",
       "      <td>Thank you for making Gmail as it is. :D https:...</td>\n",
       "      <td>1</td>\n",
       "      <td>en</td>\n",
       "      <td>NaN</td>\n",
       "      <td>Norfolk, UK</td>\n",
       "      <td>0</td>\n",
       "      <td>NaN</td>\n",
       "      <td>2017-08-13 07:20:44</td>\n",
       "      <td>Sentiment(polarity=1.0, subjectivity=1.0)</td>\n",
       "      <td>positive</td>\n",
       "      <td>Nebraska</td>\n",
       "    </tr>\n",
       "    <tr>\n",
       "      <th>112</th>\n",
       "      <td>112</td>\n",
       "      <td>885</td>\n",
       "      <td>Sun Aug 13 06:40:01 +0000 2017</td>\n",
       "      <td>NaN</td>\n",
       "      <td>This is hella precious! https://t.co/eIZyhncI2G</td>\n",
       "      <td>1</td>\n",
       "      <td>en</td>\n",
       "      <td>NaN</td>\n",
       "      <td>Houston,Texas</td>\n",
       "      <td>0</td>\n",
       "      <td>NaN</td>\n",
       "      <td>2017-08-13 06:40:01</td>\n",
       "      <td>Sentiment(polarity=0.5, subjectivity=1.0)</td>\n",
       "      <td>positive</td>\n",
       "      <td>Texas</td>\n",
       "    </tr>\n",
       "  </tbody>\n",
       "</table>\n",
       "</div>"
      ],
      "text/plain": [
       "     Unnamed: 0  Unnamed: 0.1                      created_at  \\\n",
       "3             3            44  Thu Aug 17 23:25:01 +0000 2017   \n",
       "5             5            51  Thu Aug 17 23:26:32 +0000 2017   \n",
       "29           29           220  Sun Aug 13 08:43:21 +0000 2017   \n",
       "39           39           262  Sun Aug 13 08:09:01 +0000 2017   \n",
       "65           65           444  Sun Aug 13 08:19:01 +0000 2017   \n",
       "68           68           498  Sun Aug 13 07:31:57 +0000 2017   \n",
       "82           82           692  Sun Aug 13 07:50:19 +0000 2017   \n",
       "101         101           821  Sun Aug 13 07:21:12 +0000 2017   \n",
       "103         103           824  Sun Aug 13 07:20:44 +0000 2017   \n",
       "112         112           885  Sun Aug 13 06:40:01 +0000 2017   \n",
       "\n",
       "                      hashtags  \\\n",
       "3                   WITBragDay   \n",
       "5                   WITBragDay   \n",
       "29                  WITBragDay   \n",
       "39   WITBragDay UX UXAustralia   \n",
       "65                  WITBragDay   \n",
       "68                  WITBragDay   \n",
       "82          WITBragDay Ireland   \n",
       "101                 WITBragDay   \n",
       "103                        NaN   \n",
       "112                        NaN   \n",
       "\n",
       "                                                  text  favorite_count lang  \\\n",
       "3    Built a ECS JSON-generating container definiti...               3   en   \n",
       "5    Started a company doing DevOps consulting. Sti...              22   en   \n",
       "29                  Check out this hashtag #WITBragDay               3   en   \n",
       "39   Wow! I'm loving the stories from #WITBragDay t...               4   en   \n",
       "65   If you're looking for something positive to lo...               7   en   \n",
       "68   This is bad ass! 😎 #WITBragDay https://t.co/8...              14   en   \n",
       "82   Spread the word about #WITBragDay. I want to h...               9   en   \n",
       "101  Very inspiring to read others stories #WITBrag...               3   en   \n",
       "103  Thank you for making Gmail as it is. :D https:...               1   en   \n",
       "112    This is hella precious! https://t.co/eIZyhncI2G               1   en   \n",
       "\n",
       "                   place             user_location  retweet_count  \\\n",
       "3                    NaN  Wellington, New Zealand               2   \n",
       "5                    NaN  Wellington, New Zealand               2   \n",
       "29          San Jose, CA              San Jose, CA              0   \n",
       "39   Melbourne, Victoria     Melbourne, Australia               1   \n",
       "65                   NaN            Washington, DC              4   \n",
       "68                   NaN           Dublin, Ireland              4   \n",
       "82                   NaN           Dublin, Ireland              4   \n",
       "101                  NaN                 Cambridge              0   \n",
       "103                  NaN               Norfolk, UK              0   \n",
       "112                  NaN             Houston,Texas              0   \n",
       "\n",
       "     retweet_screen_name                 date  \\\n",
       "3                    NaN  2017-08-17 23:25:01   \n",
       "5                    NaN  2017-08-17 23:26:32   \n",
       "29                   NaN  2017-08-13 08:43:21   \n",
       "39                   NaN  2017-08-13 08:09:01   \n",
       "65                   NaN  2017-08-13 08:19:01   \n",
       "68                   NaN  2017-08-13 07:31:57   \n",
       "82                   NaN  2017-08-13 07:50:19   \n",
       "101                  NaN  2017-08-13 07:21:12   \n",
       "103                  NaN  2017-08-13 07:20:44   \n",
       "112                  NaN  2017-08-13 06:40:01   \n",
       "\n",
       "                                             sentiment  polarity  \\\n",
       "3          Sentiment(polarity=0.0, subjectivity=0.625)   neutral   \n",
       "5            Sentiment(polarity=0.8, subjectivity=1.0)  positive   \n",
       "29           Sentiment(polarity=0.0, subjectivity=0.0)   neutral   \n",
       "39   Sentiment(polarity=0.39999999999999997, subjec...  positive   \n",
       "65   Sentiment(polarity=0.22727272727272727, subjec...  positive   \n",
       "68   Sentiment(polarity=-0.6999999999999998, subjec...  negative   \n",
       "82           Sentiment(polarity=0.0, subjectivity=0.0)   neutral   \n",
       "101         Sentiment(polarity=0.65, subjectivity=1.0)  positive   \n",
       "103          Sentiment(polarity=1.0, subjectivity=1.0)  positive   \n",
       "112          Sentiment(polarity=0.5, subjectivity=1.0)  positive   \n",
       "\n",
       "          US_State  \n",
       "3          Florida  \n",
       "5          Florida  \n",
       "29      California  \n",
       "39         Florida  \n",
       "65      Washington  \n",
       "68      California  \n",
       "82      California  \n",
       "101  Massachusetts  \n",
       "103       Nebraska  \n",
       "112          Texas  "
      ]
     },
     "execution_count": 66,
     "metadata": {},
     "output_type": "execute_result"
    }
   ],
   "source": [
    "# Only has US states\n",
    "df.head(10)"
   ]
  },
  {
   "cell_type": "code",
   "execution_count": 67,
   "metadata": {},
   "outputs": [
    {
     "name": "stdout",
     "output_type": "stream",
     "text": [
      "[(u'#WITBragDay', 628), (u'I', 334), (u'women', 102), (u'amp', 93), (u'tech', 92)]\n"
     ]
    }
   ],
   "source": [
    "# The DF is not that accurate right now but will work for the test viz\n",
    "# Recount all the terms \n",
    "# Create a Counter Collection\n",
    "count_all = Counter()\n",
    "# Iterate over the Dataframe rows\n",
    "for index, row in df.iterrows():     \n",
    "    # Get the terms of each tweet while preprocessing it and remove the stop words from the tweet\n",
    "    terms_stop = [term for term in preprocess(row['text']) if term not in stop and not term.startswith(r\"\\x\")]\n",
    "    # Update the counter\n",
    "    count_all.update(terms_stop)\n",
    "print(count_all.most_common(5))"
   ]
  },
  {
   "cell_type": "code",
   "execution_count": 68,
   "metadata": {},
   "outputs": [],
   "source": [
    "# The results are still the same\n",
    "dff = df"
   ]
  },
  {
   "cell_type": "code",
   "execution_count": 1,
   "metadata": {},
   "outputs": [
    {
     "ename": "NameError",
     "evalue": "name 'dff' is not defined",
     "output_type": "error",
     "traceback": [
      "\u001b[0;31m---------------------------------------------------------------------------\u001b[0m",
      "\u001b[0;31mNameError\u001b[0m                                 Traceback (most recent call last)",
      "\u001b[0;32m<ipython-input-1-342616e46455>\u001b[0m in \u001b[0;36m<module>\u001b[0;34m()\u001b[0m\n\u001b[0;32m----> 1\u001b[0;31m \u001b[0mdff\u001b[0m\u001b[0;34m.\u001b[0m\u001b[0mgroupby\u001b[0m\u001b[0;34m(\u001b[0m\u001b[0;34m[\u001b[0m\u001b[0;34m\"US_State\"\u001b[0m\u001b[0;34m,\u001b[0m \u001b[0;34m\"polarity\"\u001b[0m\u001b[0;34m]\u001b[0m\u001b[0;34m)\u001b[0m\u001b[0;34m.\u001b[0m\u001b[0msize\u001b[0m\u001b[0;34m(\u001b[0m\u001b[0;34m)\u001b[0m\u001b[0;34m\u001b[0m\u001b[0m\n\u001b[0m",
      "\u001b[0;31mNameError\u001b[0m: name 'dff' is not defined"
     ]
    }
   ],
   "source": [
    "dff.groupby([\"US_State\", \"polarity\"]).size()"
   ]
  },
  {
   "cell_type": "code",
   "execution_count": 112,
   "metadata": {},
   "outputs": [],
   "source": [
    "new_Df = pd.DataFrame({'count' : dff.groupby([\"US_State\", \"polarity\"]).size()}).reset_index()"
   ]
  },
  {
   "cell_type": "code",
   "execution_count": 117,
   "metadata": {},
   "outputs": [
    {
     "data": {
      "text/html": [
       "<div>\n",
       "<style scoped>\n",
       "    .dataframe tbody tr th:only-of-type {\n",
       "        vertical-align: middle;\n",
       "    }\n",
       "\n",
       "    .dataframe tbody tr th {\n",
       "        vertical-align: top;\n",
       "    }\n",
       "\n",
       "    .dataframe thead th {\n",
       "        text-align: right;\n",
       "    }\n",
       "</style>\n",
       "<table border=\"1\" class=\"dataframe\">\n",
       "  <thead>\n",
       "    <tr style=\"text-align: right;\">\n",
       "      <th></th>\n",
       "      <th>US_State</th>\n",
       "      <th>polarity</th>\n",
       "      <th>count</th>\n",
       "    </tr>\n",
       "  </thead>\n",
       "  <tbody>\n",
       "    <tr>\n",
       "      <th>0</th>\n",
       "      <td>Alabama</td>\n",
       "      <td>positive</td>\n",
       "      <td>5</td>\n",
       "    </tr>\n",
       "    <tr>\n",
       "      <th>1</th>\n",
       "      <td>Arizona</td>\n",
       "      <td>neutral</td>\n",
       "      <td>4</td>\n",
       "    </tr>\n",
       "    <tr>\n",
       "      <th>2</th>\n",
       "      <td>Arizona</td>\n",
       "      <td>positive</td>\n",
       "      <td>5</td>\n",
       "    </tr>\n",
       "    <tr>\n",
       "      <th>3</th>\n",
       "      <td>California</td>\n",
       "      <td>negative</td>\n",
       "      <td>10</td>\n",
       "    </tr>\n",
       "    <tr>\n",
       "      <th>4</th>\n",
       "      <td>California</td>\n",
       "      <td>neutral</td>\n",
       "      <td>83</td>\n",
       "    </tr>\n",
       "    <tr>\n",
       "      <th>5</th>\n",
       "      <td>California</td>\n",
       "      <td>positive</td>\n",
       "      <td>109</td>\n",
       "    </tr>\n",
       "    <tr>\n",
       "      <th>6</th>\n",
       "      <td>Colorado</td>\n",
       "      <td>negative</td>\n",
       "      <td>2</td>\n",
       "    </tr>\n",
       "    <tr>\n",
       "      <th>7</th>\n",
       "      <td>Colorado</td>\n",
       "      <td>neutral</td>\n",
       "      <td>3</td>\n",
       "    </tr>\n",
       "    <tr>\n",
       "      <th>8</th>\n",
       "      <td>Colorado</td>\n",
       "      <td>positive</td>\n",
       "      <td>13</td>\n",
       "    </tr>\n",
       "    <tr>\n",
       "      <th>9</th>\n",
       "      <td>Connecticut</td>\n",
       "      <td>neutral</td>\n",
       "      <td>3</td>\n",
       "    </tr>\n",
       "  </tbody>\n",
       "</table>\n",
       "</div>"
      ],
      "text/plain": [
       "      US_State  polarity  count\n",
       "0      Alabama  positive      5\n",
       "1      Arizona   neutral      4\n",
       "2      Arizona  positive      5\n",
       "3   California  negative     10\n",
       "4   California   neutral     83\n",
       "5   California  positive    109\n",
       "6     Colorado  negative      2\n",
       "7     Colorado   neutral      3\n",
       "8     Colorado  positive     13\n",
       "9  Connecticut   neutral      3"
      ]
     },
     "execution_count": 117,
     "metadata": {},
     "output_type": "execute_result"
    }
   ],
   "source": [
    "new_Df.head(10)"
   ]
  },
  {
   "cell_type": "code",
   "execution_count": null,
   "metadata": {},
   "outputs": [],
   "source": []
  },
  {
   "cell_type": "code",
   "execution_count": 116,
   "metadata": {},
   "outputs": [],
   "source": [
    "us_state_abbrev = {\n",
    "    'Alabama': 'AL',\n",
    "    'Alaska': 'AK',\n",
    "    'Arizona': 'AZ',\n",
    "    'Arkansas': 'AR',\n",
    "    'California': 'CA',\n",
    "    'Colorado': 'CO',\n",
    "    'Connecticut': 'CT',\n",
    "    'Delaware': 'DE',\n",
    "    'Florida': 'FL',\n",
    "    'Georgia': 'GA',\n",
    "    'Hawaii': 'HI',\n",
    "    'Idaho': 'ID',\n",
    "    'Illinois': 'IL',\n",
    "    'Indiana': 'IN',\n",
    "    'Iowa': 'IA',\n",
    "    'Kansas': 'KS',\n",
    "    'Kentucky': 'KY',\n",
    "    'Louisiana': 'LA',\n",
    "    'Maine': 'ME',\n",
    "    'Maryland': 'MD',\n",
    "    'Massachusetts': 'MA',\n",
    "    'Michigan': 'MI',\n",
    "    'Minnesota': 'MN',\n",
    "    'Mississippi': 'MS',\n",
    "    'Missouri': 'MO',\n",
    "    'Montana': 'MT',\n",
    "    'Nebraska': 'NE',\n",
    "    'Nevada': 'NV',\n",
    "    'New Hampshire': 'NH',\n",
    "    'New Jersey': 'NJ',\n",
    "    'New Mexico': 'NM',\n",
    "    'New York': 'NY',\n",
    "    'North Carolina': 'NC',\n",
    "    'North Dakota': 'ND',\n",
    "    'Ohio': 'OH',\n",
    "    'Oklahoma': 'OK',\n",
    "    'Oregon': 'OR',\n",
    "    'Pennsylvania': 'PA',\n",
    "    'Rhode Island': 'RI',\n",
    "    'South Carolina': 'SC',\n",
    "    'South Dakota': 'SD',\n",
    "    'Tennessee': 'TN',\n",
    "    'Texas': 'TX',\n",
    "    'Utah': 'UT',\n",
    "    'Vermont': 'VT',\n",
    "    'Virginia': 'VA',\n",
    "    'Washington': 'WA',\n",
    "    'West Virginia': 'WV',\n",
    "    'Wisconsin': 'WI',\n",
    "    'Wyoming': 'WY',\n",
    "}"
   ]
  },
  {
   "cell_type": "code",
   "execution_count": 133,
   "metadata": {},
   "outputs": [],
   "source": [
    "d = {}\n",
    "for i in new_Df['US_State']:\n",
    "    ab = us_state_abbrev[i]\n",
    "    d[ab] = [{new_Df['polarity'][j]: new_Df['count'][j]} for j in new_Df[new_Df['US_State']==i].index]"
   ]
  },
  {
   "cell_type": "code",
   "execution_count": 134,
   "metadata": {},
   "outputs": [
    {
     "data": {
      "text/plain": [
       "{'AL': [{'positive': 5}],\n",
       " 'AZ': [{'neutral': 4}, {'positive': 5}],\n",
       " 'CA': [{'negative': 10}, {'neutral': 83}, {'positive': 109}],\n",
       " 'CO': [{'negative': 2}, {'neutral': 3}, {'positive': 13}],\n",
       " 'CT': [{'neutral': 3}],\n",
       " 'DE': [{'negative': 1}, {'positive': 1}],\n",
       " 'FL': [{'negative': 3}, {'neutral': 34}, {'positive': 35}],\n",
       " 'GA': [{'negative': 3}, {'neutral': 23}, {'positive': 8}],\n",
       " 'HI': [{'positive': 1}],\n",
       " 'IA': [{'negative': 1}, {'neutral': 2}, {'positive': 3}],\n",
       " 'ID': [{'positive': 1}],\n",
       " 'IL': [{'negative': 8}, {'neutral': 21}, {'positive': 30}],\n",
       " 'IN': [{'negative': 1}, {'neutral': 4}, {'positive': 3}],\n",
       " 'KS': [{'neutral': 4}, {'positive': 1}],\n",
       " 'LA': [{'negative': 1}, {'neutral': 3}],\n",
       " 'MA': [{'negative': 4}, {'neutral': 20}, {'positive': 32}],\n",
       " 'MD': [{'negative': 1}, {'neutral': 7}, {'positive': 9}],\n",
       " 'MI': [{'negative': 2}, {'neutral': 7}, {'positive': 8}],\n",
       " 'MN': [{'negative': 4}, {'neutral': 32}, {'positive': 81}],\n",
       " 'MO': [{'neutral': 1}, {'positive': 1}],\n",
       " 'MS': [{'neutral': 1}, {'positive': 2}],\n",
       " 'NC': [{'negative': 1}, {'neutral': 2}, {'positive': 10}],\n",
       " 'NE': [{'neutral': 2}, {'positive': 2}],\n",
       " 'NH': [{'negative': 1}, {'neutral': 11}, {'positive': 22}],\n",
       " 'NJ': [{'negative': 1}, {'neutral': 1}, {'positive': 6}],\n",
       " 'NM': [{'neutral': 4}, {'positive': 1}],\n",
       " 'NV': [{'neutral': 1}, {'positive': 1}],\n",
       " 'NY': [{'negative': 12}, {'neutral': 32}, {'positive': 54}],\n",
       " 'OH': [{'neutral': 7}, {'positive': 7}],\n",
       " 'OK': [{'positive': 1}],\n",
       " 'OR': [{'negative': 1}, {'neutral': 9}, {'positive': 14}],\n",
       " 'PA': [{'negative': 3}, {'neutral': 23}, {'positive': 24}],\n",
       " 'RI': [{'negative': 1}, {'neutral': 2}, {'positive': 8}],\n",
       " 'SC': [{'neutral': 1}, {'positive': 3}],\n",
       " 'SD': [{'negative': 1}],\n",
       " 'TN': [{'neutral': 1}, {'positive': 5}],\n",
       " 'TX': [{'negative': 1}, {'neutral': 37}, {'positive': 18}],\n",
       " 'WA': [{'negative': 17}, {'neutral': 57}, {'positive': 71}],\n",
       " 'WI': [{'negative': 1}, {'positive': 1}]}"
      ]
     },
     "execution_count": 134,
     "metadata": {},
     "output_type": "execute_result"
    }
   ],
   "source": [
    "d"
   ]
  },
  {
   "cell_type": "code",
   "execution_count": 136,
   "metadata": {},
   "outputs": [],
   "source": [
    "new_dictt = new_Df.groupby('US_State')[['polarity','count']].apply(lambda g: list(map(tuple, g.values.tolist()))).to_dict()"
   ]
  },
  {
   "cell_type": "code",
   "execution_count": 145,
   "metadata": {},
   "outputs": [],
   "source": [
    "# reegexed\n",
    "reggex = {'AL': {'positive': 5},\n",
    " 'AZ': {'neutral': 4, 'positive': 5},\n",
    " 'CA': {'negative': 10, 'neutral': 83, 'positive': 109},\n",
    " 'CO': {'negative': 2, 'neutral': 3, 'positive': 13},\n",
    " 'CT': {'neutral': 3},\n",
    " 'DE': {'negative': 1, 'positive': 1},\n",
    " 'FL': {'negative': 3, 'neutral': 34, 'positive': 35},\n",
    " 'GA': {'negative': 3, 'neutral': 23, 'positive': 8},\n",
    " 'HI': {'positive': 1},\n",
    " 'IA': {'negative': 1, 'neutral': 2, 'positive': 3},\n",
    " 'ID': {'positive': 1},\n",
    " 'IL': {'negative': 8, 'neutral': 21, 'positive': 30},\n",
    " 'IN': {'negative': 1, 'neutral': 4, 'positive': 3},\n",
    " 'KS': {'neutral': 4, 'positive': 1},\n",
    " 'LA': {'negative': 1, 'neutral': 3},\n",
    " 'MA': {'negative': 4, 'neutral': 20, 'positive': 32},\n",
    " 'MD': {'negative': 1, 'neutral': 7, 'positive': 9},\n",
    " 'MI': {'negative': 2, 'neutral': 7, 'positive': 8},\n",
    " 'MN': {'negative': 4, 'neutral': 32, 'positive': 81},\n",
    " 'MO': {'neutral': 1, 'positive': 1},\n",
    " 'MS': {'neutral': 1, 'positive': 2},\n",
    " 'NC': {'negative': 1, 'neutral': 2, 'positive': 10},\n",
    " 'NE': {'neutral': 2, 'positive': 2},\n",
    " 'NH': {'negative': 1, 'neutral': 11, 'positive': 22},\n",
    " 'NJ': {'negative': 1, 'neutral': 1, 'positive': 6},\n",
    " 'NM': {'neutral': 4, 'positive': 1},\n",
    " 'NV': {'neutral': 1, 'positive': 1},\n",
    " 'NY': {'negative': 12, 'neutral': 32, 'positive': 54},\n",
    " 'OH': {'neutral': 7, 'positive': 7},\n",
    " 'OK': {'positive': 1},\n",
    " 'OR': {'negative': 1, 'neutral': 9, 'positive': 14},\n",
    " 'PA': {'negative': 3, 'neutral': 23, 'positive': 24},\n",
    " 'RI': {'negative': 1, 'neutral': 2, 'positive': 8},\n",
    " 'SC': {'neutral': 1, 'positive': 3},\n",
    " 'SD': {'negative': 1},\n",
    " 'TN': {'neutral': 1, 'positive': 5},\n",
    " 'TX': {'negative': 1, 'neutral': 37, 'positive': 18},\n",
    " 'WA': {'negative': 17, 'neutral': 57, 'positive': 71},\n",
    " 'WI': {'negative': 1, 'positive': 1}\n",
    "         }"
   ]
  },
  {
   "cell_type": "code",
   "execution_count": 135,
   "metadata": {},
   "outputs": [
    {
     "data": {
      "text/plain": [
       "dict"
      ]
     },
     "execution_count": 135,
     "metadata": {},
     "output_type": "execute_result"
    }
   ],
   "source": [
    "type(reggex)"
   ]
  },
  {
   "cell_type": "code",
   "execution_count": 141,
   "metadata": {},
   "outputs": [
    {
     "name": "stdout",
     "output_type": "stream",
     "text": [
      "Arkansas\n",
      "West Virginia\n",
      "North Dakota\n",
      "Alaska\n",
      "Wyoming\n",
      "Utah\n",
      "Virginia\n",
      "Montana\n",
      "Vermont\n",
      "Kentucky\n",
      "Maine\n"
     ]
    }
   ],
   "source": [
    "for key in us_state_abbrev:\n",
    "    if key not in new_dictt:\n",
    "        print key"
   ]
  },
  {
   "cell_type": "code",
   "execution_count": 142,
   "metadata": {},
   "outputs": [],
   "source": [
    "li = [\"HI\", \"AK\", \"FL\", \"SC\", \"GA\", \"AL\", \"NC\", \"TN\", \"RI\", \"CT\", \"MA\", \"ME\", \"NH\", \"VT\", \"NY\", \"NJ\", \"PA\", \"DE\", \"MD\", \"WV\", \"KY\", \"OH\", \"MI\", \"WY\", \"MT\", \"ID\", \"WA\", \"DC\", \"TX\", \"CA\", \"AZ\", \"NV\", \"UT\",  \"CO\", \"NM\", \"OR\", \"ND\", \"SD\", \"NE\", \"IA\", \"MS\", \"IN\", \"IL\", \"MN\", \"WI\", \"MO\", \"AR\", \"OK\", \"KS\", \"LS\", \"VA\"]"
   ]
  },
  {
   "cell_type": "code",
   "execution_count": 146,
   "metadata": {},
   "outputs": [
    {
     "name": "stdout",
     "output_type": "stream",
     "text": [
      "AK\n",
      "ME\n",
      "VT\n",
      "WV\n",
      "KY\n",
      "WY\n",
      "MT\n",
      "DC\n",
      "UT\n",
      "ND\n",
      "AR\n",
      "LS\n",
      "VA\n"
     ]
    }
   ],
   "source": [
    "for i in li:\n",
    "    if i not in reggex:\n",
    "        print i"
   ]
  },
  {
   "cell_type": "code",
   "execution_count": 22,
   "metadata": {},
   "outputs": [
    {
     "data": {
      "text/plain": [
       "<bound method DataFrame.head of       Unnamed: 0                      created_at  \\\n",
       "0              8  Sun Aug 13 08:32:29 +0000 2017   \n",
       "1             13  Thu Aug 17 23:34:25 +0000 2017   \n",
       "2             16  Thu Aug 17 22:15:48 +0000 2017   \n",
       "3             44  Thu Aug 17 23:25:01 +0000 2017   \n",
       "4             46  Thu Aug 17 23:22:06 +0000 2017   \n",
       "5             51  Thu Aug 17 23:26:32 +0000 2017   \n",
       "6             64  Thu Aug 17 22:10:40 +0000 2017   \n",
       "7             67  Thu Aug 17 22:12:39 +0000 2017   \n",
       "8             75  Thu Aug 17 23:19:40 +0000 2017   \n",
       "9             76  Thu Aug 17 23:35:40 +0000 2017   \n",
       "10            85  Thu Aug 17 22:09:59 +0000 2017   \n",
       "11            91  Sun Aug 13 08:41:24 +0000 2017   \n",
       "12           102  Sun Aug 13 08:41:16 +0000 2017   \n",
       "13           105  Sun Aug 13 08:39:16 +0000 2017   \n",
       "14           109  Sun Aug 13 08:38:41 +0000 2017   \n",
       "15           126  Sun Aug 13 08:40:32 +0000 2017   \n",
       "16           127  Sun Aug 13 08:37:17 +0000 2017   \n",
       "17           129  Sun Aug 13 08:40:50 +0000 2017   \n",
       "18           143  Sun Aug 13 08:39:40 +0000 2017   \n",
       "19           147  Sun Aug 13 08:42:22 +0000 2017   \n",
       "20           171  Sun Aug 13 08:38:36 +0000 2017   \n",
       "21           176  Sun Aug 13 08:42:52 +0000 2017   \n",
       "22           179  Sun Aug 13 08:41:07 +0000 2017   \n",
       "23           183  Sun Aug 13 08:55:21 +0000 2017   \n",
       "24           190  Sun Aug 13 08:52:52 +0000 2017   \n",
       "25           194  Sun Aug 13 08:43:03 +0000 2017   \n",
       "26           211  Sun Aug 13 08:51:58 +0000 2017   \n",
       "27           218  Sun Aug 13 08:44:43 +0000 2017   \n",
       "28           219  Sun Aug 13 08:44:04 +0000 2017   \n",
       "29           220  Sun Aug 13 08:43:21 +0000 2017   \n",
       "...          ...                             ...   \n",
       "4379       29407  Sat Aug 12 04:53:01 +0000 2017   \n",
       "4380       29414  Sat Aug 12 04:48:57 +0000 2017   \n",
       "4381       29415  Sat Aug 12 04:53:09 +0000 2017   \n",
       "4382       29419  Sat Aug 12 04:51:36 +0000 2017   \n",
       "4383       29422  Sat Aug 12 04:50:15 +0000 2017   \n",
       "4384       29431  Sat Aug 12 04:52:44 +0000 2017   \n",
       "4385       29432  Sat Aug 12 04:49:43 +0000 2017   \n",
       "4386       29434  Sat Aug 12 04:50:27 +0000 2017   \n",
       "4387       29440  Sat Aug 12 04:49:58 +0000 2017   \n",
       "4388       29447  Sat Aug 12 04:51:09 +0000 2017   \n",
       "4389       29451  Sat Aug 12 04:54:41 +0000 2017   \n",
       "4390       29453  Sat Aug 12 04:53:11 +0000 2017   \n",
       "4391       29461  Sat Aug 12 04:58:27 +0000 2017   \n",
       "4392       29463  Sat Aug 12 04:54:55 +0000 2017   \n",
       "4393       29468  Sat Aug 12 04:57:01 +0000 2017   \n",
       "4394       29471  Sat Aug 12 04:58:13 +0000 2017   \n",
       "4395       29473  Sat Aug 12 04:54:56 +0000 2017   \n",
       "4396       29474  Sat Aug 12 04:59:01 +0000 2017   \n",
       "4397       29475  Sat Aug 12 04:58:23 +0000 2017   \n",
       "4398       29483  Sat Aug 12 04:58:26 +0000 2017   \n",
       "4399       29495  Sat Aug 12 04:56:16 +0000 2017   \n",
       "4400       29497  Sat Aug 12 04:58:43 +0000 2017   \n",
       "4401       29498  Sat Aug 12 04:56:49 +0000 2017   \n",
       "4402       29500  Sat Aug 12 04:55:43 +0000 2017   \n",
       "4403       29501  Sat Aug 12 04:56:42 +0000 2017   \n",
       "4404       29502  Sat Aug 12 04:57:21 +0000 2017   \n",
       "4405       29505  Sat Aug 12 04:58:11 +0000 2017   \n",
       "4406       29506  Sat Aug 12 04:59:36 +0000 2017   \n",
       "4407       29508  Sat Aug 12 04:57:57 +0000 2017   \n",
       "4408       29509  Sat Aug 12 04:56:18 +0000 2017   \n",
       "\n",
       "                                               hashtags  \\\n",
       "0                                      women WITBragDay   \n",
       "1                                            WITBragDay   \n",
       "2                                            WITBragDay   \n",
       "3                                            WITBragDay   \n",
       "4                                            WITBragDay   \n",
       "5                                            WITBragDay   \n",
       "6                                            WITBragDay   \n",
       "7                                            WITBragDay   \n",
       "8                                            WITBragDay   \n",
       "9                                                   NaN   \n",
       "10                                           WITBragDay   \n",
       "11                                                  NaN   \n",
       "12                                           WITBragDay   \n",
       "13                                                  NaN   \n",
       "14                                           WITBragDay   \n",
       "15                                           WiTBragDay   \n",
       "16    sociologist FE Developer PyCodeCarrots GirlsJS...   \n",
       "17                                           WITBragDay   \n",
       "18                                           WITBragDay   \n",
       "19                                                  NaN   \n",
       "20                                           WITBragDay   \n",
       "21                                WITBragDay WITfangirl   \n",
       "22                                           WITBragDay   \n",
       "23                                                  NaN   \n",
       "24                                                  NaN   \n",
       "25                                           WITBragDay   \n",
       "26                                           WITBragDay   \n",
       "27                                           WITBragDay   \n",
       "28                WITBragDay RandomHacks RHoKDelhi RHoK   \n",
       "29                                           WITBragDay   \n",
       "...                                                 ...   \n",
       "4379                 MomsCanCode MomHero MomInspiration   \n",
       "4380                                                NaN   \n",
       "4381                                         WITBragDay   \n",
       "4382                                         WITBragDay   \n",
       "4383                                         WITBragDay   \n",
       "4384                                         WITBragDay   \n",
       "4385                                   grit Inspiration   \n",
       "4386                                         WITBragDay   \n",
       "4387                                         WITBragDay   \n",
       "4388                                OSSummit WITBragDay   \n",
       "4389                                                NaN   \n",
       "4390                                         WITBragDay   \n",
       "4391                                         WITBragDay   \n",
       "4392                                         WITBragDay   \n",
       "4393                                         WITBragDay   \n",
       "4394                                         WITBragDay   \n",
       "4395                              WITBragDay PassTheMic   \n",
       "4396                                         WITBragDay   \n",
       "4397                                         WITBragDay   \n",
       "4398                                         WITBragDay   \n",
       "4399                                         WITBragDay   \n",
       "4400                                         WITBragDay   \n",
       "4401                                         WITBragDay   \n",
       "4402                                         WITBragDay   \n",
       "4403                                         WITBragDay   \n",
       "4404                                         WITBragDay   \n",
       "4405                                                NaN   \n",
       "4406                               Agile2017 WITBragDay   \n",
       "4407                               Agile2017 WITBragDay   \n",
       "4408                                         WitBragDay   \n",
       "\n",
       "                                                   text  favorite_count lang  \\\n",
       "0     3 degrees in building industry and they reject...               9   en   \n",
       "1     @azimman @LaunchDarkly sounds like you should ...               1   en   \n",
       "2     My coding knowledge makes a difference and imp...               6   en   \n",
       "3     Built a ECS JSON-generating container definiti...               3   en   \n",
       "4     Recruiters should definitely be scrolling thro...             203   en   \n",
       "5     Started a company doing DevOps consulting. Sti...              22   en   \n",
       "6     I just learned about #WITBragDay and wish I wo...               0   en   \n",
       "7     👍🏻\\nRT @matthewbretten: @ColetteWeston @drje...               2   en   \n",
       "8     So happy to hear women getting recruiter pings...             214   en   \n",
       "9                         Yayyy https://t.co/lg9Hsns7m8               1  und   \n",
       "10    @ColetteWeston @drjessicabarker Definitely a #...               2   en   \n",
       "11                    Booooommm https://t.co/yuGUkvYezZ               1  und   \n",
       "12    Just reading tweets from #WITBragDay fires me ...               7   en   \n",
       "13    Women in tech. Take that Google dude. https://...               0   en   \n",
       "14    I love reading the #WITBragDay stream, enviabl...               2   en   \n",
       "15                 All the tweets on #WiTBragDay are 😍               6   en   \n",
       "16    I'm #sociologist &amp; #FE #Developer 💖Organi...               5   en   \n",
       "17    Started career in IT as coder and moved on to ...              12   en   \n",
       "18    I completed a degree in computer science and n...               5   en   \n",
       "19    Pour ceux qui proclament que les femmes ne sav...               0   fr   \n",
       "20    Check out all the awesome accomplishments unde...               2   en   \n",
       "21    #WITBragDay is amazing, so many incredible wom...               2   en   \n",
       "22    I'm the first female programmer in my family a...              36   en   \n",
       "23                 Stay winning https://t.co/qPs5kj0gJd               0   en   \n",
       "24    This is the kind of thread I wanna read 🙌🏽😍...               1   en   \n",
       "25    Everyone needs to follow the #WITBragDay. Is a...              10   en   \n",
       "26    If you haven't seen it yet, #WITBragDay is a g...               5   en   \n",
       "27    I very much enjoyed #WITBragDay! Thanks for al...               3   en   \n",
       "28    Who says girls can't code ?! #WITBragDay  #Ran...               5   en   \n",
       "29                   Check out this hashtag #WITBragDay               3   en   \n",
       "...                                                 ...             ...  ...   \n",
       "4379  More moms like @CedarMoore1 = more sons like @...               2   en   \n",
       "4380                       👏👏 https://t.co/WosIEtNCgw               1  und   \n",
       "4381  If you haven't, make sure to check #WITBragDay...               5   en   \n",
       "4382  #WITBragDay have talked on the radio about tec...              12   en   \n",
       "4383  @AlexAtkins17 @msandfor @JoSaundersAU @SparkeS...               2   en   \n",
       "4384  #WITBragDay regularly speak on panels or as a ...               3   en   \n",
       "4385         #grit #Inspiration https://t.co/blyXlcdIzW               0  und   \n",
       "4386  @jenndox #WITBragDay I was in AIX Base O/S sec...               5   en   \n",
       "4387  Worked for an incredible woman CEO at @getsati...               9   en   \n",
       "4388  And I'll be giving a talk at #OSSummit one mon...              19   en   \n",
       "4389  This is a wonderful thread 👏 https://t.co/PON...               1   en   \n",
       "4390  Had some fun years making Panopto work with al...               2   en   \n",
       "4391  #WITBragDay successfully created a diverse bus...               4   en   \n",
       "4392                           @waynesutton #WITBragDay               8  und   \n",
       "4393  Few years ago CPK wouldn't hire me --- three y...              16   en   \n",
       "4394  #WITBragDay lost weight to get healthy, had he...               2   en   \n",
       "4395  #WITBragDay #PassTheMic and lift other women u...              11   en   \n",
       "4396  I work in infosec. I didn't get here the conve...              33   en   \n",
       "4397  I founded an organization for which I was CTO ...              11   en   \n",
       "4398  Read this, if you want a big smile on your fac...              10   en   \n",
       "4399  Helped with building products that drive the i...               5   en   \n",
       "4400  @SaraJChipps love your profile code. Gives me ...               1   en   \n",
       "4401  Fav part of #WITBragDay?Encouraging others w/m...              43   en   \n",
       "4402  Afghan refugee who didn't speak English in '83...              11   en   \n",
       "4403  I'm not a woman in tech and I don't know how t...               3   en   \n",
       "4404  Pivot! And PivotViewer. Built by some awesome ...               6   en   \n",
       "4405           Yup. 🌟🌟🌟🌟🌟\\nhttps://t.co/guumEwXFkS               4  und   \n",
       "4406  We presented at #Agile2017 #WITBragDay @mhwill...               7   en   \n",
       "4407  We presented at #Agile2017 #WITBragDay @AshCol...              19   en   \n",
       "4408                @waynesutton #WitBragDay definitely               2   en   \n",
       "\n",
       "                    place                                   user_location  \\\n",
       "0                     NaN                                 Wroclaw, Poland   \n",
       "1                     NaN                                  /usr/local/sin   \n",
       "2                     NaN                                  Zionsville, IN   \n",
       "3                     NaN                        Wellington, New Zealand    \n",
       "4                     NaN                                  /usr/local/sin   \n",
       "5                     NaN                        Wellington, New Zealand    \n",
       "6                     NaN                                  Zionsville, IN   \n",
       "7                     NaN  Preston, Lancs, England, Europe, The World👍🏻   \n",
       "8                     NaN                                  /usr/local/sin   \n",
       "9                     NaN                                             NaN   \n",
       "10                    NaN                             North West, England   \n",
       "11                    NaN                         Cape Town, South Africa   \n",
       "12                    NaN                                 Kigali, Rwanda    \n",
       "13                    NaN                                        Adelaide   \n",
       "14                    NaN                                 Zagreb, Croatia   \n",
       "15                    NaN                       Bombay - Delhi - Calcutta   \n",
       "16                    NaN                                          Poznań   \n",
       "17                    NaN                                  Chennai, India   \n",
       "18                    NaN                               Jerusalem, Israel   \n",
       "19                    NaN                                             NaN   \n",
       "20                    NaN                                   Malmö, Sweden   \n",
       "21                    NaN                               Jerusalem, Israel   \n",
       "22       Bengaluru, India                                              🌏   \n",
       "23                    NaN                                             NaN   \n",
       "24                    NaN                                             NaN   \n",
       "25                    NaN                                   Mumbai, India   \n",
       "26                    NaN                             Brisbane, Australia   \n",
       "27                    NaN                                             NaN   \n",
       "28                    NaN                                            🇮🇳   \n",
       "29           San Jose, CA                                    San Jose, CA   \n",
       "...                   ...                                             ...   \n",
       "4379                  NaN                                          Global   \n",
       "4380                  NaN                         England, United Kingdom   \n",
       "4381  Kungsbacka, Sverige                                   Malmo, Sweden   \n",
       "4382                  NaN                                       Australia   \n",
       "4383                  NaN                                       Australia   \n",
       "4384                  NaN                                       Australia   \n",
       "4385                  NaN                                Hyderabad, India   \n",
       "4386                  NaN                                      Texas, USA   \n",
       "4387                  NaN                                         Seattle   \n",
       "4388                  NaN                                        Bay Area   \n",
       "4389                  NaN                                     SF Bay Area   \n",
       "4390                  NaN                                         Seattle   \n",
       "4391                  NaN                                       Australia   \n",
       "4392                  NaN                                     Montara, CA   \n",
       "4393                  NaN                                     raleigh, nc   \n",
       "4394            Chico, CA                                       Chico, CA   \n",
       "4395                  NaN                                       Australia   \n",
       "4396                  NaN                                       The Cloud   \n",
       "4397                  NaN                               San Francisco, CA   \n",
       "4398                  NaN                                             NaN   \n",
       "4399                  NaN                                  Menlo Park, CA   \n",
       "4400                  NaN                                             NaN   \n",
       "4401                  NaN                                  Pittsburgh, PA   \n",
       "4402                  NaN                               San Francisco, CA   \n",
       "4403                  NaN                               USA. Subtropical.   \n",
       "4404                  NaN                                         Seattle   \n",
       "4405          Houston, TX                                         Houston   \n",
       "4406                  NaN                                     Atlanta, GA   \n",
       "4407                  NaN                                     Atlanta, GA   \n",
       "4408                  NaN                                     Oakland, CA   \n",
       "\n",
       "      retweet_count  retweet_screen_name                 date  \n",
       "0                 2                  NaN  2017-08-13 08:32:29  \n",
       "1                 0                  NaN  2017-08-17 23:34:25  \n",
       "2                 2                  NaN  2017-08-17 22:15:48  \n",
       "3                 2                  NaN  2017-08-17 23:25:01  \n",
       "4                76                  NaN  2017-08-17 23:22:06  \n",
       "5                 2                  NaN  2017-08-17 23:26:32  \n",
       "6                 1                  NaN  2017-08-17 22:10:40  \n",
       "7                 0                  NaN  2017-08-17 22:12:39  \n",
       "8                25                  NaN  2017-08-17 23:19:40  \n",
       "9                 0                  NaN  2017-08-17 23:35:40  \n",
       "10                0                  NaN  2017-08-17 22:09:59  \n",
       "11                0                  NaN  2017-08-13 08:41:24  \n",
       "12                0                  NaN  2017-08-13 08:41:16  \n",
       "13                0                  NaN  2017-08-13 08:39:16  \n",
       "14                1                  NaN  2017-08-13 08:38:41  \n",
       "15                0                  NaN  2017-08-13 08:40:32  \n",
       "16                1                  NaN  2017-08-13 08:37:17  \n",
       "17                2                  NaN  2017-08-13 08:40:50  \n",
       "18                1                  NaN  2017-08-13 08:39:40  \n",
       "19                0                  NaN  2017-08-13 08:42:22  \n",
       "20                0                  NaN  2017-08-13 08:38:36  \n",
       "21                0                  NaN  2017-08-13 08:42:52  \n",
       "22                8                  NaN  2017-08-13 08:41:07  \n",
       "23                0                  NaN  2017-08-13 08:55:21  \n",
       "24                0                  NaN  2017-08-13 08:52:52  \n",
       "25                5                  NaN  2017-08-13 08:43:03  \n",
       "26                0                  NaN  2017-08-13 08:51:58  \n",
       "27                0                  NaN  2017-08-13 08:44:43  \n",
       "28                2                  NaN  2017-08-13 08:44:04  \n",
       "29                0                  NaN  2017-08-13 08:43:21  \n",
       "...             ...                  ...                  ...  \n",
       "4379              0                  NaN  2017-08-12 04:53:01  \n",
       "4380              0                  NaN  2017-08-12 04:48:57  \n",
       "4381              0                  NaN  2017-08-12 04:53:09  \n",
       "4382              3                  NaN  2017-08-12 04:51:36  \n",
       "4383              0                  NaN  2017-08-12 04:50:15  \n",
       "4384              1                  NaN  2017-08-12 04:52:44  \n",
       "4385              0                  NaN  2017-08-12 04:49:43  \n",
       "4386              4                  NaN  2017-08-12 04:50:27  \n",
       "4387              0                  NaN  2017-08-12 04:49:58  \n",
       "4388              6                  NaN  2017-08-12 04:51:09  \n",
       "4389              0                  NaN  2017-08-12 04:54:41  \n",
       "4390              0                  NaN  2017-08-12 04:53:11  \n",
       "4391              0                  NaN  2017-08-12 04:58:27  \n",
       "4392              0                  NaN  2017-08-12 04:54:55  \n",
       "4393              4                  NaN  2017-08-12 04:57:01  \n",
       "4394              0                  NaN  2017-08-12 04:58:13  \n",
       "4395              6                  NaN  2017-08-12 04:54:56  \n",
       "4396              5                  NaN  2017-08-12 04:59:01  \n",
       "4397              3                  NaN  2017-08-12 04:58:23  \n",
       "4398              9                  NaN  2017-08-12 04:58:26  \n",
       "4399              2                  NaN  2017-08-12 04:56:16  \n",
       "4400              0                  NaN  2017-08-12 04:58:43  \n",
       "4401              4                  NaN  2017-08-12 04:56:49  \n",
       "4402              3                  NaN  2017-08-12 04:55:43  \n",
       "4403              0                  NaN  2017-08-12 04:56:42  \n",
       "4404              0                  NaN  2017-08-12 04:57:21  \n",
       "4405              0                  NaN  2017-08-12 04:58:11  \n",
       "4406              4                  NaN  2017-08-12 04:59:36  \n",
       "4407             10                  NaN  2017-08-12 04:57:57  \n",
       "4408              0                  NaN  2017-08-12 04:56:18  \n",
       "\n",
       "[4409 rows x 11 columns]>"
      ]
     },
     "execution_count": 22,
     "metadata": {},
     "output_type": "execute_result"
    }
   ],
   "source": []
  },
  {
   "cell_type": "code",
   "execution_count": 69,
   "metadata": {},
   "outputs": [
    {
     "data": {
      "text/html": [
       "<div>\n",
       "<style scoped>\n",
       "    .dataframe tbody tr th:only-of-type {\n",
       "        vertical-align: middle;\n",
       "    }\n",
       "\n",
       "    .dataframe tbody tr th {\n",
       "        vertical-align: top;\n",
       "    }\n",
       "\n",
       "    .dataframe thead th {\n",
       "        text-align: right;\n",
       "    }\n",
       "</style>\n",
       "<table border=\"1\" class=\"dataframe\">\n",
       "  <thead>\n",
       "    <tr style=\"text-align: right;\">\n",
       "      <th></th>\n",
       "      <th>Unnamed: 0</th>\n",
       "      <th>Unnamed: 0.1</th>\n",
       "      <th>created_at</th>\n",
       "      <th>hashtags</th>\n",
       "      <th>text</th>\n",
       "      <th>favorite_count</th>\n",
       "      <th>lang</th>\n",
       "      <th>place</th>\n",
       "      <th>user_location</th>\n",
       "      <th>retweet_count</th>\n",
       "      <th>retweet_screen_name</th>\n",
       "      <th>date</th>\n",
       "      <th>sentiment</th>\n",
       "      <th>polarity</th>\n",
       "      <th>US_State</th>\n",
       "    </tr>\n",
       "  </thead>\n",
       "  <tbody>\n",
       "    <tr>\n",
       "      <th>3</th>\n",
       "      <td>3</td>\n",
       "      <td>44</td>\n",
       "      <td>Thu Aug 17 23:25:01 +0000 2017</td>\n",
       "      <td>WITBragDay</td>\n",
       "      <td>Built a ECS JSON-generating container definiti...</td>\n",
       "      <td>3</td>\n",
       "      <td>en</td>\n",
       "      <td>NaN</td>\n",
       "      <td>Wellington, New Zealand</td>\n",
       "      <td>2</td>\n",
       "      <td>NaN</td>\n",
       "      <td>2017-08-17 23:25:01</td>\n",
       "      <td>Sentiment(polarity=0.0, subjectivity=0.625)</td>\n",
       "      <td>neutral</td>\n",
       "      <td>Florida</td>\n",
       "    </tr>\n",
       "    <tr>\n",
       "      <th>5</th>\n",
       "      <td>5</td>\n",
       "      <td>51</td>\n",
       "      <td>Thu Aug 17 23:26:32 +0000 2017</td>\n",
       "      <td>WITBragDay</td>\n",
       "      <td>Started a company doing DevOps consulting. Sti...</td>\n",
       "      <td>22</td>\n",
       "      <td>en</td>\n",
       "      <td>NaN</td>\n",
       "      <td>Wellington, New Zealand</td>\n",
       "      <td>2</td>\n",
       "      <td>NaN</td>\n",
       "      <td>2017-08-17 23:26:32</td>\n",
       "      <td>Sentiment(polarity=0.8, subjectivity=1.0)</td>\n",
       "      <td>positive</td>\n",
       "      <td>Florida</td>\n",
       "    </tr>\n",
       "  </tbody>\n",
       "</table>\n",
       "</div>"
      ],
      "text/plain": [
       "   Unnamed: 0  Unnamed: 0.1                      created_at    hashtags  \\\n",
       "3           3            44  Thu Aug 17 23:25:01 +0000 2017  WITBragDay   \n",
       "5           5            51  Thu Aug 17 23:26:32 +0000 2017  WITBragDay   \n",
       "\n",
       "                                                text  favorite_count lang  \\\n",
       "3  Built a ECS JSON-generating container definiti...               3   en   \n",
       "5  Started a company doing DevOps consulting. Sti...              22   en   \n",
       "\n",
       "  place             user_location  retweet_count  retweet_screen_name  \\\n",
       "3   NaN  Wellington, New Zealand               2                  NaN   \n",
       "5   NaN  Wellington, New Zealand               2                  NaN   \n",
       "\n",
       "                  date                                    sentiment  polarity  \\\n",
       "3  2017-08-17 23:25:01  Sentiment(polarity=0.0, subjectivity=0.625)   neutral   \n",
       "5  2017-08-17 23:26:32    Sentiment(polarity=0.8, subjectivity=1.0)  positive   \n",
       "\n",
       "  US_State  \n",
       "3  Florida  \n",
       "5  Florida  "
      ]
     },
     "execution_count": 69,
     "metadata": {},
     "output_type": "execute_result"
    }
   ],
   "source": [
    "# sentiment overtime and sentiment breakdown\n",
    "df.head(2)"
   ]
  },
  {
   "cell_type": "code",
   "execution_count": 70,
   "metadata": {},
   "outputs": [
    {
     "data": {
      "text/plain": [
       "polarity\n",
       "negative     81\n",
       "neutral     442\n",
       "positive    596\n",
       "dtype: int64"
      ]
     },
     "execution_count": 70,
     "metadata": {},
     "output_type": "execute_result"
    }
   ],
   "source": [
    "df.groupby([\"polarity\"]).size()"
   ]
  },
  {
   "cell_type": "code",
   "execution_count": 75,
   "metadata": {},
   "outputs": [],
   "source": [
    "df['NDate'] = pd.to_datetime(df['date'])"
   ]
  },
  {
   "cell_type": "code",
   "execution_count": 76,
   "metadata": {},
   "outputs": [],
   "source": [
    "df['NDate'] = df['NDate'].dt.strftime('%Y-%m-%d')"
   ]
  },
  {
   "cell_type": "code",
   "execution_count": 77,
   "metadata": {},
   "outputs": [
    {
     "data": {
      "text/html": [
       "<div>\n",
       "<style scoped>\n",
       "    .dataframe tbody tr th:only-of-type {\n",
       "        vertical-align: middle;\n",
       "    }\n",
       "\n",
       "    .dataframe tbody tr th {\n",
       "        vertical-align: top;\n",
       "    }\n",
       "\n",
       "    .dataframe thead th {\n",
       "        text-align: right;\n",
       "    }\n",
       "</style>\n",
       "<table border=\"1\" class=\"dataframe\">\n",
       "  <thead>\n",
       "    <tr style=\"text-align: right;\">\n",
       "      <th></th>\n",
       "      <th>Unnamed: 0</th>\n",
       "      <th>Unnamed: 0.1</th>\n",
       "      <th>created_at</th>\n",
       "      <th>hashtags</th>\n",
       "      <th>text</th>\n",
       "      <th>favorite_count</th>\n",
       "      <th>lang</th>\n",
       "      <th>place</th>\n",
       "      <th>user_location</th>\n",
       "      <th>retweet_count</th>\n",
       "      <th>retweet_screen_name</th>\n",
       "      <th>date</th>\n",
       "      <th>sentiment</th>\n",
       "      <th>polarity</th>\n",
       "      <th>US_State</th>\n",
       "      <th>NDate</th>\n",
       "    </tr>\n",
       "  </thead>\n",
       "  <tbody>\n",
       "    <tr>\n",
       "      <th>3</th>\n",
       "      <td>3</td>\n",
       "      <td>44</td>\n",
       "      <td>Thu Aug 17 23:25:01 +0000 2017</td>\n",
       "      <td>WITBragDay</td>\n",
       "      <td>Built a ECS JSON-generating container definiti...</td>\n",
       "      <td>3</td>\n",
       "      <td>en</td>\n",
       "      <td>NaN</td>\n",
       "      <td>Wellington, New Zealand</td>\n",
       "      <td>2</td>\n",
       "      <td>NaN</td>\n",
       "      <td>2017-08-17 23:25:01</td>\n",
       "      <td>Sentiment(polarity=0.0, subjectivity=0.625)</td>\n",
       "      <td>neutral</td>\n",
       "      <td>Florida</td>\n",
       "      <td>2017-08-17</td>\n",
       "    </tr>\n",
       "    <tr>\n",
       "      <th>5</th>\n",
       "      <td>5</td>\n",
       "      <td>51</td>\n",
       "      <td>Thu Aug 17 23:26:32 +0000 2017</td>\n",
       "      <td>WITBragDay</td>\n",
       "      <td>Started a company doing DevOps consulting. Sti...</td>\n",
       "      <td>22</td>\n",
       "      <td>en</td>\n",
       "      <td>NaN</td>\n",
       "      <td>Wellington, New Zealand</td>\n",
       "      <td>2</td>\n",
       "      <td>NaN</td>\n",
       "      <td>2017-08-17 23:26:32</td>\n",
       "      <td>Sentiment(polarity=0.8, subjectivity=1.0)</td>\n",
       "      <td>positive</td>\n",
       "      <td>Florida</td>\n",
       "      <td>2017-08-17</td>\n",
       "    </tr>\n",
       "  </tbody>\n",
       "</table>\n",
       "</div>"
      ],
      "text/plain": [
       "   Unnamed: 0  Unnamed: 0.1                      created_at    hashtags  \\\n",
       "3           3            44  Thu Aug 17 23:25:01 +0000 2017  WITBragDay   \n",
       "5           5            51  Thu Aug 17 23:26:32 +0000 2017  WITBragDay   \n",
       "\n",
       "                                                text  favorite_count lang  \\\n",
       "3  Built a ECS JSON-generating container definiti...               3   en   \n",
       "5  Started a company doing DevOps consulting. Sti...              22   en   \n",
       "\n",
       "  place             user_location  retweet_count  retweet_screen_name  \\\n",
       "3   NaN  Wellington, New Zealand               2                  NaN   \n",
       "5   NaN  Wellington, New Zealand               2                  NaN   \n",
       "\n",
       "                  date                                    sentiment  polarity  \\\n",
       "3  2017-08-17 23:25:01  Sentiment(polarity=0.0, subjectivity=0.625)   neutral   \n",
       "5  2017-08-17 23:26:32    Sentiment(polarity=0.8, subjectivity=1.0)  positive   \n",
       "\n",
       "  US_State       NDate  \n",
       "3  Florida  2017-08-17  \n",
       "5  Florida  2017-08-17  "
      ]
     },
     "execution_count": 77,
     "metadata": {},
     "output_type": "execute_result"
    }
   ],
   "source": [
    "df.head(2)"
   ]
  },
  {
   "cell_type": "code",
   "execution_count": 78,
   "metadata": {},
   "outputs": [
    {
     "data": {
      "text/plain": [
       "NDate       polarity\n",
       "2017-08-12  negative     47\n",
       "            neutral     298\n",
       "            positive    434\n",
       "2017-08-13  negative     12\n",
       "            neutral      81\n",
       "            positive     93\n",
       "2017-08-14  negative     11\n",
       "            neutral      29\n",
       "            positive     39\n",
       "2017-08-15  negative      5\n",
       "            neutral      22\n",
       "            positive     15\n",
       "2017-08-16  negative      3\n",
       "            neutral       6\n",
       "            positive      7\n",
       "2017-08-17  negative      3\n",
       "            neutral       6\n",
       "            positive      8\n",
       "dtype: int64"
      ]
     },
     "execution_count": 78,
     "metadata": {},
     "output_type": "execute_result"
    }
   ],
   "source": [
    "df.groupby([\"NDate\", \"polarity\"]).size()"
   ]
  },
  {
   "cell_type": "code",
   "execution_count": 80,
   "metadata": {},
   "outputs": [
    {
     "data": {
      "text/plain": [
       "<matplotlib.figure.Figure at 0x1162acad0>"
      ]
     },
     "metadata": {},
     "output_type": "display_data"
    }
   ],
   "source": [
    "import matplotlib.pyplot as plt\n",
    "Time = [\"2017-08-12\", \"2017-08-13\", \"2017-08-14\", \"2017-08-15\", \"2017-08-16\", \"2017-08-17\"]\n",
    "count_negative = [47, 12, 11, 5, 3, 3]\n",
    "count_neutral = [298, 81, 29, 22, 6, 6]\n",
    "count_positive = [434, 93, 39, 15, 7, 8]\n",
    "\n"
   ]
  },
  {
   "cell_type": "code",
   "execution_count": 84,
   "metadata": {},
   "outputs": [
    {
     "data": {
      "text/plain": [
       "[]"
      ]
     },
     "execution_count": 84,
     "metadata": {},
     "output_type": "execute_result"
    },
    {
     "data": {
      "image/png": "[encoded data removed]",
      "text/plain": [
       "<matplotlib.figure.Figure at 0x112f0a7d0>"
      ]
     },
     "metadata": {},
     "output_type": "display_data"
    }
   ],
   "source": [
    "plt.plot()"
   ]
  },
  {
   "cell_type": "code",
   "execution_count": 91,
   "metadata": {},
   "outputs": [
    {
     "data": {
      "text/plain": [
       "[<matplotlib.lines.Line2D at 0x118b08090>]"
      ]
     },
     "execution_count": 91,
     "metadata": {},
     "output_type": "execute_result"
    },
    {
     "data": {
      "image/png": "[encoded data removed]",
      "text/plain": [
       "<matplotlib.figure.Figure at 0x118da8150>"
      ]
     },
     "metadata": {},
     "output_type": "display_data"
    }
   ],
   "source": [
    "plt.plot(Time, count_negative, color='r')\n",
    "plt.plot(Time, count_neutral, color='grey')\n",
    "plt.plot(Time, count_positive, color='g')\n"
   ]
  },
  {
   "cell_type": "code",
   "execution_count": 86,
   "metadata": {},
   "outputs": [
    {
     "data": {
      "text/plain": [
       "[<matplotlib.lines.Line2D at 0x118c7e410>]"
      ]
     },
     "execution_count": 86,
     "metadata": {},
     "output_type": "execute_result"
    },
    {
     "data": {
      "image/png": "[encoded data removed]",
      "text/plain": [
       "<matplotlib.figure.Figure at 0x118b34a90>"
      ]
     },
     "metadata": {},
     "output_type": "display_data"
    }
   ],
   "source": []
  },
  {
   "cell_type": "code",
   "execution_count": 87,
   "metadata": {},
   "outputs": [
    {
     "data": {
      "text/plain": [
       "[<matplotlib.lines.Line2D at 0x118d65fd0>]"
      ]
     },
     "execution_count": 87,
     "metadata": {},
     "output_type": "execute_result"
    },
    {
     "data": {
      "image/png": "[encoded data removed]",
      "text/plain": [
       "<matplotlib.figure.Figure at 0x118cb6ed0>"
      ]
     },
     "metadata": {},
     "output_type": "display_data"
    }
   ],
   "source": [
    "plt.plot(Time, count_positive, color='g')\n"
   ]
  },
  {
   "cell_type": "code",
   "execution_count": 89,
   "metadata": {},
   "outputs": [
    {
     "data": {
      "text/plain": [
       "<function matplotlib.pyplot.show>"
      ]
     },
     "execution_count": 89,
     "metadata": {},
     "output_type": "execute_result"
    }
   ],
   "source": [
    "plt.show"
   ]
  },
  {
   "cell_type": "code",
   "execution_count": null,
   "metadata": {},
   "outputs": [],
   "source": []
  }
 ],
 "metadata": {
  "celltoolbar": "Raw Cell Format",
  "kernelspec": {
   "display_name": "Python 2",
   "language": "python",
   "name": "python2"
  },
  "language_info": {
   "codemirror_mode": {
    "name": "ipython",
    "version": 2
   },
   "file_extension": ".py",
   "mimetype": "text/x-python",
   "name": "python",
   "nbconvert_exporter": "python",
   "pygments_lexer": "ipython2",
   "version": "2.7.14"
  }
 },
 "nbformat": 4,
 "nbformat_minor": 2
}
