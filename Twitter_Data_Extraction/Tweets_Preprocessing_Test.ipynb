{
 "cells": [
  {
   "cell_type": "code",
   "execution_count": 23,
   "metadata": {},
   "outputs": [],
   "source": [
    "# Created By Rupesh Basnet\n",
    "# Testing out some pre-existing resources for pre-processing the tweets for WITBragDay as a framework for other \n",
    "# past events\n",
    "# coding: utf-8"
   ]
  },
  {
   "cell_type": "code",
   "execution_count": 1,
   "metadata": {},
   "outputs": [],
   "source": [
    "import csv\n",
    "import nltk\n",
    "import pandas as pd"
   ]
  },
  {
   "cell_type": "code",
   "execution_count": 122,
   "metadata": {},
   "outputs": [],
   "source": [
    "data = pd.read_csv(\"WITBragDay.csv\", sep=',', error_bad_lines=False, index_col=False, dtype='unicode')"
   ]
  },
  {
   "cell_type": "code",
   "execution_count": 123,
   "metadata": {},
   "outputs": [
    {
     "data": {
      "text/plain": [
       "Index([u'coordinates', u'created_at', u'hashtags', u'media', u'urls',\n",
       "       u'favorite_count', u'id', u'in_reply_to_screen_name',\n",
       "       u'in_reply_to_status_id', u'in_reply_to_user_id', u'lang', u'place',\n",
       "       u'possibly_sensitive', u'retweet_count', u'reweet_id',\n",
       "       u'retweet_screen_name', u'source', u'text', u'tweet_url',\n",
       "       u'user_created_at', u'user_screen_name', u'user_default_profile_image',\n",
       "       u'user_description', u'user_favourites_count', u'user_followers_count',\n",
       "       u'user_friends_count', u'user_listed_count', u'user_location',\n",
       "       u'user_name', u'user_screen_name.1', u'user_statuses_count',\n",
       "       u'user_time_zone', u'user_urls', u'user_verified'],\n",
       "      dtype='object')"
      ]
     },
     "execution_count": 123,
     "metadata": {},
     "output_type": "execute_result"
    }
   ],
   "source": [
    "# Viewing the top 5 data\n",
    "data.head(5)\n",
    "data.columns"
   ]
  },
  {
   "cell_type": "code",
   "execution_count": 124,
   "metadata": {},
   "outputs": [
    {
     "data": {
      "text/html": [
       "<div>\n",
       "<style scoped>\n",
       "    .dataframe tbody tr th:only-of-type {\n",
       "        vertical-align: middle;\n",
       "    }\n",
       "\n",
       "    .dataframe tbody tr th {\n",
       "        vertical-align: top;\n",
       "    }\n",
       "\n",
       "    .dataframe thead th {\n",
       "        text-align: right;\n",
       "    }\n",
       "</style>\n",
       "<table border=\"1\" class=\"dataframe\">\n",
       "  <thead>\n",
       "    <tr style=\"text-align: right;\">\n",
       "      <th></th>\n",
       "      <th>coordinates</th>\n",
       "      <th>created_at</th>\n",
       "      <th>hashtags</th>\n",
       "      <th>media</th>\n",
       "      <th>urls</th>\n",
       "      <th>favorite_count</th>\n",
       "      <th>id</th>\n",
       "      <th>in_reply_to_screen_name</th>\n",
       "      <th>in_reply_to_status_id</th>\n",
       "      <th>in_reply_to_user_id</th>\n",
       "      <th>...</th>\n",
       "      <th>user_followers_count</th>\n",
       "      <th>user_friends_count</th>\n",
       "      <th>user_listed_count</th>\n",
       "      <th>user_location</th>\n",
       "      <th>user_name</th>\n",
       "      <th>user_screen_name.1</th>\n",
       "      <th>user_statuses_count</th>\n",
       "      <th>user_time_zone</th>\n",
       "      <th>user_urls</th>\n",
       "      <th>user_verified</th>\n",
       "    </tr>\n",
       "  </thead>\n",
       "  <tbody>\n",
       "    <tr>\n",
       "      <th>0</th>\n",
       "      <td>NaN</td>\n",
       "      <td>Thu Aug 17 23:46:00 +0000 2017</td>\n",
       "      <td>WITBragDay</td>\n",
       "      <td>NaN</td>\n",
       "      <td>NaN</td>\n",
       "      <td>0</td>\n",
       "      <td>898330098876661760</td>\n",
       "      <td>NaN</td>\n",
       "      <td>NaN</td>\n",
       "      <td>NaN</td>\n",
       "      <td>...</td>\n",
       "      <td>5277</td>\n",
       "      <td>1006</td>\n",
       "      <td>509</td>\n",
       "      <td>San Francisco</td>\n",
       "      <td>Carina C. Zona</td>\n",
       "      <td>cczona</td>\n",
       "      <td>69411</td>\n",
       "      <td>NaN</td>\n",
       "      <td>http://patreon.com/cczona</td>\n",
       "      <td>false</td>\n",
       "    </tr>\n",
       "    <tr>\n",
       "      <th>1</th>\n",
       "      <td>NaN</td>\n",
       "      <td>Sun Aug 13 08:31:30 +0000 2017</td>\n",
       "      <td>NaN</td>\n",
       "      <td>NaN</td>\n",
       "      <td>NaN</td>\n",
       "      <td>0</td>\n",
       "      <td>896650407942008832</td>\n",
       "      <td>NaN</td>\n",
       "      <td>NaN</td>\n",
       "      <td>NaN</td>\n",
       "      <td>...</td>\n",
       "      <td>168</td>\n",
       "      <td>341</td>\n",
       "      <td>2</td>\n",
       "      <td>NaN</td>\n",
       "      <td>lowkey☠️</td>\n",
       "      <td>pahareya</td>\n",
       "      <td>12512</td>\n",
       "      <td>NaN</td>\n",
       "      <td>NaN</td>\n",
       "      <td>false</td>\n",
       "    </tr>\n",
       "    <tr>\n",
       "      <th>2</th>\n",
       "      <td>NaN</td>\n",
       "      <td>Thu Aug 17 22:12:33 +0000 2017</td>\n",
       "      <td>NaN</td>\n",
       "      <td>NaN</td>\n",
       "      <td>NaN</td>\n",
       "      <td>0</td>\n",
       "      <td>898306582819160064</td>\n",
       "      <td>NaN</td>\n",
       "      <td>NaN</td>\n",
       "      <td>NaN</td>\n",
       "      <td>...</td>\n",
       "      <td>296</td>\n",
       "      <td>740</td>\n",
       "      <td>7</td>\n",
       "      <td>London, England</td>\n",
       "      <td>ash</td>\n",
       "      <td>ashiesdollparts</td>\n",
       "      <td>18869</td>\n",
       "      <td>NaN</td>\n",
       "      <td>https://Instagram.com/ashiesdollparts</td>\n",
       "      <td>false</td>\n",
       "    </tr>\n",
       "    <tr>\n",
       "      <th>3</th>\n",
       "      <td>NaN</td>\n",
       "      <td>Thu Aug 17 23:23:29 +0000 2017</td>\n",
       "      <td>WITBragDay</td>\n",
       "      <td>NaN</td>\n",
       "      <td>NaN</td>\n",
       "      <td>0</td>\n",
       "      <td>898324433001103361</td>\n",
       "      <td>NaN</td>\n",
       "      <td>NaN</td>\n",
       "      <td>NaN</td>\n",
       "      <td>...</td>\n",
       "      <td>1499</td>\n",
       "      <td>607</td>\n",
       "      <td>83</td>\n",
       "      <td>NaN</td>\n",
       "      <td>Peter Barfuss 𒀱</td>\n",
       "      <td>bofh453</td>\n",
       "      <td>55620</td>\n",
       "      <td>NaN</td>\n",
       "      <td>NaN</td>\n",
       "      <td>false</td>\n",
       "    </tr>\n",
       "    <tr>\n",
       "      <th>4</th>\n",
       "      <td>NaN</td>\n",
       "      <td>Thu Aug 17 21:52:20 +0000 2017</td>\n",
       "      <td>NaN</td>\n",
       "      <td>NaN</td>\n",
       "      <td>NaN</td>\n",
       "      <td>0</td>\n",
       "      <td>898301492423081984</td>\n",
       "      <td>NaN</td>\n",
       "      <td>NaN</td>\n",
       "      <td>NaN</td>\n",
       "      <td>...</td>\n",
       "      <td>3331</td>\n",
       "      <td>1729</td>\n",
       "      <td>60</td>\n",
       "      <td>London, England</td>\n",
       "      <td>Kimberly M</td>\n",
       "      <td>kimpmurrell</td>\n",
       "      <td>7582</td>\n",
       "      <td>NaN</td>\n",
       "      <td>NaN</td>\n",
       "      <td>false</td>\n",
       "    </tr>\n",
       "  </tbody>\n",
       "</table>\n",
       "<p>5 rows × 34 columns</p>\n",
       "</div>"
      ],
      "text/plain": [
       "  coordinates                      created_at    hashtags media urls  \\\n",
       "0         NaN  Thu Aug 17 23:46:00 +0000 2017  WITBragDay   NaN  NaN   \n",
       "1         NaN  Sun Aug 13 08:31:30 +0000 2017         NaN   NaN  NaN   \n",
       "2         NaN  Thu Aug 17 22:12:33 +0000 2017         NaN   NaN  NaN   \n",
       "3         NaN  Thu Aug 17 23:23:29 +0000 2017  WITBragDay   NaN  NaN   \n",
       "4         NaN  Thu Aug 17 21:52:20 +0000 2017         NaN   NaN  NaN   \n",
       "\n",
       "  favorite_count                  id in_reply_to_screen_name  \\\n",
       "0              0  898330098876661760                     NaN   \n",
       "1              0  896650407942008832                     NaN   \n",
       "2              0  898306582819160064                     NaN   \n",
       "3              0  898324433001103361                     NaN   \n",
       "4              0  898301492423081984                     NaN   \n",
       "\n",
       "  in_reply_to_status_id in_reply_to_user_id      ...       \\\n",
       "0                   NaN                 NaN      ...        \n",
       "1                   NaN                 NaN      ...        \n",
       "2                   NaN                 NaN      ...        \n",
       "3                   NaN                 NaN      ...        \n",
       "4                   NaN                 NaN      ...        \n",
       "\n",
       "  user_followers_count user_friends_count user_listed_count    user_location  \\\n",
       "0                 5277               1006               509    San Francisco   \n",
       "1                  168                341                 2              NaN   \n",
       "2                  296                740                 7  London, England   \n",
       "3                 1499                607                83              NaN   \n",
       "4                 3331               1729                60  London, England   \n",
       "\n",
       "          user_name user_screen_name.1 user_statuses_count user_time_zone  \\\n",
       "0    Carina C. Zona             cczona               69411            NaN   \n",
       "1          lowkey☠️           pahareya               12512            NaN   \n",
       "2               ash    ashiesdollparts               18869            NaN   \n",
       "3  Peter Barfuss 𒀱            bofh453               55620            NaN   \n",
       "4        Kimberly M        kimpmurrell                7582            NaN   \n",
       "\n",
       "                               user_urls user_verified  \n",
       "0              http://patreon.com/cczona         false  \n",
       "1                                    NaN         false  \n",
       "2  https://Instagram.com/ashiesdollparts         false  \n",
       "3                                    NaN         false  \n",
       "4                                    NaN         false  \n",
       "\n",
       "[5 rows x 34 columns]"
      ]
     },
     "execution_count": 124,
     "metadata": {},
     "output_type": "execute_result"
    }
   ],
   "source": [
    "data.head(5)"
   ]
  },
  {
   "cell_type": "code",
   "execution_count": 125,
   "metadata": {},
   "outputs": [],
   "source": [
    "non_retweet = data[data['retweet_screen_name'].isnull()]"
   ]
  },
  {
   "cell_type": "code",
   "execution_count": 126,
   "metadata": {},
   "outputs": [
    {
     "data": {
      "text/plain": [
       "(4409, 34)"
      ]
     },
     "execution_count": 126,
     "metadata": {},
     "output_type": "execute_result"
    }
   ],
   "source": [
    "non_retweet.shape"
   ]
  },
  {
   "cell_type": "code",
   "execution_count": 127,
   "metadata": {},
   "outputs": [
    {
     "data": {
      "text/plain": [
       "(29512, 34)"
      ]
     },
     "execution_count": 127,
     "metadata": {},
     "output_type": "execute_result"
    }
   ],
   "source": [
    "data.shape\n",
    "# It looks like alot of the tweets were retweets which would distort the data"
   ]
  },
  {
   "cell_type": "code",
   "execution_count": 128,
   "metadata": {},
   "outputs": [],
   "source": [
    "clean_data = non_retweet.filter(items = [\"created_at\",\"hashtags\",\"text\",\"favorite_count\",\"lang\",\"place\",\"geo\",\"user_location\",\"retweet_count\", \"retweet_screen_name\"])"
   ]
  },
  {
   "cell_type": "code",
   "execution_count": 129,
   "metadata": {},
   "outputs": [
    {
     "data": {
      "text/html": [
       "<div>\n",
       "<style scoped>\n",
       "    .dataframe tbody tr th:only-of-type {\n",
       "        vertical-align: middle;\n",
       "    }\n",
       "\n",
       "    .dataframe tbody tr th {\n",
       "        vertical-align: top;\n",
       "    }\n",
       "\n",
       "    .dataframe thead th {\n",
       "        text-align: right;\n",
       "    }\n",
       "</style>\n",
       "<table border=\"1\" class=\"dataframe\">\n",
       "  <thead>\n",
       "    <tr style=\"text-align: right;\">\n",
       "      <th></th>\n",
       "      <th>created_at</th>\n",
       "      <th>hashtags</th>\n",
       "      <th>text</th>\n",
       "      <th>favorite_count</th>\n",
       "      <th>lang</th>\n",
       "      <th>place</th>\n",
       "      <th>user_location</th>\n",
       "      <th>retweet_count</th>\n",
       "      <th>retweet_screen_name</th>\n",
       "    </tr>\n",
       "  </thead>\n",
       "  <tbody>\n",
       "    <tr>\n",
       "      <th>8</th>\n",
       "      <td>Sun Aug 13 08:32:29 +0000 2017</td>\n",
       "      <td>women WITBragDay</td>\n",
       "      <td>3 degrees in building industry and they reject...</td>\n",
       "      <td>9</td>\n",
       "      <td>en</td>\n",
       "      <td>NaN</td>\n",
       "      <td>Wroclaw, Poland</td>\n",
       "      <td>2</td>\n",
       "      <td>NaN</td>\n",
       "    </tr>\n",
       "    <tr>\n",
       "      <th>13</th>\n",
       "      <td>Thu Aug 17 23:34:25 +0000 2017</td>\n",
       "      <td>WITBragDay</td>\n",
       "      <td>@azimman @LaunchDarkly sounds like you should ...</td>\n",
       "      <td>1</td>\n",
       "      <td>en</td>\n",
       "      <td>NaN</td>\n",
       "      <td>/usr/local/sin</td>\n",
       "      <td>0</td>\n",
       "      <td>NaN</td>\n",
       "    </tr>\n",
       "    <tr>\n",
       "      <th>16</th>\n",
       "      <td>Thu Aug 17 22:15:48 +0000 2017</td>\n",
       "      <td>WITBragDay</td>\n",
       "      <td>My coding knowledge makes a difference and imp...</td>\n",
       "      <td>6</td>\n",
       "      <td>en</td>\n",
       "      <td>NaN</td>\n",
       "      <td>Zionsville, IN</td>\n",
       "      <td>2</td>\n",
       "      <td>NaN</td>\n",
       "    </tr>\n",
       "    <tr>\n",
       "      <th>44</th>\n",
       "      <td>Thu Aug 17 23:25:01 +0000 2017</td>\n",
       "      <td>WITBragDay</td>\n",
       "      <td>Built a ECS JSON-generating container definiti...</td>\n",
       "      <td>3</td>\n",
       "      <td>en</td>\n",
       "      <td>NaN</td>\n",
       "      <td>Wellington, New Zealand</td>\n",
       "      <td>2</td>\n",
       "      <td>NaN</td>\n",
       "    </tr>\n",
       "    <tr>\n",
       "      <th>46</th>\n",
       "      <td>Thu Aug 17 23:22:06 +0000 2017</td>\n",
       "      <td>WITBragDay</td>\n",
       "      <td>Recruiters should definitely be scrolling thro...</td>\n",
       "      <td>203</td>\n",
       "      <td>en</td>\n",
       "      <td>NaN</td>\n",
       "      <td>/usr/local/sin</td>\n",
       "      <td>76</td>\n",
       "      <td>NaN</td>\n",
       "    </tr>\n",
       "  </tbody>\n",
       "</table>\n",
       "</div>"
      ],
      "text/plain": [
       "                        created_at          hashtags  \\\n",
       "8   Sun Aug 13 08:32:29 +0000 2017  women WITBragDay   \n",
       "13  Thu Aug 17 23:34:25 +0000 2017        WITBragDay   \n",
       "16  Thu Aug 17 22:15:48 +0000 2017        WITBragDay   \n",
       "44  Thu Aug 17 23:25:01 +0000 2017        WITBragDay   \n",
       "46  Thu Aug 17 23:22:06 +0000 2017        WITBragDay   \n",
       "\n",
       "                                                 text favorite_count lang  \\\n",
       "8   3 degrees in building industry and they reject...              9   en   \n",
       "13  @azimman @LaunchDarkly sounds like you should ...              1   en   \n",
       "16  My coding knowledge makes a difference and imp...              6   en   \n",
       "44  Built a ECS JSON-generating container definiti...              3   en   \n",
       "46  Recruiters should definitely be scrolling thro...            203   en   \n",
       "\n",
       "   place             user_location retweet_count retweet_screen_name  \n",
       "8    NaN           Wroclaw, Poland             2                 NaN  \n",
       "13   NaN            /usr/local/sin             0                 NaN  \n",
       "16   NaN            Zionsville, IN             2                 NaN  \n",
       "44   NaN  Wellington, New Zealand              2                 NaN  \n",
       "46   NaN            /usr/local/sin            76                 NaN  "
      ]
     },
     "execution_count": 129,
     "metadata": {},
     "output_type": "execute_result"
    }
   ],
   "source": [
    "clean_data.head(5)"
   ]
  },
  {
   "cell_type": "code",
   "execution_count": 130,
   "metadata": {},
   "outputs": [],
   "source": [
    "df = clean_data"
   ]
  },
  {
   "cell_type": "code",
   "execution_count": 131,
   "metadata": {},
   "outputs": [
    {
     "data": {
      "text/plain": [
       "Index([u'created_at', u'hashtags', u'text', u'favorite_count', u'lang',\n",
       "       u'place', u'user_location', u'retweet_count', u'retweet_screen_name'],\n",
       "      dtype='object')"
      ]
     },
     "execution_count": 131,
     "metadata": {},
     "output_type": "execute_result"
    }
   ],
   "source": [
    "df.columns"
   ]
  },
  {
   "cell_type": "code",
   "execution_count": 132,
   "metadata": {},
   "outputs": [
    {
     "data": {
      "text/plain": [
       "created_at             object\n",
       "hashtags               object\n",
       "text                   object\n",
       "favorite_count         object\n",
       "lang                   object\n",
       "place                  object\n",
       "user_location          object\n",
       "retweet_count          object\n",
       "retweet_screen_name    object\n",
       "dtype: object"
      ]
     },
     "execution_count": 132,
     "metadata": {},
     "output_type": "execute_result"
    }
   ],
   "source": [
    "df.dtypes"
   ]
  },
  {
   "cell_type": "code",
   "execution_count": 133,
   "metadata": {},
   "outputs": [],
   "source": [
    "# We will have to convert the object created_at into a datetime for now\n",
    "test = pd.to_datetime('Thu Aug 17 23:46:00 +0000 2017', format='%a %b %d %H:%M:%S +0000 %Y')\n",
    "# Still kept the original created_at date for later modification\n",
    "df['date'] = pd.to_datetime(df['created_at'], format='%a %b %d %H:%M:%S +0000 %Y')"
   ]
  },
  {
   "cell_type": "code",
   "execution_count": 134,
   "metadata": {},
   "outputs": [
    {
     "data": {
      "text/plain": [
       "created_at                     object\n",
       "hashtags                       object\n",
       "text                           object\n",
       "favorite_count                 object\n",
       "lang                           object\n",
       "place                          object\n",
       "user_location                  object\n",
       "retweet_count                  object\n",
       "retweet_screen_name            object\n",
       "date                   datetime64[ns]\n",
       "dtype: object"
      ]
     },
     "execution_count": 134,
     "metadata": {},
     "output_type": "execute_result"
    }
   ],
   "source": [
    "df.dtypes"
   ]
  },
  {
   "cell_type": "code",
   "execution_count": null,
   "metadata": {},
   "outputs": [],
   "source": []
  },
  {
   "cell_type": "code",
   "execution_count": 135,
   "metadata": {},
   "outputs": [],
   "source": [
    "pd.set_option('display.height', 1000)\n",
    "pd.set_option('display.max_rows', 500)\n",
    "pd.set_option('display.max_columns', 500)\n",
    "pd.set_option('display.width', 1000)"
   ]
  },
  {
   "cell_type": "code",
   "execution_count": 136,
   "metadata": {},
   "outputs": [
    {
     "data": {
      "text/html": [
       "<div>\n",
       "<style scoped>\n",
       "    .dataframe tbody tr th:only-of-type {\n",
       "        vertical-align: middle;\n",
       "    }\n",
       "\n",
       "    .dataframe tbody tr th {\n",
       "        vertical-align: top;\n",
       "    }\n",
       "\n",
       "    .dataframe thead th {\n",
       "        text-align: right;\n",
       "    }\n",
       "</style>\n",
       "<table border=\"1\" class=\"dataframe\">\n",
       "  <thead>\n",
       "    <tr style=\"text-align: right;\">\n",
       "      <th></th>\n",
       "      <th>created_at</th>\n",
       "      <th>hashtags</th>\n",
       "      <th>text</th>\n",
       "      <th>favorite_count</th>\n",
       "      <th>lang</th>\n",
       "      <th>place</th>\n",
       "      <th>user_location</th>\n",
       "      <th>retweet_count</th>\n",
       "      <th>retweet_screen_name</th>\n",
       "      <th>date</th>\n",
       "    </tr>\n",
       "  </thead>\n",
       "  <tbody>\n",
       "    <tr>\n",
       "      <th>8</th>\n",
       "      <td>Sun Aug 13 08:32:29 +0000 2017</td>\n",
       "      <td>women WITBragDay</td>\n",
       "      <td>3 degrees in building industry and they reject...</td>\n",
       "      <td>9</td>\n",
       "      <td>en</td>\n",
       "      <td>NaN</td>\n",
       "      <td>Wroclaw, Poland</td>\n",
       "      <td>2</td>\n",
       "      <td>NaN</td>\n",
       "      <td>2017-08-13 08:32:29</td>\n",
       "    </tr>\n",
       "    <tr>\n",
       "      <th>13</th>\n",
       "      <td>Thu Aug 17 23:34:25 +0000 2017</td>\n",
       "      <td>WITBragDay</td>\n",
       "      <td>@azimman @LaunchDarkly sounds like you should ...</td>\n",
       "      <td>1</td>\n",
       "      <td>en</td>\n",
       "      <td>NaN</td>\n",
       "      <td>/usr/local/sin</td>\n",
       "      <td>0</td>\n",
       "      <td>NaN</td>\n",
       "      <td>2017-08-17 23:34:25</td>\n",
       "    </tr>\n",
       "    <tr>\n",
       "      <th>16</th>\n",
       "      <td>Thu Aug 17 22:15:48 +0000 2017</td>\n",
       "      <td>WITBragDay</td>\n",
       "      <td>My coding knowledge makes a difference and imp...</td>\n",
       "      <td>6</td>\n",
       "      <td>en</td>\n",
       "      <td>NaN</td>\n",
       "      <td>Zionsville, IN</td>\n",
       "      <td>2</td>\n",
       "      <td>NaN</td>\n",
       "      <td>2017-08-17 22:15:48</td>\n",
       "    </tr>\n",
       "    <tr>\n",
       "      <th>44</th>\n",
       "      <td>Thu Aug 17 23:25:01 +0000 2017</td>\n",
       "      <td>WITBragDay</td>\n",
       "      <td>Built a ECS JSON-generating container definiti...</td>\n",
       "      <td>3</td>\n",
       "      <td>en</td>\n",
       "      <td>NaN</td>\n",
       "      <td>Wellington, New Zealand</td>\n",
       "      <td>2</td>\n",
       "      <td>NaN</td>\n",
       "      <td>2017-08-17 23:25:01</td>\n",
       "    </tr>\n",
       "    <tr>\n",
       "      <th>46</th>\n",
       "      <td>Thu Aug 17 23:22:06 +0000 2017</td>\n",
       "      <td>WITBragDay</td>\n",
       "      <td>Recruiters should definitely be scrolling thro...</td>\n",
       "      <td>203</td>\n",
       "      <td>en</td>\n",
       "      <td>NaN</td>\n",
       "      <td>/usr/local/sin</td>\n",
       "      <td>76</td>\n",
       "      <td>NaN</td>\n",
       "      <td>2017-08-17 23:22:06</td>\n",
       "    </tr>\n",
       "  </tbody>\n",
       "</table>\n",
       "</div>"
      ],
      "text/plain": [
       "                        created_at          hashtags                                               text favorite_count lang place             user_location retweet_count retweet_screen_name                date\n",
       "8   Sun Aug 13 08:32:29 +0000 2017  women WITBragDay  3 degrees in building industry and they reject...              9   en   NaN           Wroclaw, Poland             2                 NaN 2017-08-13 08:32:29\n",
       "13  Thu Aug 17 23:34:25 +0000 2017        WITBragDay  @azimman @LaunchDarkly sounds like you should ...              1   en   NaN            /usr/local/sin             0                 NaN 2017-08-17 23:34:25\n",
       "16  Thu Aug 17 22:15:48 +0000 2017        WITBragDay  My coding knowledge makes a difference and imp...              6   en   NaN            Zionsville, IN             2                 NaN 2017-08-17 22:15:48\n",
       "44  Thu Aug 17 23:25:01 +0000 2017        WITBragDay  Built a ECS JSON-generating container definiti...              3   en   NaN  Wellington, New Zealand              2                 NaN 2017-08-17 23:25:01\n",
       "46  Thu Aug 17 23:22:06 +0000 2017        WITBragDay  Recruiters should definitely be scrolling thro...            203   en   NaN            /usr/local/sin            76                 NaN 2017-08-17 23:22:06"
      ]
     },
     "execution_count": 136,
     "metadata": {},
     "output_type": "execute_result"
    }
   ],
   "source": [
    "df.head(5)"
   ]
  },
  {
   "cell_type": "code",
   "execution_count": 137,
   "metadata": {},
   "outputs": [],
   "source": [
    "# Changing the settings of pd to view all the tweet's text\n",
    "pd.set_option('display.max_colwidth', -1)"
   ]
  },
  {
   "cell_type": "code",
   "execution_count": 138,
   "metadata": {},
   "outputs": [
    {
     "data": {
      "text/plain": [
       "8     3 degrees in building industry and they rejected me because #women. IT industry welcomed me with open arms. Not a single regret #WITBragDay\n",
       "13    @azimman @LaunchDarkly sounds like you should look at the #WITBragDay tag :P                                                               \n",
       "16    My coding knowledge makes a difference and improves the lives of my coworkers and our customers. And it's the coolest feeling. #WITBragDay \n",
       "44    Built a ECS JSON-generating container definition module entirely in Terraform, because why would you not. #WITBragDay                      \n",
       "46    Recruiters should definitely be scrolling through #WITBragDay for their lists. Tons of awesome talent in there.                            \n",
       "Name: text, dtype: object"
      ]
     },
     "execution_count": 138,
     "metadata": {},
     "output_type": "execute_result"
    }
   ],
   "source": [
    "df.head(5).text"
   ]
  },
  {
   "cell_type": "code",
   "execution_count": 60,
   "metadata": {},
   "outputs": [],
   "source": [
    "df.to_csv('WITBrag_Clean_Noretweets.csv')"
   ]
  },
  {
   "cell_type": "code",
   "execution_count": 5,
   "metadata": {},
   "outputs": [],
   "source": [
    "df = pd.read_csv(\"WITBrag_Clean_Noretweets.csv\")"
   ]
  },
  {
   "cell_type": "code",
   "execution_count": 3,
   "metadata": {},
   "outputs": [
    {
     "data": {
      "text/plain": [
       "['RT',\n",
       " '@',\n",
       " 'alicegoldfuss',\n",
       " ':',\n",
       " 'So',\n",
       " 'happy',\n",
       " 'to',\n",
       " 'hear',\n",
       " 'women',\n",
       " 'getting',\n",
       " 'recruiter',\n",
       " 'pings',\n",
       " 'after',\n",
       " '#',\n",
       " 'WITBragDay',\n",
       " ':',\n",
       " 'D']"
      ]
     },
     "execution_count": 3,
     "metadata": {},
     "output_type": "execute_result"
    }
   ],
   "source": [
    "#testing tokenization\n",
    "from nltk.tokenize import word_tokenize\n",
    "test_tweet = 'RT @alicegoldfuss: So happy to hear women getting recruiter pings after #WITBragDay :D'\n",
    "word_tokenize(test_tweet)\n",
    "# Note is punkt is not installed just use the terminal to download it "
   ]
  },
  {
   "cell_type": "code",
   "execution_count": 2,
   "metadata": {},
   "outputs": [
    {
     "name": "stdout",
     "output_type": "stream",
     "text": [
      "[u'RT', u'@alicegoldfuss', u':', u'So', u'happy', u'to', u'hear', u'women', u'getting', u'recruiter', u'pings', u'after', u'#WITBragDay', u':D']\n"
     ]
    }
   ],
   "source": [
    "# Emojis and mentions and hashtags are being tokenized\n",
    "# Taken from a blog https://marcobonzanini.com/2015/03/09/mining-twitter-data-with-python-part-2/\n",
    "import re\n",
    "\n",
    "emoticons_str = r\"\"\"\n",
    "    (?:\n",
    "        [:=;] # Eyes\n",
    "        [oO\\-]? # Nose (optional)\n",
    "        [D\\)\\]\\(\\]/\\\\OpP] # Mouth\n",
    "    )\"\"\"\n",
    " \n",
    "regex_str = [\n",
    "    emoticons_str,\n",
    "    r'<[^>]+>', # HTML tags\n",
    "    r'(?:@[\\w_]+)', # @-mentions\n",
    "    r\"(?:\\#+[\\w_]+[\\w\\'_\\-]*[\\w_]+)\", # hash-tags\n",
    "    r'http[s]?://(?:[a-z]|[0-9]|[$-_@.&amp;+]|[!*\\(\\),]|(?:%[0-9a-f][0-9a-f]))+', # URLs\n",
    " \n",
    "    r'(?:(?:\\d+,?)+(?:\\.?\\d+)?)', # numbers\n",
    "    r\"(?:[a-z][a-z'\\-_]+[a-z])\", # words with - and '\n",
    "    r'(?:[\\w_]+)', # other words\n",
    "    r'(?:\\S)' # anything else\n",
    "]\n",
    "    \n",
    "tokens_re = re.compile(r'('+'|'.join(regex_str)+')', re.VERBOSE | re.IGNORECASE)\n",
    "emoticon_re = re.compile(r'^'+emoticons_str+'$', re.VERBOSE | re.IGNORECASE)\n",
    "\n",
    "def remove_emoji(data):\n",
    "    if not data:\n",
    "        return data\n",
    "    if not isinstance(data, basestring):\n",
    "        return data\n",
    "    try:\n",
    "    # UCS-4\n",
    "        patt = re.compile(u'([\\U00002600-\\U000027BF])|([\\U0001f300-\\U0001f64F])|([\\U0001f680-\\U0001f6FF])')\n",
    "    except re.error:\n",
    "    # UCS-2\n",
    "        patt = re.compile(u'([\\u2600-\\u27BF])|([\\uD83C][\\uDF00-\\uDFFF])|([\\uD83D][\\uDC00-\\uDE4F])|([\\uD83D][\\uDE80-\\uDEFF])')\n",
    "    return patt.sub('', data)\n",
    " \n",
    "def tokenize(s):\n",
    "    return tokens_re.findall(s)\n",
    " \n",
    "def preprocess(s, lowercase=False):\n",
    "    s = s.decode('unicode-escape').encode('latin1').decode('utf8')\n",
    "    data = remove_emoji(s)\n",
    "    tokens = tokenize(data)\n",
    "    if lowercase:\n",
    "        tokens = [token if emoticon_re.search(token) else token.lower() for token in tokens]\n",
    "    return tokens\n",
    "\n",
    "test_tweet = 'RT @alicegoldfuss: So happy to hear women getting recruiter pings after #WITBragDay :D'\n",
    "print (preprocess(test_tweet))"
   ]
  },
  {
   "cell_type": "code",
   "execution_count": 150,
   "metadata": {},
   "outputs": [],
   "source": [
    "test = df.head(20).text"
   ]
  },
  {
   "cell_type": "code",
   "execution_count": 149,
   "metadata": {},
   "outputs": [
    {
     "data": {
      "text/html": [
       "<div>\n",
       "<style scoped>\n",
       "    .dataframe tbody tr th:only-of-type {\n",
       "        vertical-align: middle;\n",
       "    }\n",
       "\n",
       "    .dataframe tbody tr th {\n",
       "        vertical-align: top;\n",
       "    }\n",
       "\n",
       "    .dataframe thead th {\n",
       "        text-align: right;\n",
       "    }\n",
       "</style>\n",
       "<table border=\"1\" class=\"dataframe\">\n",
       "  <thead>\n",
       "    <tr style=\"text-align: right;\">\n",
       "      <th></th>\n",
       "      <th>created_at</th>\n",
       "      <th>hashtags</th>\n",
       "      <th>text</th>\n",
       "      <th>favorite_count</th>\n",
       "      <th>lang</th>\n",
       "      <th>place</th>\n",
       "      <th>user_location</th>\n",
       "      <th>retweet_count</th>\n",
       "      <th>retweet_screen_name</th>\n",
       "      <th>date</th>\n",
       "    </tr>\n",
       "  </thead>\n",
       "  <tbody>\n",
       "    <tr>\n",
       "      <th>8</th>\n",
       "      <td>Sun Aug 13 08:32:29 +0000 2017</td>\n",
       "      <td>women WITBragDay</td>\n",
       "      <td>3 degrees in building industry and they rejected me because #women. IT industry welcomed me with open arms. Not a single regret #WITBragDay</td>\n",
       "      <td>9</td>\n",
       "      <td>en</td>\n",
       "      <td>NaN</td>\n",
       "      <td>Wroclaw, Poland</td>\n",
       "      <td>2</td>\n",
       "      <td>NaN</td>\n",
       "      <td>2017-08-13 08:32:29</td>\n",
       "    </tr>\n",
       "    <tr>\n",
       "      <th>13</th>\n",
       "      <td>Thu Aug 17 23:34:25 +0000 2017</td>\n",
       "      <td>WITBragDay</td>\n",
       "      <td>@azimman @LaunchDarkly sounds like you should look at the #WITBragDay tag :P</td>\n",
       "      <td>1</td>\n",
       "      <td>en</td>\n",
       "      <td>NaN</td>\n",
       "      <td>/usr/local/sin</td>\n",
       "      <td>0</td>\n",
       "      <td>NaN</td>\n",
       "      <td>2017-08-17 23:34:25</td>\n",
       "    </tr>\n",
       "  </tbody>\n",
       "</table>\n",
       "</div>"
      ],
      "text/plain": [
       "                        created_at          hashtags                                                                                                                                         text favorite_count lang place    user_location retweet_count retweet_screen_name                date\n",
       "8   Sun Aug 13 08:32:29 +0000 2017  women WITBragDay  3 degrees in building industry and they rejected me because #women. IT industry welcomed me with open arms. Not a single regret #WITBragDay  9              en   NaN   Wroclaw, Poland  2             NaN                2017-08-13 08:32:29\n",
       "13  Thu Aug 17 23:34:25 +0000 2017  WITBragDay        @azimman @LaunchDarkly sounds like you should look at the #WITBragDay tag :P                                                                 1              en   NaN   /usr/local/sin   0             NaN                2017-08-17 23:34:25"
      ]
     },
     "execution_count": 149,
     "metadata": {},
     "output_type": "execute_result"
    }
   ],
   "source": [
    "df.head(2)"
   ]
  },
  {
   "cell_type": "code",
   "execution_count": 4,
   "metadata": {},
   "outputs": [
    {
     "ename": "NameError",
     "evalue": "name 'test' is not defined",
     "output_type": "error",
     "traceback": [
      "\u001b[0;31m---------------------------------------------------------------------------\u001b[0m",
      "\u001b[0;31mNameError\u001b[0m                                 Traceback (most recent call last)",
      "\u001b[0;32m<ipython-input-4-160e936329c6>\u001b[0m in \u001b[0;36m<module>\u001b[0;34m()\u001b[0m\n\u001b[0;32m----> 1\u001b[0;31m \u001b[0mpreprocess\u001b[0m\u001b[0;34m(\u001b[0m\u001b[0mtest\u001b[0m\u001b[0;34m[\u001b[0m\u001b[0;36m7\u001b[0m\u001b[0;34m]\u001b[0m\u001b[0;34m)\u001b[0m\u001b[0;34m\u001b[0m\u001b[0m\n\u001b[0m",
      "\u001b[0;31mNameError\u001b[0m: name 'test' is not defined"
     ]
    }
   ],
   "source": [
    "preprocess(test[7])"
   ]
  },
  {
   "cell_type": "code",
   "execution_count": 154,
   "metadata": {},
   "outputs": [],
   "source": [
    "# Removing all stop words\n",
    "from nltk.corpus import stopwords\n",
    "import string\n",
    "\n",
    "punctuation = list(string.punctuation)\n",
    "stop = stopwords.words('english') + punctuation + ['rt', 'via']"
   ]
  },
  {
   "cell_type": "code",
   "execution_count": 155,
   "metadata": {},
   "outputs": [],
   "source": [
    "import operator \n",
    "from collections import Counter\n",
    "\n",
    "terms_all = [term for term in preprocess('RT @alicegoldfuss: So happy to hear women getting recruiter pings after #WITBragDay :D')]\n",
    "terms_stop = [term for term in preprocess('RT @alicegoldfuss: So happy to hear women getting recruiter pings after #WITBragDay :D') if term not in stop]"
   ]
  },
  {
   "cell_type": "code",
   "execution_count": 156,
   "metadata": {},
   "outputs": [
    {
     "data": {
      "text/plain": [
       "[u'RT',\n",
       " u'@alicegoldfuss',\n",
       " u':',\n",
       " u'So',\n",
       " u'happy',\n",
       " u'to',\n",
       " u'hear',\n",
       " u'women',\n",
       " u'getting',\n",
       " u'recruiter',\n",
       " u'pings',\n",
       " u'after',\n",
       " u'#WITBragDay',\n",
       " u':D']"
      ]
     },
     "execution_count": 156,
     "metadata": {},
     "output_type": "execute_result"
    }
   ],
   "source": [
    "terms_all"
   ]
  },
  {
   "cell_type": "code",
   "execution_count": 157,
   "metadata": {},
   "outputs": [
    {
     "data": {
      "text/plain": [
       "[u'RT',\n",
       " u'@alicegoldfuss',\n",
       " u'So',\n",
       " u'happy',\n",
       " u'hear',\n",
       " u'women',\n",
       " u'getting',\n",
       " u'recruiter',\n",
       " u'pings',\n",
       " u'#WITBragDay',\n",
       " u':D']"
      ]
     },
     "execution_count": 157,
     "metadata": {},
     "output_type": "execute_result"
    }
   ],
   "source": [
    "terms_stop"
   ]
  },
  {
   "cell_type": "code",
   "execution_count": 158,
   "metadata": {},
   "outputs": [
    {
     "name": "stdout",
     "output_type": "stream",
     "text": [
      "[(u'.', 2977), (u'#WITBragDay', 2530), (u'!', 1537), (u',', 1434), (u'to', 1373)]\n"
     ]
    }
   ],
   "source": [
    "count_all = Counter()\n",
    "for index, row in df.iterrows():     \n",
    "    terms_all = [term for term in preprocess(row['text'])]\n",
    "    # Update the counter\n",
    "    count_all.update(terms_all)\n",
    "print(count_all.most_common(5))"
   ]
  },
  {
   "cell_type": "code",
   "execution_count": null,
   "metadata": {},
   "outputs": [],
   "source": []
  },
  {
   "cell_type": "code",
   "execution_count": 159,
   "metadata": {},
   "outputs": [
    {
     "name": "stdout",
     "output_type": "stream",
     "text": [
      "[(u'#WITBragDay', 2530), (u'I', 1289), (u'women', 358), (u'tech', 346), (u'amp', 330)]\n"
     ]
    }
   ],
   "source": [
    "# Create a Counter Collection\n",
    "count_all = Counter()\n",
    "# Iterate over the Dataframe rows\n",
    "for index, row in df.iterrows():     \n",
    "    # Get the terms of each tweet while preprocessing it and remove the stop words from the tweet\n",
    "    terms_stop = [term for term in preprocess(row['text']) if term not in stop and not term.startswith(r\"\\x\")]\n",
    "    # Update the counter\n",
    "    count_all.update(terms_stop)\n",
    "print(count_all.most_common(5))"
   ]
  },
  {
   "cell_type": "code",
   "execution_count": 13,
   "metadata": {},
   "outputs": [
    {
     "data": {
      "text/plain": [
       "[(u'#WITBragDay', 2530),\n",
       " (u'I', 1289),\n",
       " (u'women', 358),\n",
       " (u'tech', 346),\n",
       " (u'amp', 330),\n",
       " (u'#WiTBragDay', 235),\n",
       " (u\"I'm\", 219),\n",
       " (u'The', 200),\n",
       " (u'code', 179),\n",
       " (u'amazing', 173),\n",
       " (u'This', 170),\n",
       " (u'hashtag', 169),\n",
       " (u'tweets', 163),\n",
       " (u'\\ufe0f', 159),\n",
       " (u'work', 156),\n",
       " (u'one', 151),\n",
       " (u'awesome', 147),\n",
       " (u'first', 143),\n",
       " (u'many', 128),\n",
       " (u'Thank', 124)]"
      ]
     },
     "execution_count": 13,
     "metadata": {},
     "output_type": "execute_result"
    }
   ],
   "source": [
    "count_all.most_common(20)"
   ]
  },
  {
   "cell_type": "code",
   "execution_count": null,
   "metadata": {},
   "outputs": [],
   "source": []
  },
  {
   "cell_type": "code",
   "execution_count": 14,
   "metadata": {},
   "outputs": [
    {
     "data": {
      "text/plain": [
       "159"
      ]
     },
     "execution_count": 14,
     "metadata": {},
     "output_type": "execute_result"
    }
   ],
   "source": [
    "count_all.pop(u'\\ufe0f')"
   ]
  },
  {
   "cell_type": "code",
   "execution_count": 19,
   "metadata": {},
   "outputs": [
    {
     "data": {
      "text/plain": [
       "123"
      ]
     },
     "execution_count": 19,
     "metadata": {},
     "output_type": "execute_result"
    }
   ],
   "source": [
    "count_all.pop(u'So')"
   ]
  },
  {
   "cell_type": "code",
   "execution_count": 20,
   "metadata": {},
   "outputs": [
    {
     "data": {
      "text/plain": [
       "'[{\"text\": \"code\", \"size\": 179}, {\"text\": \"Thank\", \"size\": 124}, {\"text\": \"I\", \"size\": 1289}, {\"text\": \"many\", \"size\": 128}, {\"text\": \"awesome\", \"size\": 147}, {\"text\": \"work\", \"size\": 156}, {\"text\": \"#WiTBragDay\", \"size\": 235}, {\"text\": \"first\", \"size\": 143}, {\"text\": \"amazing\", \"size\": 173}, {\"text\": \"This\", \"size\": 170}, {\"text\": \"#WITBragDay\", \"size\": 2530}, {\"text\": \"tech\", \"size\": 346}, {\"text\": \"hashtag\", \"size\": 169}, {\"text\": \"tweets\", \"size\": 163}, {\"text\": \"amp\", \"size\": 330}, {\"text\": \"I\\'m\", \"size\": 219}, {\"text\": \"one\", \"size\": 151}, {\"text\": \"The\", \"size\": 200}, {\"text\": \"#witbragday\", \"size\": 119}, {\"text\": \"women\", \"size\": 358}]'"
      ]
     },
     "execution_count": 20,
     "metadata": {},
     "output_type": "execute_result"
    }
   ],
   "source": [
    "# Dump the data into a json\n",
    "import json\n",
    "# Assign frequency count into a dictionary\n",
    "dicc = dict(count_all.most_common(20))\n",
    "# Iterate over the dicitonary and convert it into a JSON structure for D3.js\n",
    "values = [{\"text\": k, \"size\": v} for k, v in dicc.iteritems()]\n",
    "json.dumps(values)"
   ]
  },
  {
   "cell_type": "code",
   "execution_count": 21,
   "metadata": {},
   "outputs": [
    {
     "data": {
      "text/plain": [
       "'[{\"code\": 179}, {\"Thank\": 124}, {\"I\": 1289}, {\"many\": 128}, {\"awesome\": 147}, {\"work\": 156}, {\"#WiTBragDay\": 235}, {\"first\": 143}, {\"amazing\": 173}, {\"This\": 170}, {\"#WITBragDay\": 2530}, {\"tech\": 346}, {\"hashtag\": 169}, {\"tweets\": 163}, {\"amp\": 330}, {\"I\\'m\": 219}, {\"one\": 151}, {\"The\": 200}, {\"#witbragday\": 119}, {\"women\": 358}]'"
      ]
     },
     "execution_count": 21,
     "metadata": {},
     "output_type": "execute_result"
    }
   ],
   "source": [
    "# Dump json in another format\n",
    "import json\n",
    "dicc = dict(count_all.most_common(20))\n",
    "values = [{k: v} for k, v in dicc.iteritems()]\n",
    "json.dumps(values)"
   ]
  },
  {
   "cell_type": "code",
   "execution_count": 1,
   "metadata": {},
   "outputs": [],
   "source": [
    "# Another format JSon dump\n",
    "#import json\n",
    "#dicc = dict(count_all.most_common())\n",
    "#json.dumps(dicc)"
   ]
  },
  {
   "cell_type": "code",
   "execution_count": 21,
   "metadata": {},
   "outputs": [
    {
     "data": {
      "text/plain": [
       "dict"
      ]
     },
     "execution_count": 21,
     "metadata": {},
     "output_type": "execute_result"
    }
   ],
   "source": [
    "type(dicc)"
   ]
  },
  {
   "cell_type": "code",
   "execution_count": 22,
   "metadata": {},
   "outputs": [
    {
     "data": {
      "text/plain": [
       "'[{\"group\": 1, \"id\": \"code\"}, {\"group\": 1, \"id\": \"love\"}, {\"group\": 1, \"id\": \"Thank\"}, {\"group\": 1, \"id\": \"people\"}, {\"group\": 1, \"id\": \"awesome\"}, {\"group\": 1, \"id\": \"\\\\u200d\"}, {\"group\": 1, \"id\": \"years\"}, {\"group\": 1, \"id\": \"#witbragday\"}, {\"group\": 1, \"id\": \"You\"}, {\"group\": 1, \"id\": \"The\"}, {\"group\": 1, \"id\": \"inspiring\"}, {\"group\": 1, \"id\": \"I\\'ve\"}, {\"group\": 1, \"id\": \"#womenintech\"}, {\"group\": 1, \"id\": \"#WITBragDay\"}, {\"group\": 1, \"id\": \"1\"}, {\"group\": 1, \"id\": \"This\"}, {\"group\": 1, \"id\": \"amazing\"}, {\"group\": 1, \"id\": \"2\"}, {\"group\": 1, \"id\": \"tweets\"}, {\"group\": 1, \"id\": \"stories\"}, {\"group\": 1, \"id\": \"\\\\ud83c\"}, {\"group\": 1, \"id\": \"Women\"}, {\"group\": 1, \"id\": \"brag\"}, {\"group\": 1, \"id\": \"I\"}, {\"group\": 1, \"id\": \"#WiTBragDay\"}, {\"group\": 1, \"id\": \"know\"}, {\"group\": 1, \"id\": \"hashtag\"}, {\"group\": 1, \"id\": \"amp\"}, {\"group\": 1, \"id\": \"I\\'m\"}, {\"group\": 1, \"id\": \"one\"}, {\"group\": 1, \"id\": \"My\"}, {\"group\": 1, \"id\": \"day\"}, {\"group\": 1, \"id\": \"women\"}, {\"group\": 1, \"id\": \"great\"}, {\"group\": 1, \"id\": \"like\"}, {\"group\": 1, \"id\": \"many\"}, {\"group\": 1, \"id\": \"work\"}, {\"group\": 1, \"id\": \"tech\"}, {\"group\": 1, \"id\": \"team\"}, {\"group\": 1, \"id\": \"first\"}]'"
      ]
     },
     "execution_count": 22,
     "metadata": {},
     "output_type": "execute_result"
    }
   ],
   "source": [
    "# Dump json in another format\n",
    "import json\n",
    "dicc = dict(count_all.most_common(40))\n",
    "values = [{\"id\": k, \"group\": 1} for k, v in dicc.iteritems()]\n",
    "json.dumps(values)"
   ]
  },
  {
   "cell_type": "code",
   "execution_count": 27,
   "metadata": {},
   "outputs": [
    {
     "name": "stdout",
     "output_type": "stream",
     "text": [
      "[(u'#WITBragDay', 2523), (u'.', 1817), (u'to', 1133), (u'!', 1120), (u'the', 1083)]\n"
     ]
    }
   ],
   "source": [
    "count_all_terms_only_once = Counter()\n",
    "for index, row in df.iterrows():     \n",
    "    terms_all = [term for term in preprocess(row['text'])]\n",
    "    terms_single = set(terms_all)\n",
    "    # Update the counter\n",
    "    count_all_terms_only_once.update(terms_single)\n",
    "print(count_all_terms_only_once.most_common(5))"
   ]
  },
  {
   "cell_type": "code",
   "execution_count": 28,
   "metadata": {},
   "outputs": [
    {
     "name": "stdout",
     "output_type": "stream",
     "text": [
      "[(u'#WITBragDay', 2530), (u'#WiTBragDay', 235), (u'#witbragday', 119), (u'#womenintech', 104), (u'#WITBragday', 72)]\n"
     ]
    }
   ],
   "source": [
    "# Only look at the hashtags\n",
    "count_all_hash = Counter()\n",
    "for index, row in df.iterrows():     \n",
    "    terms_hash = [term for term in preprocess(row['text']) \n",
    "              if term.startswith('#')]\n",
    "    # Update the counter\n",
    "    count_all_hash.update(terms_hash)\n",
    "print(count_all_hash.most_common(5))"
   ]
  },
  {
   "cell_type": "code",
   "execution_count": 29,
   "metadata": {},
   "outputs": [
    {
     "name": "stdout",
     "output_type": "stream",
     "text": [
      "[(u'I', 1289), (u'women', 358), (u'tech', 346), (u'amp', 330), (u\"I'm\", 219)]\n"
     ]
    }
   ],
   "source": [
    "count_all_term_only = Counter()\n",
    "for index, row in df.iterrows():     \n",
    "    terms_only = [term for term in preprocess(row['text']) \n",
    "              if term not in stop and\n",
    "              not term.startswith(('#', '@'))] \n",
    "    # Update the counter\n",
    "    count_all_term_only.update(terms_only)\n",
    "print(count_all_term_only.most_common(5))"
   ]
  },
  {
   "cell_type": "code",
   "execution_count": 30,
   "metadata": {},
   "outputs": [],
   "source": [
    "from nltk import bigrams \n",
    " \n",
    "terms_bigram = bigrams(terms_stop)"
   ]
  },
  {
   "cell_type": "code",
   "execution_count": 31,
   "metadata": {},
   "outputs": [
    {
     "name": "stdout",
     "output_type": "stream",
     "text": [
      "[((u'women', u'tech'), 82), ((u'#WITBragDay', u'I'), 82), ((u'#WITBragDay', u'tweets'), 77), ((u'I', u'love'), 51), ((u'The', u'latest'), 50)]\n"
     ]
    }
   ],
   "source": [
    "count_all_bigram = Counter()\n",
    "for index, row in df.iterrows():     \n",
    "    terms_stop = [term for term in preprocess(row['text']) if term not in stop]\n",
    "    # Update the counter\n",
    "    terms_bigram = bigrams(terms_stop)\n",
    "    count_all_bigram.update(terms_bigram)\n",
    "print(count_all_bigram.most_common(5))"
   ]
  },
  {
   "cell_type": "code",
   "execution_count": 32,
   "metadata": {},
   "outputs": [
    {
     "data": {
      "text/plain": [
       "'[{\"source\": \"hashtag\", \"strength\": 0.37, \"target\": \"#WITBragDay\"}, {\"source\": \"#WITBragDay\", \"strength\": 0.23, \"target\": \"check\"}, {\"source\": \"#WITBragDay\", \"strength\": 0.21, \"target\": \"Loving\"}, {\"source\": \"tweets\", \"strength\": 0.77, \"target\": \"#WITBragDay\"}, {\"source\": \"\\\\u200d\", \"strength\": 0.38, \"target\": \"\\\\u200d\"}, {\"source\": \"From\", \"strength\": 0.21, \"target\": \"King\"}, {\"source\": \"tech\", \"strength\": 0.82, \"target\": \"women\"}, {\"source\": \"You\", \"strength\": 0.2, \"target\": \"Thank\"}, {\"source\": \"women\", \"strength\": 0.33, \"target\": \"amazing\"}, {\"source\": \"#WITBragDay\", \"strength\": 0.21, \"target\": \"Proud\"}, {\"source\": \"n\", \"strength\": 0.24, \"target\": \"\\\\u00fc\"}, {\"source\": \"industry\", \"strength\": 0.22, \"target\": \"software\"}, {\"source\": \"got\", \"strength\": 0.2, \"target\": \"I\"}, {\"source\": \"#WITBragDay\", \"strength\": 0.27, \"target\": \"Check\"}, {\"source\": \"#WITBragDay\", \"strength\": 0.26, \"target\": \"reading\"}, {\"source\": \"#WITBragDay\", \"strength\": 0.23, \"target\": \"stories\"}, {\"source\": \"gender\", \"strength\": 0.24, \"target\": \"The\"}, {\"source\": \"bug\", \"strength\": 0.24, \"target\": \"gender\"}, {\"source\": \"applaud\", \"strength\": 0.2, \"target\": \"I\"}, {\"source\": \"st\", \"strength\": 0.37, \"target\": \"1\"}, {\"source\": \"\\\\ufe0f\", \"strength\": 0.29, \"target\": \"\\\\ufe0f\"}, {\"source\": \"King\", \"strength\": 0.21, \"target\": \"Last\"}, {\"source\": \"love\", \"strength\": 0.51, \"target\": \"I\"}, {\"source\": \"software\", \"strength\": 0.23, \"target\": \"bug\"}, {\"source\": \"\\\\udd13\", \"strength\": 0.21, \"target\": \"\\\\ud83e\"}, {\"source\": \"ago\", \"strength\": 0.22, \"target\": \"years\"}, {\"source\": \"know\", \"strength\": 0.35, \"target\": \"I\"}, {\"source\": \"latest\", \"strength\": 0.5, \"target\": \"The\"}, {\"source\": \"Last\", \"strength\": 0.21, \"target\": \"https://t.co/Q9srJ42pGg\"}, {\"source\": \"many\", \"strength\": 0.43, \"target\": \"So\"}, {\"source\": \"#WITBragDay\", \"strength\": 0.28, \"target\": \"tech\"}, {\"source\": \"Tech\", \"strength\": 0.38, \"target\": \"Women\"}, {\"source\": \"#WITBragDay\", \"strength\": 0.31, \"target\": \"hashtag\"}, {\"source\": \"GOD\", \"strength\": 0.21, \"target\": \"From\"}, {\"source\": \"#WITBragDay\", \"strength\": 0.21, \"target\": \"tweets\"}, {\"source\": \"work\", \"strength\": 0.36, \"target\": \"I\"}, {\"source\": \"The\", \"strength\": 0.25, \"target\": \"#WITBragDay\"}, {\"source\": \"wrote\", \"strength\": 0.32, \"target\": \"I\"}, {\"source\": \"started\", \"strength\": 0.24, \"target\": \"I\"}, {\"source\": \"I\", \"strength\": 0.82, \"target\": \"#WITBragDay\"}]'"
      ]
     },
     "execution_count": 32,
     "metadata": {},
     "output_type": "execute_result"
    }
   ],
   "source": [
    "import json\n",
    "dicc = dict(count_all_bigram.most_common(40))\n",
    "values = [{\"target\": k[0], \"source\": k[1], \"strength\": v/100.0} for k, v in dicc.iteritems()]\n",
    "json.dumps(values)"
   ]
  },
  {
   "cell_type": "code",
   "execution_count": 33,
   "metadata": {},
   "outputs": [
    {
     "data": {
      "text/plain": [
       "list"
      ]
     },
     "execution_count": 33,
     "metadata": {},
     "output_type": "execute_result"
    }
   ],
   "source": [
    "type(values)"
   ]
  },
  {
   "cell_type": "code",
   "execution_count": 34,
   "metadata": {},
   "outputs": [
    {
     "data": {
      "text/plain": [
       "'[{\"source\": \"hashtag\", \"strength\": 0.37, \"target\": \"#WITBragDay\"}, {\"source\": \"#WITBragDay\", \"strength\": 0.23, \"target\": \"check\"}, {\"source\": \"#WITBragDay\", \"strength\": 0.21, \"target\": \"Loving\"}, {\"source\": \"tweets\", \"strength\": 0.77, \"target\": \"#WITBragDay\"}, {\"source\": \"\\\\u200d\", \"strength\": 0.38, \"target\": \"\\\\u200d\"}, {\"source\": \"From\", \"strength\": 0.21, \"target\": \"King\"}, {\"source\": \"tech\", \"strength\": 0.82, \"target\": \"women\"}, {\"source\": \"You\", \"strength\": 0.2, \"target\": \"Thank\"}, {\"source\": \"women\", \"strength\": 0.33, \"target\": \"amazing\"}, {\"source\": \"#WITBragDay\", \"strength\": 0.21, \"target\": \"Proud\"}, {\"source\": \"n\", \"strength\": 0.24, \"target\": \"\\\\u00fc\"}, {\"source\": \"industry\", \"strength\": 0.22, \"target\": \"software\"}, {\"source\": \"got\", \"strength\": 0.2, \"target\": \"I\"}, {\"source\": \"#WITBragDay\", \"strength\": 0.27, \"target\": \"Check\"}, {\"source\": \"#WITBragDay\", \"strength\": 0.26, \"target\": \"reading\"}, {\"source\": \"#WITBragDay\", \"strength\": 0.23, \"target\": \"stories\"}, {\"source\": \"gender\", \"strength\": 0.24, \"target\": \"The\"}, {\"source\": \"bug\", \"strength\": 0.24, \"target\": \"gender\"}, {\"source\": \"applaud\", \"strength\": 0.2, \"target\": \"I\"}, {\"source\": \"st\", \"strength\": 0.37, \"target\": \"1\"}, {\"source\": \"\\\\ufe0f\", \"strength\": 0.29, \"target\": \"\\\\ufe0f\"}, {\"source\": \"King\", \"strength\": 0.21, \"target\": \"Last\"}, {\"source\": \"love\", \"strength\": 0.51, \"target\": \"I\"}, {\"source\": \"software\", \"strength\": 0.23, \"target\": \"bug\"}, {\"source\": \"\\\\udd13\", \"strength\": 0.21, \"target\": \"\\\\ud83e\"}, {\"source\": \"ago\", \"strength\": 0.22, \"target\": \"years\"}, {\"source\": \"know\", \"strength\": 0.35, \"target\": \"I\"}, {\"source\": \"latest\", \"strength\": 0.5, \"target\": \"The\"}, {\"source\": \"Last\", \"strength\": 0.21, \"target\": \"https://t.co/Q9srJ42pGg\"}, {\"source\": \"many\", \"strength\": 0.43, \"target\": \"So\"}, {\"source\": \"#WITBragDay\", \"strength\": 0.28, \"target\": \"tech\"}, {\"source\": \"Tech\", \"strength\": 0.38, \"target\": \"Women\"}, {\"source\": \"#WITBragDay\", \"strength\": 0.31, \"target\": \"hashtag\"}, {\"source\": \"GOD\", \"strength\": 0.21, \"target\": \"From\"}, {\"source\": \"#WITBragDay\", \"strength\": 0.21, \"target\": \"tweets\"}, {\"source\": \"work\", \"strength\": 0.36, \"target\": \"I\"}, {\"source\": \"The\", \"strength\": 0.25, \"target\": \"#WITBragDay\"}, {\"source\": \"wrote\", \"strength\": 0.32, \"target\": \"I\"}, {\"source\": \"started\", \"strength\": 0.24, \"target\": \"I\"}, {\"source\": \"I\", \"strength\": 0.82, \"target\": \"#WITBragDay\"}]'"
      ]
     },
     "execution_count": 34,
     "metadata": {},
     "output_type": "execute_result"
    }
   ],
   "source": [
    "new_dict = []\n",
    "values = [{\"target\": k[0], \"source\": k[1], \"strength\": v/100.0} for k, v in dicc.iteritems()]\n",
    "json.dumps(values)"
   ]
  },
  {
   "cell_type": "code",
   "execution_count": 35,
   "metadata": {},
   "outputs": [],
   "source": [
    "for a in values:\n",
    "    if not any(d['id'] == a['target'] for d in new_dict):\n",
    "    # does not exist\n",
    "        new_dict.append({\"id\": a['target'], \"group\": 1})\n",
    "    if not any(d['id'] == a['source'] for d in new_dict):\n",
    "    # does not exist\n",
    "        new_dict.append({\"id\": a['source'], \"group\": 2})"
   ]
  },
  {
   "cell_type": "code",
   "execution_count": 36,
   "metadata": {},
   "outputs": [
    {
     "data": {
      "text/plain": [
       "'[{\"group\": 1, \"id\": \"#WITBragDay\"}, {\"group\": 2, \"id\": \"hashtag\"}, {\"group\": 1, \"id\": \"check\"}, {\"group\": 1, \"id\": \"Loving\"}, {\"group\": 2, \"id\": \"tweets\"}, {\"group\": 1, \"id\": \"\\\\u200d\"}, {\"group\": 1, \"id\": \"King\"}, {\"group\": 2, \"id\": \"From\"}, {\"group\": 1, \"id\": \"women\"}, {\"group\": 2, \"id\": \"tech\"}, {\"group\": 1, \"id\": \"Thank\"}, {\"group\": 2, \"id\": \"You\"}, {\"group\": 1, \"id\": \"amazing\"}, {\"group\": 1, \"id\": \"Proud\"}, {\"group\": 1, \"id\": \"\\\\u00fc\"}, {\"group\": 2, \"id\": \"n\"}, {\"group\": 1, \"id\": \"software\"}, {\"group\": 2, \"id\": \"industry\"}, {\"group\": 1, \"id\": \"I\"}, {\"group\": 2, \"id\": \"got\"}, {\"group\": 1, \"id\": \"Check\"}, {\"group\": 1, \"id\": \"reading\"}, {\"group\": 1, \"id\": \"stories\"}, {\"group\": 1, \"id\": \"The\"}, {\"group\": 2, \"id\": \"gender\"}, {\"group\": 2, \"id\": \"bug\"}, {\"group\": 2, \"id\": \"applaud\"}, {\"group\": 1, \"id\": \"1\"}, {\"group\": 2, \"id\": \"st\"}, {\"group\": 1, \"id\": \"\\\\ufe0f\"}, {\"group\": 1, \"id\": \"Last\"}, {\"group\": 2, \"id\": \"love\"}, {\"group\": 1, \"id\": \"\\\\ud83e\"}, {\"group\": 2, \"id\": \"\\\\udd13\"}, {\"group\": 1, \"id\": \"years\"}, {\"group\": 2, \"id\": \"ago\"}, {\"group\": 2, \"id\": \"know\"}, {\"group\": 2, \"id\": \"latest\"}, {\"group\": 1, \"id\": \"https://t.co/Q9srJ42pGg\"}, {\"group\": 1, \"id\": \"So\"}, {\"group\": 2, \"id\": \"many\"}, {\"group\": 1, \"id\": \"Women\"}, {\"group\": 2, \"id\": \"Tech\"}, {\"group\": 2, \"id\": \"GOD\"}, {\"group\": 2, \"id\": \"work\"}, {\"group\": 2, \"id\": \"wrote\"}, {\"group\": 2, \"id\": \"started\"}]'"
      ]
     },
     "execution_count": 36,
     "metadata": {},
     "output_type": "execute_result"
    }
   ],
   "source": [
    "json.dumps(new_dict)"
   ]
  },
  {
   "cell_type": "code",
   "execution_count": 37,
   "metadata": {},
   "outputs": [
    {
     "data": {
      "text/plain": [
       "[((u'women', u'tech'), 82),\n",
       " ((u'#WITBragDay', u'I'), 82),\n",
       " ((u'#WITBragDay', u'tweets'), 77),\n",
       " ((u'I', u'love'), 51),\n",
       " ((u'The', u'latest'), 50),\n",
       " ((u'So', u'many'), 43),\n",
       " ((u'Women', u'Tech'), 38),\n",
       " ((u'\\u200d', u'\\u200d'), 38),\n",
       " ((u'1', u'st'), 37),\n",
       " ((u'#WITBragDay', u'hashtag'), 37),\n",
       " ((u'I', u'work'), 36),\n",
       " ((u'I', u'know'), 35),\n",
       " ((u'amazing', u'women'), 33),\n",
       " ((u'I', u'wrote'), 32),\n",
       " ((u'hashtag', u'#WITBragDay'), 31),\n",
       " ((u'\\ufe0f', u'\\ufe0f'), 29),\n",
       " ((u'tech', u'#WITBragDay'), 28),\n",
       " ((u'Check', u'#WITBragDay'), 27),\n",
       " ((u'reading', u'#WITBragDay'), 26),\n",
       " ((u'#WITBragDay', u'The'), 25)]"
      ]
     },
     "execution_count": 37,
     "metadata": {},
     "output_type": "execute_result"
    }
   ],
   "source": [
    "count_all_bigram.most_common(20)"
   ]
  },
  {
   "cell_type": "code",
   "execution_count": 38,
   "metadata": {},
   "outputs": [],
   "source": [
    "# Geo tagging and user locations"
   ]
  },
  {
   "cell_type": "code",
   "execution_count": 160,
   "metadata": {},
   "outputs": [
    {
     "data": {
      "text/plain": [
       "(4409, 10)"
      ]
     },
     "execution_count": 160,
     "metadata": {},
     "output_type": "execute_result"
    }
   ],
   "source": [
    "df.shape"
   ]
  },
  {
   "cell_type": "code",
   "execution_count": 161,
   "metadata": {},
   "outputs": [
    {
     "data": {
      "text/html": [
       "<div>\n",
       "<style scoped>\n",
       "    .dataframe tbody tr th:only-of-type {\n",
       "        vertical-align: middle;\n",
       "    }\n",
       "\n",
       "    .dataframe tbody tr th {\n",
       "        vertical-align: top;\n",
       "    }\n",
       "\n",
       "    .dataframe thead th {\n",
       "        text-align: right;\n",
       "    }\n",
       "</style>\n",
       "<table border=\"1\" class=\"dataframe\">\n",
       "  <thead>\n",
       "    <tr style=\"text-align: right;\">\n",
       "      <th></th>\n",
       "      <th>created_at</th>\n",
       "      <th>hashtags</th>\n",
       "      <th>text</th>\n",
       "      <th>favorite_count</th>\n",
       "      <th>lang</th>\n",
       "      <th>place</th>\n",
       "      <th>user_location</th>\n",
       "      <th>retweet_count</th>\n",
       "      <th>retweet_screen_name</th>\n",
       "      <th>date</th>\n",
       "    </tr>\n",
       "  </thead>\n",
       "  <tbody>\n",
       "    <tr>\n",
       "      <th>8</th>\n",
       "      <td>Sun Aug 13 08:32:29 +0000 2017</td>\n",
       "      <td>women WITBragDay</td>\n",
       "      <td>3 degrees in building industry and they rejected me because #women. IT industry welcomed me with open arms. Not a single regret #WITBragDay</td>\n",
       "      <td>9</td>\n",
       "      <td>en</td>\n",
       "      <td>NaN</td>\n",
       "      <td>Wroclaw, Poland</td>\n",
       "      <td>2</td>\n",
       "      <td>NaN</td>\n",
       "      <td>2017-08-13 08:32:29</td>\n",
       "    </tr>\n",
       "    <tr>\n",
       "      <th>13</th>\n",
       "      <td>Thu Aug 17 23:34:25 +0000 2017</td>\n",
       "      <td>WITBragDay</td>\n",
       "      <td>@azimman @LaunchDarkly sounds like you should look at the #WITBragDay tag :P</td>\n",
       "      <td>1</td>\n",
       "      <td>en</td>\n",
       "      <td>NaN</td>\n",
       "      <td>/usr/local/sin</td>\n",
       "      <td>0</td>\n",
       "      <td>NaN</td>\n",
       "      <td>2017-08-17 23:34:25</td>\n",
       "    </tr>\n",
       "    <tr>\n",
       "      <th>16</th>\n",
       "      <td>Thu Aug 17 22:15:48 +0000 2017</td>\n",
       "      <td>WITBragDay</td>\n",
       "      <td>My coding knowledge makes a difference and improves the lives of my coworkers and our customers. And it's the coolest feeling. #WITBragDay</td>\n",
       "      <td>6</td>\n",
       "      <td>en</td>\n",
       "      <td>NaN</td>\n",
       "      <td>Zionsville, IN</td>\n",
       "      <td>2</td>\n",
       "      <td>NaN</td>\n",
       "      <td>2017-08-17 22:15:48</td>\n",
       "    </tr>\n",
       "    <tr>\n",
       "      <th>44</th>\n",
       "      <td>Thu Aug 17 23:25:01 +0000 2017</td>\n",
       "      <td>WITBragDay</td>\n",
       "      <td>Built a ECS JSON-generating container definition module entirely in Terraform, because why would you not. #WITBragDay</td>\n",
       "      <td>3</td>\n",
       "      <td>en</td>\n",
       "      <td>NaN</td>\n",
       "      <td>Wellington, New Zealand</td>\n",
       "      <td>2</td>\n",
       "      <td>NaN</td>\n",
       "      <td>2017-08-17 23:25:01</td>\n",
       "    </tr>\n",
       "    <tr>\n",
       "      <th>46</th>\n",
       "      <td>Thu Aug 17 23:22:06 +0000 2017</td>\n",
       "      <td>WITBragDay</td>\n",
       "      <td>Recruiters should definitely be scrolling through #WITBragDay for their lists. Tons of awesome talent in there.</td>\n",
       "      <td>203</td>\n",
       "      <td>en</td>\n",
       "      <td>NaN</td>\n",
       "      <td>/usr/local/sin</td>\n",
       "      <td>76</td>\n",
       "      <td>NaN</td>\n",
       "      <td>2017-08-17 23:22:06</td>\n",
       "    </tr>\n",
       "  </tbody>\n",
       "</table>\n",
       "</div>"
      ],
      "text/plain": [
       "                        created_at          hashtags                                                                                                                                         text favorite_count lang place             user_location retweet_count retweet_screen_name                date\n",
       "8   Sun Aug 13 08:32:29 +0000 2017  women WITBragDay  3 degrees in building industry and they rejected me because #women. IT industry welcomed me with open arms. Not a single regret #WITBragDay  9              en   NaN   Wroclaw, Poland           2             NaN                2017-08-13 08:32:29\n",
       "13  Thu Aug 17 23:34:25 +0000 2017  WITBragDay        @azimman @LaunchDarkly sounds like you should look at the #WITBragDay tag :P                                                                 1              en   NaN   /usr/local/sin            0             NaN                2017-08-17 23:34:25\n",
       "16  Thu Aug 17 22:15:48 +0000 2017  WITBragDay        My coding knowledge makes a difference and improves the lives of my coworkers and our customers. And it's the coolest feeling. #WITBragDay   6              en   NaN   Zionsville, IN            2             NaN                2017-08-17 22:15:48\n",
       "44  Thu Aug 17 23:25:01 +0000 2017  WITBragDay        Built a ECS JSON-generating container definition module entirely in Terraform, because why would you not. #WITBragDay                        3              en   NaN   Wellington, New Zealand   2             NaN                2017-08-17 23:25:01\n",
       "46  Thu Aug 17 23:22:06 +0000 2017  WITBragDay        Recruiters should definitely be scrolling through #WITBragDay for their lists. Tons of awesome talent in there.                              203            en   NaN   /usr/local/sin            76            NaN                2017-08-17 23:22:06"
      ]
     },
     "execution_count": 161,
     "metadata": {},
     "output_type": "execute_result"
    }
   ],
   "source": [
    "df.head(5)"
   ]
  },
  {
   "cell_type": "code",
   "execution_count": 41,
   "metadata": {},
   "outputs": [
    {
     "name": "stdout",
     "output_type": "stream",
     "text": [
      "[((u'San', u'Francisco'), 105), ((u'Nairobi', u'Kenya'), 98), ((u'Minneapolis', u'MN'), 86), ((u'MN', u'USA'), 80), ((u'London', u'England'), 77)]\n"
     ]
    }
   ],
   "source": [
    "count_all_locat = Counter()\n",
    "for index, row in df.iterrows():     \n",
    "    terms_only = [term for term in preprocess(str(row['user_location'])) if term not in stop]\n",
    "    # Update the counter\n",
    "    terms_bigram = bigrams(terms_only)\n",
    "    count_all_locat.update(terms_bigram)\n",
    "print(count_all_locat.most_common(5))"
   ]
  },
  {
   "cell_type": "code",
   "execution_count": 42,
   "metadata": {},
   "outputs": [
    {
     "name": "stdout",
     "output_type": "stream",
     "text": [
      "[((u'San', u'Francisco'), 105), ((u'Nairobi', u'Kenya'), 98), ((u'Minneapolis', u'MN'), 86), ((u'MN', u'USA'), 80), ((u'London', u'England'), 77), ((u'Lagos', u'Nigeria'), 72), ((u'South', u'Africa'), 70), ((u'Francisco', u'CA'), 64), ((u'New', u'York'), 62), ((u'Seattle', u'WA'), 51), ((u'Washington', u'DC'), 49), ((u'Cape', u'Town'), 41), ((u'United', u'Kingdom'), 40), ((u'United', u'States'), 38), ((u'Bay', u'Area'), 32), ((u'Town', u'South'), 30), ((u'Houston', u'TX'), 28), ((u'Boston', u'MA'), 27), ((u'New', u'Zealand'), 27), ((u'Kingdom', u'Saudi'), 23)]\n"
     ]
    }
   ],
   "source": [
    "print(count_all_locat.most_common(20))"
   ]
  },
  {
   "cell_type": "code",
   "execution_count": 43,
   "metadata": {},
   "outputs": [],
   "source": [
    "# Sentiment analysis with textblob"
   ]
  },
  {
   "cell_type": "code",
   "execution_count": 44,
   "metadata": {},
   "outputs": [
    {
     "data": {
      "text/plain": [
       "[u'3',\n",
       " u'degrees',\n",
       " u'building',\n",
       " u'industry',\n",
       " u'rejected',\n",
       " u'#women',\n",
       " u'IT',\n",
       " u'industry',\n",
       " u'welcomed',\n",
       " u'open',\n",
       " u'arms',\n",
       " u'Not',\n",
       " u'single',\n",
       " u'regret',\n",
       " u'#WITBragDay']"
      ]
     },
     "execution_count": 44,
     "metadata": {},
     "output_type": "execute_result"
    }
   ],
   "source": [
    "# loop through the df and run a textblob on it\n",
    "test = df.head(1).text\n",
    "term_sentiment_test = [term for term in preprocess(test[0]) if term not in stop]\n",
    "term_sentiment_test"
   ]
  },
  {
   "cell_type": "code",
   "execution_count": 45,
   "metadata": {},
   "outputs": [
    {
     "data": {
      "text/plain": [
       "list"
      ]
     },
     "execution_count": 45,
     "metadata": {},
     "output_type": "execute_result"
    }
   ],
   "source": [
    "type(term_sentiment_test)"
   ]
  },
  {
   "cell_type": "code",
   "execution_count": 46,
   "metadata": {},
   "outputs": [],
   "source": [
    "str1 = ' '.join(term_sentiment_test)"
   ]
  },
  {
   "cell_type": "code",
   "execution_count": 47,
   "metadata": {},
   "outputs": [
    {
     "data": {
      "text/plain": [
       "u'3 degrees building industry rejected #women IT industry welcomed open arms Not single regret #WITBragDay'"
      ]
     },
     "execution_count": 47,
     "metadata": {},
     "output_type": "execute_result"
    }
   ],
   "source": [
    "str1"
   ]
  },
  {
   "cell_type": "code",
   "execution_count": 102,
   "metadata": {},
   "outputs": [],
   "source": [
    "from textblob import TextBlob"
   ]
  },
  {
   "cell_type": "code",
   "execution_count": 17,
   "metadata": {},
   "outputs": [],
   "source": [
    "def sentiment_calc(text):\n",
    "    try:\n",
    "        term_sentiment = [term for term in preprocess(text) if term not in stop]\n",
    "        str_contact = ' '.join(term_sentiment)\n",
    "        return TextBlob(str_contact).sentiment\n",
    "    except:\n",
    "        return None"
   ]
  },
  {
   "cell_type": "code",
   "execution_count": 18,
   "metadata": {},
   "outputs": [],
   "source": [
    "df['sentiment'] = df['text'].apply(sentiment_calc)\n",
    "# Returns the Sentiment(polarity, subjectivity)"
   ]
  },
  {
   "cell_type": "code",
   "execution_count": 19,
   "metadata": {},
   "outputs": [
    {
     "data": {
      "text/plain": [
       "Unnamed: 0               int64\n",
       "created_at              object\n",
       "hashtags                object\n",
       "text                    object\n",
       "favorite_count           int64\n",
       "lang                    object\n",
       "place                   object\n",
       "user_location           object\n",
       "retweet_count            int64\n",
       "retweet_screen_name    float64\n",
       "date                    object\n",
       "sentiment               object\n",
       "dtype: object"
      ]
     },
     "execution_count": 19,
     "metadata": {},
     "output_type": "execute_result"
    }
   ],
   "source": [
    "df.dtypes"
   ]
  },
  {
   "cell_type": "code",
   "execution_count": 20,
   "metadata": {},
   "outputs": [],
   "source": [
    "def polarity(sentiment):\n",
    "    if sentiment.polarity > 0: \n",
    "        return 'positive'\n",
    "    elif sentiment.polarity == 0: \n",
    "        return 'neutral'\n",
    "    else: \n",
    "        return 'negative'"
   ]
  },
  {
   "cell_type": "code",
   "execution_count": 21,
   "metadata": {},
   "outputs": [],
   "source": [
    "df['polarity'] = df['sentiment'].apply(polarity)"
   ]
  },
  {
   "cell_type": "code",
   "execution_count": 22,
   "metadata": {},
   "outputs": [
    {
     "data": {
      "text/html": [
       "<div>\n",
       "<style scoped>\n",
       "    .dataframe tbody tr th:only-of-type {\n",
       "        vertical-align: middle;\n",
       "    }\n",
       "\n",
       "    .dataframe tbody tr th {\n",
       "        vertical-align: top;\n",
       "    }\n",
       "\n",
       "    .dataframe thead th {\n",
       "        text-align: right;\n",
       "    }\n",
       "</style>\n",
       "<table border=\"1\" class=\"dataframe\">\n",
       "  <thead>\n",
       "    <tr style=\"text-align: right;\">\n",
       "      <th></th>\n",
       "      <th>Unnamed: 0</th>\n",
       "      <th>created_at</th>\n",
       "      <th>hashtags</th>\n",
       "      <th>text</th>\n",
       "      <th>favorite_count</th>\n",
       "      <th>lang</th>\n",
       "      <th>place</th>\n",
       "      <th>user_location</th>\n",
       "      <th>retweet_count</th>\n",
       "      <th>retweet_screen_name</th>\n",
       "      <th>date</th>\n",
       "      <th>sentiment</th>\n",
       "      <th>polarity</th>\n",
       "    </tr>\n",
       "  </thead>\n",
       "  <tbody>\n",
       "    <tr>\n",
       "      <th>0</th>\n",
       "      <td>8</td>\n",
       "      <td>Sun Aug 13 08:32:29 +0000 2017</td>\n",
       "      <td>women WITBragDay</td>\n",
       "      <td>3 degrees in building industry and they reject...</td>\n",
       "      <td>9</td>\n",
       "      <td>en</td>\n",
       "      <td>NaN</td>\n",
       "      <td>Wroclaw, Poland</td>\n",
       "      <td>2</td>\n",
       "      <td>NaN</td>\n",
       "      <td>2017-08-13 08:32:29</td>\n",
       "      <td>(0.0178571428571, 0.357142857143)</td>\n",
       "      <td>positive</td>\n",
       "    </tr>\n",
       "    <tr>\n",
       "      <th>1</th>\n",
       "      <td>13</td>\n",
       "      <td>Thu Aug 17 23:34:25 +0000 2017</td>\n",
       "      <td>WITBragDay</td>\n",
       "      <td>@azimman @LaunchDarkly sounds like you should ...</td>\n",
       "      <td>1</td>\n",
       "      <td>en</td>\n",
       "      <td>NaN</td>\n",
       "      <td>/usr/local/sin</td>\n",
       "      <td>0</td>\n",
       "      <td>NaN</td>\n",
       "      <td>2017-08-17 23:34:25</td>\n",
       "      <td>(0.75, 1.0)</td>\n",
       "      <td>positive</td>\n",
       "    </tr>\n",
       "  </tbody>\n",
       "</table>\n",
       "</div>"
      ],
      "text/plain": [
       "   Unnamed: 0                      created_at          hashtags  \\\n",
       "0           8  Sun Aug 13 08:32:29 +0000 2017  women WITBragDay   \n",
       "1          13  Thu Aug 17 23:34:25 +0000 2017        WITBragDay   \n",
       "\n",
       "                                                text  favorite_count lang  \\\n",
       "0  3 degrees in building industry and they reject...               9   en   \n",
       "1  @azimman @LaunchDarkly sounds like you should ...               1   en   \n",
       "\n",
       "  place    user_location  retweet_count  retweet_screen_name  \\\n",
       "0   NaN  Wroclaw, Poland              2                  NaN   \n",
       "1   NaN   /usr/local/sin              0                  NaN   \n",
       "\n",
       "                  date                          sentiment  polarity  \n",
       "0  2017-08-13 08:32:29  (0.0178571428571, 0.357142857143)  positive  \n",
       "1  2017-08-17 23:34:25                        (0.75, 1.0)  positive  "
      ]
     },
     "execution_count": 22,
     "metadata": {},
     "output_type": "execute_result"
    }
   ],
   "source": [
    "df.head(2)"
   ]
  },
  {
   "cell_type": "code",
   "execution_count": 88,
   "metadata": {},
   "outputs": [],
   "source": [
    "df.to_csv('WITBrag_Clean_Noretweets_Sentiments.csv')"
   ]
  },
  {
   "cell_type": "code",
   "execution_count": 5,
   "metadata": {},
   "outputs": [],
   "source": [
    "df = pd.read_csv(\"WITBrag_Clean_Noretweets_Sentiments.csv\")"
   ]
  },
  {
   "cell_type": "code",
   "execution_count": 6,
   "metadata": {},
   "outputs": [
    {
     "data": {
      "text/plain": [
       "Unnamed: 0               int64\n",
       "Unnamed: 0.1             int64\n",
       "created_at              object\n",
       "hashtags                object\n",
       "text                    object\n",
       "favorite_count           int64\n",
       "lang                    object\n",
       "place                   object\n",
       "user_location           object\n",
       "retweet_count            int64\n",
       "retweet_screen_name    float64\n",
       "date                    object\n",
       "sentiment               object\n",
       "polarity                object\n",
       "dtype: object"
      ]
     },
     "execution_count": 6,
     "metadata": {},
     "output_type": "execute_result"
    }
   ],
   "source": [
    "df.dtypes"
   ]
  },
  {
   "cell_type": "code",
   "execution_count": 57,
   "metadata": {},
   "outputs": [],
   "source": [
    "from geotext import GeoText"
   ]
  },
  {
   "cell_type": "code",
   "execution_count": 58,
   "metadata": {},
   "outputs": [
    {
     "data": {
      "text/plain": [
       "'Wroclaw, Poland'"
      ]
     },
     "execution_count": 58,
     "metadata": {},
     "output_type": "execute_result"
    }
   ],
   "source": [
    "df.head(1).user_location[0]"
   ]
  },
  {
   "cell_type": "code",
   "execution_count": 59,
   "metadata": {},
   "outputs": [
    {
     "name": "stdout",
     "output_type": "stream",
     "text": [
      "found\n"
     ]
    }
   ],
   "source": [
    "# Testing\n",
    "places = GeoText(\"New York\")\n",
    "count = places.country_mentions\n",
    "# \"London\"\n",
    "if 'US' in count:\n",
    "    print \"found\"\n",
    "else:\n",
    "    print \"not\""
   ]
  },
  {
   "cell_type": "code",
   "execution_count": 60,
   "metadata": {},
   "outputs": [],
   "source": [
    "# Get the City to State Dictionary\n",
    "from cityToState import city_to_state_dict"
   ]
  },
  {
   "cell_type": "code",
   "execution_count": 61,
   "metadata": {},
   "outputs": [],
   "source": [
    "   states = {\n",
    "\n",
    "         'Alabama','Alaska','Arizona','Arkansas','California','Colorado',\n",
    "         'Connecticut','Delaware','Florida','Georgia','Hawaii','Idaho', \n",
    "         'Illinois','Indiana','Iowa','Kansas','Kentucky','Louisiana',\n",
    "         'Maine' 'Maryland','Massachusetts','Michigan','Minnesota',\n",
    "         'Mississippi', 'Missouri','Montana','Nebraska','Nevada',\n",
    "         'New Hampshire','New Jersey','New Mexico','New York',\n",
    "         'North Carolina','North Dakota','Ohio',    \n",
    "         'Oklahoma','Oregon','Pennsylvania','Rhode Island',\n",
    "         'South  Carolina','South Dakota','Tennessee','Texas','Utah',\n",
    "         'Vermont','Virginia','Washington','West Virginia',\n",
    "         'Wisconsin','Wyoming'\n",
    "    }\n"
   ]
  },
  {
   "cell_type": "code",
   "execution_count": 62,
   "metadata": {},
   "outputs": [],
   "source": [
    "def filterUSLocations(address):\n",
    "    str_address = str(address) # Convert the address to string\n",
    "    userCountry = GeoText(str_address).country_mentions # Use Geotext to get the country mentioned in the addr.\n",
    "    if 'US' in userCountry:   # This is a US address\n",
    "        city = GeoText(str_address).cities\n",
    "        # first check if the city name is somehow . a state name as well\n",
    "        if city:\n",
    "            if city[0] in states:\n",
    "                return city[0]\n",
    "            if city[0] in city_to_state_dict:\n",
    "                return city_to_state_dict[city[0]]\n",
    "        else:\n",
    "            return\n",
    "    else:\n",
    "        return\n",
    "    "
   ]
  },
  {
   "cell_type": "code",
   "execution_count": 63,
   "metadata": {},
   "outputs": [
    {
     "name": "stdout",
     "output_type": "stream",
     "text": [
      "None\n"
     ]
    }
   ],
   "source": [
    "print(filterUSLocations(\"asdfasdf\"))"
   ]
  },
  {
   "cell_type": "code",
   "execution_count": 64,
   "metadata": {},
   "outputs": [],
   "source": [
    "df['US_State'] = df['user_location'].apply(filterUSLocations)"
   ]
  },
  {
   "cell_type": "code",
   "execution_count": 65,
   "metadata": {},
   "outputs": [],
   "source": [
    "# create a new df with only US states\n",
    "df.dropna(subset=['US_State'], inplace=True)"
   ]
  },
  {
   "cell_type": "code",
   "execution_count": 66,
   "metadata": {},
   "outputs": [
    {
     "data": {
      "text/html": [
       "<div>\n",
       "<style scoped>\n",
       "    .dataframe tbody tr th:only-of-type {\n",
       "        vertical-align: middle;\n",
       "    }\n",
       "\n",
       "    .dataframe tbody tr th {\n",
       "        vertical-align: top;\n",
       "    }\n",
       "\n",
       "    .dataframe thead th {\n",
       "        text-align: right;\n",
       "    }\n",
       "</style>\n",
       "<table border=\"1\" class=\"dataframe\">\n",
       "  <thead>\n",
       "    <tr style=\"text-align: right;\">\n",
       "      <th></th>\n",
       "      <th>Unnamed: 0</th>\n",
       "      <th>Unnamed: 0.1</th>\n",
       "      <th>created_at</th>\n",
       "      <th>hashtags</th>\n",
       "      <th>text</th>\n",
       "      <th>favorite_count</th>\n",
       "      <th>lang</th>\n",
       "      <th>place</th>\n",
       "      <th>user_location</th>\n",
       "      <th>retweet_count</th>\n",
       "      <th>retweet_screen_name</th>\n",
       "      <th>date</th>\n",
       "      <th>sentiment</th>\n",
       "      <th>polarity</th>\n",
       "      <th>US_State</th>\n",
       "    </tr>\n",
       "  </thead>\n",
       "  <tbody>\n",
       "    <tr>\n",
       "      <th>3</th>\n",
       "      <td>3</td>\n",
       "      <td>44</td>\n",
       "      <td>Thu Aug 17 23:25:01 +0000 2017</td>\n",
       "      <td>WITBragDay</td>\n",
       "      <td>Built a ECS JSON-generating container definiti...</td>\n",
       "      <td>3</td>\n",
       "      <td>en</td>\n",
       "      <td>NaN</td>\n",
       "      <td>Wellington, New Zealand</td>\n",
       "      <td>2</td>\n",
       "      <td>NaN</td>\n",
       "      <td>2017-08-17 23:25:01</td>\n",
       "      <td>Sentiment(polarity=0.0, subjectivity=0.625)</td>\n",
       "      <td>neutral</td>\n",
       "      <td>Florida</td>\n",
       "    </tr>\n",
       "    <tr>\n",
       "      <th>5</th>\n",
       "      <td>5</td>\n",
       "      <td>51</td>\n",
       "      <td>Thu Aug 17 23:26:32 +0000 2017</td>\n",
       "      <td>WITBragDay</td>\n",
       "      <td>Started a company doing DevOps consulting. Sti...</td>\n",
       "      <td>22</td>\n",
       "      <td>en</td>\n",
       "      <td>NaN</td>\n",
       "      <td>Wellington, New Zealand</td>\n",
       "      <td>2</td>\n",
       "      <td>NaN</td>\n",
       "      <td>2017-08-17 23:26:32</td>\n",
       "      <td>Sentiment(polarity=0.8, subjectivity=1.0)</td>\n",
       "      <td>positive</td>\n",
       "      <td>Florida</td>\n",
       "    </tr>\n",
       "    <tr>\n",
       "      <th>29</th>\n",
       "      <td>29</td>\n",
       "      <td>220</td>\n",
       "      <td>Sun Aug 13 08:43:21 +0000 2017</td>\n",
       "      <td>WITBragDay</td>\n",
       "      <td>Check out this hashtag #WITBragDay</td>\n",
       "      <td>3</td>\n",
       "      <td>en</td>\n",
       "      <td>San Jose, CA</td>\n",
       "      <td>San Jose, CA</td>\n",
       "      <td>0</td>\n",
       "      <td>NaN</td>\n",
       "      <td>2017-08-13 08:43:21</td>\n",
       "      <td>Sentiment(polarity=0.0, subjectivity=0.0)</td>\n",
       "      <td>neutral</td>\n",
       "      <td>California</td>\n",
       "    </tr>\n",
       "    <tr>\n",
       "      <th>39</th>\n",
       "      <td>39</td>\n",
       "      <td>262</td>\n",
       "      <td>Sun Aug 13 08:09:01 +0000 2017</td>\n",
       "      <td>WITBragDay UX UXAustralia</td>\n",
       "      <td>Wow! I'm loving the stories from #WITBragDay t...</td>\n",
       "      <td>4</td>\n",
       "      <td>en</td>\n",
       "      <td>Melbourne, Victoria</td>\n",
       "      <td>Melbourne, Australia</td>\n",
       "      <td>1</td>\n",
       "      <td>NaN</td>\n",
       "      <td>2017-08-13 08:09:01</td>\n",
       "      <td>Sentiment(polarity=0.39999999999999997, subjec...</td>\n",
       "      <td>positive</td>\n",
       "      <td>Florida</td>\n",
       "    </tr>\n",
       "    <tr>\n",
       "      <th>65</th>\n",
       "      <td>65</td>\n",
       "      <td>444</td>\n",
       "      <td>Sun Aug 13 08:19:01 +0000 2017</td>\n",
       "      <td>WITBragDay</td>\n",
       "      <td>If you're looking for something positive to lo...</td>\n",
       "      <td>7</td>\n",
       "      <td>en</td>\n",
       "      <td>NaN</td>\n",
       "      <td>Washington, DC</td>\n",
       "      <td>4</td>\n",
       "      <td>NaN</td>\n",
       "      <td>2017-08-13 08:19:01</td>\n",
       "      <td>Sentiment(polarity=0.22727272727272727, subjec...</td>\n",
       "      <td>positive</td>\n",
       "      <td>Washington</td>\n",
       "    </tr>\n",
       "    <tr>\n",
       "      <th>68</th>\n",
       "      <td>68</td>\n",
       "      <td>498</td>\n",
       "      <td>Sun Aug 13 07:31:57 +0000 2017</td>\n",
       "      <td>WITBragDay</td>\n",
       "      <td>This is bad ass! 😎 #WITBragDay https://t.co/8...</td>\n",
       "      <td>14</td>\n",
       "      <td>en</td>\n",
       "      <td>NaN</td>\n",
       "      <td>Dublin, Ireland</td>\n",
       "      <td>4</td>\n",
       "      <td>NaN</td>\n",
       "      <td>2017-08-13 07:31:57</td>\n",
       "      <td>Sentiment(polarity=-0.6999999999999998, subjec...</td>\n",
       "      <td>negative</td>\n",
       "      <td>California</td>\n",
       "    </tr>\n",
       "    <tr>\n",
       "      <th>82</th>\n",
       "      <td>82</td>\n",
       "      <td>692</td>\n",
       "      <td>Sun Aug 13 07:50:19 +0000 2017</td>\n",
       "      <td>WITBragDay Ireland</td>\n",
       "      <td>Spread the word about #WITBragDay. I want to h...</td>\n",
       "      <td>9</td>\n",
       "      <td>en</td>\n",
       "      <td>NaN</td>\n",
       "      <td>Dublin, Ireland</td>\n",
       "      <td>4</td>\n",
       "      <td>NaN</td>\n",
       "      <td>2017-08-13 07:50:19</td>\n",
       "      <td>Sentiment(polarity=0.0, subjectivity=0.0)</td>\n",
       "      <td>neutral</td>\n",
       "      <td>California</td>\n",
       "    </tr>\n",
       "    <tr>\n",
       "      <th>101</th>\n",
       "      <td>101</td>\n",
       "      <td>821</td>\n",
       "      <td>Sun Aug 13 07:21:12 +0000 2017</td>\n",
       "      <td>WITBragDay</td>\n",
       "      <td>Very inspiring to read others stories #WITBrag...</td>\n",
       "      <td>3</td>\n",
       "      <td>en</td>\n",
       "      <td>NaN</td>\n",
       "      <td>Cambridge</td>\n",
       "      <td>0</td>\n",
       "      <td>NaN</td>\n",
       "      <td>2017-08-13 07:21:12</td>\n",
       "      <td>Sentiment(polarity=0.65, subjectivity=1.0)</td>\n",
       "      <td>positive</td>\n",
       "      <td>Massachusetts</td>\n",
       "    </tr>\n",
       "    <tr>\n",
       "      <th>103</th>\n",
       "      <td>103</td>\n",
       "      <td>824</td>\n",
       "      <td>Sun Aug 13 07:20:44 +0000 2017</td>\n",
       "      <td>NaN</td>\n",
       "      <td>Thank you for making Gmail as it is. :D https:...</td>\n",
       "      <td>1</td>\n",
       "      <td>en</td>\n",
       "      <td>NaN</td>\n",
       "      <td>Norfolk, UK</td>\n",
       "      <td>0</td>\n",
       "      <td>NaN</td>\n",
       "      <td>2017-08-13 07:20:44</td>\n",
       "      <td>Sentiment(polarity=1.0, subjectivity=1.0)</td>\n",
       "      <td>positive</td>\n",
       "      <td>Nebraska</td>\n",
       "    </tr>\n",
       "    <tr>\n",
       "      <th>112</th>\n",
       "      <td>112</td>\n",
       "      <td>885</td>\n",
       "      <td>Sun Aug 13 06:40:01 +0000 2017</td>\n",
       "      <td>NaN</td>\n",
       "      <td>This is hella precious! https://t.co/eIZyhncI2G</td>\n",
       "      <td>1</td>\n",
       "      <td>en</td>\n",
       "      <td>NaN</td>\n",
       "      <td>Houston,Texas</td>\n",
       "      <td>0</td>\n",
       "      <td>NaN</td>\n",
       "      <td>2017-08-13 06:40:01</td>\n",
       "      <td>Sentiment(polarity=0.5, subjectivity=1.0)</td>\n",
       "      <td>positive</td>\n",
       "      <td>Texas</td>\n",
       "    </tr>\n",
       "  </tbody>\n",
       "</table>\n",
       "</div>"
      ],
      "text/plain": [
       "     Unnamed: 0  Unnamed: 0.1                      created_at  \\\n",
       "3             3            44  Thu Aug 17 23:25:01 +0000 2017   \n",
       "5             5            51  Thu Aug 17 23:26:32 +0000 2017   \n",
       "29           29           220  Sun Aug 13 08:43:21 +0000 2017   \n",
       "39           39           262  Sun Aug 13 08:09:01 +0000 2017   \n",
       "65           65           444  Sun Aug 13 08:19:01 +0000 2017   \n",
       "68           68           498  Sun Aug 13 07:31:57 +0000 2017   \n",
       "82           82           692  Sun Aug 13 07:50:19 +0000 2017   \n",
       "101         101           821  Sun Aug 13 07:21:12 +0000 2017   \n",
       "103         103           824  Sun Aug 13 07:20:44 +0000 2017   \n",
       "112         112           885  Sun Aug 13 06:40:01 +0000 2017   \n",
       "\n",
       "                      hashtags  \\\n",
       "3                   WITBragDay   \n",
       "5                   WITBragDay   \n",
       "29                  WITBragDay   \n",
       "39   WITBragDay UX UXAustralia   \n",
       "65                  WITBragDay   \n",
       "68                  WITBragDay   \n",
       "82          WITBragDay Ireland   \n",
       "101                 WITBragDay   \n",
       "103                        NaN   \n",
       "112                        NaN   \n",
       "\n",
       "                                                  text  favorite_count lang  \\\n",
       "3    Built a ECS JSON-generating container definiti...               3   en   \n",
       "5    Started a company doing DevOps consulting. Sti...              22   en   \n",
       "29                  Check out this hashtag #WITBragDay               3   en   \n",
       "39   Wow! I'm loving the stories from #WITBragDay t...               4   en   \n",
       "65   If you're looking for something positive to lo...               7   en   \n",
       "68   This is bad ass! 😎 #WITBragDay https://t.co/8...              14   en   \n",
       "82   Spread the word about #WITBragDay. I want to h...               9   en   \n",
       "101  Very inspiring to read others stories #WITBrag...               3   en   \n",
       "103  Thank you for making Gmail as it is. :D https:...               1   en   \n",
       "112    This is hella precious! https://t.co/eIZyhncI2G               1   en   \n",
       "\n",
       "                   place             user_location  retweet_count  \\\n",
       "3                    NaN  Wellington, New Zealand               2   \n",
       "5                    NaN  Wellington, New Zealand               2   \n",
       "29          San Jose, CA              San Jose, CA              0   \n",
       "39   Melbourne, Victoria     Melbourne, Australia               1   \n",
       "65                   NaN            Washington, DC              4   \n",
       "68                   NaN           Dublin, Ireland              4   \n",
       "82                   NaN           Dublin, Ireland              4   \n",
       "101                  NaN                 Cambridge              0   \n",
       "103                  NaN               Norfolk, UK              0   \n",
       "112                  NaN             Houston,Texas              0   \n",
       "\n",
       "     retweet_screen_name                 date  \\\n",
       "3                    NaN  2017-08-17 23:25:01   \n",
       "5                    NaN  2017-08-17 23:26:32   \n",
       "29                   NaN  2017-08-13 08:43:21   \n",
       "39                   NaN  2017-08-13 08:09:01   \n",
       "65                   NaN  2017-08-13 08:19:01   \n",
       "68                   NaN  2017-08-13 07:31:57   \n",
       "82                   NaN  2017-08-13 07:50:19   \n",
       "101                  NaN  2017-08-13 07:21:12   \n",
       "103                  NaN  2017-08-13 07:20:44   \n",
       "112                  NaN  2017-08-13 06:40:01   \n",
       "\n",
       "                                             sentiment  polarity  \\\n",
       "3          Sentiment(polarity=0.0, subjectivity=0.625)   neutral   \n",
       "5            Sentiment(polarity=0.8, subjectivity=1.0)  positive   \n",
       "29           Sentiment(polarity=0.0, subjectivity=0.0)   neutral   \n",
       "39   Sentiment(polarity=0.39999999999999997, subjec...  positive   \n",
       "65   Sentiment(polarity=0.22727272727272727, subjec...  positive   \n",
       "68   Sentiment(polarity=-0.6999999999999998, subjec...  negative   \n",
       "82           Sentiment(polarity=0.0, subjectivity=0.0)   neutral   \n",
       "101         Sentiment(polarity=0.65, subjectivity=1.0)  positive   \n",
       "103          Sentiment(polarity=1.0, subjectivity=1.0)  positive   \n",
       "112          Sentiment(polarity=0.5, subjectivity=1.0)  positive   \n",
       "\n",
       "          US_State  \n",
       "3          Florida  \n",
       "5          Florida  \n",
       "29      California  \n",
       "39         Florida  \n",
       "65      Washington  \n",
       "68      California  \n",
       "82      California  \n",
       "101  Massachusetts  \n",
       "103       Nebraska  \n",
       "112          Texas  "
      ]
     },
     "execution_count": 66,
     "metadata": {},
     "output_type": "execute_result"
    }
   ],
   "source": [
    "# Only has US states\n",
    "df.head(10)"
   ]
  },
  {
   "cell_type": "code",
   "execution_count": 67,
   "metadata": {},
   "outputs": [
    {
     "name": "stdout",
     "output_type": "stream",
     "text": [
      "[(u'#WITBragDay', 628), (u'I', 334), (u'women', 102), (u'amp', 93), (u'tech', 92)]\n"
     ]
    }
   ],
   "source": [
    "# The DF is not that accurate right now but will work for the test viz\n",
    "# Recount all the terms \n",
    "# Create a Counter Collection\n",
    "count_all = Counter()\n",
    "# Iterate over the Dataframe rows\n",
    "for index, row in df.iterrows():     \n",
    "    # Get the terms of each tweet while preprocessing it and remove the stop words from the tweet\n",
    "    terms_stop = [term for term in preprocess(row['text']) if term not in stop and not term.startswith(r\"\\x\")]\n",
    "    # Update the counter\n",
    "    count_all.update(terms_stop)\n",
    "print(count_all.most_common(5))"
   ]
  },
  {
   "cell_type": "code",
   "execution_count": 68,
   "metadata": {},
   "outputs": [],
   "source": [
    "# The results are still the same\n",
    "dff = df"
   ]
  },
  {
   "cell_type": "code",
   "execution_count": 1,
   "metadata": {},
   "outputs": [
    {
     "ename": "NameError",
     "evalue": "name 'dff' is not defined",
     "output_type": "error",
     "traceback": [
      "\u001b[0;31m---------------------------------------------------------------------------\u001b[0m",
      "\u001b[0;31mNameError\u001b[0m                                 Traceback (most recent call last)",
      "\u001b[0;32m<ipython-input-1-342616e46455>\u001b[0m in \u001b[0;36m<module>\u001b[0;34m()\u001b[0m\n\u001b[0;32m----> 1\u001b[0;31m \u001b[0mdff\u001b[0m\u001b[0;34m.\u001b[0m\u001b[0mgroupby\u001b[0m\u001b[0;34m(\u001b[0m\u001b[0;34m[\u001b[0m\u001b[0;34m\"US_State\"\u001b[0m\u001b[0;34m,\u001b[0m \u001b[0;34m\"polarity\"\u001b[0m\u001b[0;34m]\u001b[0m\u001b[0;34m)\u001b[0m\u001b[0;34m.\u001b[0m\u001b[0msize\u001b[0m\u001b[0;34m(\u001b[0m\u001b[0;34m)\u001b[0m\u001b[0;34m\u001b[0m\u001b[0m\n\u001b[0m",
      "\u001b[0;31mNameError\u001b[0m: name 'dff' is not defined"
     ]
    }
   ],
   "source": [
    "dff.groupby([\"US_State\", \"polarity\"]).size()"
   ]
  },
  {
   "cell_type": "code",
   "execution_count": 112,
   "metadata": {},
   "outputs": [],
   "source": [
    "new_Df = pd.DataFrame({'count' : dff.groupby([\"US_State\", \"polarity\"]).size()}).reset_index()"
   ]
  },
  {
   "cell_type": "code",
   "execution_count": 117,
   "metadata": {},
   "outputs": [
    {
     "data": {
      "text/html": [
       "<div>\n",
       "<style scoped>\n",
       "    .dataframe tbody tr th:only-of-type {\n",
       "        vertical-align: middle;\n",
       "    }\n",
       "\n",
       "    .dataframe tbody tr th {\n",
       "        vertical-align: top;\n",
       "    }\n",
       "\n",
       "    .dataframe thead th {\n",
       "        text-align: right;\n",
       "    }\n",
       "</style>\n",
       "<table border=\"1\" class=\"dataframe\">\n",
       "  <thead>\n",
       "    <tr style=\"text-align: right;\">\n",
       "      <th></th>\n",
       "      <th>US_State</th>\n",
       "      <th>polarity</th>\n",
       "      <th>count</th>\n",
       "    </tr>\n",
       "  </thead>\n",
       "  <tbody>\n",
       "    <tr>\n",
       "      <th>0</th>\n",
       "      <td>Alabama</td>\n",
       "      <td>positive</td>\n",
       "      <td>5</td>\n",
       "    </tr>\n",
       "    <tr>\n",
       "      <th>1</th>\n",
       "      <td>Arizona</td>\n",
       "      <td>neutral</td>\n",
       "      <td>4</td>\n",
       "    </tr>\n",
       "    <tr>\n",
       "      <th>2</th>\n",
       "      <td>Arizona</td>\n",
       "      <td>positive</td>\n",
       "      <td>5</td>\n",
       "    </tr>\n",
       "    <tr>\n",
       "      <th>3</th>\n",
       "      <td>California</td>\n",
       "      <td>negative</td>\n",
       "      <td>10</td>\n",
       "    </tr>\n",
       "    <tr>\n",
       "      <th>4</th>\n",
       "      <td>California</td>\n",
       "      <td>neutral</td>\n",
       "      <td>83</td>\n",
       "    </tr>\n",
       "    <tr>\n",
       "      <th>5</th>\n",
       "      <td>California</td>\n",
       "      <td>positive</td>\n",
       "      <td>109</td>\n",
       "    </tr>\n",
       "    <tr>\n",
       "      <th>6</th>\n",
       "      <td>Colorado</td>\n",
       "      <td>negative</td>\n",
       "      <td>2</td>\n",
       "    </tr>\n",
       "    <tr>\n",
       "      <th>7</th>\n",
       "      <td>Colorado</td>\n",
       "      <td>neutral</td>\n",
       "      <td>3</td>\n",
       "    </tr>\n",
       "    <tr>\n",
       "      <th>8</th>\n",
       "      <td>Colorado</td>\n",
       "      <td>positive</td>\n",
       "      <td>13</td>\n",
       "    </tr>\n",
       "    <tr>\n",
       "      <th>9</th>\n",
       "      <td>Connecticut</td>\n",
       "      <td>neutral</td>\n",
       "      <td>3</td>\n",
       "    </tr>\n",
       "  </tbody>\n",
       "</table>\n",
       "</div>"
      ],
      "text/plain": [
       "      US_State  polarity  count\n",
       "0      Alabama  positive      5\n",
       "1      Arizona   neutral      4\n",
       "2      Arizona  positive      5\n",
       "3   California  negative     10\n",
       "4   California   neutral     83\n",
       "5   California  positive    109\n",
       "6     Colorado  negative      2\n",
       "7     Colorado   neutral      3\n",
       "8     Colorado  positive     13\n",
       "9  Connecticut   neutral      3"
      ]
     },
     "execution_count": 117,
     "metadata": {},
     "output_type": "execute_result"
    }
   ],
   "source": [
    "new_Df.head(10)"
   ]
  },
  {
   "cell_type": "code",
   "execution_count": null,
   "metadata": {},
   "outputs": [],
   "source": []
  },
  {
   "cell_type": "code",
   "execution_count": 116,
   "metadata": {},
   "outputs": [],
   "source": [
    "us_state_abbrev = {\n",
    "    'Alabama': 'AL',\n",
    "    'Alaska': 'AK',\n",
    "    'Arizona': 'AZ',\n",
    "    'Arkansas': 'AR',\n",
    "    'California': 'CA',\n",
    "    'Colorado': 'CO',\n",
    "    'Connecticut': 'CT',\n",
    "    'Delaware': 'DE',\n",
    "    'Florida': 'FL',\n",
    "    'Georgia': 'GA',\n",
    "    'Hawaii': 'HI',\n",
    "    'Idaho': 'ID',\n",
    "    'Illinois': 'IL',\n",
    "    'Indiana': 'IN',\n",
    "    'Iowa': 'IA',\n",
    "    'Kansas': 'KS',\n",
    "    'Kentucky': 'KY',\n",
    "    'Louisiana': 'LA',\n",
    "    'Maine': 'ME',\n",
    "    'Maryland': 'MD',\n",
    "    'Massachusetts': 'MA',\n",
    "    'Michigan': 'MI',\n",
    "    'Minnesota': 'MN',\n",
    "    'Mississippi': 'MS',\n",
    "    'Missouri': 'MO',\n",
    "    'Montana': 'MT',\n",
    "    'Nebraska': 'NE',\n",
    "    'Nevada': 'NV',\n",
    "    'New Hampshire': 'NH',\n",
    "    'New Jersey': 'NJ',\n",
    "    'New Mexico': 'NM',\n",
    "    'New York': 'NY',\n",
    "    'North Carolina': 'NC',\n",
    "    'North Dakota': 'ND',\n",
    "    'Ohio': 'OH',\n",
    "    'Oklahoma': 'OK',\n",
    "    'Oregon': 'OR',\n",
    "    'Pennsylvania': 'PA',\n",
    "    'Rhode Island': 'RI',\n",
    "    'South Carolina': 'SC',\n",
    "    'South Dakota': 'SD',\n",
    "    'Tennessee': 'TN',\n",
    "    'Texas': 'TX',\n",
    "    'Utah': 'UT',\n",
    "    'Vermont': 'VT',\n",
    "    'Virginia': 'VA',\n",
    "    'Washington': 'WA',\n",
    "    'West Virginia': 'WV',\n",
    "    'Wisconsin': 'WI',\n",
    "    'Wyoming': 'WY',\n",
    "}"
   ]
  },
  {
   "cell_type": "code",
   "execution_count": 133,
   "metadata": {},
   "outputs": [],
   "source": [
    "d = {}\n",
    "for i in new_Df['US_State']:\n",
    "    ab = us_state_abbrev[i]\n",
    "    d[ab] = [{new_Df['polarity'][j]: new_Df['count'][j]} for j in new_Df[new_Df['US_State']==i].index]"
   ]
  },
  {
   "cell_type": "code",
   "execution_count": 134,
   "metadata": {},
   "outputs": [
    {
     "data": {
      "text/plain": [
       "{'AL': [{'positive': 5}],\n",
       " 'AZ': [{'neutral': 4}, {'positive': 5}],\n",
       " 'CA': [{'negative': 10}, {'neutral': 83}, {'positive': 109}],\n",
       " 'CO': [{'negative': 2}, {'neutral': 3}, {'positive': 13}],\n",
       " 'CT': [{'neutral': 3}],\n",
       " 'DE': [{'negative': 1}, {'positive': 1}],\n",
       " 'FL': [{'negative': 3}, {'neutral': 34}, {'positive': 35}],\n",
       " 'GA': [{'negative': 3}, {'neutral': 23}, {'positive': 8}],\n",
       " 'HI': [{'positive': 1}],\n",
       " 'IA': [{'negative': 1}, {'neutral': 2}, {'positive': 3}],\n",
       " 'ID': [{'positive': 1}],\n",
       " 'IL': [{'negative': 8}, {'neutral': 21}, {'positive': 30}],\n",
       " 'IN': [{'negative': 1}, {'neutral': 4}, {'positive': 3}],\n",
       " 'KS': [{'neutral': 4}, {'positive': 1}],\n",
       " 'LA': [{'negative': 1}, {'neutral': 3}],\n",
       " 'MA': [{'negative': 4}, {'neutral': 20}, {'positive': 32}],\n",
       " 'MD': [{'negative': 1}, {'neutral': 7}, {'positive': 9}],\n",
       " 'MI': [{'negative': 2}, {'neutral': 7}, {'positive': 8}],\n",
       " 'MN': [{'negative': 4}, {'neutral': 32}, {'positive': 81}],\n",
       " 'MO': [{'neutral': 1}, {'positive': 1}],\n",
       " 'MS': [{'neutral': 1}, {'positive': 2}],\n",
       " 'NC': [{'negative': 1}, {'neutral': 2}, {'positive': 10}],\n",
       " 'NE': [{'neutral': 2}, {'positive': 2}],\n",
       " 'NH': [{'negative': 1}, {'neutral': 11}, {'positive': 22}],\n",
       " 'NJ': [{'negative': 1}, {'neutral': 1}, {'positive': 6}],\n",
       " 'NM': [{'neutral': 4}, {'positive': 1}],\n",
       " 'NV': [{'neutral': 1}, {'positive': 1}],\n",
       " 'NY': [{'negative': 12}, {'neutral': 32}, {'positive': 54}],\n",
       " 'OH': [{'neutral': 7}, {'positive': 7}],\n",
       " 'OK': [{'positive': 1}],\n",
       " 'OR': [{'negative': 1}, {'neutral': 9}, {'positive': 14}],\n",
       " 'PA': [{'negative': 3}, {'neutral': 23}, {'positive': 24}],\n",
       " 'RI': [{'negative': 1}, {'neutral': 2}, {'positive': 8}],\n",
       " 'SC': [{'neutral': 1}, {'positive': 3}],\n",
       " 'SD': [{'negative': 1}],\n",
       " 'TN': [{'neutral': 1}, {'positive': 5}],\n",
       " 'TX': [{'negative': 1}, {'neutral': 37}, {'positive': 18}],\n",
       " 'WA': [{'negative': 17}, {'neutral': 57}, {'positive': 71}],\n",
       " 'WI': [{'negative': 1}, {'positive': 1}]}"
      ]
     },
     "execution_count": 134,
     "metadata": {},
     "output_type": "execute_result"
    }
   ],
   "source": [
    "d"
   ]
  },
  {
   "cell_type": "code",
   "execution_count": 136,
   "metadata": {},
   "outputs": [],
   "source": [
    "new_dictt = new_Df.groupby('US_State')[['polarity','count']].apply(lambda g: list(map(tuple, g.values.tolist()))).to_dict()"
   ]
  },
  {
   "cell_type": "code",
   "execution_count": 145,
   "metadata": {},
   "outputs": [],
   "source": [
    "# reegexed\n",
    "reggex = {'AL': {'positive': 5},\n",
    " 'AZ': {'neutral': 4, 'positive': 5},\n",
    " 'CA': {'negative': 10, 'neutral': 83, 'positive': 109},\n",
    " 'CO': {'negative': 2, 'neutral': 3, 'positive': 13},\n",
    " 'CT': {'neutral': 3},\n",
    " 'DE': {'negative': 1, 'positive': 1},\n",
    " 'FL': {'negative': 3, 'neutral': 34, 'positive': 35},\n",
    " 'GA': {'negative': 3, 'neutral': 23, 'positive': 8},\n",
    " 'HI': {'positive': 1},\n",
    " 'IA': {'negative': 1, 'neutral': 2, 'positive': 3},\n",
    " 'ID': {'positive': 1},\n",
    " 'IL': {'negative': 8, 'neutral': 21, 'positive': 30},\n",
    " 'IN': {'negative': 1, 'neutral': 4, 'positive': 3},\n",
    " 'KS': {'neutral': 4, 'positive': 1},\n",
    " 'LA': {'negative': 1, 'neutral': 3},\n",
    " 'MA': {'negative': 4, 'neutral': 20, 'positive': 32},\n",
    " 'MD': {'negative': 1, 'neutral': 7, 'positive': 9},\n",
    " 'MI': {'negative': 2, 'neutral': 7, 'positive': 8},\n",
    " 'MN': {'negative': 4, 'neutral': 32, 'positive': 81},\n",
    " 'MO': {'neutral': 1, 'positive': 1},\n",
    " 'MS': {'neutral': 1, 'positive': 2},\n",
    " 'NC': {'negative': 1, 'neutral': 2, 'positive': 10},\n",
    " 'NE': {'neutral': 2, 'positive': 2},\n",
    " 'NH': {'negative': 1, 'neutral': 11, 'positive': 22},\n",
    " 'NJ': {'negative': 1, 'neutral': 1, 'positive': 6},\n",
    " 'NM': {'neutral': 4, 'positive': 1},\n",
    " 'NV': {'neutral': 1, 'positive': 1},\n",
    " 'NY': {'negative': 12, 'neutral': 32, 'positive': 54},\n",
    " 'OH': {'neutral': 7, 'positive': 7},\n",
    " 'OK': {'positive': 1},\n",
    " 'OR': {'negative': 1, 'neutral': 9, 'positive': 14},\n",
    " 'PA': {'negative': 3, 'neutral': 23, 'positive': 24},\n",
    " 'RI': {'negative': 1, 'neutral': 2, 'positive': 8},\n",
    " 'SC': {'neutral': 1, 'positive': 3},\n",
    " 'SD': {'negative': 1},\n",
    " 'TN': {'neutral': 1, 'positive': 5},\n",
    " 'TX': {'negative': 1, 'neutral': 37, 'positive': 18},\n",
    " 'WA': {'negative': 17, 'neutral': 57, 'positive': 71},\n",
    " 'WI': {'negative': 1, 'positive': 1}\n",
    "         }"
   ]
  },
  {
   "cell_type": "code",
   "execution_count": 135,
   "metadata": {},
   "outputs": [
    {
     "data": {
      "text/plain": [
       "dict"
      ]
     },
     "execution_count": 135,
     "metadata": {},
     "output_type": "execute_result"
    }
   ],
   "source": [
    "type(reggex)"
   ]
  },
  {
   "cell_type": "code",
   "execution_count": 141,
   "metadata": {},
   "outputs": [
    {
     "name": "stdout",
     "output_type": "stream",
     "text": [
      "Arkansas\n",
      "West Virginia\n",
      "North Dakota\n",
      "Alaska\n",
      "Wyoming\n",
      "Utah\n",
      "Virginia\n",
      "Montana\n",
      "Vermont\n",
      "Kentucky\n",
      "Maine\n"
     ]
    }
   ],
   "source": [
    "for key in us_state_abbrev:\n",
    "    if key not in new_dictt:\n",
    "        print key"
   ]
  },
  {
   "cell_type": "code",
   "execution_count": 142,
   "metadata": {},
   "outputs": [],
   "source": [
    "li = [\"HI\", \"AK\", \"FL\", \"SC\", \"GA\", \"AL\", \"NC\", \"TN\", \"RI\", \"CT\", \"MA\", \"ME\", \"NH\", \"VT\", \"NY\", \"NJ\", \"PA\", \"DE\", \"MD\", \"WV\", \"KY\", \"OH\", \"MI\", \"WY\", \"MT\", \"ID\", \"WA\", \"DC\", \"TX\", \"CA\", \"AZ\", \"NV\", \"UT\",  \"CO\", \"NM\", \"OR\", \"ND\", \"SD\", \"NE\", \"IA\", \"MS\", \"IN\", \"IL\", \"MN\", \"WI\", \"MO\", \"AR\", \"OK\", \"KS\", \"LS\", \"VA\"]"
   ]
  },
  {
   "cell_type": "code",
   "execution_count": 146,
   "metadata": {},
   "outputs": [
    {
     "name": "stdout",
     "output_type": "stream",
     "text": [
      "AK\n",
      "ME\n",
      "VT\n",
      "WV\n",
      "KY\n",
      "WY\n",
      "MT\n",
      "DC\n",
      "UT\n",
      "ND\n",
      "AR\n",
      "LS\n",
      "VA\n"
     ]
    }
   ],
   "source": [
    "for i in li:\n",
    "    if i not in reggex:\n",
    "        print i"
   ]
  },
  {
   "cell_type": "code",
   "execution_count": null,
   "metadata": {},
   "outputs": [],
   "source": []
  },
  {
   "cell_type": "code",
   "execution_count": 69,
   "metadata": {},
   "outputs": [
    {
     "data": {
      "text/html": [
       "<div>\n",
       "<style scoped>\n",
       "    .dataframe tbody tr th:only-of-type {\n",
       "        vertical-align: middle;\n",
       "    }\n",
       "\n",
       "    .dataframe tbody tr th {\n",
       "        vertical-align: top;\n",
       "    }\n",
       "\n",
       "    .dataframe thead th {\n",
       "        text-align: right;\n",
       "    }\n",
       "</style>\n",
       "<table border=\"1\" class=\"dataframe\">\n",
       "  <thead>\n",
       "    <tr style=\"text-align: right;\">\n",
       "      <th></th>\n",
       "      <th>Unnamed: 0</th>\n",
       "      <th>Unnamed: 0.1</th>\n",
       "      <th>created_at</th>\n",
       "      <th>hashtags</th>\n",
       "      <th>text</th>\n",
       "      <th>favorite_count</th>\n",
       "      <th>lang</th>\n",
       "      <th>place</th>\n",
       "      <th>user_location</th>\n",
       "      <th>retweet_count</th>\n",
       "      <th>retweet_screen_name</th>\n",
       "      <th>date</th>\n",
       "      <th>sentiment</th>\n",
       "      <th>polarity</th>\n",
       "      <th>US_State</th>\n",
       "    </tr>\n",
       "  </thead>\n",
       "  <tbody>\n",
       "    <tr>\n",
       "      <th>3</th>\n",
       "      <td>3</td>\n",
       "      <td>44</td>\n",
       "      <td>Thu Aug 17 23:25:01 +0000 2017</td>\n",
       "      <td>WITBragDay</td>\n",
       "      <td>Built a ECS JSON-generating container definiti...</td>\n",
       "      <td>3</td>\n",
       "      <td>en</td>\n",
       "      <td>NaN</td>\n",
       "      <td>Wellington, New Zealand</td>\n",
       "      <td>2</td>\n",
       "      <td>NaN</td>\n",
       "      <td>2017-08-17 23:25:01</td>\n",
       "      <td>Sentiment(polarity=0.0, subjectivity=0.625)</td>\n",
       "      <td>neutral</td>\n",
       "      <td>Florida</td>\n",
       "    </tr>\n",
       "    <tr>\n",
       "      <th>5</th>\n",
       "      <td>5</td>\n",
       "      <td>51</td>\n",
       "      <td>Thu Aug 17 23:26:32 +0000 2017</td>\n",
       "      <td>WITBragDay</td>\n",
       "      <td>Started a company doing DevOps consulting. Sti...</td>\n",
       "      <td>22</td>\n",
       "      <td>en</td>\n",
       "      <td>NaN</td>\n",
       "      <td>Wellington, New Zealand</td>\n",
       "      <td>2</td>\n",
       "      <td>NaN</td>\n",
       "      <td>2017-08-17 23:26:32</td>\n",
       "      <td>Sentiment(polarity=0.8, subjectivity=1.0)</td>\n",
       "      <td>positive</td>\n",
       "      <td>Florida</td>\n",
       "    </tr>\n",
       "  </tbody>\n",
       "</table>\n",
       "</div>"
      ],
      "text/plain": [
       "   Unnamed: 0  Unnamed: 0.1                      created_at    hashtags  \\\n",
       "3           3            44  Thu Aug 17 23:25:01 +0000 2017  WITBragDay   \n",
       "5           5            51  Thu Aug 17 23:26:32 +0000 2017  WITBragDay   \n",
       "\n",
       "                                                text  favorite_count lang  \\\n",
       "3  Built a ECS JSON-generating container definiti...               3   en   \n",
       "5  Started a company doing DevOps consulting. Sti...              22   en   \n",
       "\n",
       "  place             user_location  retweet_count  retweet_screen_name  \\\n",
       "3   NaN  Wellington, New Zealand               2                  NaN   \n",
       "5   NaN  Wellington, New Zealand               2                  NaN   \n",
       "\n",
       "                  date                                    sentiment  polarity  \\\n",
       "3  2017-08-17 23:25:01  Sentiment(polarity=0.0, subjectivity=0.625)   neutral   \n",
       "5  2017-08-17 23:26:32    Sentiment(polarity=0.8, subjectivity=1.0)  positive   \n",
       "\n",
       "  US_State  \n",
       "3  Florida  \n",
       "5  Florida  "
      ]
     },
     "execution_count": 69,
     "metadata": {},
     "output_type": "execute_result"
    }
   ],
   "source": [
    "# sentiment overtime and sentiment breakdown\n",
    "df.head(2)"
   ]
  },
  {
   "cell_type": "code",
   "execution_count": 70,
   "metadata": {},
   "outputs": [
    {
     "data": {
      "text/plain": [
       "polarity\n",
       "negative     81\n",
       "neutral     442\n",
       "positive    596\n",
       "dtype: int64"
      ]
     },
     "execution_count": 70,
     "metadata": {},
     "output_type": "execute_result"
    }
   ],
   "source": [
    "df.groupby([\"polarity\"]).size()"
   ]
  },
  {
   "cell_type": "code",
   "execution_count": 75,
   "metadata": {},
   "outputs": [],
   "source": [
    "df['NDate'] = pd.to_datetime(df['date'])"
   ]
  },
  {
   "cell_type": "code",
   "execution_count": 76,
   "metadata": {},
   "outputs": [],
   "source": [
    "df['NDate'] = df['NDate'].dt.strftime('%Y-%m-%d')"
   ]
  },
  {
   "cell_type": "code",
   "execution_count": 77,
   "metadata": {},
   "outputs": [
    {
     "data": {
      "text/html": [
       "<div>\n",
       "<style scoped>\n",
       "    .dataframe tbody tr th:only-of-type {\n",
       "        vertical-align: middle;\n",
       "    }\n",
       "\n",
       "    .dataframe tbody tr th {\n",
       "        vertical-align: top;\n",
       "    }\n",
       "\n",
       "    .dataframe thead th {\n",
       "        text-align: right;\n",
       "    }\n",
       "</style>\n",
       "<table border=\"1\" class=\"dataframe\">\n",
       "  <thead>\n",
       "    <tr style=\"text-align: right;\">\n",
       "      <th></th>\n",
       "      <th>Unnamed: 0</th>\n",
       "      <th>Unnamed: 0.1</th>\n",
       "      <th>created_at</th>\n",
       "      <th>hashtags</th>\n",
       "      <th>text</th>\n",
       "      <th>favorite_count</th>\n",
       "      <th>lang</th>\n",
       "      <th>place</th>\n",
       "      <th>user_location</th>\n",
       "      <th>retweet_count</th>\n",
       "      <th>retweet_screen_name</th>\n",
       "      <th>date</th>\n",
       "      <th>sentiment</th>\n",
       "      <th>polarity</th>\n",
       "      <th>US_State</th>\n",
       "      <th>NDate</th>\n",
       "    </tr>\n",
       "  </thead>\n",
       "  <tbody>\n",
       "    <tr>\n",
       "      <th>3</th>\n",
       "      <td>3</td>\n",
       "      <td>44</td>\n",
       "      <td>Thu Aug 17 23:25:01 +0000 2017</td>\n",
       "      <td>WITBragDay</td>\n",
       "      <td>Built a ECS JSON-generating container definiti...</td>\n",
       "      <td>3</td>\n",
       "      <td>en</td>\n",
       "      <td>NaN</td>\n",
       "      <td>Wellington, New Zealand</td>\n",
       "      <td>2</td>\n",
       "      <td>NaN</td>\n",
       "      <td>2017-08-17 23:25:01</td>\n",
       "      <td>Sentiment(polarity=0.0, subjectivity=0.625)</td>\n",
       "      <td>neutral</td>\n",
       "      <td>Florida</td>\n",
       "      <td>2017-08-17</td>\n",
       "    </tr>\n",
       "    <tr>\n",
       "      <th>5</th>\n",
       "      <td>5</td>\n",
       "      <td>51</td>\n",
       "      <td>Thu Aug 17 23:26:32 +0000 2017</td>\n",
       "      <td>WITBragDay</td>\n",
       "      <td>Started a company doing DevOps consulting. Sti...</td>\n",
       "      <td>22</td>\n",
       "      <td>en</td>\n",
       "      <td>NaN</td>\n",
       "      <td>Wellington, New Zealand</td>\n",
       "      <td>2</td>\n",
       "      <td>NaN</td>\n",
       "      <td>2017-08-17 23:26:32</td>\n",
       "      <td>Sentiment(polarity=0.8, subjectivity=1.0)</td>\n",
       "      <td>positive</td>\n",
       "      <td>Florida</td>\n",
       "      <td>2017-08-17</td>\n",
       "    </tr>\n",
       "  </tbody>\n",
       "</table>\n",
       "</div>"
      ],
      "text/plain": [
       "   Unnamed: 0  Unnamed: 0.1                      created_at    hashtags  \\\n",
       "3           3            44  Thu Aug 17 23:25:01 +0000 2017  WITBragDay   \n",
       "5           5            51  Thu Aug 17 23:26:32 +0000 2017  WITBragDay   \n",
       "\n",
       "                                                text  favorite_count lang  \\\n",
       "3  Built a ECS JSON-generating container definiti...               3   en   \n",
       "5  Started a company doing DevOps consulting. Sti...              22   en   \n",
       "\n",
       "  place             user_location  retweet_count  retweet_screen_name  \\\n",
       "3   NaN  Wellington, New Zealand               2                  NaN   \n",
       "5   NaN  Wellington, New Zealand               2                  NaN   \n",
       "\n",
       "                  date                                    sentiment  polarity  \\\n",
       "3  2017-08-17 23:25:01  Sentiment(polarity=0.0, subjectivity=0.625)   neutral   \n",
       "5  2017-08-17 23:26:32    Sentiment(polarity=0.8, subjectivity=1.0)  positive   \n",
       "\n",
       "  US_State       NDate  \n",
       "3  Florida  2017-08-17  \n",
       "5  Florida  2017-08-17  "
      ]
     },
     "execution_count": 77,
     "metadata": {},
     "output_type": "execute_result"
    }
   ],
   "source": [
    "df.head(2)"
   ]
  },
  {
   "cell_type": "code",
   "execution_count": 78,
   "metadata": {},
   "outputs": [
    {
     "data": {
      "text/plain": [
       "NDate       polarity\n",
       "2017-08-12  negative     47\n",
       "            neutral     298\n",
       "            positive    434\n",
       "2017-08-13  negative     12\n",
       "            neutral      81\n",
       "            positive     93\n",
       "2017-08-14  negative     11\n",
       "            neutral      29\n",
       "            positive     39\n",
       "2017-08-15  negative      5\n",
       "            neutral      22\n",
       "            positive     15\n",
       "2017-08-16  negative      3\n",
       "            neutral       6\n",
       "            positive      7\n",
       "2017-08-17  negative      3\n",
       "            neutral       6\n",
       "            positive      8\n",
       "dtype: int64"
      ]
     },
     "execution_count": 78,
     "metadata": {},
     "output_type": "execute_result"
    }
   ],
   "source": [
    "df.groupby([\"NDate\", \"polarity\"]).size()"
   ]
  },
  {
   "cell_type": "code",
   "execution_count": 80,
   "metadata": {},
   "outputs": [
    {
     "data": {
      "text/plain": [
       "<matplotlib.figure.Figure at 0x1162acad0>"
      ]
     },
     "metadata": {},
     "output_type": "display_data"
    }
   ],
   "source": [
    "import matplotlib.pyplot as plt\n",
    "Time = [\"2017-08-12\", \"2017-08-13\", \"2017-08-14\", \"2017-08-15\", \"2017-08-16\", \"2017-08-17\"]\n",
    "count_negative = [47, 12, 11, 5, 3, 3]\n",
    "count_neutral = [298, 81, 29, 22, 6, 6]\n",
    "count_positive = [434, 93, 39, 15, 7, 8]\n",
    "\n"
   ]
  },
  {
   "cell_type": "code",
   "execution_count": 84,
   "metadata": {},
   "outputs": [
    {
     "data": {
      "text/plain": [
       "[]"
      ]
     },
     "execution_count": 84,
     "metadata": {},
     "output_type": "execute_result"
    },
    {
     "data": {
      "image/png": "[encoded data removed]",
      "text/plain": [
       "<matplotlib.figure.Figure at 0x112f0a7d0>"
      ]
     },
     "metadata": {},
     "output_type": "display_data"
    }
   ],
   "source": [
    "plt.plot()"
   ]
  },
  {
   "cell_type": "code",
   "execution_count": 91,
   "metadata": {},
   "outputs": [
    {
     "data": {
      "text/plain": [
       "[<matplotlib.lines.Line2D at 0x118b08090>]"
      ]
     },
     "execution_count": 91,
     "metadata": {},
     "output_type": "execute_result"
    },
    {
     "data": {
      "image/png": "[encoded data removed]",
      "text/plain": [
       "<matplotlib.figure.Figure at 0x118da8150>"
      ]
     },
     "metadata": {},
     "output_type": "display_data"
    }
   ],
   "source": [
    "plt.plot(Time, count_negative, color='r')\n",
    "plt.plot(Time, count_neutral, color='grey')\n",
    "plt.plot(Time, count_positive, color='g')\n"
   ]
  },
  {
   "cell_type": "code",
   "execution_count": 86,
   "metadata": {},
   "outputs": [
    {
     "data": {
      "text/plain": [
       "[<matplotlib.lines.Line2D at 0x118c7e410>]"
      ]
     },
     "execution_count": 86,
     "metadata": {},
     "output_type": "execute_result"
    },
    {
     "data": {
      "image/png": "[encoded data removed]",
      "text/plain": [
       "<matplotlib.figure.Figure at 0x118b34a90>"
      ]
     },
     "metadata": {},
     "output_type": "display_data"
    }
   ],
   "source": []
  },
  {
   "cell_type": "code",
   "execution_count": 87,
   "metadata": {},
   "outputs": [
    {
     "data": {
      "text/plain": [
       "[<matplotlib.lines.Line2D at 0x118d65fd0>]"
      ]
     },
     "execution_count": 87,
     "metadata": {},
     "output_type": "execute_result"
    },
    {
     "data": {
      "image/png": "[encoded data removed]",
      "text/plain": [
       "<matplotlib.figure.Figure at 0x118cb6ed0>"
      ]
     },
     "metadata": {},
     "output_type": "display_data"
    }
   ],
   "source": [
    "plt.plot(Time, count_positive, color='g')\n"
   ]
  },
  {
   "cell_type": "code",
   "execution_count": 89,
   "metadata": {},
   "outputs": [
    {
     "data": {
      "text/plain": [
       "<function matplotlib.pyplot.show>"
      ]
     },
     "execution_count": 89,
     "metadata": {},
     "output_type": "execute_result"
    }
   ],
   "source": [
    "plt.show"
   ]
  },
  {
   "cell_type": "code",
   "execution_count": 27,
   "metadata": {},
   "outputs": [
    {
     "data": {
      "text/plain": [
       "0    women WITBragDay\n",
       "1          WITBragDay\n",
       "Name: hashtags, dtype: object"
      ]
     },
     "execution_count": 27,
     "metadata": {},
     "output_type": "execute_result"
    }
   ],
   "source": [
    "df.head(2).hashtags"
   ]
  },
  {
   "cell_type": "code",
   "execution_count": 25,
   "metadata": {},
   "outputs": [
    {
     "name": "stdout",
     "output_type": "stream",
     "text": [
      "[(u'#WITBragDay', 2530), (u'#WiTBragDay', 235), (u'#witbragday', 119), (u'#womenintech', 104), (u'#WITBragday', 72), (u'#WITbragday', 45), (u'#WIT', 37), (u'#WitBragDay', 32), (u'#WomenInTech', 30), (u'#tech', 29), (u'#Gyan_Ganga', 28), (u'#STEM', 26), (u'#', 26), (u'#Charlottesville', 21), (u'#Agile2017', 17), (u'#GoogleDoodle', 15), (u'#ARSLEI', 14), (u'#Tech', 13), (u'#womeninSTEM', 13), (u'#africa', 12)]\n"
     ]
    }
   ],
   "source": [
    "# Topics and Hashtags with Sentiments\n",
    "# Only look at the hashtags\n",
    "count_all_hash = Counter()\n",
    "for index, row in df.iterrows():     \n",
    "    terms_hash = [term for term in preprocess(row['text']) \n",
    "              if term.startswith('#')]\n",
    "    # Update the counter\n",
    "    count_all_hash.update(terms_hash)\n",
    "print(count_all_hash.most_common(20))"
   ]
  },
  {
   "cell_type": "code",
   "execution_count": 162,
   "metadata": {},
   "outputs": [],
   "source": [
    "from pandas import Series"
   ]
  },
  {
   "cell_type": "code",
   "execution_count": 61,
   "metadata": {},
   "outputs": [],
   "source": [
    "s = df[\"hashtags\"].str.split(' ').apply(Series, 1).stack()"
   ]
  },
  {
   "cell_type": "code",
   "execution_count": null,
   "metadata": {},
   "outputs": [],
   "source": []
  },
  {
   "cell_type": "code",
   "execution_count": 35,
   "metadata": {},
   "outputs": [],
   "source": [
    "s.index = s.index.droplevel(-1)\n",
    "s.name = 'hashtags'"
   ]
  },
  {
   "cell_type": "code",
   "execution_count": 36,
   "metadata": {},
   "outputs": [],
   "source": [
    "s.name = 'hashtags'"
   ]
  },
  {
   "cell_type": "code",
   "execution_count": 37,
   "metadata": {},
   "outputs": [
    {
     "data": {
      "text/plain": [
       "0               women\n",
       "0          WITBragDay\n",
       "1          WITBragDay\n",
       "2          WITBragDay\n",
       "3          WITBragDay\n",
       "4          WITBragDay\n",
       "5          WITBragDay\n",
       "6          WITBragDay\n",
       "7          WITBragDay\n",
       "8          WITBragDay\n",
       "10         WITBragDay\n",
       "12         WITBragDay\n",
       "14         WITBragDay\n",
       "15         WiTBragDay\n",
       "16        sociologist\n",
       "16                 FE\n",
       "16          Developer\n",
       "16      PyCodeCarrots\n",
       "16            GirlsJS\n",
       "16          workshops\n",
       "16      CodeLikeAGirl\n",
       "16         WITBragDay\n",
       "17         WITBragDay\n",
       "18         WITBragDay\n",
       "20         WITBragDay\n",
       "21         WITBragDay\n",
       "21         WITfangirl\n",
       "22         WITBragDay\n",
       "25         WITBragDay\n",
       "26         WITBragDay\n",
       "            ...      \n",
       "4382       WITBragDay\n",
       "4383       WITBragDay\n",
       "4384       WITBragDay\n",
       "4385             grit\n",
       "4385      Inspiration\n",
       "4386       WITBragDay\n",
       "4387       WITBragDay\n",
       "4388         OSSummit\n",
       "4388       WITBragDay\n",
       "4390       WITBragDay\n",
       "4391       WITBragDay\n",
       "4392       WITBragDay\n",
       "4393       WITBragDay\n",
       "4394       WITBragDay\n",
       "4395       WITBragDay\n",
       "4395       PassTheMic\n",
       "4396       WITBragDay\n",
       "4397       WITBragDay\n",
       "4398       WITBragDay\n",
       "4399       WITBragDay\n",
       "4400       WITBragDay\n",
       "4401       WITBragDay\n",
       "4402       WITBragDay\n",
       "4403       WITBragDay\n",
       "4404       WITBragDay\n",
       "4406        Agile2017\n",
       "4406       WITBragDay\n",
       "4407        Agile2017\n",
       "4407       WITBragDay\n",
       "4408       WitBragDay\n",
       "Name: hashtags, Length: 4716, dtype: object"
      ]
     },
     "execution_count": 37,
     "metadata": {},
     "output_type": "execute_result"
    }
   ],
   "source": [
    "s"
   ]
  },
  {
   "cell_type": "code",
   "execution_count": 38,
   "metadata": {},
   "outputs": [],
   "source": [
    "del df['hashtags']\n",
    "df = df.join(s)\n",
    "df.head(2)"
   ]
  },
  {
   "cell_type": "code",
   "execution_count": 53,
   "metadata": {},
   "outputs": [],
   "source": [
    "df = df.join(s)"
   ]
  },
  {
   "cell_type": "code",
   "execution_count": 173,
   "metadata": {},
   "outputs": [
    {
     "data": {
      "text/html": [
       "<div>\n",
       "<style scoped>\n",
       "    .dataframe tbody tr th:only-of-type {\n",
       "        vertical-align: middle;\n",
       "    }\n",
       "\n",
       "    .dataframe tbody tr th {\n",
       "        vertical-align: top;\n",
       "    }\n",
       "\n",
       "    .dataframe thead th {\n",
       "        text-align: right;\n",
       "    }\n",
       "</style>\n",
       "<table border=\"1\" class=\"dataframe\">\n",
       "  <thead>\n",
       "    <tr style=\"text-align: right;\">\n",
       "      <th></th>\n",
       "      <th>Unnamed: 0</th>\n",
       "      <th>Unnamed: 0.1</th>\n",
       "      <th>created_at</th>\n",
       "      <th>hashtags</th>\n",
       "      <th>text</th>\n",
       "      <th>favorite_count</th>\n",
       "      <th>lang</th>\n",
       "      <th>place</th>\n",
       "      <th>user_location</th>\n",
       "      <th>retweet_count</th>\n",
       "      <th>retweet_screen_name</th>\n",
       "      <th>date</th>\n",
       "      <th>sentiment</th>\n",
       "      <th>polarity</th>\n",
       "    </tr>\n",
       "  </thead>\n",
       "  <tbody>\n",
       "    <tr>\n",
       "      <th>0</th>\n",
       "      <td>0</td>\n",
       "      <td>8</td>\n",
       "      <td>Sun Aug 13 08:32:29 +0000 2017</td>\n",
       "      <td>women WITBragDay</td>\n",
       "      <td>3 degrees in building industry and they rejected me because #women. IT industry welcomed me with open arms. Not a single regret #WITBragDay</td>\n",
       "      <td>9</td>\n",
       "      <td>en</td>\n",
       "      <td>NaN</td>\n",
       "      <td>Wroclaw, Poland</td>\n",
       "      <td>2</td>\n",
       "      <td>NaN</td>\n",
       "      <td>2017-08-13 08:32:29</td>\n",
       "      <td>Sentiment(polarity=0.017857142857142856, subjectivity=0.35714285714285715)</td>\n",
       "      <td>positive</td>\n",
       "    </tr>\n",
       "    <tr>\n",
       "      <th>1</th>\n",
       "      <td>1</td>\n",
       "      <td>13</td>\n",
       "      <td>Thu Aug 17 23:34:25 +0000 2017</td>\n",
       "      <td>WITBragDay</td>\n",
       "      <td>@azimman @LaunchDarkly sounds like you should look at the #WITBragDay tag :P</td>\n",
       "      <td>1</td>\n",
       "      <td>en</td>\n",
       "      <td>NaN</td>\n",
       "      <td>/usr/local/sin</td>\n",
       "      <td>0</td>\n",
       "      <td>NaN</td>\n",
       "      <td>2017-08-17 23:34:25</td>\n",
       "      <td>Sentiment(polarity=0.75, subjectivity=1.0)</td>\n",
       "      <td>positive</td>\n",
       "    </tr>\n",
       "  </tbody>\n",
       "</table>\n",
       "</div>"
      ],
      "text/plain": [
       "   Unnamed: 0  Unnamed: 0.1                      created_at          hashtags                                                                                                                                         text  favorite_count lang place    user_location  retweet_count  retweet_screen_name                 date                                                                   sentiment  polarity\n",
       "0  0           8             Sun Aug 13 08:32:29 +0000 2017  women WITBragDay  3 degrees in building industry and they rejected me because #women. IT industry welcomed me with open arms. Not a single regret #WITBragDay  9               en   NaN   Wroclaw, Poland  2             NaN                   2017-08-13 08:32:29  Sentiment(polarity=0.017857142857142856, subjectivity=0.35714285714285715)  positive\n",
       "1  1           13            Thu Aug 17 23:34:25 +0000 2017  WITBragDay        @azimman @LaunchDarkly sounds like you should look at the #WITBragDay tag :P                                                                 1               en   NaN   /usr/local/sin   0             NaN                   2017-08-17 23:34:25  Sentiment(polarity=0.75, subjectivity=1.0)                                  positive"
      ]
     },
     "execution_count": 173,
     "metadata": {},
     "output_type": "execute_result"
    }
   ],
   "source": [
    "df.head(2)"
   ]
  },
  {
   "cell_type": "code",
   "execution_count": 65,
   "metadata": {},
   "outputs": [],
   "source": [
    "df['hashtags'] = df['hashtags'].str.lower()"
   ]
  },
  {
   "cell_type": "code",
   "execution_count": 66,
   "metadata": {},
   "outputs": [
    {
     "data": {
      "text/plain": [
       "hashtags              polarity\n",
       "1stplace              neutral      1\n",
       "2017solareclipse      positive     4\n",
       "23andwe               positive     1\n",
       "a11y                  positive     1\n",
       "abbyairshow           neutral     11\n",
       "abidotchi             positive     1\n",
       "abidotlocal           neutral      1\n",
       "acgnj                 neutral      1\n",
       "acornaccelerator2017  positive     1\n",
       "acsw                  neutral      1\n",
       "actwbos               positive     1\n",
       "acura                 negative     1\n",
       "ada                   neutral      1\n",
       "adwords               positive     1\n",
       "adyoyo                positive     1\n",
       "afcvlcfc              neutral      1\n",
       "aflcatstigers         neutral      1\n",
       "aflswansfreo          neutral      1\n",
       "africa                negative     6\n",
       "                      neutral      6\n",
       "                      positive     1\n",
       "africawitbragday      neutral      1\n",
       "                      positive     1\n",
       "agile2017             neutral     17\n",
       "                      positive     5\n",
       "agilecoachcamp        positive     1\n",
       "agpl                  positive     1\n",
       "ai                    neutral      2\n",
       "                      positive     4\n",
       "alexa                 positive     1\n",
       "                                  ..\n",
       "wrtalk                positive     1\n",
       "wtbragday             positive     1\n",
       "wtmnyeri              negative     1\n",
       "                      positive     1\n",
       "wwdug                 positive     1\n",
       "wynonnaearp           neutral      3\n",
       "yogahoodies           neutral      1\n",
       "yogaleggings          neutral      1\n",
       "yogasweatshirts       neutral      1\n",
       "yogatshirts           neutral      1\n",
       "yomassiverecords      neutral      1\n",
       "youcandoit            neutral      1\n",
       "yougogirl             negative     1\n",
       "youtuber              neutral      1\n",
       "yoyo                  positive     1\n",
       "yp                    positive     1\n",
       "yr                    neutral      1\n",
       "zdrewna               neutral      1\n",
       "Россия                neutral      1\n",
       "музыка                neutral      1\n",
       "радио                 neutral      1\n",
       "コミケ離脱                 positive     1\n",
       "久保田利伸                 positive     1\n",
       "多田くん                  positive     1\n",
       "我就是想秀一下智商吹一下牛皮日       neutral      1\n",
       "残席数                   positive     1\n",
       "공식입장                  neutral      1\n",
       "역조공                   neutral      1\n",
       "정용운                   positive     1\n",
       "콜링유                   neutral      1\n",
       "Length: 912, dtype: int64"
      ]
     },
     "execution_count": 66,
     "metadata": {},
     "output_type": "execute_result"
    }
   ],
   "source": [
    "df.groupby([\"hashtags\", \"polarity\"]).size()"
   ]
  },
  {
   "cell_type": "code",
   "execution_count": 67,
   "metadata": {},
   "outputs": [],
   "source": [
    "new_Df = pd.DataFrame({'count' : df.groupby([\"hashtags\", \"polarity\"]).size()}).reset_index().sort_values('count', ascending=False)"
   ]
  },
  {
   "cell_type": "code",
   "execution_count": 69,
   "metadata": {},
   "outputs": [
    {
     "data": {
      "text/html": [
       "<div>\n",
       "<style scoped>\n",
       "    .dataframe tbody tr th:only-of-type {\n",
       "        vertical-align: middle;\n",
       "    }\n",
       "\n",
       "    .dataframe tbody tr th {\n",
       "        vertical-align: top;\n",
       "    }\n",
       "\n",
       "    .dataframe thead th {\n",
       "        text-align: right;\n",
       "    }\n",
       "</style>\n",
       "<table border=\"1\" class=\"dataframe\">\n",
       "  <thead>\n",
       "    <tr style=\"text-align: right;\">\n",
       "      <th></th>\n",
       "      <th>hashtags</th>\n",
       "      <th>polarity</th>\n",
       "      <th>count</th>\n",
       "    </tr>\n",
       "  </thead>\n",
       "  <tbody>\n",
       "    <tr>\n",
       "      <th>829</th>\n",
       "      <td>witbragday</td>\n",
       "      <td>positive</td>\n",
       "      <td>1668</td>\n",
       "    </tr>\n",
       "    <tr>\n",
       "      <th>828</th>\n",
       "      <td>witbragday</td>\n",
       "      <td>neutral</td>\n",
       "      <td>1136</td>\n",
       "    </tr>\n",
       "    <tr>\n",
       "      <th>827</th>\n",
       "      <td>witbragday</td>\n",
       "      <td>negative</td>\n",
       "      <td>243</td>\n",
       "    </tr>\n",
       "    <tr>\n",
       "      <th>855</th>\n",
       "      <td>womenintech</td>\n",
       "      <td>positive</td>\n",
       "      <td>85</td>\n",
       "    </tr>\n",
       "    <tr>\n",
       "      <th>854</th>\n",
       "      <td>womenintech</td>\n",
       "      <td>neutral</td>\n",
       "      <td>48</td>\n",
       "    </tr>\n",
       "    <tr>\n",
       "      <th>819</th>\n",
       "      <td>wit</td>\n",
       "      <td>positive</td>\n",
       "      <td>30</td>\n",
       "    </tr>\n",
       "    <tr>\n",
       "      <th>727</th>\n",
       "      <td>tech</td>\n",
       "      <td>positive</td>\n",
       "      <td>26</td>\n",
       "    </tr>\n",
       "    <tr>\n",
       "      <th>698</th>\n",
       "      <td>stem</td>\n",
       "      <td>positive</td>\n",
       "      <td>21</td>\n",
       "    </tr>\n",
       "    <tr>\n",
       "      <th>338</th>\n",
       "      <td>gyan_ganga</td>\n",
       "      <td>neutral</td>\n",
       "      <td>20</td>\n",
       "    </tr>\n",
       "    <tr>\n",
       "      <th>23</th>\n",
       "      <td>agile2017</td>\n",
       "      <td>neutral</td>\n",
       "      <td>17</td>\n",
       "    </tr>\n",
       "    <tr>\n",
       "      <th>843</th>\n",
       "      <td>women</td>\n",
       "      <td>positive</td>\n",
       "      <td>16</td>\n",
       "    </tr>\n",
       "    <tr>\n",
       "      <th>853</th>\n",
       "      <td>womenintech</td>\n",
       "      <td>negative</td>\n",
       "      <td>15</td>\n",
       "    </tr>\n",
       "    <tr>\n",
       "      <th>132</th>\n",
       "      <td>charlottesville</td>\n",
       "      <td>neutral</td>\n",
       "      <td>14</td>\n",
       "    </tr>\n",
       "    <tr>\n",
       "      <th>53</th>\n",
       "      <td>arslei</td>\n",
       "      <td>neutral</td>\n",
       "      <td>14</td>\n",
       "    </tr>\n",
       "    <tr>\n",
       "      <th>315</th>\n",
       "      <td>googledoodle</td>\n",
       "      <td>neutral</td>\n",
       "      <td>14</td>\n",
       "    </tr>\n",
       "    <tr>\n",
       "      <th>851</th>\n",
       "      <td>womeninstem</td>\n",
       "      <td>positive</td>\n",
       "      <td>12</td>\n",
       "    </tr>\n",
       "    <tr>\n",
       "      <th>496</th>\n",
       "      <td>miracletreatday</td>\n",
       "      <td>neutral</td>\n",
       "      <td>11</td>\n",
       "    </tr>\n",
       "    <tr>\n",
       "      <th>4</th>\n",
       "      <td>abbyairshow</td>\n",
       "      <td>neutral</td>\n",
       "      <td>11</td>\n",
       "    </tr>\n",
       "    <tr>\n",
       "      <th>65</th>\n",
       "      <td>austriangp</td>\n",
       "      <td>neutral</td>\n",
       "      <td>10</td>\n",
       "    </tr>\n",
       "    <tr>\n",
       "      <th>524</th>\n",
       "      <td>mufc</td>\n",
       "      <td>neutral</td>\n",
       "      <td>10</td>\n",
       "    </tr>\n",
       "  </tbody>\n",
       "</table>\n",
       "</div>"
      ],
      "text/plain": [
       "            hashtags  polarity  count\n",
       "829       witbragday  positive   1668\n",
       "828       witbragday   neutral   1136\n",
       "827       witbragday  negative    243\n",
       "855      womenintech  positive     85\n",
       "854      womenintech   neutral     48\n",
       "819              wit  positive     30\n",
       "727             tech  positive     26\n",
       "698             stem  positive     21\n",
       "338       gyan_ganga   neutral     20\n",
       "23         agile2017   neutral     17\n",
       "843            women  positive     16\n",
       "853      womenintech  negative     15\n",
       "132  charlottesville   neutral     14\n",
       "53            arslei   neutral     14\n",
       "315     googledoodle   neutral     14\n",
       "851      womeninstem  positive     12\n",
       "496  miracletreatday   neutral     11\n",
       "4        abbyairshow   neutral     11\n",
       "65        austriangp   neutral     10\n",
       "524             mufc   neutral     10"
      ]
     },
     "execution_count": 69,
     "metadata": {},
     "output_type": "execute_result"
    }
   ],
   "source": [
    "new_Df.head(20)"
   ]
  },
  {
   "cell_type": "code",
   "execution_count": 71,
   "metadata": {},
   "outputs": [],
   "source": [
    "d = {}\n",
    "for i in new_Df['hashtags']:\n",
    "    d['hashtags'] = [{new_Df['polarity'][j]: new_Df['count'][j]} for j in new_Df[new_Df['hashtags']==i].index]\n",
    "    \n",
    "dfff = pd.pivot_table(new_Df, values = 'count', index=['hashtags'], columns = 'polarity').reset_index()\n",
    "dfff.fillna(0)\n",
    "dfff.sort_values(['negative', 'neutral', 'positive'], ascending=[False, False, False], inplace=True)"
   ]
  },
  {
   "cell_type": "code",
   "execution_count": 74,
   "metadata": {},
   "outputs": [],
   "source": [
    "dfff = pd.pivot_table(new_Df, values = 'count', index=['hashtags'], columns = 'polarity').reset_index()"
   ]
  },
  {
   "cell_type": "code",
   "execution_count": 79,
   "metadata": {},
   "outputs": [
    {
     "data": {
      "text/html": [
       "<div>\n",
       "<style scoped>\n",
       "    .dataframe tbody tr th:only-of-type {\n",
       "        vertical-align: middle;\n",
       "    }\n",
       "\n",
       "    .dataframe tbody tr th {\n",
       "        vertical-align: top;\n",
       "    }\n",
       "\n",
       "    .dataframe thead th {\n",
       "        text-align: right;\n",
       "    }\n",
       "</style>\n",
       "<table border=\"1\" class=\"dataframe\">\n",
       "  <thead>\n",
       "    <tr style=\"text-align: right;\">\n",
       "      <th>polarity</th>\n",
       "      <th>hashtags</th>\n",
       "      <th>negative</th>\n",
       "      <th>neutral</th>\n",
       "      <th>positive</th>\n",
       "    </tr>\n",
       "  </thead>\n",
       "  <tbody>\n",
       "    <tr>\n",
       "      <th>0</th>\n",
       "      <td>1stplace</td>\n",
       "      <td>NaN</td>\n",
       "      <td>1.0</td>\n",
       "      <td>NaN</td>\n",
       "    </tr>\n",
       "    <tr>\n",
       "      <th>1</th>\n",
       "      <td>2017solareclipse</td>\n",
       "      <td>NaN</td>\n",
       "      <td>NaN</td>\n",
       "      <td>4.0</td>\n",
       "    </tr>\n",
       "  </tbody>\n",
       "</table>\n",
       "</div>"
      ],
      "text/plain": [
       "polarity          hashtags  negative  neutral  positive\n",
       "0                 1stplace       NaN      1.0       NaN\n",
       "1         2017solareclipse       NaN      NaN       4.0"
      ]
     },
     "execution_count": 79,
     "metadata": {},
     "output_type": "execute_result"
    }
   ],
   "source": [
    "dfff.head(2)"
   ]
  },
  {
   "cell_type": "code",
   "execution_count": 81,
   "metadata": {},
   "outputs": [
    {
     "data": {
      "text/html": [
       "<div>\n",
       "<style scoped>\n",
       "    .dataframe tbody tr th:only-of-type {\n",
       "        vertical-align: middle;\n",
       "    }\n",
       "\n",
       "    .dataframe tbody tr th {\n",
       "        vertical-align: top;\n",
       "    }\n",
       "\n",
       "    .dataframe thead th {\n",
       "        text-align: right;\n",
       "    }\n",
       "</style>\n",
       "<table border=\"1\" class=\"dataframe\">\n",
       "  <thead>\n",
       "    <tr style=\"text-align: right;\">\n",
       "      <th>polarity</th>\n",
       "      <th>hashtags</th>\n",
       "      <th>negative</th>\n",
       "      <th>neutral</th>\n",
       "      <th>positive</th>\n",
       "    </tr>\n",
       "  </thead>\n",
       "  <tbody>\n",
       "    <tr>\n",
       "      <th>0</th>\n",
       "      <td>1stplace</td>\n",
       "      <td>0.0</td>\n",
       "      <td>1.0</td>\n",
       "      <td>0.0</td>\n",
       "    </tr>\n",
       "    <tr>\n",
       "      <th>1</th>\n",
       "      <td>2017solareclipse</td>\n",
       "      <td>0.0</td>\n",
       "      <td>0.0</td>\n",
       "      <td>4.0</td>\n",
       "    </tr>\n",
       "    <tr>\n",
       "      <th>2</th>\n",
       "      <td>23andwe</td>\n",
       "      <td>0.0</td>\n",
       "      <td>0.0</td>\n",
       "      <td>1.0</td>\n",
       "    </tr>\n",
       "    <tr>\n",
       "      <th>3</th>\n",
       "      <td>a11y</td>\n",
       "      <td>0.0</td>\n",
       "      <td>0.0</td>\n",
       "      <td>1.0</td>\n",
       "    </tr>\n",
       "    <tr>\n",
       "      <th>4</th>\n",
       "      <td>abbyairshow</td>\n",
       "      <td>0.0</td>\n",
       "      <td>11.0</td>\n",
       "      <td>0.0</td>\n",
       "    </tr>\n",
       "    <tr>\n",
       "      <th>5</th>\n",
       "      <td>abidotchi</td>\n",
       "      <td>0.0</td>\n",
       "      <td>0.0</td>\n",
       "      <td>1.0</td>\n",
       "    </tr>\n",
       "    <tr>\n",
       "      <th>6</th>\n",
       "      <td>abidotlocal</td>\n",
       "      <td>0.0</td>\n",
       "      <td>1.0</td>\n",
       "      <td>0.0</td>\n",
       "    </tr>\n",
       "    <tr>\n",
       "      <th>7</th>\n",
       "      <td>acgnj</td>\n",
       "      <td>0.0</td>\n",
       "      <td>1.0</td>\n",
       "      <td>0.0</td>\n",
       "    </tr>\n",
       "    <tr>\n",
       "      <th>8</th>\n",
       "      <td>acornaccelerator2017</td>\n",
       "      <td>0.0</td>\n",
       "      <td>0.0</td>\n",
       "      <td>1.0</td>\n",
       "    </tr>\n",
       "    <tr>\n",
       "      <th>9</th>\n",
       "      <td>acsw</td>\n",
       "      <td>0.0</td>\n",
       "      <td>1.0</td>\n",
       "      <td>0.0</td>\n",
       "    </tr>\n",
       "    <tr>\n",
       "      <th>10</th>\n",
       "      <td>actwbos</td>\n",
       "      <td>0.0</td>\n",
       "      <td>0.0</td>\n",
       "      <td>1.0</td>\n",
       "    </tr>\n",
       "    <tr>\n",
       "      <th>11</th>\n",
       "      <td>acura</td>\n",
       "      <td>1.0</td>\n",
       "      <td>0.0</td>\n",
       "      <td>0.0</td>\n",
       "    </tr>\n",
       "    <tr>\n",
       "      <th>12</th>\n",
       "      <td>ada</td>\n",
       "      <td>0.0</td>\n",
       "      <td>1.0</td>\n",
       "      <td>0.0</td>\n",
       "    </tr>\n",
       "    <tr>\n",
       "      <th>13</th>\n",
       "      <td>adwords</td>\n",
       "      <td>0.0</td>\n",
       "      <td>0.0</td>\n",
       "      <td>1.0</td>\n",
       "    </tr>\n",
       "    <tr>\n",
       "      <th>14</th>\n",
       "      <td>adyoyo</td>\n",
       "      <td>0.0</td>\n",
       "      <td>0.0</td>\n",
       "      <td>1.0</td>\n",
       "    </tr>\n",
       "    <tr>\n",
       "      <th>15</th>\n",
       "      <td>afcvlcfc</td>\n",
       "      <td>0.0</td>\n",
       "      <td>1.0</td>\n",
       "      <td>0.0</td>\n",
       "    </tr>\n",
       "    <tr>\n",
       "      <th>16</th>\n",
       "      <td>aflcatstigers</td>\n",
       "      <td>0.0</td>\n",
       "      <td>1.0</td>\n",
       "      <td>0.0</td>\n",
       "    </tr>\n",
       "    <tr>\n",
       "      <th>17</th>\n",
       "      <td>aflswansfreo</td>\n",
       "      <td>0.0</td>\n",
       "      <td>1.0</td>\n",
       "      <td>0.0</td>\n",
       "    </tr>\n",
       "    <tr>\n",
       "      <th>18</th>\n",
       "      <td>africa</td>\n",
       "      <td>6.0</td>\n",
       "      <td>6.0</td>\n",
       "      <td>1.0</td>\n",
       "    </tr>\n",
       "    <tr>\n",
       "      <th>19</th>\n",
       "      <td>africawitbragday</td>\n",
       "      <td>0.0</td>\n",
       "      <td>1.0</td>\n",
       "      <td>1.0</td>\n",
       "    </tr>\n",
       "    <tr>\n",
       "      <th>20</th>\n",
       "      <td>agile2017</td>\n",
       "      <td>0.0</td>\n",
       "      <td>17.0</td>\n",
       "      <td>5.0</td>\n",
       "    </tr>\n",
       "    <tr>\n",
       "      <th>21</th>\n",
       "      <td>agilecoachcamp</td>\n",
       "      <td>0.0</td>\n",
       "      <td>0.0</td>\n",
       "      <td>1.0</td>\n",
       "    </tr>\n",
       "    <tr>\n",
       "      <th>22</th>\n",
       "      <td>agpl</td>\n",
       "      <td>0.0</td>\n",
       "      <td>0.0</td>\n",
       "      <td>1.0</td>\n",
       "    </tr>\n",
       "    <tr>\n",
       "      <th>23</th>\n",
       "      <td>ai</td>\n",
       "      <td>0.0</td>\n",
       "      <td>2.0</td>\n",
       "      <td>4.0</td>\n",
       "    </tr>\n",
       "    <tr>\n",
       "      <th>24</th>\n",
       "      <td>alexa</td>\n",
       "      <td>0.0</td>\n",
       "      <td>0.0</td>\n",
       "      <td>1.0</td>\n",
       "    </tr>\n",
       "    <tr>\n",
       "      <th>25</th>\n",
       "      <td>algebra</td>\n",
       "      <td>1.0</td>\n",
       "      <td>0.0</td>\n",
       "      <td>0.0</td>\n",
       "    </tr>\n",
       "    <tr>\n",
       "      <th>26</th>\n",
       "      <td>alsmtl</td>\n",
       "      <td>0.0</td>\n",
       "      <td>3.0</td>\n",
       "      <td>0.0</td>\n",
       "    </tr>\n",
       "    <tr>\n",
       "      <th>27</th>\n",
       "      <td>alwaysfollowback</td>\n",
       "      <td>0.0</td>\n",
       "      <td>0.0</td>\n",
       "      <td>1.0</td>\n",
       "    </tr>\n",
       "    <tr>\n",
       "      <th>28</th>\n",
       "      <td>alwayslearning</td>\n",
       "      <td>0.0</td>\n",
       "      <td>1.0</td>\n",
       "      <td>0.0</td>\n",
       "    </tr>\n",
       "    <tr>\n",
       "      <th>29</th>\n",
       "      <td>ancwl</td>\n",
       "      <td>0.0</td>\n",
       "      <td>1.0</td>\n",
       "      <td>0.0</td>\n",
       "    </tr>\n",
       "    <tr>\n",
       "      <th>...</th>\n",
       "      <td>...</td>\n",
       "      <td>...</td>\n",
       "      <td>...</td>\n",
       "      <td>...</td>\n",
       "    </tr>\n",
       "    <tr>\n",
       "      <th>766</th>\n",
       "      <td>writing</td>\n",
       "      <td>0.0</td>\n",
       "      <td>1.0</td>\n",
       "      <td>0.0</td>\n",
       "    </tr>\n",
       "    <tr>\n",
       "      <th>767</th>\n",
       "      <td>wrtalk</td>\n",
       "      <td>0.0</td>\n",
       "      <td>0.0</td>\n",
       "      <td>1.0</td>\n",
       "    </tr>\n",
       "    <tr>\n",
       "      <th>768</th>\n",
       "      <td>wtbragday</td>\n",
       "      <td>0.0</td>\n",
       "      <td>0.0</td>\n",
       "      <td>1.0</td>\n",
       "    </tr>\n",
       "    <tr>\n",
       "      <th>769</th>\n",
       "      <td>wtmnyeri</td>\n",
       "      <td>1.0</td>\n",
       "      <td>0.0</td>\n",
       "      <td>1.0</td>\n",
       "    </tr>\n",
       "    <tr>\n",
       "      <th>770</th>\n",
       "      <td>wwdug</td>\n",
       "      <td>0.0</td>\n",
       "      <td>0.0</td>\n",
       "      <td>1.0</td>\n",
       "    </tr>\n",
       "    <tr>\n",
       "      <th>771</th>\n",
       "      <td>wynonnaearp</td>\n",
       "      <td>0.0</td>\n",
       "      <td>3.0</td>\n",
       "      <td>0.0</td>\n",
       "    </tr>\n",
       "    <tr>\n",
       "      <th>772</th>\n",
       "      <td>yogahoodies</td>\n",
       "      <td>0.0</td>\n",
       "      <td>1.0</td>\n",
       "      <td>0.0</td>\n",
       "    </tr>\n",
       "    <tr>\n",
       "      <th>773</th>\n",
       "      <td>yogaleggings</td>\n",
       "      <td>0.0</td>\n",
       "      <td>1.0</td>\n",
       "      <td>0.0</td>\n",
       "    </tr>\n",
       "    <tr>\n",
       "      <th>774</th>\n",
       "      <td>yogasweatshirts</td>\n",
       "      <td>0.0</td>\n",
       "      <td>1.0</td>\n",
       "      <td>0.0</td>\n",
       "    </tr>\n",
       "    <tr>\n",
       "      <th>775</th>\n",
       "      <td>yogatshirts</td>\n",
       "      <td>0.0</td>\n",
       "      <td>1.0</td>\n",
       "      <td>0.0</td>\n",
       "    </tr>\n",
       "    <tr>\n",
       "      <th>776</th>\n",
       "      <td>yomassiverecords</td>\n",
       "      <td>0.0</td>\n",
       "      <td>1.0</td>\n",
       "      <td>0.0</td>\n",
       "    </tr>\n",
       "    <tr>\n",
       "      <th>777</th>\n",
       "      <td>youcandoit</td>\n",
       "      <td>0.0</td>\n",
       "      <td>1.0</td>\n",
       "      <td>0.0</td>\n",
       "    </tr>\n",
       "    <tr>\n",
       "      <th>778</th>\n",
       "      <td>yougogirl</td>\n",
       "      <td>1.0</td>\n",
       "      <td>0.0</td>\n",
       "      <td>0.0</td>\n",
       "    </tr>\n",
       "    <tr>\n",
       "      <th>779</th>\n",
       "      <td>youtuber</td>\n",
       "      <td>0.0</td>\n",
       "      <td>1.0</td>\n",
       "      <td>0.0</td>\n",
       "    </tr>\n",
       "    <tr>\n",
       "      <th>780</th>\n",
       "      <td>yoyo</td>\n",
       "      <td>0.0</td>\n",
       "      <td>0.0</td>\n",
       "      <td>1.0</td>\n",
       "    </tr>\n",
       "    <tr>\n",
       "      <th>781</th>\n",
       "      <td>yp</td>\n",
       "      <td>0.0</td>\n",
       "      <td>0.0</td>\n",
       "      <td>1.0</td>\n",
       "    </tr>\n",
       "    <tr>\n",
       "      <th>782</th>\n",
       "      <td>yr</td>\n",
       "      <td>0.0</td>\n",
       "      <td>1.0</td>\n",
       "      <td>0.0</td>\n",
       "    </tr>\n",
       "    <tr>\n",
       "      <th>783</th>\n",
       "      <td>zdrewna</td>\n",
       "      <td>0.0</td>\n",
       "      <td>1.0</td>\n",
       "      <td>0.0</td>\n",
       "    </tr>\n",
       "    <tr>\n",
       "      <th>784</th>\n",
       "      <td>Россия</td>\n",
       "      <td>0.0</td>\n",
       "      <td>1.0</td>\n",
       "      <td>0.0</td>\n",
       "    </tr>\n",
       "    <tr>\n",
       "      <th>785</th>\n",
       "      <td>музыка</td>\n",
       "      <td>0.0</td>\n",
       "      <td>1.0</td>\n",
       "      <td>0.0</td>\n",
       "    </tr>\n",
       "    <tr>\n",
       "      <th>786</th>\n",
       "      <td>радио</td>\n",
       "      <td>0.0</td>\n",
       "      <td>1.0</td>\n",
       "      <td>0.0</td>\n",
       "    </tr>\n",
       "    <tr>\n",
       "      <th>787</th>\n",
       "      <td>コミケ離脱</td>\n",
       "      <td>0.0</td>\n",
       "      <td>0.0</td>\n",
       "      <td>1.0</td>\n",
       "    </tr>\n",
       "    <tr>\n",
       "      <th>788</th>\n",
       "      <td>久保田利伸</td>\n",
       "      <td>0.0</td>\n",
       "      <td>0.0</td>\n",
       "      <td>1.0</td>\n",
       "    </tr>\n",
       "    <tr>\n",
       "      <th>789</th>\n",
       "      <td>多田くん</td>\n",
       "      <td>0.0</td>\n",
       "      <td>0.0</td>\n",
       "      <td>1.0</td>\n",
       "    </tr>\n",
       "    <tr>\n",
       "      <th>790</th>\n",
       "      <td>我就是想秀一下智商吹一下牛皮日</td>\n",
       "      <td>0.0</td>\n",
       "      <td>1.0</td>\n",
       "      <td>0.0</td>\n",
       "    </tr>\n",
       "    <tr>\n",
       "      <th>791</th>\n",
       "      <td>残席数</td>\n",
       "      <td>0.0</td>\n",
       "      <td>0.0</td>\n",
       "      <td>1.0</td>\n",
       "    </tr>\n",
       "    <tr>\n",
       "      <th>792</th>\n",
       "      <td>공식입장</td>\n",
       "      <td>0.0</td>\n",
       "      <td>1.0</td>\n",
       "      <td>0.0</td>\n",
       "    </tr>\n",
       "    <tr>\n",
       "      <th>793</th>\n",
       "      <td>역조공</td>\n",
       "      <td>0.0</td>\n",
       "      <td>1.0</td>\n",
       "      <td>0.0</td>\n",
       "    </tr>\n",
       "    <tr>\n",
       "      <th>794</th>\n",
       "      <td>정용운</td>\n",
       "      <td>0.0</td>\n",
       "      <td>0.0</td>\n",
       "      <td>1.0</td>\n",
       "    </tr>\n",
       "    <tr>\n",
       "      <th>795</th>\n",
       "      <td>콜링유</td>\n",
       "      <td>0.0</td>\n",
       "      <td>1.0</td>\n",
       "      <td>0.0</td>\n",
       "    </tr>\n",
       "  </tbody>\n",
       "</table>\n",
       "<p>796 rows × 4 columns</p>\n",
       "</div>"
      ],
      "text/plain": [
       "polarity              hashtags  negative  neutral  positive\n",
       "0                     1stplace       0.0      1.0       0.0\n",
       "1             2017solareclipse       0.0      0.0       4.0\n",
       "2                      23andwe       0.0      0.0       1.0\n",
       "3                         a11y       0.0      0.0       1.0\n",
       "4                  abbyairshow       0.0     11.0       0.0\n",
       "5                    abidotchi       0.0      0.0       1.0\n",
       "6                  abidotlocal       0.0      1.0       0.0\n",
       "7                        acgnj       0.0      1.0       0.0\n",
       "8         acornaccelerator2017       0.0      0.0       1.0\n",
       "9                         acsw       0.0      1.0       0.0\n",
       "10                     actwbos       0.0      0.0       1.0\n",
       "11                       acura       1.0      0.0       0.0\n",
       "12                         ada       0.0      1.0       0.0\n",
       "13                     adwords       0.0      0.0       1.0\n",
       "14                      adyoyo       0.0      0.0       1.0\n",
       "15                    afcvlcfc       0.0      1.0       0.0\n",
       "16               aflcatstigers       0.0      1.0       0.0\n",
       "17                aflswansfreo       0.0      1.0       0.0\n",
       "18                      africa       6.0      6.0       1.0\n",
       "19            africawitbragday       0.0      1.0       1.0\n",
       "20                   agile2017       0.0     17.0       5.0\n",
       "21              agilecoachcamp       0.0      0.0       1.0\n",
       "22                        agpl       0.0      0.0       1.0\n",
       "23                          ai       0.0      2.0       4.0\n",
       "24                       alexa       0.0      0.0       1.0\n",
       "25                     algebra       1.0      0.0       0.0\n",
       "26                      alsmtl       0.0      3.0       0.0\n",
       "27            alwaysfollowback       0.0      0.0       1.0\n",
       "28              alwayslearning       0.0      1.0       0.0\n",
       "29                       ancwl       0.0      1.0       0.0\n",
       "..                         ...       ...      ...       ...\n",
       "766                    writing       0.0      1.0       0.0\n",
       "767                     wrtalk       0.0      0.0       1.0\n",
       "768                  wtbragday       0.0      0.0       1.0\n",
       "769                   wtmnyeri       1.0      0.0       1.0\n",
       "770                      wwdug       0.0      0.0       1.0\n",
       "771                wynonnaearp       0.0      3.0       0.0\n",
       "772                yogahoodies       0.0      1.0       0.0\n",
       "773               yogaleggings       0.0      1.0       0.0\n",
       "774            yogasweatshirts       0.0      1.0       0.0\n",
       "775                yogatshirts       0.0      1.0       0.0\n",
       "776           yomassiverecords       0.0      1.0       0.0\n",
       "777                 youcandoit       0.0      1.0       0.0\n",
       "778                  yougogirl       1.0      0.0       0.0\n",
       "779                   youtuber       0.0      1.0       0.0\n",
       "780                       yoyo       0.0      0.0       1.0\n",
       "781                         yp       0.0      0.0       1.0\n",
       "782                         yr       0.0      1.0       0.0\n",
       "783                    zdrewna       0.0      1.0       0.0\n",
       "784                     Россия       0.0      1.0       0.0\n",
       "785                     музыка       0.0      1.0       0.0\n",
       "786                      радио       0.0      1.0       0.0\n",
       "787                      コミケ離脱       0.0      0.0       1.0\n",
       "788                      久保田利伸       0.0      0.0       1.0\n",
       "789                       多田くん       0.0      0.0       1.0\n",
       "790            我就是想秀一下智商吹一下牛皮日       0.0      1.0       0.0\n",
       "791                        残席数       0.0      0.0       1.0\n",
       "792                       공식입장       0.0      1.0       0.0\n",
       "793                        역조공       0.0      1.0       0.0\n",
       "794                        정용운       0.0      0.0       1.0\n",
       "795                        콜링유       0.0      1.0       0.0\n",
       "\n",
       "[796 rows x 4 columns]"
      ]
     },
     "execution_count": 81,
     "metadata": {},
     "output_type": "execute_result"
    }
   ],
   "source": [
    "dfff.fillna(0)"
   ]
  },
  {
   "cell_type": "code",
   "execution_count": 83,
   "metadata": {},
   "outputs": [],
   "source": [
    "dfff.sort_values(['negative', 'neutral', 'positive'], ascending=[False, False, False], inplace=True)"
   ]
  },
  {
   "cell_type": "code",
   "execution_count": 85,
   "metadata": {},
   "outputs": [],
   "source": [
    "dfff = dfff.fillna(0)\n",
    "dffftop20 = dfff.head(20)"
   ]
  },
  {
   "cell_type": "code",
   "execution_count": 87,
   "metadata": {},
   "outputs": [],
   "source": [
    "dffftop20 = dfff.head(20)"
   ]
  },
  {
   "cell_type": "code",
   "execution_count": 88,
   "metadata": {},
   "outputs": [
    {
     "data": {
      "text/html": [
       "<div>\n",
       "<style scoped>\n",
       "    .dataframe tbody tr th:only-of-type {\n",
       "        vertical-align: middle;\n",
       "    }\n",
       "\n",
       "    .dataframe tbody tr th {\n",
       "        vertical-align: top;\n",
       "    }\n",
       "\n",
       "    .dataframe thead th {\n",
       "        text-align: right;\n",
       "    }\n",
       "</style>\n",
       "<table border=\"1\" class=\"dataframe\">\n",
       "  <thead>\n",
       "    <tr style=\"text-align: right;\">\n",
       "      <th>polarity</th>\n",
       "      <th>hashtags</th>\n",
       "      <th>negative</th>\n",
       "      <th>neutral</th>\n",
       "      <th>positive</th>\n",
       "    </tr>\n",
       "  </thead>\n",
       "  <tbody>\n",
       "    <tr>\n",
       "      <th>728</th>\n",
       "      <td>witbragday</td>\n",
       "      <td>243.0</td>\n",
       "      <td>1136.0</td>\n",
       "      <td>1668.0</td>\n",
       "    </tr>\n",
       "    <tr>\n",
       "      <th>746</th>\n",
       "      <td>womenintech</td>\n",
       "      <td>15.0</td>\n",
       "      <td>48.0</td>\n",
       "      <td>85.0</td>\n",
       "    </tr>\n",
       "    <tr>\n",
       "      <th>643</th>\n",
       "      <td>tech</td>\n",
       "      <td>9.0</td>\n",
       "      <td>7.0</td>\n",
       "      <td>26.0</td>\n",
       "    </tr>\n",
       "    <tr>\n",
       "      <th>294</th>\n",
       "      <td>gyan_ganga</td>\n",
       "      <td>8.0</td>\n",
       "      <td>20.0</td>\n",
       "      <td>0.0</td>\n",
       "    </tr>\n",
       "    <tr>\n",
       "      <th>684</th>\n",
       "      <td>unitetheright</td>\n",
       "      <td>8.0</td>\n",
       "      <td>1.0</td>\n",
       "      <td>0.0</td>\n",
       "    </tr>\n",
       "    <tr>\n",
       "      <th>119</th>\n",
       "      <td>choicemalewebstar</td>\n",
       "      <td>8.0</td>\n",
       "      <td>0.0</td>\n",
       "      <td>0.0</td>\n",
       "    </tr>\n",
       "    <tr>\n",
       "      <th>18</th>\n",
       "      <td>africa</td>\n",
       "      <td>6.0</td>\n",
       "      <td>6.0</td>\n",
       "      <td>1.0</td>\n",
       "    </tr>\n",
       "    <tr>\n",
       "      <th>98</th>\n",
       "      <td>business</td>\n",
       "      <td>6.0</td>\n",
       "      <td>3.0</td>\n",
       "      <td>0.0</td>\n",
       "    </tr>\n",
       "    <tr>\n",
       "      <th>655</th>\n",
       "      <td>technology</td>\n",
       "      <td>3.0</td>\n",
       "      <td>5.0</td>\n",
       "      <td>2.0</td>\n",
       "    </tr>\n",
       "    <tr>\n",
       "      <th>198</th>\n",
       "      <td>entrepreneur</td>\n",
       "      <td>3.0</td>\n",
       "      <td>3.0</td>\n",
       "      <td>0.0</td>\n",
       "    </tr>\n",
       "    <tr>\n",
       "      <th>116</th>\n",
       "      <td>charlottesville</td>\n",
       "      <td>2.0</td>\n",
       "      <td>14.0</td>\n",
       "      <td>5.0</td>\n",
       "    </tr>\n",
       "    <tr>\n",
       "      <th>172</th>\n",
       "      <td>devops</td>\n",
       "      <td>2.0</td>\n",
       "      <td>4.0</td>\n",
       "      <td>1.0</td>\n",
       "    </tr>\n",
       "    <tr>\n",
       "      <th>725</th>\n",
       "      <td>witbrag</td>\n",
       "      <td>2.0</td>\n",
       "      <td>3.0</td>\n",
       "      <td>6.0</td>\n",
       "    </tr>\n",
       "    <tr>\n",
       "      <th>118</th>\n",
       "      <td>chocolatelegoscrum</td>\n",
       "      <td>2.0</td>\n",
       "      <td>0.0</td>\n",
       "      <td>0.0</td>\n",
       "    </tr>\n",
       "    <tr>\n",
       "      <th>723</th>\n",
       "      <td>wit</td>\n",
       "      <td>1.0</td>\n",
       "      <td>9.0</td>\n",
       "      <td>30.0</td>\n",
       "    </tr>\n",
       "    <tr>\n",
       "      <th>619</th>\n",
       "      <td>stem</td>\n",
       "      <td>1.0</td>\n",
       "      <td>7.0</td>\n",
       "      <td>21.0</td>\n",
       "    </tr>\n",
       "    <tr>\n",
       "      <th>738</th>\n",
       "      <td>women</td>\n",
       "      <td>1.0</td>\n",
       "      <td>4.0</td>\n",
       "      <td>16.0</td>\n",
       "    </tr>\n",
       "    <tr>\n",
       "      <th>442</th>\n",
       "      <td>mitbragday</td>\n",
       "      <td>1.0</td>\n",
       "      <td>3.0</td>\n",
       "      <td>1.0</td>\n",
       "    </tr>\n",
       "    <tr>\n",
       "      <th>337</th>\n",
       "      <td>infosec</td>\n",
       "      <td>1.0</td>\n",
       "      <td>1.0</td>\n",
       "      <td>3.0</td>\n",
       "    </tr>\n",
       "    <tr>\n",
       "      <th>477</th>\n",
       "      <td>netflix</td>\n",
       "      <td>1.0</td>\n",
       "      <td>1.0</td>\n",
       "      <td>2.0</td>\n",
       "    </tr>\n",
       "  </tbody>\n",
       "</table>\n",
       "</div>"
      ],
      "text/plain": [
       "polarity            hashtags  negative  neutral  positive\n",
       "728               witbragday     243.0   1136.0    1668.0\n",
       "746              womenintech      15.0     48.0      85.0\n",
       "643                     tech       9.0      7.0      26.0\n",
       "294               gyan_ganga       8.0     20.0       0.0\n",
       "684            unitetheright       8.0      1.0       0.0\n",
       "119        choicemalewebstar       8.0      0.0       0.0\n",
       "18                    africa       6.0      6.0       1.0\n",
       "98                  business       6.0      3.0       0.0\n",
       "655               technology       3.0      5.0       2.0\n",
       "198             entrepreneur       3.0      3.0       0.0\n",
       "116          charlottesville       2.0     14.0       5.0\n",
       "172                   devops       2.0      4.0       1.0\n",
       "725                  witbrag       2.0      3.0       6.0\n",
       "118       chocolatelegoscrum       2.0      0.0       0.0\n",
       "723                      wit       1.0      9.0      30.0\n",
       "619                     stem       1.0      7.0      21.0\n",
       "738                    women       1.0      4.0      16.0\n",
       "442               mitbragday       1.0      3.0       1.0\n",
       "337                  infosec       1.0      1.0       3.0\n",
       "477                  netflix       1.0      1.0       2.0"
      ]
     },
     "execution_count": 88,
     "metadata": {},
     "output_type": "execute_result"
    }
   ],
   "source": [
    "dffftop20"
   ]
  },
  {
   "cell_type": "code",
   "execution_count": null,
   "metadata": {},
   "outputs": [],
   "source": [
    "for index, row in df.iterrows():     \n",
    "    # Get the terms of each tweet while preprocessing it and remove the stop words from the tweet\n",
    "    terms_stop = [term for term in preprocess(row['text']) if term not in stop and not term.startswith(r\"\\x\")]\n",
    "    # Update the counter\n",
    "    count_all.update(terms_stop)\n",
    "print(count_all.most_common(5))"
   ]
  },
  {
   "cell_type": "code",
   "execution_count": 98,
   "metadata": {},
   "outputs": [
    {
     "name": "stdout",
     "output_type": "stream",
     "text": [
      "{'chocolatelegoscrum': [0.0, 0.0, 2.0], 'business': [0.0, 3.0, 6.0], 'witbrag': [6.0, 3.0, 2.0], 'choicemalewebstar': [0.0, 0.0, 8.0], 'unitetheright': [0.0, 1.0, 8.0], 'africa': [1.0, 6.0, 6.0], 'devops': [1.0, 4.0, 2.0], 'stem': [21.0, 7.0, 1.0], 'netflix': [2.0, 1.0, 1.0], 'entrepreneur': [0.0, 3.0, 3.0], 'wit': [30.0, 9.0, 1.0], 'womenintech': [85.0, 48.0, 15.0], 'charlottesville': [5.0, 14.0, 2.0], 'witbragday': [1668.0, 1136.0, 243.0], 'infosec': [3.0, 1.0, 1.0], 'gyan_ganga': [0.0, 20.0, 8.0], 'technology': [2.0, 5.0, 3.0], 'tech': [26.0, 7.0, 9.0], 'mitbragday': [1.0, 3.0, 1.0], 'women': [16.0, 4.0, 1.0]}\n"
     ]
    }
   ],
   "source": [
    "d = dict([(i,[a,b,c ]) for i,a,b,c in zip(dffftop20.hashtags, dffftop20.positive,dffftop20.neutral,dffftop20.negative)])\n",
    "print d"
   ]
  },
  {
   "cell_type": "code",
   "execution_count": 99,
   "metadata": {},
   "outputs": [],
   "source": [
    "import json\n",
    "values = [{\"keyword\": k , \"freq\" : {\"positive\": v[0], \"neutral\": v[1], \"negative\": v[2]}} for k, v in d.iteritems()]"
   ]
  },
  {
   "cell_type": "code",
   "execution_count": 101,
   "metadata": {},
   "outputs": [
    {
     "data": {
      "text/plain": [
       "'[{\"freq\": {\"positive\": 0.0, \"neutral\": 0.0, \"negative\": 2.0}, \"keyword\": \"chocolatelegoscrum\"}, {\"freq\": {\"positive\": 0.0, \"neutral\": 3.0, \"negative\": 6.0}, \"keyword\": \"business\"}, {\"freq\": {\"positive\": 6.0, \"neutral\": 3.0, \"negative\": 2.0}, \"keyword\": \"witbrag\"}, {\"freq\": {\"positive\": 0.0, \"neutral\": 0.0, \"negative\": 8.0}, \"keyword\": \"choicemalewebstar\"}, {\"freq\": {\"positive\": 0.0, \"neutral\": 1.0, \"negative\": 8.0}, \"keyword\": \"unitetheright\"}, {\"freq\": {\"positive\": 1.0, \"neutral\": 6.0, \"negative\": 6.0}, \"keyword\": \"africa\"}, {\"freq\": {\"positive\": 1.0, \"neutral\": 4.0, \"negative\": 2.0}, \"keyword\": \"devops\"}, {\"freq\": {\"positive\": 21.0, \"neutral\": 7.0, \"negative\": 1.0}, \"keyword\": \"stem\"}, {\"freq\": {\"positive\": 2.0, \"neutral\": 1.0, \"negative\": 1.0}, \"keyword\": \"netflix\"}, {\"freq\": {\"positive\": 0.0, \"neutral\": 3.0, \"negative\": 3.0}, \"keyword\": \"entrepreneur\"}, {\"freq\": {\"positive\": 30.0, \"neutral\": 9.0, \"negative\": 1.0}, \"keyword\": \"wit\"}, {\"freq\": {\"positive\": 85.0, \"neutral\": 48.0, \"negative\": 15.0}, \"keyword\": \"womenintech\"}, {\"freq\": {\"positive\": 5.0, \"neutral\": 14.0, \"negative\": 2.0}, \"keyword\": \"charlottesville\"}, {\"freq\": {\"positive\": 1668.0, \"neutral\": 1136.0, \"negative\": 243.0}, \"keyword\": \"witbragday\"}, {\"freq\": {\"positive\": 3.0, \"neutral\": 1.0, \"negative\": 1.0}, \"keyword\": \"infosec\"}, {\"freq\": {\"positive\": 0.0, \"neutral\": 20.0, \"negative\": 8.0}, \"keyword\": \"gyan_ganga\"}, {\"freq\": {\"positive\": 2.0, \"neutral\": 5.0, \"negative\": 3.0}, \"keyword\": \"technology\"}, {\"freq\": {\"positive\": 26.0, \"neutral\": 7.0, \"negative\": 9.0}, \"keyword\": \"tech\"}, {\"freq\": {\"positive\": 1.0, \"neutral\": 3.0, \"negative\": 1.0}, \"keyword\": \"mitbragday\"}, {\"freq\": {\"positive\": 16.0, \"neutral\": 4.0, \"negative\": 1.0}, \"keyword\": \"women\"}]'"
      ]
     },
     "execution_count": 101,
     "metadata": {},
     "output_type": "execute_result"
    }
   ],
   "source": [
    "json.dumps(values)"
   ]
  },
  {
   "cell_type": "code",
   "execution_count": 174,
   "metadata": {},
   "outputs": [],
   "source": [
    "# all keywords\n",
    "def keyword_seperator(text):\n",
    "    try:\n",
    "        terms = [term for term in preprocess(text) if term not in stop and\n",
    "              not term.startswith(('#', '@'))]\n",
    "        str_contact = ' '.join(terms)\n",
    "        return str_contact\n",
    "    except:\n",
    "        return None"
   ]
  },
  {
   "cell_type": "code",
   "execution_count": 175,
   "metadata": {},
   "outputs": [],
   "source": [
    "df['seperatedText'] = df['text'].apply(keyword_seperator)"
   ]
  },
  {
   "cell_type": "code",
   "execution_count": 176,
   "metadata": {},
   "outputs": [
    {
     "data": {
      "text/html": [
       "<div>\n",
       "<style scoped>\n",
       "    .dataframe tbody tr th:only-of-type {\n",
       "        vertical-align: middle;\n",
       "    }\n",
       "\n",
       "    .dataframe tbody tr th {\n",
       "        vertical-align: top;\n",
       "    }\n",
       "\n",
       "    .dataframe thead th {\n",
       "        text-align: right;\n",
       "    }\n",
       "</style>\n",
       "<table border=\"1\" class=\"dataframe\">\n",
       "  <thead>\n",
       "    <tr style=\"text-align: right;\">\n",
       "      <th></th>\n",
       "      <th>Unnamed: 0</th>\n",
       "      <th>Unnamed: 0.1</th>\n",
       "      <th>created_at</th>\n",
       "      <th>hashtags</th>\n",
       "      <th>text</th>\n",
       "      <th>favorite_count</th>\n",
       "      <th>lang</th>\n",
       "      <th>place</th>\n",
       "      <th>user_location</th>\n",
       "      <th>retweet_count</th>\n",
       "      <th>retweet_screen_name</th>\n",
       "      <th>date</th>\n",
       "      <th>sentiment</th>\n",
       "      <th>polarity</th>\n",
       "      <th>seperatedText</th>\n",
       "    </tr>\n",
       "  </thead>\n",
       "  <tbody>\n",
       "    <tr>\n",
       "      <th>0</th>\n",
       "      <td>0</td>\n",
       "      <td>8</td>\n",
       "      <td>Sun Aug 13 08:32:29 +0000 2017</td>\n",
       "      <td>women WITBragDay</td>\n",
       "      <td>3 degrees in building industry and they rejected me because #women. IT industry welcomed me with open arms. Not a single regret #WITBragDay</td>\n",
       "      <td>9</td>\n",
       "      <td>en</td>\n",
       "      <td>NaN</td>\n",
       "      <td>Wroclaw, Poland</td>\n",
       "      <td>2</td>\n",
       "      <td>NaN</td>\n",
       "      <td>2017-08-13 08:32:29</td>\n",
       "      <td>Sentiment(polarity=0.017857142857142856, subjectivity=0.35714285714285715)</td>\n",
       "      <td>positive</td>\n",
       "      <td>3 degrees building industry rejected IT industry welcomed open arms Not single regret</td>\n",
       "    </tr>\n",
       "    <tr>\n",
       "      <th>1</th>\n",
       "      <td>1</td>\n",
       "      <td>13</td>\n",
       "      <td>Thu Aug 17 23:34:25 +0000 2017</td>\n",
       "      <td>WITBragDay</td>\n",
       "      <td>@azimman @LaunchDarkly sounds like you should look at the #WITBragDay tag :P</td>\n",
       "      <td>1</td>\n",
       "      <td>en</td>\n",
       "      <td>NaN</td>\n",
       "      <td>/usr/local/sin</td>\n",
       "      <td>0</td>\n",
       "      <td>NaN</td>\n",
       "      <td>2017-08-17 23:34:25</td>\n",
       "      <td>Sentiment(polarity=0.75, subjectivity=1.0)</td>\n",
       "      <td>positive</td>\n",
       "      <td>sounds like look tag :P</td>\n",
       "    </tr>\n",
       "    <tr>\n",
       "      <th>2</th>\n",
       "      <td>2</td>\n",
       "      <td>16</td>\n",
       "      <td>Thu Aug 17 22:15:48 +0000 2017</td>\n",
       "      <td>WITBragDay</td>\n",
       "      <td>My coding knowledge makes a difference and improves the lives of my coworkers and our customers. And it's the coolest feeling. #WITBragDay</td>\n",
       "      <td>6</td>\n",
       "      <td>en</td>\n",
       "      <td>NaN</td>\n",
       "      <td>Zionsville, IN</td>\n",
       "      <td>2</td>\n",
       "      <td>NaN</td>\n",
       "      <td>2017-08-17 22:15:48</td>\n",
       "      <td>Sentiment(polarity=0.0, subjectivity=0.0)</td>\n",
       "      <td>neutral</td>\n",
       "      <td>My coding knowledge makes difference improves lives coworkers customers And coolest feeling</td>\n",
       "    </tr>\n",
       "  </tbody>\n",
       "</table>\n",
       "</div>"
      ],
      "text/plain": [
       "   Unnamed: 0  Unnamed: 0.1                      created_at          hashtags                                                                                                                                         text  favorite_count lang place    user_location  retweet_count  retweet_screen_name                 date                                                                   sentiment  polarity                                                                                seperatedText\n",
       "0  0           8             Sun Aug 13 08:32:29 +0000 2017  women WITBragDay  3 degrees in building industry and they rejected me because #women. IT industry welcomed me with open arms. Not a single regret #WITBragDay  9               en   NaN   Wroclaw, Poland  2             NaN                   2017-08-13 08:32:29  Sentiment(polarity=0.017857142857142856, subjectivity=0.35714285714285715)  positive  3 degrees building industry rejected IT industry welcomed open arms Not single regret      \n",
       "1  1           13            Thu Aug 17 23:34:25 +0000 2017  WITBragDay        @azimman @LaunchDarkly sounds like you should look at the #WITBragDay tag :P                                                                 1               en   NaN   /usr/local/sin   0             NaN                   2017-08-17 23:34:25  Sentiment(polarity=0.75, subjectivity=1.0)                                  positive  sounds like look tag :P                                                                    \n",
       "2  2           16            Thu Aug 17 22:15:48 +0000 2017  WITBragDay        My coding knowledge makes a difference and improves the lives of my coworkers and our customers. And it's the coolest feeling. #WITBragDay   6               en   NaN   Zionsville, IN   2             NaN                   2017-08-17 22:15:48  Sentiment(polarity=0.0, subjectivity=0.0)                                   neutral   My coding knowledge makes difference improves lives coworkers customers And coolest feeling"
      ]
     },
     "execution_count": 176,
     "metadata": {},
     "output_type": "execute_result"
    }
   ],
   "source": [
    "df.head(3)"
   ]
  },
  {
   "cell_type": "code",
   "execution_count": 177,
   "metadata": {},
   "outputs": [],
   "source": [
    "s = df[\"seperatedText\"].str.split(' ').apply(Series, 1).stack()\n",
    "s.index = s.index.droplevel(-1)\n",
    "s.name = 'seperatedText'"
   ]
  },
  {
   "cell_type": "code",
   "execution_count": 178,
   "metadata": {},
   "outputs": [
    {
     "data": {
      "text/html": [
       "<div>\n",
       "<style scoped>\n",
       "    .dataframe tbody tr th:only-of-type {\n",
       "        vertical-align: middle;\n",
       "    }\n",
       "\n",
       "    .dataframe tbody tr th {\n",
       "        vertical-align: top;\n",
       "    }\n",
       "\n",
       "    .dataframe thead th {\n",
       "        text-align: right;\n",
       "    }\n",
       "</style>\n",
       "<table border=\"1\" class=\"dataframe\">\n",
       "  <thead>\n",
       "    <tr style=\"text-align: right;\">\n",
       "      <th></th>\n",
       "      <th>Unnamed: 0</th>\n",
       "      <th>Unnamed: 0.1</th>\n",
       "      <th>created_at</th>\n",
       "      <th>hashtags</th>\n",
       "      <th>text</th>\n",
       "      <th>favorite_count</th>\n",
       "      <th>lang</th>\n",
       "      <th>place</th>\n",
       "      <th>user_location</th>\n",
       "      <th>retweet_count</th>\n",
       "      <th>retweet_screen_name</th>\n",
       "      <th>date</th>\n",
       "      <th>sentiment</th>\n",
       "      <th>polarity</th>\n",
       "      <th>seperatedText</th>\n",
       "    </tr>\n",
       "  </thead>\n",
       "  <tbody>\n",
       "    <tr>\n",
       "      <th>0</th>\n",
       "      <td>0</td>\n",
       "      <td>8</td>\n",
       "      <td>Sun Aug 13 08:32:29 +0000 2017</td>\n",
       "      <td>women WITBragDay</td>\n",
       "      <td>3 degrees in building industry and they rejected me because #women. IT industry welcomed me with open arms. Not a single regret #WITBragDay</td>\n",
       "      <td>9</td>\n",
       "      <td>en</td>\n",
       "      <td>NaN</td>\n",
       "      <td>Wroclaw, Poland</td>\n",
       "      <td>2</td>\n",
       "      <td>NaN</td>\n",
       "      <td>2017-08-13 08:32:29</td>\n",
       "      <td>Sentiment(polarity=0.017857142857142856, subjectivity=0.35714285714285715)</td>\n",
       "      <td>positive</td>\n",
       "      <td>3</td>\n",
       "    </tr>\n",
       "    <tr>\n",
       "      <th>0</th>\n",
       "      <td>0</td>\n",
       "      <td>8</td>\n",
       "      <td>Sun Aug 13 08:32:29 +0000 2017</td>\n",
       "      <td>women WITBragDay</td>\n",
       "      <td>3 degrees in building industry and they rejected me because #women. IT industry welcomed me with open arms. Not a single regret #WITBragDay</td>\n",
       "      <td>9</td>\n",
       "      <td>en</td>\n",
       "      <td>NaN</td>\n",
       "      <td>Wroclaw, Poland</td>\n",
       "      <td>2</td>\n",
       "      <td>NaN</td>\n",
       "      <td>2017-08-13 08:32:29</td>\n",
       "      <td>Sentiment(polarity=0.017857142857142856, subjectivity=0.35714285714285715)</td>\n",
       "      <td>positive</td>\n",
       "      <td>degrees</td>\n",
       "    </tr>\n",
       "  </tbody>\n",
       "</table>\n",
       "</div>"
      ],
      "text/plain": [
       "   Unnamed: 0  Unnamed: 0.1                      created_at          hashtags                                                                                                                                         text  favorite_count lang place    user_location  retweet_count  retweet_screen_name                 date                                                                   sentiment  polarity seperatedText\n",
       "0  0           8             Sun Aug 13 08:32:29 +0000 2017  women WITBragDay  3 degrees in building industry and they rejected me because #women. IT industry welcomed me with open arms. Not a single regret #WITBragDay  9               en   NaN   Wroclaw, Poland  2             NaN                   2017-08-13 08:32:29  Sentiment(polarity=0.017857142857142856, subjectivity=0.35714285714285715)  positive  3           \n",
       "0  0           8             Sun Aug 13 08:32:29 +0000 2017  women WITBragDay  3 degrees in building industry and they rejected me because #women. IT industry welcomed me with open arms. Not a single regret #WITBragDay  9               en   NaN   Wroclaw, Poland  2             NaN                   2017-08-13 08:32:29  Sentiment(polarity=0.017857142857142856, subjectivity=0.35714285714285715)  positive  degrees     "
      ]
     },
     "execution_count": 178,
     "metadata": {},
     "output_type": "execute_result"
    }
   ],
   "source": [
    "del df['seperatedText']\n",
    "df = df.join(s)\n",
    "df.head(2)"
   ]
  },
  {
   "cell_type": "code",
   "execution_count": 179,
   "metadata": {},
   "outputs": [
    {
     "data": {
      "text/plain": [
       "(36731, 15)"
      ]
     },
     "execution_count": 179,
     "metadata": {},
     "output_type": "execute_result"
    }
   ],
   "source": [
    "df.shape"
   ]
  },
  {
   "cell_type": "code",
   "execution_count": 180,
   "metadata": {},
   "outputs": [],
   "source": [
    "df['seperatedText'] = df['seperatedText'].str.lower()"
   ]
  },
  {
   "cell_type": "code",
   "execution_count": 181,
   "metadata": {},
   "outputs": [],
   "source": [
    "new_Df = pd.DataFrame({'count' : df.groupby([\"seperatedText\", \"polarity\"]).size()}).reset_index().sort_values('count', ascending=False)"
   ]
  },
  {
   "cell_type": "code",
   "execution_count": 183,
   "metadata": {},
   "outputs": [
    {
     "data": {
      "text/html": [
       "<div>\n",
       "<style scoped>\n",
       "    .dataframe tbody tr th:only-of-type {\n",
       "        vertical-align: middle;\n",
       "    }\n",
       "\n",
       "    .dataframe tbody tr th {\n",
       "        vertical-align: top;\n",
       "    }\n",
       "\n",
       "    .dataframe thead th {\n",
       "        text-align: right;\n",
       "    }\n",
       "</style>\n",
       "<table border=\"1\" class=\"dataframe\">\n",
       "  <thead>\n",
       "    <tr style=\"text-align: right;\">\n",
       "      <th></th>\n",
       "      <th>seperatedText</th>\n",
       "      <th>polarity</th>\n",
       "      <th>count</th>\n",
       "    </tr>\n",
       "  </thead>\n",
       "  <tbody>\n",
       "    <tr>\n",
       "      <th>6550</th>\n",
       "      <td>i</td>\n",
       "      <td>positive</td>\n",
       "      <td>734</td>\n",
       "    </tr>\n",
       "    <tr>\n",
       "      <th>6549</th>\n",
       "      <td>i</td>\n",
       "      <td>neutral</td>\n",
       "      <td>393</td>\n",
       "    </tr>\n",
       "    <tr>\n",
       "      <th>11447</th>\n",
       "      <td>women</td>\n",
       "      <td>positive</td>\n",
       "      <td>310</td>\n",
       "    </tr>\n",
       "    <tr>\n",
       "      <th>10457</th>\n",
       "      <td>tech</td>\n",
       "      <td>positive</td>\n",
       "      <td>272</td>\n",
       "    </tr>\n",
       "    <tr>\n",
       "      <th>903</th>\n",
       "      <td>awesome</td>\n",
       "      <td>positive</td>\n",
       "      <td>196</td>\n",
       "    </tr>\n",
       "    <tr>\n",
       "      <th>629</th>\n",
       "      <td>amp</td>\n",
       "      <td>positive</td>\n",
       "      <td>193</td>\n",
       "    </tr>\n",
       "    <tr>\n",
       "      <th>600</th>\n",
       "      <td>amazing</td>\n",
       "      <td>positive</td>\n",
       "      <td>189</td>\n",
       "    </tr>\n",
       "    <tr>\n",
       "      <th>6548</th>\n",
       "      <td>i</td>\n",
       "      <td>negative</td>\n",
       "      <td>164</td>\n",
       "    </tr>\n",
       "    <tr>\n",
       "      <th>7412</th>\n",
       "      <td>love</td>\n",
       "      <td>positive</td>\n",
       "      <td>162</td>\n",
       "    </tr>\n",
       "    <tr>\n",
       "      <th>3217</th>\n",
       "      <td>first</td>\n",
       "      <td>positive</td>\n",
       "      <td>152</td>\n",
       "    </tr>\n",
       "  </tbody>\n",
       "</table>\n",
       "</div>"
      ],
      "text/plain": [
       "      seperatedText  polarity  count\n",
       "6550   i             positive  734  \n",
       "6549   i             neutral   393  \n",
       "11447  women         positive  310  \n",
       "10457  tech          positive  272  \n",
       "903    awesome       positive  196  \n",
       "629    amp           positive  193  \n",
       "600    amazing       positive  189  \n",
       "6548   i             negative  164  \n",
       "7412   love          positive  162  \n",
       "3217   first         positive  152  "
      ]
     },
     "execution_count": 183,
     "metadata": {},
     "output_type": "execute_result"
    }
   ],
   "source": [
    "new_Df.head(10)"
   ]
  },
  {
   "cell_type": "code",
   "execution_count": 184,
   "metadata": {},
   "outputs": [],
   "source": [
    "d = {}\n",
    "for i in new_Df['seperatedText']:\n",
    "    d['seperatedText'] = [{new_Df['polarity'][j]: new_Df['count'][j]} for j in new_Df[new_Df['seperatedText']==i].index]\n",
    "    \n",
    "dfff = pd.pivot_table(new_Df, values = 'count', index=['seperatedText'], columns = 'polarity').reset_index()\n",
    "dfff.fillna(0)\n",
    "dfff.sort_values(['negative', 'neutral', 'positive'], ascending=[False, False, False], inplace=True)"
   ]
  },
  {
   "cell_type": "code",
   "execution_count": 185,
   "metadata": {},
   "outputs": [],
   "source": [
    "dfff = dfff.fillna(0)\n",
    "dffftop20 = dfff.head(20)"
   ]
  },
  {
   "cell_type": "code",
   "execution_count": 187,
   "metadata": {},
   "outputs": [
    {
     "name": "stdout",
     "output_type": "stream",
     "text": [
      "{u'every': [30.0, 29.0, 16.0], u'little': [8.0, 0.0, 18.0], u'code': [89.0, 80.0, 20.0], u'god': [2.0, 24.0, 16.0], u'i': [734.0, 393.0, 164.0], u'got': [44.0, 27.0, 16.0], u'hard': [11.0, 0.0, 19.0], u'years': [55.0, 40.0, 19.0], u'late': [19.0, 0.0, 32.0], u'this': [105.0, 55.0, 15.0], u'3': [32.0, 29.0, 17.0], u'2': [44.0, 44.0, 21.0], u'tech': [272.0, 124.0, 27.0], u'know': [59.0, 33.0, 15.0], u'team': [76.0, 30.0, 16.0], u'amp': [193.0, 109.0, 28.0], u\"i'm\": [140.0, 55.0, 29.0], u'one': [115.0, 43.0, 17.0], u'work': [119.0, 26.0, 15.0], u'women': [310.0, 112.0, 27.0]}\n"
     ]
    }
   ],
   "source": [
    "d = dict([(i,[a,b,c ]) for i,a,b,c in zip(dffftop20.seperatedText, dffftop20.positive,dffftop20.neutral,dffftop20.negative)])\n",
    "print d\n",
    "import json\n",
    "values = [{\"keyword\": k , \"freq\" : {\"positive\": v[0], \"neutral\": v[1], \"negative\": v[2]}} for k, v in d.iteritems()]"
   ]
  },
  {
   "cell_type": "code",
   "execution_count": 188,
   "metadata": {},
   "outputs": [
    {
     "data": {
      "text/plain": [
       "'[{\"freq\": {\"positive\": 30.0, \"neutral\": 29.0, \"negative\": 16.0}, \"keyword\": \"every\"}, {\"freq\": {\"positive\": 8.0, \"neutral\": 0.0, \"negative\": 18.0}, \"keyword\": \"little\"}, {\"freq\": {\"positive\": 89.0, \"neutral\": 80.0, \"negative\": 20.0}, \"keyword\": \"code\"}, {\"freq\": {\"positive\": 2.0, \"neutral\": 24.0, \"negative\": 16.0}, \"keyword\": \"god\"}, {\"freq\": {\"positive\": 734.0, \"neutral\": 393.0, \"negative\": 164.0}, \"keyword\": \"i\"}, {\"freq\": {\"positive\": 44.0, \"neutral\": 27.0, \"negative\": 16.0}, \"keyword\": \"got\"}, {\"freq\": {\"positive\": 11.0, \"neutral\": 0.0, \"negative\": 19.0}, \"keyword\": \"hard\"}, {\"freq\": {\"positive\": 55.0, \"neutral\": 40.0, \"negative\": 19.0}, \"keyword\": \"years\"}, {\"freq\": {\"positive\": 19.0, \"neutral\": 0.0, \"negative\": 32.0}, \"keyword\": \"late\"}, {\"freq\": {\"positive\": 105.0, \"neutral\": 55.0, \"negative\": 15.0}, \"keyword\": \"this\"}, {\"freq\": {\"positive\": 32.0, \"neutral\": 29.0, \"negative\": 17.0}, \"keyword\": \"3\"}, {\"freq\": {\"positive\": 44.0, \"neutral\": 44.0, \"negative\": 21.0}, \"keyword\": \"2\"}, {\"freq\": {\"positive\": 272.0, \"neutral\": 124.0, \"negative\": 27.0}, \"keyword\": \"tech\"}, {\"freq\": {\"positive\": 59.0, \"neutral\": 33.0, \"negative\": 15.0}, \"keyword\": \"know\"}, {\"freq\": {\"positive\": 76.0, \"neutral\": 30.0, \"negative\": 16.0}, \"keyword\": \"team\"}, {\"freq\": {\"positive\": 193.0, \"neutral\": 109.0, \"negative\": 28.0}, \"keyword\": \"amp\"}, {\"freq\": {\"positive\": 140.0, \"neutral\": 55.0, \"negative\": 29.0}, \"keyword\": \"i\\'m\"}, {\"freq\": {\"positive\": 115.0, \"neutral\": 43.0, \"negative\": 17.0}, \"keyword\": \"one\"}, {\"freq\": {\"positive\": 119.0, \"neutral\": 26.0, \"negative\": 15.0}, \"keyword\": \"work\"}, {\"freq\": {\"positive\": 310.0, \"neutral\": 112.0, \"negative\": 27.0}, \"keyword\": \"women\"}]'"
      ]
     },
     "execution_count": 188,
     "metadata": {},
     "output_type": "execute_result"
    }
   ],
   "source": [
    "json.dumps(values)"
   ]
  },
  {
   "cell_type": "code",
   "execution_count": 7,
   "metadata": {},
   "outputs": [],
   "source": [
    "# Viz for the treemap"
   ]
  },
  {
   "cell_type": "code",
   "execution_count": 8,
   "metadata": {},
   "outputs": [
    {
     "data": {
      "text/html": [
       "<div>\n",
       "<style scoped>\n",
       "    .dataframe tbody tr th:only-of-type {\n",
       "        vertical-align: middle;\n",
       "    }\n",
       "\n",
       "    .dataframe tbody tr th {\n",
       "        vertical-align: top;\n",
       "    }\n",
       "\n",
       "    .dataframe thead th {\n",
       "        text-align: right;\n",
       "    }\n",
       "</style>\n",
       "<table border=\"1\" class=\"dataframe\">\n",
       "  <thead>\n",
       "    <tr style=\"text-align: right;\">\n",
       "      <th></th>\n",
       "      <th>Unnamed: 0</th>\n",
       "      <th>Unnamed: 0.1</th>\n",
       "      <th>created_at</th>\n",
       "      <th>hashtags</th>\n",
       "      <th>text</th>\n",
       "      <th>favorite_count</th>\n",
       "      <th>lang</th>\n",
       "      <th>place</th>\n",
       "      <th>user_location</th>\n",
       "      <th>retweet_count</th>\n",
       "      <th>retweet_screen_name</th>\n",
       "      <th>date</th>\n",
       "      <th>sentiment</th>\n",
       "      <th>polarity</th>\n",
       "    </tr>\n",
       "  </thead>\n",
       "  <tbody>\n",
       "    <tr>\n",
       "      <th>0</th>\n",
       "      <td>0</td>\n",
       "      <td>8</td>\n",
       "      <td>Sun Aug 13 08:32:29 +0000 2017</td>\n",
       "      <td>women WITBragDay</td>\n",
       "      <td>3 degrees in building industry and they reject...</td>\n",
       "      <td>9</td>\n",
       "      <td>en</td>\n",
       "      <td>NaN</td>\n",
       "      <td>Wroclaw, Poland</td>\n",
       "      <td>2</td>\n",
       "      <td>NaN</td>\n",
       "      <td>2017-08-13 08:32:29</td>\n",
       "      <td>Sentiment(polarity=0.017857142857142856, subje...</td>\n",
       "      <td>positive</td>\n",
       "    </tr>\n",
       "    <tr>\n",
       "      <th>1</th>\n",
       "      <td>1</td>\n",
       "      <td>13</td>\n",
       "      <td>Thu Aug 17 23:34:25 +0000 2017</td>\n",
       "      <td>WITBragDay</td>\n",
       "      <td>@azimman @LaunchDarkly sounds like you should ...</td>\n",
       "      <td>1</td>\n",
       "      <td>en</td>\n",
       "      <td>NaN</td>\n",
       "      <td>/usr/local/sin</td>\n",
       "      <td>0</td>\n",
       "      <td>NaN</td>\n",
       "      <td>2017-08-17 23:34:25</td>\n",
       "      <td>Sentiment(polarity=0.75, subjectivity=1.0)</td>\n",
       "      <td>positive</td>\n",
       "    </tr>\n",
       "  </tbody>\n",
       "</table>\n",
       "</div>"
      ],
      "text/plain": [
       "   Unnamed: 0  Unnamed: 0.1                      created_at          hashtags  \\\n",
       "0           0             8  Sun Aug 13 08:32:29 +0000 2017  women WITBragDay   \n",
       "1           1            13  Thu Aug 17 23:34:25 +0000 2017        WITBragDay   \n",
       "\n",
       "                                                text  favorite_count lang  \\\n",
       "0  3 degrees in building industry and they reject...               9   en   \n",
       "1  @azimman @LaunchDarkly sounds like you should ...               1   en   \n",
       "\n",
       "  place    user_location  retweet_count  retweet_screen_name  \\\n",
       "0   NaN  Wroclaw, Poland              2                  NaN   \n",
       "1   NaN   /usr/local/sin              0                  NaN   \n",
       "\n",
       "                  date                                          sentiment  \\\n",
       "0  2017-08-13 08:32:29  Sentiment(polarity=0.017857142857142856, subje...   \n",
       "1  2017-08-17 23:34:25         Sentiment(polarity=0.75, subjectivity=1.0)   \n",
       "\n",
       "   polarity  \n",
       "0  positive  \n",
       "1  positive  "
      ]
     },
     "execution_count": 8,
     "metadata": {},
     "output_type": "execute_result"
    }
   ],
   "source": [
    "df.head(2)"
   ]
  },
  {
   "cell_type": "code",
   "execution_count": 9,
   "metadata": {},
   "outputs": [
    {
     "data": {
      "text/plain": [
       "date                 polarity\n",
       "2017-08-12 04:29:43  neutral     1\n",
       "2017-08-12 04:29:52  neutral     1\n",
       "2017-08-12 04:31:21  positive    1\n",
       "2017-08-12 04:31:53  neutral     1\n",
       "2017-08-12 04:32:52  positive    1\n",
       "2017-08-12 04:32:53  neutral     1\n",
       "2017-08-12 04:32:57  neutral     1\n",
       "2017-08-12 04:33:00  positive    1\n",
       "2017-08-12 04:33:07  positive    3\n",
       "2017-08-12 04:33:22  negative    1\n",
       "2017-08-12 04:33:24  neutral     1\n",
       "2017-08-12 04:33:31  neutral     1\n",
       "2017-08-12 04:33:37  neutral     1\n",
       "2017-08-12 04:33:49  positive    1\n",
       "2017-08-12 04:33:50  neutral     1\n",
       "2017-08-12 04:34:29  neutral     1\n",
       "2017-08-12 04:34:36  positive    1\n",
       "2017-08-12 04:34:37  positive    1\n",
       "2017-08-12 04:35:01  neutral     1\n",
       "2017-08-12 04:35:12  neutral     1\n",
       "2017-08-12 04:35:56  positive    1\n",
       "2017-08-12 04:36:05  positive    1\n",
       "2017-08-12 04:36:20  positive    1\n",
       "2017-08-12 04:36:45  positive    1\n",
       "2017-08-12 04:36:56  neutral     1\n",
       "2017-08-12 04:36:58  positive    1\n",
       "2017-08-12 04:37:03  neutral     1\n",
       "2017-08-12 04:37:50  positive    1\n",
       "2017-08-12 04:38:43  positive    1\n",
       "2017-08-12 04:39:00  positive    1\n",
       "                                ..\n",
       "2017-08-17 11:18:12  neutral     1\n",
       "2017-08-17 11:18:21  neutral     1\n",
       "2017-08-17 11:19:14  positive    1\n",
       "2017-08-17 12:55:16  neutral     1\n",
       "2017-08-17 13:27:44  positive    1\n",
       "2017-08-17 14:02:22  neutral     1\n",
       "2017-08-17 14:33:55  positive    1\n",
       "2017-08-17 15:29:04  negative    1\n",
       "2017-08-17 15:34:00  neutral     1\n",
       "2017-08-17 15:39:36  positive    1\n",
       "2017-08-17 15:46:33  neutral     1\n",
       "2017-08-17 17:32:53  neutral     1\n",
       "2017-08-17 18:02:31  positive    1\n",
       "2017-08-17 19:45:30  positive    1\n",
       "2017-08-17 20:07:11  positive    1\n",
       "2017-08-17 20:09:08  neutral     1\n",
       "2017-08-17 20:10:23  positive    1\n",
       "2017-08-17 20:16:43  neutral     1\n",
       "2017-08-17 20:33:09  positive    1\n",
       "2017-08-17 21:08:51  positive    1\n",
       "2017-08-17 22:09:59  neutral     1\n",
       "2017-08-17 22:10:40  positive    1\n",
       "2017-08-17 22:12:39  neutral     1\n",
       "2017-08-17 22:15:48  neutral     1\n",
       "2017-08-17 23:19:40  positive    1\n",
       "2017-08-17 23:22:06  positive    1\n",
       "2017-08-17 23:25:01  neutral     1\n",
       "2017-08-17 23:26:32  positive    1\n",
       "2017-08-17 23:34:25  positive    1\n",
       "2017-08-17 23:35:40  neutral     1\n",
       "Length: 4357, dtype: int64"
      ]
     },
     "execution_count": 9,
     "metadata": {},
     "output_type": "execute_result"
    }
   ],
   "source": [
    "df.groupby([\"date\", \"polarity\"]).size()"
   ]
  },
  {
   "cell_type": "code",
   "execution_count": 11,
   "metadata": {},
   "outputs": [
    {
     "data": {
      "text/plain": [
       "Unnamed: 0               int64\n",
       "Unnamed: 0.1             int64\n",
       "created_at              object\n",
       "hashtags                object\n",
       "text                    object\n",
       "favorite_count           int64\n",
       "lang                    object\n",
       "place                   object\n",
       "user_location           object\n",
       "retweet_count            int64\n",
       "retweet_screen_name    float64\n",
       "date                    object\n",
       "sentiment               object\n",
       "polarity                object\n",
       "dtype: object"
      ]
     },
     "execution_count": 11,
     "metadata": {},
     "output_type": "execute_result"
    }
   ],
   "source": [
    "df.dtypes"
   ]
  },
  {
   "cell_type": "code",
   "execution_count": 12,
   "metadata": {},
   "outputs": [],
   "source": [
    "df['NDate'] = pd.to_datetime(df['date'])"
   ]
  },
  {
   "cell_type": "code",
   "execution_count": 14,
   "metadata": {},
   "outputs": [
    {
     "data": {
      "text/plain": [
       "Unnamed: 0                      int64\n",
       "Unnamed: 0.1                    int64\n",
       "created_at                     object\n",
       "hashtags                       object\n",
       "text                           object\n",
       "favorite_count                  int64\n",
       "lang                           object\n",
       "place                          object\n",
       "user_location                  object\n",
       "retweet_count                   int64\n",
       "retweet_screen_name           float64\n",
       "date                           object\n",
       "sentiment                      object\n",
       "polarity                       object\n",
       "NDate                  datetime64[ns]\n",
       "dtype: object"
      ]
     },
     "execution_count": 14,
     "metadata": {},
     "output_type": "execute_result"
    }
   ],
   "source": [
    "df.dtypes"
   ]
  },
  {
   "cell_type": "code",
   "execution_count": 15,
   "metadata": {},
   "outputs": [],
   "source": [
    "# Making the seconds as 0 to avg out the time for the tweets.\n",
    "df['NDate'] = df['NDate'].map(lambda x: x.replace(second=0))"
   ]
  },
  {
   "cell_type": "code",
   "execution_count": 20,
   "metadata": {},
   "outputs": [
    {
     "data": {
      "text/html": [
       "<div>\n",
       "<style scoped>\n",
       "    .dataframe tbody tr th:only-of-type {\n",
       "        vertical-align: middle;\n",
       "    }\n",
       "\n",
       "    .dataframe tbody tr th {\n",
       "        vertical-align: top;\n",
       "    }\n",
       "\n",
       "    .dataframe thead th {\n",
       "        text-align: right;\n",
       "    }\n",
       "</style>\n",
       "<table border=\"1\" class=\"dataframe\">\n",
       "  <thead>\n",
       "    <tr style=\"text-align: right;\">\n",
       "      <th></th>\n",
       "      <th>Unnamed: 0</th>\n",
       "      <th>Unnamed: 0.1</th>\n",
       "      <th>created_at</th>\n",
       "      <th>hashtags</th>\n",
       "      <th>text</th>\n",
       "      <th>favorite_count</th>\n",
       "      <th>lang</th>\n",
       "      <th>place</th>\n",
       "      <th>user_location</th>\n",
       "      <th>retweet_count</th>\n",
       "      <th>retweet_screen_name</th>\n",
       "      <th>date</th>\n",
       "      <th>sentiment</th>\n",
       "      <th>polarity</th>\n",
       "      <th>NDate</th>\n",
       "    </tr>\n",
       "  </thead>\n",
       "  <tbody>\n",
       "    <tr>\n",
       "      <th>0</th>\n",
       "      <td>0</td>\n",
       "      <td>8</td>\n",
       "      <td>Sun Aug 13 08:32:29 +0000 2017</td>\n",
       "      <td>women WITBragDay</td>\n",
       "      <td>3 degrees in building industry and they reject...</td>\n",
       "      <td>9</td>\n",
       "      <td>en</td>\n",
       "      <td>NaN</td>\n",
       "      <td>Wroclaw, Poland</td>\n",
       "      <td>2</td>\n",
       "      <td>NaN</td>\n",
       "      <td>2017-08-13 08:32:29</td>\n",
       "      <td>Sentiment(polarity=0.017857142857142856, subje...</td>\n",
       "      <td>positive</td>\n",
       "      <td>2017-08-13 08:00:00</td>\n",
       "    </tr>\n",
       "    <tr>\n",
       "      <th>1</th>\n",
       "      <td>1</td>\n",
       "      <td>13</td>\n",
       "      <td>Thu Aug 17 23:34:25 +0000 2017</td>\n",
       "      <td>WITBragDay</td>\n",
       "      <td>@azimman @LaunchDarkly sounds like you should ...</td>\n",
       "      <td>1</td>\n",
       "      <td>en</td>\n",
       "      <td>NaN</td>\n",
       "      <td>/usr/local/sin</td>\n",
       "      <td>0</td>\n",
       "      <td>NaN</td>\n",
       "      <td>2017-08-17 23:34:25</td>\n",
       "      <td>Sentiment(polarity=0.75, subjectivity=1.0)</td>\n",
       "      <td>positive</td>\n",
       "      <td>2017-08-17 23:00:00</td>\n",
       "    </tr>\n",
       "  </tbody>\n",
       "</table>\n",
       "</div>"
      ],
      "text/plain": [
       "   Unnamed: 0  Unnamed: 0.1                      created_at          hashtags  \\\n",
       "0           0             8  Sun Aug 13 08:32:29 +0000 2017  women WITBragDay   \n",
       "1           1            13  Thu Aug 17 23:34:25 +0000 2017        WITBragDay   \n",
       "\n",
       "                                                text  favorite_count lang  \\\n",
       "0  3 degrees in building industry and they reject...               9   en   \n",
       "1  @azimman @LaunchDarkly sounds like you should ...               1   en   \n",
       "\n",
       "  place    user_location  retweet_count  retweet_screen_name  \\\n",
       "0   NaN  Wroclaw, Poland              2                  NaN   \n",
       "1   NaN   /usr/local/sin              0                  NaN   \n",
       "\n",
       "                  date                                          sentiment  \\\n",
       "0  2017-08-13 08:32:29  Sentiment(polarity=0.017857142857142856, subje...   \n",
       "1  2017-08-17 23:34:25         Sentiment(polarity=0.75, subjectivity=1.0)   \n",
       "\n",
       "   polarity               NDate  \n",
       "0  positive 2017-08-13 08:00:00  \n",
       "1  positive 2017-08-17 23:00:00  "
      ]
     },
     "execution_count": 20,
     "metadata": {},
     "output_type": "execute_result"
    }
   ],
   "source": [
    "df.head(2)"
   ]
  },
  {
   "cell_type": "code",
   "execution_count": 19,
   "metadata": {},
   "outputs": [],
   "source": [
    "# also get rid of the minutes\n",
    "df['NDate'] = df['NDate'].map(lambda x: x.replace(minute=0))"
   ]
  },
  {
   "cell_type": "code",
   "execution_count": 21,
   "metadata": {},
   "outputs": [
    {
     "data": {
      "text/plain": [
       "NDate                polarity\n",
       "2017-08-12 04:00:00  negative      5\n",
       "                     neutral      44\n",
       "                     positive     55\n",
       "2017-08-12 05:00:00  negative     14\n",
       "                     neutral      81\n",
       "                     positive    108\n",
       "2017-08-12 06:00:00  negative     11\n",
       "                     neutral      51\n",
       "                     positive     62\n",
       "2017-08-12 07:00:00  negative      5\n",
       "                     neutral      59\n",
       "                     positive     65\n",
       "2017-08-12 08:00:00  negative     12\n",
       "                     neutral      77\n",
       "                     positive     89\n",
       "2017-08-12 09:00:00  negative     14\n",
       "                     neutral      58\n",
       "                     positive     70\n",
       "2017-08-12 10:00:00  negative     10\n",
       "                     neutral      55\n",
       "                     positive     57\n",
       "2017-08-12 11:00:00  negative     10\n",
       "                     neutral      43\n",
       "                     positive     73\n",
       "2017-08-12 12:00:00  negative      6\n",
       "                     neutral      61\n",
       "                     positive     72\n",
       "2017-08-12 13:00:00  negative      8\n",
       "                     neutral      94\n",
       "                     positive    100\n",
       "                                ... \n",
       "2017-08-17 00:00:00  neutral       2\n",
       "                     positive      2\n",
       "2017-08-17 02:00:00  neutral       2\n",
       "2017-08-17 04:00:00  neutral       1\n",
       "                     positive      1\n",
       "2017-08-17 05:00:00  negative      3\n",
       "2017-08-17 06:00:00  positive      1\n",
       "2017-08-17 07:00:00  neutral       1\n",
       "                     positive      1\n",
       "2017-08-17 09:00:00  positive      1\n",
       "2017-08-17 10:00:00  positive      1\n",
       "2017-08-17 11:00:00  neutral       4\n",
       "                     positive      3\n",
       "2017-08-17 12:00:00  neutral       1\n",
       "2017-08-17 13:00:00  positive      1\n",
       "2017-08-17 14:00:00  neutral       1\n",
       "                     positive      1\n",
       "2017-08-17 15:00:00  negative      1\n",
       "                     neutral       2\n",
       "                     positive      1\n",
       "2017-08-17 17:00:00  neutral       1\n",
       "2017-08-17 18:00:00  positive      1\n",
       "2017-08-17 19:00:00  positive      1\n",
       "2017-08-17 20:00:00  neutral       2\n",
       "                     positive      3\n",
       "2017-08-17 21:00:00  positive      1\n",
       "2017-08-17 22:00:00  neutral       3\n",
       "                     positive      1\n",
       "2017-08-17 23:00:00  neutral       2\n",
       "                     positive      4\n",
       "Length: 303, dtype: int64"
      ]
     },
     "execution_count": 21,
     "metadata": {},
     "output_type": "execute_result"
    }
   ],
   "source": [
    "df.groupby([\"NDate\", \"polarity\"]).size()"
   ]
  },
  {
   "cell_type": "code",
   "execution_count": 22,
   "metadata": {},
   "outputs": [],
   "source": [
    "new_Df = pd.DataFrame({'count' : df.groupby([\"NDate\", \"polarity\"]).size()}).reset_index()"
   ]
  },
  {
   "cell_type": "code",
   "execution_count": 23,
   "metadata": {},
   "outputs": [],
   "source": [
    "dfff = pd.pivot_table(new_Df, values = 'count', index=['NDate'], columns = 'polarity').reset_index()"
   ]
  },
  {
   "cell_type": "code",
   "execution_count": 24,
   "metadata": {},
   "outputs": [
    {
     "data": {
      "text/html": [
       "<div>\n",
       "<style scoped>\n",
       "    .dataframe tbody tr th:only-of-type {\n",
       "        vertical-align: middle;\n",
       "    }\n",
       "\n",
       "    .dataframe tbody tr th {\n",
       "        vertical-align: top;\n",
       "    }\n",
       "\n",
       "    .dataframe thead th {\n",
       "        text-align: right;\n",
       "    }\n",
       "</style>\n",
       "<table border=\"1\" class=\"dataframe\">\n",
       "  <thead>\n",
       "    <tr style=\"text-align: right;\">\n",
       "      <th>polarity</th>\n",
       "      <th>NDate</th>\n",
       "      <th>negative</th>\n",
       "      <th>neutral</th>\n",
       "      <th>positive</th>\n",
       "    </tr>\n",
       "  </thead>\n",
       "  <tbody>\n",
       "    <tr>\n",
       "      <th>0</th>\n",
       "      <td>2017-08-12 04:00:00</td>\n",
       "      <td>5.0</td>\n",
       "      <td>44.0</td>\n",
       "      <td>55.0</td>\n",
       "    </tr>\n",
       "    <tr>\n",
       "      <th>1</th>\n",
       "      <td>2017-08-12 05:00:00</td>\n",
       "      <td>14.0</td>\n",
       "      <td>81.0</td>\n",
       "      <td>108.0</td>\n",
       "    </tr>\n",
       "  </tbody>\n",
       "</table>\n",
       "</div>"
      ],
      "text/plain": [
       "polarity               NDate  negative  neutral  positive\n",
       "0        2017-08-12 04:00:00       5.0     44.0      55.0\n",
       "1        2017-08-12 05:00:00      14.0     81.0     108.0"
      ]
     },
     "execution_count": 24,
     "metadata": {},
     "output_type": "execute_result"
    }
   ],
   "source": [
    "dfff.head(2)"
   ]
  },
  {
   "cell_type": "code",
   "execution_count": 25,
   "metadata": {},
   "outputs": [
    {
     "data": {
      "text/html": [
       "<div>\n",
       "<style scoped>\n",
       "    .dataframe tbody tr th:only-of-type {\n",
       "        vertical-align: middle;\n",
       "    }\n",
       "\n",
       "    .dataframe tbody tr th {\n",
       "        vertical-align: top;\n",
       "    }\n",
       "\n",
       "    .dataframe thead th {\n",
       "        text-align: right;\n",
       "    }\n",
       "</style>\n",
       "<table border=\"1\" class=\"dataframe\">\n",
       "  <thead>\n",
       "    <tr style=\"text-align: right;\">\n",
       "      <th>polarity</th>\n",
       "      <th>NDate</th>\n",
       "      <th>negative</th>\n",
       "      <th>neutral</th>\n",
       "      <th>positive</th>\n",
       "    </tr>\n",
       "  </thead>\n",
       "  <tbody>\n",
       "    <tr>\n",
       "      <th>0</th>\n",
       "      <td>2017-08-12 04:00:00</td>\n",
       "      <td>5.0</td>\n",
       "      <td>44.0</td>\n",
       "      <td>55.0</td>\n",
       "    </tr>\n",
       "    <tr>\n",
       "      <th>1</th>\n",
       "      <td>2017-08-12 05:00:00</td>\n",
       "      <td>14.0</td>\n",
       "      <td>81.0</td>\n",
       "      <td>108.0</td>\n",
       "    </tr>\n",
       "    <tr>\n",
       "      <th>2</th>\n",
       "      <td>2017-08-12 06:00:00</td>\n",
       "      <td>11.0</td>\n",
       "      <td>51.0</td>\n",
       "      <td>62.0</td>\n",
       "    </tr>\n",
       "    <tr>\n",
       "      <th>3</th>\n",
       "      <td>2017-08-12 07:00:00</td>\n",
       "      <td>5.0</td>\n",
       "      <td>59.0</td>\n",
       "      <td>65.0</td>\n",
       "    </tr>\n",
       "    <tr>\n",
       "      <th>4</th>\n",
       "      <td>2017-08-12 08:00:00</td>\n",
       "      <td>12.0</td>\n",
       "      <td>77.0</td>\n",
       "      <td>89.0</td>\n",
       "    </tr>\n",
       "    <tr>\n",
       "      <th>5</th>\n",
       "      <td>2017-08-12 09:00:00</td>\n",
       "      <td>14.0</td>\n",
       "      <td>58.0</td>\n",
       "      <td>70.0</td>\n",
       "    </tr>\n",
       "    <tr>\n",
       "      <th>6</th>\n",
       "      <td>2017-08-12 10:00:00</td>\n",
       "      <td>10.0</td>\n",
       "      <td>55.0</td>\n",
       "      <td>57.0</td>\n",
       "    </tr>\n",
       "    <tr>\n",
       "      <th>7</th>\n",
       "      <td>2017-08-12 11:00:00</td>\n",
       "      <td>10.0</td>\n",
       "      <td>43.0</td>\n",
       "      <td>73.0</td>\n",
       "    </tr>\n",
       "    <tr>\n",
       "      <th>8</th>\n",
       "      <td>2017-08-12 12:00:00</td>\n",
       "      <td>6.0</td>\n",
       "      <td>61.0</td>\n",
       "      <td>72.0</td>\n",
       "    </tr>\n",
       "    <tr>\n",
       "      <th>9</th>\n",
       "      <td>2017-08-12 13:00:00</td>\n",
       "      <td>8.0</td>\n",
       "      <td>94.0</td>\n",
       "      <td>100.0</td>\n",
       "    </tr>\n",
       "    <tr>\n",
       "      <th>10</th>\n",
       "      <td>2017-08-12 14:00:00</td>\n",
       "      <td>11.0</td>\n",
       "      <td>101.0</td>\n",
       "      <td>100.0</td>\n",
       "    </tr>\n",
       "    <tr>\n",
       "      <th>11</th>\n",
       "      <td>2017-08-12 15:00:00</td>\n",
       "      <td>16.0</td>\n",
       "      <td>71.0</td>\n",
       "      <td>107.0</td>\n",
       "    </tr>\n",
       "    <tr>\n",
       "      <th>12</th>\n",
       "      <td>2017-08-12 16:00:00</td>\n",
       "      <td>17.0</td>\n",
       "      <td>86.0</td>\n",
       "      <td>104.0</td>\n",
       "    </tr>\n",
       "    <tr>\n",
       "      <th>13</th>\n",
       "      <td>2017-08-12 17:00:00</td>\n",
       "      <td>14.0</td>\n",
       "      <td>73.0</td>\n",
       "      <td>107.0</td>\n",
       "    </tr>\n",
       "    <tr>\n",
       "      <th>14</th>\n",
       "      <td>2017-08-12 18:00:00</td>\n",
       "      <td>6.0</td>\n",
       "      <td>85.0</td>\n",
       "      <td>102.0</td>\n",
       "    </tr>\n",
       "    <tr>\n",
       "      <th>15</th>\n",
       "      <td>2017-08-12 19:00:00</td>\n",
       "      <td>11.0</td>\n",
       "      <td>76.0</td>\n",
       "      <td>86.0</td>\n",
       "    </tr>\n",
       "    <tr>\n",
       "      <th>16</th>\n",
       "      <td>2017-08-12 20:00:00</td>\n",
       "      <td>10.0</td>\n",
       "      <td>48.0</td>\n",
       "      <td>63.0</td>\n",
       "    </tr>\n",
       "    <tr>\n",
       "      <th>17</th>\n",
       "      <td>2017-08-12 21:00:00</td>\n",
       "      <td>3.0</td>\n",
       "      <td>31.0</td>\n",
       "      <td>47.0</td>\n",
       "    </tr>\n",
       "    <tr>\n",
       "      <th>18</th>\n",
       "      <td>2017-08-12 22:00:00</td>\n",
       "      <td>4.0</td>\n",
       "      <td>23.0</td>\n",
       "      <td>39.0</td>\n",
       "    </tr>\n",
       "    <tr>\n",
       "      <th>19</th>\n",
       "      <td>2017-08-12 23:00:00</td>\n",
       "      <td>5.0</td>\n",
       "      <td>30.0</td>\n",
       "      <td>32.0</td>\n",
       "    </tr>\n",
       "    <tr>\n",
       "      <th>20</th>\n",
       "      <td>2017-08-13 00:00:00</td>\n",
       "      <td>1.0</td>\n",
       "      <td>11.0</td>\n",
       "      <td>25.0</td>\n",
       "    </tr>\n",
       "    <tr>\n",
       "      <th>21</th>\n",
       "      <td>2017-08-13 01:00:00</td>\n",
       "      <td>2.0</td>\n",
       "      <td>16.0</td>\n",
       "      <td>18.0</td>\n",
       "    </tr>\n",
       "    <tr>\n",
       "      <th>22</th>\n",
       "      <td>2017-08-13 02:00:00</td>\n",
       "      <td>3.0</td>\n",
       "      <td>19.0</td>\n",
       "      <td>15.0</td>\n",
       "    </tr>\n",
       "    <tr>\n",
       "      <th>23</th>\n",
       "      <td>2017-08-13 03:00:00</td>\n",
       "      <td>3.0</td>\n",
       "      <td>25.0</td>\n",
       "      <td>21.0</td>\n",
       "    </tr>\n",
       "    <tr>\n",
       "      <th>24</th>\n",
       "      <td>2017-08-13 04:00:00</td>\n",
       "      <td>2.0</td>\n",
       "      <td>11.0</td>\n",
       "      <td>23.0</td>\n",
       "    </tr>\n",
       "    <tr>\n",
       "      <th>25</th>\n",
       "      <td>2017-08-13 05:00:00</td>\n",
       "      <td>1.0</td>\n",
       "      <td>13.0</td>\n",
       "      <td>21.0</td>\n",
       "    </tr>\n",
       "    <tr>\n",
       "      <th>26</th>\n",
       "      <td>2017-08-13 06:00:00</td>\n",
       "      <td>2.0</td>\n",
       "      <td>17.0</td>\n",
       "      <td>17.0</td>\n",
       "    </tr>\n",
       "    <tr>\n",
       "      <th>27</th>\n",
       "      <td>2017-08-13 07:00:00</td>\n",
       "      <td>2.0</td>\n",
       "      <td>21.0</td>\n",
       "      <td>21.0</td>\n",
       "    </tr>\n",
       "    <tr>\n",
       "      <th>28</th>\n",
       "      <td>2017-08-13 08:00:00</td>\n",
       "      <td>3.0</td>\n",
       "      <td>24.0</td>\n",
       "      <td>32.0</td>\n",
       "    </tr>\n",
       "    <tr>\n",
       "      <th>29</th>\n",
       "      <td>2017-08-13 09:00:00</td>\n",
       "      <td>2.0</td>\n",
       "      <td>15.0</td>\n",
       "      <td>25.0</td>\n",
       "    </tr>\n",
       "    <tr>\n",
       "      <th>...</th>\n",
       "      <td>...</td>\n",
       "      <td>...</td>\n",
       "      <td>...</td>\n",
       "      <td>...</td>\n",
       "    </tr>\n",
       "    <tr>\n",
       "      <th>105</th>\n",
       "      <td>2017-08-16 14:00:00</td>\n",
       "      <td>1.0</td>\n",
       "      <td>0.0</td>\n",
       "      <td>2.0</td>\n",
       "    </tr>\n",
       "    <tr>\n",
       "      <th>106</th>\n",
       "      <td>2017-08-16 15:00:00</td>\n",
       "      <td>0.0</td>\n",
       "      <td>1.0</td>\n",
       "      <td>0.0</td>\n",
       "    </tr>\n",
       "    <tr>\n",
       "      <th>107</th>\n",
       "      <td>2017-08-16 16:00:00</td>\n",
       "      <td>0.0</td>\n",
       "      <td>0.0</td>\n",
       "      <td>1.0</td>\n",
       "    </tr>\n",
       "    <tr>\n",
       "      <th>108</th>\n",
       "      <td>2017-08-16 17:00:00</td>\n",
       "      <td>0.0</td>\n",
       "      <td>2.0</td>\n",
       "      <td>4.0</td>\n",
       "    </tr>\n",
       "    <tr>\n",
       "      <th>109</th>\n",
       "      <td>2017-08-16 18:00:00</td>\n",
       "      <td>1.0</td>\n",
       "      <td>0.0</td>\n",
       "      <td>1.0</td>\n",
       "    </tr>\n",
       "    <tr>\n",
       "      <th>110</th>\n",
       "      <td>2017-08-16 19:00:00</td>\n",
       "      <td>0.0</td>\n",
       "      <td>1.0</td>\n",
       "      <td>0.0</td>\n",
       "    </tr>\n",
       "    <tr>\n",
       "      <th>111</th>\n",
       "      <td>2017-08-16 20:00:00</td>\n",
       "      <td>1.0</td>\n",
       "      <td>1.0</td>\n",
       "      <td>0.0</td>\n",
       "    </tr>\n",
       "    <tr>\n",
       "      <th>112</th>\n",
       "      <td>2017-08-16 21:00:00</td>\n",
       "      <td>0.0</td>\n",
       "      <td>0.0</td>\n",
       "      <td>1.0</td>\n",
       "    </tr>\n",
       "    <tr>\n",
       "      <th>113</th>\n",
       "      <td>2017-08-16 22:00:00</td>\n",
       "      <td>0.0</td>\n",
       "      <td>1.0</td>\n",
       "      <td>2.0</td>\n",
       "    </tr>\n",
       "    <tr>\n",
       "      <th>114</th>\n",
       "      <td>2017-08-16 23:00:00</td>\n",
       "      <td>1.0</td>\n",
       "      <td>0.0</td>\n",
       "      <td>0.0</td>\n",
       "    </tr>\n",
       "    <tr>\n",
       "      <th>115</th>\n",
       "      <td>2017-08-17 00:00:00</td>\n",
       "      <td>0.0</td>\n",
       "      <td>2.0</td>\n",
       "      <td>2.0</td>\n",
       "    </tr>\n",
       "    <tr>\n",
       "      <th>116</th>\n",
       "      <td>2017-08-17 02:00:00</td>\n",
       "      <td>0.0</td>\n",
       "      <td>2.0</td>\n",
       "      <td>0.0</td>\n",
       "    </tr>\n",
       "    <tr>\n",
       "      <th>117</th>\n",
       "      <td>2017-08-17 04:00:00</td>\n",
       "      <td>0.0</td>\n",
       "      <td>1.0</td>\n",
       "      <td>1.0</td>\n",
       "    </tr>\n",
       "    <tr>\n",
       "      <th>118</th>\n",
       "      <td>2017-08-17 05:00:00</td>\n",
       "      <td>3.0</td>\n",
       "      <td>0.0</td>\n",
       "      <td>0.0</td>\n",
       "    </tr>\n",
       "    <tr>\n",
       "      <th>119</th>\n",
       "      <td>2017-08-17 06:00:00</td>\n",
       "      <td>0.0</td>\n",
       "      <td>0.0</td>\n",
       "      <td>1.0</td>\n",
       "    </tr>\n",
       "    <tr>\n",
       "      <th>120</th>\n",
       "      <td>2017-08-17 07:00:00</td>\n",
       "      <td>0.0</td>\n",
       "      <td>1.0</td>\n",
       "      <td>1.0</td>\n",
       "    </tr>\n",
       "    <tr>\n",
       "      <th>121</th>\n",
       "      <td>2017-08-17 09:00:00</td>\n",
       "      <td>0.0</td>\n",
       "      <td>0.0</td>\n",
       "      <td>1.0</td>\n",
       "    </tr>\n",
       "    <tr>\n",
       "      <th>122</th>\n",
       "      <td>2017-08-17 10:00:00</td>\n",
       "      <td>0.0</td>\n",
       "      <td>0.0</td>\n",
       "      <td>1.0</td>\n",
       "    </tr>\n",
       "    <tr>\n",
       "      <th>123</th>\n",
       "      <td>2017-08-17 11:00:00</td>\n",
       "      <td>0.0</td>\n",
       "      <td>4.0</td>\n",
       "      <td>3.0</td>\n",
       "    </tr>\n",
       "    <tr>\n",
       "      <th>124</th>\n",
       "      <td>2017-08-17 12:00:00</td>\n",
       "      <td>0.0</td>\n",
       "      <td>1.0</td>\n",
       "      <td>0.0</td>\n",
       "    </tr>\n",
       "    <tr>\n",
       "      <th>125</th>\n",
       "      <td>2017-08-17 13:00:00</td>\n",
       "      <td>0.0</td>\n",
       "      <td>0.0</td>\n",
       "      <td>1.0</td>\n",
       "    </tr>\n",
       "    <tr>\n",
       "      <th>126</th>\n",
       "      <td>2017-08-17 14:00:00</td>\n",
       "      <td>0.0</td>\n",
       "      <td>1.0</td>\n",
       "      <td>1.0</td>\n",
       "    </tr>\n",
       "    <tr>\n",
       "      <th>127</th>\n",
       "      <td>2017-08-17 15:00:00</td>\n",
       "      <td>1.0</td>\n",
       "      <td>2.0</td>\n",
       "      <td>1.0</td>\n",
       "    </tr>\n",
       "    <tr>\n",
       "      <th>128</th>\n",
       "      <td>2017-08-17 17:00:00</td>\n",
       "      <td>0.0</td>\n",
       "      <td>1.0</td>\n",
       "      <td>0.0</td>\n",
       "    </tr>\n",
       "    <tr>\n",
       "      <th>129</th>\n",
       "      <td>2017-08-17 18:00:00</td>\n",
       "      <td>0.0</td>\n",
       "      <td>0.0</td>\n",
       "      <td>1.0</td>\n",
       "    </tr>\n",
       "    <tr>\n",
       "      <th>130</th>\n",
       "      <td>2017-08-17 19:00:00</td>\n",
       "      <td>0.0</td>\n",
       "      <td>0.0</td>\n",
       "      <td>1.0</td>\n",
       "    </tr>\n",
       "    <tr>\n",
       "      <th>131</th>\n",
       "      <td>2017-08-17 20:00:00</td>\n",
       "      <td>0.0</td>\n",
       "      <td>2.0</td>\n",
       "      <td>3.0</td>\n",
       "    </tr>\n",
       "    <tr>\n",
       "      <th>132</th>\n",
       "      <td>2017-08-17 21:00:00</td>\n",
       "      <td>0.0</td>\n",
       "      <td>0.0</td>\n",
       "      <td>1.0</td>\n",
       "    </tr>\n",
       "    <tr>\n",
       "      <th>133</th>\n",
       "      <td>2017-08-17 22:00:00</td>\n",
       "      <td>0.0</td>\n",
       "      <td>3.0</td>\n",
       "      <td>1.0</td>\n",
       "    </tr>\n",
       "    <tr>\n",
       "      <th>134</th>\n",
       "      <td>2017-08-17 23:00:00</td>\n",
       "      <td>0.0</td>\n",
       "      <td>2.0</td>\n",
       "      <td>4.0</td>\n",
       "    </tr>\n",
       "  </tbody>\n",
       "</table>\n",
       "<p>135 rows × 4 columns</p>\n",
       "</div>"
      ],
      "text/plain": [
       "polarity               NDate  negative  neutral  positive\n",
       "0        2017-08-12 04:00:00       5.0     44.0      55.0\n",
       "1        2017-08-12 05:00:00      14.0     81.0     108.0\n",
       "2        2017-08-12 06:00:00      11.0     51.0      62.0\n",
       "3        2017-08-12 07:00:00       5.0     59.0      65.0\n",
       "4        2017-08-12 08:00:00      12.0     77.0      89.0\n",
       "5        2017-08-12 09:00:00      14.0     58.0      70.0\n",
       "6        2017-08-12 10:00:00      10.0     55.0      57.0\n",
       "7        2017-08-12 11:00:00      10.0     43.0      73.0\n",
       "8        2017-08-12 12:00:00       6.0     61.0      72.0\n",
       "9        2017-08-12 13:00:00       8.0     94.0     100.0\n",
       "10       2017-08-12 14:00:00      11.0    101.0     100.0\n",
       "11       2017-08-12 15:00:00      16.0     71.0     107.0\n",
       "12       2017-08-12 16:00:00      17.0     86.0     104.0\n",
       "13       2017-08-12 17:00:00      14.0     73.0     107.0\n",
       "14       2017-08-12 18:00:00       6.0     85.0     102.0\n",
       "15       2017-08-12 19:00:00      11.0     76.0      86.0\n",
       "16       2017-08-12 20:00:00      10.0     48.0      63.0\n",
       "17       2017-08-12 21:00:00       3.0     31.0      47.0\n",
       "18       2017-08-12 22:00:00       4.0     23.0      39.0\n",
       "19       2017-08-12 23:00:00       5.0     30.0      32.0\n",
       "20       2017-08-13 00:00:00       1.0     11.0      25.0\n",
       "21       2017-08-13 01:00:00       2.0     16.0      18.0\n",
       "22       2017-08-13 02:00:00       3.0     19.0      15.0\n",
       "23       2017-08-13 03:00:00       3.0     25.0      21.0\n",
       "24       2017-08-13 04:00:00       2.0     11.0      23.0\n",
       "25       2017-08-13 05:00:00       1.0     13.0      21.0\n",
       "26       2017-08-13 06:00:00       2.0     17.0      17.0\n",
       "27       2017-08-13 07:00:00       2.0     21.0      21.0\n",
       "28       2017-08-13 08:00:00       3.0     24.0      32.0\n",
       "29       2017-08-13 09:00:00       2.0     15.0      25.0\n",
       "..                       ...       ...      ...       ...\n",
       "105      2017-08-16 14:00:00       1.0      0.0       2.0\n",
       "106      2017-08-16 15:00:00       0.0      1.0       0.0\n",
       "107      2017-08-16 16:00:00       0.0      0.0       1.0\n",
       "108      2017-08-16 17:00:00       0.0      2.0       4.0\n",
       "109      2017-08-16 18:00:00       1.0      0.0       1.0\n",
       "110      2017-08-16 19:00:00       0.0      1.0       0.0\n",
       "111      2017-08-16 20:00:00       1.0      1.0       0.0\n",
       "112      2017-08-16 21:00:00       0.0      0.0       1.0\n",
       "113      2017-08-16 22:00:00       0.0      1.0       2.0\n",
       "114      2017-08-16 23:00:00       1.0      0.0       0.0\n",
       "115      2017-08-17 00:00:00       0.0      2.0       2.0\n",
       "116      2017-08-17 02:00:00       0.0      2.0       0.0\n",
       "117      2017-08-17 04:00:00       0.0      1.0       1.0\n",
       "118      2017-08-17 05:00:00       3.0      0.0       0.0\n",
       "119      2017-08-17 06:00:00       0.0      0.0       1.0\n",
       "120      2017-08-17 07:00:00       0.0      1.0       1.0\n",
       "121      2017-08-17 09:00:00       0.0      0.0       1.0\n",
       "122      2017-08-17 10:00:00       0.0      0.0       1.0\n",
       "123      2017-08-17 11:00:00       0.0      4.0       3.0\n",
       "124      2017-08-17 12:00:00       0.0      1.0       0.0\n",
       "125      2017-08-17 13:00:00       0.0      0.0       1.0\n",
       "126      2017-08-17 14:00:00       0.0      1.0       1.0\n",
       "127      2017-08-17 15:00:00       1.0      2.0       1.0\n",
       "128      2017-08-17 17:00:00       0.0      1.0       0.0\n",
       "129      2017-08-17 18:00:00       0.0      0.0       1.0\n",
       "130      2017-08-17 19:00:00       0.0      0.0       1.0\n",
       "131      2017-08-17 20:00:00       0.0      2.0       3.0\n",
       "132      2017-08-17 21:00:00       0.0      0.0       1.0\n",
       "133      2017-08-17 22:00:00       0.0      3.0       1.0\n",
       "134      2017-08-17 23:00:00       0.0      2.0       4.0\n",
       "\n",
       "[135 rows x 4 columns]"
      ]
     },
     "execution_count": 25,
     "metadata": {},
     "output_type": "execute_result"
    }
   ],
   "source": [
    "dfff.fillna(0)"
   ]
  },
  {
   "cell_type": "code",
   "execution_count": 26,
   "metadata": {},
   "outputs": [],
   "source": [
    "dfff.to_csv(\"multi-line_witbrag.csv\", encoding='utf-8', index=False)"
   ]
  },
  {
   "cell_type": "code",
   "execution_count": null,
   "metadata": {},
   "outputs": [],
   "source": []
  }
 ],
 "metadata": {
  "celltoolbar": "Raw Cell Format",
  "kernelspec": {
   "display_name": "Python 2",
   "language": "python",
   "name": "python2"
  },
  "language_info": {
   "codemirror_mode": {
    "name": "ipython",
    "version": 2
   },
   "file_extension": ".py",
   "mimetype": "text/x-python",
   "name": "python",
   "nbconvert_exporter": "python",
   "pygments_lexer": "ipython2",
   "version": "2.7.14"
  }
 },
 "nbformat": 4,
 "nbformat_minor": 2
}
