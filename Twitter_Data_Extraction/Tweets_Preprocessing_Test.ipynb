{
 "cells": [
  {
   "cell_type": "code",
   "execution_count": 1,
   "metadata": {},
   "outputs": [],
   "source": [
    "# Created By Rupesh Basnet\n",
    "# Testing out some pre-existing resources for pre-processing the tweets for WITBragDay as a framework for other \n",
    "# past events\n"
   ]
  },
  {
   "cell_type": "code",
   "execution_count": 3,
   "metadata": {},
   "outputs": [],
   "source": [
    "import csv\n",
    "import nltk\n",
    "import pandas as pd"
   ]
  },
  {
   "cell_type": "code",
   "execution_count": 7,
   "metadata": {},
   "outputs": [],
   "source": [
    "data = pd.read_csv(\"WITBragDay.csv\", sep=',', error_bad_lines=False, index_col=False, dtype='unicode')"
   ]
  },
  {
   "cell_type": "code",
   "execution_count": 8,
   "metadata": {},
   "outputs": [
    {
     "data": {
      "text/html": [
       "<div>\n",
       "<style scoped>\n",
       "    .dataframe tbody tr th:only-of-type {\n",
       "        vertical-align: middle;\n",
       "    }\n",
       "\n",
       "    .dataframe tbody tr th {\n",
       "        vertical-align: top;\n",
       "    }\n",
       "\n",
       "    .dataframe thead th {\n",
       "        text-align: right;\n",
       "    }\n",
       "</style>\n",
       "<table border=\"1\" class=\"dataframe\">\n",
       "  <thead>\n",
       "    <tr style=\"text-align: right;\">\n",
       "      <th></th>\n",
       "      <th>coordinates</th>\n",
       "      <th>created_at</th>\n",
       "      <th>hashtags</th>\n",
       "      <th>media</th>\n",
       "      <th>urls</th>\n",
       "      <th>favorite_count</th>\n",
       "      <th>id</th>\n",
       "      <th>in_reply_to_screen_name</th>\n",
       "      <th>in_reply_to_status_id</th>\n",
       "      <th>in_reply_to_user_id</th>\n",
       "      <th>...</th>\n",
       "      <th>user_followers_count</th>\n",
       "      <th>user_friends_count</th>\n",
       "      <th>user_listed_count</th>\n",
       "      <th>user_location</th>\n",
       "      <th>user_name</th>\n",
       "      <th>user_screen_name.1</th>\n",
       "      <th>user_statuses_count</th>\n",
       "      <th>user_time_zone</th>\n",
       "      <th>user_urls</th>\n",
       "      <th>user_verified</th>\n",
       "    </tr>\n",
       "  </thead>\n",
       "  <tbody>\n",
       "    <tr>\n",
       "      <th>0</th>\n",
       "      <td>NaN</td>\n",
       "      <td>Thu Aug 17 23:46:00 +0000 2017</td>\n",
       "      <td>WITBragDay</td>\n",
       "      <td>NaN</td>\n",
       "      <td>NaN</td>\n",
       "      <td>0</td>\n",
       "      <td>898330098876661760</td>\n",
       "      <td>NaN</td>\n",
       "      <td>NaN</td>\n",
       "      <td>NaN</td>\n",
       "      <td>...</td>\n",
       "      <td>5277</td>\n",
       "      <td>1006</td>\n",
       "      <td>509</td>\n",
       "      <td>San Francisco</td>\n",
       "      <td>Carina C. Zona</td>\n",
       "      <td>cczona</td>\n",
       "      <td>69411</td>\n",
       "      <td>NaN</td>\n",
       "      <td>http://patreon.com/cczona</td>\n",
       "      <td>false</td>\n",
       "    </tr>\n",
       "    <tr>\n",
       "      <th>1</th>\n",
       "      <td>NaN</td>\n",
       "      <td>Sun Aug 13 08:31:30 +0000 2017</td>\n",
       "      <td>NaN</td>\n",
       "      <td>NaN</td>\n",
       "      <td>NaN</td>\n",
       "      <td>0</td>\n",
       "      <td>896650407942008832</td>\n",
       "      <td>NaN</td>\n",
       "      <td>NaN</td>\n",
       "      <td>NaN</td>\n",
       "      <td>...</td>\n",
       "      <td>168</td>\n",
       "      <td>341</td>\n",
       "      <td>2</td>\n",
       "      <td>NaN</td>\n",
       "      <td>lowkey☠️</td>\n",
       "      <td>pahareya</td>\n",
       "      <td>12512</td>\n",
       "      <td>NaN</td>\n",
       "      <td>NaN</td>\n",
       "      <td>false</td>\n",
       "    </tr>\n",
       "    <tr>\n",
       "      <th>2</th>\n",
       "      <td>NaN</td>\n",
       "      <td>Thu Aug 17 22:12:33 +0000 2017</td>\n",
       "      <td>NaN</td>\n",
       "      <td>NaN</td>\n",
       "      <td>NaN</td>\n",
       "      <td>0</td>\n",
       "      <td>898306582819160064</td>\n",
       "      <td>NaN</td>\n",
       "      <td>NaN</td>\n",
       "      <td>NaN</td>\n",
       "      <td>...</td>\n",
       "      <td>296</td>\n",
       "      <td>740</td>\n",
       "      <td>7</td>\n",
       "      <td>London, England</td>\n",
       "      <td>ash</td>\n",
       "      <td>ashiesdollparts</td>\n",
       "      <td>18869</td>\n",
       "      <td>NaN</td>\n",
       "      <td>https://Instagram.com/ashiesdollparts</td>\n",
       "      <td>false</td>\n",
       "    </tr>\n",
       "    <tr>\n",
       "      <th>3</th>\n",
       "      <td>NaN</td>\n",
       "      <td>Thu Aug 17 23:23:29 +0000 2017</td>\n",
       "      <td>WITBragDay</td>\n",
       "      <td>NaN</td>\n",
       "      <td>NaN</td>\n",
       "      <td>0</td>\n",
       "      <td>898324433001103361</td>\n",
       "      <td>NaN</td>\n",
       "      <td>NaN</td>\n",
       "      <td>NaN</td>\n",
       "      <td>...</td>\n",
       "      <td>1499</td>\n",
       "      <td>607</td>\n",
       "      <td>83</td>\n",
       "      <td>NaN</td>\n",
       "      <td>Peter Barfuss 𒀱</td>\n",
       "      <td>bofh453</td>\n",
       "      <td>55620</td>\n",
       "      <td>NaN</td>\n",
       "      <td>NaN</td>\n",
       "      <td>false</td>\n",
       "    </tr>\n",
       "    <tr>\n",
       "      <th>4</th>\n",
       "      <td>NaN</td>\n",
       "      <td>Thu Aug 17 21:52:20 +0000 2017</td>\n",
       "      <td>NaN</td>\n",
       "      <td>NaN</td>\n",
       "      <td>NaN</td>\n",
       "      <td>0</td>\n",
       "      <td>898301492423081984</td>\n",
       "      <td>NaN</td>\n",
       "      <td>NaN</td>\n",
       "      <td>NaN</td>\n",
       "      <td>...</td>\n",
       "      <td>3331</td>\n",
       "      <td>1729</td>\n",
       "      <td>60</td>\n",
       "      <td>London, England</td>\n",
       "      <td>Kimberly M</td>\n",
       "      <td>kimpmurrell</td>\n",
       "      <td>7582</td>\n",
       "      <td>NaN</td>\n",
       "      <td>NaN</td>\n",
       "      <td>false</td>\n",
       "    </tr>\n",
       "  </tbody>\n",
       "</table>\n",
       "<p>5 rows × 34 columns</p>\n",
       "</div>"
      ],
      "text/plain": [
       "  coordinates                      created_at    hashtags media urls  \\\n",
       "0         NaN  Thu Aug 17 23:46:00 +0000 2017  WITBragDay   NaN  NaN   \n",
       "1         NaN  Sun Aug 13 08:31:30 +0000 2017         NaN   NaN  NaN   \n",
       "2         NaN  Thu Aug 17 22:12:33 +0000 2017         NaN   NaN  NaN   \n",
       "3         NaN  Thu Aug 17 23:23:29 +0000 2017  WITBragDay   NaN  NaN   \n",
       "4         NaN  Thu Aug 17 21:52:20 +0000 2017         NaN   NaN  NaN   \n",
       "\n",
       "  favorite_count                  id in_reply_to_screen_name  \\\n",
       "0              0  898330098876661760                     NaN   \n",
       "1              0  896650407942008832                     NaN   \n",
       "2              0  898306582819160064                     NaN   \n",
       "3              0  898324433001103361                     NaN   \n",
       "4              0  898301492423081984                     NaN   \n",
       "\n",
       "  in_reply_to_status_id in_reply_to_user_id      ...       \\\n",
       "0                   NaN                 NaN      ...        \n",
       "1                   NaN                 NaN      ...        \n",
       "2                   NaN                 NaN      ...        \n",
       "3                   NaN                 NaN      ...        \n",
       "4                   NaN                 NaN      ...        \n",
       "\n",
       "  user_followers_count user_friends_count user_listed_count    user_location  \\\n",
       "0                 5277               1006               509    San Francisco   \n",
       "1                  168                341                 2              NaN   \n",
       "2                  296                740                 7  London, England   \n",
       "3                 1499                607                83              NaN   \n",
       "4                 3331               1729                60  London, England   \n",
       "\n",
       "          user_name user_screen_name.1 user_statuses_count user_time_zone  \\\n",
       "0    Carina C. Zona             cczona               69411            NaN   \n",
       "1          lowkey☠️           pahareya               12512            NaN   \n",
       "2               ash    ashiesdollparts               18869            NaN   \n",
       "3  Peter Barfuss 𒀱            bofh453               55620            NaN   \n",
       "4        Kimberly M        kimpmurrell                7582            NaN   \n",
       "\n",
       "                               user_urls user_verified  \n",
       "0              http://patreon.com/cczona         false  \n",
       "1                                    NaN         false  \n",
       "2  https://Instagram.com/ashiesdollparts         false  \n",
       "3                                    NaN         false  \n",
       "4                                    NaN         false  \n",
       "\n",
       "[5 rows x 34 columns]"
      ]
     },
     "execution_count": 8,
     "metadata": {},
     "output_type": "execute_result"
    }
   ],
   "source": [
    "# Viewing the top 5 data\n",
    "data.head(5)"
   ]
  },
  {
   "cell_type": "code",
   "execution_count": 9,
   "metadata": {},
   "outputs": [],
   "source": [
    "clean_data = data.filter(items = [\"created_at\",\"hashtags\",\"text\",\"favorite_count\",\"lang\",\"place\",\"geo\",\"user_location\",\"retweet_count\"])"
   ]
  },
  {
   "cell_type": "code",
   "execution_count": 14,
   "metadata": {},
   "outputs": [
    {
     "data": {
      "text/html": [
       "<div>\n",
       "<style scoped>\n",
       "    .dataframe tbody tr th:only-of-type {\n",
       "        vertical-align: middle;\n",
       "    }\n",
       "\n",
       "    .dataframe tbody tr th {\n",
       "        vertical-align: top;\n",
       "    }\n",
       "\n",
       "    .dataframe thead th {\n",
       "        text-align: right;\n",
       "    }\n",
       "</style>\n",
       "<table border=\"1\" class=\"dataframe\">\n",
       "  <thead>\n",
       "    <tr style=\"text-align: right;\">\n",
       "      <th></th>\n",
       "      <th>created_at</th>\n",
       "      <th>hashtags</th>\n",
       "      <th>text</th>\n",
       "      <th>favorite_count</th>\n",
       "      <th>lang</th>\n",
       "      <th>place</th>\n",
       "      <th>user_location</th>\n",
       "      <th>retweet_count</th>\n",
       "    </tr>\n",
       "  </thead>\n",
       "  <tbody>\n",
       "    <tr>\n",
       "      <th>0</th>\n",
       "      <td>Thu Aug 17 23:46:00 +0000 2017</td>\n",
       "      <td>WITBragDay</td>\n",
       "      <td>RT @alicegoldfuss: So happy to hear women gett...</td>\n",
       "      <td>0</td>\n",
       "      <td>en</td>\n",
       "      <td>NaN</td>\n",
       "      <td>San Francisco</td>\n",
       "      <td>25</td>\n",
       "    </tr>\n",
       "    <tr>\n",
       "      <th>1</th>\n",
       "      <td>Sun Aug 13 08:31:30 +0000 2017</td>\n",
       "      <td>NaN</td>\n",
       "      <td>RT @jewree: Every time you write email in Gmai...</td>\n",
       "      <td>0</td>\n",
       "      <td>en</td>\n",
       "      <td>NaN</td>\n",
       "      <td>NaN</td>\n",
       "      <td>8475</td>\n",
       "    </tr>\n",
       "    <tr>\n",
       "      <th>2</th>\n",
       "      <td>Thu Aug 17 22:12:33 +0000 2017</td>\n",
       "      <td>NaN</td>\n",
       "      <td>RT @jewree: Every time you write email in Gmai...</td>\n",
       "      <td>0</td>\n",
       "      <td>en</td>\n",
       "      <td>NaN</td>\n",
       "      <td>London, England</td>\n",
       "      <td>8475</td>\n",
       "    </tr>\n",
       "    <tr>\n",
       "      <th>3</th>\n",
       "      <td>Thu Aug 17 23:23:29 +0000 2017</td>\n",
       "      <td>WITBragDay</td>\n",
       "      <td>RT @alicegoldfuss: Recruiters should definitel...</td>\n",
       "      <td>0</td>\n",
       "      <td>en</td>\n",
       "      <td>NaN</td>\n",
       "      <td>NaN</td>\n",
       "      <td>76</td>\n",
       "    </tr>\n",
       "    <tr>\n",
       "      <th>4</th>\n",
       "      <td>Thu Aug 17 21:52:20 +0000 2017</td>\n",
       "      <td>NaN</td>\n",
       "      <td>RT @jewree: Every time you write email in Gmai...</td>\n",
       "      <td>0</td>\n",
       "      <td>en</td>\n",
       "      <td>NaN</td>\n",
       "      <td>London, England</td>\n",
       "      <td>8475</td>\n",
       "    </tr>\n",
       "  </tbody>\n",
       "</table>\n",
       "</div>"
      ],
      "text/plain": [
       "                       created_at    hashtags  \\\n",
       "0  Thu Aug 17 23:46:00 +0000 2017  WITBragDay   \n",
       "1  Sun Aug 13 08:31:30 +0000 2017         NaN   \n",
       "2  Thu Aug 17 22:12:33 +0000 2017         NaN   \n",
       "3  Thu Aug 17 23:23:29 +0000 2017  WITBragDay   \n",
       "4  Thu Aug 17 21:52:20 +0000 2017         NaN   \n",
       "\n",
       "                                                text favorite_count lang  \\\n",
       "0  RT @alicegoldfuss: So happy to hear women gett...              0   en   \n",
       "1  RT @jewree: Every time you write email in Gmai...              0   en   \n",
       "2  RT @jewree: Every time you write email in Gmai...              0   en   \n",
       "3  RT @alicegoldfuss: Recruiters should definitel...              0   en   \n",
       "4  RT @jewree: Every time you write email in Gmai...              0   en   \n",
       "\n",
       "  place    user_location retweet_count  \n",
       "0   NaN    San Francisco            25  \n",
       "1   NaN              NaN          8475  \n",
       "2   NaN  London, England          8475  \n",
       "3   NaN              NaN            76  \n",
       "4   NaN  London, England          8475  "
      ]
     },
     "execution_count": 14,
     "metadata": {},
     "output_type": "execute_result"
    }
   ],
   "source": [
    "clean_data.head(5)"
   ]
  },
  {
   "cell_type": "code",
   "execution_count": 15,
   "metadata": {},
   "outputs": [],
   "source": [
    "df = clean_data"
   ]
  },
  {
   "cell_type": "code",
   "execution_count": 17,
   "metadata": {},
   "outputs": [
    {
     "data": {
      "text/plain": [
       "Index([u'created_at', u'hashtags', u'text', u'favorite_count', u'lang',\n",
       "       u'place', u'user_location', u'retweet_count'],\n",
       "      dtype='object')"
      ]
     },
     "execution_count": 17,
     "metadata": {},
     "output_type": "execute_result"
    }
   ],
   "source": [
    "df.columns"
   ]
  },
  {
   "cell_type": "code",
   "execution_count": 19,
   "metadata": {},
   "outputs": [
    {
     "data": {
      "text/plain": [
       "created_at        object\n",
       "hashtags          object\n",
       "text              object\n",
       "favorite_count    object\n",
       "lang              object\n",
       "place             object\n",
       "user_location     object\n",
       "retweet_count     object\n",
       "dtype: object"
      ]
     },
     "execution_count": 19,
     "metadata": {},
     "output_type": "execute_result"
    }
   ],
   "source": [
    "df.dtypes"
   ]
  },
  {
   "cell_type": "code",
   "execution_count": 24,
   "metadata": {},
   "outputs": [],
   "source": [
    "# We will have to convert the object created_at into a datetime for now\n",
    "test = pd.to_datetime('Thu Aug 17 23:46:00 +0000 2017', format='%a %b %d %H:%M:%S +0000 %Y')\n",
    "# Still kept the original created_at date for later modification\n",
    "df['date'] = pd.to_datetime(df['created_at'], format='%a %b %d %H:%M:%S +0000 %Y')"
   ]
  },
  {
   "cell_type": "code",
   "execution_count": 26,
   "metadata": {},
   "outputs": [
    {
     "data": {
      "text/plain": [
       "created_at                object\n",
       "hashtags                  object\n",
       "text                      object\n",
       "favorite_count            object\n",
       "lang                      object\n",
       "place                     object\n",
       "user_location             object\n",
       "retweet_count             object\n",
       "date              datetime64[ns]\n",
       "dtype: object"
      ]
     },
     "execution_count": 26,
     "metadata": {},
     "output_type": "execute_result"
    }
   ],
   "source": [
    "df.dtypes"
   ]
  },
  {
   "cell_type": "code",
   "execution_count": null,
   "metadata": {},
   "outputs": [],
   "source": []
  },
  {
   "cell_type": "code",
   "execution_count": 28,
   "metadata": {},
   "outputs": [],
   "source": [
    "pd.set_option('display.height', 1000)\n",
    "pd.set_option('display.max_rows', 500)\n",
    "pd.set_option('display.max_columns', 500)\n",
    "pd.set_option('display.width', 1000)"
   ]
  },
  {
   "cell_type": "code",
   "execution_count": 29,
   "metadata": {},
   "outputs": [
    {
     "data": {
      "text/html": [
       "<div>\n",
       "<style scoped>\n",
       "    .dataframe tbody tr th:only-of-type {\n",
       "        vertical-align: middle;\n",
       "    }\n",
       "\n",
       "    .dataframe tbody tr th {\n",
       "        vertical-align: top;\n",
       "    }\n",
       "\n",
       "    .dataframe thead th {\n",
       "        text-align: right;\n",
       "    }\n",
       "</style>\n",
       "<table border=\"1\" class=\"dataframe\">\n",
       "  <thead>\n",
       "    <tr style=\"text-align: right;\">\n",
       "      <th></th>\n",
       "      <th>created_at</th>\n",
       "      <th>hashtags</th>\n",
       "      <th>text</th>\n",
       "      <th>favorite_count</th>\n",
       "      <th>lang</th>\n",
       "      <th>place</th>\n",
       "      <th>user_location</th>\n",
       "      <th>retweet_count</th>\n",
       "      <th>date</th>\n",
       "    </tr>\n",
       "  </thead>\n",
       "  <tbody>\n",
       "    <tr>\n",
       "      <th>0</th>\n",
       "      <td>Thu Aug 17 23:46:00 +0000 2017</td>\n",
       "      <td>WITBragDay</td>\n",
       "      <td>RT @alicegoldfuss: So happy to hear women gett...</td>\n",
       "      <td>0</td>\n",
       "      <td>en</td>\n",
       "      <td>NaN</td>\n",
       "      <td>San Francisco</td>\n",
       "      <td>25</td>\n",
       "      <td>2017-08-17 23:46:00</td>\n",
       "    </tr>\n",
       "    <tr>\n",
       "      <th>1</th>\n",
       "      <td>Sun Aug 13 08:31:30 +0000 2017</td>\n",
       "      <td>NaN</td>\n",
       "      <td>RT @jewree: Every time you write email in Gmai...</td>\n",
       "      <td>0</td>\n",
       "      <td>en</td>\n",
       "      <td>NaN</td>\n",
       "      <td>NaN</td>\n",
       "      <td>8475</td>\n",
       "      <td>2017-08-13 08:31:30</td>\n",
       "    </tr>\n",
       "    <tr>\n",
       "      <th>2</th>\n",
       "      <td>Thu Aug 17 22:12:33 +0000 2017</td>\n",
       "      <td>NaN</td>\n",
       "      <td>RT @jewree: Every time you write email in Gmai...</td>\n",
       "      <td>0</td>\n",
       "      <td>en</td>\n",
       "      <td>NaN</td>\n",
       "      <td>London, England</td>\n",
       "      <td>8475</td>\n",
       "      <td>2017-08-17 22:12:33</td>\n",
       "    </tr>\n",
       "    <tr>\n",
       "      <th>3</th>\n",
       "      <td>Thu Aug 17 23:23:29 +0000 2017</td>\n",
       "      <td>WITBragDay</td>\n",
       "      <td>RT @alicegoldfuss: Recruiters should definitel...</td>\n",
       "      <td>0</td>\n",
       "      <td>en</td>\n",
       "      <td>NaN</td>\n",
       "      <td>NaN</td>\n",
       "      <td>76</td>\n",
       "      <td>2017-08-17 23:23:29</td>\n",
       "    </tr>\n",
       "    <tr>\n",
       "      <th>4</th>\n",
       "      <td>Thu Aug 17 21:52:20 +0000 2017</td>\n",
       "      <td>NaN</td>\n",
       "      <td>RT @jewree: Every time you write email in Gmai...</td>\n",
       "      <td>0</td>\n",
       "      <td>en</td>\n",
       "      <td>NaN</td>\n",
       "      <td>London, England</td>\n",
       "      <td>8475</td>\n",
       "      <td>2017-08-17 21:52:20</td>\n",
       "    </tr>\n",
       "  </tbody>\n",
       "</table>\n",
       "</div>"
      ],
      "text/plain": [
       "                       created_at    hashtags                                               text favorite_count lang place    user_location retweet_count                date\n",
       "0  Thu Aug 17 23:46:00 +0000 2017  WITBragDay  RT @alicegoldfuss: So happy to hear women gett...              0   en   NaN    San Francisco            25 2017-08-17 23:46:00\n",
       "1  Sun Aug 13 08:31:30 +0000 2017         NaN  RT @jewree: Every time you write email in Gmai...              0   en   NaN              NaN          8475 2017-08-13 08:31:30\n",
       "2  Thu Aug 17 22:12:33 +0000 2017         NaN  RT @jewree: Every time you write email in Gmai...              0   en   NaN  London, England          8475 2017-08-17 22:12:33\n",
       "3  Thu Aug 17 23:23:29 +0000 2017  WITBragDay  RT @alicegoldfuss: Recruiters should definitel...              0   en   NaN              NaN            76 2017-08-17 23:23:29\n",
       "4  Thu Aug 17 21:52:20 +0000 2017         NaN  RT @jewree: Every time you write email in Gmai...              0   en   NaN  London, England          8475 2017-08-17 21:52:20"
      ]
     },
     "execution_count": 29,
     "metadata": {},
     "output_type": "execute_result"
    }
   ],
   "source": [
    "df.head(5)"
   ]
  },
  {
   "cell_type": "code",
   "execution_count": 36,
   "metadata": {},
   "outputs": [],
   "source": [
    "# Changing the settings of pd to view all the tweet's text\n",
    "pd.set_option('display.max_colwidth', -1)"
   ]
  },
  {
   "cell_type": "code",
   "execution_count": 37,
   "metadata": {},
   "outputs": [
    {
     "data": {
      "text/plain": [
       "0    RT @alicegoldfuss: So happy to hear women getting recruiter pings after #WITBragDay :D                                                    \n",
       "1    RT @jewree: Every time you write email in Gmail, you are using my code. I wrote it 10+ years ago as my first\"real\" job, not replaced yet.…\n",
       "2    RT @jewree: Every time you write email in Gmail, you are using my code. I wrote it 10+ years ago as my first\"real\" job, not replaced yet.…\n",
       "3    RT @alicegoldfuss: Recruiters should definitely be scrolling through #WITBragDay for their lists. Tons of awesome talent in there.        \n",
       "4    RT @jewree: Every time you write email in Gmail, you are using my code. I wrote it 10+ years ago as my first\"real\" job, not replaced yet.…\n",
       "Name: text, dtype: object"
      ]
     },
     "execution_count": 37,
     "metadata": {},
     "output_type": "execute_result"
    }
   ],
   "source": [
    "df.head(5).text"
   ]
  },
  {
   "cell_type": "code",
   "execution_count": 39,
   "metadata": {},
   "outputs": [
    {
     "data": {
      "text/plain": [
       "['RT',\n",
       " '@',\n",
       " 'alicegoldfuss',\n",
       " ':',\n",
       " 'So',\n",
       " 'happy',\n",
       " 'to',\n",
       " 'hear',\n",
       " 'women',\n",
       " 'getting',\n",
       " 'recruiter',\n",
       " 'pings',\n",
       " 'after',\n",
       " '#',\n",
       " 'WITBragDay',\n",
       " ':',\n",
       " 'D']"
      ]
     },
     "execution_count": 39,
     "metadata": {},
     "output_type": "execute_result"
    }
   ],
   "source": [
    "#testing tokenization\n",
    "from nltk.tokenize import word_tokenize\n",
    "test_tweet = 'RT @alicegoldfuss: So happy to hear women getting recruiter pings after #WITBragDay :D'\n",
    "word_tokenize(test_tweet)\n",
    "# Note is punkt is not installed just use the terminal to download it "
   ]
  },
  {
   "cell_type": "code",
   "execution_count": null,
   "metadata": {},
   "outputs": [],
   "source": []
  }
 ],
 "metadata": {
  "celltoolbar": "Raw Cell Format",
  "kernelspec": {
   "display_name": "Python 2",
   "language": "python",
   "name": "python2"
  },
  "language_info": {
   "codemirror_mode": {
    "name": "ipython",
    "version": 2
   },
   "file_extension": ".py",
   "mimetype": "text/x-python",
   "name": "python",
   "nbconvert_exporter": "python",
   "pygments_lexer": "ipython2",
   "version": "2.7.14"
  }
 },
 "nbformat": 4,
 "nbformat_minor": 2
}
