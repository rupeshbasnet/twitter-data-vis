{
 "cells": [
  {
   "cell_type": "code",
   "execution_count": 23,
   "metadata": {},
   "outputs": [],
   "source": [
    "# Created By Rupesh Basnet\n",
    "# Testing out some pre-existing resources for pre-processing the tweets for WITBragDay as a framework for other \n",
    "# past events\n",
    "# coding: utf-8"
   ]
  },
  {
   "cell_type": "code",
   "execution_count": 24,
   "metadata": {},
   "outputs": [],
   "source": [
    "import csv\n",
    "import nltk\n",
    "import pandas as pd"
   ]
  },
  {
   "cell_type": "code",
   "execution_count": 34,
   "metadata": {},
   "outputs": [],
   "source": [
    "data = pd.read_csv(\"WITBragDay.csv\", sep=',', error_bad_lines=False, index_col=False, dtype='unicode')"
   ]
  },
  {
   "cell_type": "code",
   "execution_count": 36,
   "metadata": {},
   "outputs": [
    {
     "data": {
      "text/plain": [
       "Index([u'coordinates', u'created_at', u'hashtags', u'media', u'urls',\n",
       "       u'favorite_count', u'id', u'in_reply_to_screen_name',\n",
       "       u'in_reply_to_status_id', u'in_reply_to_user_id', u'lang', u'place',\n",
       "       u'possibly_sensitive', u'retweet_count', u'reweet_id',\n",
       "       u'retweet_screen_name', u'source', u'text', u'tweet_url',\n",
       "       u'user_created_at', u'user_screen_name', u'user_default_profile_image',\n",
       "       u'user_description', u'user_favourites_count', u'user_followers_count',\n",
       "       u'user_friends_count', u'user_listed_count', u'user_location',\n",
       "       u'user_name', u'user_screen_name.1', u'user_statuses_count',\n",
       "       u'user_time_zone', u'user_urls', u'user_verified'],\n",
       "      dtype='object')"
      ]
     },
     "execution_count": 36,
     "metadata": {},
     "output_type": "execute_result"
    }
   ],
   "source": [
    "# Viewing the top 5 data\n",
    "data.head(5)\n",
    "data.columns"
   ]
  },
  {
   "cell_type": "code",
   "execution_count": 39,
   "metadata": {},
   "outputs": [
    {
     "data": {
      "text/html": [
       "<div>\n",
       "<style scoped>\n",
       "    .dataframe tbody tr th:only-of-type {\n",
       "        vertical-align: middle;\n",
       "    }\n",
       "\n",
       "    .dataframe tbody tr th {\n",
       "        vertical-align: top;\n",
       "    }\n",
       "\n",
       "    .dataframe thead th {\n",
       "        text-align: right;\n",
       "    }\n",
       "</style>\n",
       "<table border=\"1\" class=\"dataframe\">\n",
       "  <thead>\n",
       "    <tr style=\"text-align: right;\">\n",
       "      <th></th>\n",
       "      <th>coordinates</th>\n",
       "      <th>created_at</th>\n",
       "      <th>hashtags</th>\n",
       "      <th>media</th>\n",
       "      <th>urls</th>\n",
       "      <th>favorite_count</th>\n",
       "      <th>id</th>\n",
       "      <th>in_reply_to_screen_name</th>\n",
       "      <th>in_reply_to_status_id</th>\n",
       "      <th>in_reply_to_user_id</th>\n",
       "      <th>lang</th>\n",
       "      <th>place</th>\n",
       "      <th>possibly_sensitive</th>\n",
       "      <th>retweet_count</th>\n",
       "      <th>reweet_id</th>\n",
       "      <th>retweet_screen_name</th>\n",
       "      <th>source</th>\n",
       "      <th>text</th>\n",
       "      <th>tweet_url</th>\n",
       "      <th>user_created_at</th>\n",
       "      <th>user_screen_name</th>\n",
       "      <th>user_default_profile_image</th>\n",
       "      <th>user_description</th>\n",
       "      <th>user_favourites_count</th>\n",
       "      <th>user_followers_count</th>\n",
       "      <th>user_friends_count</th>\n",
       "      <th>user_listed_count</th>\n",
       "      <th>user_location</th>\n",
       "      <th>user_name</th>\n",
       "      <th>user_screen_name.1</th>\n",
       "      <th>user_statuses_count</th>\n",
       "      <th>user_time_zone</th>\n",
       "      <th>user_urls</th>\n",
       "      <th>user_verified</th>\n",
       "    </tr>\n",
       "  </thead>\n",
       "  <tbody>\n",
       "    <tr>\n",
       "      <th>0</th>\n",
       "      <td>NaN</td>\n",
       "      <td>Thu Aug 17 23:46:00 +0000 2017</td>\n",
       "      <td>WITBragDay</td>\n",
       "      <td>NaN</td>\n",
       "      <td>NaN</td>\n",
       "      <td>0</td>\n",
       "      <td>898330098876661760</td>\n",
       "      <td>NaN</td>\n",
       "      <td>NaN</td>\n",
       "      <td>NaN</td>\n",
       "      <td>en</td>\n",
       "      <td>NaN</td>\n",
       "      <td>NaN</td>\n",
       "      <td>25</td>\n",
       "      <td>898323470336970754</td>\n",
       "      <td>alicegoldfuss</td>\n",
       "      <td>&lt;a href=\"http://twitter.com/download/android\" ...</td>\n",
       "      <td>RT @alicegoldfuss: So happy to hear women gett...</td>\n",
       "      <td>https://twitter.com/cczona/status/898330098876...</td>\n",
       "      <td>Tue May 12 22:43:16 +0000 2009</td>\n",
       "      <td>cczona</td>\n",
       "      <td>false</td>\n",
       "      <td>Dev advocate, speaker, educator. @CallbackWome...</td>\n",
       "      <td>9223</td>\n",
       "      <td>5277</td>\n",
       "      <td>1006</td>\n",
       "      <td>509</td>\n",
       "      <td>San Francisco</td>\n",
       "      <td>Carina C. Zona</td>\n",
       "      <td>cczona</td>\n",
       "      <td>69411</td>\n",
       "      <td>NaN</td>\n",
       "      <td>http://patreon.com/cczona</td>\n",
       "      <td>false</td>\n",
       "    </tr>\n",
       "    <tr>\n",
       "      <th>1</th>\n",
       "      <td>NaN</td>\n",
       "      <td>Sun Aug 13 08:31:30 +0000 2017</td>\n",
       "      <td>NaN</td>\n",
       "      <td>NaN</td>\n",
       "      <td>NaN</td>\n",
       "      <td>0</td>\n",
       "      <td>896650407942008832</td>\n",
       "      <td>NaN</td>\n",
       "      <td>NaN</td>\n",
       "      <td>NaN</td>\n",
       "      <td>en</td>\n",
       "      <td>NaN</td>\n",
       "      <td>NaN</td>\n",
       "      <td>8475</td>\n",
       "      <td>896220601089613825</td>\n",
       "      <td>jewree</td>\n",
       "      <td>&lt;a href=\"http://twitter.com/download/android\" ...</td>\n",
       "      <td>RT @jewree: Every time you write email in Gmai...</td>\n",
       "      <td>https://twitter.com/pahareya/status/8966504079...</td>\n",
       "      <td>Wed Dec 01 15:45:12 +0000 2010</td>\n",
       "      <td>pahareya</td>\n",
       "      <td>false</td>\n",
       "      <td>NaN</td>\n",
       "      <td>6322</td>\n",
       "      <td>168</td>\n",
       "      <td>341</td>\n",
       "      <td>2</td>\n",
       "      <td>NaN</td>\n",
       "      <td>lowkey☠️</td>\n",
       "      <td>pahareya</td>\n",
       "      <td>12512</td>\n",
       "      <td>NaN</td>\n",
       "      <td>NaN</td>\n",
       "      <td>false</td>\n",
       "    </tr>\n",
       "    <tr>\n",
       "      <th>2</th>\n",
       "      <td>NaN</td>\n",
       "      <td>Thu Aug 17 22:12:33 +0000 2017</td>\n",
       "      <td>NaN</td>\n",
       "      <td>NaN</td>\n",
       "      <td>NaN</td>\n",
       "      <td>0</td>\n",
       "      <td>898306582819160064</td>\n",
       "      <td>NaN</td>\n",
       "      <td>NaN</td>\n",
       "      <td>NaN</td>\n",
       "      <td>en</td>\n",
       "      <td>NaN</td>\n",
       "      <td>NaN</td>\n",
       "      <td>8475</td>\n",
       "      <td>896220601089613825</td>\n",
       "      <td>jewree</td>\n",
       "      <td>&lt;a href=\"http://twitter.com/download/iphone\" r...</td>\n",
       "      <td>RT @jewree: Every time you write email in Gmai...</td>\n",
       "      <td>https://twitter.com/ashiesdollparts/status/898...</td>\n",
       "      <td>Sat Feb 13 17:51:21 +0000 2010</td>\n",
       "      <td>ashiesdollparts</td>\n",
       "      <td>false</td>\n",
       "      <td>watching you 🍒 they/them 🍒</td>\n",
       "      <td>8545</td>\n",
       "      <td>296</td>\n",
       "      <td>740</td>\n",
       "      <td>7</td>\n",
       "      <td>London, England</td>\n",
       "      <td>ash</td>\n",
       "      <td>ashiesdollparts</td>\n",
       "      <td>18869</td>\n",
       "      <td>NaN</td>\n",
       "      <td>https://Instagram.com/ashiesdollparts</td>\n",
       "      <td>false</td>\n",
       "    </tr>\n",
       "    <tr>\n",
       "      <th>3</th>\n",
       "      <td>NaN</td>\n",
       "      <td>Thu Aug 17 23:23:29 +0000 2017</td>\n",
       "      <td>WITBragDay</td>\n",
       "      <td>NaN</td>\n",
       "      <td>NaN</td>\n",
       "      <td>0</td>\n",
       "      <td>898324433001103361</td>\n",
       "      <td>NaN</td>\n",
       "      <td>NaN</td>\n",
       "      <td>NaN</td>\n",
       "      <td>en</td>\n",
       "      <td>NaN</td>\n",
       "      <td>NaN</td>\n",
       "      <td>76</td>\n",
       "      <td>898324083523305472</td>\n",
       "      <td>alicegoldfuss</td>\n",
       "      <td>&lt;a href=\"https://mobile.twitter.com\" rel=\"nofo...</td>\n",
       "      <td>RT @alicegoldfuss: Recruiters should definitel...</td>\n",
       "      <td>https://twitter.com/bofh453/status/89832443300...</td>\n",
       "      <td>Mon May 13 07:44:22 +0000 2013</td>\n",
       "      <td>bofh453</td>\n",
       "      <td>false</td>\n",
       "      <td>I largely tweet about: bad code, audio, numeri...</td>\n",
       "      <td>112023</td>\n",
       "      <td>1499</td>\n",
       "      <td>607</td>\n",
       "      <td>83</td>\n",
       "      <td>NaN</td>\n",
       "      <td>Peter Barfuss 𒀱</td>\n",
       "      <td>bofh453</td>\n",
       "      <td>55620</td>\n",
       "      <td>NaN</td>\n",
       "      <td>NaN</td>\n",
       "      <td>false</td>\n",
       "    </tr>\n",
       "    <tr>\n",
       "      <th>4</th>\n",
       "      <td>NaN</td>\n",
       "      <td>Thu Aug 17 21:52:20 +0000 2017</td>\n",
       "      <td>NaN</td>\n",
       "      <td>NaN</td>\n",
       "      <td>NaN</td>\n",
       "      <td>0</td>\n",
       "      <td>898301492423081984</td>\n",
       "      <td>NaN</td>\n",
       "      <td>NaN</td>\n",
       "      <td>NaN</td>\n",
       "      <td>en</td>\n",
       "      <td>NaN</td>\n",
       "      <td>NaN</td>\n",
       "      <td>8475</td>\n",
       "      <td>896220601089613825</td>\n",
       "      <td>jewree</td>\n",
       "      <td>&lt;a href=\"http://twitter.com/download/iphone\" r...</td>\n",
       "      <td>RT @jewree: Every time you write email in Gmai...</td>\n",
       "      <td>https://twitter.com/kimpmurrell/status/8983014...</td>\n",
       "      <td>Mon Feb 09 16:46:25 +0000 2009</td>\n",
       "      <td>kimpmurrell</td>\n",
       "      <td>false</td>\n",
       "      <td>Talking gender equality, health policy and memes</td>\n",
       "      <td>4549</td>\n",
       "      <td>3331</td>\n",
       "      <td>1729</td>\n",
       "      <td>60</td>\n",
       "      <td>London, England</td>\n",
       "      <td>Kimberly M</td>\n",
       "      <td>kimpmurrell</td>\n",
       "      <td>7582</td>\n",
       "      <td>NaN</td>\n",
       "      <td>NaN</td>\n",
       "      <td>false</td>\n",
       "    </tr>\n",
       "  </tbody>\n",
       "</table>\n",
       "</div>"
      ],
      "text/plain": [
       "  coordinates                      created_at    hashtags media urls favorite_count                  id in_reply_to_screen_name in_reply_to_status_id in_reply_to_user_id lang place possibly_sensitive retweet_count           reweet_id retweet_screen_name                                             source                                               text                                          tweet_url                 user_created_at user_screen_name user_default_profile_image                                   user_description user_favourites_count user_followers_count user_friends_count user_listed_count    user_location         user_name user_screen_name.1 user_statuses_count user_time_zone                              user_urls user_verified\n",
       "0         NaN  Thu Aug 17 23:46:00 +0000 2017  WITBragDay   NaN  NaN              0  898330098876661760                     NaN                   NaN                 NaN   en   NaN                NaN            25  898323470336970754       alicegoldfuss  <a href=\"http://twitter.com/download/android\" ...  RT @alicegoldfuss: So happy to hear women gett...  https://twitter.com/cczona/status/898330098876...  Tue May 12 22:43:16 +0000 2009           cczona                      false  Dev advocate, speaker, educator. @CallbackWome...                  9223                 5277               1006               509    San Francisco    Carina C. Zona             cczona               69411            NaN              http://patreon.com/cczona         false\n",
       "1         NaN  Sun Aug 13 08:31:30 +0000 2017         NaN   NaN  NaN              0  896650407942008832                     NaN                   NaN                 NaN   en   NaN                NaN          8475  896220601089613825              jewree  <a href=\"http://twitter.com/download/android\" ...  RT @jewree: Every time you write email in Gmai...  https://twitter.com/pahareya/status/8966504079...  Wed Dec 01 15:45:12 +0000 2010         pahareya                      false                                                NaN                  6322                  168                341                 2              NaN          lowkey☠️           pahareya               12512            NaN                                    NaN         false\n",
       "2         NaN  Thu Aug 17 22:12:33 +0000 2017         NaN   NaN  NaN              0  898306582819160064                     NaN                   NaN                 NaN   en   NaN                NaN          8475  896220601089613825              jewree  <a href=\"http://twitter.com/download/iphone\" r...  RT @jewree: Every time you write email in Gmai...  https://twitter.com/ashiesdollparts/status/898...  Sat Feb 13 17:51:21 +0000 2010  ashiesdollparts                      false                       watching you 🍒 they/them 🍒                  8545                  296                740                 7  London, England               ash    ashiesdollparts               18869            NaN  https://Instagram.com/ashiesdollparts         false\n",
       "3         NaN  Thu Aug 17 23:23:29 +0000 2017  WITBragDay   NaN  NaN              0  898324433001103361                     NaN                   NaN                 NaN   en   NaN                NaN            76  898324083523305472       alicegoldfuss  <a href=\"https://mobile.twitter.com\" rel=\"nofo...  RT @alicegoldfuss: Recruiters should definitel...  https://twitter.com/bofh453/status/89832443300...  Mon May 13 07:44:22 +0000 2013          bofh453                      false  I largely tweet about: bad code, audio, numeri...                112023                 1499                607                83              NaN  Peter Barfuss 𒀱            bofh453               55620            NaN                                    NaN         false\n",
       "4         NaN  Thu Aug 17 21:52:20 +0000 2017         NaN   NaN  NaN              0  898301492423081984                     NaN                   NaN                 NaN   en   NaN                NaN          8475  896220601089613825              jewree  <a href=\"http://twitter.com/download/iphone\" r...  RT @jewree: Every time you write email in Gmai...  https://twitter.com/kimpmurrell/status/8983014...  Mon Feb 09 16:46:25 +0000 2009      kimpmurrell                      false   Talking gender equality, health policy and memes                  4549                 3331               1729                60  London, England        Kimberly M        kimpmurrell                7582            NaN                                    NaN         false"
      ]
     },
     "execution_count": 39,
     "metadata": {},
     "output_type": "execute_result"
    }
   ],
   "source": [
    "data.head(5)"
   ]
  },
  {
   "cell_type": "code",
   "execution_count": 40,
   "metadata": {},
   "outputs": [],
   "source": [
    "non_retweet = data[data['retweet_screen_name'].isnull()]"
   ]
  },
  {
   "cell_type": "code",
   "execution_count": 45,
   "metadata": {},
   "outputs": [
    {
     "data": {
      "text/plain": [
       "(4409, 34)"
      ]
     },
     "execution_count": 45,
     "metadata": {},
     "output_type": "execute_result"
    }
   ],
   "source": [
    "non_retweet.shape"
   ]
  },
  {
   "cell_type": "code",
   "execution_count": 43,
   "metadata": {},
   "outputs": [
    {
     "data": {
      "text/plain": [
       "(29512, 34)"
      ]
     },
     "execution_count": 43,
     "metadata": {},
     "output_type": "execute_result"
    }
   ],
   "source": [
    "data.shape\n",
    "# It looks like alot of the tweets were retweets which would distort the data"
   ]
  },
  {
   "cell_type": "code",
   "execution_count": 47,
   "metadata": {},
   "outputs": [],
   "source": [
    "clean_data = non_retweet.filter(items = [\"created_at\",\"hashtags\",\"text\",\"favorite_count\",\"lang\",\"place\",\"geo\",\"user_location\",\"retweet_count\", \"retweet_screen_name\"])"
   ]
  },
  {
   "cell_type": "code",
   "execution_count": 50,
   "metadata": {},
   "outputs": [
    {
     "data": {
      "text/html": [
       "<div>\n",
       "<style scoped>\n",
       "    .dataframe tbody tr th:only-of-type {\n",
       "        vertical-align: middle;\n",
       "    }\n",
       "\n",
       "    .dataframe tbody tr th {\n",
       "        vertical-align: top;\n",
       "    }\n",
       "\n",
       "    .dataframe thead th {\n",
       "        text-align: right;\n",
       "    }\n",
       "</style>\n",
       "<table border=\"1\" class=\"dataframe\">\n",
       "  <thead>\n",
       "    <tr style=\"text-align: right;\">\n",
       "      <th></th>\n",
       "      <th>created_at</th>\n",
       "      <th>hashtags</th>\n",
       "      <th>text</th>\n",
       "      <th>favorite_count</th>\n",
       "      <th>lang</th>\n",
       "      <th>place</th>\n",
       "      <th>user_location</th>\n",
       "      <th>retweet_count</th>\n",
       "      <th>retweet_screen_name</th>\n",
       "    </tr>\n",
       "  </thead>\n",
       "  <tbody>\n",
       "    <tr>\n",
       "      <th>8</th>\n",
       "      <td>Sun Aug 13 08:32:29 +0000 2017</td>\n",
       "      <td>women WITBragDay</td>\n",
       "      <td>3 degrees in building industry and they reject...</td>\n",
       "      <td>9</td>\n",
       "      <td>en</td>\n",
       "      <td>NaN</td>\n",
       "      <td>Wroclaw, Poland</td>\n",
       "      <td>2</td>\n",
       "      <td>NaN</td>\n",
       "    </tr>\n",
       "    <tr>\n",
       "      <th>13</th>\n",
       "      <td>Thu Aug 17 23:34:25 +0000 2017</td>\n",
       "      <td>WITBragDay</td>\n",
       "      <td>@azimman @LaunchDarkly sounds like you should ...</td>\n",
       "      <td>1</td>\n",
       "      <td>en</td>\n",
       "      <td>NaN</td>\n",
       "      <td>/usr/local/sin</td>\n",
       "      <td>0</td>\n",
       "      <td>NaN</td>\n",
       "    </tr>\n",
       "    <tr>\n",
       "      <th>16</th>\n",
       "      <td>Thu Aug 17 22:15:48 +0000 2017</td>\n",
       "      <td>WITBragDay</td>\n",
       "      <td>My coding knowledge makes a difference and imp...</td>\n",
       "      <td>6</td>\n",
       "      <td>en</td>\n",
       "      <td>NaN</td>\n",
       "      <td>Zionsville, IN</td>\n",
       "      <td>2</td>\n",
       "      <td>NaN</td>\n",
       "    </tr>\n",
       "    <tr>\n",
       "      <th>44</th>\n",
       "      <td>Thu Aug 17 23:25:01 +0000 2017</td>\n",
       "      <td>WITBragDay</td>\n",
       "      <td>Built a ECS JSON-generating container definiti...</td>\n",
       "      <td>3</td>\n",
       "      <td>en</td>\n",
       "      <td>NaN</td>\n",
       "      <td>Wellington, New Zealand</td>\n",
       "      <td>2</td>\n",
       "      <td>NaN</td>\n",
       "    </tr>\n",
       "    <tr>\n",
       "      <th>46</th>\n",
       "      <td>Thu Aug 17 23:22:06 +0000 2017</td>\n",
       "      <td>WITBragDay</td>\n",
       "      <td>Recruiters should definitely be scrolling thro...</td>\n",
       "      <td>203</td>\n",
       "      <td>en</td>\n",
       "      <td>NaN</td>\n",
       "      <td>/usr/local/sin</td>\n",
       "      <td>76</td>\n",
       "      <td>NaN</td>\n",
       "    </tr>\n",
       "  </tbody>\n",
       "</table>\n",
       "</div>"
      ],
      "text/plain": [
       "                        created_at          hashtags                                               text favorite_count lang place             user_location retweet_count retweet_screen_name\n",
       "8   Sun Aug 13 08:32:29 +0000 2017  women WITBragDay  3 degrees in building industry and they reject...              9   en   NaN           Wroclaw, Poland             2                 NaN\n",
       "13  Thu Aug 17 23:34:25 +0000 2017        WITBragDay  @azimman @LaunchDarkly sounds like you should ...              1   en   NaN            /usr/local/sin             0                 NaN\n",
       "16  Thu Aug 17 22:15:48 +0000 2017        WITBragDay  My coding knowledge makes a difference and imp...              6   en   NaN            Zionsville, IN             2                 NaN\n",
       "44  Thu Aug 17 23:25:01 +0000 2017        WITBragDay  Built a ECS JSON-generating container definiti...              3   en   NaN  Wellington, New Zealand              2                 NaN\n",
       "46  Thu Aug 17 23:22:06 +0000 2017        WITBragDay  Recruiters should definitely be scrolling thro...            203   en   NaN            /usr/local/sin            76                 NaN"
      ]
     },
     "execution_count": 50,
     "metadata": {},
     "output_type": "execute_result"
    }
   ],
   "source": [
    "clean_data.head(5)"
   ]
  },
  {
   "cell_type": "code",
   "execution_count": 51,
   "metadata": {},
   "outputs": [],
   "source": [
    "df = clean_data"
   ]
  },
  {
   "cell_type": "code",
   "execution_count": 52,
   "metadata": {},
   "outputs": [
    {
     "data": {
      "text/plain": [
       "Index([u'created_at', u'hashtags', u'text', u'favorite_count', u'lang', u'place', u'user_location', u'retweet_count', u'retweet_screen_name'], dtype='object')"
      ]
     },
     "execution_count": 52,
     "metadata": {},
     "output_type": "execute_result"
    }
   ],
   "source": [
    "df.columns"
   ]
  },
  {
   "cell_type": "code",
   "execution_count": 53,
   "metadata": {},
   "outputs": [
    {
     "data": {
      "text/plain": [
       "created_at             object\n",
       "hashtags               object\n",
       "text                   object\n",
       "favorite_count         object\n",
       "lang                   object\n",
       "place                  object\n",
       "user_location          object\n",
       "retweet_count          object\n",
       "retweet_screen_name    object\n",
       "dtype: object"
      ]
     },
     "execution_count": 53,
     "metadata": {},
     "output_type": "execute_result"
    }
   ],
   "source": [
    "df.dtypes"
   ]
  },
  {
   "cell_type": "code",
   "execution_count": 54,
   "metadata": {},
   "outputs": [],
   "source": [
    "# We will have to convert the object created_at into a datetime for now\n",
    "test = pd.to_datetime('Thu Aug 17 23:46:00 +0000 2017', format='%a %b %d %H:%M:%S +0000 %Y')\n",
    "# Still kept the original created_at date for later modification\n",
    "df['date'] = pd.to_datetime(df['created_at'], format='%a %b %d %H:%M:%S +0000 %Y')"
   ]
  },
  {
   "cell_type": "code",
   "execution_count": 55,
   "metadata": {},
   "outputs": [
    {
     "data": {
      "text/plain": [
       "created_at                     object\n",
       "hashtags                       object\n",
       "text                           object\n",
       "favorite_count                 object\n",
       "lang                           object\n",
       "place                          object\n",
       "user_location                  object\n",
       "retweet_count                  object\n",
       "retweet_screen_name            object\n",
       "date                   datetime64[ns]\n",
       "dtype: object"
      ]
     },
     "execution_count": 55,
     "metadata": {},
     "output_type": "execute_result"
    }
   ],
   "source": [
    "df.dtypes"
   ]
  },
  {
   "cell_type": "code",
   "execution_count": null,
   "metadata": {},
   "outputs": [],
   "source": []
  },
  {
   "cell_type": "code",
   "execution_count": 56,
   "metadata": {},
   "outputs": [],
   "source": [
    "pd.set_option('display.height', 1000)\n",
    "pd.set_option('display.max_rows', 500)\n",
    "pd.set_option('display.max_columns', 500)\n",
    "pd.set_option('display.width', 1000)"
   ]
  },
  {
   "cell_type": "code",
   "execution_count": 57,
   "metadata": {},
   "outputs": [
    {
     "data": {
      "text/html": [
       "<div>\n",
       "<style scoped>\n",
       "    .dataframe tbody tr th:only-of-type {\n",
       "        vertical-align: middle;\n",
       "    }\n",
       "\n",
       "    .dataframe tbody tr th {\n",
       "        vertical-align: top;\n",
       "    }\n",
       "\n",
       "    .dataframe thead th {\n",
       "        text-align: right;\n",
       "    }\n",
       "</style>\n",
       "<table border=\"1\" class=\"dataframe\">\n",
       "  <thead>\n",
       "    <tr style=\"text-align: right;\">\n",
       "      <th></th>\n",
       "      <th>created_at</th>\n",
       "      <th>hashtags</th>\n",
       "      <th>text</th>\n",
       "      <th>favorite_count</th>\n",
       "      <th>lang</th>\n",
       "      <th>place</th>\n",
       "      <th>user_location</th>\n",
       "      <th>retweet_count</th>\n",
       "      <th>retweet_screen_name</th>\n",
       "      <th>date</th>\n",
       "    </tr>\n",
       "  </thead>\n",
       "  <tbody>\n",
       "    <tr>\n",
       "      <th>8</th>\n",
       "      <td>Sun Aug 13 08:32:29 +0000 2017</td>\n",
       "      <td>women WITBragDay</td>\n",
       "      <td>3 degrees in building industry and they reject...</td>\n",
       "      <td>9</td>\n",
       "      <td>en</td>\n",
       "      <td>NaN</td>\n",
       "      <td>Wroclaw, Poland</td>\n",
       "      <td>2</td>\n",
       "      <td>NaN</td>\n",
       "      <td>2017-08-13 08:32:29</td>\n",
       "    </tr>\n",
       "    <tr>\n",
       "      <th>13</th>\n",
       "      <td>Thu Aug 17 23:34:25 +0000 2017</td>\n",
       "      <td>WITBragDay</td>\n",
       "      <td>@azimman @LaunchDarkly sounds like you should ...</td>\n",
       "      <td>1</td>\n",
       "      <td>en</td>\n",
       "      <td>NaN</td>\n",
       "      <td>/usr/local/sin</td>\n",
       "      <td>0</td>\n",
       "      <td>NaN</td>\n",
       "      <td>2017-08-17 23:34:25</td>\n",
       "    </tr>\n",
       "    <tr>\n",
       "      <th>16</th>\n",
       "      <td>Thu Aug 17 22:15:48 +0000 2017</td>\n",
       "      <td>WITBragDay</td>\n",
       "      <td>My coding knowledge makes a difference and imp...</td>\n",
       "      <td>6</td>\n",
       "      <td>en</td>\n",
       "      <td>NaN</td>\n",
       "      <td>Zionsville, IN</td>\n",
       "      <td>2</td>\n",
       "      <td>NaN</td>\n",
       "      <td>2017-08-17 22:15:48</td>\n",
       "    </tr>\n",
       "    <tr>\n",
       "      <th>44</th>\n",
       "      <td>Thu Aug 17 23:25:01 +0000 2017</td>\n",
       "      <td>WITBragDay</td>\n",
       "      <td>Built a ECS JSON-generating container definiti...</td>\n",
       "      <td>3</td>\n",
       "      <td>en</td>\n",
       "      <td>NaN</td>\n",
       "      <td>Wellington, New Zealand</td>\n",
       "      <td>2</td>\n",
       "      <td>NaN</td>\n",
       "      <td>2017-08-17 23:25:01</td>\n",
       "    </tr>\n",
       "    <tr>\n",
       "      <th>46</th>\n",
       "      <td>Thu Aug 17 23:22:06 +0000 2017</td>\n",
       "      <td>WITBragDay</td>\n",
       "      <td>Recruiters should definitely be scrolling thro...</td>\n",
       "      <td>203</td>\n",
       "      <td>en</td>\n",
       "      <td>NaN</td>\n",
       "      <td>/usr/local/sin</td>\n",
       "      <td>76</td>\n",
       "      <td>NaN</td>\n",
       "      <td>2017-08-17 23:22:06</td>\n",
       "    </tr>\n",
       "  </tbody>\n",
       "</table>\n",
       "</div>"
      ],
      "text/plain": [
       "                        created_at          hashtags                                               text favorite_count lang place             user_location retweet_count retweet_screen_name                date\n",
       "8   Sun Aug 13 08:32:29 +0000 2017  women WITBragDay  3 degrees in building industry and they reject...              9   en   NaN           Wroclaw, Poland             2                 NaN 2017-08-13 08:32:29\n",
       "13  Thu Aug 17 23:34:25 +0000 2017        WITBragDay  @azimman @LaunchDarkly sounds like you should ...              1   en   NaN            /usr/local/sin             0                 NaN 2017-08-17 23:34:25\n",
       "16  Thu Aug 17 22:15:48 +0000 2017        WITBragDay  My coding knowledge makes a difference and imp...              6   en   NaN            Zionsville, IN             2                 NaN 2017-08-17 22:15:48\n",
       "44  Thu Aug 17 23:25:01 +0000 2017        WITBragDay  Built a ECS JSON-generating container definiti...              3   en   NaN  Wellington, New Zealand              2                 NaN 2017-08-17 23:25:01\n",
       "46  Thu Aug 17 23:22:06 +0000 2017        WITBragDay  Recruiters should definitely be scrolling thro...            203   en   NaN            /usr/local/sin            76                 NaN 2017-08-17 23:22:06"
      ]
     },
     "execution_count": 57,
     "metadata": {},
     "output_type": "execute_result"
    }
   ],
   "source": [
    "df.head(5)"
   ]
  },
  {
   "cell_type": "code",
   "execution_count": 58,
   "metadata": {},
   "outputs": [],
   "source": [
    "# Changing the settings of pd to view all the tweet's text\n",
    "pd.set_option('display.max_colwidth', -1)"
   ]
  },
  {
   "cell_type": "code",
   "execution_count": 59,
   "metadata": {},
   "outputs": [
    {
     "data": {
      "text/plain": [
       "8     3 degrees in building industry and they rejected me because #women. IT industry welcomed me with open arms. Not a single regret #WITBragDay\n",
       "13    @azimman @LaunchDarkly sounds like you should look at the #WITBragDay tag :P                                                               \n",
       "16    My coding knowledge makes a difference and improves the lives of my coworkers and our customers. And it's the coolest feeling. #WITBragDay \n",
       "44    Built a ECS JSON-generating container definition module entirely in Terraform, because why would you not. #WITBragDay                      \n",
       "46    Recruiters should definitely be scrolling through #WITBragDay for their lists. Tons of awesome talent in there.                            \n",
       "Name: text, dtype: object"
      ]
     },
     "execution_count": 59,
     "metadata": {},
     "output_type": "execute_result"
    }
   ],
   "source": [
    "df.head(5).text"
   ]
  },
  {
   "cell_type": "code",
   "execution_count": 60,
   "metadata": {},
   "outputs": [],
   "source": [
    "df.to_csv('WITBrag_Clean_Noretweets.csv')"
   ]
  },
  {
   "cell_type": "code",
   "execution_count": 61,
   "metadata": {},
   "outputs": [],
   "source": [
    "df = pd.read_csv(\"WITBrag_Clean_Noretweets.csv\", sep=',', error_bad_lines=False, index_col=False, dtype='unicode')"
   ]
  },
  {
   "cell_type": "code",
   "execution_count": 62,
   "metadata": {},
   "outputs": [
    {
     "data": {
      "text/plain": [
       "['RT',\n",
       " '@',\n",
       " 'alicegoldfuss',\n",
       " ':',\n",
       " 'So',\n",
       " 'happy',\n",
       " 'to',\n",
       " 'hear',\n",
       " 'women',\n",
       " 'getting',\n",
       " 'recruiter',\n",
       " 'pings',\n",
       " 'after',\n",
       " '#',\n",
       " 'WITBragDay',\n",
       " ':',\n",
       " 'D']"
      ]
     },
     "execution_count": 62,
     "metadata": {},
     "output_type": "execute_result"
    }
   ],
   "source": [
    "#testing tokenization\n",
    "from nltk.tokenize import word_tokenize\n",
    "test_tweet = 'RT @alicegoldfuss: So happy to hear women getting recruiter pings after #WITBragDay :D'\n",
    "word_tokenize(test_tweet)\n",
    "# Note is punkt is not installed just use the terminal to download it "
   ]
  },
  {
   "cell_type": "code",
   "execution_count": 63,
   "metadata": {},
   "outputs": [
    {
     "name": "stdout",
     "output_type": "stream",
     "text": [
      "['RT', '@alicegoldfuss', ':', 'So', 'happy', 'to', 'hear', 'women', 'getting', 'recruiter', 'pings', 'after', '#WITBragDay', ':D']\n"
     ]
    }
   ],
   "source": [
    "# Emojis and mentions and hashtags are being tokenized\n",
    "# Taken from a blog https://marcobonzanini.com/2015/03/09/mining-twitter-data-with-python-part-2/\n",
    "import re\n",
    "\n",
    "emoticons_str = r\"\"\"\n",
    "    (?:\n",
    "        [:=;] # Eyes\n",
    "        [oO\\-]? # Nose (optional)\n",
    "        [D\\)\\]\\(\\]/\\\\OpP] # Mouth\n",
    "    )\"\"\"\n",
    " \n",
    "regex_str = [\n",
    "    emoticons_str,\n",
    "    r'<[^>]+>', # HTML tags\n",
    "    r'(?:@[\\w_]+)', # @-mentions\n",
    "    r\"(?:\\#+[\\w_]+[\\w\\'_\\-]*[\\w_]+)\", # hash-tags\n",
    "    r'http[s]?://(?:[a-z]|[0-9]|[$-_@.&amp;+]|[!*\\(\\),]|(?:%[0-9a-f][0-9a-f]))+', # URLs\n",
    " \n",
    "    r'(?:(?:\\d+,?)+(?:\\.?\\d+)?)', # numbers\n",
    "    r\"(?:[a-z][a-z'\\-_]+[a-z])\", # words with - and '\n",
    "    r'(?:[\\w_]+)', # other words\n",
    "    r'(?:\\S)' # anything else\n",
    "]\n",
    "    \n",
    "tokens_re = re.compile(r'('+'|'.join(regex_str)+')', re.VERBOSE | re.IGNORECASE)\n",
    "emoticon_re = re.compile(r'^'+emoticons_str+'$', re.VERBOSE | re.IGNORECASE)\n",
    " \n",
    "def tokenize(s):\n",
    "    return tokens_re.findall(s)\n",
    " \n",
    "def preprocess(s, lowercase=False):\n",
    "    tokens = tokenize(s)\n",
    "    if lowercase:\n",
    "        tokens = [token if emoticon_re.search(token) else token.lower() for token in tokens]\n",
    "    return tokens\n",
    "\n",
    "test_tweet = 'RT @alicegoldfuss: So happy to hear women getting recruiter pings after #WITBragDay :D'\n",
    "print (preprocess(test_tweet))"
   ]
  },
  {
   "cell_type": "code",
   "execution_count": 64,
   "metadata": {},
   "outputs": [],
   "source": [
    "# Removing all stop words\n",
    "from nltk.corpus import stopwords\n",
    "import string\n",
    "\n",
    "punctuation = list(string.punctuation)\n",
    "stop = stopwords.words('english') + punctuation + ['rt', 'via']"
   ]
  },
  {
   "cell_type": "code",
   "execution_count": 65,
   "metadata": {},
   "outputs": [],
   "source": [
    "import operator \n",
    "from collections import Counter\n",
    "\n",
    "terms_all = [term for term in preprocess('RT @alicegoldfuss: So happy to hear women getting recruiter pings after #WITBragDay :D')]\n",
    "terms_stop = [term for term in preprocess('RT @alicegoldfuss: So happy to hear women getting recruiter pings after #WITBragDay :D') if term not in stop]"
   ]
  },
  {
   "cell_type": "code",
   "execution_count": 66,
   "metadata": {},
   "outputs": [
    {
     "data": {
      "text/plain": [
       "['RT',\n",
       " '@alicegoldfuss',\n",
       " ':',\n",
       " 'So',\n",
       " 'happy',\n",
       " 'to',\n",
       " 'hear',\n",
       " 'women',\n",
       " 'getting',\n",
       " 'recruiter',\n",
       " 'pings',\n",
       " 'after',\n",
       " '#WITBragDay',\n",
       " ':D']"
      ]
     },
     "execution_count": 66,
     "metadata": {},
     "output_type": "execute_result"
    }
   ],
   "source": [
    "terms_all"
   ]
  },
  {
   "cell_type": "code",
   "execution_count": 67,
   "metadata": {},
   "outputs": [
    {
     "data": {
      "text/plain": [
       "['RT',\n",
       " '@alicegoldfuss',\n",
       " 'So',\n",
       " 'happy',\n",
       " 'hear',\n",
       " 'women',\n",
       " 'getting',\n",
       " 'recruiter',\n",
       " 'pings',\n",
       " '#WITBragDay',\n",
       " ':D']"
      ]
     },
     "execution_count": 67,
     "metadata": {},
     "output_type": "execute_result"
    }
   ],
   "source": [
    "terms_stop"
   ]
  },
  {
   "cell_type": "code",
   "execution_count": 68,
   "metadata": {},
   "outputs": [
    {
     "name": "stdout",
     "output_type": "stream",
     "text": [
      "[('.', 2977), ('#WITBragDay', 2530), ('\\x9f', 2158), ('\\xf0', 2141), ('!', 1537)]\n"
     ]
    }
   ],
   "source": [
    "count_all = Counter()\n",
    "for index, row in df.iterrows():     \n",
    "    terms_all = [term for term in preprocess(row['text'])]\n",
    "    # Update the counter\n",
    "    count_all.update(terms_all)\n",
    "print(count_all.most_common(5))"
   ]
  },
  {
   "cell_type": "code",
   "execution_count": null,
   "metadata": {},
   "outputs": [],
   "source": []
  },
  {
   "cell_type": "code",
   "execution_count": 99,
   "metadata": {},
   "outputs": [
    {
     "name": "stderr",
     "output_type": "stream",
     "text": [
      "/anaconda2/lib/python2.7/site-packages/ipykernel_launcher.py:3: UnicodeWarning: Unicode equal comparison failed to convert both arguments to Unicode - interpreting them as being unequal\n",
      "  This is separate from the ipykernel package so we can avoid doing imports until\n"
     ]
    },
    {
     "name": "stdout",
     "output_type": "stream",
     "text": [
      "[('#WITBragDay', 2530), ('\\x9f', 2158), ('\\xf0', 2141), ('I', 1289), ('\\x8f', 840)]\n"
     ]
    }
   ],
   "source": [
    "count_all = Counter()\n",
    "for index, row in df.iterrows():     \n",
    "    terms_stop = [term for term in preprocess(row['text']) if term not in stop and not term.startswith(r\"\\x\")]\n",
    "    # Update the counter\n",
    "    count_all.update(terms_stop)\n",
    "print(count_all.most_common(5))"
   ]
  },
  {
   "cell_type": "code",
   "execution_count": 72,
   "metadata": {},
   "outputs": [],
   "source": [
    "dfr = pd.DataFrame.from_dict(count_all, orient='index')"
   ]
  },
  {
   "cell_type": "code",
   "execution_count": 80,
   "metadata": {},
   "outputs": [],
   "source": [
    "test = Counter(el for el in count_all.items() if count_all[el] >= 2000)"
   ]
  },
  {
   "cell_type": "code",
   "execution_count": 82,
   "metadata": {},
   "outputs": [
    {
     "data": {
      "text/plain": [
       "179"
      ]
     },
     "execution_count": 82,
     "metadata": {},
     "output_type": "execute_result"
    }
   ],
   "source": [
    "count_all['code']"
   ]
  },
  {
   "cell_type": "code",
   "execution_count": 100,
   "metadata": {},
   "outputs": [],
   "source": [
    "dic = dict(count_all)\n",
    "new_dc = dict((k, v) for k, v in dic.items() if not k.startswith(r'\\x'))"
   ]
  },
  {
   "cell_type": "code",
   "execution_count": 101,
   "metadata": {},
   "outputs": [],
   "source": [
    "count_all_clean = Counter(new_dc)"
   ]
  },
  {
   "cell_type": "code",
   "execution_count": 103,
   "metadata": {},
   "outputs": [],
   "source": [
    "for k in dic.keys():\n",
    "  if k.startswith(r'\\x'):\n",
    "    dic.pop(k)"
   ]
  },
  {
   "cell_type": "code",
   "execution_count": 104,
   "metadata": {},
   "outputs": [],
   "source": [
    "count_all_clean = Counter(dic)"
   ]
  },
  {
   "cell_type": "code",
   "execution_count": 105,
   "metadata": {},
   "outputs": [
    {
     "data": {
      "text/plain": [
       "[('#WITBragDay', 2530),\n",
       " ('\\x9f', 2158),\n",
       " ('\\xf0', 2141),\n",
       " ('I', 1289),\n",
       " ('\\x8f', 840)]"
      ]
     },
     "execution_count": 105,
     "metadata": {},
     "output_type": "execute_result"
    }
   ],
   "source": [
    "count_all_clean.most_common(5)"
   ]
  },
  {
   "cell_type": "code",
   "execution_count": null,
   "metadata": {},
   "outputs": [],
   "source": []
  }
 ],
 "metadata": {
  "celltoolbar": "Raw Cell Format",
  "kernelspec": {
   "display_name": "Python 2",
   "language": "python",
   "name": "python2"
  },
  "language_info": {
   "codemirror_mode": {
    "name": "ipython",
    "version": 2
   },
   "file_extension": ".py",
   "mimetype": "text/x-python",
   "name": "python",
   "nbconvert_exporter": "python",
   "pygments_lexer": "ipython2",
   "version": "2.7.14"
  }
 },
 "nbformat": 4,
 "nbformat_minor": 2
}
